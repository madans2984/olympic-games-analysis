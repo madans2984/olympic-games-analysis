{
 "cells": [
  {
   "cell_type": "code",
   "execution_count": null,
   "metadata": {},
   "outputs": [],
   "source": [
    "%load_ext autoreload\n",
    "%autoreload 2"
   ]
  },
  {
   "cell_type": "code",
   "execution_count": 2,
   "metadata": {},
   "outputs": [],
   "source": [
    "import pandas as pd\n",
    "from vis_helpers import *\n",
    "from helpers import *\n",
    "olympics_dataframe = pd.read_csv(\"data/medals_gdp_pop_athletes.csv\")"
   ]
  },
  {
   "cell_type": "code",
   "execution_count": null,
   "metadata": {},
   "outputs": [],
   "source": [
    "od = pivot(olympics_dataframe)\n",
    "oad = average_data(olympics_dataframe)"
   ]
  },
  {
   "cell_type": "code",
   "execution_count": null,
   "metadata": {},
   "outputs": [],
   "source": [
    "# plots of averages\n",
    "average_context_plot(oad)\n",
    "average_medals_plot(oad, \"Average GDP\", \"Average Total\")\n",
    "average_medals_plot(oad, \"Average Pop\", \"Average Total\")\n",
    "average_medals_plot(oad, \"Average Athletes\", \"Average Total\")"
   ]
  },
  {
   "cell_type": "code",
   "execution_count": null,
   "metadata": {},
   "outputs": [],
   "source": [
    "# plots by year\n",
    "context_plot(od)\n",
    "medals_plot(od, \"GDP\", \"Total\")\n",
    "medals_plot(od, \"Pop\", \"Total\")\n",
    "medals_plot(od, \"Athletes\", \"Total\")\n",
    "medals_plot(od, \"GDP\", \"Success Rate\")\n",
    "medals_plot(od, \"Pop\", \"Success Rate\")"
   ]
  },
  {
   "cell_type": "code",
   "execution_count": null,
   "metadata": {},
   "outputs": [],
   "source": [
    "# models of totals\n",
    "model_check(od, \"Total ~ GDP\")\n",
    "model_check(od, \"Total ~ Pop\")\n",
    "model_check(od, \"Total ~ GDP + Pop\")"
   ]
  },
  {
   "cell_type": "code",
   "execution_count": null,
   "metadata": {},
   "outputs": [],
   "source": [
    "# models of averages\n",
    "model_check(oad, \"Q('Average Total') ~ Q('Average GDP')\")\n",
    "model_check(oad, \"Q('Average Total') ~ Q('Average Pop')\")\n",
    "model_check(oad, \"Q('Average Total') ~ Q('Average Pop') + Q('Average GDP')\")"
   ]
  }
 ],
 "metadata": {
  "interpreter": {
   "hash": "215e38ef8319e1cae6b3dde5700c3b8f4291d7f7fc9767af33ad694aef458a78"
  },
  "kernelspec": {
   "display_name": "Python 3 (ipykernel)",
   "language": "python",
   "name": "python3"
  },
  "language_info": {
   "codemirror_mode": {
    "name": "ipython",
    "version": 3
   },
   "file_extension": ".py",
   "mimetype": "text/x-python",
   "name": "python",
   "nbconvert_exporter": "python",
   "pygments_lexer": "ipython3",
   "version": "3.9.7"
  }
 },
 "nbformat": 4,
 "nbformat_minor": 4
}
