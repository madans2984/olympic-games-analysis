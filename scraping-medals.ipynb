{
 "cells": [
  {
   "cell_type": "code",
   "execution_count": 15,
   "metadata": {},
   "outputs": [],
   "source": [
    "import pandas as pd # library for data analysis\n",
    "import requests # library to handle requests\n",
    "from bs4 import BeautifulSoup # library to parse HTML documents\n",
    "# get the response in the form of html\n",
    "def table_scrape(url, index=0):\n",
    "    \"\"\"\n",
    "    url: string of website url\n",
    "    returns dataframe\n",
    "    \"\"\"\n",
    "    wikiurl=url\n",
    "    table_class=\"wikitable sortable jquery-tablesorter\"\n",
    "    response=requests.get(wikiurl)\n",
    "    if response.status_code == 200:\n",
    "        # parse data from the html into a beautifulsoup object\n",
    "        soup = BeautifulSoup(response.text, 'html.parser')\n",
    "        tables=soup.findAll('table',{'class':\"wikitable\"})\n",
    "        df=pd.read_html(str(tables[index]))\n",
    "        # convert list to dataframe\n",
    "        df=pd.DataFrame(df[0])\n",
    "        return df\n",
    "    else:\n",
    "        print(\"Error: This table should not be scraped due to its status code.\")\n",
    "\n",
    "def medal_clean(df, year):\n",
    "    df.rename(columns = {\"Gold\" : f\"Gold-{year}\", \"Silver\" : f\"Silver-{year}\", \"Bronze\" : f\"Bronze-{year}\", \"Total\" : f\"Total-{year}\"}, inplace = True)\n",
    "    df.drop([\"Rank\"], axis = 1, inplace = True)\n",
    "    return df\n",
    "\n"
   ]
  },
  {
   "cell_type": "code",
   "execution_count": 13,
   "metadata": {},
   "outputs": [],
   "source": [
    "gdp_2010 = table_scrape(\"https://en.wikipedia.org/wiki/List_of_countries_by_past_and_projected_GDP_(nominal)_per_capita#IMF_estimates_between_2010_and_2019\", 3)\n",
    "gdp_2000 = table_scrape(\"https://en.wikipedia.org/wiki/List_of_countries_by_past_and_projected_GDP_(nominal)_per_capita#IMF_estimates_between_2010_and_2019\", 2)"
   ]
  },
  {
   "cell_type": "code",
   "execution_count": 16,
   "metadata": {},
   "outputs": [],
   "source": [
    "# Scraping medals tables for summer Olympics from 2004-2016\n",
    "medal_2016 = medal_clean(table_scrape(\"https://en.wikipedia.org/wiki/2016_Summer_Olympics_medal_table\"), \"2016\")\n",
    "\n",
    "medal_2012 = medal_clean(table_scrape(\"https://en.m.wikipedia.org/wiki/2012_Summer_Olympics_medal_table\"), \"2012\")\n",
    "\n",
    "medal_2008 = medal_clean(table_scrape(\"https://en.m.wikipedia.org/wiki/2008_Summer_Olympics_medal_table\"), \"2008\")\n",
    "\n",
    "medal_2004 = medal_clean(table_scrape(\"https://en.m.wikipedia.org/wiki/2004_Summer_Olympics_medal_table\"), \"2004\")\n"
   ]
  },
  {
   "cell_type": "code",
   "execution_count": 17,
   "metadata": {},
   "outputs": [
    {
     "name": "stdout",
     "output_type": "stream",
     "text": [
      "None\n",
      "None\n",
      "None\n",
      "None\n"
     ]
    }
   ],
   "source": [
    "print(medal_2016)\n",
    "print(medal_2012)\n",
    "print(medal_2008)\n",
    "print(medal_2004)"
   ]
  }
 ],
 "metadata": {
  "interpreter": {
   "hash": "215e38ef8319e1cae6b3dde5700c3b8f4291d7f7fc9767af33ad694aef458a78"
  },
  "kernelspec": {
   "display_name": "Python 3.9.7 ('base')",
   "language": "python",
   "name": "python3"
  },
  "language_info": {
   "codemirror_mode": {
    "name": "ipython",
    "version": 3
   },
   "file_extension": ".py",
   "mimetype": "text/x-python",
   "name": "python",
   "nbconvert_exporter": "python",
   "pygments_lexer": "ipython3",
   "version": "3.9.7"
  },
  "orig_nbformat": 4
 },
 "nbformat": 4,
 "nbformat_minor": 2
}
