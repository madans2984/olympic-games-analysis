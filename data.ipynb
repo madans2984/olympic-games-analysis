{
 "cells": [
  {
   "cell_type": "code",
   "execution_count": 1,
   "metadata": {},
   "outputs": [],
   "source": [
    "# Run the code below each time the notebook is started or restarted to ensure\n",
    "# that if you change any code in the library, this notebook will use the latest\n",
    "# version of the library code.\n",
    "%load_ext autoreload\n",
    "%autoreload 2"
   ]
  },
  {
   "cell_type": "code",
   "execution_count": 2,
   "metadata": {},
   "outputs": [],
   "source": [
    "# contains scraping and cleaning functions\n",
    "from helpers import *\n",
    "# setting display settings so that the maximum amount of data will show\n",
    "pd.set_option('display.max_rows', None)\n",
    "pd.set_option('display.max_columns', None)\n",
    "pd.set_option('display.width', None)\n",
    "pd.set_option('display.max_colwidth', None)"
   ]
  },
  {
   "cell_type": "code",
   "execution_count": 15,
   "metadata": {},
   "outputs": [],
   "source": [
    "# scraping population table\n",
    "scrape_population_data(\"population_original.csv\")\n",
    "\n",
    "# population_original = table_scrape(\"https://en.wikipedia.org/wiki/List_of_countries_by_past_and_projected_future_population#Estimates_between_the_years_1985_and_2015_(in_thousands)\", 1)\n",
    "# population_original.to_csv(\"population_original.csv\", index=False)\n"
   ]
  },
  {
   "cell_type": "code",
   "execution_count": 4,
   "metadata": {},
   "outputs": [],
   "source": [
    "population = clean_population_data(\"population_original.csv\")\n",
    "\n",
    "# population = pd.read_csv(\"population_original.csv\")\n",
    "# # dropping unnecessary years\n",
    "# population.drop([\"1985\", \"1990\", \"1995\", \"2000\", \"%\", \"%.1\", \"%.2\", \"%.3\", \"%.4\",\"%.5\", \"%.6\"], axis = 1, inplace = True)\n",
    "# # renaming columns to be associate with the correct olympic years\n",
    "# population.rename(columns = {\"Country (or dependent territory)\":\"Country\", \"2005\" : \"pop-2004\", \"2010\" : \"pop-2008\", \"2015\" : \"pop-2016\"}, inplace = True)\n",
    "# # creating a column for the population in 2012 and duplicating 2008 into it\n",
    "# population['pop-2012'] = population['pop-2008']\n",
    "# # reordering population dataframe to be chronological\n",
    "# population = population[['Country', 'pop-2004', 'pop-2008', 'pop-2012', 'pop-2016']]\n",
    "\n",
    "# population.replace({\"United Kingdom\" : \"Great Britain\"}, inplace = True)\n",
    "# population.replace({\"Taiwan\" : \"Chinese Taipei\"}, inplace = True)\n",
    "\n",
    "# s_m_row = make_sum_row(population, \"Serbia\", \"Montenegro\")\n",
    "# population = population.append(s_m_row, ignore_index=True)"
   ]
  },
  {
   "cell_type": "code",
   "execution_count": 5,
   "metadata": {},
   "outputs": [],
   "source": [
    "# print(population)"
   ]
  },
  {
   "cell_type": "code",
   "execution_count": 6,
   "metadata": {},
   "outputs": [],
   "source": [
    "scrape_gdp_data(\"gdp_original.csv\")\n",
    "\n",
    "# # scraping GDP tables (IMF statistics)\n",
    "# gdp_2000 = table_scrape(\"https://en.wikipedia.org/wiki/List_of_countries_by_past_and_projected_GDP_(PPP)_per_capita\", 2)\n",
    "# gdp_2010 = table_scrape(\"https://en.wikipedia.org/wiki/List_of_countries_by_past_and_projected_GDP_(PPP)_per_capita\", 3)\n",
    "# gdp_original = gdp_2000.merge(gdp_2010,how=\"left\",left_on=\"Country (or dependent territory)\",right_on=\"Country (or dependent territory)\")\n",
    "# gdp_original.to_csv(\"gdp_original.csv\", index=False)"
   ]
  },
  {
   "cell_type": "code",
   "execution_count": 10,
   "metadata": {},
   "outputs": [],
   "source": [
    "gdp_total = clean_gdp_data(\"gdp_original.csv\")\n",
    "\n",
    "# gdp_total = pd.read_csv(\"gdp_original.csv\")\n",
    "\n",
    "# # dropping unnecssary years\n",
    "# gdp_total.drop([\"2000\", \"2001\", \"2002\", \"2003\", \"2005\", \"2006\", \"2007\", \"2009\",\"2010\", \"2011\", \"2013\", \"2014\", \"2015\", \"2017\", \"2018\", \"2019\"], axis = 1, inplace = True)\n",
    "\n",
    "# # renaming to include GDP in all column titles\n",
    "# gdp_total.rename(columns = {\"Country (or dependent territory)\":\"Country\", \"2004\" : \"GDP-2004\", \"2008\" : \"GDP-2008\", \"2012\" : \"GDP-2012\", \"2016\" : \"GDP-2016\"}, inplace = True)\n",
    "\n",
    "# # Rename the UK and Taiwan to the names they compete in the olympics under\n",
    "# gdp_total.replace({\"United Kingdom\" : \"Great Britain\"}, inplace = True)\n",
    "# gdp_total.replace({\"Taiwan\" : \"Chinese Taipei\"}, inplace = True)\n",
    "\n",
    "# # Use the UN's GDP per capita data for Cuba and North Korea\n",
    "# # Source: https://en.wikipedia.org/wiki/List_of_countries_by_past_and_projected_GDP_(nominal)_per_capita#UN_estimates_between_2000_and_2009\n",
    "# cuba_row = {\"Country\":\"Cuba\", \"GDP-2004\":3399, \"GDP-2008\":5386, \"GDP-2012\":6448, \"GDP-2016\":7657}\n",
    "# gdp_total = gdp_total.append(cuba_row, ignore_index=True)\n",
    "# north_korea_row = {\"Country\":\"North Korea\", \"GDP-2004\":473, \"GDP-2008\":551, \"GDP-2012\":643, \"GDP-2016\":642}\n",
    "# gdp_total = gdp_total.append(north_korea_row, ignore_index=True)\n",
    "\n",
    "# serbia_gdp = gdp_total.loc[gdp_total['Country'] == \"Serbia\"]\n",
    "# montenegro_gdp = gdp_total.loc[gdp_total['Country'] == \"Montenegro\"]\n",
    "# s_m_pop = population.loc[population['Country'] == \"Serbia and Montenegro\"]\n",
    "\n",
    "# s_m_row = make_weighted_ave_row(population, gdp_total, \"Serbia\", \"Montenegro\")\n",
    "# gdp_total = gdp_total.append(s_m_row, ignore_index=True)"
   ]
  },
  {
   "cell_type": "code",
   "execution_count": 11,
   "metadata": {},
   "outputs": [
    {
     "name": "stdout",
     "output_type": "stream",
     "text": [
      "    Country  GDP-2004  GDP-2008  GDP-2012  GDP-2016\n",
      "150  Serbia    8853.0   13026.0     13939     15856\n",
      "        Country  GDP-2004  GDP-2008  GDP-2012  GDP-2016\n",
      "116  Montenegro    9776.0   14012.0     13864     18198\n",
      "                   Country  GDP-2004  GDP-2008  GDP-2012  GDP-2016\n",
      "198  Serbia and Montenegro    3932.0    3884.0      4015      3687\n"
     ]
    }
   ],
   "source": [
    "# print(gdp_total)\n",
    "print(gdp_total.loc[gdp_total['Country'] == \"Serbia\"])\n",
    "print(gdp_total.loc[gdp_total['Country'] == \"Montenegro\"])\n",
    "print(gdp_total.loc[gdp_total['Country'] == \"Serbia and Montenegro\"])"
   ]
  },
  {
   "cell_type": "code",
   "execution_count": 12,
   "metadata": {},
   "outputs": [],
   "source": [
    "# Scraping medals tables for summer Olympics from 2004-2016 and renaming host countries to no longer include asterisk\n",
    "medal_2016 = medal_clean(table_scrape(\"https://en.wikipedia.org/wiki/2016_Summer_Olympics_medal_table\"), \"2016\", \"Brazil\")\n",
    "medal_2012 = medal_clean(table_scrape(\"https://en.m.wikipedia.org/wiki/2012_Summer_Olympics_medal_table\"), \"2012\", \"Great Britain\")\n",
    "medal_2008 = medal_clean(table_scrape(\"https://en.m.wikipedia.org/wiki/2008_Summer_Olympics_medal_table\"), \"2008\", \"China\")\n",
    "medal_2004 = medal_clean(table_scrape(\"https://en.m.wikipedia.org/wiki/2004_Summer_Olympics_medal_table\"), \"2004\", \"Greece\")\n",
    "medal_2004.rename(columns = {\"Nation\" : \"NOC\"}, inplace = True)\n",
    "\n",
    "# merging all medals tables to create a total medals data frame\n",
    "medal_total = medal_2012.merge(medal_2008,how=\"outer\",left_on=\"NOC\",right_on=\"NOC\")\n",
    "medal_total = medal_total.merge(medal_2016,how=\"outer\",left_on=\"NOC\",right_on=\"NOC\")\n",
    "medal_total = medal_total.merge(medal_2004,how=\"outer\",left_on=\"NOC\",right_on=\"NOC\")\n",
    "\n",
    "medal_total.to_csv(\"medals_original.csv\", index=False)"
   ]
  },
  {
   "cell_type": "code",
   "execution_count": 13,
   "metadata": {},
   "outputs": [],
   "source": [
    "\n",
    "\n",
    "\n",
    "independents_index = medals.index[medals['NOC'] == \"Independent Olympic Athletes\"].item()\n",
    "medals.drop(independents_index, axis = 0, inplace = True)\n",
    "medals = medals.fillna(0)"
   ]
  },
  {
   "cell_type": "code",
   "execution_count": 14,
   "metadata": {},
   "outputs": [],
   "source": [
    "# merging medals, GDP, and Pop. All based on medals as not all countries compete in the Olympics\n",
    "total = medals.merge(gdp_total,how=\"left\",left_on=\"NOC\",right_on=\"Country\")\n",
    "total = total.merge(population,how=\"left\",left_on=\"NOC\",right_on=\"Country\")\n",
    "total.drop([\"Country_x\",\"Country_y\"], axis = 1, inplace = True)"
   ]
  },
  {
   "cell_type": "code",
   "execution_count": null,
   "metadata": {},
   "outputs": [],
   "source": [
    "# print(total)"
   ]
  },
  {
   "cell_type": "code",
   "execution_count": null,
   "metadata": {},
   "outputs": [],
   "source": [
    "total.to_csv(\"olympic_gdp_population_data.csv\", index=False)"
   ]
  },
  {
   "cell_type": "code",
   "execution_count": null,
   "metadata": {},
   "outputs": [],
   "source": [
    "# test_data = pd.read_csv(\"olympic_gdp_population_data.csv\")\n",
    "# print(test_data)"
   ]
  }
 ],
 "metadata": {
  "interpreter": {
   "hash": "215e38ef8319e1cae6b3dde5700c3b8f4291d7f7fc9767af33ad694aef458a78"
  },
  "kernelspec": {
   "display_name": "Python 3 (ipykernel)",
   "language": "python",
   "name": "python3"
  },
  "language_info": {
   "codemirror_mode": {
    "name": "ipython",
    "version": 3
   },
   "file_extension": ".py",
   "mimetype": "text/x-python",
   "name": "python",
   "nbconvert_exporter": "python",
   "pygments_lexer": "ipython3",
   "version": "3.9.7"
  }
 },
 "nbformat": 4,
 "nbformat_minor": 4
}
