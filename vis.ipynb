{
 "cells": [
  {
   "cell_type": "code",
   "execution_count": null,
   "metadata": {},
   "outputs": [],
   "source": [
    "%load_ext autoreload\n",
    "%autoreload 2"
   ]
  },
  {
   "cell_type": "code",
   "execution_count": null,
   "metadata": {},
   "outputs": [],
   "source": [
    "import pandas as pd\n",
    "from vis_helpers import *\n",
    "import grama as gr\n",
    "from helpers import *\n",
    "olympics_dataframe = pd.read_csv(\"data/olympic_gdp_population_data_no_nans.csv\")"
   ]
  },
  {
   "cell_type": "code",
   "execution_count": null,
   "metadata": {},
   "outputs": [],
   "source": [
    "athletes_2004 = pd.read_csv(\"data/athletes-2004.csv\")\n",
    "athletes_2004.rename(columns = {\"Athletes\" : \"Athletes-2004\"}, inplace = True)\n",
    "athletes_2008 = pd.read_csv(\"data/athletes-2008.csv\")\n",
    "athletes_2008.rename(columns = {\"Athletes\" : \"Athletes-2008\"}, inplace = True)\n",
    "athletes_2012 = pd.read_csv(\"data/athletes-2012.csv\")\n",
    "athletes_2012.rename(columns = {\"Athletes\" : \"Athletes-2012\"}, inplace = True)\n",
    "athletes_2016 = pd.read_csv(\"data/athletes-2016.csv\")\n",
    "athletes_2016.rename(columns = {\"Athletes\" : \"Athletes-2016\"}, inplace = True)\n",
    "\n",
    "olympics_dataframe = olympics_dataframe.merge(athletes_2004, how=\"inner\",left_on=\"Country\", right_on=\"Country\")\n",
    "olympics_dataframe = olympics_dataframe.merge(athletes_2008, how=\"inner\",left_on=\"Country\", right_on=\"Country\")\n",
    "olympics_dataframe = olympics_dataframe.merge(athletes_2012, how=\"inner\",left_on=\"Country\", right_on=\"Country\")\n",
    "olympics_dataframe = olympics_dataframe.merge(athletes_2016, how=\"inner\",left_on=\"Country\", right_on=\"Country\")\n",
    "od = pivot(olympics_dataframe)\n",
    "oad = average_data(olympics_dataframe)"
   ]
  },
  {
   "cell_type": "code",
   "execution_count": null,
   "metadata": {},
   "outputs": [],
   "source": [
    "average_medals_plot(oad, \"Average GDP\", \"Average Total\")"
   ]
  },
  {
   "cell_type": "code",
   "execution_count": null,
   "metadata": {},
   "outputs": [],
   "source": [
    "average_medals_plot(oad, \"Average Pop\", \"Average Total\")"
   ]
  },
  {
   "cell_type": "code",
   "execution_count": null,
   "metadata": {},
   "outputs": [],
   "source": [
    "average_context_plot(oad)"
   ]
  },
  {
   "cell_type": "code",
   "execution_count": null,
   "metadata": {},
   "outputs": [],
   "source": [
    "context_plot(od)"
   ]
  },
  {
   "cell_type": "code",
   "execution_count": null,
   "metadata": {},
   "outputs": [],
   "source": [
    "medals_plot(od, \"GDP\", \"Total\")\n",
    "medals_plot(od, \"Pop\", \"Total\")\n",
    "medals_plot(od, \"Athletes\", \"Total\")"
   ]
  },
  {
   "cell_type": "code",
   "execution_count": null,
   "metadata": {},
   "outputs": [],
   "source": [
    "medals_plot(od, \"GDP\", \"Success Rate\")"
   ]
  },
  {
   "cell_type": "code",
   "execution_count": null,
   "metadata": {},
   "outputs": [],
   "source": [
    "medals_plot(od, \"Pop\", \"Success Rate\")"
   ]
  },
  {
   "cell_type": "code",
   "execution_count": null,
   "metadata": {},
   "outputs": [],
   "source": [
    "average_medals_plot(oad, \"Average Athletes\", \"Average Total\")"
   ]
  }
 ],
 "metadata": {
  "interpreter": {
   "hash": "215e38ef8319e1cae6b3dde5700c3b8f4291d7f7fc9767af33ad694aef458a78"
  },
  "kernelspec": {
   "display_name": "Python 3 (ipykernel)",
   "language": "python",
   "name": "python3"
  },
  "language_info": {
   "codemirror_mode": {
    "name": "ipython",
    "version": 3
   },
   "file_extension": ".py",
   "mimetype": "text/x-python",
   "name": "python",
   "nbconvert_exporter": "python",
   "pygments_lexer": "ipython3",
   "version": "3.9.7"
  }
 },
 "nbformat": 4,
 "nbformat_minor": 4
}
