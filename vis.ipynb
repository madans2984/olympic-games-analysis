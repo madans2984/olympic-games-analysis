{
 "cells": [
  {
   "cell_type": "code",
   "execution_count": 77,
   "metadata": {},
   "outputs": [
    {
     "name": "stdout",
     "output_type": "stream",
     "text": [
      "The autoreload extension is already loaded. To reload it, use:\n",
      "  %reload_ext autoreload\n"
     ]
    }
   ],
   "source": [
    "%load_ext autoreload\n",
    "%autoreload 2"
   ]
  },
  {
   "cell_type": "code",
   "execution_count": 78,
   "metadata": {},
   "outputs": [],
   "source": [
    "import pandas as pd\n",
    "from vis_helpers import *\n",
    "import grama as gr\n",
    "olympics_dataframe = pd.read_csv(\"data/olympic_gdp_population_data_no_nans.csv\")"
   ]
  },
  {
   "cell_type": "code",
   "execution_count": 80,
   "metadata": {},
   "outputs": [
    {
     "data": {
      "text/html": [
       "<div>\n",
       "<style scoped>\n",
       "    .dataframe tbody tr th:only-of-type {\n",
       "        vertical-align: middle;\n",
       "    }\n",
       "\n",
       "    .dataframe tbody tr th {\n",
       "        vertical-align: top;\n",
       "    }\n",
       "\n",
       "    .dataframe thead th {\n",
       "        text-align: right;\n",
       "    }\n",
       "</style>\n",
       "<table border=\"1\" class=\"dataframe\">\n",
       "  <thead>\n",
       "    <tr style=\"text-align: right;\">\n",
       "      <th></th>\n",
       "      <th>Country</th>\n",
       "      <th>Gold-2012</th>\n",
       "      <th>Silver-2012</th>\n",
       "      <th>Bronze-2012</th>\n",
       "      <th>Total-2012</th>\n",
       "      <th>Weighted-2012</th>\n",
       "      <th>Gold-2008</th>\n",
       "      <th>Silver-2008</th>\n",
       "      <th>Bronze-2008</th>\n",
       "      <th>Total-2008</th>\n",
       "      <th>...</th>\n",
       "      <th>GDP-2012</th>\n",
       "      <th>GDP-2016</th>\n",
       "      <th>Pop-2004</th>\n",
       "      <th>Pop-2008</th>\n",
       "      <th>Pop-2012</th>\n",
       "      <th>Pop-2016</th>\n",
       "      <th>Athletes-2004</th>\n",
       "      <th>Athletes-2008</th>\n",
       "      <th>Athletes-2012</th>\n",
       "      <th>Athletes-2016</th>\n",
       "    </tr>\n",
       "  </thead>\n",
       "  <tbody>\n",
       "    <tr>\n",
       "      <th>0</th>\n",
       "      <td>United States</td>\n",
       "      <td>47</td>\n",
       "      <td>27</td>\n",
       "      <td>30</td>\n",
       "      <td>104</td>\n",
       "      <td>225</td>\n",
       "      <td>36</td>\n",
       "      <td>39</td>\n",
       "      <td>37</td>\n",
       "      <td>112</td>\n",
       "      <td>...</td>\n",
       "      <td>51737</td>\n",
       "      <td>57840</td>\n",
       "      <td>295517</td>\n",
       "      <td>309348</td>\n",
       "      <td>309348</td>\n",
       "      <td>321369</td>\n",
       "      <td>533</td>\n",
       "      <td>588</td>\n",
       "      <td>530</td>\n",
       "      <td>554</td>\n",
       "    </tr>\n",
       "    <tr>\n",
       "      <th>1</th>\n",
       "      <td>China</td>\n",
       "      <td>38</td>\n",
       "      <td>31</td>\n",
       "      <td>22</td>\n",
       "      <td>91</td>\n",
       "      <td>198</td>\n",
       "      <td>48</td>\n",
       "      <td>22</td>\n",
       "      <td>30</td>\n",
       "      <td>100</td>\n",
       "      <td>...</td>\n",
       "      <td>11137</td>\n",
       "      <td>13432</td>\n",
       "      <td>1302285</td>\n",
       "      <td>1336681</td>\n",
       "      <td>1336681</td>\n",
       "      <td>1367486</td>\n",
       "      <td>384</td>\n",
       "      <td>639</td>\n",
       "      <td>396</td>\n",
       "      <td>413</td>\n",
       "    </tr>\n",
       "    <tr>\n",
       "      <th>2</th>\n",
       "      <td>Great Britain</td>\n",
       "      <td>29</td>\n",
       "      <td>18</td>\n",
       "      <td>18</td>\n",
       "      <td>65</td>\n",
       "      <td>141</td>\n",
       "      <td>19</td>\n",
       "      <td>13</td>\n",
       "      <td>19</td>\n",
       "      <td>51</td>\n",
       "      <td>...</td>\n",
       "      <td>38297</td>\n",
       "      <td>44121</td>\n",
       "      <td>60488</td>\n",
       "      <td>62349</td>\n",
       "      <td>62349</td>\n",
       "      <td>64089</td>\n",
       "      <td>264</td>\n",
       "      <td>311</td>\n",
       "      <td>541</td>\n",
       "      <td>366</td>\n",
       "    </tr>\n",
       "    <tr>\n",
       "      <th>3</th>\n",
       "      <td>Russia</td>\n",
       "      <td>19</td>\n",
       "      <td>21</td>\n",
       "      <td>27</td>\n",
       "      <td>67</td>\n",
       "      <td>126</td>\n",
       "      <td>24</td>\n",
       "      <td>13</td>\n",
       "      <td>23</td>\n",
       "      <td>60</td>\n",
       "      <td>...</td>\n",
       "      <td>24279</td>\n",
       "      <td>24104</td>\n",
       "      <td>143320</td>\n",
       "      <td>142527</td>\n",
       "      <td>142527</td>\n",
       "      <td>142424</td>\n",
       "      <td>446</td>\n",
       "      <td>467</td>\n",
       "      <td>436</td>\n",
       "      <td>282</td>\n",
       "    </tr>\n",
       "    <tr>\n",
       "      <th>4</th>\n",
       "      <td>South Korea</td>\n",
       "      <td>13</td>\n",
       "      <td>9</td>\n",
       "      <td>8</td>\n",
       "      <td>30</td>\n",
       "      <td>65</td>\n",
       "      <td>13</td>\n",
       "      <td>11</td>\n",
       "      <td>8</td>\n",
       "      <td>32</td>\n",
       "      <td>...</td>\n",
       "      <td>33557</td>\n",
       "      <td>39567</td>\n",
       "      <td>48006</td>\n",
       "      <td>48637</td>\n",
       "      <td>48637</td>\n",
       "      <td>49116</td>\n",
       "      <td>264</td>\n",
       "      <td>267</td>\n",
       "      <td>248</td>\n",
       "      <td>205</td>\n",
       "    </tr>\n",
       "    <tr>\n",
       "      <th>...</th>\n",
       "      <td>...</td>\n",
       "      <td>...</td>\n",
       "      <td>...</td>\n",
       "      <td>...</td>\n",
       "      <td>...</td>\n",
       "      <td>...</td>\n",
       "      <td>...</td>\n",
       "      <td>...</td>\n",
       "      <td>...</td>\n",
       "      <td>...</td>\n",
       "      <td>...</td>\n",
       "      <td>...</td>\n",
       "      <td>...</td>\n",
       "      <td>...</td>\n",
       "      <td>...</td>\n",
       "      <td>...</td>\n",
       "      <td>...</td>\n",
       "      <td>...</td>\n",
       "      <td>...</td>\n",
       "      <td>...</td>\n",
       "      <td>...</td>\n",
       "    </tr>\n",
       "    <tr>\n",
       "      <th>56</th>\n",
       "      <td>Estonia</td>\n",
       "      <td>0</td>\n",
       "      <td>1</td>\n",
       "      <td>1</td>\n",
       "      <td>2</td>\n",
       "      <td>3</td>\n",
       "      <td>1</td>\n",
       "      <td>1</td>\n",
       "      <td>0</td>\n",
       "      <td>2</td>\n",
       "      <td>...</td>\n",
       "      <td>25996</td>\n",
       "      <td>31310</td>\n",
       "      <td>1332</td>\n",
       "      <td>1303</td>\n",
       "      <td>1303</td>\n",
       "      <td>1266</td>\n",
       "      <td>42</td>\n",
       "      <td>47</td>\n",
       "      <td>33</td>\n",
       "      <td>45</td>\n",
       "    </tr>\n",
       "    <tr>\n",
       "      <th>57</th>\n",
       "      <td>Portugal</td>\n",
       "      <td>0</td>\n",
       "      <td>1</td>\n",
       "      <td>0</td>\n",
       "      <td>1</td>\n",
       "      <td>2</td>\n",
       "      <td>1</td>\n",
       "      <td>1</td>\n",
       "      <td>0</td>\n",
       "      <td>2</td>\n",
       "      <td>...</td>\n",
       "      <td>26438</td>\n",
       "      <td>31604</td>\n",
       "      <td>10567</td>\n",
       "      <td>10736</td>\n",
       "      <td>10736</td>\n",
       "      <td>10826</td>\n",
       "      <td>81</td>\n",
       "      <td>77</td>\n",
       "      <td>77</td>\n",
       "      <td>92</td>\n",
       "    </tr>\n",
       "    <tr>\n",
       "      <th>58</th>\n",
       "      <td>Uzbekistan</td>\n",
       "      <td>0</td>\n",
       "      <td>0</td>\n",
       "      <td>3</td>\n",
       "      <td>3</td>\n",
       "      <td>3</td>\n",
       "      <td>0</td>\n",
       "      <td>1</td>\n",
       "      <td>3</td>\n",
       "      <td>4</td>\n",
       "      <td>...</td>\n",
       "      <td>6107</td>\n",
       "      <td>6856</td>\n",
       "      <td>26540</td>\n",
       "      <td>27866</td>\n",
       "      <td>27866</td>\n",
       "      <td>29200</td>\n",
       "      <td>69</td>\n",
       "      <td>58</td>\n",
       "      <td>54</td>\n",
       "      <td>70</td>\n",
       "    </tr>\n",
       "    <tr>\n",
       "      <th>59</th>\n",
       "      <td>Greece</td>\n",
       "      <td>0</td>\n",
       "      <td>0</td>\n",
       "      <td>2</td>\n",
       "      <td>2</td>\n",
       "      <td>2</td>\n",
       "      <td>0</td>\n",
       "      <td>2</td>\n",
       "      <td>1</td>\n",
       "      <td>3</td>\n",
       "      <td>...</td>\n",
       "      <td>24819</td>\n",
       "      <td>27449</td>\n",
       "      <td>10669</td>\n",
       "      <td>10750</td>\n",
       "      <td>10750</td>\n",
       "      <td>10776</td>\n",
       "      <td>426</td>\n",
       "      <td>156</td>\n",
       "      <td>104</td>\n",
       "      <td>95</td>\n",
       "    </tr>\n",
       "    <tr>\n",
       "      <th>60</th>\n",
       "      <td>Morocco</td>\n",
       "      <td>0</td>\n",
       "      <td>0</td>\n",
       "      <td>1</td>\n",
       "      <td>1</td>\n",
       "      <td>1</td>\n",
       "      <td>0</td>\n",
       "      <td>1</td>\n",
       "      <td>1</td>\n",
       "      <td>2</td>\n",
       "      <td>...</td>\n",
       "      <td>6857</td>\n",
       "      <td>7356</td>\n",
       "      <td>29901</td>\n",
       "      <td>31628</td>\n",
       "      <td>31628</td>\n",
       "      <td>33323</td>\n",
       "      <td>55</td>\n",
       "      <td>57</td>\n",
       "      <td>67</td>\n",
       "      <td>51</td>\n",
       "    </tr>\n",
       "  </tbody>\n",
       "</table>\n",
       "<p>61 rows × 33 columns</p>\n",
       "</div>"
      ],
      "text/plain": [
       "          Country  Gold-2012  Silver-2012  Bronze-2012  Total-2012  \\\n",
       "0   United States         47           27           30         104   \n",
       "1           China         38           31           22          91   \n",
       "2   Great Britain         29           18           18          65   \n",
       "3          Russia         19           21           27          67   \n",
       "4     South Korea         13            9            8          30   \n",
       "..            ...        ...          ...          ...         ...   \n",
       "56        Estonia          0            1            1           2   \n",
       "57       Portugal          0            1            0           1   \n",
       "58     Uzbekistan          0            0            3           3   \n",
       "59         Greece          0            0            2           2   \n",
       "60        Morocco          0            0            1           1   \n",
       "\n",
       "    Weighted-2012  Gold-2008  Silver-2008  Bronze-2008  Total-2008  ...  \\\n",
       "0             225         36           39           37         112  ...   \n",
       "1             198         48           22           30         100  ...   \n",
       "2             141         19           13           19          51  ...   \n",
       "3             126         24           13           23          60  ...   \n",
       "4              65         13           11            8          32  ...   \n",
       "..            ...        ...          ...          ...         ...  ...   \n",
       "56              3          1            1            0           2  ...   \n",
       "57              2          1            1            0           2  ...   \n",
       "58              3          0            1            3           4  ...   \n",
       "59              2          0            2            1           3  ...   \n",
       "60              1          0            1            1           2  ...   \n",
       "\n",
       "    GDP-2012  GDP-2016  Pop-2004  Pop-2008  Pop-2012  Pop-2016  Athletes-2004  \\\n",
       "0      51737     57840    295517    309348    309348    321369            533   \n",
       "1      11137     13432   1302285   1336681   1336681   1367486            384   \n",
       "2      38297     44121     60488     62349     62349     64089            264   \n",
       "3      24279     24104    143320    142527    142527    142424            446   \n",
       "4      33557     39567     48006     48637     48637     49116            264   \n",
       "..       ...       ...       ...       ...       ...       ...            ...   \n",
       "56     25996     31310      1332      1303      1303      1266             42   \n",
       "57     26438     31604     10567     10736     10736     10826             81   \n",
       "58      6107      6856     26540     27866     27866     29200             69   \n",
       "59     24819     27449     10669     10750     10750     10776            426   \n",
       "60      6857      7356     29901     31628     31628     33323             55   \n",
       "\n",
       "    Athletes-2008  Athletes-2012  Athletes-2016  \n",
       "0             588            530            554  \n",
       "1             639            396            413  \n",
       "2             311            541            366  \n",
       "3             467            436            282  \n",
       "4             267            248            205  \n",
       "..            ...            ...            ...  \n",
       "56             47             33             45  \n",
       "57             77             77             92  \n",
       "58             58             54             70  \n",
       "59            156            104             95  \n",
       "60             57             67             51  \n",
       "\n",
       "[61 rows x 33 columns]"
      ]
     },
     "execution_count": 80,
     "metadata": {},
     "output_type": "execute_result"
    }
   ],
   "source": [
    "athletes_2004 = pd.read_csv(\"data/athletes-2004.csv\")\n",
    "athletes_2004.rename(columns = {\"Athletes\" : \"Athletes-2004\"}, inplace = True)\n",
    "athletes_2008 = pd.read_csv(\"data/athletes-2008.csv\")\n",
    "athletes_2008.rename(columns = {\"Athletes\" : \"Athletes-2008\"}, inplace = True)\n",
    "athletes_2012 = pd.read_csv(\"data/athletes-2012.csv\")\n",
    "athletes_2012.rename(columns = {\"Athletes\" : \"Athletes-2012\"}, inplace = True)\n",
    "athletes_2016 = pd.read_csv(\"data/athletes-2016.csv\")\n",
    "athletes_2016.rename(columns = {\"Athletes\" : \"Athletes-2016\"}, inplace = True)\n",
    "\n",
    "olympics_dataframe = olympics_dataframe.merge(athletes_2004, how=\"inner\",left_on=\"Country\", right_on=\"Country\")\n",
    "olympics_dataframe = olympics_dataframe.merge(athletes_2008, how=\"inner\",left_on=\"Country\", right_on=\"Country\")\n",
    "olympics_dataframe = olympics_dataframe.merge(athletes_2012, how=\"inner\",left_on=\"Country\", right_on=\"Country\")\n",
    "olympics_dataframe = olympics_dataframe.merge(athletes_2016, how=\"inner\",left_on=\"Country\", right_on=\"Country\")\n",
    "olympics_dataframe"
   ]
  },
  {
   "cell_type": "code",
   "execution_count": 82,
   "metadata": {},
   "outputs": [
    {
     "data": {
      "text/html": [
       "<div>\n",
       "<style scoped>\n",
       "    .dataframe tbody tr th:only-of-type {\n",
       "        vertical-align: middle;\n",
       "    }\n",
       "\n",
       "    .dataframe tbody tr th {\n",
       "        vertical-align: top;\n",
       "    }\n",
       "\n",
       "    .dataframe thead th {\n",
       "        text-align: right;\n",
       "    }\n",
       "</style>\n",
       "<table border=\"1\" class=\"dataframe\">\n",
       "  <thead>\n",
       "    <tr style=\"text-align: right;\">\n",
       "      <th></th>\n",
       "      <th>Country</th>\n",
       "      <th>Year</th>\n",
       "      <th>Athletes</th>\n",
       "      <th>Bronze</th>\n",
       "      <th>GDP</th>\n",
       "      <th>Gold</th>\n",
       "      <th>Pop</th>\n",
       "      <th>Silver</th>\n",
       "      <th>Total</th>\n",
       "      <th>Weighted</th>\n",
       "      <th>Success Rate</th>\n",
       "    </tr>\n",
       "  </thead>\n",
       "  <tbody>\n",
       "    <tr>\n",
       "      <th>0</th>\n",
       "      <td>Argentina</td>\n",
       "      <td>2004</td>\n",
       "      <td>152.0</td>\n",
       "      <td>4.0</td>\n",
       "      <td>12303.0</td>\n",
       "      <td>2.0</td>\n",
       "      <td>39182.0</td>\n",
       "      <td>0.0</td>\n",
       "      <td>6.0</td>\n",
       "      <td>10.0</td>\n",
       "      <td>0.039474</td>\n",
       "    </tr>\n",
       "    <tr>\n",
       "      <th>1</th>\n",
       "      <td>Argentina</td>\n",
       "      <td>2008</td>\n",
       "      <td>137.0</td>\n",
       "      <td>4.0</td>\n",
       "      <td>17567.0</td>\n",
       "      <td>2.0</td>\n",
       "      <td>41344.0</td>\n",
       "      <td>0.0</td>\n",
       "      <td>6.0</td>\n",
       "      <td>10.0</td>\n",
       "      <td>0.043796</td>\n",
       "    </tr>\n",
       "    <tr>\n",
       "      <th>2</th>\n",
       "      <td>Argentina</td>\n",
       "      <td>2012</td>\n",
       "      <td>137.0</td>\n",
       "      <td>2.0</td>\n",
       "      <td>19641.0</td>\n",
       "      <td>1.0</td>\n",
       "      <td>41344.0</td>\n",
       "      <td>1.0</td>\n",
       "      <td>4.0</td>\n",
       "      <td>7.0</td>\n",
       "      <td>0.029197</td>\n",
       "    </tr>\n",
       "    <tr>\n",
       "      <th>3</th>\n",
       "      <td>Argentina</td>\n",
       "      <td>2016</td>\n",
       "      <td>213.0</td>\n",
       "      <td>0.0</td>\n",
       "      <td>20308.0</td>\n",
       "      <td>3.0</td>\n",
       "      <td>43432.0</td>\n",
       "      <td>1.0</td>\n",
       "      <td>4.0</td>\n",
       "      <td>11.0</td>\n",
       "      <td>0.018779</td>\n",
       "    </tr>\n",
       "    <tr>\n",
       "      <th>4</th>\n",
       "      <td>Australia</td>\n",
       "      <td>2004</td>\n",
       "      <td>470.0</td>\n",
       "      <td>17.0</td>\n",
       "      <td>34390.0</td>\n",
       "      <td>17.0</td>\n",
       "      <td>20233.0</td>\n",
       "      <td>16.0</td>\n",
       "      <td>50.0</td>\n",
       "      <td>100.0</td>\n",
       "      <td>0.106383</td>\n",
       "    </tr>\n",
       "    <tr>\n",
       "      <th>...</th>\n",
       "      <td>...</td>\n",
       "      <td>...</td>\n",
       "      <td>...</td>\n",
       "      <td>...</td>\n",
       "      <td>...</td>\n",
       "      <td>...</td>\n",
       "      <td>...</td>\n",
       "      <td>...</td>\n",
       "      <td>...</td>\n",
       "      <td>...</td>\n",
       "      <td>...</td>\n",
       "    </tr>\n",
       "    <tr>\n",
       "      <th>239</th>\n",
       "      <td>Uzbekistan</td>\n",
       "      <td>2016</td>\n",
       "      <td>70.0</td>\n",
       "      <td>7.0</td>\n",
       "      <td>6856.0</td>\n",
       "      <td>4.0</td>\n",
       "      <td>29200.0</td>\n",
       "      <td>2.0</td>\n",
       "      <td>13.0</td>\n",
       "      <td>23.0</td>\n",
       "      <td>0.185714</td>\n",
       "    </tr>\n",
       "    <tr>\n",
       "      <th>240</th>\n",
       "      <td>Venezuela</td>\n",
       "      <td>2004</td>\n",
       "      <td>48.0</td>\n",
       "      <td>2.0</td>\n",
       "      <td>12194.0</td>\n",
       "      <td>0.0</td>\n",
       "      <td>25270.0</td>\n",
       "      <td>0.0</td>\n",
       "      <td>2.0</td>\n",
       "      <td>2.0</td>\n",
       "      <td>0.041667</td>\n",
       "    </tr>\n",
       "    <tr>\n",
       "      <th>241</th>\n",
       "      <td>Venezuela</td>\n",
       "      <td>2008</td>\n",
       "      <td>109.0</td>\n",
       "      <td>1.0</td>\n",
       "      <td>17706.0</td>\n",
       "      <td>0.0</td>\n",
       "      <td>27224.0</td>\n",
       "      <td>0.0</td>\n",
       "      <td>1.0</td>\n",
       "      <td>1.0</td>\n",
       "      <td>0.009174</td>\n",
       "    </tr>\n",
       "    <tr>\n",
       "      <th>242</th>\n",
       "      <td>Venezuela</td>\n",
       "      <td>2012</td>\n",
       "      <td>70.0</td>\n",
       "      <td>0.0</td>\n",
       "      <td>18553.0</td>\n",
       "      <td>1.0</td>\n",
       "      <td>27224.0</td>\n",
       "      <td>0.0</td>\n",
       "      <td>1.0</td>\n",
       "      <td>3.0</td>\n",
       "      <td>0.014286</td>\n",
       "    </tr>\n",
       "    <tr>\n",
       "      <th>243</th>\n",
       "      <td>Venezuela</td>\n",
       "      <td>2016</td>\n",
       "      <td>87.0</td>\n",
       "      <td>1.0</td>\n",
       "      <td>14213.0</td>\n",
       "      <td>0.0</td>\n",
       "      <td>29276.0</td>\n",
       "      <td>2.0</td>\n",
       "      <td>3.0</td>\n",
       "      <td>5.0</td>\n",
       "      <td>0.034483</td>\n",
       "    </tr>\n",
       "  </tbody>\n",
       "</table>\n",
       "<p>244 rows × 11 columns</p>\n",
       "</div>"
      ],
      "text/plain": [
       "        Country  Year  Athletes  Bronze      GDP  Gold      Pop  Silver  \\\n",
       "0     Argentina  2004     152.0     4.0  12303.0   2.0  39182.0     0.0   \n",
       "1     Argentina  2008     137.0     4.0  17567.0   2.0  41344.0     0.0   \n",
       "2     Argentina  2012     137.0     2.0  19641.0   1.0  41344.0     1.0   \n",
       "3     Argentina  2016     213.0     0.0  20308.0   3.0  43432.0     1.0   \n",
       "4     Australia  2004     470.0    17.0  34390.0  17.0  20233.0    16.0   \n",
       "..          ...   ...       ...     ...      ...   ...      ...     ...   \n",
       "239  Uzbekistan  2016      70.0     7.0   6856.0   4.0  29200.0     2.0   \n",
       "240   Venezuela  2004      48.0     2.0  12194.0   0.0  25270.0     0.0   \n",
       "241   Venezuela  2008     109.0     1.0  17706.0   0.0  27224.0     0.0   \n",
       "242   Venezuela  2012      70.0     0.0  18553.0   1.0  27224.0     0.0   \n",
       "243   Venezuela  2016      87.0     1.0  14213.0   0.0  29276.0     2.0   \n",
       "\n",
       "     Total  Weighted  Success Rate  \n",
       "0      6.0      10.0      0.039474  \n",
       "1      6.0      10.0      0.043796  \n",
       "2      4.0       7.0      0.029197  \n",
       "3      4.0      11.0      0.018779  \n",
       "4     50.0     100.0      0.106383  \n",
       "..     ...       ...           ...  \n",
       "239   13.0      23.0      0.185714  \n",
       "240    2.0       2.0      0.041667  \n",
       "241    1.0       1.0      0.009174  \n",
       "242    1.0       3.0      0.014286  \n",
       "243    3.0       5.0      0.034483  \n",
       "\n",
       "[244 rows x 11 columns]"
      ]
     },
     "execution_count": 82,
     "metadata": {},
     "output_type": "execute_result"
    }
   ],
   "source": [
    "od = (\n",
    "    olympics_dataframe\n",
    "    >> gr.tf_pivot_longer(\n",
    "        columns=[\"Gold-2004\", \"Silver-2004\", \"Bronze-2004\", \"Total-2004\", \"Weighted-2004\", \"GDP-2004\", \"Pop-2004\", \"Athletes-2004\",\n",
    "                 \"Gold-2008\", \"Silver-2008\", \"Bronze-2008\", \"Total-2008\", \"Weighted-2008\", \"GDP-2008\", \"Pop-2008\", \"Athletes-2008\",\n",
    "                 \"Gold-2012\", \"Silver-2012\", \"Bronze-2012\", \"Total-2012\", \"Weighted-2012\", \"GDP-2012\", \"Pop-2012\", \"Athletes-2012\",\n",
    "                 \"Gold-2016\", \"Silver-2016\", \"Bronze-2016\", \"Total-2016\", \"Weighted-2016\", \"GDP-2016\", \"Pop-2016\", \"Athletes-2016\"],\n",
    "        names_to=(\"Var\"),\n",
    "        values_to=\"val\",\n",
    "    )\n",
    "    >> gr.tf_separate(\n",
    "        column=\"Var\",\n",
    "        into=[\"Type\", \"Year\"],\n",
    "        sep=\"-\",\n",
    "    )\n",
    "    >> gr.tf_pivot_wider(\n",
    "        names_from = \"Type\",\n",
    "        values_from = \"val\"\n",
    "    )\n",
    ")\n",
    "od[\"Success Rate\"] = od[\"Total\"]/od[\"Athletes\"]\n",
    "od"
   ]
  },
  {
   "cell_type": "code",
   "execution_count": null,
   "metadata": {},
   "outputs": [],
   "source": [
    "oad = pd.DataFrame()\n",
    "oad[\"Country\"] = olympics_dataframe[\"Country\"]\n",
    "oad[\"Average Total\"] = (olympics_dataframe[f\"Total-2004\"] + olympics_dataframe[\"Total-2008\"] + olympics_dataframe[\"Total-2012\"] + olympics_dataframe[\"Total-2016\"]) / 4\n",
    "oad[\"Average GDP\"] = (olympics_dataframe[f\"GDP-2004\"] + olympics_dataframe[\"GDP-2008\"] + olympics_dataframe[\"GDP-2012\"] + olympics_dataframe[\"GDP-2016\"]) / 4\n",
    "oad[\"Average Pop\"] = (olympics_dataframe[f\"Pop-2004\"] + olympics_dataframe[\"Pop-2008\"] + olympics_dataframe[\"Pop-2012\"] + olympics_dataframe[\"Pop-2016\"]) / 4 * 1000\n",
    "oad[\"Average Athletes\"] = (olympics_dataframe[f\"Athletes-2004\"] + olympics_dataframe[\"Athletes-2008\"] + olympics_dataframe[\"Athletes-2012\"] + olympics_dataframe[\"Athletes-2016\"]) / 4\n"
   ]
  },
  {
   "cell_type": "code",
   "execution_count": null,
   "metadata": {},
   "outputs": [
    {
     "data": {
      "application/vnd.plotly.v1+json": {
       "config": {
        "plotlyServerURL": "https://plot.ly"
       },
       "data": [
        {
         "customdata": [
          [
           "United States"
          ],
          [
           "China"
          ],
          [
           "Great Britain"
          ],
          [
           "Russia"
          ],
          [
           "South Korea"
          ],
          [
           "Germany"
          ],
          [
           "France"
          ],
          [
           "Australia"
          ],
          [
           "Italy"
          ],
          [
           "Hungary"
          ],
          [
           "Japan"
          ],
          [
           "Iran"
          ],
          [
           "Netherlands"
          ],
          [
           "New Zealand"
          ],
          [
           "Ukraine"
          ],
          [
           "Cuba"
          ],
          [
           "Spain"
          ],
          [
           "Jamaica"
          ],
          [
           "Czech Republic"
          ],
          [
           "South Africa"
          ],
          [
           "North Korea"
          ],
          [
           "Brazil"
          ],
          [
           "Kazakhstan"
          ],
          [
           "Poland"
          ],
          [
           "Ethiopia"
          ],
          [
           "Croatia"
          ],
          [
           "Canada"
          ],
          [
           "Belarus"
          ],
          [
           "Kenya"
          ],
          [
           "Denmark"
          ],
          [
           "Romania"
          ],
          [
           "Azerbaijan"
          ],
          [
           "Switzerland"
          ],
          [
           "Norway"
          ],
          [
           "Lithuania"
          ],
          [
           "Sweden"
          ],
          [
           "Colombia"
          ],
          [
           "Mexico"
          ],
          [
           "Georgia"
          ],
          [
           "Argentina"
          ],
          [
           "Slovenia"
          ],
          [
           "Trinidad and Tobago"
          ],
          [
           "Turkey"
          ],
          [
           "Dominican Republic"
          ],
          [
           "Chinese Taipei"
          ],
          [
           "Bahamas"
          ],
          [
           "Venezuela"
          ],
          [
           "Egypt"
          ],
          [
           "India"
          ],
          [
           "Mongolia"
          ],
          [
           "Thailand"
          ],
          [
           "Bulgaria"
          ],
          [
           "Finland"
          ],
          [
           "Indonesia"
          ],
          [
           "Slovakia"
          ],
          [
           "Belgium"
          ],
          [
           "Estonia"
          ],
          [
           "Portugal"
          ],
          [
           "Uzbekistan"
          ],
          [
           "Greece"
          ],
          [
           "Morocco"
          ]
         ],
         "hovertemplate": "GDP (per capita) in dollars=%{x}<br>Average Total Olympic medals=%{y}<br>Country=%{customdata[0]}<extra></extra>",
         "legendgroup": "",
         "marker": {
          "color": "#636efa",
          "symbol": "circle"
         },
         "mode": "markers",
         "name": "",
         "orientation": "v",
         "showlegend": false,
         "type": "scatter",
         "x": [
          49922.5,
          9112.75,
          37752.75,
          21202.75,
          30886.5,
          41603.5,
          38282.5,
          41489.5,
          36366.25,
          23105,
          36154.5,
          14800,
          45762.5,
          32512.25,
          9071,
          5722.5,
          32370.25,
          8618.25,
          28733.5,
          12460.25,
          577.25,
          13339.25,
          18916.75,
          21511,
          1231,
          20852.75,
          40863.5,
          14560.25,
          3067.25,
          44776.5,
          18250.75,
          12230,
          57695.75,
          59706,
          23243.5,
          43016.5,
          11275.5,
          16661.75,
          8585,
          17454.75,
          28867,
          27380.5,
          19276.25,
          11786.5,
          37631.75,
          32640,
          15666.5,
          10137.75,
          4176,
          8227,
          13338.5,
          15247.25,
          40042.5,
          8540.5,
          24348.25,
          41098.5,
          25067,
          26861.75,
          5307.75,
          27033,
          6221
         ],
         "xaxis": "x",
         "y": [
          109.5,
          81,
          53.25,
          68.25,
          28.25,
          44,
          38.25,
          40,
          28.75,
          15,
          35.25,
          7.25,
          19.25,
          11.25,
          18.5,
          20.75,
          19,
          9.75,
          9.25,
          5.75,
          6.25,
          15.75,
          11.25,
          10.75,
          7.5,
          6.5,
          18,
          11.5,
          12.25,
          9.75,
          9.75,
          9.5,
          5.75,
          5.75,
          4.25,
          7.75,
          5.5,
          5.25,
          6,
          5,
          4.25,
          2,
          6.75,
          1.5,
          3.5,
          1.75,
          1.75,
          3.5,
          3,
          3,
          6,
          5.75,
          2.5,
          4,
          5,
          3.5,
          2,
          1.75,
          6.25,
          6.75,
          1.75
         ],
         "yaxis": "y"
        },
        {
         "hovertemplate": "<b>OLS trendline</b><br>Average Total = 0.000372206 * Average GDP + 6.21743<br>R<sup>2</sup>=0.072557<br><br>GDP (per capita) in dollars=%{x}<br>Average Total Olympic medals=%{y} <b>(trend)</b><extra></extra>",
         "legendgroup": "",
         "marker": {
          "color": "#636efa",
          "symbol": "circle"
         },
         "mode": "lines",
         "name": "",
         "showlegend": false,
         "type": "scatter",
         "x": [
          577.25,
          1231,
          3067.25,
          4176,
          5307.75,
          5722.5,
          6221,
          8227,
          8540.5,
          8585,
          8618.25,
          9071,
          9112.75,
          10137.75,
          11275.5,
          11786.5,
          12230,
          12460.25,
          13338.5,
          13339.25,
          14560.25,
          14800,
          15247.25,
          15666.5,
          16661.75,
          17454.75,
          18250.75,
          18916.75,
          19276.25,
          20852.75,
          21202.75,
          21511,
          23105,
          23243.5,
          24348.25,
          25067,
          26861.75,
          27033,
          27380.5,
          28733.5,
          28867,
          30886.5,
          32370.25,
          32512.25,
          32640,
          36154.5,
          36366.25,
          37631.75,
          37752.75,
          38282.5,
          40042.5,
          40863.5,
          41098.5,
          41489.5,
          41603.5,
          43016.5,
          44776.5,
          45762.5,
          49922.5,
          57695.75,
          59706
         ],
         "xaxis": "x",
         "y": [
          6.43228451691351,
          6.675614156902673,
          7.359077333086382,
          7.771760680448499,
          8.193004764666831,
          8.347377182541408,
          8.532921848751117,
          9.279566984993199,
          9.396253550402916,
          9.41281671518994,
          9.425192563036425,
          9.593708807021272,
          9.609248405445054,
          9.99075950447204,
          10.414236824391992,
          10.60443406498008,
          10.769507403924926,
          10.855207823974649,
          11.182097699799478,
          11.182376854262179,
          11.636840319542129,
          11.726076696119417,
          11.892545807377777,
          12.04859315202857,
          12.419031124035016,
          12.714190442599309,
          13.01046637901441,
          13.258355541894385,
          13.392163581016533,
          13.978946261617548,
          14.109218344212128,
          14.223950828382927,
          14.817247113113673,
          14.8687976372261,
          15.279992160787135,
          15.547515187543864,
          16.215531816791355,
          16.279272085775133,
          16.408613653494037,
          16.91220830420966,
          16.961897798570735,
          17.713567715141465,
          18.265828293854916,
          18.31868153879329,
          18.36623084894031,
          19.674348661165034,
          19.753163271134753,
          20.22418990120173,
          20.269226821184425,
          20.46640292334008,
          21.121485395815682,
          21.42706648098754,
          21.514534879301046,
          21.660067405856708,
          21.702498884187513,
          22.22842589191935,
          22.88350836439495,
          23.250503431361395,
          24.798880184485554,
          27.692130087423614,
          28.440357098954344
         ],
         "yaxis": "y"
        }
       ],
       "layout": {
        "legend": {
         "tracegroupgap": 0
        },
        "template": {
         "data": {
          "bar": [
           {
            "error_x": {
             "color": "#2a3f5f"
            },
            "error_y": {
             "color": "#2a3f5f"
            },
            "marker": {
             "line": {
              "color": "#E5ECF6",
              "width": 0.5
             },
             "pattern": {
              "fillmode": "overlay",
              "size": 10,
              "solidity": 0.2
             }
            },
            "type": "bar"
           }
          ],
          "barpolar": [
           {
            "marker": {
             "line": {
              "color": "#E5ECF6",
              "width": 0.5
             },
             "pattern": {
              "fillmode": "overlay",
              "size": 10,
              "solidity": 0.2
             }
            },
            "type": "barpolar"
           }
          ],
          "carpet": [
           {
            "aaxis": {
             "endlinecolor": "#2a3f5f",
             "gridcolor": "white",
             "linecolor": "white",
             "minorgridcolor": "white",
             "startlinecolor": "#2a3f5f"
            },
            "baxis": {
             "endlinecolor": "#2a3f5f",
             "gridcolor": "white",
             "linecolor": "white",
             "minorgridcolor": "white",
             "startlinecolor": "#2a3f5f"
            },
            "type": "carpet"
           }
          ],
          "choropleth": [
           {
            "colorbar": {
             "outlinewidth": 0,
             "ticks": ""
            },
            "type": "choropleth"
           }
          ],
          "contour": [
           {
            "colorbar": {
             "outlinewidth": 0,
             "ticks": ""
            },
            "colorscale": [
             [
              0,
              "#0d0887"
             ],
             [
              0.1111111111111111,
              "#46039f"
             ],
             [
              0.2222222222222222,
              "#7201a8"
             ],
             [
              0.3333333333333333,
              "#9c179e"
             ],
             [
              0.4444444444444444,
              "#bd3786"
             ],
             [
              0.5555555555555556,
              "#d8576b"
             ],
             [
              0.6666666666666666,
              "#ed7953"
             ],
             [
              0.7777777777777778,
              "#fb9f3a"
             ],
             [
              0.8888888888888888,
              "#fdca26"
             ],
             [
              1,
              "#f0f921"
             ]
            ],
            "type": "contour"
           }
          ],
          "contourcarpet": [
           {
            "colorbar": {
             "outlinewidth": 0,
             "ticks": ""
            },
            "type": "contourcarpet"
           }
          ],
          "heatmap": [
           {
            "colorbar": {
             "outlinewidth": 0,
             "ticks": ""
            },
            "colorscale": [
             [
              0,
              "#0d0887"
             ],
             [
              0.1111111111111111,
              "#46039f"
             ],
             [
              0.2222222222222222,
              "#7201a8"
             ],
             [
              0.3333333333333333,
              "#9c179e"
             ],
             [
              0.4444444444444444,
              "#bd3786"
             ],
             [
              0.5555555555555556,
              "#d8576b"
             ],
             [
              0.6666666666666666,
              "#ed7953"
             ],
             [
              0.7777777777777778,
              "#fb9f3a"
             ],
             [
              0.8888888888888888,
              "#fdca26"
             ],
             [
              1,
              "#f0f921"
             ]
            ],
            "type": "heatmap"
           }
          ],
          "heatmapgl": [
           {
            "colorbar": {
             "outlinewidth": 0,
             "ticks": ""
            },
            "colorscale": [
             [
              0,
              "#0d0887"
             ],
             [
              0.1111111111111111,
              "#46039f"
             ],
             [
              0.2222222222222222,
              "#7201a8"
             ],
             [
              0.3333333333333333,
              "#9c179e"
             ],
             [
              0.4444444444444444,
              "#bd3786"
             ],
             [
              0.5555555555555556,
              "#d8576b"
             ],
             [
              0.6666666666666666,
              "#ed7953"
             ],
             [
              0.7777777777777778,
              "#fb9f3a"
             ],
             [
              0.8888888888888888,
              "#fdca26"
             ],
             [
              1,
              "#f0f921"
             ]
            ],
            "type": "heatmapgl"
           }
          ],
          "histogram": [
           {
            "marker": {
             "pattern": {
              "fillmode": "overlay",
              "size": 10,
              "solidity": 0.2
             }
            },
            "type": "histogram"
           }
          ],
          "histogram2d": [
           {
            "colorbar": {
             "outlinewidth": 0,
             "ticks": ""
            },
            "colorscale": [
             [
              0,
              "#0d0887"
             ],
             [
              0.1111111111111111,
              "#46039f"
             ],
             [
              0.2222222222222222,
              "#7201a8"
             ],
             [
              0.3333333333333333,
              "#9c179e"
             ],
             [
              0.4444444444444444,
              "#bd3786"
             ],
             [
              0.5555555555555556,
              "#d8576b"
             ],
             [
              0.6666666666666666,
              "#ed7953"
             ],
             [
              0.7777777777777778,
              "#fb9f3a"
             ],
             [
              0.8888888888888888,
              "#fdca26"
             ],
             [
              1,
              "#f0f921"
             ]
            ],
            "type": "histogram2d"
           }
          ],
          "histogram2dcontour": [
           {
            "colorbar": {
             "outlinewidth": 0,
             "ticks": ""
            },
            "colorscale": [
             [
              0,
              "#0d0887"
             ],
             [
              0.1111111111111111,
              "#46039f"
             ],
             [
              0.2222222222222222,
              "#7201a8"
             ],
             [
              0.3333333333333333,
              "#9c179e"
             ],
             [
              0.4444444444444444,
              "#bd3786"
             ],
             [
              0.5555555555555556,
              "#d8576b"
             ],
             [
              0.6666666666666666,
              "#ed7953"
             ],
             [
              0.7777777777777778,
              "#fb9f3a"
             ],
             [
              0.8888888888888888,
              "#fdca26"
             ],
             [
              1,
              "#f0f921"
             ]
            ],
            "type": "histogram2dcontour"
           }
          ],
          "mesh3d": [
           {
            "colorbar": {
             "outlinewidth": 0,
             "ticks": ""
            },
            "type": "mesh3d"
           }
          ],
          "parcoords": [
           {
            "line": {
             "colorbar": {
              "outlinewidth": 0,
              "ticks": ""
             }
            },
            "type": "parcoords"
           }
          ],
          "pie": [
           {
            "automargin": true,
            "type": "pie"
           }
          ],
          "scatter": [
           {
            "marker": {
             "colorbar": {
              "outlinewidth": 0,
              "ticks": ""
             }
            },
            "type": "scatter"
           }
          ],
          "scatter3d": [
           {
            "line": {
             "colorbar": {
              "outlinewidth": 0,
              "ticks": ""
             }
            },
            "marker": {
             "colorbar": {
              "outlinewidth": 0,
              "ticks": ""
             }
            },
            "type": "scatter3d"
           }
          ],
          "scattercarpet": [
           {
            "marker": {
             "colorbar": {
              "outlinewidth": 0,
              "ticks": ""
             }
            },
            "type": "scattercarpet"
           }
          ],
          "scattergeo": [
           {
            "marker": {
             "colorbar": {
              "outlinewidth": 0,
              "ticks": ""
             }
            },
            "type": "scattergeo"
           }
          ],
          "scattergl": [
           {
            "marker": {
             "colorbar": {
              "outlinewidth": 0,
              "ticks": ""
             }
            },
            "type": "scattergl"
           }
          ],
          "scattermapbox": [
           {
            "marker": {
             "colorbar": {
              "outlinewidth": 0,
              "ticks": ""
             }
            },
            "type": "scattermapbox"
           }
          ],
          "scatterpolar": [
           {
            "marker": {
             "colorbar": {
              "outlinewidth": 0,
              "ticks": ""
             }
            },
            "type": "scatterpolar"
           }
          ],
          "scatterpolargl": [
           {
            "marker": {
             "colorbar": {
              "outlinewidth": 0,
              "ticks": ""
             }
            },
            "type": "scatterpolargl"
           }
          ],
          "scatterternary": [
           {
            "marker": {
             "colorbar": {
              "outlinewidth": 0,
              "ticks": ""
             }
            },
            "type": "scatterternary"
           }
          ],
          "surface": [
           {
            "colorbar": {
             "outlinewidth": 0,
             "ticks": ""
            },
            "colorscale": [
             [
              0,
              "#0d0887"
             ],
             [
              0.1111111111111111,
              "#46039f"
             ],
             [
              0.2222222222222222,
              "#7201a8"
             ],
             [
              0.3333333333333333,
              "#9c179e"
             ],
             [
              0.4444444444444444,
              "#bd3786"
             ],
             [
              0.5555555555555556,
              "#d8576b"
             ],
             [
              0.6666666666666666,
              "#ed7953"
             ],
             [
              0.7777777777777778,
              "#fb9f3a"
             ],
             [
              0.8888888888888888,
              "#fdca26"
             ],
             [
              1,
              "#f0f921"
             ]
            ],
            "type": "surface"
           }
          ],
          "table": [
           {
            "cells": {
             "fill": {
              "color": "#EBF0F8"
             },
             "line": {
              "color": "white"
             }
            },
            "header": {
             "fill": {
              "color": "#C8D4E3"
             },
             "line": {
              "color": "white"
             }
            },
            "type": "table"
           }
          ]
         },
         "layout": {
          "annotationdefaults": {
           "arrowcolor": "#2a3f5f",
           "arrowhead": 0,
           "arrowwidth": 1
          },
          "autotypenumbers": "strict",
          "coloraxis": {
           "colorbar": {
            "outlinewidth": 0,
            "ticks": ""
           }
          },
          "colorscale": {
           "diverging": [
            [
             0,
             "#8e0152"
            ],
            [
             0.1,
             "#c51b7d"
            ],
            [
             0.2,
             "#de77ae"
            ],
            [
             0.3,
             "#f1b6da"
            ],
            [
             0.4,
             "#fde0ef"
            ],
            [
             0.5,
             "#f7f7f7"
            ],
            [
             0.6,
             "#e6f5d0"
            ],
            [
             0.7,
             "#b8e186"
            ],
            [
             0.8,
             "#7fbc41"
            ],
            [
             0.9,
             "#4d9221"
            ],
            [
             1,
             "#276419"
            ]
           ],
           "sequential": [
            [
             0,
             "#0d0887"
            ],
            [
             0.1111111111111111,
             "#46039f"
            ],
            [
             0.2222222222222222,
             "#7201a8"
            ],
            [
             0.3333333333333333,
             "#9c179e"
            ],
            [
             0.4444444444444444,
             "#bd3786"
            ],
            [
             0.5555555555555556,
             "#d8576b"
            ],
            [
             0.6666666666666666,
             "#ed7953"
            ],
            [
             0.7777777777777778,
             "#fb9f3a"
            ],
            [
             0.8888888888888888,
             "#fdca26"
            ],
            [
             1,
             "#f0f921"
            ]
           ],
           "sequentialminus": [
            [
             0,
             "#0d0887"
            ],
            [
             0.1111111111111111,
             "#46039f"
            ],
            [
             0.2222222222222222,
             "#7201a8"
            ],
            [
             0.3333333333333333,
             "#9c179e"
            ],
            [
             0.4444444444444444,
             "#bd3786"
            ],
            [
             0.5555555555555556,
             "#d8576b"
            ],
            [
             0.6666666666666666,
             "#ed7953"
            ],
            [
             0.7777777777777778,
             "#fb9f3a"
            ],
            [
             0.8888888888888888,
             "#fdca26"
            ],
            [
             1,
             "#f0f921"
            ]
           ]
          },
          "colorway": [
           "#636efa",
           "#EF553B",
           "#00cc96",
           "#ab63fa",
           "#FFA15A",
           "#19d3f3",
           "#FF6692",
           "#B6E880",
           "#FF97FF",
           "#FECB52"
          ],
          "font": {
           "color": "#2a3f5f"
          },
          "geo": {
           "bgcolor": "white",
           "lakecolor": "white",
           "landcolor": "#E5ECF6",
           "showlakes": true,
           "showland": true,
           "subunitcolor": "white"
          },
          "hoverlabel": {
           "align": "left"
          },
          "hovermode": "closest",
          "mapbox": {
           "style": "light"
          },
          "paper_bgcolor": "white",
          "plot_bgcolor": "#E5ECF6",
          "polar": {
           "angularaxis": {
            "gridcolor": "white",
            "linecolor": "white",
            "ticks": ""
           },
           "bgcolor": "#E5ECF6",
           "radialaxis": {
            "gridcolor": "white",
            "linecolor": "white",
            "ticks": ""
           }
          },
          "scene": {
           "xaxis": {
            "backgroundcolor": "#E5ECF6",
            "gridcolor": "white",
            "gridwidth": 2,
            "linecolor": "white",
            "showbackground": true,
            "ticks": "",
            "zerolinecolor": "white"
           },
           "yaxis": {
            "backgroundcolor": "#E5ECF6",
            "gridcolor": "white",
            "gridwidth": 2,
            "linecolor": "white",
            "showbackground": true,
            "ticks": "",
            "zerolinecolor": "white"
           },
           "zaxis": {
            "backgroundcolor": "#E5ECF6",
            "gridcolor": "white",
            "gridwidth": 2,
            "linecolor": "white",
            "showbackground": true,
            "ticks": "",
            "zerolinecolor": "white"
           }
          },
          "shapedefaults": {
           "line": {
            "color": "#2a3f5f"
           }
          },
          "ternary": {
           "aaxis": {
            "gridcolor": "white",
            "linecolor": "white",
            "ticks": ""
           },
           "baxis": {
            "gridcolor": "white",
            "linecolor": "white",
            "ticks": ""
           },
           "bgcolor": "#E5ECF6",
           "caxis": {
            "gridcolor": "white",
            "linecolor": "white",
            "ticks": ""
           }
          },
          "title": {
           "x": 0.05
          },
          "xaxis": {
           "automargin": true,
           "gridcolor": "white",
           "linecolor": "white",
           "ticks": "",
           "title": {
            "standoff": 15
           },
           "zerolinecolor": "white",
           "zerolinewidth": 2
          },
          "yaxis": {
           "automargin": true,
           "gridcolor": "white",
           "linecolor": "white",
           "ticks": "",
           "title": {
            "standoff": 15
           },
           "zerolinecolor": "white",
           "zerolinewidth": 2
          }
         }
        },
        "title": {
         "text": "Average GDP vs Average Total medals from 2004-2016"
        },
        "xaxis": {
         "anchor": "y",
         "domain": [
          0,
          1
         ],
         "title": {
          "text": "GDP (per capita) in dollars"
         }
        },
        "yaxis": {
         "anchor": "x",
         "domain": [
          0,
          1
         ],
         "title": {
          "text": "Average Total Olympic medals"
         }
        }
       }
      }
     },
     "metadata": {},
     "output_type": "display_data"
    }
   ],
   "source": [
    "fig = px.scatter(\n",
    "                 oad,\n",
    "                 x = oad[\"Average GDP\"],\n",
    "                 y = oad[\"Average Total\"],\n",
    "                 trendline=\"ols\",\n",
    "                 labels={\"Average GDP\" :\"GDP (per capita) in dollars\",\n",
    "                 \"Average Total\" : \"Average Total Olympic medals\"},\n",
    "                 title=f\"Average GDP vs Average Total medals from 2004-2016\",\n",
    "                 hover_data=[\"Country\"],\n",
    "                 log_x=False,\n",
    "                )\n",
    "fig.show()"
   ]
  },
  {
   "cell_type": "code",
   "execution_count": null,
   "metadata": {},
   "outputs": [
    {
     "data": {
      "application/vnd.plotly.v1+json": {
       "config": {
        "plotlyServerURL": "https://plot.ly"
       },
       "data": [
        {
         "customdata": [
          [
           "United States"
          ],
          [
           "China"
          ],
          [
           "Great Britain"
          ],
          [
           "Russia"
          ],
          [
           "South Korea"
          ],
          [
           "Germany"
          ],
          [
           "France"
          ],
          [
           "Australia"
          ],
          [
           "Italy"
          ],
          [
           "Hungary"
          ],
          [
           "Japan"
          ],
          [
           "Iran"
          ],
          [
           "Netherlands"
          ],
          [
           "New Zealand"
          ],
          [
           "Ukraine"
          ],
          [
           "Cuba"
          ],
          [
           "Spain"
          ],
          [
           "Jamaica"
          ],
          [
           "Czech Republic"
          ],
          [
           "South Africa"
          ],
          [
           "North Korea"
          ],
          [
           "Brazil"
          ],
          [
           "Kazakhstan"
          ],
          [
           "Poland"
          ],
          [
           "Ethiopia"
          ],
          [
           "Croatia"
          ],
          [
           "Canada"
          ],
          [
           "Belarus"
          ],
          [
           "Kenya"
          ],
          [
           "Denmark"
          ],
          [
           "Romania"
          ],
          [
           "Azerbaijan"
          ],
          [
           "Switzerland"
          ],
          [
           "Norway"
          ],
          [
           "Lithuania"
          ],
          [
           "Sweden"
          ],
          [
           "Colombia"
          ],
          [
           "Mexico"
          ],
          [
           "Georgia"
          ],
          [
           "Argentina"
          ],
          [
           "Slovenia"
          ],
          [
           "Trinidad and Tobago"
          ],
          [
           "Turkey"
          ],
          [
           "Dominican Republic"
          ],
          [
           "Chinese Taipei"
          ],
          [
           "Bahamas"
          ],
          [
           "Venezuela"
          ],
          [
           "Egypt"
          ],
          [
           "India"
          ],
          [
           "Mongolia"
          ],
          [
           "Thailand"
          ],
          [
           "Bulgaria"
          ],
          [
           "Finland"
          ],
          [
           "Indonesia"
          ],
          [
           "Slovakia"
          ],
          [
           "Belgium"
          ],
          [
           "Estonia"
          ],
          [
           "Portugal"
          ],
          [
           "Uzbekistan"
          ],
          [
           "Greece"
          ],
          [
           "Morocco"
          ]
         ],
         "hovertemplate": "Average Population from 2005-2015=%{x}<br>Average Total Olympic medals=%{y}<br>Country=%{customdata[0]}<extra></extra>",
         "legendgroup": "",
         "marker": {
          "color": "#636efa",
          "symbol": "circle"
         },
         "mode": "markers",
         "name": "",
         "orientation": "v",
         "showlegend": false,
         "type": "scatter",
         "x": [
          308895500,
          1335783250,
          62318750,
          142699500,
          48599000,
          81646250,
          64874000,
          21504250,
          60598000,
          9985500,
          127449000,
          76989000,
          16599000,
          4248500,
          45742750,
          11107250,
          46216000,
          2846000,
          10503500,
          51006750,
          24314250,
          195487750,
          17112750,
          38588500,
          86476750,
          4483750,
          33751750,
          9689750,
          40715250,
          5511750,
          21946250,
          9302750,
          7777750,
          4904250,
          3097500,
          9437750,
          44159250,
          114109500,
          4882250,
          41325500,
          2001000,
          1229500,
          74813500,
          9823000,
          23099500,
          311000,
          27248500,
          80494000,
          1172222000,
          2791000,
          66633000,
          7395750,
          5356500,
          243021250,
          5427000,
          10881500,
          1301000,
          10716250,
          27868000,
          10736250,
          31620000
         ],
         "xaxis": "x",
         "y": [
          109.5,
          81,
          53.25,
          68.25,
          28.25,
          44,
          38.25,
          40,
          28.75,
          15,
          35.25,
          7.25,
          19.25,
          11.25,
          18.5,
          20.75,
          19,
          9.75,
          9.25,
          5.75,
          6.25,
          15.75,
          11.25,
          10.75,
          7.5,
          6.5,
          18,
          11.5,
          12.25,
          9.75,
          9.75,
          9.5,
          5.75,
          5.75,
          4.25,
          7.75,
          5.5,
          5.25,
          6,
          5,
          4.25,
          2,
          6.75,
          1.5,
          3.5,
          1.75,
          1.75,
          3.5,
          3,
          3,
          6,
          5.75,
          2.5,
          4,
          5,
          3.5,
          2,
          1.75,
          6.25,
          6.75,
          1.75
         ],
         "yaxis": "y"
        },
        {
         "hovertemplate": "<b>OLS trendline</b><br>Average Total = 3.63484e-08 * Average Pop + 11.9429<br>R<sup>2</sup>=0.164607<br><br>Average Population from 2005-2015=%{x}<br>Average Total Olympic medals=%{y} <b>(trend)</b><extra></extra>",
         "legendgroup": "",
         "marker": {
          "color": "#636efa",
          "symbol": "circle"
         },
         "mode": "lines",
         "name": "",
         "showlegend": false,
         "type": "scatter",
         "x": [
          311000,
          1229500,
          1301000,
          2001000,
          2791000,
          2846000,
          3097500,
          4248500,
          4483750,
          4882250,
          4904250,
          5356500,
          5427000,
          5511750,
          7395750,
          7777750,
          9302750,
          9437750,
          9689750,
          9823000,
          9985500,
          10503500,
          10716250,
          10736250,
          10881500,
          11107250,
          16599000,
          17112750,
          21504250,
          21946250,
          23099500,
          24314250,
          27248500,
          27868000,
          31620000,
          33751750,
          38588500,
          40715250,
          41325500,
          44159250,
          45742750,
          46216000,
          48599000,
          51006750,
          60598000,
          62318750,
          64874000,
          66633000,
          74813500,
          76989000,
          80494000,
          81646250,
          86476750,
          114109500,
          127449000,
          142699500,
          195487750,
          243021250,
          308895500,
          1172222000,
          1335783250
         ],
         "xaxis": "x",
         "y": [
          11.954195020093659,
          11.987580995670296,
          11.990179903948718,
          12.01562376121997,
          12.044338971568957,
          12.046338131783127,
          12.055479746217014,
          12.09731671724446,
          12.105867670705978,
          12.120352495166827,
          12.121152159252496,
          12.137590708468101,
          12.140153268378992,
          12.143233792527191,
          12.211714116954393,
          12.225599193350991,
          12.281030453834793,
          12.285937483451391,
          12.295097272069043,
          12.299940692042464,
          12.305847301766148,
          12.324675756146876,
          12.332408871338961,
          12.333135838689568,
          12.338415439073353,
          12.346621083043331,
          12.546237230428199,
          12.564911204246922,
          12.724535060256509,
          12.740601038704927,
          12.782519793559318,
          12.826673973016826,
          12.933329170442791,
          12.95584698412785,
          13.092226059101769,
          13.169711691584618,
          13.345519658237098,
          13.422823548882297,
          13.4450051401677,
          13.548007326656863,
          13.605564966641193,
          13.622766831574936,
          13.709384991399789,
          13.796902773321019,
          14.145529053396606,
          14.208075506824477,
          14.300954672956435,
          14.364891451442341,
          14.66223927202447,
          14.741315145586773,
          14.868716173780692,
          14.910598580267552,
          15.086179369622966,
          16.09058472249758,
          16.57545377116885,
          17.12978455019064,
          19.048551262475282,
          20.776316390479757,
          23.170737840266717,
          54.55124676096797,
          60.496431189693425
         ],
         "yaxis": "y"
        }
       ],
       "layout": {
        "legend": {
         "tracegroupgap": 0
        },
        "template": {
         "data": {
          "bar": [
           {
            "error_x": {
             "color": "#2a3f5f"
            },
            "error_y": {
             "color": "#2a3f5f"
            },
            "marker": {
             "line": {
              "color": "#E5ECF6",
              "width": 0.5
             },
             "pattern": {
              "fillmode": "overlay",
              "size": 10,
              "solidity": 0.2
             }
            },
            "type": "bar"
           }
          ],
          "barpolar": [
           {
            "marker": {
             "line": {
              "color": "#E5ECF6",
              "width": 0.5
             },
             "pattern": {
              "fillmode": "overlay",
              "size": 10,
              "solidity": 0.2
             }
            },
            "type": "barpolar"
           }
          ],
          "carpet": [
           {
            "aaxis": {
             "endlinecolor": "#2a3f5f",
             "gridcolor": "white",
             "linecolor": "white",
             "minorgridcolor": "white",
             "startlinecolor": "#2a3f5f"
            },
            "baxis": {
             "endlinecolor": "#2a3f5f",
             "gridcolor": "white",
             "linecolor": "white",
             "minorgridcolor": "white",
             "startlinecolor": "#2a3f5f"
            },
            "type": "carpet"
           }
          ],
          "choropleth": [
           {
            "colorbar": {
             "outlinewidth": 0,
             "ticks": ""
            },
            "type": "choropleth"
           }
          ],
          "contour": [
           {
            "colorbar": {
             "outlinewidth": 0,
             "ticks": ""
            },
            "colorscale": [
             [
              0,
              "#0d0887"
             ],
             [
              0.1111111111111111,
              "#46039f"
             ],
             [
              0.2222222222222222,
              "#7201a8"
             ],
             [
              0.3333333333333333,
              "#9c179e"
             ],
             [
              0.4444444444444444,
              "#bd3786"
             ],
             [
              0.5555555555555556,
              "#d8576b"
             ],
             [
              0.6666666666666666,
              "#ed7953"
             ],
             [
              0.7777777777777778,
              "#fb9f3a"
             ],
             [
              0.8888888888888888,
              "#fdca26"
             ],
             [
              1,
              "#f0f921"
             ]
            ],
            "type": "contour"
           }
          ],
          "contourcarpet": [
           {
            "colorbar": {
             "outlinewidth": 0,
             "ticks": ""
            },
            "type": "contourcarpet"
           }
          ],
          "heatmap": [
           {
            "colorbar": {
             "outlinewidth": 0,
             "ticks": ""
            },
            "colorscale": [
             [
              0,
              "#0d0887"
             ],
             [
              0.1111111111111111,
              "#46039f"
             ],
             [
              0.2222222222222222,
              "#7201a8"
             ],
             [
              0.3333333333333333,
              "#9c179e"
             ],
             [
              0.4444444444444444,
              "#bd3786"
             ],
             [
              0.5555555555555556,
              "#d8576b"
             ],
             [
              0.6666666666666666,
              "#ed7953"
             ],
             [
              0.7777777777777778,
              "#fb9f3a"
             ],
             [
              0.8888888888888888,
              "#fdca26"
             ],
             [
              1,
              "#f0f921"
             ]
            ],
            "type": "heatmap"
           }
          ],
          "heatmapgl": [
           {
            "colorbar": {
             "outlinewidth": 0,
             "ticks": ""
            },
            "colorscale": [
             [
              0,
              "#0d0887"
             ],
             [
              0.1111111111111111,
              "#46039f"
             ],
             [
              0.2222222222222222,
              "#7201a8"
             ],
             [
              0.3333333333333333,
              "#9c179e"
             ],
             [
              0.4444444444444444,
              "#bd3786"
             ],
             [
              0.5555555555555556,
              "#d8576b"
             ],
             [
              0.6666666666666666,
              "#ed7953"
             ],
             [
              0.7777777777777778,
              "#fb9f3a"
             ],
             [
              0.8888888888888888,
              "#fdca26"
             ],
             [
              1,
              "#f0f921"
             ]
            ],
            "type": "heatmapgl"
           }
          ],
          "histogram": [
           {
            "marker": {
             "pattern": {
              "fillmode": "overlay",
              "size": 10,
              "solidity": 0.2
             }
            },
            "type": "histogram"
           }
          ],
          "histogram2d": [
           {
            "colorbar": {
             "outlinewidth": 0,
             "ticks": ""
            },
            "colorscale": [
             [
              0,
              "#0d0887"
             ],
             [
              0.1111111111111111,
              "#46039f"
             ],
             [
              0.2222222222222222,
              "#7201a8"
             ],
             [
              0.3333333333333333,
              "#9c179e"
             ],
             [
              0.4444444444444444,
              "#bd3786"
             ],
             [
              0.5555555555555556,
              "#d8576b"
             ],
             [
              0.6666666666666666,
              "#ed7953"
             ],
             [
              0.7777777777777778,
              "#fb9f3a"
             ],
             [
              0.8888888888888888,
              "#fdca26"
             ],
             [
              1,
              "#f0f921"
             ]
            ],
            "type": "histogram2d"
           }
          ],
          "histogram2dcontour": [
           {
            "colorbar": {
             "outlinewidth": 0,
             "ticks": ""
            },
            "colorscale": [
             [
              0,
              "#0d0887"
             ],
             [
              0.1111111111111111,
              "#46039f"
             ],
             [
              0.2222222222222222,
              "#7201a8"
             ],
             [
              0.3333333333333333,
              "#9c179e"
             ],
             [
              0.4444444444444444,
              "#bd3786"
             ],
             [
              0.5555555555555556,
              "#d8576b"
             ],
             [
              0.6666666666666666,
              "#ed7953"
             ],
             [
              0.7777777777777778,
              "#fb9f3a"
             ],
             [
              0.8888888888888888,
              "#fdca26"
             ],
             [
              1,
              "#f0f921"
             ]
            ],
            "type": "histogram2dcontour"
           }
          ],
          "mesh3d": [
           {
            "colorbar": {
             "outlinewidth": 0,
             "ticks": ""
            },
            "type": "mesh3d"
           }
          ],
          "parcoords": [
           {
            "line": {
             "colorbar": {
              "outlinewidth": 0,
              "ticks": ""
             }
            },
            "type": "parcoords"
           }
          ],
          "pie": [
           {
            "automargin": true,
            "type": "pie"
           }
          ],
          "scatter": [
           {
            "marker": {
             "colorbar": {
              "outlinewidth": 0,
              "ticks": ""
             }
            },
            "type": "scatter"
           }
          ],
          "scatter3d": [
           {
            "line": {
             "colorbar": {
              "outlinewidth": 0,
              "ticks": ""
             }
            },
            "marker": {
             "colorbar": {
              "outlinewidth": 0,
              "ticks": ""
             }
            },
            "type": "scatter3d"
           }
          ],
          "scattercarpet": [
           {
            "marker": {
             "colorbar": {
              "outlinewidth": 0,
              "ticks": ""
             }
            },
            "type": "scattercarpet"
           }
          ],
          "scattergeo": [
           {
            "marker": {
             "colorbar": {
              "outlinewidth": 0,
              "ticks": ""
             }
            },
            "type": "scattergeo"
           }
          ],
          "scattergl": [
           {
            "marker": {
             "colorbar": {
              "outlinewidth": 0,
              "ticks": ""
             }
            },
            "type": "scattergl"
           }
          ],
          "scattermapbox": [
           {
            "marker": {
             "colorbar": {
              "outlinewidth": 0,
              "ticks": ""
             }
            },
            "type": "scattermapbox"
           }
          ],
          "scatterpolar": [
           {
            "marker": {
             "colorbar": {
              "outlinewidth": 0,
              "ticks": ""
             }
            },
            "type": "scatterpolar"
           }
          ],
          "scatterpolargl": [
           {
            "marker": {
             "colorbar": {
              "outlinewidth": 0,
              "ticks": ""
             }
            },
            "type": "scatterpolargl"
           }
          ],
          "scatterternary": [
           {
            "marker": {
             "colorbar": {
              "outlinewidth": 0,
              "ticks": ""
             }
            },
            "type": "scatterternary"
           }
          ],
          "surface": [
           {
            "colorbar": {
             "outlinewidth": 0,
             "ticks": ""
            },
            "colorscale": [
             [
              0,
              "#0d0887"
             ],
             [
              0.1111111111111111,
              "#46039f"
             ],
             [
              0.2222222222222222,
              "#7201a8"
             ],
             [
              0.3333333333333333,
              "#9c179e"
             ],
             [
              0.4444444444444444,
              "#bd3786"
             ],
             [
              0.5555555555555556,
              "#d8576b"
             ],
             [
              0.6666666666666666,
              "#ed7953"
             ],
             [
              0.7777777777777778,
              "#fb9f3a"
             ],
             [
              0.8888888888888888,
              "#fdca26"
             ],
             [
              1,
              "#f0f921"
             ]
            ],
            "type": "surface"
           }
          ],
          "table": [
           {
            "cells": {
             "fill": {
              "color": "#EBF0F8"
             },
             "line": {
              "color": "white"
             }
            },
            "header": {
             "fill": {
              "color": "#C8D4E3"
             },
             "line": {
              "color": "white"
             }
            },
            "type": "table"
           }
          ]
         },
         "layout": {
          "annotationdefaults": {
           "arrowcolor": "#2a3f5f",
           "arrowhead": 0,
           "arrowwidth": 1
          },
          "autotypenumbers": "strict",
          "coloraxis": {
           "colorbar": {
            "outlinewidth": 0,
            "ticks": ""
           }
          },
          "colorscale": {
           "diverging": [
            [
             0,
             "#8e0152"
            ],
            [
             0.1,
             "#c51b7d"
            ],
            [
             0.2,
             "#de77ae"
            ],
            [
             0.3,
             "#f1b6da"
            ],
            [
             0.4,
             "#fde0ef"
            ],
            [
             0.5,
             "#f7f7f7"
            ],
            [
             0.6,
             "#e6f5d0"
            ],
            [
             0.7,
             "#b8e186"
            ],
            [
             0.8,
             "#7fbc41"
            ],
            [
             0.9,
             "#4d9221"
            ],
            [
             1,
             "#276419"
            ]
           ],
           "sequential": [
            [
             0,
             "#0d0887"
            ],
            [
             0.1111111111111111,
             "#46039f"
            ],
            [
             0.2222222222222222,
             "#7201a8"
            ],
            [
             0.3333333333333333,
             "#9c179e"
            ],
            [
             0.4444444444444444,
             "#bd3786"
            ],
            [
             0.5555555555555556,
             "#d8576b"
            ],
            [
             0.6666666666666666,
             "#ed7953"
            ],
            [
             0.7777777777777778,
             "#fb9f3a"
            ],
            [
             0.8888888888888888,
             "#fdca26"
            ],
            [
             1,
             "#f0f921"
            ]
           ],
           "sequentialminus": [
            [
             0,
             "#0d0887"
            ],
            [
             0.1111111111111111,
             "#46039f"
            ],
            [
             0.2222222222222222,
             "#7201a8"
            ],
            [
             0.3333333333333333,
             "#9c179e"
            ],
            [
             0.4444444444444444,
             "#bd3786"
            ],
            [
             0.5555555555555556,
             "#d8576b"
            ],
            [
             0.6666666666666666,
             "#ed7953"
            ],
            [
             0.7777777777777778,
             "#fb9f3a"
            ],
            [
             0.8888888888888888,
             "#fdca26"
            ],
            [
             1,
             "#f0f921"
            ]
           ]
          },
          "colorway": [
           "#636efa",
           "#EF553B",
           "#00cc96",
           "#ab63fa",
           "#FFA15A",
           "#19d3f3",
           "#FF6692",
           "#B6E880",
           "#FF97FF",
           "#FECB52"
          ],
          "font": {
           "color": "#2a3f5f"
          },
          "geo": {
           "bgcolor": "white",
           "lakecolor": "white",
           "landcolor": "#E5ECF6",
           "showlakes": true,
           "showland": true,
           "subunitcolor": "white"
          },
          "hoverlabel": {
           "align": "left"
          },
          "hovermode": "closest",
          "mapbox": {
           "style": "light"
          },
          "paper_bgcolor": "white",
          "plot_bgcolor": "#E5ECF6",
          "polar": {
           "angularaxis": {
            "gridcolor": "white",
            "linecolor": "white",
            "ticks": ""
           },
           "bgcolor": "#E5ECF6",
           "radialaxis": {
            "gridcolor": "white",
            "linecolor": "white",
            "ticks": ""
           }
          },
          "scene": {
           "xaxis": {
            "backgroundcolor": "#E5ECF6",
            "gridcolor": "white",
            "gridwidth": 2,
            "linecolor": "white",
            "showbackground": true,
            "ticks": "",
            "zerolinecolor": "white"
           },
           "yaxis": {
            "backgroundcolor": "#E5ECF6",
            "gridcolor": "white",
            "gridwidth": 2,
            "linecolor": "white",
            "showbackground": true,
            "ticks": "",
            "zerolinecolor": "white"
           },
           "zaxis": {
            "backgroundcolor": "#E5ECF6",
            "gridcolor": "white",
            "gridwidth": 2,
            "linecolor": "white",
            "showbackground": true,
            "ticks": "",
            "zerolinecolor": "white"
           }
          },
          "shapedefaults": {
           "line": {
            "color": "#2a3f5f"
           }
          },
          "ternary": {
           "aaxis": {
            "gridcolor": "white",
            "linecolor": "white",
            "ticks": ""
           },
           "baxis": {
            "gridcolor": "white",
            "linecolor": "white",
            "ticks": ""
           },
           "bgcolor": "#E5ECF6",
           "caxis": {
            "gridcolor": "white",
            "linecolor": "white",
            "ticks": ""
           }
          },
          "title": {
           "x": 0.05
          },
          "xaxis": {
           "automargin": true,
           "gridcolor": "white",
           "linecolor": "white",
           "ticks": "",
           "title": {
            "standoff": 15
           },
           "zerolinecolor": "white",
           "zerolinewidth": 2
          },
          "yaxis": {
           "automargin": true,
           "gridcolor": "white",
           "linecolor": "white",
           "ticks": "",
           "title": {
            "standoff": 15
           },
           "zerolinecolor": "white",
           "zerolinewidth": 2
          }
         }
        },
        "title": {
         "text": "Average Population vs Average Total medals from 2004-2016"
        },
        "xaxis": {
         "anchor": "y",
         "domain": [
          0,
          1
         ],
         "title": {
          "text": "Average Population from 2005-2015"
         },
         "type": "log"
        },
        "yaxis": {
         "anchor": "x",
         "domain": [
          0,
          1
         ],
         "title": {
          "text": "Average Total Olympic medals"
         }
        }
       }
      }
     },
     "metadata": {},
     "output_type": "display_data"
    }
   ],
   "source": [
    "fig = px.scatter(\n",
    "                 oad,\n",
    "                 x = oad[\"Average Pop\"],\n",
    "                 y = oad[\"Average Total\"],\n",
    "                 trendline=\"ols\",\n",
    "                 labels={\"Average Pop\" :\"Average Population from 2005-2015\",\n",
    "                 \"Average Total\" : \"Average Total Olympic medals\"},\n",
    "                 title=f\"Average Population vs Average Total medals from 2004-2016\",\n",
    "                 hover_data=[\"Country\"],\n",
    "                 log_x=True,\n",
    "                )\n",
    "fig.show()"
   ]
  },
  {
   "cell_type": "code",
   "execution_count": null,
   "metadata": {},
   "outputs": [
    {
     "data": {
      "application/vnd.plotly.v1+json": {
       "config": {
        "plotlyServerURL": "https://plot.ly"
       },
       "data": [
        {
         "customdata": [
          [
           "United States"
          ],
          [
           "China"
          ],
          [
           "Great Britain"
          ],
          [
           "Russia"
          ],
          [
           "South Korea"
          ],
          [
           "Germany"
          ],
          [
           "France"
          ],
          [
           "Australia"
          ],
          [
           "Italy"
          ],
          [
           "Hungary"
          ],
          [
           "Japan"
          ],
          [
           "Iran"
          ],
          [
           "Netherlands"
          ],
          [
           "New Zealand"
          ],
          [
           "Ukraine"
          ],
          [
           "Cuba"
          ],
          [
           "Spain"
          ],
          [
           "Jamaica"
          ],
          [
           "Czech Republic"
          ],
          [
           "South Africa"
          ],
          [
           "North Korea"
          ],
          [
           "Brazil"
          ],
          [
           "Kazakhstan"
          ],
          [
           "Poland"
          ],
          [
           "Ethiopia"
          ],
          [
           "Croatia"
          ],
          [
           "Canada"
          ],
          [
           "Belarus"
          ],
          [
           "Kenya"
          ],
          [
           "Denmark"
          ],
          [
           "Romania"
          ],
          [
           "Azerbaijan"
          ],
          [
           "Switzerland"
          ],
          [
           "Norway"
          ],
          [
           "Lithuania"
          ],
          [
           "Sweden"
          ],
          [
           "Colombia"
          ],
          [
           "Mexico"
          ],
          [
           "Georgia"
          ],
          [
           "Argentina"
          ],
          [
           "Slovenia"
          ],
          [
           "Trinidad and Tobago"
          ],
          [
           "Turkey"
          ],
          [
           "Dominican Republic"
          ],
          [
           "Chinese Taipei"
          ],
          [
           "Bahamas"
          ],
          [
           "Venezuela"
          ],
          [
           "Egypt"
          ],
          [
           "India"
          ],
          [
           "Mongolia"
          ],
          [
           "Thailand"
          ],
          [
           "Bulgaria"
          ],
          [
           "Finland"
          ],
          [
           "Indonesia"
          ],
          [
           "Slovakia"
          ],
          [
           "Belgium"
          ],
          [
           "Estonia"
          ],
          [
           "Portugal"
          ],
          [
           "Uzbekistan"
          ],
          [
           "Greece"
          ],
          [
           "Morocco"
          ]
         ],
         "hovertemplate": "Average Population from 2005-2015=%{x}<br>GDP (per capita) in dollars=%{y}<br>Country=%{customdata[0]}<extra></extra>",
         "legendgroup": "",
         "marker": {
          "color": "#636efa",
          "symbol": "circle"
         },
         "mode": "markers",
         "name": "",
         "orientation": "v",
         "showlegend": false,
         "type": "scatter",
         "x": [
          308895500,
          1335783250,
          62318750,
          142699500,
          48599000,
          81646250,
          64874000,
          21504250,
          60598000,
          9985500,
          127449000,
          76989000,
          16599000,
          4248500,
          45742750,
          11107250,
          46216000,
          2846000,
          10503500,
          51006750,
          24314250,
          195487750,
          17112750,
          38588500,
          86476750,
          4483750,
          33751750,
          9689750,
          40715250,
          5511750,
          21946250,
          9302750,
          7777750,
          4904250,
          3097500,
          9437750,
          44159250,
          114109500,
          4882250,
          41325500,
          2001000,
          1229500,
          74813500,
          9823000,
          23099500,
          311000,
          27248500,
          80494000,
          1172222000,
          2791000,
          66633000,
          7395750,
          5356500,
          243021250,
          5427000,
          10881500,
          1301000,
          10716250,
          27868000,
          10736250,
          31620000
         ],
         "xaxis": "x",
         "y": [
          49922.5,
          9112.75,
          37752.75,
          21202.75,
          30886.5,
          41603.5,
          38282.5,
          41489.5,
          36366.25,
          23105,
          36154.5,
          14800,
          45762.5,
          32512.25,
          9071,
          5722.5,
          32370.25,
          8618.25,
          28733.5,
          12460.25,
          577.25,
          13339.25,
          18916.75,
          21511,
          1231,
          20852.75,
          40863.5,
          14560.25,
          3067.25,
          44776.5,
          18250.75,
          12230,
          57695.75,
          59706,
          23243.5,
          43016.5,
          11275.5,
          16661.75,
          8585,
          17454.75,
          28867,
          27380.5,
          19276.25,
          11786.5,
          37631.75,
          32640,
          15666.5,
          10137.75,
          4176,
          8227,
          13338.5,
          15247.25,
          40042.5,
          8540.5,
          24348.25,
          41098.5,
          25067,
          26861.75,
          5307.75,
          27033,
          6221
         ],
         "yaxis": "y"
        },
        {
         "hovertemplate": "<b>OLS trendline</b><br>Average GDP = -1.35409e-05 * Average Pop + 24609.5<br>R<sup>2</sup>=0.043618<br><br>Average Population from 2005-2015=%{x}<br>GDP (per capita) in dollars=%{y} <b>(trend)</b><extra></extra>",
         "legendgroup": "",
         "marker": {
          "color": "#636efa",
          "symbol": "circle"
         },
         "mode": "lines",
         "name": "",
         "showlegend": false,
         "type": "scatter",
         "x": [
          311000,
          1229500,
          1301000,
          2001000,
          2791000,
          2846000,
          3097500,
          4248500,
          4483750,
          4882250,
          4904250,
          5356500,
          5427000,
          5511750,
          7395750,
          7777750,
          9302750,
          9437750,
          9689750,
          9823000,
          9985500,
          10503500,
          10716250,
          10736250,
          10881500,
          11107250,
          16599000,
          17112750,
          21504250,
          21946250,
          23099500,
          24314250,
          27248500,
          27868000,
          31620000,
          33751750,
          38588500,
          40715250,
          41325500,
          44159250,
          45742750,
          46216000,
          48599000,
          51006750,
          60598000,
          62318750,
          64874000,
          66633000,
          74813500,
          76989000,
          80494000,
          81646250,
          86476750,
          114109500,
          127449000,
          142699500,
          195487750,
          243021250,
          308895500,
          1172222000,
          1335783250
         ],
         "xaxis": "x",
         "y": [
          24605.28005741264,
          24592.842728744316,
          24591.874553458758,
          24582.395914299446,
          24571.698592962508,
          24570.953842742845,
          24567.548303102038,
          24551.96271214151,
          24548.777212338326,
          24543.38115847406,
          24543.0832583862,
          24536.959380443626,
          24536.004746071154,
          24534.857153687222,
          24509.346073435587,
          24504.17344463722,
          24483.523552183004,
          24481.695528916567,
          24478.283218819215,
          24476.478892150673,
          24474.278493774404,
          24467.264300796513,
          24464.383471537734,
          24464.112653276043,
          24462.145835650485,
          24459.088974521605,
          24384.72566508853,
          24377.769020991247,
          24318.30410117965,
          24312.319017596197,
          24296.70295958123,
          24280.254135411553,
          24240.52171119268,
          24232.133115536686,
          24181.327609642773,
          24152.461768174395,
          24086.96775681182,
          24058.169619908866,
          24049.90627769891,
          24011.53471524505,
          23990.092679375375,
          23983.684442258025,
          23951.416446377112,
          23918.813312897346,
          23788.939030273414,
          23765.63850408286,
          23731.0380859231,
          23707.219619807056,
          23596.448180317406,
          23566.989923901572,
          23519.529023539588,
          23503.926506437707,
          23438.51712578191,
          23064.344459739787,
          22883.715449646006,
          22677.2097546473,
          21962.408649502206,
          21318.761657389103,
          20426.76416361721,
          8736.535063371457,
          6521.766393091359
         ],
         "yaxis": "y"
        }
       ],
       "layout": {
        "legend": {
         "tracegroupgap": 0
        },
        "template": {
         "data": {
          "bar": [
           {
            "error_x": {
             "color": "#2a3f5f"
            },
            "error_y": {
             "color": "#2a3f5f"
            },
            "marker": {
             "line": {
              "color": "#E5ECF6",
              "width": 0.5
             },
             "pattern": {
              "fillmode": "overlay",
              "size": 10,
              "solidity": 0.2
             }
            },
            "type": "bar"
           }
          ],
          "barpolar": [
           {
            "marker": {
             "line": {
              "color": "#E5ECF6",
              "width": 0.5
             },
             "pattern": {
              "fillmode": "overlay",
              "size": 10,
              "solidity": 0.2
             }
            },
            "type": "barpolar"
           }
          ],
          "carpet": [
           {
            "aaxis": {
             "endlinecolor": "#2a3f5f",
             "gridcolor": "white",
             "linecolor": "white",
             "minorgridcolor": "white",
             "startlinecolor": "#2a3f5f"
            },
            "baxis": {
             "endlinecolor": "#2a3f5f",
             "gridcolor": "white",
             "linecolor": "white",
             "minorgridcolor": "white",
             "startlinecolor": "#2a3f5f"
            },
            "type": "carpet"
           }
          ],
          "choropleth": [
           {
            "colorbar": {
             "outlinewidth": 0,
             "ticks": ""
            },
            "type": "choropleth"
           }
          ],
          "contour": [
           {
            "colorbar": {
             "outlinewidth": 0,
             "ticks": ""
            },
            "colorscale": [
             [
              0,
              "#0d0887"
             ],
             [
              0.1111111111111111,
              "#46039f"
             ],
             [
              0.2222222222222222,
              "#7201a8"
             ],
             [
              0.3333333333333333,
              "#9c179e"
             ],
             [
              0.4444444444444444,
              "#bd3786"
             ],
             [
              0.5555555555555556,
              "#d8576b"
             ],
             [
              0.6666666666666666,
              "#ed7953"
             ],
             [
              0.7777777777777778,
              "#fb9f3a"
             ],
             [
              0.8888888888888888,
              "#fdca26"
             ],
             [
              1,
              "#f0f921"
             ]
            ],
            "type": "contour"
           }
          ],
          "contourcarpet": [
           {
            "colorbar": {
             "outlinewidth": 0,
             "ticks": ""
            },
            "type": "contourcarpet"
           }
          ],
          "heatmap": [
           {
            "colorbar": {
             "outlinewidth": 0,
             "ticks": ""
            },
            "colorscale": [
             [
              0,
              "#0d0887"
             ],
             [
              0.1111111111111111,
              "#46039f"
             ],
             [
              0.2222222222222222,
              "#7201a8"
             ],
             [
              0.3333333333333333,
              "#9c179e"
             ],
             [
              0.4444444444444444,
              "#bd3786"
             ],
             [
              0.5555555555555556,
              "#d8576b"
             ],
             [
              0.6666666666666666,
              "#ed7953"
             ],
             [
              0.7777777777777778,
              "#fb9f3a"
             ],
             [
              0.8888888888888888,
              "#fdca26"
             ],
             [
              1,
              "#f0f921"
             ]
            ],
            "type": "heatmap"
           }
          ],
          "heatmapgl": [
           {
            "colorbar": {
             "outlinewidth": 0,
             "ticks": ""
            },
            "colorscale": [
             [
              0,
              "#0d0887"
             ],
             [
              0.1111111111111111,
              "#46039f"
             ],
             [
              0.2222222222222222,
              "#7201a8"
             ],
             [
              0.3333333333333333,
              "#9c179e"
             ],
             [
              0.4444444444444444,
              "#bd3786"
             ],
             [
              0.5555555555555556,
              "#d8576b"
             ],
             [
              0.6666666666666666,
              "#ed7953"
             ],
             [
              0.7777777777777778,
              "#fb9f3a"
             ],
             [
              0.8888888888888888,
              "#fdca26"
             ],
             [
              1,
              "#f0f921"
             ]
            ],
            "type": "heatmapgl"
           }
          ],
          "histogram": [
           {
            "marker": {
             "pattern": {
              "fillmode": "overlay",
              "size": 10,
              "solidity": 0.2
             }
            },
            "type": "histogram"
           }
          ],
          "histogram2d": [
           {
            "colorbar": {
             "outlinewidth": 0,
             "ticks": ""
            },
            "colorscale": [
             [
              0,
              "#0d0887"
             ],
             [
              0.1111111111111111,
              "#46039f"
             ],
             [
              0.2222222222222222,
              "#7201a8"
             ],
             [
              0.3333333333333333,
              "#9c179e"
             ],
             [
              0.4444444444444444,
              "#bd3786"
             ],
             [
              0.5555555555555556,
              "#d8576b"
             ],
             [
              0.6666666666666666,
              "#ed7953"
             ],
             [
              0.7777777777777778,
              "#fb9f3a"
             ],
             [
              0.8888888888888888,
              "#fdca26"
             ],
             [
              1,
              "#f0f921"
             ]
            ],
            "type": "histogram2d"
           }
          ],
          "histogram2dcontour": [
           {
            "colorbar": {
             "outlinewidth": 0,
             "ticks": ""
            },
            "colorscale": [
             [
              0,
              "#0d0887"
             ],
             [
              0.1111111111111111,
              "#46039f"
             ],
             [
              0.2222222222222222,
              "#7201a8"
             ],
             [
              0.3333333333333333,
              "#9c179e"
             ],
             [
              0.4444444444444444,
              "#bd3786"
             ],
             [
              0.5555555555555556,
              "#d8576b"
             ],
             [
              0.6666666666666666,
              "#ed7953"
             ],
             [
              0.7777777777777778,
              "#fb9f3a"
             ],
             [
              0.8888888888888888,
              "#fdca26"
             ],
             [
              1,
              "#f0f921"
             ]
            ],
            "type": "histogram2dcontour"
           }
          ],
          "mesh3d": [
           {
            "colorbar": {
             "outlinewidth": 0,
             "ticks": ""
            },
            "type": "mesh3d"
           }
          ],
          "parcoords": [
           {
            "line": {
             "colorbar": {
              "outlinewidth": 0,
              "ticks": ""
             }
            },
            "type": "parcoords"
           }
          ],
          "pie": [
           {
            "automargin": true,
            "type": "pie"
           }
          ],
          "scatter": [
           {
            "marker": {
             "colorbar": {
              "outlinewidth": 0,
              "ticks": ""
             }
            },
            "type": "scatter"
           }
          ],
          "scatter3d": [
           {
            "line": {
             "colorbar": {
              "outlinewidth": 0,
              "ticks": ""
             }
            },
            "marker": {
             "colorbar": {
              "outlinewidth": 0,
              "ticks": ""
             }
            },
            "type": "scatter3d"
           }
          ],
          "scattercarpet": [
           {
            "marker": {
             "colorbar": {
              "outlinewidth": 0,
              "ticks": ""
             }
            },
            "type": "scattercarpet"
           }
          ],
          "scattergeo": [
           {
            "marker": {
             "colorbar": {
              "outlinewidth": 0,
              "ticks": ""
             }
            },
            "type": "scattergeo"
           }
          ],
          "scattergl": [
           {
            "marker": {
             "colorbar": {
              "outlinewidth": 0,
              "ticks": ""
             }
            },
            "type": "scattergl"
           }
          ],
          "scattermapbox": [
           {
            "marker": {
             "colorbar": {
              "outlinewidth": 0,
              "ticks": ""
             }
            },
            "type": "scattermapbox"
           }
          ],
          "scatterpolar": [
           {
            "marker": {
             "colorbar": {
              "outlinewidth": 0,
              "ticks": ""
             }
            },
            "type": "scatterpolar"
           }
          ],
          "scatterpolargl": [
           {
            "marker": {
             "colorbar": {
              "outlinewidth": 0,
              "ticks": ""
             }
            },
            "type": "scatterpolargl"
           }
          ],
          "scatterternary": [
           {
            "marker": {
             "colorbar": {
              "outlinewidth": 0,
              "ticks": ""
             }
            },
            "type": "scatterternary"
           }
          ],
          "surface": [
           {
            "colorbar": {
             "outlinewidth": 0,
             "ticks": ""
            },
            "colorscale": [
             [
              0,
              "#0d0887"
             ],
             [
              0.1111111111111111,
              "#46039f"
             ],
             [
              0.2222222222222222,
              "#7201a8"
             ],
             [
              0.3333333333333333,
              "#9c179e"
             ],
             [
              0.4444444444444444,
              "#bd3786"
             ],
             [
              0.5555555555555556,
              "#d8576b"
             ],
             [
              0.6666666666666666,
              "#ed7953"
             ],
             [
              0.7777777777777778,
              "#fb9f3a"
             ],
             [
              0.8888888888888888,
              "#fdca26"
             ],
             [
              1,
              "#f0f921"
             ]
            ],
            "type": "surface"
           }
          ],
          "table": [
           {
            "cells": {
             "fill": {
              "color": "#EBF0F8"
             },
             "line": {
              "color": "white"
             }
            },
            "header": {
             "fill": {
              "color": "#C8D4E3"
             },
             "line": {
              "color": "white"
             }
            },
            "type": "table"
           }
          ]
         },
         "layout": {
          "annotationdefaults": {
           "arrowcolor": "#2a3f5f",
           "arrowhead": 0,
           "arrowwidth": 1
          },
          "autotypenumbers": "strict",
          "coloraxis": {
           "colorbar": {
            "outlinewidth": 0,
            "ticks": ""
           }
          },
          "colorscale": {
           "diverging": [
            [
             0,
             "#8e0152"
            ],
            [
             0.1,
             "#c51b7d"
            ],
            [
             0.2,
             "#de77ae"
            ],
            [
             0.3,
             "#f1b6da"
            ],
            [
             0.4,
             "#fde0ef"
            ],
            [
             0.5,
             "#f7f7f7"
            ],
            [
             0.6,
             "#e6f5d0"
            ],
            [
             0.7,
             "#b8e186"
            ],
            [
             0.8,
             "#7fbc41"
            ],
            [
             0.9,
             "#4d9221"
            ],
            [
             1,
             "#276419"
            ]
           ],
           "sequential": [
            [
             0,
             "#0d0887"
            ],
            [
             0.1111111111111111,
             "#46039f"
            ],
            [
             0.2222222222222222,
             "#7201a8"
            ],
            [
             0.3333333333333333,
             "#9c179e"
            ],
            [
             0.4444444444444444,
             "#bd3786"
            ],
            [
             0.5555555555555556,
             "#d8576b"
            ],
            [
             0.6666666666666666,
             "#ed7953"
            ],
            [
             0.7777777777777778,
             "#fb9f3a"
            ],
            [
             0.8888888888888888,
             "#fdca26"
            ],
            [
             1,
             "#f0f921"
            ]
           ],
           "sequentialminus": [
            [
             0,
             "#0d0887"
            ],
            [
             0.1111111111111111,
             "#46039f"
            ],
            [
             0.2222222222222222,
             "#7201a8"
            ],
            [
             0.3333333333333333,
             "#9c179e"
            ],
            [
             0.4444444444444444,
             "#bd3786"
            ],
            [
             0.5555555555555556,
             "#d8576b"
            ],
            [
             0.6666666666666666,
             "#ed7953"
            ],
            [
             0.7777777777777778,
             "#fb9f3a"
            ],
            [
             0.8888888888888888,
             "#fdca26"
            ],
            [
             1,
             "#f0f921"
            ]
           ]
          },
          "colorway": [
           "#636efa",
           "#EF553B",
           "#00cc96",
           "#ab63fa",
           "#FFA15A",
           "#19d3f3",
           "#FF6692",
           "#B6E880",
           "#FF97FF",
           "#FECB52"
          ],
          "font": {
           "color": "#2a3f5f"
          },
          "geo": {
           "bgcolor": "white",
           "lakecolor": "white",
           "landcolor": "#E5ECF6",
           "showlakes": true,
           "showland": true,
           "subunitcolor": "white"
          },
          "hoverlabel": {
           "align": "left"
          },
          "hovermode": "closest",
          "mapbox": {
           "style": "light"
          },
          "paper_bgcolor": "white",
          "plot_bgcolor": "#E5ECF6",
          "polar": {
           "angularaxis": {
            "gridcolor": "white",
            "linecolor": "white",
            "ticks": ""
           },
           "bgcolor": "#E5ECF6",
           "radialaxis": {
            "gridcolor": "white",
            "linecolor": "white",
            "ticks": ""
           }
          },
          "scene": {
           "xaxis": {
            "backgroundcolor": "#E5ECF6",
            "gridcolor": "white",
            "gridwidth": 2,
            "linecolor": "white",
            "showbackground": true,
            "ticks": "",
            "zerolinecolor": "white"
           },
           "yaxis": {
            "backgroundcolor": "#E5ECF6",
            "gridcolor": "white",
            "gridwidth": 2,
            "linecolor": "white",
            "showbackground": true,
            "ticks": "",
            "zerolinecolor": "white"
           },
           "zaxis": {
            "backgroundcolor": "#E5ECF6",
            "gridcolor": "white",
            "gridwidth": 2,
            "linecolor": "white",
            "showbackground": true,
            "ticks": "",
            "zerolinecolor": "white"
           }
          },
          "shapedefaults": {
           "line": {
            "color": "#2a3f5f"
           }
          },
          "ternary": {
           "aaxis": {
            "gridcolor": "white",
            "linecolor": "white",
            "ticks": ""
           },
           "baxis": {
            "gridcolor": "white",
            "linecolor": "white",
            "ticks": ""
           },
           "bgcolor": "#E5ECF6",
           "caxis": {
            "gridcolor": "white",
            "linecolor": "white",
            "ticks": ""
           }
          },
          "title": {
           "x": 0.05
          },
          "xaxis": {
           "automargin": true,
           "gridcolor": "white",
           "linecolor": "white",
           "ticks": "",
           "title": {
            "standoff": 15
           },
           "zerolinecolor": "white",
           "zerolinewidth": 2
          },
          "yaxis": {
           "automargin": true,
           "gridcolor": "white",
           "linecolor": "white",
           "ticks": "",
           "title": {
            "standoff": 15
           },
           "zerolinecolor": "white",
           "zerolinewidth": 2
          }
         }
        },
        "title": {
         "text": "Average GDP vs Average Population"
        },
        "xaxis": {
         "anchor": "y",
         "domain": [
          0,
          1
         ],
         "title": {
          "text": "Average Population from 2005-2015"
         },
         "type": "log"
        },
        "yaxis": {
         "anchor": "x",
         "domain": [
          0,
          1
         ],
         "title": {
          "text": "GDP (per capita) in dollars"
         }
        }
       }
      }
     },
     "metadata": {},
     "output_type": "display_data"
    }
   ],
   "source": [
    "fig = px.scatter(\n",
    "                 oad,\n",
    "                 x = oad[\"Average Pop\"],\n",
    "                 y = oad[\"Average GDP\"],\n",
    "                 trendline=\"ols\",\n",
    "                 labels={\"Average GDP\" :\"GDP (per capita) in dollars\",\n",
    "                 \"Average Pop\" : \"Average Population from 2005-2015\"},\n",
    "                 title=f\"Average GDP vs Average Population\",\n",
    "                 hover_data=[\"Country\"],\n",
    "                 log_x=True,\n",
    "                )\n",
    "fig.show()"
   ]
  },
  {
   "cell_type": "code",
   "execution_count": null,
   "metadata": {},
   "outputs": [
    {
     "data": {
      "application/vnd.plotly.v1+json": {
       "config": {
        "plotlyServerURL": "https://plot.ly"
       },
       "data": [
        {
         "customdata": [
          [
           "Argentina"
          ],
          [
           "Australia"
          ],
          [
           "Azerbaijan"
          ],
          [
           "Bahamas"
          ],
          [
           "Belarus"
          ],
          [
           "Belgium"
          ],
          [
           "Brazil"
          ],
          [
           "Bulgaria"
          ],
          [
           "Canada"
          ],
          [
           "China"
          ],
          [
           "Chinese Taipei"
          ],
          [
           "Colombia"
          ],
          [
           "Croatia"
          ],
          [
           "Cuba"
          ],
          [
           "Czech Republic"
          ],
          [
           "Denmark"
          ],
          [
           "Dominican Republic"
          ],
          [
           "Egypt"
          ],
          [
           "Estonia"
          ],
          [
           "Ethiopia"
          ],
          [
           "Finland"
          ],
          [
           "France"
          ],
          [
           "Georgia"
          ],
          [
           "Germany"
          ],
          [
           "Great Britain"
          ],
          [
           "Greece"
          ],
          [
           "Hungary"
          ],
          [
           "India"
          ],
          [
           "Indonesia"
          ],
          [
           "Iran"
          ],
          [
           "Italy"
          ],
          [
           "Jamaica"
          ],
          [
           "Japan"
          ],
          [
           "Kazakhstan"
          ],
          [
           "Kenya"
          ],
          [
           "Lithuania"
          ],
          [
           "Mexico"
          ],
          [
           "Mongolia"
          ],
          [
           "Morocco"
          ],
          [
           "Netherlands"
          ],
          [
           "New Zealand"
          ],
          [
           "North Korea"
          ],
          [
           "Norway"
          ],
          [
           "Poland"
          ],
          [
           "Portugal"
          ],
          [
           "Romania"
          ],
          [
           "Russia"
          ],
          [
           "Slovakia"
          ],
          [
           "Slovenia"
          ],
          [
           "South Africa"
          ],
          [
           "South Korea"
          ],
          [
           "Spain"
          ],
          [
           "Sweden"
          ],
          [
           "Switzerland"
          ],
          [
           "Thailand"
          ],
          [
           "Trinidad and Tobago"
          ],
          [
           "Turkey"
          ],
          [
           "Ukraine"
          ],
          [
           "United States"
          ],
          [
           "Uzbekistan"
          ],
          [
           "Venezuela"
          ]
         ],
         "hovertemplate": "Year=2004<br>Population (in thousands)=%{x}<br>GDP (per capita) in dollars=%{y}<br>Country=%{customdata[0]}<extra></extra>",
         "legendgroup": "2004",
         "marker": {
          "color": "#636efa",
          "symbol": "circle"
         },
         "mode": "markers",
         "name": "2004",
         "orientation": "v",
         "showlegend": true,
         "type": "scatter",
         "x": [
          39182,
          20233,
          8826,
          297,
          9807,
          10470,
          186021,
          7612,
          32387,
          1302285,
          22728,
          41488,
          4496,
          11199,
          10267,
          5433,
          9165,
          72544,
          1332,
          74355,
          5239,
          63060,
          4791,
          82440,
          60488,
          10669,
          10058,
          1090974,
          229245,
          72283,
          59038,
          2737,
          127716,
          16123,
          35247,
          3327,
          106577,
          2603,
          29901,
          16300,
          4049,
          23621,
          4625,
          38557,
          10567,
          22198,
          143320,
          5408,
          2012,
          48105,
          48006,
          43705,
          9083,
          7449,
          65113,
          1237,
          70465,
          47003,
          295517,
          26540,
          25270
         ],
         "xaxis": "x",
         "y": [
          12303,
          34390,
          5220,
          29379,
          8463,
          33545,
          10514,
          9965,
          34390,
          4381,
          26562,
          7990,
          16203,
          3399,
          21045,
          37792,
          7608,
          7484,
          17965,
          571,
          33076,
          32255,
          4539,
          32645,
          31688,
          25345,
          18544,
          2474,
          5859,
          13190,
          32577,
          7488,
          30836,
          12381,
          2191,
          14644,
          13878,
          5083,
          4663,
          37263,
          26745,
          473,
          53167,
          14358,
          22832,
          11808,
          14728,
          16258,
          22385,
          10058,
          21872,
          27856,
          34868,
          45660,
          9611,
          21910,
          13045,
          6536,
          41642,
          3374,
          12194
         ],
         "yaxis": "y"
        },
        {
         "hovertemplate": "<b>OLS trendline</b><br>GDP = -0.0121573 * Pop + 19344.6<br>R<sup>2</sup>=0.042075<br><br>Year=2004<br>Population (in thousands)=%{x}<br>GDP (per capita) in dollars=%{y} <b>(trend)</b><extra></extra>",
         "legendgroup": "2004",
         "marker": {
          "color": "#636efa",
          "symbol": "circle"
         },
         "mode": "lines",
         "name": "2004",
         "showlegend": false,
         "type": "scatter",
         "x": [
          297,
          1237,
          1332,
          2012,
          2603,
          2737,
          3327,
          4049,
          4496,
          4625,
          4791,
          5239,
          5408,
          5433,
          7449,
          7612,
          8826,
          9083,
          9165,
          9807,
          10058,
          10267,
          10470,
          10567,
          10669,
          11199,
          16123,
          16300,
          20233,
          22198,
          22728,
          23621,
          25270,
          26540,
          29901,
          32387,
          35247,
          38557,
          39182,
          41488,
          43705,
          47003,
          48006,
          48105,
          59038,
          60488,
          63060,
          65113,
          70465,
          72283,
          72544,
          74355,
          82440,
          106577,
          127716,
          143320,
          186021,
          229245,
          295517,
          1090974,
          1302285
         ],
         "xaxis": "x",
         "y": [
          19340.96581751735,
          19329.537917327405,
          19328.382969967784,
          19320.115978341015,
          19312.9309900301,
          19311.301906386,
          19304.129075415716,
          19295.35147548259,
          19289.91714422205,
          19288.34884728109,
          19286.33072873691,
          19280.884240135743,
          19278.829649569678,
          19278.525716053988,
          19254.016517348744,
          19252.034870826446,
          19237.275859304536,
          19234.151422763243,
          19233.15452083178,
          19225.34950814886,
          19222.298015651333,
          19219.757131460163,
          19217.28919131276,
          19216.109929271883,
          19214.86988052787,
          19208.42648999524,
          19148.56374474493,
          19146.411895453846,
          19098.597074765486,
          19074.70790043225,
          19068.26450989962,
          19057.408004719175,
          19037.36055002426,
          19021.920727427205,
          18981.059905577837,
          18950.836756777622,
          18916.06676258268,
          18875.82596510532,
          18868.22762721307,
          18840.19279972582,
          18813.23997555443,
          18773.145066164598,
          18760.951253515115,
          18759.74767679298,
          18626.831471711415,
          18609.20332780139,
          18577.934647707203,
          18552.975627398737,
          18487.909540359815,
          18465.807495098834,
          18462.63442919503,
          18440.617485318442,
          18342.325386344288,
          18048.88365561587,
          17791.889632089005,
          17602.186488935913,
          17083.055886796705,
          16557.56699550926,
          15751.875717436858,
          6081.23401382691,
          3512.254208467826
         ],
         "yaxis": "y"
        },
        {
         "customdata": [
          [
           "Argentina"
          ],
          [
           "Australia"
          ],
          [
           "Azerbaijan"
          ],
          [
           "Bahamas"
          ],
          [
           "Belarus"
          ],
          [
           "Belgium"
          ],
          [
           "Brazil"
          ],
          [
           "Bulgaria"
          ],
          [
           "Canada"
          ],
          [
           "China"
          ],
          [
           "Chinese Taipei"
          ],
          [
           "Colombia"
          ],
          [
           "Croatia"
          ],
          [
           "Cuba"
          ],
          [
           "Czech Republic"
          ],
          [
           "Denmark"
          ],
          [
           "Dominican Republic"
          ],
          [
           "Egypt"
          ],
          [
           "Estonia"
          ],
          [
           "Ethiopia"
          ],
          [
           "Finland"
          ],
          [
           "France"
          ],
          [
           "Georgia"
          ],
          [
           "Germany"
          ],
          [
           "Great Britain"
          ],
          [
           "Greece"
          ],
          [
           "Hungary"
          ],
          [
           "India"
          ],
          [
           "Indonesia"
          ],
          [
           "Iran"
          ],
          [
           "Italy"
          ],
          [
           "Jamaica"
          ],
          [
           "Japan"
          ],
          [
           "Kazakhstan"
          ],
          [
           "Kenya"
          ],
          [
           "Lithuania"
          ],
          [
           "Mexico"
          ],
          [
           "Mongolia"
          ],
          [
           "Morocco"
          ],
          [
           "Netherlands"
          ],
          [
           "New Zealand"
          ],
          [
           "North Korea"
          ],
          [
           "Norway"
          ],
          [
           "Poland"
          ],
          [
           "Portugal"
          ],
          [
           "Romania"
          ],
          [
           "Russia"
          ],
          [
           "Slovakia"
          ],
          [
           "Slovenia"
          ],
          [
           "South Africa"
          ],
          [
           "South Korea"
          ],
          [
           "Spain"
          ],
          [
           "Sweden"
          ],
          [
           "Switzerland"
          ],
          [
           "Thailand"
          ],
          [
           "Trinidad and Tobago"
          ],
          [
           "Turkey"
          ],
          [
           "Ukraine"
          ],
          [
           "United States"
          ],
          [
           "Uzbekistan"
          ],
          [
           "Venezuela"
          ]
         ],
         "hovertemplate": "Year=2008<br>Population (in thousands)=%{x}<br>GDP (per capita) in dollars=%{y}<br>Country=%{customdata[0]}<extra></extra>",
         "legendgroup": "2008",
         "marker": {
          "color": "#EF553B",
          "symbol": "circle"
         },
         "mode": "markers",
         "name": "2008",
         "orientation": "v",
         "showlegend": true,
         "type": "scatter",
         "x": [
          41344,
          21516,
          9302,
          311,
          9681,
          10866,
          195835,
          7392,
          33760,
          1336681,
          23127,
          44206,
          4487,
          11099,
          10551,
          5516,
          9824,
          80472,
          1303,
          86043,
          5355,
          64941,
          4903,
          81645,
          62349,
          10750,
          9993,
          1173109,
          243423,
          76924,
          60749,
          2848,
          127580,
          17085,
          40844,
          3089,
          114062,
          2784,
          31628,
          16574,
          4253,
          24326,
          4892,
          38617,
          10736,
          21960,
          142527,
          5427,
          2004,
          51123,
          48637,
          46506,
          9433,
          7770,
          66721,
          1229,
          74687,
          45769,
          309348,
          27866,
          27224
         ],
         "xaxis": "x",
         "y": [
          17567,
          40527,
          13189,
          32690,
          13894,
          39760,
          13397,
          14638,
          40159,
          7501,
          34952,
          10454,
          21165,
          5386,
          28482,
          44261,
          10704,
          9831,
          24997,
          904,
          41130,
          37416,
          7147,
          39835,
          36905,
          30519,
          22834,
          3529,
          7850,
          16309,
          36514,
          8581,
          35512,
          17754,
          2618,
          22704,
          16134,
          7227,
          6008,
          46004,
          31304,
          551,
          61820,
          19620,
          26573,
          18164,
          21700,
          24471,
          30070,
          12854,
          28550,
          32590,
          41877,
          56389,
          12256,
          31159,
          17042,
          9143,
          48471,
          4894,
          17706
         ],
         "yaxis": "y"
        },
        {
         "hovertemplate": "<b>OLS trendline</b><br>GDP = -0.0144372 * Pop + 24382.2<br>R<sup>2</sup>=0.049517<br><br>Year=2008<br>Population (in thousands)=%{x}<br>GDP (per capita) in dollars=%{y} <b>(trend)</b><extra></extra>",
         "legendgroup": "2008",
         "marker": {
          "color": "#EF553B",
          "symbol": "circle"
         },
         "mode": "lines",
         "name": "2008",
         "showlegend": false,
         "type": "scatter",
         "x": [
          311,
          1229,
          1303,
          2004,
          2784,
          2848,
          3089,
          4253,
          4487,
          4892,
          4903,
          5355,
          5427,
          5516,
          7392,
          7770,
          9302,
          9433,
          9681,
          9824,
          9993,
          10551,
          10736,
          10750,
          10866,
          11099,
          16574,
          17085,
          21516,
          21960,
          23127,
          24326,
          27224,
          27866,
          31628,
          33760,
          38617,
          40844,
          41344,
          44206,
          45769,
          46506,
          48637,
          51123,
          60749,
          62349,
          64941,
          66721,
          74687,
          76924,
          80472,
          81645,
          86043,
          114062,
          127580,
          142527,
          195835,
          243423,
          309348,
          1173109,
          1336681
         ],
         "xaxis": "x",
         "y": [
          24377.75187431284,
          24364.498479626163,
          24363.430123191727,
          24353.309611562796,
          24342.048557253856,
          24341.12457331056,
          24337.64519627408,
          24320.840238305358,
          24317.461922012673,
          24311.614836121495,
          24311.456026381242,
          24304.9303897817,
          24303.890907845493,
          24302.605992674344,
          24275.521713336435,
          24270.064433171334,
          24247.94656752865,
          24246.055287894713,
          24242.474850114435,
          24240.41032349113,
          24237.970428390858,
          24229.914443385234,
          24227.24355229914,
          24227.041430811543,
          24225.366709914317,
          24222.002830870748,
          24142.95889197147,
          24135.5814576742,
          24071.61000684996,
          24065.199868243337,
          24048.35159852727,
          24031.041336839557,
          23989.202188907115,
          23979.93347497591,
          23925.620543808953,
          23894.840328697854,
          23824.718609751042,
          23792.56685597411,
          23785.348231417098,
          23744.028824452762,
          23721.463404087543,
          23710.823151490506,
          23680.057373628522,
          23644.16637233106,
          23505.193412359466,
          23482.093813777028,
          23444.672464073476,
          23418.974160650516,
          23303.9670342082,
          23271.67090794013,
          23220.44754808357,
          23203.512654872822,
          23140.017633269345,
          22735.50035034351,
          22540.337616820136,
          22324.54405431282,
          21554.923178542438,
          20867.88336770427,
          19916.107719862248,
          7445.774987883888,
          5084.245275804777
         ],
         "yaxis": "y"
        },
        {
         "customdata": [
          [
           "Argentina"
          ],
          [
           "Australia"
          ],
          [
           "Azerbaijan"
          ],
          [
           "Bahamas"
          ],
          [
           "Belarus"
          ],
          [
           "Belgium"
          ],
          [
           "Brazil"
          ],
          [
           "Bulgaria"
          ],
          [
           "Canada"
          ],
          [
           "China"
          ],
          [
           "Chinese Taipei"
          ],
          [
           "Colombia"
          ],
          [
           "Croatia"
          ],
          [
           "Cuba"
          ],
          [
           "Czech Republic"
          ],
          [
           "Denmark"
          ],
          [
           "Dominican Republic"
          ],
          [
           "Egypt"
          ],
          [
           "Estonia"
          ],
          [
           "Ethiopia"
          ],
          [
           "Finland"
          ],
          [
           "France"
          ],
          [
           "Georgia"
          ],
          [
           "Germany"
          ],
          [
           "Great Britain"
          ],
          [
           "Greece"
          ],
          [
           "Hungary"
          ],
          [
           "India"
          ],
          [
           "Indonesia"
          ],
          [
           "Iran"
          ],
          [
           "Italy"
          ],
          [
           "Jamaica"
          ],
          [
           "Japan"
          ],
          [
           "Kazakhstan"
          ],
          [
           "Kenya"
          ],
          [
           "Lithuania"
          ],
          [
           "Mexico"
          ],
          [
           "Mongolia"
          ],
          [
           "Morocco"
          ],
          [
           "Netherlands"
          ],
          [
           "New Zealand"
          ],
          [
           "North Korea"
          ],
          [
           "Norway"
          ],
          [
           "Poland"
          ],
          [
           "Portugal"
          ],
          [
           "Romania"
          ],
          [
           "Russia"
          ],
          [
           "Slovakia"
          ],
          [
           "Slovenia"
          ],
          [
           "South Africa"
          ],
          [
           "South Korea"
          ],
          [
           "Spain"
          ],
          [
           "Sweden"
          ],
          [
           "Switzerland"
          ],
          [
           "Thailand"
          ],
          [
           "Trinidad and Tobago"
          ],
          [
           "Turkey"
          ],
          [
           "Ukraine"
          ],
          [
           "United States"
          ],
          [
           "Uzbekistan"
          ],
          [
           "Venezuela"
          ]
         ],
         "hovertemplate": "Year=2012<br>Population (in thousands)=%{x}<br>GDP (per capita) in dollars=%{y}<br>Country=%{customdata[0]}<extra></extra>",
         "legendgroup": "2012",
         "marker": {
          "color": "#00cc96",
          "symbol": "circle"
         },
         "mode": "markers",
         "name": "2012",
         "orientation": "v",
         "showlegend": true,
         "type": "scatter",
         "x": [
          41344,
          21516,
          9302,
          311,
          9681,
          10866,
          195835,
          7392,
          33760,
          1336681,
          23127,
          44206,
          4487,
          11099,
          10551,
          5516,
          9824,
          80472,
          1303,
          86043,
          5355,
          64941,
          4903,
          81645,
          62349,
          10750,
          9993,
          1173109,
          243423,
          76924,
          60749,
          2848,
          127580,
          17085,
          40844,
          3089,
          114062,
          2784,
          31628,
          16574,
          4253,
          24326,
          4892,
          38617,
          10736,
          21960,
          142527,
          5427,
          2004,
          51123,
          48637,
          46506,
          9433,
          7770,
          66721,
          1229,
          74687,
          45769,
          309348,
          27866,
          27224
         ],
         "xaxis": "x",
         "y": [
          19641,
          42906,
          16063,
          33252,
          18097,
          42409,
          15120,
          16295,
          42351,
          11137,
          41741,
          12306,
          21167,
          6448,
          29270,
          44893,
          12208,
          11620,
          25996,
          1315,
          40969,
          39037,
          9799,
          43359,
          38297,
          24819,
          23179,
          4861,
          9834,
          15846,
          36143,
          8586,
          37629,
          21878,
          3107,
          24704,
          17213,
          10074,
          6857,
          47342,
          32734,
          643,
          65101,
          23745,
          26438,
          18834,
          24279,
          26983,
          29066,
          13191,
          33557,
          31725,
          45259,
          60273,
          14871,
          30063,
          20504,
          9389,
          51737,
          6107,
          18553
         ],
         "yaxis": "y"
        },
        {
         "hovertemplate": "<b>OLS trendline</b><br>GDP = -0.0133615 * Pop + 25877<br>R<sup>2</sup>=0.040594<br><br>Year=2012<br>Population (in thousands)=%{x}<br>GDP (per capita) in dollars=%{y} <b>(trend)</b><extra></extra>",
         "legendgroup": "2012",
         "marker": {
          "color": "#00cc96",
          "symbol": "circle"
         },
         "mode": "lines",
         "name": "2012",
         "showlegend": false,
         "type": "scatter",
         "x": [
          311,
          1229,
          1303,
          2004,
          2784,
          2848,
          3089,
          4253,
          4487,
          4892,
          4903,
          5355,
          5427,
          5516,
          7392,
          7770,
          9302,
          9433,
          9681,
          9824,
          9993,
          10551,
          10736,
          10750,
          10866,
          11099,
          16574,
          17085,
          21516,
          21960,
          23127,
          24326,
          27224,
          27866,
          31628,
          33760,
          38617,
          40844,
          41344,
          44206,
          45769,
          46506,
          48637,
          51123,
          60749,
          62349,
          64941,
          66721,
          74687,
          76924,
          80472,
          81645,
          86043,
          114062,
          127580,
          142527,
          195835,
          243423,
          309348,
          1173109,
          1336681
         ],
         "xaxis": "x",
         "y": [
          25872.82986821236,
          25860.56400660812,
          25859.57525523697,
          25850.208840221097,
          25839.786866308998,
          25838.931729988006,
          25835.711607279267,
          25820.15881544121,
          25817.03222326758,
          25811.620813736296,
          25811.473837181125,
          25805.434436914114,
          25804.472408552996,
          25803.283234606617,
          25778.217051197513,
          25773.16640230165,
          25752.696576617884,
          25750.94621946085,
          25747.632566217002,
          25745.721870999787,
          25743.463776652163,
          25736.00805685351,
          25733.53617842564,
          25733.34911735542,
          25731.799182773622,
          25728.685952105006,
          25655.53171214507,
          25648.703983082145,
          25589.499154358407,
          25583.56664613152,
          25567.973769778415,
          25551.953325264814,
          25513.231683729857,
          25504.6535975099,
          25454.38761564154,
          25425.900886948464,
          25361.004057088117,
          25331.24798541857,
          25324.567232910813,
          25286.326605556416,
          25265.44257321717,
          25255.595144020735,
          25227.12177683268,
          25193.905075364113,
          25065.287228084784,
          25043.90882005996,
          25009.275799059753,
          24985.49232013214,
          24879.054571178563,
          24849.16488445886,
          24801.75826466382,
          24786.085219280623,
          24727.321320222396,
          24352.945311192736,
          24172.32448639303,
          23972.61007092616,
          23260.33496155919,
          22624.487660880957,
          21743.630442733258,
          10202.483509028705,
          8016.915410631205
         ],
         "yaxis": "y"
        },
        {
         "customdata": [
          [
           "Argentina"
          ],
          [
           "Australia"
          ],
          [
           "Azerbaijan"
          ],
          [
           "Bahamas"
          ],
          [
           "Belarus"
          ],
          [
           "Belgium"
          ],
          [
           "Brazil"
          ],
          [
           "Bulgaria"
          ],
          [
           "Canada"
          ],
          [
           "China"
          ],
          [
           "Chinese Taipei"
          ],
          [
           "Colombia"
          ],
          [
           "Croatia"
          ],
          [
           "Cuba"
          ],
          [
           "Czech Republic"
          ],
          [
           "Denmark"
          ],
          [
           "Dominican Republic"
          ],
          [
           "Egypt"
          ],
          [
           "Estonia"
          ],
          [
           "Ethiopia"
          ],
          [
           "Finland"
          ],
          [
           "France"
          ],
          [
           "Georgia"
          ],
          [
           "Germany"
          ],
          [
           "Great Britain"
          ],
          [
           "Greece"
          ],
          [
           "Hungary"
          ],
          [
           "India"
          ],
          [
           "Indonesia"
          ],
          [
           "Iran"
          ],
          [
           "Italy"
          ],
          [
           "Jamaica"
          ],
          [
           "Japan"
          ],
          [
           "Kazakhstan"
          ],
          [
           "Kenya"
          ],
          [
           "Lithuania"
          ],
          [
           "Mexico"
          ],
          [
           "Mongolia"
          ],
          [
           "Morocco"
          ],
          [
           "Netherlands"
          ],
          [
           "New Zealand"
          ],
          [
           "North Korea"
          ],
          [
           "Norway"
          ],
          [
           "Poland"
          ],
          [
           "Portugal"
          ],
          [
           "Romania"
          ],
          [
           "Russia"
          ],
          [
           "Slovakia"
          ],
          [
           "Slovenia"
          ],
          [
           "South Africa"
          ],
          [
           "South Korea"
          ],
          [
           "Spain"
          ],
          [
           "Sweden"
          ],
          [
           "Switzerland"
          ],
          [
           "Thailand"
          ],
          [
           "Trinidad and Tobago"
          ],
          [
           "Turkey"
          ],
          [
           "Ukraine"
          ],
          [
           "United States"
          ],
          [
           "Uzbekistan"
          ],
          [
           "Venezuela"
          ]
         ],
         "hovertemplate": "Year=2016<br>Population (in thousands)=%{x}<br>GDP (per capita) in dollars=%{y}<br>Country=%{customdata[0]}<extra></extra>",
         "legendgroup": "2016",
         "marker": {
          "color": "#ab63fa",
          "symbol": "circle"
         },
         "mode": "markers",
         "name": "2016",
         "orientation": "v",
         "showlegend": true,
         "type": "scatter",
         "x": [
          43432,
          22752,
          9781,
          325,
          9590,
          11324,
          204260,
          7187,
          35100,
          1367486,
          23416,
          46737,
          4465,
          11032,
          10645,
          5582,
          10479,
          88488,
          1266,
          99466,
          5477,
          66554,
          4932,
          80855,
          64089,
          10776,
          9898,
          1251696,
          255994,
          81825,
          61856,
          2951,
          126920,
          18158,
          45926,
          2885,
          121737,
          2993,
          33323,
          16948,
          4439,
          24984,
          5208,
          38563,
          10826,
          21667,
          142424,
          5446,
          1984,
          53676,
          49116,
          48147,
          9802,
          8122,
          67977,
          1223,
          79415,
          44430,
          321369,
          29200,
          29276
         ],
         "xaxis": "x",
         "y": [
          20308,
          48135,
          14448,
          35239,
          17787,
          48680,
          14326,
          20091,
          46554,
          13432,
          47272,
          14352,
          24876,
          7657,
          36137,
          52160,
          16626,
          11616,
          31310,
          2134,
          44995,
          44422,
          12855,
          50575,
          44121,
          27449,
          27863,
          5840,
          10619,
          13855,
          40231,
          9818,
          40641,
          23654,
          4353,
          30922,
          19422,
          10524,
          7356,
          52441,
          39266,
          642,
          58736,
          28321,
          31604,
          24197,
          24104,
          29681,
          33947,
          13738,
          39567,
          37310,
          50062,
          68461,
          16616,
          26390,
          26514,
          11216,
          57840,
          6856,
          14213
         ],
         "yaxis": "y"
        },
        {
         "hovertemplate": "<b>OLS trendline</b><br>GDP = -0.0142094 * Pop + 28841.7<br>R<sup>2</sup>=0.041121<br><br>Year=2016<br>Population (in thousands)=%{x}<br>GDP (per capita) in dollars=%{y} <b>(trend)</b><extra></extra>",
         "legendgroup": "2016",
         "marker": {
          "color": "#ab63fa",
          "symbol": "circle"
         },
         "mode": "lines",
         "name": "2016",
         "showlegend": false,
         "type": "scatter",
         "x": [
          325,
          1223,
          1266,
          1984,
          2885,
          2951,
          2993,
          4439,
          4465,
          4932,
          5208,
          5446,
          5477,
          5582,
          7187,
          8122,
          9590,
          9781,
          9802,
          9898,
          10479,
          10645,
          10776,
          10826,
          11032,
          11324,
          16948,
          18158,
          21667,
          22752,
          23416,
          24984,
          29200,
          29276,
          33323,
          35100,
          38563,
          43432,
          44430,
          45926,
          46737,
          48147,
          49116,
          53676,
          61856,
          64089,
          66554,
          67977,
          79415,
          80855,
          81825,
          88488,
          99466,
          121737,
          126920,
          142424,
          204260,
          255994,
          321369,
          1251696,
          1367486
         ],
         "xaxis": "x",
         "y": [
          28837.096322478872,
          28824.3362464996,
          28823.725240634223,
          28813.5228636263,
          28800.72015933084,
          28799.782336374676,
          28799.18553994803,
          28778.638691544882,
          28778.26924613791,
          28771.633438251138,
          28767.711633161744,
          28764.329786744074,
          28763.889294143453,
          28762.397303076836,
          28739.591153915666,
          28726.305328703394,
          28705.445872648193,
          28702.73186985082,
          28702.433471637498,
          28701.069365519445,
          28692.81368161749,
          28690.45491478836,
          28688.593478314768,
          28687.883006378284,
          28684.955861999966,
          28680.806705890893,
          28600.892822475056,
          28583.699401612117,
          28533.8384811096,
          28518.421240087875,
          28508.986172771354,
          28486.705772843183,
          28426.798779158766,
          28425.71886181531,
          28368.213263276208,
          28342.96309065353,
          28293.755804332577,
          28224.570047157664,
          28210.389027305424,
          28189.131706965793,
          28177.607852156005,
          28157.572543547125,
          28143.803597418046,
          28079.00855681061,
          27962.77534800166,
          27931.04567131824,
          27896.019404849525,
          27875.799373537164,
          27713.271813346848,
          27692.810221576077,
          27679.027066008268,
          27584.349575752272,
          27428.35835737762,
          27111.899947428457,
          27038.252426492418,
          26817.94928842714,
          25939.29443513737,
          25204.183331895038,
          24275.241274940858,
          11055.816769854646,
          9410.505859342607
         ],
         "yaxis": "y"
        }
       ],
       "layout": {
        "legend": {
         "title": {
          "text": "Year"
         },
         "tracegroupgap": 0
        },
        "template": {
         "data": {
          "bar": [
           {
            "error_x": {
             "color": "#2a3f5f"
            },
            "error_y": {
             "color": "#2a3f5f"
            },
            "marker": {
             "line": {
              "color": "#E5ECF6",
              "width": 0.5
             },
             "pattern": {
              "fillmode": "overlay",
              "size": 10,
              "solidity": 0.2
             }
            },
            "type": "bar"
           }
          ],
          "barpolar": [
           {
            "marker": {
             "line": {
              "color": "#E5ECF6",
              "width": 0.5
             },
             "pattern": {
              "fillmode": "overlay",
              "size": 10,
              "solidity": 0.2
             }
            },
            "type": "barpolar"
           }
          ],
          "carpet": [
           {
            "aaxis": {
             "endlinecolor": "#2a3f5f",
             "gridcolor": "white",
             "linecolor": "white",
             "minorgridcolor": "white",
             "startlinecolor": "#2a3f5f"
            },
            "baxis": {
             "endlinecolor": "#2a3f5f",
             "gridcolor": "white",
             "linecolor": "white",
             "minorgridcolor": "white",
             "startlinecolor": "#2a3f5f"
            },
            "type": "carpet"
           }
          ],
          "choropleth": [
           {
            "colorbar": {
             "outlinewidth": 0,
             "ticks": ""
            },
            "type": "choropleth"
           }
          ],
          "contour": [
           {
            "colorbar": {
             "outlinewidth": 0,
             "ticks": ""
            },
            "colorscale": [
             [
              0,
              "#0d0887"
             ],
             [
              0.1111111111111111,
              "#46039f"
             ],
             [
              0.2222222222222222,
              "#7201a8"
             ],
             [
              0.3333333333333333,
              "#9c179e"
             ],
             [
              0.4444444444444444,
              "#bd3786"
             ],
             [
              0.5555555555555556,
              "#d8576b"
             ],
             [
              0.6666666666666666,
              "#ed7953"
             ],
             [
              0.7777777777777778,
              "#fb9f3a"
             ],
             [
              0.8888888888888888,
              "#fdca26"
             ],
             [
              1,
              "#f0f921"
             ]
            ],
            "type": "contour"
           }
          ],
          "contourcarpet": [
           {
            "colorbar": {
             "outlinewidth": 0,
             "ticks": ""
            },
            "type": "contourcarpet"
           }
          ],
          "heatmap": [
           {
            "colorbar": {
             "outlinewidth": 0,
             "ticks": ""
            },
            "colorscale": [
             [
              0,
              "#0d0887"
             ],
             [
              0.1111111111111111,
              "#46039f"
             ],
             [
              0.2222222222222222,
              "#7201a8"
             ],
             [
              0.3333333333333333,
              "#9c179e"
             ],
             [
              0.4444444444444444,
              "#bd3786"
             ],
             [
              0.5555555555555556,
              "#d8576b"
             ],
             [
              0.6666666666666666,
              "#ed7953"
             ],
             [
              0.7777777777777778,
              "#fb9f3a"
             ],
             [
              0.8888888888888888,
              "#fdca26"
             ],
             [
              1,
              "#f0f921"
             ]
            ],
            "type": "heatmap"
           }
          ],
          "heatmapgl": [
           {
            "colorbar": {
             "outlinewidth": 0,
             "ticks": ""
            },
            "colorscale": [
             [
              0,
              "#0d0887"
             ],
             [
              0.1111111111111111,
              "#46039f"
             ],
             [
              0.2222222222222222,
              "#7201a8"
             ],
             [
              0.3333333333333333,
              "#9c179e"
             ],
             [
              0.4444444444444444,
              "#bd3786"
             ],
             [
              0.5555555555555556,
              "#d8576b"
             ],
             [
              0.6666666666666666,
              "#ed7953"
             ],
             [
              0.7777777777777778,
              "#fb9f3a"
             ],
             [
              0.8888888888888888,
              "#fdca26"
             ],
             [
              1,
              "#f0f921"
             ]
            ],
            "type": "heatmapgl"
           }
          ],
          "histogram": [
           {
            "marker": {
             "pattern": {
              "fillmode": "overlay",
              "size": 10,
              "solidity": 0.2
             }
            },
            "type": "histogram"
           }
          ],
          "histogram2d": [
           {
            "colorbar": {
             "outlinewidth": 0,
             "ticks": ""
            },
            "colorscale": [
             [
              0,
              "#0d0887"
             ],
             [
              0.1111111111111111,
              "#46039f"
             ],
             [
              0.2222222222222222,
              "#7201a8"
             ],
             [
              0.3333333333333333,
              "#9c179e"
             ],
             [
              0.4444444444444444,
              "#bd3786"
             ],
             [
              0.5555555555555556,
              "#d8576b"
             ],
             [
              0.6666666666666666,
              "#ed7953"
             ],
             [
              0.7777777777777778,
              "#fb9f3a"
             ],
             [
              0.8888888888888888,
              "#fdca26"
             ],
             [
              1,
              "#f0f921"
             ]
            ],
            "type": "histogram2d"
           }
          ],
          "histogram2dcontour": [
           {
            "colorbar": {
             "outlinewidth": 0,
             "ticks": ""
            },
            "colorscale": [
             [
              0,
              "#0d0887"
             ],
             [
              0.1111111111111111,
              "#46039f"
             ],
             [
              0.2222222222222222,
              "#7201a8"
             ],
             [
              0.3333333333333333,
              "#9c179e"
             ],
             [
              0.4444444444444444,
              "#bd3786"
             ],
             [
              0.5555555555555556,
              "#d8576b"
             ],
             [
              0.6666666666666666,
              "#ed7953"
             ],
             [
              0.7777777777777778,
              "#fb9f3a"
             ],
             [
              0.8888888888888888,
              "#fdca26"
             ],
             [
              1,
              "#f0f921"
             ]
            ],
            "type": "histogram2dcontour"
           }
          ],
          "mesh3d": [
           {
            "colorbar": {
             "outlinewidth": 0,
             "ticks": ""
            },
            "type": "mesh3d"
           }
          ],
          "parcoords": [
           {
            "line": {
             "colorbar": {
              "outlinewidth": 0,
              "ticks": ""
             }
            },
            "type": "parcoords"
           }
          ],
          "pie": [
           {
            "automargin": true,
            "type": "pie"
           }
          ],
          "scatter": [
           {
            "marker": {
             "colorbar": {
              "outlinewidth": 0,
              "ticks": ""
             }
            },
            "type": "scatter"
           }
          ],
          "scatter3d": [
           {
            "line": {
             "colorbar": {
              "outlinewidth": 0,
              "ticks": ""
             }
            },
            "marker": {
             "colorbar": {
              "outlinewidth": 0,
              "ticks": ""
             }
            },
            "type": "scatter3d"
           }
          ],
          "scattercarpet": [
           {
            "marker": {
             "colorbar": {
              "outlinewidth": 0,
              "ticks": ""
             }
            },
            "type": "scattercarpet"
           }
          ],
          "scattergeo": [
           {
            "marker": {
             "colorbar": {
              "outlinewidth": 0,
              "ticks": ""
             }
            },
            "type": "scattergeo"
           }
          ],
          "scattergl": [
           {
            "marker": {
             "colorbar": {
              "outlinewidth": 0,
              "ticks": ""
             }
            },
            "type": "scattergl"
           }
          ],
          "scattermapbox": [
           {
            "marker": {
             "colorbar": {
              "outlinewidth": 0,
              "ticks": ""
             }
            },
            "type": "scattermapbox"
           }
          ],
          "scatterpolar": [
           {
            "marker": {
             "colorbar": {
              "outlinewidth": 0,
              "ticks": ""
             }
            },
            "type": "scatterpolar"
           }
          ],
          "scatterpolargl": [
           {
            "marker": {
             "colorbar": {
              "outlinewidth": 0,
              "ticks": ""
             }
            },
            "type": "scatterpolargl"
           }
          ],
          "scatterternary": [
           {
            "marker": {
             "colorbar": {
              "outlinewidth": 0,
              "ticks": ""
             }
            },
            "type": "scatterternary"
           }
          ],
          "surface": [
           {
            "colorbar": {
             "outlinewidth": 0,
             "ticks": ""
            },
            "colorscale": [
             [
              0,
              "#0d0887"
             ],
             [
              0.1111111111111111,
              "#46039f"
             ],
             [
              0.2222222222222222,
              "#7201a8"
             ],
             [
              0.3333333333333333,
              "#9c179e"
             ],
             [
              0.4444444444444444,
              "#bd3786"
             ],
             [
              0.5555555555555556,
              "#d8576b"
             ],
             [
              0.6666666666666666,
              "#ed7953"
             ],
             [
              0.7777777777777778,
              "#fb9f3a"
             ],
             [
              0.8888888888888888,
              "#fdca26"
             ],
             [
              1,
              "#f0f921"
             ]
            ],
            "type": "surface"
           }
          ],
          "table": [
           {
            "cells": {
             "fill": {
              "color": "#EBF0F8"
             },
             "line": {
              "color": "white"
             }
            },
            "header": {
             "fill": {
              "color": "#C8D4E3"
             },
             "line": {
              "color": "white"
             }
            },
            "type": "table"
           }
          ]
         },
         "layout": {
          "annotationdefaults": {
           "arrowcolor": "#2a3f5f",
           "arrowhead": 0,
           "arrowwidth": 1
          },
          "autotypenumbers": "strict",
          "coloraxis": {
           "colorbar": {
            "outlinewidth": 0,
            "ticks": ""
           }
          },
          "colorscale": {
           "diverging": [
            [
             0,
             "#8e0152"
            ],
            [
             0.1,
             "#c51b7d"
            ],
            [
             0.2,
             "#de77ae"
            ],
            [
             0.3,
             "#f1b6da"
            ],
            [
             0.4,
             "#fde0ef"
            ],
            [
             0.5,
             "#f7f7f7"
            ],
            [
             0.6,
             "#e6f5d0"
            ],
            [
             0.7,
             "#b8e186"
            ],
            [
             0.8,
             "#7fbc41"
            ],
            [
             0.9,
             "#4d9221"
            ],
            [
             1,
             "#276419"
            ]
           ],
           "sequential": [
            [
             0,
             "#0d0887"
            ],
            [
             0.1111111111111111,
             "#46039f"
            ],
            [
             0.2222222222222222,
             "#7201a8"
            ],
            [
             0.3333333333333333,
             "#9c179e"
            ],
            [
             0.4444444444444444,
             "#bd3786"
            ],
            [
             0.5555555555555556,
             "#d8576b"
            ],
            [
             0.6666666666666666,
             "#ed7953"
            ],
            [
             0.7777777777777778,
             "#fb9f3a"
            ],
            [
             0.8888888888888888,
             "#fdca26"
            ],
            [
             1,
             "#f0f921"
            ]
           ],
           "sequentialminus": [
            [
             0,
             "#0d0887"
            ],
            [
             0.1111111111111111,
             "#46039f"
            ],
            [
             0.2222222222222222,
             "#7201a8"
            ],
            [
             0.3333333333333333,
             "#9c179e"
            ],
            [
             0.4444444444444444,
             "#bd3786"
            ],
            [
             0.5555555555555556,
             "#d8576b"
            ],
            [
             0.6666666666666666,
             "#ed7953"
            ],
            [
             0.7777777777777778,
             "#fb9f3a"
            ],
            [
             0.8888888888888888,
             "#fdca26"
            ],
            [
             1,
             "#f0f921"
            ]
           ]
          },
          "colorway": [
           "#636efa",
           "#EF553B",
           "#00cc96",
           "#ab63fa",
           "#FFA15A",
           "#19d3f3",
           "#FF6692",
           "#B6E880",
           "#FF97FF",
           "#FECB52"
          ],
          "font": {
           "color": "#2a3f5f"
          },
          "geo": {
           "bgcolor": "white",
           "lakecolor": "white",
           "landcolor": "#E5ECF6",
           "showlakes": true,
           "showland": true,
           "subunitcolor": "white"
          },
          "hoverlabel": {
           "align": "left"
          },
          "hovermode": "closest",
          "mapbox": {
           "style": "light"
          },
          "paper_bgcolor": "white",
          "plot_bgcolor": "#E5ECF6",
          "polar": {
           "angularaxis": {
            "gridcolor": "white",
            "linecolor": "white",
            "ticks": ""
           },
           "bgcolor": "#E5ECF6",
           "radialaxis": {
            "gridcolor": "white",
            "linecolor": "white",
            "ticks": ""
           }
          },
          "scene": {
           "xaxis": {
            "backgroundcolor": "#E5ECF6",
            "gridcolor": "white",
            "gridwidth": 2,
            "linecolor": "white",
            "showbackground": true,
            "ticks": "",
            "zerolinecolor": "white"
           },
           "yaxis": {
            "backgroundcolor": "#E5ECF6",
            "gridcolor": "white",
            "gridwidth": 2,
            "linecolor": "white",
            "showbackground": true,
            "ticks": "",
            "zerolinecolor": "white"
           },
           "zaxis": {
            "backgroundcolor": "#E5ECF6",
            "gridcolor": "white",
            "gridwidth": 2,
            "linecolor": "white",
            "showbackground": true,
            "ticks": "",
            "zerolinecolor": "white"
           }
          },
          "shapedefaults": {
           "line": {
            "color": "#2a3f5f"
           }
          },
          "ternary": {
           "aaxis": {
            "gridcolor": "white",
            "linecolor": "white",
            "ticks": ""
           },
           "baxis": {
            "gridcolor": "white",
            "linecolor": "white",
            "ticks": ""
           },
           "bgcolor": "#E5ECF6",
           "caxis": {
            "gridcolor": "white",
            "linecolor": "white",
            "ticks": ""
           }
          },
          "title": {
           "x": 0.05
          },
          "xaxis": {
           "automargin": true,
           "gridcolor": "white",
           "linecolor": "white",
           "ticks": "",
           "title": {
            "standoff": 15
           },
           "zerolinecolor": "white",
           "zerolinewidth": 2
          },
          "yaxis": {
           "automargin": true,
           "gridcolor": "white",
           "linecolor": "white",
           "ticks": "",
           "title": {
            "standoff": 15
           },
           "zerolinecolor": "white",
           "zerolinewidth": 2
          }
         }
        },
        "title": {
         "text": "GDP (per capita) vs population"
        },
        "xaxis": {
         "anchor": "y",
         "domain": [
          0,
          1
         ],
         "title": {
          "text": "Population (in thousands)"
         },
         "type": "log"
        },
        "yaxis": {
         "anchor": "x",
         "domain": [
          0,
          1
         ],
         "title": {
          "text": "GDP (per capita) in dollars"
         }
        }
       }
      }
     },
     "metadata": {},
     "output_type": "display_data"
    }
   ],
   "source": [
    "context_plot(od)"
   ]
  },
  {
   "cell_type": "code",
   "execution_count": null,
   "metadata": {},
   "outputs": [
    {
     "data": {
      "application/vnd.plotly.v1+json": {
       "config": {
        "plotlyServerURL": "https://plot.ly"
       },
       "data": [
        {
         "customdata": [
          [
           "Argentina",
           "2004"
          ],
          [
           "Australia",
           "2004"
          ],
          [
           "Azerbaijan",
           "2004"
          ],
          [
           "Bahamas",
           "2004"
          ],
          [
           "Belarus",
           "2004"
          ],
          [
           "Belgium",
           "2004"
          ],
          [
           "Brazil",
           "2004"
          ],
          [
           "Bulgaria",
           "2004"
          ],
          [
           "Canada",
           "2004"
          ],
          [
           "China",
           "2004"
          ],
          [
           "Chinese Taipei",
           "2004"
          ],
          [
           "Colombia",
           "2004"
          ],
          [
           "Croatia",
           "2004"
          ],
          [
           "Cuba",
           "2004"
          ],
          [
           "Czech Republic",
           "2004"
          ],
          [
           "Denmark",
           "2004"
          ],
          [
           "Dominican Republic",
           "2004"
          ],
          [
           "Egypt",
           "2004"
          ],
          [
           "Estonia",
           "2004"
          ],
          [
           "Ethiopia",
           "2004"
          ],
          [
           "Finland",
           "2004"
          ],
          [
           "France",
           "2004"
          ],
          [
           "Georgia",
           "2004"
          ],
          [
           "Germany",
           "2004"
          ],
          [
           "Great Britain",
           "2004"
          ],
          [
           "Greece",
           "2004"
          ],
          [
           "Hungary",
           "2004"
          ],
          [
           "India",
           "2004"
          ],
          [
           "Indonesia",
           "2004"
          ],
          [
           "Iran",
           "2004"
          ],
          [
           "Italy",
           "2004"
          ],
          [
           "Jamaica",
           "2004"
          ],
          [
           "Japan",
           "2004"
          ],
          [
           "Kazakhstan",
           "2004"
          ],
          [
           "Kenya",
           "2004"
          ],
          [
           "Lithuania",
           "2004"
          ],
          [
           "Mexico",
           "2004"
          ],
          [
           "Mongolia",
           "2004"
          ],
          [
           "Morocco",
           "2004"
          ],
          [
           "Netherlands",
           "2004"
          ],
          [
           "New Zealand",
           "2004"
          ],
          [
           "North Korea",
           "2004"
          ],
          [
           "Norway",
           "2004"
          ],
          [
           "Poland",
           "2004"
          ],
          [
           "Portugal",
           "2004"
          ],
          [
           "Romania",
           "2004"
          ],
          [
           "Russia",
           "2004"
          ],
          [
           "Slovakia",
           "2004"
          ],
          [
           "Slovenia",
           "2004"
          ],
          [
           "South Africa",
           "2004"
          ],
          [
           "South Korea",
           "2004"
          ],
          [
           "Spain",
           "2004"
          ],
          [
           "Sweden",
           "2004"
          ],
          [
           "Switzerland",
           "2004"
          ],
          [
           "Thailand",
           "2004"
          ],
          [
           "Trinidad and Tobago",
           "2004"
          ],
          [
           "Turkey",
           "2004"
          ],
          [
           "Ukraine",
           "2004"
          ],
          [
           "United States",
           "2004"
          ],
          [
           "Uzbekistan",
           "2004"
          ],
          [
           "Venezuela",
           "2004"
          ]
         ],
         "hovertemplate": "Year=%{customdata[1]}<br>GDP (per capita) in dollars=%{x}<br>Total Olympic medals=%{y}<br>Country=%{customdata[0]}<extra></extra>",
         "legendgroup": "2004",
         "marker": {
          "color": "#636efa",
          "symbol": "circle"
         },
         "mode": "markers",
         "name": "2004",
         "orientation": "v",
         "showlegend": true,
         "type": "scatter",
         "x": [
          12303,
          34390,
          5220,
          29379,
          8463,
          33545,
          10514,
          9965,
          34390,
          4381,
          26562,
          7990,
          16203,
          3399,
          21045,
          37792,
          7608,
          7484,
          17965,
          571,
          33076,
          32255,
          4539,
          32645,
          31688,
          25345,
          18544,
          2474,
          5859,
          13190,
          32577,
          7488,
          30836,
          12381,
          2191,
          14644,
          13878,
          5083,
          4663,
          37263,
          26745,
          473,
          53167,
          14358,
          22832,
          11808,
          14728,
          16258,
          22385,
          10058,
          21872,
          27856,
          34868,
          45660,
          9611,
          21910,
          13045,
          6536,
          41642,
          3374,
          12194
         ],
         "xaxis": "x",
         "y": [
          6,
          50,
          5,
          2,
          13,
          3,
          10,
          12,
          12,
          63,
          5,
          2,
          5,
          27,
          9,
          8,
          1,
          5,
          3,
          7,
          2,
          33,
          4,
          49,
          30,
          16,
          17,
          1,
          4,
          6,
          32,
          5,
          37,
          8,
          7,
          3,
          4,
          1,
          3,
          22,
          5,
          5,
          6,
          10,
          3,
          19,
          90,
          6,
          4,
          6,
          30,
          20,
          7,
          5,
          8,
          1,
          11,
          22,
          101,
          5,
          2
         ],
         "yaxis": "y"
        },
        {
         "hovertemplate": "<b>OLS trendline</b><br>Total = 0.00040767 * GDP + 7.22842<br>R<sup>2</sup>=0.067950<br><br>Year=2004<br>GDP (per capita) in dollars=%{x}<br>Total Olympic medals=%{y} <b>(trend)</b><extra></extra>",
         "legendgroup": "2004",
         "marker": {
          "color": "#636efa",
          "symbol": "circle"
         },
         "mode": "lines",
         "name": "2004",
         "showlegend": false,
         "type": "scatter",
         "x": [
          473,
          571,
          2191,
          2474,
          3374,
          3399,
          4381,
          4539,
          4663,
          5083,
          5220,
          5859,
          6536,
          7484,
          7488,
          7608,
          7990,
          8463,
          9611,
          9965,
          10058,
          10514,
          11808,
          12194,
          12303,
          12381,
          13045,
          13190,
          13878,
          14358,
          14644,
          14728,
          16203,
          16258,
          17965,
          18544,
          21045,
          21872,
          21910,
          22385,
          22832,
          25345,
          26562,
          26745,
          27856,
          29379,
          30836,
          31688,
          32255,
          32577,
          32645,
          33076,
          33545,
          34390,
          34390,
          34868,
          37263,
          37792,
          41642,
          45660,
          53167
         ],
         "xaxis": "x",
         "y": [
          7.421247602284811,
          7.4611992479488745,
          8.121624410967065,
          8.236994979568392,
          8.603897847911831,
          8.614089594254704,
          9.014421390602768,
          9.078833227489728,
          9.129384289350378,
          9.30060562791065,
          9.356456397869596,
          9.616957434393438,
          9.892949925358447,
          10.279420946680204,
          10.281051626095064,
          10.329972008540855,
          10.48570189265996,
          10.678529733467123,
          11.146534725531865,
          11.290849853746952,
          11.32876315014244,
          11.51466060343645,
          12.042185394143573,
          12.199545957677536,
          12.243981971732463,
          12.275780220322229,
          12.546473003188943,
          12.605585131977609,
          12.886061991333484,
          13.08174352111665,
          13.198337099279122,
          13.232581366991177,
          13.833894401220702,
          13.856316243175023,
          14.552208683466414,
          14.78824952876736,
          15.807831832908406,
          16.144974801930655,
          16.160466256371823,
          16.354109436886418,
          16.53633786149699,
          17.560812203882616,
          18.056946415853687,
          18.13154999908352,
          18.584471206560814,
          19.205352393768656,
          19.79932737063131,
          20.146662085996432,
          20.377810893052803,
          20.509080585949008,
          20.536802136001626,
          20.71250784295276,
          20.903705004345063,
          21.248186030734182,
          21.248186030734182,
          21.443052220809918,
          22.419421520457185,
          22.63507887307238,
          24.204607809874872,
          25.842625282101473,
          28.90300287393947
         ],
         "yaxis": "y"
        },
        {
         "customdata": [
          [
           "Argentina",
           "2008"
          ],
          [
           "Australia",
           "2008"
          ],
          [
           "Azerbaijan",
           "2008"
          ],
          [
           "Bahamas",
           "2008"
          ],
          [
           "Belarus",
           "2008"
          ],
          [
           "Belgium",
           "2008"
          ],
          [
           "Brazil",
           "2008"
          ],
          [
           "Bulgaria",
           "2008"
          ],
          [
           "Canada",
           "2008"
          ],
          [
           "China",
           "2008"
          ],
          [
           "Chinese Taipei",
           "2008"
          ],
          [
           "Colombia",
           "2008"
          ],
          [
           "Croatia",
           "2008"
          ],
          [
           "Cuba",
           "2008"
          ],
          [
           "Czech Republic",
           "2008"
          ],
          [
           "Denmark",
           "2008"
          ],
          [
           "Dominican Republic",
           "2008"
          ],
          [
           "Egypt",
           "2008"
          ],
          [
           "Estonia",
           "2008"
          ],
          [
           "Ethiopia",
           "2008"
          ],
          [
           "Finland",
           "2008"
          ],
          [
           "France",
           "2008"
          ],
          [
           "Georgia",
           "2008"
          ],
          [
           "Germany",
           "2008"
          ],
          [
           "Great Britain",
           "2008"
          ],
          [
           "Greece",
           "2008"
          ],
          [
           "Hungary",
           "2008"
          ],
          [
           "India",
           "2008"
          ],
          [
           "Indonesia",
           "2008"
          ],
          [
           "Iran",
           "2008"
          ],
          [
           "Italy",
           "2008"
          ],
          [
           "Jamaica",
           "2008"
          ],
          [
           "Japan",
           "2008"
          ],
          [
           "Kazakhstan",
           "2008"
          ],
          [
           "Kenya",
           "2008"
          ],
          [
           "Lithuania",
           "2008"
          ],
          [
           "Mexico",
           "2008"
          ],
          [
           "Mongolia",
           "2008"
          ],
          [
           "Morocco",
           "2008"
          ],
          [
           "Netherlands",
           "2008"
          ],
          [
           "New Zealand",
           "2008"
          ],
          [
           "North Korea",
           "2008"
          ],
          [
           "Norway",
           "2008"
          ],
          [
           "Poland",
           "2008"
          ],
          [
           "Portugal",
           "2008"
          ],
          [
           "Romania",
           "2008"
          ],
          [
           "Russia",
           "2008"
          ],
          [
           "Slovakia",
           "2008"
          ],
          [
           "Slovenia",
           "2008"
          ],
          [
           "South Africa",
           "2008"
          ],
          [
           "South Korea",
           "2008"
          ],
          [
           "Spain",
           "2008"
          ],
          [
           "Sweden",
           "2008"
          ],
          [
           "Switzerland",
           "2008"
          ],
          [
           "Thailand",
           "2008"
          ],
          [
           "Trinidad and Tobago",
           "2008"
          ],
          [
           "Turkey",
           "2008"
          ],
          [
           "Ukraine",
           "2008"
          ],
          [
           "United States",
           "2008"
          ],
          [
           "Uzbekistan",
           "2008"
          ],
          [
           "Venezuela",
           "2008"
          ]
         ],
         "hovertemplate": "Year=%{customdata[1]}<br>GDP (per capita) in dollars=%{x}<br>Total Olympic medals=%{y}<br>Country=%{customdata[0]}<extra></extra>",
         "legendgroup": "2008",
         "marker": {
          "color": "#EF553B",
          "symbol": "circle"
         },
         "mode": "markers",
         "name": "2008",
         "orientation": "v",
         "showlegend": true,
         "type": "scatter",
         "x": [
          17567,
          40527,
          13189,
          32690,
          13894,
          39760,
          13397,
          14638,
          40159,
          7501,
          34952,
          10454,
          21165,
          5386,
          28482,
          44261,
          10704,
          9831,
          24997,
          904,
          41130,
          37416,
          7147,
          39835,
          36905,
          30519,
          22834,
          3529,
          7850,
          16309,
          36514,
          8581,
          35512,
          17754,
          2618,
          22704,
          16134,
          7227,
          6008,
          46004,
          31304,
          551,
          61820,
          19620,
          26573,
          18164,
          21700,
          24471,
          30070,
          12854,
          28550,
          32590,
          41877,
          56389,
          12256,
          31159,
          17042,
          9143,
          48471,
          4894,
          17706
         ],
         "xaxis": "x",
         "y": [
          6,
          46,
          6,
          2,
          14,
          2,
          17,
          5,
          20,
          100,
          4,
          3,
          5,
          30,
          7,
          7,
          2,
          2,
          2,
          7,
          4,
          43,
          7,
          41,
          51,
          3,
          10,
          3,
          6,
          2,
          27,
          11,
          25,
          9,
          16,
          5,
          4,
          4,
          2,
          16,
          9,
          6,
          9,
          11,
          2,
          9,
          60,
          6,
          5,
          1,
          32,
          19,
          5,
          7,
          6,
          2,
          5,
          22,
          112,
          4,
          1
         ],
         "yaxis": "y"
        },
        {
         "hovertemplate": "<b>OLS trendline</b><br>Total = 0.000310719 * GDP + 7.69809<br>R<sup>2</sup>=0.044713<br><br>Year=2008<br>GDP (per capita) in dollars=%{x}<br>Total Olympic medals=%{y} <b>(trend)</b><extra></extra>",
         "legendgroup": "2008",
         "marker": {
          "color": "#EF553B",
          "symbol": "circle"
         },
         "mode": "lines",
         "name": "2008",
         "showlegend": false,
         "type": "scatter",
         "x": [
          551,
          904,
          2618,
          3529,
          4894,
          5386,
          6008,
          7147,
          7227,
          7501,
          7850,
          8581,
          9143,
          9831,
          10454,
          10704,
          12256,
          12854,
          13189,
          13397,
          13894,
          14638,
          16134,
          16309,
          17042,
          17567,
          17706,
          17754,
          18164,
          19620,
          21165,
          21700,
          22704,
          22834,
          24471,
          24997,
          26573,
          28482,
          28550,
          30070,
          30519,
          31159,
          31304,
          32590,
          32690,
          34952,
          35512,
          36514,
          36905,
          37416,
          39760,
          39835,
          40159,
          40527,
          41130,
          41877,
          44261,
          46004,
          48471,
          56389,
          61820
         ],
         "xaxis": "x",
         "y": [
          7.869294685767254,
          7.978978563447284,
          8.511551272635872,
          8.79461646404241,
          9.218748172351873,
          9.371622018863418,
          9.564889361404434,
          9.918798530462661,
          9.943656066480798,
          10.028793127342919,
          10.13723412822204,
          10.364369863587768,
          10.538994054115182,
          10.752768863871163,
          10.946346925612405,
          11.024026725669083,
          11.506262924420945,
          11.69207300615652,
          11.796163938232468,
          11.860793531879626,
          12.015220974392303,
          12.246396059360977,
          12.711231982900141,
          12.765607842939819,
          12.993365016705999,
          13.156492596825025,
          13.199682565656538,
          13.21459708726742,
          13.341991959360373,
          13.794399114890467,
          14.274460279240742,
          14.440695051362034,
          14.752657128389654,
          14.793050624419127,
          15.30169795519026,
          15.46513625450951,
          15.954829714066813,
          16.54799266729961,
          16.569121572915027,
          17.04141475725963,
          17.180927678161424,
          17.379787966306523,
          17.424842250339395,
          17.824427141830952,
          17.855499061853624,
          18.558345892766454,
          18.732348644893413,
          19.043689283520578,
          19.165180490809224,
          19.323958002125075,
          20.052283807456494,
          20.0755877474735,
          20.176260768346953,
          20.290605434030383,
          20.47796911176709,
          20.710076354336447,
          21.450830927676932,
          21.992414493672097,
          22.7589587606314,
          25.219233388026524,
          26.90674936445781
         ],
         "yaxis": "y"
        },
        {
         "customdata": [
          [
           "Argentina",
           "2012"
          ],
          [
           "Australia",
           "2012"
          ],
          [
           "Azerbaijan",
           "2012"
          ],
          [
           "Bahamas",
           "2012"
          ],
          [
           "Belarus",
           "2012"
          ],
          [
           "Belgium",
           "2012"
          ],
          [
           "Brazil",
           "2012"
          ],
          [
           "Bulgaria",
           "2012"
          ],
          [
           "Canada",
           "2012"
          ],
          [
           "China",
           "2012"
          ],
          [
           "Chinese Taipei",
           "2012"
          ],
          [
           "Colombia",
           "2012"
          ],
          [
           "Croatia",
           "2012"
          ],
          [
           "Cuba",
           "2012"
          ],
          [
           "Czech Republic",
           "2012"
          ],
          [
           "Denmark",
           "2012"
          ],
          [
           "Dominican Republic",
           "2012"
          ],
          [
           "Egypt",
           "2012"
          ],
          [
           "Estonia",
           "2012"
          ],
          [
           "Ethiopia",
           "2012"
          ],
          [
           "Finland",
           "2012"
          ],
          [
           "France",
           "2012"
          ],
          [
           "Georgia",
           "2012"
          ],
          [
           "Germany",
           "2012"
          ],
          [
           "Great Britain",
           "2012"
          ],
          [
           "Greece",
           "2012"
          ],
          [
           "Hungary",
           "2012"
          ],
          [
           "India",
           "2012"
          ],
          [
           "Indonesia",
           "2012"
          ],
          [
           "Iran",
           "2012"
          ],
          [
           "Italy",
           "2012"
          ],
          [
           "Jamaica",
           "2012"
          ],
          [
           "Japan",
           "2012"
          ],
          [
           "Kazakhstan",
           "2012"
          ],
          [
           "Kenya",
           "2012"
          ],
          [
           "Lithuania",
           "2012"
          ],
          [
           "Mexico",
           "2012"
          ],
          [
           "Mongolia",
           "2012"
          ],
          [
           "Morocco",
           "2012"
          ],
          [
           "Netherlands",
           "2012"
          ],
          [
           "New Zealand",
           "2012"
          ],
          [
           "North Korea",
           "2012"
          ],
          [
           "Norway",
           "2012"
          ],
          [
           "Poland",
           "2012"
          ],
          [
           "Portugal",
           "2012"
          ],
          [
           "Romania",
           "2012"
          ],
          [
           "Russia",
           "2012"
          ],
          [
           "Slovakia",
           "2012"
          ],
          [
           "Slovenia",
           "2012"
          ],
          [
           "South Africa",
           "2012"
          ],
          [
           "South Korea",
           "2012"
          ],
          [
           "Spain",
           "2012"
          ],
          [
           "Sweden",
           "2012"
          ],
          [
           "Switzerland",
           "2012"
          ],
          [
           "Thailand",
           "2012"
          ],
          [
           "Trinidad and Tobago",
           "2012"
          ],
          [
           "Turkey",
           "2012"
          ],
          [
           "Ukraine",
           "2012"
          ],
          [
           "United States",
           "2012"
          ],
          [
           "Uzbekistan",
           "2012"
          ],
          [
           "Venezuela",
           "2012"
          ]
         ],
         "hovertemplate": "Year=%{customdata[1]}<br>GDP (per capita) in dollars=%{x}<br>Total Olympic medals=%{y}<br>Country=%{customdata[0]}<extra></extra>",
         "legendgroup": "2012",
         "marker": {
          "color": "#00cc96",
          "symbol": "circle"
         },
         "mode": "markers",
         "name": "2012",
         "orientation": "v",
         "showlegend": true,
         "type": "scatter",
         "x": [
          19641,
          42906,
          16063,
          33252,
          18097,
          42409,
          15120,
          16295,
          42351,
          11137,
          41741,
          12306,
          21167,
          6448,
          29270,
          44893,
          12208,
          11620,
          25996,
          1315,
          40969,
          39037,
          9799,
          43359,
          38297,
          24819,
          23179,
          4861,
          9834,
          15846,
          36143,
          8586,
          37629,
          21878,
          3107,
          24704,
          17213,
          10074,
          6857,
          47342,
          32734,
          643,
          65101,
          23745,
          26438,
          18834,
          24279,
          26983,
          29066,
          13191,
          33557,
          31725,
          45259,
          60273,
          14871,
          30063,
          20504,
          9389,
          51737,
          6107,
          18553
         ],
         "xaxis": "x",
         "y": [
          4,
          35,
          9,
          1,
          10,
          3,
          17,
          3,
          18,
          91,
          2,
          9,
          6,
          15,
          11,
          9,
          2,
          4,
          2,
          8,
          3,
          35,
          6,
          44,
          65,
          2,
          18,
          6,
          3,
          13,
          28,
          12,
          38,
          11,
          13,
          5,
          8,
          5,
          1,
          20,
          13,
          7,
          4,
          11,
          1,
          7,
          67,
          4,
          4,
          6,
          30,
          20,
          8,
          4,
          4,
          4,
          3,
          19,
          104,
          3,
          1
         ],
         "yaxis": "y"
        },
        {
         "hovertemplate": "<b>OLS trendline</b><br>Total = 0.000338649 * GDP + 6.67808<br>R<sup>2</sup>=0.059662<br><br>Year=2012<br>GDP (per capita) in dollars=%{x}<br>Total Olympic medals=%{y} <b>(trend)</b><extra></extra>",
         "legendgroup": "2012",
         "marker": {
          "color": "#00cc96",
          "symbol": "circle"
         },
         "mode": "lines",
         "name": "2012",
         "showlegend": false,
         "type": "scatter",
         "x": [
          643,
          1315,
          3107,
          4861,
          6107,
          6448,
          6857,
          8586,
          9389,
          9799,
          9834,
          10074,
          11137,
          11620,
          12208,
          12306,
          13191,
          14871,
          15120,
          15846,
          16063,
          16295,
          17213,
          18097,
          18553,
          18834,
          19641,
          20504,
          21167,
          21878,
          23179,
          23745,
          24279,
          24704,
          24819,
          25996,
          26438,
          26983,
          29066,
          29270,
          30063,
          31725,
          32734,
          33252,
          33557,
          36143,
          37629,
          38297,
          39037,
          40969,
          41741,
          42351,
          42409,
          42906,
          43359,
          44893,
          45259,
          47342,
          51737,
          60273,
          65101
         ],
         "xaxis": "x",
         "y": [
          6.895828226841674,
          7.123400183923203,
          7.7302587361406125,
          8.324248636023055,
          8.746204973111723,
          8.861684195380771,
          9.0001915323545,
          9.585715213595517,
          9.857650156358117,
          9.996496142077502,
          10.008348848175498,
          10.089624547133187,
          10.449608163766616,
          10.613175507918966,
          10.812300970365303,
          10.845488547439693,
          11.14519268734617,
          11.714122580049992,
          11.798446117718594,
          12.044305107065602,
          12.117791884873178,
          12.196358393865612,
          12.50723794237877,
          12.80660343353959,
          12.961027261559199,
          13.056187559088826,
          13.329477096834056,
          13.621730964336077,
          13.846255082706694,
          14.087034340868847,
          14.52761635896865,
          14.719291549010535,
          14.90012997919139,
          15.044055696095633,
          15.083000301846191,
          15.481589875484524,
          15.631272621064934,
          15.815836187448017,
          16.521241524651625,
          16.59032586876566,
          16.858874324071692,
          17.421708539353684,
          17.763405123721636,
          17.93882517397198,
          18.04211304139738,
          18.917858697666475,
          19.42109073371283,
          19.64730809581173,
          19.897908167597937,
          20.552177544207332,
          20.813614375854563,
          21.020190110705357,
          21.039831737953463,
          21.20814016454501,
          21.36154804632765,
          21.881035222165544,
          22.00498066307602,
          22.710386000279627,
          24.1987472374423,
          27.089452930370765,
          28.724449074402937
         ],
         "yaxis": "y"
        },
        {
         "customdata": [
          [
           "Argentina",
           "2016"
          ],
          [
           "Australia",
           "2016"
          ],
          [
           "Azerbaijan",
           "2016"
          ],
          [
           "Bahamas",
           "2016"
          ],
          [
           "Belarus",
           "2016"
          ],
          [
           "Belgium",
           "2016"
          ],
          [
           "Brazil",
           "2016"
          ],
          [
           "Bulgaria",
           "2016"
          ],
          [
           "Canada",
           "2016"
          ],
          [
           "China",
           "2016"
          ],
          [
           "Chinese Taipei",
           "2016"
          ],
          [
           "Colombia",
           "2016"
          ],
          [
           "Croatia",
           "2016"
          ],
          [
           "Cuba",
           "2016"
          ],
          [
           "Czech Republic",
           "2016"
          ],
          [
           "Denmark",
           "2016"
          ],
          [
           "Dominican Republic",
           "2016"
          ],
          [
           "Egypt",
           "2016"
          ],
          [
           "Estonia",
           "2016"
          ],
          [
           "Ethiopia",
           "2016"
          ],
          [
           "Finland",
           "2016"
          ],
          [
           "France",
           "2016"
          ],
          [
           "Georgia",
           "2016"
          ],
          [
           "Germany",
           "2016"
          ],
          [
           "Great Britain",
           "2016"
          ],
          [
           "Greece",
           "2016"
          ],
          [
           "Hungary",
           "2016"
          ],
          [
           "India",
           "2016"
          ],
          [
           "Indonesia",
           "2016"
          ],
          [
           "Iran",
           "2016"
          ],
          [
           "Italy",
           "2016"
          ],
          [
           "Jamaica",
           "2016"
          ],
          [
           "Japan",
           "2016"
          ],
          [
           "Kazakhstan",
           "2016"
          ],
          [
           "Kenya",
           "2016"
          ],
          [
           "Lithuania",
           "2016"
          ],
          [
           "Mexico",
           "2016"
          ],
          [
           "Mongolia",
           "2016"
          ],
          [
           "Morocco",
           "2016"
          ],
          [
           "Netherlands",
           "2016"
          ],
          [
           "New Zealand",
           "2016"
          ],
          [
           "North Korea",
           "2016"
          ],
          [
           "Norway",
           "2016"
          ],
          [
           "Poland",
           "2016"
          ],
          [
           "Portugal",
           "2016"
          ],
          [
           "Romania",
           "2016"
          ],
          [
           "Russia",
           "2016"
          ],
          [
           "Slovakia",
           "2016"
          ],
          [
           "Slovenia",
           "2016"
          ],
          [
           "South Africa",
           "2016"
          ],
          [
           "South Korea",
           "2016"
          ],
          [
           "Spain",
           "2016"
          ],
          [
           "Sweden",
           "2016"
          ],
          [
           "Switzerland",
           "2016"
          ],
          [
           "Thailand",
           "2016"
          ],
          [
           "Trinidad and Tobago",
           "2016"
          ],
          [
           "Turkey",
           "2016"
          ],
          [
           "Ukraine",
           "2016"
          ],
          [
           "United States",
           "2016"
          ],
          [
           "Uzbekistan",
           "2016"
          ],
          [
           "Venezuela",
           "2016"
          ]
         ],
         "hovertemplate": "Year=%{customdata[1]}<br>GDP (per capita) in dollars=%{x}<br>Total Olympic medals=%{y}<br>Country=%{customdata[0]}<extra></extra>",
         "legendgroup": "2016",
         "marker": {
          "color": "#ab63fa",
          "symbol": "circle"
         },
         "mode": "markers",
         "name": "2016",
         "orientation": "v",
         "showlegend": true,
         "type": "scatter",
         "x": [
          20308,
          48135,
          14448,
          35239,
          17787,
          48680,
          14326,
          20091,
          46554,
          13432,
          47272,
          14352,
          24876,
          7657,
          36137,
          52160,
          16626,
          11616,
          31310,
          2134,
          44995,
          44422,
          12855,
          50575,
          44121,
          27449,
          27863,
          5840,
          10619,
          13855,
          40231,
          9818,
          40641,
          23654,
          4353,
          30922,
          19422,
          10524,
          7356,
          52441,
          39266,
          642,
          58736,
          28321,
          31604,
          24197,
          24104,
          29681,
          33947,
          13738,
          39567,
          37310,
          50062,
          68461,
          16616,
          26390,
          26514,
          11216,
          57840,
          6856,
          14213
         ],
         "xaxis": "x",
         "y": [
          4,
          29,
          18,
          2,
          9,
          6,
          19,
          3,
          22,
          70,
          3,
          8,
          10,
          11,
          10,
          15,
          1,
          3,
          1,
          8,
          1,
          42,
          7,
          42,
          67,
          6,
          15,
          2,
          3,
          8,
          28,
          11,
          41,
          17,
          13,
          4,
          5,
          2,
          1,
          19,
          18,
          7,
          4,
          11,
          1,
          4,
          56,
          4,
          4,
          10,
          21,
          17,
          11,
          7,
          6,
          1,
          8,
          11,
          121,
          13,
          3
         ],
         "yaxis": "y"
        },
        {
         "hovertemplate": "<b>OLS trendline</b><br>Total = 0.00039935 * GDP + 4.12041<br>R<sup>2</sup>=0.102632<br><br>Year=2016<br>GDP (per capita) in dollars=%{x}<br>Total Olympic medals=%{y} <b>(trend)</b><extra></extra>",
         "legendgroup": "2016",
         "marker": {
          "color": "#ab63fa",
          "symbol": "circle"
         },
         "mode": "lines",
         "name": "2016",
         "showlegend": false,
         "type": "scatter",
         "x": [
          642,
          2134,
          4353,
          5840,
          6856,
          7356,
          7657,
          9818,
          10524,
          10619,
          11216,
          11616,
          12855,
          13432,
          13738,
          13855,
          14213,
          14326,
          14352,
          14448,
          16616,
          16626,
          17787,
          19422,
          20091,
          20308,
          23654,
          24104,
          24197,
          24876,
          26390,
          26514,
          27449,
          27863,
          28321,
          29681,
          30922,
          31310,
          31604,
          33947,
          35239,
          36137,
          37310,
          39266,
          39567,
          40231,
          40641,
          44121,
          44422,
          44995,
          46554,
          47272,
          48135,
          48680,
          50062,
          50575,
          52160,
          52441,
          57840,
          58736,
          68461
         ],
         "xaxis": "x",
         "y": [
          4.376789818062001,
          4.972619302402066,
          5.8587758880257965,
          6.452608624764187,
          6.8583477374247135,
          7.0580224975922965,
          7.178226703213181,
          8.041221016657472,
          8.323161778014098,
          8.361099982445939,
          8.599511646086032,
          8.759251454220099,
          9.254045509915368,
          9.484470183148758,
          9.606671136371318,
          9.653395030250532,
          9.79636215853052,
          9.841488654328394,
          9.85187174185711,
          9.890209295809285,
          10.755999055895922,
          10.759992551099273,
          11.223637344208399,
          11.876573809956394,
          12.143738639060619,
          12.23039748497335,
          13.566620980014811,
          13.746328264165635,
          13.783467769556806,
          14.054626093864382,
          14.659241267651822,
          14.708760608173382,
          15.082152409686762,
          15.24748311110552,
          15.430385191419026,
          15.973500539074848,
          16.469093293810786,
          16.62404090770083,
          16.741449666679372,
          17.677125592824662,
          18.193085173097693,
          18.551701042358673,
          19.02013802971182,
          19.8012656914874,
          19.921469897108288,
          20.186637978610836,
          20.350371281948256,
          21.740107612714628,
          21.86031181833551,
          22.08913909348756,
          22.711724995690084,
          22.99845795129073,
          23.34309658733998,
          23.560742075922644,
          24.11264311302584,
          24.31750941695778,
          24.950478406689015,
          25.0626956219032,
          27.218783682192754,
          27.57660085241306,
          31.460274937672537
         ],
         "yaxis": "y"
        }
       ],
       "layout": {
        "legend": {
         "title": {
          "text": "Year"
         },
         "tracegroupgap": 0
        },
        "template": {
         "data": {
          "bar": [
           {
            "error_x": {
             "color": "#2a3f5f"
            },
            "error_y": {
             "color": "#2a3f5f"
            },
            "marker": {
             "line": {
              "color": "#E5ECF6",
              "width": 0.5
             },
             "pattern": {
              "fillmode": "overlay",
              "size": 10,
              "solidity": 0.2
             }
            },
            "type": "bar"
           }
          ],
          "barpolar": [
           {
            "marker": {
             "line": {
              "color": "#E5ECF6",
              "width": 0.5
             },
             "pattern": {
              "fillmode": "overlay",
              "size": 10,
              "solidity": 0.2
             }
            },
            "type": "barpolar"
           }
          ],
          "carpet": [
           {
            "aaxis": {
             "endlinecolor": "#2a3f5f",
             "gridcolor": "white",
             "linecolor": "white",
             "minorgridcolor": "white",
             "startlinecolor": "#2a3f5f"
            },
            "baxis": {
             "endlinecolor": "#2a3f5f",
             "gridcolor": "white",
             "linecolor": "white",
             "minorgridcolor": "white",
             "startlinecolor": "#2a3f5f"
            },
            "type": "carpet"
           }
          ],
          "choropleth": [
           {
            "colorbar": {
             "outlinewidth": 0,
             "ticks": ""
            },
            "type": "choropleth"
           }
          ],
          "contour": [
           {
            "colorbar": {
             "outlinewidth": 0,
             "ticks": ""
            },
            "colorscale": [
             [
              0,
              "#0d0887"
             ],
             [
              0.1111111111111111,
              "#46039f"
             ],
             [
              0.2222222222222222,
              "#7201a8"
             ],
             [
              0.3333333333333333,
              "#9c179e"
             ],
             [
              0.4444444444444444,
              "#bd3786"
             ],
             [
              0.5555555555555556,
              "#d8576b"
             ],
             [
              0.6666666666666666,
              "#ed7953"
             ],
             [
              0.7777777777777778,
              "#fb9f3a"
             ],
             [
              0.8888888888888888,
              "#fdca26"
             ],
             [
              1,
              "#f0f921"
             ]
            ],
            "type": "contour"
           }
          ],
          "contourcarpet": [
           {
            "colorbar": {
             "outlinewidth": 0,
             "ticks": ""
            },
            "type": "contourcarpet"
           }
          ],
          "heatmap": [
           {
            "colorbar": {
             "outlinewidth": 0,
             "ticks": ""
            },
            "colorscale": [
             [
              0,
              "#0d0887"
             ],
             [
              0.1111111111111111,
              "#46039f"
             ],
             [
              0.2222222222222222,
              "#7201a8"
             ],
             [
              0.3333333333333333,
              "#9c179e"
             ],
             [
              0.4444444444444444,
              "#bd3786"
             ],
             [
              0.5555555555555556,
              "#d8576b"
             ],
             [
              0.6666666666666666,
              "#ed7953"
             ],
             [
              0.7777777777777778,
              "#fb9f3a"
             ],
             [
              0.8888888888888888,
              "#fdca26"
             ],
             [
              1,
              "#f0f921"
             ]
            ],
            "type": "heatmap"
           }
          ],
          "heatmapgl": [
           {
            "colorbar": {
             "outlinewidth": 0,
             "ticks": ""
            },
            "colorscale": [
             [
              0,
              "#0d0887"
             ],
             [
              0.1111111111111111,
              "#46039f"
             ],
             [
              0.2222222222222222,
              "#7201a8"
             ],
             [
              0.3333333333333333,
              "#9c179e"
             ],
             [
              0.4444444444444444,
              "#bd3786"
             ],
             [
              0.5555555555555556,
              "#d8576b"
             ],
             [
              0.6666666666666666,
              "#ed7953"
             ],
             [
              0.7777777777777778,
              "#fb9f3a"
             ],
             [
              0.8888888888888888,
              "#fdca26"
             ],
             [
              1,
              "#f0f921"
             ]
            ],
            "type": "heatmapgl"
           }
          ],
          "histogram": [
           {
            "marker": {
             "pattern": {
              "fillmode": "overlay",
              "size": 10,
              "solidity": 0.2
             }
            },
            "type": "histogram"
           }
          ],
          "histogram2d": [
           {
            "colorbar": {
             "outlinewidth": 0,
             "ticks": ""
            },
            "colorscale": [
             [
              0,
              "#0d0887"
             ],
             [
              0.1111111111111111,
              "#46039f"
             ],
             [
              0.2222222222222222,
              "#7201a8"
             ],
             [
              0.3333333333333333,
              "#9c179e"
             ],
             [
              0.4444444444444444,
              "#bd3786"
             ],
             [
              0.5555555555555556,
              "#d8576b"
             ],
             [
              0.6666666666666666,
              "#ed7953"
             ],
             [
              0.7777777777777778,
              "#fb9f3a"
             ],
             [
              0.8888888888888888,
              "#fdca26"
             ],
             [
              1,
              "#f0f921"
             ]
            ],
            "type": "histogram2d"
           }
          ],
          "histogram2dcontour": [
           {
            "colorbar": {
             "outlinewidth": 0,
             "ticks": ""
            },
            "colorscale": [
             [
              0,
              "#0d0887"
             ],
             [
              0.1111111111111111,
              "#46039f"
             ],
             [
              0.2222222222222222,
              "#7201a8"
             ],
             [
              0.3333333333333333,
              "#9c179e"
             ],
             [
              0.4444444444444444,
              "#bd3786"
             ],
             [
              0.5555555555555556,
              "#d8576b"
             ],
             [
              0.6666666666666666,
              "#ed7953"
             ],
             [
              0.7777777777777778,
              "#fb9f3a"
             ],
             [
              0.8888888888888888,
              "#fdca26"
             ],
             [
              1,
              "#f0f921"
             ]
            ],
            "type": "histogram2dcontour"
           }
          ],
          "mesh3d": [
           {
            "colorbar": {
             "outlinewidth": 0,
             "ticks": ""
            },
            "type": "mesh3d"
           }
          ],
          "parcoords": [
           {
            "line": {
             "colorbar": {
              "outlinewidth": 0,
              "ticks": ""
             }
            },
            "type": "parcoords"
           }
          ],
          "pie": [
           {
            "automargin": true,
            "type": "pie"
           }
          ],
          "scatter": [
           {
            "marker": {
             "colorbar": {
              "outlinewidth": 0,
              "ticks": ""
             }
            },
            "type": "scatter"
           }
          ],
          "scatter3d": [
           {
            "line": {
             "colorbar": {
              "outlinewidth": 0,
              "ticks": ""
             }
            },
            "marker": {
             "colorbar": {
              "outlinewidth": 0,
              "ticks": ""
             }
            },
            "type": "scatter3d"
           }
          ],
          "scattercarpet": [
           {
            "marker": {
             "colorbar": {
              "outlinewidth": 0,
              "ticks": ""
             }
            },
            "type": "scattercarpet"
           }
          ],
          "scattergeo": [
           {
            "marker": {
             "colorbar": {
              "outlinewidth": 0,
              "ticks": ""
             }
            },
            "type": "scattergeo"
           }
          ],
          "scattergl": [
           {
            "marker": {
             "colorbar": {
              "outlinewidth": 0,
              "ticks": ""
             }
            },
            "type": "scattergl"
           }
          ],
          "scattermapbox": [
           {
            "marker": {
             "colorbar": {
              "outlinewidth": 0,
              "ticks": ""
             }
            },
            "type": "scattermapbox"
           }
          ],
          "scatterpolar": [
           {
            "marker": {
             "colorbar": {
              "outlinewidth": 0,
              "ticks": ""
             }
            },
            "type": "scatterpolar"
           }
          ],
          "scatterpolargl": [
           {
            "marker": {
             "colorbar": {
              "outlinewidth": 0,
              "ticks": ""
             }
            },
            "type": "scatterpolargl"
           }
          ],
          "scatterternary": [
           {
            "marker": {
             "colorbar": {
              "outlinewidth": 0,
              "ticks": ""
             }
            },
            "type": "scatterternary"
           }
          ],
          "surface": [
           {
            "colorbar": {
             "outlinewidth": 0,
             "ticks": ""
            },
            "colorscale": [
             [
              0,
              "#0d0887"
             ],
             [
              0.1111111111111111,
              "#46039f"
             ],
             [
              0.2222222222222222,
              "#7201a8"
             ],
             [
              0.3333333333333333,
              "#9c179e"
             ],
             [
              0.4444444444444444,
              "#bd3786"
             ],
             [
              0.5555555555555556,
              "#d8576b"
             ],
             [
              0.6666666666666666,
              "#ed7953"
             ],
             [
              0.7777777777777778,
              "#fb9f3a"
             ],
             [
              0.8888888888888888,
              "#fdca26"
             ],
             [
              1,
              "#f0f921"
             ]
            ],
            "type": "surface"
           }
          ],
          "table": [
           {
            "cells": {
             "fill": {
              "color": "#EBF0F8"
             },
             "line": {
              "color": "white"
             }
            },
            "header": {
             "fill": {
              "color": "#C8D4E3"
             },
             "line": {
              "color": "white"
             }
            },
            "type": "table"
           }
          ]
         },
         "layout": {
          "annotationdefaults": {
           "arrowcolor": "#2a3f5f",
           "arrowhead": 0,
           "arrowwidth": 1
          },
          "autotypenumbers": "strict",
          "coloraxis": {
           "colorbar": {
            "outlinewidth": 0,
            "ticks": ""
           }
          },
          "colorscale": {
           "diverging": [
            [
             0,
             "#8e0152"
            ],
            [
             0.1,
             "#c51b7d"
            ],
            [
             0.2,
             "#de77ae"
            ],
            [
             0.3,
             "#f1b6da"
            ],
            [
             0.4,
             "#fde0ef"
            ],
            [
             0.5,
             "#f7f7f7"
            ],
            [
             0.6,
             "#e6f5d0"
            ],
            [
             0.7,
             "#b8e186"
            ],
            [
             0.8,
             "#7fbc41"
            ],
            [
             0.9,
             "#4d9221"
            ],
            [
             1,
             "#276419"
            ]
           ],
           "sequential": [
            [
             0,
             "#0d0887"
            ],
            [
             0.1111111111111111,
             "#46039f"
            ],
            [
             0.2222222222222222,
             "#7201a8"
            ],
            [
             0.3333333333333333,
             "#9c179e"
            ],
            [
             0.4444444444444444,
             "#bd3786"
            ],
            [
             0.5555555555555556,
             "#d8576b"
            ],
            [
             0.6666666666666666,
             "#ed7953"
            ],
            [
             0.7777777777777778,
             "#fb9f3a"
            ],
            [
             0.8888888888888888,
             "#fdca26"
            ],
            [
             1,
             "#f0f921"
            ]
           ],
           "sequentialminus": [
            [
             0,
             "#0d0887"
            ],
            [
             0.1111111111111111,
             "#46039f"
            ],
            [
             0.2222222222222222,
             "#7201a8"
            ],
            [
             0.3333333333333333,
             "#9c179e"
            ],
            [
             0.4444444444444444,
             "#bd3786"
            ],
            [
             0.5555555555555556,
             "#d8576b"
            ],
            [
             0.6666666666666666,
             "#ed7953"
            ],
            [
             0.7777777777777778,
             "#fb9f3a"
            ],
            [
             0.8888888888888888,
             "#fdca26"
            ],
            [
             1,
             "#f0f921"
            ]
           ]
          },
          "colorway": [
           "#636efa",
           "#EF553B",
           "#00cc96",
           "#ab63fa",
           "#FFA15A",
           "#19d3f3",
           "#FF6692",
           "#B6E880",
           "#FF97FF",
           "#FECB52"
          ],
          "font": {
           "color": "#2a3f5f"
          },
          "geo": {
           "bgcolor": "white",
           "lakecolor": "white",
           "landcolor": "#E5ECF6",
           "showlakes": true,
           "showland": true,
           "subunitcolor": "white"
          },
          "hoverlabel": {
           "align": "left"
          },
          "hovermode": "closest",
          "mapbox": {
           "style": "light"
          },
          "paper_bgcolor": "white",
          "plot_bgcolor": "#E5ECF6",
          "polar": {
           "angularaxis": {
            "gridcolor": "white",
            "linecolor": "white",
            "ticks": ""
           },
           "bgcolor": "#E5ECF6",
           "radialaxis": {
            "gridcolor": "white",
            "linecolor": "white",
            "ticks": ""
           }
          },
          "scene": {
           "xaxis": {
            "backgroundcolor": "#E5ECF6",
            "gridcolor": "white",
            "gridwidth": 2,
            "linecolor": "white",
            "showbackground": true,
            "ticks": "",
            "zerolinecolor": "white"
           },
           "yaxis": {
            "backgroundcolor": "#E5ECF6",
            "gridcolor": "white",
            "gridwidth": 2,
            "linecolor": "white",
            "showbackground": true,
            "ticks": "",
            "zerolinecolor": "white"
           },
           "zaxis": {
            "backgroundcolor": "#E5ECF6",
            "gridcolor": "white",
            "gridwidth": 2,
            "linecolor": "white",
            "showbackground": true,
            "ticks": "",
            "zerolinecolor": "white"
           }
          },
          "shapedefaults": {
           "line": {
            "color": "#2a3f5f"
           }
          },
          "ternary": {
           "aaxis": {
            "gridcolor": "white",
            "linecolor": "white",
            "ticks": ""
           },
           "baxis": {
            "gridcolor": "white",
            "linecolor": "white",
            "ticks": ""
           },
           "bgcolor": "#E5ECF6",
           "caxis": {
            "gridcolor": "white",
            "linecolor": "white",
            "ticks": ""
           }
          },
          "title": {
           "x": 0.05
          },
          "xaxis": {
           "automargin": true,
           "gridcolor": "white",
           "linecolor": "white",
           "ticks": "",
           "title": {
            "standoff": 15
           },
           "zerolinecolor": "white",
           "zerolinewidth": 2
          },
          "yaxis": {
           "automargin": true,
           "gridcolor": "white",
           "linecolor": "white",
           "ticks": "",
           "title": {
            "standoff": 15
           },
           "zerolinecolor": "white",
           "zerolinewidth": 2
          }
         }
        },
        "title": {
         "text": "GDP vs Total medals"
        },
        "xaxis": {
         "anchor": "y",
         "domain": [
          0,
          1
         ],
         "title": {
          "text": "GDP (per capita) in dollars"
         }
        },
        "yaxis": {
         "anchor": "x",
         "domain": [
          0,
          1
         ],
         "title": {
          "text": "Total Olympic medals"
         }
        }
       }
      }
     },
     "metadata": {},
     "output_type": "display_data"
    },
    {
     "data": {
      "application/vnd.plotly.v1+json": {
       "config": {
        "plotlyServerURL": "https://plot.ly"
       },
       "data": [
        {
         "customdata": [
          [
           "Argentina",
           "2004"
          ],
          [
           "Australia",
           "2004"
          ],
          [
           "Azerbaijan",
           "2004"
          ],
          [
           "Bahamas",
           "2004"
          ],
          [
           "Belarus",
           "2004"
          ],
          [
           "Belgium",
           "2004"
          ],
          [
           "Brazil",
           "2004"
          ],
          [
           "Bulgaria",
           "2004"
          ],
          [
           "Canada",
           "2004"
          ],
          [
           "China",
           "2004"
          ],
          [
           "Chinese Taipei",
           "2004"
          ],
          [
           "Colombia",
           "2004"
          ],
          [
           "Croatia",
           "2004"
          ],
          [
           "Cuba",
           "2004"
          ],
          [
           "Czech Republic",
           "2004"
          ],
          [
           "Denmark",
           "2004"
          ],
          [
           "Dominican Republic",
           "2004"
          ],
          [
           "Egypt",
           "2004"
          ],
          [
           "Estonia",
           "2004"
          ],
          [
           "Ethiopia",
           "2004"
          ],
          [
           "Finland",
           "2004"
          ],
          [
           "France",
           "2004"
          ],
          [
           "Georgia",
           "2004"
          ],
          [
           "Germany",
           "2004"
          ],
          [
           "Great Britain",
           "2004"
          ],
          [
           "Greece",
           "2004"
          ],
          [
           "Hungary",
           "2004"
          ],
          [
           "India",
           "2004"
          ],
          [
           "Indonesia",
           "2004"
          ],
          [
           "Iran",
           "2004"
          ],
          [
           "Italy",
           "2004"
          ],
          [
           "Jamaica",
           "2004"
          ],
          [
           "Japan",
           "2004"
          ],
          [
           "Kazakhstan",
           "2004"
          ],
          [
           "Kenya",
           "2004"
          ],
          [
           "Lithuania",
           "2004"
          ],
          [
           "Mexico",
           "2004"
          ],
          [
           "Mongolia",
           "2004"
          ],
          [
           "Morocco",
           "2004"
          ],
          [
           "Netherlands",
           "2004"
          ],
          [
           "New Zealand",
           "2004"
          ],
          [
           "North Korea",
           "2004"
          ],
          [
           "Norway",
           "2004"
          ],
          [
           "Poland",
           "2004"
          ],
          [
           "Portugal",
           "2004"
          ],
          [
           "Romania",
           "2004"
          ],
          [
           "Russia",
           "2004"
          ],
          [
           "Slovakia",
           "2004"
          ],
          [
           "Slovenia",
           "2004"
          ],
          [
           "South Africa",
           "2004"
          ],
          [
           "South Korea",
           "2004"
          ],
          [
           "Spain",
           "2004"
          ],
          [
           "Sweden",
           "2004"
          ],
          [
           "Switzerland",
           "2004"
          ],
          [
           "Thailand",
           "2004"
          ],
          [
           "Trinidad and Tobago",
           "2004"
          ],
          [
           "Turkey",
           "2004"
          ],
          [
           "Ukraine",
           "2004"
          ],
          [
           "United States",
           "2004"
          ],
          [
           "Uzbekistan",
           "2004"
          ],
          [
           "Venezuela",
           "2004"
          ]
         ],
         "hovertemplate": "Year=%{customdata[1]}<br>Population (in thousands)=%{x}<br>Total Olympic medals=%{y}<br>Country=%{customdata[0]}<extra></extra>",
         "legendgroup": "2004",
         "marker": {
          "color": "#636efa",
          "symbol": "circle"
         },
         "mode": "markers",
         "name": "2004",
         "orientation": "v",
         "showlegend": true,
         "type": "scatter",
         "x": [
          39182,
          20233,
          8826,
          297,
          9807,
          10470,
          186021,
          7612,
          32387,
          1302285,
          22728,
          41488,
          4496,
          11199,
          10267,
          5433,
          9165,
          72544,
          1332,
          74355,
          5239,
          63060,
          4791,
          82440,
          60488,
          10669,
          10058,
          1090974,
          229245,
          72283,
          59038,
          2737,
          127716,
          16123,
          35247,
          3327,
          106577,
          2603,
          29901,
          16300,
          4049,
          23621,
          4625,
          38557,
          10567,
          22198,
          143320,
          5408,
          2012,
          48105,
          48006,
          43705,
          9083,
          7449,
          65113,
          1237,
          70465,
          47003,
          295517,
          26540,
          25270
         ],
         "xaxis": "x",
         "y": [
          6,
          50,
          5,
          2,
          13,
          3,
          10,
          12,
          12,
          63,
          5,
          2,
          5,
          27,
          9,
          8,
          1,
          5,
          3,
          7,
          2,
          33,
          4,
          49,
          30,
          16,
          17,
          1,
          4,
          6,
          32,
          5,
          37,
          8,
          7,
          3,
          4,
          1,
          3,
          22,
          5,
          5,
          6,
          10,
          3,
          19,
          90,
          6,
          4,
          6,
          30,
          20,
          7,
          5,
          8,
          1,
          11,
          22,
          101,
          5,
          2
         ],
         "yaxis": "y"
        },
        {
         "hovertemplate": "<b>OLS trendline</b><br>Total = 3.00302e-05 * Pop + 12.3382<br>R<sup>2</sup>=0.104963<br><br>Year=2004<br>Population (in thousands)=%{x}<br>Total Olympic medals=%{y} <b>(trend)</b><extra></extra>",
         "legendgroup": "2004",
         "marker": {
          "color": "#636efa",
          "symbol": "circle"
         },
         "mode": "lines",
         "name": "2004",
         "showlegend": false,
         "type": "scatter",
         "x": [
          297,
          1237,
          1332,
          2012,
          2603,
          2737,
          3327,
          4049,
          4496,
          4625,
          4791,
          5239,
          5408,
          5433,
          7449,
          7612,
          8826,
          9083,
          9165,
          9807,
          10058,
          10267,
          10470,
          10567,
          10669,
          11199,
          16123,
          16300,
          20233,
          22198,
          22728,
          23621,
          25270,
          26540,
          29901,
          32387,
          35247,
          38557,
          39182,
          41488,
          43705,
          47003,
          48006,
          48105,
          59038,
          60488,
          63060,
          65113,
          70465,
          72283,
          72544,
          74355,
          82440,
          106577,
          127716,
          143320,
          186021,
          229245,
          295517,
          1090974,
          1302285
         ],
         "xaxis": "x",
         "y": [
          12.347117894261062,
          12.375346259580041,
          12.37819912628781,
          12.398619645880263,
          12.416367479820174,
          12.420391523386922,
          12.438109327150961,
          12.459791114130008,
          12.473214602744457,
          12.477088495431849,
          12.482073504626477,
          12.495527023416798,
          12.500602123139041,
          12.501352877535822,
          12.561893712092271,
          12.566788630759284,
          12.603245264266986,
          12.610963019465899,
          12.613425493887341,
          12.632704866796686,
          12.640242440940371,
          12.646518747697463,
          12.652614873399328,
          12.65552780045884,
          12.658590878397707,
          12.674506871609472,
          12.822375457599525,
          12.827690798728739,
          12.945799480430379,
          13.004808776017393,
          13.020724769229158,
          13.047541716282188,
          13.097061476293886,
          13.135199799650378,
          13.236131220753663,
          13.3107862379696,
          13.396672540961385,
          13.496072423095235,
          13.51484128301477,
          13.584090868573881,
          13.650667768480451,
          13.749707288503846,
          13.779827554902713,
          13.782800542313968,
          14.111120455114387,
          14.154664210127704,
          14.23190182246857,
          14.293553773532254,
          14.454275274795204,
          14.508870134529143,
          14.516708010431541,
          14.571092658934383,
          14.81388663085347,
          15.538724985857925,
          16.17353287360036,
          16.642123737895407,
          17.924442277773817,
          19.222466599632895,
          21.212626414972632,
          45.100340022992626,
          51.446046516523154
         ],
         "yaxis": "y"
        },
        {
         "customdata": [
          [
           "Argentina",
           "2008"
          ],
          [
           "Australia",
           "2008"
          ],
          [
           "Azerbaijan",
           "2008"
          ],
          [
           "Bahamas",
           "2008"
          ],
          [
           "Belarus",
           "2008"
          ],
          [
           "Belgium",
           "2008"
          ],
          [
           "Brazil",
           "2008"
          ],
          [
           "Bulgaria",
           "2008"
          ],
          [
           "Canada",
           "2008"
          ],
          [
           "China",
           "2008"
          ],
          [
           "Chinese Taipei",
           "2008"
          ],
          [
           "Colombia",
           "2008"
          ],
          [
           "Croatia",
           "2008"
          ],
          [
           "Cuba",
           "2008"
          ],
          [
           "Czech Republic",
           "2008"
          ],
          [
           "Denmark",
           "2008"
          ],
          [
           "Dominican Republic",
           "2008"
          ],
          [
           "Egypt",
           "2008"
          ],
          [
           "Estonia",
           "2008"
          ],
          [
           "Ethiopia",
           "2008"
          ],
          [
           "Finland",
           "2008"
          ],
          [
           "France",
           "2008"
          ],
          [
           "Georgia",
           "2008"
          ],
          [
           "Germany",
           "2008"
          ],
          [
           "Great Britain",
           "2008"
          ],
          [
           "Greece",
           "2008"
          ],
          [
           "Hungary",
           "2008"
          ],
          [
           "India",
           "2008"
          ],
          [
           "Indonesia",
           "2008"
          ],
          [
           "Iran",
           "2008"
          ],
          [
           "Italy",
           "2008"
          ],
          [
           "Jamaica",
           "2008"
          ],
          [
           "Japan",
           "2008"
          ],
          [
           "Kazakhstan",
           "2008"
          ],
          [
           "Kenya",
           "2008"
          ],
          [
           "Lithuania",
           "2008"
          ],
          [
           "Mexico",
           "2008"
          ],
          [
           "Mongolia",
           "2008"
          ],
          [
           "Morocco",
           "2008"
          ],
          [
           "Netherlands",
           "2008"
          ],
          [
           "New Zealand",
           "2008"
          ],
          [
           "North Korea",
           "2008"
          ],
          [
           "Norway",
           "2008"
          ],
          [
           "Poland",
           "2008"
          ],
          [
           "Portugal",
           "2008"
          ],
          [
           "Romania",
           "2008"
          ],
          [
           "Russia",
           "2008"
          ],
          [
           "Slovakia",
           "2008"
          ],
          [
           "Slovenia",
           "2008"
          ],
          [
           "South Africa",
           "2008"
          ],
          [
           "South Korea",
           "2008"
          ],
          [
           "Spain",
           "2008"
          ],
          [
           "Sweden",
           "2008"
          ],
          [
           "Switzerland",
           "2008"
          ],
          [
           "Thailand",
           "2008"
          ],
          [
           "Trinidad and Tobago",
           "2008"
          ],
          [
           "Turkey",
           "2008"
          ],
          [
           "Ukraine",
           "2008"
          ],
          [
           "United States",
           "2008"
          ],
          [
           "Uzbekistan",
           "2008"
          ],
          [
           "Venezuela",
           "2008"
          ]
         ],
         "hovertemplate": "Year=%{customdata[1]}<br>Population (in thousands)=%{x}<br>Total Olympic medals=%{y}<br>Country=%{customdata[0]}<extra></extra>",
         "legendgroup": "2008",
         "marker": {
          "color": "#EF553B",
          "symbol": "circle"
         },
         "mode": "markers",
         "name": "2008",
         "orientation": "v",
         "showlegend": true,
         "type": "scatter",
         "x": [
          41344,
          21516,
          9302,
          311,
          9681,
          10866,
          195835,
          7392,
          33760,
          1336681,
          23127,
          44206,
          4487,
          11099,
          10551,
          5516,
          9824,
          80472,
          1303,
          86043,
          5355,
          64941,
          4903,
          81645,
          62349,
          10750,
          9993,
          1173109,
          243423,
          76924,
          60749,
          2848,
          127580,
          17085,
          40844,
          3089,
          114062,
          2784,
          31628,
          16574,
          4253,
          24326,
          4892,
          38617,
          10736,
          21960,
          142527,
          5427,
          2004,
          51123,
          48637,
          46506,
          9433,
          7770,
          66721,
          1229,
          74687,
          45769,
          309348,
          27866,
          27224
         ],
         "xaxis": "x",
         "y": [
          6,
          46,
          6,
          2,
          14,
          2,
          17,
          5,
          20,
          100,
          4,
          3,
          5,
          30,
          7,
          7,
          2,
          2,
          2,
          7,
          4,
          43,
          7,
          41,
          51,
          3,
          10,
          3,
          6,
          2,
          27,
          11,
          25,
          9,
          16,
          5,
          4,
          4,
          2,
          16,
          9,
          6,
          9,
          11,
          2,
          9,
          60,
          6,
          5,
          1,
          32,
          19,
          5,
          7,
          6,
          2,
          5,
          22,
          112,
          4,
          1
         ],
         "yaxis": "y"
        },
        {
         "hovertemplate": "<b>OLS trendline</b><br>Total = 4.41282e-05 * Pop + 11.2375<br>R<sup>2</sup>=0.214248<br><br>Year=2008<br>Population (in thousands)=%{x}<br>Total Olympic medals=%{y} <b>(trend)</b><extra></extra>",
         "legendgroup": "2008",
         "marker": {
          "color": "#EF553B",
          "symbol": "circle"
         },
         "mode": "lines",
         "name": "2008",
         "showlegend": false,
         "type": "scatter",
         "x": [
          311,
          1229,
          1303,
          2004,
          2784,
          2848,
          3089,
          4253,
          4487,
          4892,
          4903,
          5355,
          5427,
          5516,
          7392,
          7770,
          9302,
          9433,
          9681,
          9824,
          9993,
          10551,
          10736,
          10750,
          10866,
          11099,
          16574,
          17085,
          21516,
          21960,
          23127,
          24326,
          27224,
          27866,
          31628,
          33760,
          38617,
          40844,
          41344,
          44206,
          45769,
          46506,
          48637,
          51123,
          60749,
          62349,
          64941,
          66721,
          74687,
          76924,
          80472,
          81645,
          86043,
          114062,
          127580,
          142527,
          195835,
          243423,
          309348,
          1173109,
          1336681
         ],
         "xaxis": "x",
         "y": [
          11.251268620741486,
          11.29177833971405,
          11.295043829042992,
          11.325977721199601,
          11.360397743856028,
          11.363221950843222,
          11.373856855279374,
          11.425222119858963,
          11.435548126655892,
          11.453420061496729,
          11.453905472072652,
          11.473851433919709,
          11.477028666780303,
          11.480956079621869,
          11.563740646933992,
          11.580421119452106,
          11.648025574208061,
          11.653806372884974,
          11.66475017496035,
          11.671060512447362,
          11.678518184022922,
          11.70314173869252,
          11.711305462014876,
          11.711923257293325,
          11.717042132457614,
          11.727324011020366,
          11.968926093127974,
          11.991475620791352,
          12.187007826420357,
          12.206600762394016,
          12.25809841167613,
          12.311008164451842,
          12.438891787090718,
          12.467222113431008,
          12.633232530397002,
          12.727313925657901,
          12.941644759045417,
          13.039918336552931,
          13.061982453640384,
          13.188277459848964,
          13.25724988986434,
          13.289772398451246,
          13.383809665477969,
          13.493512455636784,
          13.918290837804426,
          13.988896012484274,
          14.10327639546563,
          14.18182465229696,
          14.533350165734259,
          14.632065025583522,
          14.788632000436086,
          14.84039441912325,
          15.034470393024485,
          16.270899386371163,
          16.867424855947537,
          17.527009572159848,
          19.879397479555713,
          21.979371887471114,
          24.88852572545176,
          63.00477340460232,
          70.22291692505996
         ],
         "yaxis": "y"
        },
        {
         "customdata": [
          [
           "Argentina",
           "2012"
          ],
          [
           "Australia",
           "2012"
          ],
          [
           "Azerbaijan",
           "2012"
          ],
          [
           "Bahamas",
           "2012"
          ],
          [
           "Belarus",
           "2012"
          ],
          [
           "Belgium",
           "2012"
          ],
          [
           "Brazil",
           "2012"
          ],
          [
           "Bulgaria",
           "2012"
          ],
          [
           "Canada",
           "2012"
          ],
          [
           "China",
           "2012"
          ],
          [
           "Chinese Taipei",
           "2012"
          ],
          [
           "Colombia",
           "2012"
          ],
          [
           "Croatia",
           "2012"
          ],
          [
           "Cuba",
           "2012"
          ],
          [
           "Czech Republic",
           "2012"
          ],
          [
           "Denmark",
           "2012"
          ],
          [
           "Dominican Republic",
           "2012"
          ],
          [
           "Egypt",
           "2012"
          ],
          [
           "Estonia",
           "2012"
          ],
          [
           "Ethiopia",
           "2012"
          ],
          [
           "Finland",
           "2012"
          ],
          [
           "France",
           "2012"
          ],
          [
           "Georgia",
           "2012"
          ],
          [
           "Germany",
           "2012"
          ],
          [
           "Great Britain",
           "2012"
          ],
          [
           "Greece",
           "2012"
          ],
          [
           "Hungary",
           "2012"
          ],
          [
           "India",
           "2012"
          ],
          [
           "Indonesia",
           "2012"
          ],
          [
           "Iran",
           "2012"
          ],
          [
           "Italy",
           "2012"
          ],
          [
           "Jamaica",
           "2012"
          ],
          [
           "Japan",
           "2012"
          ],
          [
           "Kazakhstan",
           "2012"
          ],
          [
           "Kenya",
           "2012"
          ],
          [
           "Lithuania",
           "2012"
          ],
          [
           "Mexico",
           "2012"
          ],
          [
           "Mongolia",
           "2012"
          ],
          [
           "Morocco",
           "2012"
          ],
          [
           "Netherlands",
           "2012"
          ],
          [
           "New Zealand",
           "2012"
          ],
          [
           "North Korea",
           "2012"
          ],
          [
           "Norway",
           "2012"
          ],
          [
           "Poland",
           "2012"
          ],
          [
           "Portugal",
           "2012"
          ],
          [
           "Romania",
           "2012"
          ],
          [
           "Russia",
           "2012"
          ],
          [
           "Slovakia",
           "2012"
          ],
          [
           "Slovenia",
           "2012"
          ],
          [
           "South Africa",
           "2012"
          ],
          [
           "South Korea",
           "2012"
          ],
          [
           "Spain",
           "2012"
          ],
          [
           "Sweden",
           "2012"
          ],
          [
           "Switzerland",
           "2012"
          ],
          [
           "Thailand",
           "2012"
          ],
          [
           "Trinidad and Tobago",
           "2012"
          ],
          [
           "Turkey",
           "2012"
          ],
          [
           "Ukraine",
           "2012"
          ],
          [
           "United States",
           "2012"
          ],
          [
           "Uzbekistan",
           "2012"
          ],
          [
           "Venezuela",
           "2012"
          ]
         ],
         "hovertemplate": "Year=%{customdata[1]}<br>Population (in thousands)=%{x}<br>Total Olympic medals=%{y}<br>Country=%{customdata[0]}<extra></extra>",
         "legendgroup": "2012",
         "marker": {
          "color": "#00cc96",
          "symbol": "circle"
         },
         "mode": "markers",
         "name": "2012",
         "orientation": "v",
         "showlegend": true,
         "type": "scatter",
         "x": [
          41344,
          21516,
          9302,
          311,
          9681,
          10866,
          195835,
          7392,
          33760,
          1336681,
          23127,
          44206,
          4487,
          11099,
          10551,
          5516,
          9824,
          80472,
          1303,
          86043,
          5355,
          64941,
          4903,
          81645,
          62349,
          10750,
          9993,
          1173109,
          243423,
          76924,
          60749,
          2848,
          127580,
          17085,
          40844,
          3089,
          114062,
          2784,
          31628,
          16574,
          4253,
          24326,
          4892,
          38617,
          10736,
          21960,
          142527,
          5427,
          2004,
          51123,
          48637,
          46506,
          9433,
          7770,
          66721,
          1229,
          74687,
          45769,
          309348,
          27866,
          27224
         ],
         "xaxis": "x",
         "y": [
          4,
          35,
          9,
          1,
          10,
          3,
          17,
          3,
          18,
          91,
          2,
          9,
          6,
          15,
          11,
          9,
          2,
          4,
          2,
          8,
          3,
          35,
          6,
          44,
          65,
          2,
          18,
          6,
          3,
          13,
          28,
          12,
          38,
          11,
          13,
          5,
          8,
          5,
          1,
          20,
          13,
          7,
          4,
          11,
          1,
          7,
          67,
          4,
          4,
          6,
          30,
          20,
          8,
          4,
          4,
          4,
          3,
          19,
          104,
          3,
          1
         ],
         "yaxis": "y"
        },
        {
         "hovertemplate": "<b>OLS trendline</b><br>Total = 4.14302e-05 * Pop + 11.6255<br>R<sup>2</sup>=0.203038<br><br>Year=2012<br>Population (in thousands)=%{x}<br>Total Olympic medals=%{y} <b>(trend)</b><extra></extra>",
         "legendgroup": "2012",
         "marker": {
          "color": "#00cc96",
          "symbol": "circle"
         },
         "mode": "lines",
         "name": "2012",
         "showlegend": false,
         "type": "scatter",
         "x": [
          311,
          1229,
          1303,
          2004,
          2784,
          2848,
          3089,
          4253,
          4487,
          4892,
          4903,
          5355,
          5427,
          5516,
          7392,
          7770,
          9302,
          9433,
          9681,
          9824,
          9993,
          10551,
          10736,
          10750,
          10866,
          11099,
          16574,
          17085,
          21516,
          21960,
          23127,
          24326,
          27224,
          27866,
          31628,
          33760,
          38617,
          40844,
          41344,
          44206,
          45769,
          46506,
          48637,
          51123,
          60749,
          62349,
          64941,
          66721,
          74687,
          76924,
          80472,
          81645,
          86043,
          114062,
          127580,
          142527,
          195835,
          243423,
          309348,
          1173109,
          1336681
         ],
         "xaxis": "x",
         "y": [
          11.638392208862259,
          11.676425102626993,
          11.679490935021972,
          11.708533482439268,
          11.740849013089043,
          11.743500543809024,
          11.753485214176454,
          11.801709929146117,
          11.81140458834105,
          11.828183806178433,
          11.82863953802093,
          11.847365973730799,
          11.850348945790778,
          11.854036230698252,
          11.93175922492771,
          11.9474198282426,
          12.010890844852156,
          12.016318196794618,
          12.026592878334547,
          12.032517392287005,
          12.039519090594457,
          12.062637124059295,
          12.070301705046742,
          12.070881727391738,
          12.075687626821704,
          12.085340855849136,
          12.312171022910052,
          12.333341838502404,
          12.516918910693622,
          12.535313905063493,
          12.583662910535656,
          12.63333768136781,
          12.75340230678197,
          12.780000474316784,
          12.935860764450695,
          13.024189881560078,
          13.225416205106173,
          13.317681188128029,
          13.338396271877883,
          13.456969411262055,
          13.521724763064103,
          13.55225879651139,
          13.640546483453273,
          13.743541879857554,
          14.142348672209767,
          14.208636940209304,
          14.316023934368555,
          14.389769632518039,
          14.719802346820735,
          14.812481631517587,
          14.95947586580656,
          15.008073452283721,
          15.190283328947448,
          16.35111519212184,
          16.911168196382928,
          17.530424910001102,
          19.738984279075673,
          21.710563090051902,
          24.441846882470323,
          60.227609792187856,
          67.00442515045052
         ],
         "yaxis": "y"
        },
        {
         "customdata": [
          [
           "Argentina",
           "2016"
          ],
          [
           "Australia",
           "2016"
          ],
          [
           "Azerbaijan",
           "2016"
          ],
          [
           "Bahamas",
           "2016"
          ],
          [
           "Belarus",
           "2016"
          ],
          [
           "Belgium",
           "2016"
          ],
          [
           "Brazil",
           "2016"
          ],
          [
           "Bulgaria",
           "2016"
          ],
          [
           "Canada",
           "2016"
          ],
          [
           "China",
           "2016"
          ],
          [
           "Chinese Taipei",
           "2016"
          ],
          [
           "Colombia",
           "2016"
          ],
          [
           "Croatia",
           "2016"
          ],
          [
           "Cuba",
           "2016"
          ],
          [
           "Czech Republic",
           "2016"
          ],
          [
           "Denmark",
           "2016"
          ],
          [
           "Dominican Republic",
           "2016"
          ],
          [
           "Egypt",
           "2016"
          ],
          [
           "Estonia",
           "2016"
          ],
          [
           "Ethiopia",
           "2016"
          ],
          [
           "Finland",
           "2016"
          ],
          [
           "France",
           "2016"
          ],
          [
           "Georgia",
           "2016"
          ],
          [
           "Germany",
           "2016"
          ],
          [
           "Great Britain",
           "2016"
          ],
          [
           "Greece",
           "2016"
          ],
          [
           "Hungary",
           "2016"
          ],
          [
           "India",
           "2016"
          ],
          [
           "Indonesia",
           "2016"
          ],
          [
           "Iran",
           "2016"
          ],
          [
           "Italy",
           "2016"
          ],
          [
           "Jamaica",
           "2016"
          ],
          [
           "Japan",
           "2016"
          ],
          [
           "Kazakhstan",
           "2016"
          ],
          [
           "Kenya",
           "2016"
          ],
          [
           "Lithuania",
           "2016"
          ],
          [
           "Mexico",
           "2016"
          ],
          [
           "Mongolia",
           "2016"
          ],
          [
           "Morocco",
           "2016"
          ],
          [
           "Netherlands",
           "2016"
          ],
          [
           "New Zealand",
           "2016"
          ],
          [
           "North Korea",
           "2016"
          ],
          [
           "Norway",
           "2016"
          ],
          [
           "Poland",
           "2016"
          ],
          [
           "Portugal",
           "2016"
          ],
          [
           "Romania",
           "2016"
          ],
          [
           "Russia",
           "2016"
          ],
          [
           "Slovakia",
           "2016"
          ],
          [
           "Slovenia",
           "2016"
          ],
          [
           "South Africa",
           "2016"
          ],
          [
           "South Korea",
           "2016"
          ],
          [
           "Spain",
           "2016"
          ],
          [
           "Sweden",
           "2016"
          ],
          [
           "Switzerland",
           "2016"
          ],
          [
           "Thailand",
           "2016"
          ],
          [
           "Trinidad and Tobago",
           "2016"
          ],
          [
           "Turkey",
           "2016"
          ],
          [
           "Ukraine",
           "2016"
          ],
          [
           "United States",
           "2016"
          ],
          [
           "Uzbekistan",
           "2016"
          ],
          [
           "Venezuela",
           "2016"
          ]
         ],
         "hovertemplate": "Year=%{customdata[1]}<br>Population (in thousands)=%{x}<br>Total Olympic medals=%{y}<br>Country=%{customdata[0]}<extra></extra>",
         "legendgroup": "2016",
         "marker": {
          "color": "#ab63fa",
          "symbol": "circle"
         },
         "mode": "markers",
         "name": "2016",
         "orientation": "v",
         "showlegend": true,
         "type": "scatter",
         "x": [
          43432,
          22752,
          9781,
          325,
          9590,
          11324,
          204260,
          7187,
          35100,
          1367486,
          23416,
          46737,
          4465,
          11032,
          10645,
          5582,
          10479,
          88488,
          1266,
          99466,
          5477,
          66554,
          4932,
          80855,
          64089,
          10776,
          9898,
          1251696,
          255994,
          81825,
          61856,
          2951,
          126920,
          18158,
          45926,
          2885,
          121737,
          2993,
          33323,
          16948,
          4439,
          24984,
          5208,
          38563,
          10826,
          21667,
          142424,
          5446,
          1984,
          53676,
          49116,
          48147,
          9802,
          8122,
          67977,
          1223,
          79415,
          44430,
          321369,
          29200,
          29276
         ],
         "xaxis": "x",
         "y": [
          4,
          29,
          18,
          2,
          9,
          6,
          19,
          3,
          22,
          70,
          3,
          8,
          10,
          11,
          10,
          15,
          1,
          3,
          1,
          8,
          1,
          42,
          7,
          42,
          67,
          6,
          15,
          2,
          3,
          8,
          28,
          11,
          41,
          17,
          13,
          4,
          5,
          2,
          1,
          19,
          18,
          7,
          4,
          11,
          1,
          4,
          56,
          4,
          4,
          10,
          21,
          17,
          11,
          7,
          6,
          1,
          8,
          11,
          121,
          13,
          3
         ],
         "yaxis": "y"
        },
        {
         "hovertemplate": "<b>OLS trendline</b><br>Total = 2.9886e-05 * Pop + 12.5627<br>R<sup>2</sup>=0.117064<br><br>Year=2016<br>Population (in thousands)=%{x}<br>Total Olympic medals=%{y} <b>(trend)</b><extra></extra>",
         "legendgroup": "2016",
         "marker": {
          "color": "#ab63fa",
          "symbol": "circle"
         },
         "mode": "lines",
         "name": "2016",
         "showlegend": false,
         "type": "scatter",
         "x": [
          325,
          1223,
          1266,
          1984,
          2885,
          2951,
          2993,
          4439,
          4465,
          4932,
          5208,
          5446,
          5477,
          5582,
          7187,
          8122,
          9590,
          9781,
          9802,
          9898,
          10479,
          10645,
          10776,
          10826,
          11032,
          11324,
          16948,
          18158,
          21667,
          22752,
          23416,
          24984,
          29200,
          29276,
          33323,
          35100,
          38563,
          43432,
          44430,
          45926,
          46737,
          48147,
          49116,
          53676,
          61856,
          64089,
          66554,
          67977,
          79415,
          80855,
          81825,
          88488,
          99466,
          121737,
          126920,
          142424,
          204260,
          255994,
          321369,
          1251696,
          1367486
         ],
         "xaxis": "x",
         "y": [
          12.572408804527335,
          12.59924643346254,
          12.60053153150732,
          12.621989680255068,
          12.648916967193395,
          12.650889443262129,
          12.65214465530587,
          12.695359812811777,
          12.696136848838854,
          12.7100936113252,
          12.718342147612637,
          12.725455015860497,
          12.72638148189278,
          12.729519512002131,
          12.777486543673625,
          12.805429954647362,
          12.84930260417618,
          12.855010830375093,
          12.855638436396964,
          12.85850749249694,
          12.875871259102011,
          12.880832335274889,
          12.884747401411316,
          12.886241701463387,
          12.892398217677922,
          12.90112492998202,
          13.06920379983902,
          13.10536586109915,
          13.210235838753526,
          13.242662149883477,
          13.262506454574988,
          13.309367704207949,
          13.435367084598616,
          13.437638420677764,
          13.55858706689243,
          13.611694490743051,
          13.715189712349522,
          13.860704651420242,
          13.89053088045959,
          13.935240338017568,
          13.959477884862167,
          14.001617146330583,
          14.030576681339728,
          14.166856846088647,
          14.411324334607542,
          14.478059774933055,
          14.551728767500178,
          14.594256546982134,
          14.936092626894006,
          14.979128468393665,
          15.00811788940385,
          15.207248314342896,
          15.53533683377571,
          16.20092796296939,
          16.35582710636712,
          16.819179666513445,
          18.66721042691129,
          20.213332804788607,
          22.167130122872074,
          49.97088381374218,
          53.43138387432931
         ],
         "yaxis": "y"
        }
       ],
       "layout": {
        "legend": {
         "title": {
          "text": "Year"
         },
         "tracegroupgap": 0
        },
        "template": {
         "data": {
          "bar": [
           {
            "error_x": {
             "color": "#2a3f5f"
            },
            "error_y": {
             "color": "#2a3f5f"
            },
            "marker": {
             "line": {
              "color": "#E5ECF6",
              "width": 0.5
             },
             "pattern": {
              "fillmode": "overlay",
              "size": 10,
              "solidity": 0.2
             }
            },
            "type": "bar"
           }
          ],
          "barpolar": [
           {
            "marker": {
             "line": {
              "color": "#E5ECF6",
              "width": 0.5
             },
             "pattern": {
              "fillmode": "overlay",
              "size": 10,
              "solidity": 0.2
             }
            },
            "type": "barpolar"
           }
          ],
          "carpet": [
           {
            "aaxis": {
             "endlinecolor": "#2a3f5f",
             "gridcolor": "white",
             "linecolor": "white",
             "minorgridcolor": "white",
             "startlinecolor": "#2a3f5f"
            },
            "baxis": {
             "endlinecolor": "#2a3f5f",
             "gridcolor": "white",
             "linecolor": "white",
             "minorgridcolor": "white",
             "startlinecolor": "#2a3f5f"
            },
            "type": "carpet"
           }
          ],
          "choropleth": [
           {
            "colorbar": {
             "outlinewidth": 0,
             "ticks": ""
            },
            "type": "choropleth"
           }
          ],
          "contour": [
           {
            "colorbar": {
             "outlinewidth": 0,
             "ticks": ""
            },
            "colorscale": [
             [
              0,
              "#0d0887"
             ],
             [
              0.1111111111111111,
              "#46039f"
             ],
             [
              0.2222222222222222,
              "#7201a8"
             ],
             [
              0.3333333333333333,
              "#9c179e"
             ],
             [
              0.4444444444444444,
              "#bd3786"
             ],
             [
              0.5555555555555556,
              "#d8576b"
             ],
             [
              0.6666666666666666,
              "#ed7953"
             ],
             [
              0.7777777777777778,
              "#fb9f3a"
             ],
             [
              0.8888888888888888,
              "#fdca26"
             ],
             [
              1,
              "#f0f921"
             ]
            ],
            "type": "contour"
           }
          ],
          "contourcarpet": [
           {
            "colorbar": {
             "outlinewidth": 0,
             "ticks": ""
            },
            "type": "contourcarpet"
           }
          ],
          "heatmap": [
           {
            "colorbar": {
             "outlinewidth": 0,
             "ticks": ""
            },
            "colorscale": [
             [
              0,
              "#0d0887"
             ],
             [
              0.1111111111111111,
              "#46039f"
             ],
             [
              0.2222222222222222,
              "#7201a8"
             ],
             [
              0.3333333333333333,
              "#9c179e"
             ],
             [
              0.4444444444444444,
              "#bd3786"
             ],
             [
              0.5555555555555556,
              "#d8576b"
             ],
             [
              0.6666666666666666,
              "#ed7953"
             ],
             [
              0.7777777777777778,
              "#fb9f3a"
             ],
             [
              0.8888888888888888,
              "#fdca26"
             ],
             [
              1,
              "#f0f921"
             ]
            ],
            "type": "heatmap"
           }
          ],
          "heatmapgl": [
           {
            "colorbar": {
             "outlinewidth": 0,
             "ticks": ""
            },
            "colorscale": [
             [
              0,
              "#0d0887"
             ],
             [
              0.1111111111111111,
              "#46039f"
             ],
             [
              0.2222222222222222,
              "#7201a8"
             ],
             [
              0.3333333333333333,
              "#9c179e"
             ],
             [
              0.4444444444444444,
              "#bd3786"
             ],
             [
              0.5555555555555556,
              "#d8576b"
             ],
             [
              0.6666666666666666,
              "#ed7953"
             ],
             [
              0.7777777777777778,
              "#fb9f3a"
             ],
             [
              0.8888888888888888,
              "#fdca26"
             ],
             [
              1,
              "#f0f921"
             ]
            ],
            "type": "heatmapgl"
           }
          ],
          "histogram": [
           {
            "marker": {
             "pattern": {
              "fillmode": "overlay",
              "size": 10,
              "solidity": 0.2
             }
            },
            "type": "histogram"
           }
          ],
          "histogram2d": [
           {
            "colorbar": {
             "outlinewidth": 0,
             "ticks": ""
            },
            "colorscale": [
             [
              0,
              "#0d0887"
             ],
             [
              0.1111111111111111,
              "#46039f"
             ],
             [
              0.2222222222222222,
              "#7201a8"
             ],
             [
              0.3333333333333333,
              "#9c179e"
             ],
             [
              0.4444444444444444,
              "#bd3786"
             ],
             [
              0.5555555555555556,
              "#d8576b"
             ],
             [
              0.6666666666666666,
              "#ed7953"
             ],
             [
              0.7777777777777778,
              "#fb9f3a"
             ],
             [
              0.8888888888888888,
              "#fdca26"
             ],
             [
              1,
              "#f0f921"
             ]
            ],
            "type": "histogram2d"
           }
          ],
          "histogram2dcontour": [
           {
            "colorbar": {
             "outlinewidth": 0,
             "ticks": ""
            },
            "colorscale": [
             [
              0,
              "#0d0887"
             ],
             [
              0.1111111111111111,
              "#46039f"
             ],
             [
              0.2222222222222222,
              "#7201a8"
             ],
             [
              0.3333333333333333,
              "#9c179e"
             ],
             [
              0.4444444444444444,
              "#bd3786"
             ],
             [
              0.5555555555555556,
              "#d8576b"
             ],
             [
              0.6666666666666666,
              "#ed7953"
             ],
             [
              0.7777777777777778,
              "#fb9f3a"
             ],
             [
              0.8888888888888888,
              "#fdca26"
             ],
             [
              1,
              "#f0f921"
             ]
            ],
            "type": "histogram2dcontour"
           }
          ],
          "mesh3d": [
           {
            "colorbar": {
             "outlinewidth": 0,
             "ticks": ""
            },
            "type": "mesh3d"
           }
          ],
          "parcoords": [
           {
            "line": {
             "colorbar": {
              "outlinewidth": 0,
              "ticks": ""
             }
            },
            "type": "parcoords"
           }
          ],
          "pie": [
           {
            "automargin": true,
            "type": "pie"
           }
          ],
          "scatter": [
           {
            "marker": {
             "colorbar": {
              "outlinewidth": 0,
              "ticks": ""
             }
            },
            "type": "scatter"
           }
          ],
          "scatter3d": [
           {
            "line": {
             "colorbar": {
              "outlinewidth": 0,
              "ticks": ""
             }
            },
            "marker": {
             "colorbar": {
              "outlinewidth": 0,
              "ticks": ""
             }
            },
            "type": "scatter3d"
           }
          ],
          "scattercarpet": [
           {
            "marker": {
             "colorbar": {
              "outlinewidth": 0,
              "ticks": ""
             }
            },
            "type": "scattercarpet"
           }
          ],
          "scattergeo": [
           {
            "marker": {
             "colorbar": {
              "outlinewidth": 0,
              "ticks": ""
             }
            },
            "type": "scattergeo"
           }
          ],
          "scattergl": [
           {
            "marker": {
             "colorbar": {
              "outlinewidth": 0,
              "ticks": ""
             }
            },
            "type": "scattergl"
           }
          ],
          "scattermapbox": [
           {
            "marker": {
             "colorbar": {
              "outlinewidth": 0,
              "ticks": ""
             }
            },
            "type": "scattermapbox"
           }
          ],
          "scatterpolar": [
           {
            "marker": {
             "colorbar": {
              "outlinewidth": 0,
              "ticks": ""
             }
            },
            "type": "scatterpolar"
           }
          ],
          "scatterpolargl": [
           {
            "marker": {
             "colorbar": {
              "outlinewidth": 0,
              "ticks": ""
             }
            },
            "type": "scatterpolargl"
           }
          ],
          "scatterternary": [
           {
            "marker": {
             "colorbar": {
              "outlinewidth": 0,
              "ticks": ""
             }
            },
            "type": "scatterternary"
           }
          ],
          "surface": [
           {
            "colorbar": {
             "outlinewidth": 0,
             "ticks": ""
            },
            "colorscale": [
             [
              0,
              "#0d0887"
             ],
             [
              0.1111111111111111,
              "#46039f"
             ],
             [
              0.2222222222222222,
              "#7201a8"
             ],
             [
              0.3333333333333333,
              "#9c179e"
             ],
             [
              0.4444444444444444,
              "#bd3786"
             ],
             [
              0.5555555555555556,
              "#d8576b"
             ],
             [
              0.6666666666666666,
              "#ed7953"
             ],
             [
              0.7777777777777778,
              "#fb9f3a"
             ],
             [
              0.8888888888888888,
              "#fdca26"
             ],
             [
              1,
              "#f0f921"
             ]
            ],
            "type": "surface"
           }
          ],
          "table": [
           {
            "cells": {
             "fill": {
              "color": "#EBF0F8"
             },
             "line": {
              "color": "white"
             }
            },
            "header": {
             "fill": {
              "color": "#C8D4E3"
             },
             "line": {
              "color": "white"
             }
            },
            "type": "table"
           }
          ]
         },
         "layout": {
          "annotationdefaults": {
           "arrowcolor": "#2a3f5f",
           "arrowhead": 0,
           "arrowwidth": 1
          },
          "autotypenumbers": "strict",
          "coloraxis": {
           "colorbar": {
            "outlinewidth": 0,
            "ticks": ""
           }
          },
          "colorscale": {
           "diverging": [
            [
             0,
             "#8e0152"
            ],
            [
             0.1,
             "#c51b7d"
            ],
            [
             0.2,
             "#de77ae"
            ],
            [
             0.3,
             "#f1b6da"
            ],
            [
             0.4,
             "#fde0ef"
            ],
            [
             0.5,
             "#f7f7f7"
            ],
            [
             0.6,
             "#e6f5d0"
            ],
            [
             0.7,
             "#b8e186"
            ],
            [
             0.8,
             "#7fbc41"
            ],
            [
             0.9,
             "#4d9221"
            ],
            [
             1,
             "#276419"
            ]
           ],
           "sequential": [
            [
             0,
             "#0d0887"
            ],
            [
             0.1111111111111111,
             "#46039f"
            ],
            [
             0.2222222222222222,
             "#7201a8"
            ],
            [
             0.3333333333333333,
             "#9c179e"
            ],
            [
             0.4444444444444444,
             "#bd3786"
            ],
            [
             0.5555555555555556,
             "#d8576b"
            ],
            [
             0.6666666666666666,
             "#ed7953"
            ],
            [
             0.7777777777777778,
             "#fb9f3a"
            ],
            [
             0.8888888888888888,
             "#fdca26"
            ],
            [
             1,
             "#f0f921"
            ]
           ],
           "sequentialminus": [
            [
             0,
             "#0d0887"
            ],
            [
             0.1111111111111111,
             "#46039f"
            ],
            [
             0.2222222222222222,
             "#7201a8"
            ],
            [
             0.3333333333333333,
             "#9c179e"
            ],
            [
             0.4444444444444444,
             "#bd3786"
            ],
            [
             0.5555555555555556,
             "#d8576b"
            ],
            [
             0.6666666666666666,
             "#ed7953"
            ],
            [
             0.7777777777777778,
             "#fb9f3a"
            ],
            [
             0.8888888888888888,
             "#fdca26"
            ],
            [
             1,
             "#f0f921"
            ]
           ]
          },
          "colorway": [
           "#636efa",
           "#EF553B",
           "#00cc96",
           "#ab63fa",
           "#FFA15A",
           "#19d3f3",
           "#FF6692",
           "#B6E880",
           "#FF97FF",
           "#FECB52"
          ],
          "font": {
           "color": "#2a3f5f"
          },
          "geo": {
           "bgcolor": "white",
           "lakecolor": "white",
           "landcolor": "#E5ECF6",
           "showlakes": true,
           "showland": true,
           "subunitcolor": "white"
          },
          "hoverlabel": {
           "align": "left"
          },
          "hovermode": "closest",
          "mapbox": {
           "style": "light"
          },
          "paper_bgcolor": "white",
          "plot_bgcolor": "#E5ECF6",
          "polar": {
           "angularaxis": {
            "gridcolor": "white",
            "linecolor": "white",
            "ticks": ""
           },
           "bgcolor": "#E5ECF6",
           "radialaxis": {
            "gridcolor": "white",
            "linecolor": "white",
            "ticks": ""
           }
          },
          "scene": {
           "xaxis": {
            "backgroundcolor": "#E5ECF6",
            "gridcolor": "white",
            "gridwidth": 2,
            "linecolor": "white",
            "showbackground": true,
            "ticks": "",
            "zerolinecolor": "white"
           },
           "yaxis": {
            "backgroundcolor": "#E5ECF6",
            "gridcolor": "white",
            "gridwidth": 2,
            "linecolor": "white",
            "showbackground": true,
            "ticks": "",
            "zerolinecolor": "white"
           },
           "zaxis": {
            "backgroundcolor": "#E5ECF6",
            "gridcolor": "white",
            "gridwidth": 2,
            "linecolor": "white",
            "showbackground": true,
            "ticks": "",
            "zerolinecolor": "white"
           }
          },
          "shapedefaults": {
           "line": {
            "color": "#2a3f5f"
           }
          },
          "ternary": {
           "aaxis": {
            "gridcolor": "white",
            "linecolor": "white",
            "ticks": ""
           },
           "baxis": {
            "gridcolor": "white",
            "linecolor": "white",
            "ticks": ""
           },
           "bgcolor": "#E5ECF6",
           "caxis": {
            "gridcolor": "white",
            "linecolor": "white",
            "ticks": ""
           }
          },
          "title": {
           "x": 0.05
          },
          "xaxis": {
           "automargin": true,
           "gridcolor": "white",
           "linecolor": "white",
           "ticks": "",
           "title": {
            "standoff": 15
           },
           "zerolinecolor": "white",
           "zerolinewidth": 2
          },
          "yaxis": {
           "automargin": true,
           "gridcolor": "white",
           "linecolor": "white",
           "ticks": "",
           "title": {
            "standoff": 15
           },
           "zerolinecolor": "white",
           "zerolinewidth": 2
          }
         }
        },
        "title": {
         "text": "Pop vs Total medals"
        },
        "xaxis": {
         "anchor": "y",
         "domain": [
          0,
          1
         ],
         "title": {
          "text": "Population (in thousands)"
         },
         "type": "log"
        },
        "yaxis": {
         "anchor": "x",
         "domain": [
          0,
          1
         ],
         "title": {
          "text": "Total Olympic medals"
         }
        }
       }
      }
     },
     "metadata": {},
     "output_type": "display_data"
    }
   ],
   "source": [
    "medals_plot(od, \"GDP\", \"Total\")\n",
    "medals_plot(od, \"Pop\", \"Total\")"
   ]
  },
  {
   "cell_type": "code",
   "execution_count": null,
   "metadata": {},
   "outputs": [
    {
     "data": {
      "application/vnd.plotly.v1+json": {
       "config": {
        "plotlyServerURL": "https://plot.ly"
       },
       "data": [
        {
         "customdata": [
          [
           "Argentina"
          ],
          [
           "Australia"
          ],
          [
           "Azerbaijan"
          ],
          [
           "Bahamas"
          ],
          [
           "Belarus"
          ],
          [
           "Belgium"
          ],
          [
           "Brazil"
          ],
          [
           "Bulgaria"
          ],
          [
           "Canada"
          ],
          [
           "China"
          ],
          [
           "Chinese Taipei"
          ],
          [
           "Colombia"
          ],
          [
           "Croatia"
          ],
          [
           "Cuba"
          ],
          [
           "Czech Republic"
          ],
          [
           "Denmark"
          ],
          [
           "Dominican Republic"
          ],
          [
           "Egypt"
          ],
          [
           "Estonia"
          ],
          [
           "Ethiopia"
          ],
          [
           "Finland"
          ],
          [
           "France"
          ],
          [
           "Georgia"
          ],
          [
           "Germany"
          ],
          [
           "Great Britain"
          ],
          [
           "Greece"
          ],
          [
           "Hungary"
          ],
          [
           "India"
          ],
          [
           "Indonesia"
          ],
          [
           "Iran"
          ],
          [
           "Italy"
          ],
          [
           "Jamaica"
          ],
          [
           "Japan"
          ],
          [
           "Kazakhstan"
          ],
          [
           "Kenya"
          ],
          [
           "Lithuania"
          ],
          [
           "Mexico"
          ],
          [
           "Mongolia"
          ],
          [
           "Morocco"
          ],
          [
           "Netherlands"
          ],
          [
           "New Zealand"
          ],
          [
           "North Korea"
          ],
          [
           "Norway"
          ],
          [
           "Poland"
          ],
          [
           "Portugal"
          ],
          [
           "Romania"
          ],
          [
           "Russia"
          ],
          [
           "Slovakia"
          ],
          [
           "Slovenia"
          ],
          [
           "South Africa"
          ],
          [
           "South Korea"
          ],
          [
           "Spain"
          ],
          [
           "Sweden"
          ],
          [
           "Switzerland"
          ],
          [
           "Thailand"
          ],
          [
           "Trinidad and Tobago"
          ],
          [
           "Turkey"
          ],
          [
           "Ukraine"
          ],
          [
           "United States"
          ],
          [
           "Uzbekistan"
          ],
          [
           "Venezuela"
          ]
         ],
         "hovertemplate": "Year=2004<br>Total Number of Competitors=%{x}<br>Total Number of Medals=%{y}<br>Country=%{customdata[0]}<extra></extra>",
         "legendgroup": "2004",
         "marker": {
          "color": "#636efa",
          "symbol": "circle"
         },
         "mode": "markers",
         "name": "2004",
         "orientation": "v",
         "showlegend": true,
         "type": "scatter",
         "x": [
          152,
          470,
          36,
          22,
          151,
          50,
          243,
          95,
          263,
          384,
          88,
          53,
          81,
          151,
          142,
          92,
          33,
          97,
          42,
          26,
          53,
          308,
          32,
          441,
          264,
          426,
          209,
          73,
          38,
          37,
          364,
          47,
          306,
          114,
          46,
          59,
          109,
          20,
          55,
          210,
          148,
          36,
          52,
          194,
          81,
          108,
          446,
          64,
          79,
          106,
          264,
          317,
          115,
          98,
          42,
          19,
          64,
          239,
          533,
          69,
          48
         ],
         "xaxis": "x",
         "y": [
          6,
          50,
          5,
          2,
          13,
          3,
          10,
          12,
          12,
          63,
          5,
          2,
          5,
          27,
          9,
          8,
          1,
          5,
          3,
          7,
          2,
          33,
          4,
          49,
          30,
          16,
          17,
          1,
          4,
          6,
          32,
          5,
          37,
          8,
          7,
          3,
          4,
          1,
          3,
          22,
          5,
          5,
          6,
          10,
          3,
          19,
          90,
          6,
          4,
          6,
          30,
          20,
          7,
          5,
          8,
          1,
          11,
          22,
          101,
          5,
          2
         ],
         "yaxis": "y"
        },
        {
         "hovertemplate": "<b>OLS trendline</b><br>Total = 0.128877 * Athletes + -4.30181<br>R<sup>2</sup>=0.734892<br><br>Year=2004<br>Total Number of Competitors=%{x}<br>Total Number of Medals=%{y} <b>(trend)</b><extra></extra>",
         "legendgroup": "2004",
         "marker": {
          "color": "#636efa",
          "symbol": "circle"
         },
         "mode": "lines",
         "name": "2004",
         "showlegend": false,
         "type": "scatter",
         "x": [
          19,
          20,
          22,
          26,
          32,
          33,
          36,
          36,
          37,
          38,
          42,
          42,
          46,
          47,
          48,
          50,
          52,
          53,
          53,
          55,
          59,
          64,
          64,
          69,
          73,
          79,
          81,
          81,
          88,
          92,
          95,
          97,
          98,
          106,
          108,
          109,
          114,
          115,
          142,
          148,
          151,
          151,
          152,
          194,
          209,
          210,
          239,
          243,
          263,
          264,
          264,
          306,
          308,
          317,
          364,
          384,
          426,
          441,
          446,
          470,
          533
         ],
         "xaxis": "x",
         "y": [
          -1.8531415482375757,
          -1.7242643481811712,
          -1.4665099480683628,
          -0.9510011478427449,
          -0.17773794750431904,
          -0.048860747447914576,
          0.3377708527212988,
          0.3377708527212988,
          0.4666480527777024,
          0.5955252528341068,
          1.1110340530597247,
          1.1110340530597247,
          1.6265428532853416,
          1.7554200533417461,
          1.8842972533981506,
          2.1420516535109595,
          2.3998060536237684,
          2.528683253680172,
          2.528683253680172,
          2.786437653792981,
          3.3019464540185988,
          3.94633245430062,
          3.94633245430062,
          4.5907184545826425,
          5.106227254808259,
          5.879490455146685,
          6.137244855259494,
          6.137244855259494,
          7.039385255654324,
          7.554894055879942,
          7.941525656049155,
          8.199280056161964,
          8.328157256218368,
          9.359174856669602,
          9.616929256782411,
          9.745806456838816,
          10.390192457120838,
          10.519069657177242,
          13.998754058700161,
          14.772017259038584,
          15.158648859207798,
          15.158648859207798,
          15.287526059264202,
          20.700368461633186,
          22.63352646247925,
          22.762403662535654,
          26.499842464171383,
          27.015351264396998,
          29.592895265525083,
          29.72177246558149,
          29.72177246558149,
          35.134614867950475,
          35.39236926806328,
          36.55226406857092,
          42.60949247122193,
          45.187036472350016,
          50.599878874718996,
          52.53303687556506,
          53.177422875847085,
          56.27047567720079,
          64.38973928075427
         ],
         "yaxis": "y"
        },
        {
         "customdata": [
          [
           "Argentina"
          ],
          [
           "Australia"
          ],
          [
           "Azerbaijan"
          ],
          [
           "Bahamas"
          ],
          [
           "Belarus"
          ],
          [
           "Belgium"
          ],
          [
           "Brazil"
          ],
          [
           "Bulgaria"
          ],
          [
           "Canada"
          ],
          [
           "China"
          ],
          [
           "Chinese Taipei"
          ],
          [
           "Colombia"
          ],
          [
           "Croatia"
          ],
          [
           "Cuba"
          ],
          [
           "Czech Republic"
          ],
          [
           "Denmark"
          ],
          [
           "Dominican Republic"
          ],
          [
           "Egypt"
          ],
          [
           "Estonia"
          ],
          [
           "Ethiopia"
          ],
          [
           "Finland"
          ],
          [
           "France"
          ],
          [
           "Georgia"
          ],
          [
           "Germany"
          ],
          [
           "Great Britain"
          ],
          [
           "Greece"
          ],
          [
           "Hungary"
          ],
          [
           "India"
          ],
          [
           "Indonesia"
          ],
          [
           "Iran"
          ],
          [
           "Italy"
          ],
          [
           "Jamaica"
          ],
          [
           "Japan"
          ],
          [
           "Kazakhstan"
          ],
          [
           "Kenya"
          ],
          [
           "Lithuania"
          ],
          [
           "Mexico"
          ],
          [
           "Mongolia"
          ],
          [
           "Morocco"
          ],
          [
           "Netherlands"
          ],
          [
           "New Zealand"
          ],
          [
           "North Korea"
          ],
          [
           "Norway"
          ],
          [
           "Poland"
          ],
          [
           "Portugal"
          ],
          [
           "Romania"
          ],
          [
           "Russia"
          ],
          [
           "Slovakia"
          ],
          [
           "Slovenia"
          ],
          [
           "South Africa"
          ],
          [
           "South Korea"
          ],
          [
           "Spain"
          ],
          [
           "Sweden"
          ],
          [
           "Switzerland"
          ],
          [
           "Thailand"
          ],
          [
           "Trinidad and Tobago"
          ],
          [
           "Turkey"
          ],
          [
           "Ukraine"
          ],
          [
           "United States"
          ],
          [
           "Uzbekistan"
          ],
          [
           "Venezuela"
          ]
         ],
         "hovertemplate": "Year=2008<br>Total Number of Competitors=%{x}<br>Total Number of Medals=%{y}<br>Country=%{customdata[0]}<extra></extra>",
         "legendgroup": "2008",
         "marker": {
          "color": "#EF553B",
          "symbol": "circle"
         },
         "mode": "markers",
         "name": "2008",
         "orientation": "v",
         "showlegend": true,
         "type": "scatter",
         "x": [
          137,
          433,
          44,
          25,
          181,
          96,
          277,
          72,
          332,
          639,
          80,
          64,
          99,
          149,
          134,
          84,
          25,
          103,
          47,
          22,
          58,
          323,
          35,
          463,
          311,
          156,
          171,
          57,
          24,
          55,
          344,
          50,
          351,
          132,
          56,
          71,
          85,
          29,
          57,
          245,
          182,
          63,
          85,
          268,
          77,
          102,
          467,
          57,
          62,
          136,
          267,
          286,
          134,
          84,
          51,
          30,
          68,
          254,
          588,
          58,
          109
         ],
         "xaxis": "x",
         "y": [
          6,
          46,
          6,
          2,
          14,
          2,
          17,
          5,
          20,
          100,
          4,
          3,
          5,
          30,
          7,
          7,
          2,
          2,
          2,
          7,
          4,
          43,
          7,
          41,
          51,
          3,
          10,
          3,
          6,
          2,
          27,
          11,
          25,
          9,
          16,
          5,
          4,
          4,
          2,
          16,
          9,
          6,
          9,
          11,
          2,
          9,
          60,
          6,
          5,
          1,
          32,
          19,
          5,
          7,
          6,
          2,
          5,
          22,
          112,
          4,
          1
         ],
         "yaxis": "y"
        },
        {
         "hovertemplate": "<b>OLS trendline</b><br>Total = 0.132426 * Athletes + -5.81763<br>R<sup>2</sup>=0.788082<br><br>Year=2008<br>Total Number of Competitors=%{x}<br>Total Number of Medals=%{y} <b>(trend)</b><extra></extra>",
         "legendgroup": "2008",
         "marker": {
          "color": "#EF553B",
          "symbol": "circle"
         },
         "mode": "lines",
         "name": "2008",
         "showlegend": false,
         "type": "scatter",
         "x": [
          22,
          24,
          25,
          25,
          29,
          30,
          35,
          44,
          47,
          50,
          51,
          55,
          56,
          57,
          57,
          57,
          58,
          58,
          62,
          63,
          64,
          68,
          71,
          72,
          77,
          80,
          84,
          84,
          85,
          85,
          96,
          99,
          102,
          103,
          109,
          132,
          134,
          134,
          136,
          137,
          149,
          156,
          171,
          181,
          182,
          245,
          254,
          267,
          268,
          277,
          286,
          311,
          323,
          332,
          344,
          351,
          433,
          463,
          467,
          588,
          639
         ],
         "xaxis": "x",
         "y": [
          -2.904254452701184,
          -2.63940209434596,
          -2.506975915168348,
          -2.506975915168348,
          -1.9772711984579003,
          -1.8448450192802888,
          -1.1827141233922287,
          0.009121489206277644,
          0.4064000267391137,
          0.8036785642719497,
          0.9361047434495617,
          1.465809460160009,
          1.598235639337621,
          1.730661818515233,
          1.730661818515233,
          1.730661818515233,
          1.863087997692845,
          1.863087997692845,
          2.392792714403292,
          2.525218893580904,
          2.657645072758516,
          3.187349789468964,
          3.5846283270018002,
          3.7170545061794122,
          4.3791854020674705,
          4.776463939600307,
          5.306168656310755,
          5.306168656310755,
          5.438594835488367,
          5.438594835488367,
          6.895282806442097,
          7.292561343974933,
          7.689839881507769,
          7.822266060685381,
          8.616823135751051,
          11.662625256836126,
          11.92747761519135,
          11.92747761519135,
          12.192329973546574,
          12.324756152724184,
          13.913870302855528,
          14.84085355709881,
          16.82724624476299,
          18.15150803653911,
          18.28393421571672,
          26.62678350390627,
          27.81861911650478,
          29.54015944581373,
          29.672585624991346,
          30.86442123758985,
          32.05625685018836,
          35.36691132962865,
          36.95602547976,
          38.14786109235851,
          39.73697524248985,
          40.66395849673313,
          51.522905189297305,
          55.49569056462566,
          56.02539528133612,
          72.04896296182716,
          78.80269809988536
         ],
         "yaxis": "y"
        },
        {
         "customdata": [
          [
           "Argentina"
          ],
          [
           "Australia"
          ],
          [
           "Azerbaijan"
          ],
          [
           "Bahamas"
          ],
          [
           "Belarus"
          ],
          [
           "Belgium"
          ],
          [
           "Brazil"
          ],
          [
           "Bulgaria"
          ],
          [
           "Canada"
          ],
          [
           "China"
          ],
          [
           "Chinese Taipei"
          ],
          [
           "Colombia"
          ],
          [
           "Croatia"
          ],
          [
           "Cuba"
          ],
          [
           "Czech Republic"
          ],
          [
           "Denmark"
          ],
          [
           "Dominican Republic"
          ],
          [
           "Egypt"
          ],
          [
           "Estonia"
          ],
          [
           "Ethiopia"
          ],
          [
           "Finland"
          ],
          [
           "France"
          ],
          [
           "Georgia"
          ],
          [
           "Germany"
          ],
          [
           "Great Britain"
          ],
          [
           "Greece"
          ],
          [
           "Hungary"
          ],
          [
           "India"
          ],
          [
           "Indonesia"
          ],
          [
           "Iran"
          ],
          [
           "Italy"
          ],
          [
           "Jamaica"
          ],
          [
           "Japan"
          ],
          [
           "Kazakhstan"
          ],
          [
           "Kenya"
          ],
          [
           "Lithuania"
          ],
          [
           "Mexico"
          ],
          [
           "Mongolia"
          ],
          [
           "Morocco"
          ],
          [
           "Netherlands"
          ],
          [
           "New Zealand"
          ],
          [
           "North Korea"
          ],
          [
           "Norway"
          ],
          [
           "Poland"
          ],
          [
           "Portugal"
          ],
          [
           "Romania"
          ],
          [
           "Russia"
          ],
          [
           "Slovakia"
          ],
          [
           "Slovenia"
          ],
          [
           "South Africa"
          ],
          [
           "South Korea"
          ],
          [
           "Spain"
          ],
          [
           "Sweden"
          ],
          [
           "Switzerland"
          ],
          [
           "Thailand"
          ],
          [
           "Trinidad and Tobago"
          ],
          [
           "Turkey"
          ],
          [
           "Ukraine"
          ],
          [
           "United States"
          ],
          [
           "Uzbekistan"
          ],
          [
           "Venezuela"
          ]
         ],
         "hovertemplate": "Year=2012<br>Total Number of Competitors=%{x}<br>Total Number of Medals=%{y}<br>Country=%{customdata[0]}<extra></extra>",
         "legendgroup": "2012",
         "marker": {
          "color": "#00cc96",
          "symbol": "circle"
         },
         "mode": "markers",
         "name": "2012",
         "orientation": "v",
         "showlegend": true,
         "type": "scatter",
         "x": [
          137,
          410,
          53,
          24,
          165,
          115,
          258,
          63,
          277,
          396,
          44,
          104,
          108,
          110,
          133,
          113,
          35,
          113,
          33,
          35,
          55,
          330,
          35,
          392,
          541,
          104,
          157,
          83,
          22,
          53,
          285,
          50,
          293,
          114,
          47,
          62,
          102,
          29,
          67,
          175,
          184,
          51,
          64,
          218,
          77,
          103,
          436,
          47,
          65,
          125,
          248,
          282,
          134,
          102,
          37,
          30,
          114,
          237,
          530,
          54,
          70
         ],
         "xaxis": "x",
         "y": [
          4,
          35,
          9,
          1,
          10,
          3,
          17,
          3,
          18,
          91,
          2,
          9,
          6,
          15,
          11,
          9,
          2,
          4,
          2,
          8,
          3,
          35,
          6,
          44,
          65,
          2,
          18,
          6,
          3,
          13,
          28,
          12,
          38,
          11,
          13,
          5,
          8,
          5,
          1,
          20,
          13,
          7,
          4,
          11,
          1,
          7,
          67,
          4,
          4,
          6,
          30,
          20,
          8,
          4,
          4,
          4,
          3,
          19,
          104,
          3,
          1
         ],
         "yaxis": "y"
        },
        {
         "hovertemplate": "<b>OLS trendline</b><br>Total = 0.142201 * Athletes + -5.75175<br>R<sup>2</sup>=0.780191<br><br>Year=2012<br>Total Number of Competitors=%{x}<br>Total Number of Medals=%{y} <b>(trend)</b><extra></extra>",
         "legendgroup": "2012",
         "marker": {
          "color": "#00cc96",
          "symbol": "circle"
         },
         "mode": "lines",
         "name": "2012",
         "showlegend": false,
         "type": "scatter",
         "x": [
          22,
          24,
          29,
          30,
          33,
          35,
          35,
          35,
          37,
          44,
          47,
          47,
          50,
          51,
          53,
          53,
          54,
          55,
          62,
          63,
          64,
          65,
          67,
          70,
          77,
          83,
          102,
          102,
          103,
          104,
          104,
          108,
          110,
          113,
          113,
          114,
          114,
          115,
          125,
          133,
          134,
          137,
          157,
          165,
          175,
          184,
          218,
          237,
          248,
          258,
          277,
          282,
          285,
          293,
          330,
          392,
          396,
          410,
          436,
          530,
          541
         ],
         "xaxis": "x",
         "y": [
          -2.6233262768719716,
          -2.3389238248716575,
          -1.6279176948708738,
          -1.4857164688707165,
          -1.0591127908702456,
          -0.7747103388699319,
          -0.7747103388699319,
          -0.7747103388699319,
          -0.49030788686961824,
          0.5051006951314791,
          0.9317043731319501,
          0.9317043731319501,
          1.358308051132421,
          1.5005092771325774,
          1.784911729132891,
          1.784911729132891,
          1.9271129551330484,
          2.0693141811332048,
          3.064722763134302,
          3.2069239891344594,
          3.3491252151346167,
          3.491326441134774,
          3.7757288931350868,
          4.202332571135559,
          5.197741153136656,
          6.050948509137598,
          8.752771803140577,
          8.752771803140577,
          8.894973029140735,
          9.037174255140892,
          9.037174255140892,
          9.60597915914152,
          9.890381611141832,
          10.316985289142304,
          10.316985289142304,
          10.459186515142461,
          10.459186515142461,
          10.601387741142618,
          12.023400001144184,
          13.161009809145439,
          13.303211035145596,
          13.729814713146068,
          16.573839233149208,
          17.71144904115046,
          19.133461301152025,
          20.413272335153437,
          25.24811401915877,
          27.949937313161755,
          29.514150799163474,
          30.936163059165047,
          33.637986353168024,
          34.34899248316881,
          34.77559616116928,
          35.913205969170534,
          41.17465133117634,
          49.991127343186065,
          50.559932247186694,
          52.55074941118889,
          56.247981287192964,
          69.61489653120772,
          71.17911001720944
         ],
         "yaxis": "y"
        },
        {
         "customdata": [
          [
           "Argentina"
          ],
          [
           "Australia"
          ],
          [
           "Azerbaijan"
          ],
          [
           "Bahamas"
          ],
          [
           "Belarus"
          ],
          [
           "Belgium"
          ],
          [
           "Brazil"
          ],
          [
           "Bulgaria"
          ],
          [
           "Canada"
          ],
          [
           "China"
          ],
          [
           "Chinese Taipei"
          ],
          [
           "Colombia"
          ],
          [
           "Croatia"
          ],
          [
           "Cuba"
          ],
          [
           "Czech Republic"
          ],
          [
           "Denmark"
          ],
          [
           "Dominican Republic"
          ],
          [
           "Egypt"
          ],
          [
           "Estonia"
          ],
          [
           "Ethiopia"
          ],
          [
           "Finland"
          ],
          [
           "France"
          ],
          [
           "Georgia"
          ],
          [
           "Germany"
          ],
          [
           "Great Britain"
          ],
          [
           "Greece"
          ],
          [
           "Hungary"
          ],
          [
           "India"
          ],
          [
           "Indonesia"
          ],
          [
           "Iran"
          ],
          [
           "Italy"
          ],
          [
           "Jamaica"
          ],
          [
           "Japan"
          ],
          [
           "Kazakhstan"
          ],
          [
           "Kenya"
          ],
          [
           "Lithuania"
          ],
          [
           "Mexico"
          ],
          [
           "Mongolia"
          ],
          [
           "Morocco"
          ],
          [
           "Netherlands"
          ],
          [
           "New Zealand"
          ],
          [
           "North Korea"
          ],
          [
           "Norway"
          ],
          [
           "Poland"
          ],
          [
           "Portugal"
          ],
          [
           "Romania"
          ],
          [
           "Russia"
          ],
          [
           "Slovakia"
          ],
          [
           "Slovenia"
          ],
          [
           "South Africa"
          ],
          [
           "South Korea"
          ],
          [
           "Spain"
          ],
          [
           "Sweden"
          ],
          [
           "Switzerland"
          ],
          [
           "Thailand"
          ],
          [
           "Trinidad and Tobago"
          ],
          [
           "Turkey"
          ],
          [
           "Ukraine"
          ],
          [
           "United States"
          ],
          [
           "Uzbekistan"
          ],
          [
           "Venezuela"
          ]
         ],
         "hovertemplate": "Year=2016<br>Total Number of Competitors=%{x}<br>Total Number of Medals=%{y}<br>Country=%{customdata[0]}<extra></extra>",
         "legendgroup": "2016",
         "marker": {
          "color": "#ab63fa",
          "symbol": "circle"
         },
         "mode": "markers",
         "name": "2016",
         "orientation": "v",
         "showlegend": true,
         "type": "scatter",
         "x": [
          213,
          421,
          56,
          28,
          121,
          108,
          465,
          51,
          314,
          413,
          60,
          147,
          87,
          120,
          105,
          122,
          29,
          120,
          45,
          34,
          56,
          399,
          39,
          425,
          366,
          95,
          160,
          117,
          28,
          64,
          314,
          68,
          338,
          104,
          89,
          67,
          125,
          43,
          51,
          242,
          199,
          35,
          62,
          243,
          92,
          97,
          282,
          51,
          61,
          137,
          205,
          306,
          152,
          104,
          54,
          32,
          103,
          203,
          554,
          70,
          87
         ],
         "xaxis": "x",
         "y": [
          4,
          29,
          18,
          2,
          9,
          6,
          19,
          3,
          22,
          70,
          3,
          8,
          10,
          11,
          10,
          15,
          1,
          3,
          1,
          8,
          1,
          42,
          7,
          42,
          67,
          6,
          15,
          2,
          3,
          8,
          28,
          11,
          41,
          17,
          13,
          4,
          5,
          2,
          1,
          19,
          18,
          7,
          4,
          11,
          1,
          4,
          56,
          4,
          4,
          10,
          21,
          17,
          11,
          7,
          6,
          1,
          8,
          11,
          121,
          13,
          3
         ],
         "yaxis": "y"
        },
        {
         "hovertemplate": "<b>OLS trendline</b><br>Total = 0.127726 * Athletes + -4.48874<br>R<sup>2</sup>=0.651686<br><br>Year=2016<br>Total Number of Competitors=%{x}<br>Total Number of Medals=%{y} <b>(trend)</b><extra></extra>",
         "legendgroup": "2016",
         "marker": {
          "color": "#ab63fa",
          "symbol": "circle"
         },
         "mode": "lines",
         "name": "2016",
         "showlegend": false,
         "type": "scatter",
         "x": [
          28,
          28,
          29,
          32,
          34,
          35,
          39,
          43,
          45,
          51,
          51,
          51,
          54,
          56,
          56,
          60,
          61,
          62,
          64,
          67,
          68,
          70,
          87,
          87,
          89,
          92,
          95,
          97,
          103,
          104,
          104,
          105,
          108,
          117,
          120,
          120,
          121,
          122,
          125,
          137,
          147,
          152,
          160,
          199,
          203,
          205,
          213,
          242,
          243,
          282,
          306,
          314,
          314,
          338,
          366,
          399,
          413,
          421,
          425,
          465,
          554
         ],
         "xaxis": "x",
         "y": [
          -0.9124177410011876,
          -0.9124177410011876,
          -0.7846918632696265,
          -0.4015142300749437,
          -0.14606247461182154,
          -0.01833659688026046,
          0.49256691404598296,
          1.0034704249722273,
          1.2589221804353485,
          2.025277446824715,
          2.025277446824715,
          2.025277446824715,
          2.4084550800193973,
          2.6639068354825195,
          2.6639068354825195,
          3.174810346408763,
          3.302536224140324,
          3.430262101871885,
          3.6857138573350072,
          4.06889149052969,
          4.1966173682612515,
          4.452069123724374,
          6.623409045160909,
          6.623409045160909,
          6.8788608006240315,
          7.262038433818714,
          7.645216067013398,
          7.900667822476518,
          8.667023088865886,
          8.794748966597446,
          8.794748966597446,
          8.922474844329006,
          9.30565247752369,
          10.455185377107739,
          10.83836301030242,
          10.83836301030242,
          10.966088888033983,
          11.093814765765543,
          11.476992398960228,
          13.009702931738957,
          14.286961709054566,
          14.92559109771237,
          15.947398119564859,
          20.92870735109574,
          21.43961086202198,
          21.695062617485103,
          22.71686963933759,
          26.42092009355286,
          26.54864597128442,
          31.529955202815298,
          34.59537626837276,
          35.61718329022525,
          35.61718329022525,
          38.682604355782715,
          42.25892893226642,
          46.47388289740793,
          48.26204518564979,
          49.28385220750228,
          49.79475571842852,
          54.903790827690955,
          66.27139394579989
         ],
         "yaxis": "y"
        }
       ],
       "layout": {
        "legend": {
         "title": {
          "text": "Year"
         },
         "tracegroupgap": 0
        },
        "template": {
         "data": {
          "bar": [
           {
            "error_x": {
             "color": "#2a3f5f"
            },
            "error_y": {
             "color": "#2a3f5f"
            },
            "marker": {
             "line": {
              "color": "#E5ECF6",
              "width": 0.5
             },
             "pattern": {
              "fillmode": "overlay",
              "size": 10,
              "solidity": 0.2
             }
            },
            "type": "bar"
           }
          ],
          "barpolar": [
           {
            "marker": {
             "line": {
              "color": "#E5ECF6",
              "width": 0.5
             },
             "pattern": {
              "fillmode": "overlay",
              "size": 10,
              "solidity": 0.2
             }
            },
            "type": "barpolar"
           }
          ],
          "carpet": [
           {
            "aaxis": {
             "endlinecolor": "#2a3f5f",
             "gridcolor": "white",
             "linecolor": "white",
             "minorgridcolor": "white",
             "startlinecolor": "#2a3f5f"
            },
            "baxis": {
             "endlinecolor": "#2a3f5f",
             "gridcolor": "white",
             "linecolor": "white",
             "minorgridcolor": "white",
             "startlinecolor": "#2a3f5f"
            },
            "type": "carpet"
           }
          ],
          "choropleth": [
           {
            "colorbar": {
             "outlinewidth": 0,
             "ticks": ""
            },
            "type": "choropleth"
           }
          ],
          "contour": [
           {
            "colorbar": {
             "outlinewidth": 0,
             "ticks": ""
            },
            "colorscale": [
             [
              0,
              "#0d0887"
             ],
             [
              0.1111111111111111,
              "#46039f"
             ],
             [
              0.2222222222222222,
              "#7201a8"
             ],
             [
              0.3333333333333333,
              "#9c179e"
             ],
             [
              0.4444444444444444,
              "#bd3786"
             ],
             [
              0.5555555555555556,
              "#d8576b"
             ],
             [
              0.6666666666666666,
              "#ed7953"
             ],
             [
              0.7777777777777778,
              "#fb9f3a"
             ],
             [
              0.8888888888888888,
              "#fdca26"
             ],
             [
              1,
              "#f0f921"
             ]
            ],
            "type": "contour"
           }
          ],
          "contourcarpet": [
           {
            "colorbar": {
             "outlinewidth": 0,
             "ticks": ""
            },
            "type": "contourcarpet"
           }
          ],
          "heatmap": [
           {
            "colorbar": {
             "outlinewidth": 0,
             "ticks": ""
            },
            "colorscale": [
             [
              0,
              "#0d0887"
             ],
             [
              0.1111111111111111,
              "#46039f"
             ],
             [
              0.2222222222222222,
              "#7201a8"
             ],
             [
              0.3333333333333333,
              "#9c179e"
             ],
             [
              0.4444444444444444,
              "#bd3786"
             ],
             [
              0.5555555555555556,
              "#d8576b"
             ],
             [
              0.6666666666666666,
              "#ed7953"
             ],
             [
              0.7777777777777778,
              "#fb9f3a"
             ],
             [
              0.8888888888888888,
              "#fdca26"
             ],
             [
              1,
              "#f0f921"
             ]
            ],
            "type": "heatmap"
           }
          ],
          "heatmapgl": [
           {
            "colorbar": {
             "outlinewidth": 0,
             "ticks": ""
            },
            "colorscale": [
             [
              0,
              "#0d0887"
             ],
             [
              0.1111111111111111,
              "#46039f"
             ],
             [
              0.2222222222222222,
              "#7201a8"
             ],
             [
              0.3333333333333333,
              "#9c179e"
             ],
             [
              0.4444444444444444,
              "#bd3786"
             ],
             [
              0.5555555555555556,
              "#d8576b"
             ],
             [
              0.6666666666666666,
              "#ed7953"
             ],
             [
              0.7777777777777778,
              "#fb9f3a"
             ],
             [
              0.8888888888888888,
              "#fdca26"
             ],
             [
              1,
              "#f0f921"
             ]
            ],
            "type": "heatmapgl"
           }
          ],
          "histogram": [
           {
            "marker": {
             "pattern": {
              "fillmode": "overlay",
              "size": 10,
              "solidity": 0.2
             }
            },
            "type": "histogram"
           }
          ],
          "histogram2d": [
           {
            "colorbar": {
             "outlinewidth": 0,
             "ticks": ""
            },
            "colorscale": [
             [
              0,
              "#0d0887"
             ],
             [
              0.1111111111111111,
              "#46039f"
             ],
             [
              0.2222222222222222,
              "#7201a8"
             ],
             [
              0.3333333333333333,
              "#9c179e"
             ],
             [
              0.4444444444444444,
              "#bd3786"
             ],
             [
              0.5555555555555556,
              "#d8576b"
             ],
             [
              0.6666666666666666,
              "#ed7953"
             ],
             [
              0.7777777777777778,
              "#fb9f3a"
             ],
             [
              0.8888888888888888,
              "#fdca26"
             ],
             [
              1,
              "#f0f921"
             ]
            ],
            "type": "histogram2d"
           }
          ],
          "histogram2dcontour": [
           {
            "colorbar": {
             "outlinewidth": 0,
             "ticks": ""
            },
            "colorscale": [
             [
              0,
              "#0d0887"
             ],
             [
              0.1111111111111111,
              "#46039f"
             ],
             [
              0.2222222222222222,
              "#7201a8"
             ],
             [
              0.3333333333333333,
              "#9c179e"
             ],
             [
              0.4444444444444444,
              "#bd3786"
             ],
             [
              0.5555555555555556,
              "#d8576b"
             ],
             [
              0.6666666666666666,
              "#ed7953"
             ],
             [
              0.7777777777777778,
              "#fb9f3a"
             ],
             [
              0.8888888888888888,
              "#fdca26"
             ],
             [
              1,
              "#f0f921"
             ]
            ],
            "type": "histogram2dcontour"
           }
          ],
          "mesh3d": [
           {
            "colorbar": {
             "outlinewidth": 0,
             "ticks": ""
            },
            "type": "mesh3d"
           }
          ],
          "parcoords": [
           {
            "line": {
             "colorbar": {
              "outlinewidth": 0,
              "ticks": ""
             }
            },
            "type": "parcoords"
           }
          ],
          "pie": [
           {
            "automargin": true,
            "type": "pie"
           }
          ],
          "scatter": [
           {
            "marker": {
             "colorbar": {
              "outlinewidth": 0,
              "ticks": ""
             }
            },
            "type": "scatter"
           }
          ],
          "scatter3d": [
           {
            "line": {
             "colorbar": {
              "outlinewidth": 0,
              "ticks": ""
             }
            },
            "marker": {
             "colorbar": {
              "outlinewidth": 0,
              "ticks": ""
             }
            },
            "type": "scatter3d"
           }
          ],
          "scattercarpet": [
           {
            "marker": {
             "colorbar": {
              "outlinewidth": 0,
              "ticks": ""
             }
            },
            "type": "scattercarpet"
           }
          ],
          "scattergeo": [
           {
            "marker": {
             "colorbar": {
              "outlinewidth": 0,
              "ticks": ""
             }
            },
            "type": "scattergeo"
           }
          ],
          "scattergl": [
           {
            "marker": {
             "colorbar": {
              "outlinewidth": 0,
              "ticks": ""
             }
            },
            "type": "scattergl"
           }
          ],
          "scattermapbox": [
           {
            "marker": {
             "colorbar": {
              "outlinewidth": 0,
              "ticks": ""
             }
            },
            "type": "scattermapbox"
           }
          ],
          "scatterpolar": [
           {
            "marker": {
             "colorbar": {
              "outlinewidth": 0,
              "ticks": ""
             }
            },
            "type": "scatterpolar"
           }
          ],
          "scatterpolargl": [
           {
            "marker": {
             "colorbar": {
              "outlinewidth": 0,
              "ticks": ""
             }
            },
            "type": "scatterpolargl"
           }
          ],
          "scatterternary": [
           {
            "marker": {
             "colorbar": {
              "outlinewidth": 0,
              "ticks": ""
             }
            },
            "type": "scatterternary"
           }
          ],
          "surface": [
           {
            "colorbar": {
             "outlinewidth": 0,
             "ticks": ""
            },
            "colorscale": [
             [
              0,
              "#0d0887"
             ],
             [
              0.1111111111111111,
              "#46039f"
             ],
             [
              0.2222222222222222,
              "#7201a8"
             ],
             [
              0.3333333333333333,
              "#9c179e"
             ],
             [
              0.4444444444444444,
              "#bd3786"
             ],
             [
              0.5555555555555556,
              "#d8576b"
             ],
             [
              0.6666666666666666,
              "#ed7953"
             ],
             [
              0.7777777777777778,
              "#fb9f3a"
             ],
             [
              0.8888888888888888,
              "#fdca26"
             ],
             [
              1,
              "#f0f921"
             ]
            ],
            "type": "surface"
           }
          ],
          "table": [
           {
            "cells": {
             "fill": {
              "color": "#EBF0F8"
             },
             "line": {
              "color": "white"
             }
            },
            "header": {
             "fill": {
              "color": "#C8D4E3"
             },
             "line": {
              "color": "white"
             }
            },
            "type": "table"
           }
          ]
         },
         "layout": {
          "annotationdefaults": {
           "arrowcolor": "#2a3f5f",
           "arrowhead": 0,
           "arrowwidth": 1
          },
          "autotypenumbers": "strict",
          "coloraxis": {
           "colorbar": {
            "outlinewidth": 0,
            "ticks": ""
           }
          },
          "colorscale": {
           "diverging": [
            [
             0,
             "#8e0152"
            ],
            [
             0.1,
             "#c51b7d"
            ],
            [
             0.2,
             "#de77ae"
            ],
            [
             0.3,
             "#f1b6da"
            ],
            [
             0.4,
             "#fde0ef"
            ],
            [
             0.5,
             "#f7f7f7"
            ],
            [
             0.6,
             "#e6f5d0"
            ],
            [
             0.7,
             "#b8e186"
            ],
            [
             0.8,
             "#7fbc41"
            ],
            [
             0.9,
             "#4d9221"
            ],
            [
             1,
             "#276419"
            ]
           ],
           "sequential": [
            [
             0,
             "#0d0887"
            ],
            [
             0.1111111111111111,
             "#46039f"
            ],
            [
             0.2222222222222222,
             "#7201a8"
            ],
            [
             0.3333333333333333,
             "#9c179e"
            ],
            [
             0.4444444444444444,
             "#bd3786"
            ],
            [
             0.5555555555555556,
             "#d8576b"
            ],
            [
             0.6666666666666666,
             "#ed7953"
            ],
            [
             0.7777777777777778,
             "#fb9f3a"
            ],
            [
             0.8888888888888888,
             "#fdca26"
            ],
            [
             1,
             "#f0f921"
            ]
           ],
           "sequentialminus": [
            [
             0,
             "#0d0887"
            ],
            [
             0.1111111111111111,
             "#46039f"
            ],
            [
             0.2222222222222222,
             "#7201a8"
            ],
            [
             0.3333333333333333,
             "#9c179e"
            ],
            [
             0.4444444444444444,
             "#bd3786"
            ],
            [
             0.5555555555555556,
             "#d8576b"
            ],
            [
             0.6666666666666666,
             "#ed7953"
            ],
            [
             0.7777777777777778,
             "#fb9f3a"
            ],
            [
             0.8888888888888888,
             "#fdca26"
            ],
            [
             1,
             "#f0f921"
            ]
           ]
          },
          "colorway": [
           "#636efa",
           "#EF553B",
           "#00cc96",
           "#ab63fa",
           "#FFA15A",
           "#19d3f3",
           "#FF6692",
           "#B6E880",
           "#FF97FF",
           "#FECB52"
          ],
          "font": {
           "color": "#2a3f5f"
          },
          "geo": {
           "bgcolor": "white",
           "lakecolor": "white",
           "landcolor": "#E5ECF6",
           "showlakes": true,
           "showland": true,
           "subunitcolor": "white"
          },
          "hoverlabel": {
           "align": "left"
          },
          "hovermode": "closest",
          "mapbox": {
           "style": "light"
          },
          "paper_bgcolor": "white",
          "plot_bgcolor": "#E5ECF6",
          "polar": {
           "angularaxis": {
            "gridcolor": "white",
            "linecolor": "white",
            "ticks": ""
           },
           "bgcolor": "#E5ECF6",
           "radialaxis": {
            "gridcolor": "white",
            "linecolor": "white",
            "ticks": ""
           }
          },
          "scene": {
           "xaxis": {
            "backgroundcolor": "#E5ECF6",
            "gridcolor": "white",
            "gridwidth": 2,
            "linecolor": "white",
            "showbackground": true,
            "ticks": "",
            "zerolinecolor": "white"
           },
           "yaxis": {
            "backgroundcolor": "#E5ECF6",
            "gridcolor": "white",
            "gridwidth": 2,
            "linecolor": "white",
            "showbackground": true,
            "ticks": "",
            "zerolinecolor": "white"
           },
           "zaxis": {
            "backgroundcolor": "#E5ECF6",
            "gridcolor": "white",
            "gridwidth": 2,
            "linecolor": "white",
            "showbackground": true,
            "ticks": "",
            "zerolinecolor": "white"
           }
          },
          "shapedefaults": {
           "line": {
            "color": "#2a3f5f"
           }
          },
          "ternary": {
           "aaxis": {
            "gridcolor": "white",
            "linecolor": "white",
            "ticks": ""
           },
           "baxis": {
            "gridcolor": "white",
            "linecolor": "white",
            "ticks": ""
           },
           "bgcolor": "#E5ECF6",
           "caxis": {
            "gridcolor": "white",
            "linecolor": "white",
            "ticks": ""
           }
          },
          "title": {
           "x": 0.05
          },
          "xaxis": {
           "automargin": true,
           "gridcolor": "white",
           "linecolor": "white",
           "ticks": "",
           "title": {
            "standoff": 15
           },
           "zerolinecolor": "white",
           "zerolinewidth": 2
          },
          "yaxis": {
           "automargin": true,
           "gridcolor": "white",
           "linecolor": "white",
           "ticks": "",
           "title": {
            "standoff": 15
           },
           "zerolinecolor": "white",
           "zerolinewidth": 2
          }
         }
        },
        "title": {
         "text": "Number of Competitors vs Number of Athletes"
        },
        "xaxis": {
         "anchor": "y",
         "domain": [
          0,
          1
         ],
         "title": {
          "text": "Total Number of Competitors"
         },
         "type": "log"
        },
        "yaxis": {
         "anchor": "x",
         "domain": [
          0,
          1
         ],
         "title": {
          "text": "Total Number of Medals"
         }
        }
       }
      }
     },
     "metadata": {},
     "output_type": "display_data"
    }
   ],
   "source": [
    "fig = px.scatter(\n",
    "                 od,\n",
    "                 x = od[\"Athletes\"],\n",
    "                 y = od[\"Total\"],\n",
    "                 trendline=\"ols\",\n",
    "                 labels={\"Athletes\" :\"Total Number of Competitors\",\n",
    "                 \"Total\" : \"Total Number of Medals\"},\n",
    "                 title=f\"Number of Competitors vs Number of Athletes\",\n",
    "                 hover_data=[\"Country\"],\n",
    "                 log_x=True,\n",
    "                 facet_col= \"Year\",\n",
    "                 color = \"Year\"\n",
    "                )\n",
    "fig.show()"
   ]
  },
  {
   "cell_type": "code",
   "execution_count": null,
   "metadata": {},
   "outputs": [
    {
     "data": {
      "application/vnd.plotly.v1+json": {
       "config": {
        "plotlyServerURL": "https://plot.ly"
       },
       "data": [
        {
         "customdata": [
          [
           "Argentina"
          ],
          [
           "Australia"
          ],
          [
           "Azerbaijan"
          ],
          [
           "Bahamas"
          ],
          [
           "Belarus"
          ],
          [
           "Belgium"
          ],
          [
           "Brazil"
          ],
          [
           "Bulgaria"
          ],
          [
           "Canada"
          ],
          [
           "China"
          ],
          [
           "Chinese Taipei"
          ],
          [
           "Colombia"
          ],
          [
           "Croatia"
          ],
          [
           "Cuba"
          ],
          [
           "Czech Republic"
          ],
          [
           "Denmark"
          ],
          [
           "Dominican Republic"
          ],
          [
           "Egypt"
          ],
          [
           "Estonia"
          ],
          [
           "Ethiopia"
          ],
          [
           "Finland"
          ],
          [
           "France"
          ],
          [
           "Georgia"
          ],
          [
           "Germany"
          ],
          [
           "Great Britain"
          ],
          [
           "Greece"
          ],
          [
           "Hungary"
          ],
          [
           "India"
          ],
          [
           "Indonesia"
          ],
          [
           "Iran"
          ],
          [
           "Italy"
          ],
          [
           "Jamaica"
          ],
          [
           "Japan"
          ],
          [
           "Kazakhstan"
          ],
          [
           "Kenya"
          ],
          [
           "Lithuania"
          ],
          [
           "Mexico"
          ],
          [
           "Mongolia"
          ],
          [
           "Morocco"
          ],
          [
           "Netherlands"
          ],
          [
           "New Zealand"
          ],
          [
           "North Korea"
          ],
          [
           "Norway"
          ],
          [
           "Poland"
          ],
          [
           "Portugal"
          ],
          [
           "Romania"
          ],
          [
           "Russia"
          ],
          [
           "Slovakia"
          ],
          [
           "Slovenia"
          ],
          [
           "South Africa"
          ],
          [
           "South Korea"
          ],
          [
           "Spain"
          ],
          [
           "Sweden"
          ],
          [
           "Switzerland"
          ],
          [
           "Thailand"
          ],
          [
           "Trinidad and Tobago"
          ],
          [
           "Turkey"
          ],
          [
           "Ukraine"
          ],
          [
           "United States"
          ],
          [
           "Uzbekistan"
          ],
          [
           "Venezuela"
          ]
         ],
         "hovertemplate": "Year=2004<br>GDP=%{x}<br>Success Rate=%{y}<br>Country=%{customdata[0]}<extra></extra>",
         "legendgroup": "2004",
         "marker": {
          "color": "#636efa",
          "symbol": "circle"
         },
         "mode": "markers",
         "name": "2004",
         "orientation": "v",
         "showlegend": true,
         "type": "scatter",
         "x": [
          12303,
          34390,
          5220,
          29379,
          8463,
          33545,
          10514,
          9965,
          34390,
          4381,
          26562,
          7990,
          16203,
          3399,
          21045,
          37792,
          7608,
          7484,
          17965,
          571,
          33076,
          32255,
          4539,
          32645,
          31688,
          25345,
          18544,
          2474,
          5859,
          13190,
          32577,
          7488,
          30836,
          12381,
          2191,
          14644,
          13878,
          5083,
          4663,
          37263,
          26745,
          473,
          53167,
          14358,
          22832,
          11808,
          14728,
          16258,
          22385,
          10058,
          21872,
          27856,
          34868,
          45660,
          9611,
          21910,
          13045,
          6536,
          41642,
          3374,
          12194
         ],
         "xaxis": "x",
         "y": [
          0.039473684210526314,
          0.10638297872340426,
          0.1388888888888889,
          0.09090909090909091,
          0.08609271523178808,
          0.06,
          0.0411522633744856,
          0.12631578947368421,
          0.045627376425855515,
          0.1640625,
          0.056818181818181816,
          0.03773584905660377,
          0.06172839506172839,
          0.17880794701986755,
          0.06338028169014084,
          0.08695652173913043,
          0.030303030303030304,
          0.05154639175257732,
          0.07142857142857142,
          0.2692307692307692,
          0.03773584905660377,
          0.10714285714285714,
          0.125,
          0.1111111111111111,
          0.11363636363636363,
          0.03755868544600939,
          0.08133971291866028,
          0.0136986301369863,
          0.10526315789473684,
          0.16216216216216217,
          0.08791208791208792,
          0.10638297872340426,
          0.12091503267973856,
          0.07017543859649122,
          0.15217391304347827,
          0.05084745762711865,
          0.03669724770642202,
          0.05,
          0.05454545454545454,
          0.10476190476190476,
          0.033783783783783786,
          0.1388888888888889,
          0.11538461538461539,
          0.05154639175257732,
          0.037037037037037035,
          0.17592592592592593,
          0.20179372197309417,
          0.09375,
          0.05063291139240506,
          0.05660377358490566,
          0.11363636363636363,
          0.06309148264984227,
          0.06086956521739131,
          0.05102040816326531,
          0.19047619047619047,
          0.05263157894736842,
          0.171875,
          0.09205020920502092,
          0.1894934333958724,
          0.07246376811594203,
          0.041666666666666664
         ],
         "yaxis": "y"
        },
        {
         "hovertemplate": "<b>OLS trendline</b><br>Success Rate = -6.38942e-07 * GDP + 0.103392<br>R<sup>2</sup>=0.023874<br><br>Year=2004<br>GDP=%{x}<br>Success Rate=%{y} <b>(trend)</b><extra></extra>",
         "legendgroup": "2004",
         "marker": {
          "color": "#636efa",
          "symbol": "circle"
         },
         "mode": "lines",
         "name": "2004",
         "showlegend": false,
         "type": "scatter",
         "x": [
          473,
          571,
          2191,
          2474,
          3374,
          3399,
          4381,
          4539,
          4663,
          5083,
          5220,
          5859,
          6536,
          7484,
          7488,
          7608,
          7990,
          8463,
          9611,
          9965,
          10058,
          10514,
          11808,
          12194,
          12303,
          12381,
          13045,
          13190,
          13878,
          14358,
          14644,
          14728,
          16203,
          16258,
          17965,
          18544,
          21045,
          21872,
          21910,
          22385,
          22832,
          25345,
          26562,
          26745,
          27856,
          29379,
          30836,
          31688,
          32255,
          32577,
          32645,
          33076,
          33545,
          34390,
          34390,
          34868,
          37263,
          37792,
          41642,
          45660,
          53167
         ],
         "xaxis": "x",
         "y": [
          0.10308933181467629,
          0.10302671546975774,
          0.10199162895171647,
          0.10181080828220679,
          0.10123576021662829,
          0.10121978665925112,
          0.10059234532547548,
          0.1004913924428517,
          0.10041216359826088,
          0.10014380783432426,
          0.10005627273989731,
          0.0996479886133366,
          0.09921542467956256,
          0.09860970738381988,
          0.09860715161463954,
          0.09853047853922907,
          0.09828640258250575,
          0.0979841828769295,
          0.0972506771221694,
          0.09702449154970852,
          0.09696506991626541,
          0.09667371222970564,
          0.0958469208998628,
          0.09560028917395913,
          0.09553064446379463,
          0.09548080696477783,
          0.09505654928083992,
          0.09496390264805228,
          0.09452431034903228,
          0.09421761804739043,
          0.09403488055099549,
          0.09398120939820816,
          0.09303876951295452,
          0.09300362768672472,
          0.09191295318901087,
          0.09154300560015538,
          0.08994501092014227,
          0.08941660564210516,
          0.08939232583489183,
          0.08908882824472542,
          0.08880322103882143,
          0.08719755905126728,
          0.08641996627814615,
          0.08630303983814519,
          0.0855931749483033,
          0.08462006583288549,
          0.08368912690894342,
          0.08314474807352913,
          0.08278246779221468,
          0.0825767283731966,
          0.08253328029713067,
          0.08225789616794808,
          0.08195823223155219,
          0.0814183259922035,
          0.0814183259922035,
          0.08111291157515181,
          0.07958264477841795,
          0.07924464430431682,
          0.07678471646823107,
          0.07421744632657068,
          0.06942090651735103
         ],
         "yaxis": "y"
        },
        {
         "customdata": [
          [
           "Argentina"
          ],
          [
           "Australia"
          ],
          [
           "Azerbaijan"
          ],
          [
           "Bahamas"
          ],
          [
           "Belarus"
          ],
          [
           "Belgium"
          ],
          [
           "Brazil"
          ],
          [
           "Bulgaria"
          ],
          [
           "Canada"
          ],
          [
           "China"
          ],
          [
           "Chinese Taipei"
          ],
          [
           "Colombia"
          ],
          [
           "Croatia"
          ],
          [
           "Cuba"
          ],
          [
           "Czech Republic"
          ],
          [
           "Denmark"
          ],
          [
           "Dominican Republic"
          ],
          [
           "Egypt"
          ],
          [
           "Estonia"
          ],
          [
           "Ethiopia"
          ],
          [
           "Finland"
          ],
          [
           "France"
          ],
          [
           "Georgia"
          ],
          [
           "Germany"
          ],
          [
           "Great Britain"
          ],
          [
           "Greece"
          ],
          [
           "Hungary"
          ],
          [
           "India"
          ],
          [
           "Indonesia"
          ],
          [
           "Iran"
          ],
          [
           "Italy"
          ],
          [
           "Jamaica"
          ],
          [
           "Japan"
          ],
          [
           "Kazakhstan"
          ],
          [
           "Kenya"
          ],
          [
           "Lithuania"
          ],
          [
           "Mexico"
          ],
          [
           "Mongolia"
          ],
          [
           "Morocco"
          ],
          [
           "Netherlands"
          ],
          [
           "New Zealand"
          ],
          [
           "North Korea"
          ],
          [
           "Norway"
          ],
          [
           "Poland"
          ],
          [
           "Portugal"
          ],
          [
           "Romania"
          ],
          [
           "Russia"
          ],
          [
           "Slovakia"
          ],
          [
           "Slovenia"
          ],
          [
           "South Africa"
          ],
          [
           "South Korea"
          ],
          [
           "Spain"
          ],
          [
           "Sweden"
          ],
          [
           "Switzerland"
          ],
          [
           "Thailand"
          ],
          [
           "Trinidad and Tobago"
          ],
          [
           "Turkey"
          ],
          [
           "Ukraine"
          ],
          [
           "United States"
          ],
          [
           "Uzbekistan"
          ],
          [
           "Venezuela"
          ]
         ],
         "hovertemplate": "Year=2008<br>GDP=%{x}<br>Success Rate=%{y}<br>Country=%{customdata[0]}<extra></extra>",
         "legendgroup": "2008",
         "marker": {
          "color": "#EF553B",
          "symbol": "circle"
         },
         "mode": "markers",
         "name": "2008",
         "orientation": "v",
         "showlegend": true,
         "type": "scatter",
         "x": [
          17567,
          40527,
          13189,
          32690,
          13894,
          39760,
          13397,
          14638,
          40159,
          7501,
          34952,
          10454,
          21165,
          5386,
          28482,
          44261,
          10704,
          9831,
          24997,
          904,
          41130,
          37416,
          7147,
          39835,
          36905,
          30519,
          22834,
          3529,
          7850,
          16309,
          36514,
          8581,
          35512,
          17754,
          2618,
          22704,
          16134,
          7227,
          6008,
          46004,
          31304,
          551,
          61820,
          19620,
          26573,
          18164,
          21700,
          24471,
          30070,
          12854,
          28550,
          32590,
          41877,
          56389,
          12256,
          31159,
          17042,
          9143,
          48471,
          4894,
          17706
         ],
         "xaxis": "x2",
         "y": [
          0.043795620437956206,
          0.10623556581986143,
          0.13636363636363635,
          0.08,
          0.07734806629834254,
          0.020833333333333332,
          0.061371841155234655,
          0.06944444444444445,
          0.060240963855421686,
          0.1564945226917058,
          0.05,
          0.046875,
          0.050505050505050504,
          0.20134228187919462,
          0.05223880597014925,
          0.08333333333333333,
          0.08,
          0.019417475728155338,
          0.0425531914893617,
          0.3181818181818182,
          0.06896551724137931,
          0.13312693498452013,
          0.2,
          0.08855291576673865,
          0.1639871382636656,
          0.019230769230769232,
          0.05847953216374269,
          0.05263157894736842,
          0.25,
          0.03636363636363636,
          0.07848837209302326,
          0.22,
          0.07122507122507123,
          0.06818181818181818,
          0.2857142857142857,
          0.07042253521126761,
          0.047058823529411764,
          0.13793103448275862,
          0.03508771929824561,
          0.0653061224489796,
          0.04945054945054945,
          0.09523809523809523,
          0.10588235294117647,
          0.041044776119402986,
          0.025974025974025976,
          0.08823529411764706,
          0.1284796573875803,
          0.10526315789473684,
          0.08064516129032258,
          0.007352941176470588,
          0.1198501872659176,
          0.06643356643356643,
          0.03731343283582089,
          0.08333333333333333,
          0.11764705882352941,
          0.06666666666666667,
          0.07352941176470588,
          0.08661417322834646,
          0.19047619047619047,
          0.06896551724137931,
          0.009174311926605505
         ],
         "yaxis": "y2"
        },
        {
         "hovertemplate": "<b>OLS trendline</b><br>Success Rate = -1.12037e-06 * GDP + 0.117038<br>R<sup>2</sup>=0.063494<br><br>Year=2008<br>GDP=%{x}<br>Success Rate=%{y} <b>(trend)</b><extra></extra>",
         "legendgroup": "2008",
         "marker": {
          "color": "#EF553B",
          "symbol": "circle"
         },
         "mode": "lines",
         "name": "2008",
         "showlegend": false,
         "type": "scatter",
         "x": [
          551,
          904,
          2618,
          3529,
          4894,
          5386,
          6008,
          7147,
          7227,
          7501,
          7850,
          8581,
          9143,
          9831,
          10454,
          10704,
          12256,
          12854,
          13189,
          13397,
          13894,
          14638,
          16134,
          16309,
          17042,
          17567,
          17706,
          17754,
          18164,
          19620,
          21165,
          21700,
          22704,
          22834,
          24471,
          24997,
          26573,
          28482,
          28550,
          30070,
          30519,
          31159,
          31304,
          32590,
          32690,
          34952,
          35512,
          36514,
          36905,
          37416,
          39760,
          39835,
          40159,
          40527,
          41130,
          41877,
          44261,
          46004,
          48471,
          56389,
          61820
         ],
         "xaxis": "x2",
         "y": [
          0.11642070613845966,
          0.11602521478152523,
          0.11410489697476717,
          0.11308423797712622,
          0.11155493003883872,
          0.11100370695778564,
          0.11030683550165757,
          0.10903073166157738,
          0.10894110189230045,
          0.108634119932527,
          0.10824311006405643,
          0.10742411804728855,
          0.10679446891811817,
          0.10602365290233663,
          0.1053256610740926,
          0.1050455680451022,
          0.1033067505211299,
          0.10263676799578492,
          0.10226144333693779,
          0.10202840593681779,
          0.10147158099518491,
          0.10063802414090954,
          0.09896194745543108,
          0.0987658823351378,
          0.09794464957413801,
          0.0973564542132582,
          0.09720072248913955,
          0.0971469446275734,
          0.09668759206002916,
          0.09505633025918918,
          0.09332535534002862,
          0.09272595625798918,
          0.0916011026535638,
          0.0914554542784888,
          0.08962140512465977,
          0.08903208939166402,
          0.08726638293690864,
          0.08512759256753807,
          0.08505140726365268,
          0.08334844164739115,
          0.08284539456732443,
          0.08212835641310903,
          0.08196590245629462,
          0.0805251039151681,
          0.08041306670357193,
          0.07787878497726694,
          0.07725137659232849,
          0.07612876373213504,
          0.07569069823479407,
          0.07511818808353773,
          0.07249203584372389,
          0.07240800793502677,
          0.07204500736945524,
          0.0716327104307814,
          0.0709571260448566,
          0.07012020807423333,
          0.06744924094978103,
          0.06549643235166008,
          0.06273247434158297,
          0.05386136792739955,
          0.04777662696561247
         ],
         "yaxis": "y2"
        },
        {
         "customdata": [
          [
           "Argentina"
          ],
          [
           "Australia"
          ],
          [
           "Azerbaijan"
          ],
          [
           "Bahamas"
          ],
          [
           "Belarus"
          ],
          [
           "Belgium"
          ],
          [
           "Brazil"
          ],
          [
           "Bulgaria"
          ],
          [
           "Canada"
          ],
          [
           "China"
          ],
          [
           "Chinese Taipei"
          ],
          [
           "Colombia"
          ],
          [
           "Croatia"
          ],
          [
           "Cuba"
          ],
          [
           "Czech Republic"
          ],
          [
           "Denmark"
          ],
          [
           "Dominican Republic"
          ],
          [
           "Egypt"
          ],
          [
           "Estonia"
          ],
          [
           "Ethiopia"
          ],
          [
           "Finland"
          ],
          [
           "France"
          ],
          [
           "Georgia"
          ],
          [
           "Germany"
          ],
          [
           "Great Britain"
          ],
          [
           "Greece"
          ],
          [
           "Hungary"
          ],
          [
           "India"
          ],
          [
           "Indonesia"
          ],
          [
           "Iran"
          ],
          [
           "Italy"
          ],
          [
           "Jamaica"
          ],
          [
           "Japan"
          ],
          [
           "Kazakhstan"
          ],
          [
           "Kenya"
          ],
          [
           "Lithuania"
          ],
          [
           "Mexico"
          ],
          [
           "Mongolia"
          ],
          [
           "Morocco"
          ],
          [
           "Netherlands"
          ],
          [
           "New Zealand"
          ],
          [
           "North Korea"
          ],
          [
           "Norway"
          ],
          [
           "Poland"
          ],
          [
           "Portugal"
          ],
          [
           "Romania"
          ],
          [
           "Russia"
          ],
          [
           "Slovakia"
          ],
          [
           "Slovenia"
          ],
          [
           "South Africa"
          ],
          [
           "South Korea"
          ],
          [
           "Spain"
          ],
          [
           "Sweden"
          ],
          [
           "Switzerland"
          ],
          [
           "Thailand"
          ],
          [
           "Trinidad and Tobago"
          ],
          [
           "Turkey"
          ],
          [
           "Ukraine"
          ],
          [
           "United States"
          ],
          [
           "Uzbekistan"
          ],
          [
           "Venezuela"
          ]
         ],
         "hovertemplate": "Year=2012<br>GDP=%{x}<br>Success Rate=%{y}<br>Country=%{customdata[0]}<extra></extra>",
         "legendgroup": "2012",
         "marker": {
          "color": "#00cc96",
          "symbol": "circle"
         },
         "mode": "markers",
         "name": "2012",
         "orientation": "v",
         "showlegend": true,
         "type": "scatter",
         "x": [
          19641,
          42906,
          16063,
          33252,
          18097,
          42409,
          15120,
          16295,
          42351,
          11137,
          41741,
          12306,
          21167,
          6448,
          29270,
          44893,
          12208,
          11620,
          25996,
          1315,
          40969,
          39037,
          9799,
          43359,
          38297,
          24819,
          23179,
          4861,
          9834,
          15846,
          36143,
          8586,
          37629,
          21878,
          3107,
          24704,
          17213,
          10074,
          6857,
          47342,
          32734,
          643,
          65101,
          23745,
          26438,
          18834,
          24279,
          26983,
          29066,
          13191,
          33557,
          31725,
          45259,
          60273,
          14871,
          30063,
          20504,
          9389,
          51737,
          6107,
          18553
         ],
         "xaxis": "x3",
         "y": [
          0.029197080291970802,
          0.08536585365853659,
          0.16981132075471697,
          0.041666666666666664,
          0.06060606060606061,
          0.02608695652173913,
          0.06589147286821706,
          0.047619047619047616,
          0.06498194945848375,
          0.2297979797979798,
          0.045454545454545456,
          0.08653846153846154,
          0.05555555555555555,
          0.13636363636363635,
          0.08270676691729323,
          0.07964601769911504,
          0.05714285714285714,
          0.035398230088495575,
          0.06060606060606061,
          0.22857142857142856,
          0.05454545454545454,
          0.10606060606060606,
          0.17142857142857143,
          0.11224489795918367,
          0.12014787430683918,
          0.019230769230769232,
          0.11464968152866242,
          0.07228915662650602,
          0.13636363636363635,
          0.24528301886792453,
          0.09824561403508772,
          0.24,
          0.1296928327645051,
          0.09649122807017543,
          0.2765957446808511,
          0.08064516129032258,
          0.0784313725490196,
          0.1724137931034483,
          0.014925373134328358,
          0.11428571428571428,
          0.07065217391304347,
          0.13725490196078433,
          0.0625,
          0.05045871559633028,
          0.012987012987012988,
          0.06796116504854369,
          0.1536697247706422,
          0.0851063829787234,
          0.06153846153846154,
          0.048,
          0.12096774193548387,
          0.07092198581560284,
          0.05970149253731343,
          0.0392156862745098,
          0.10810810810810811,
          0.13333333333333333,
          0.02631578947368421,
          0.08016877637130802,
          0.19622641509433963,
          0.05555555555555555,
          0.014285714285714285
         ],
         "yaxis": "y3"
        },
        {
         "hovertemplate": "<b>OLS trendline</b><br>Success Rate = -1.10769e-06 * GDP + 0.122482<br>R<sup>2</sup>=0.071933<br><br>Year=2012<br>GDP=%{x}<br>Success Rate=%{y} <b>(trend)</b><extra></extra>",
         "legendgroup": "2012",
         "marker": {
          "color": "#00cc96",
          "symbol": "circle"
         },
         "mode": "lines",
         "name": "2012",
         "showlegend": false,
         "type": "scatter",
         "x": [
          643,
          1315,
          3107,
          4861,
          6107,
          6448,
          6857,
          8586,
          9389,
          9799,
          9834,
          10074,
          11137,
          11620,
          12208,
          12306,
          13191,
          14871,
          15120,
          15846,
          16063,
          16295,
          17213,
          18097,
          18553,
          18834,
          19641,
          20504,
          21167,
          21878,
          23179,
          23745,
          24279,
          24704,
          24819,
          25996,
          26438,
          26983,
          29066,
          29270,
          30063,
          31725,
          32734,
          33252,
          33557,
          36143,
          37629,
          38297,
          39037,
          40969,
          41741,
          42351,
          42409,
          42906,
          43359,
          44893,
          45259,
          47342,
          51737,
          60273,
          65101
         ],
         "xaxis": "x3",
         "y": [
          0.12177008214393535,
          0.1210257171383971,
          0.11904074379029513,
          0.11709786251095869,
          0.11571768572985652,
          0.11533996479698667,
          0.11488692121474688,
          0.1129717320859141,
          0.1120822602117367,
          0.11162810894347676,
          0.11158933993277165,
          0.11132349528793656,
          0.11014602504852114,
          0.10961101270079053,
          0.10895969332094456,
          0.10885114009097023,
          0.10787083796314084,
          0.10600992544929523,
          0.10573411163027883,
          0.10492993157965269,
          0.10468956371328096,
          0.10443258055660705,
          0.10341572479011284,
          0.10243653034830359,
          0.10193142552311693,
          0.10162016575145585,
          0.10072626313319787,
          0.0997703300978117,
          0.09903593426645477,
          0.09824836950613082,
          0.09680726999392061,
          0.09618031970651786,
          0.09558881537175978,
          0.09511804881319766,
          0.09499066492088085,
          0.09368691847516877,
          0.09319732125426415,
          0.09259363237328447,
          0.09028632239331993,
          0.09006035444521011,
          0.08918195943123416,
          0.0873409852657512,
          0.08622333007142367,
          0.08564954871298794,
          0.08531170447684336,
          0.08244722842874527,
          0.08080120700280803,
          0.08006127274135037,
          0.07924158508644219,
          0.07710153569551972,
          0.07624640208796686,
          0.07557071361567769,
          0.07550646782650919,
          0.07495594787449654,
          0.07445416610737031,
          0.07275497575246603,
          0.07234956266909254,
          0.070042252689128,
          0.06517397263058544,
          0.0557187647626175,
          0.05037085665735165
         ],
         "yaxis": "y3"
        },
        {
         "customdata": [
          [
           "Argentina"
          ],
          [
           "Australia"
          ],
          [
           "Azerbaijan"
          ],
          [
           "Bahamas"
          ],
          [
           "Belarus"
          ],
          [
           "Belgium"
          ],
          [
           "Brazil"
          ],
          [
           "Bulgaria"
          ],
          [
           "Canada"
          ],
          [
           "China"
          ],
          [
           "Chinese Taipei"
          ],
          [
           "Colombia"
          ],
          [
           "Croatia"
          ],
          [
           "Cuba"
          ],
          [
           "Czech Republic"
          ],
          [
           "Denmark"
          ],
          [
           "Dominican Republic"
          ],
          [
           "Egypt"
          ],
          [
           "Estonia"
          ],
          [
           "Ethiopia"
          ],
          [
           "Finland"
          ],
          [
           "France"
          ],
          [
           "Georgia"
          ],
          [
           "Germany"
          ],
          [
           "Great Britain"
          ],
          [
           "Greece"
          ],
          [
           "Hungary"
          ],
          [
           "India"
          ],
          [
           "Indonesia"
          ],
          [
           "Iran"
          ],
          [
           "Italy"
          ],
          [
           "Jamaica"
          ],
          [
           "Japan"
          ],
          [
           "Kazakhstan"
          ],
          [
           "Kenya"
          ],
          [
           "Lithuania"
          ],
          [
           "Mexico"
          ],
          [
           "Mongolia"
          ],
          [
           "Morocco"
          ],
          [
           "Netherlands"
          ],
          [
           "New Zealand"
          ],
          [
           "North Korea"
          ],
          [
           "Norway"
          ],
          [
           "Poland"
          ],
          [
           "Portugal"
          ],
          [
           "Romania"
          ],
          [
           "Russia"
          ],
          [
           "Slovakia"
          ],
          [
           "Slovenia"
          ],
          [
           "South Africa"
          ],
          [
           "South Korea"
          ],
          [
           "Spain"
          ],
          [
           "Sweden"
          ],
          [
           "Switzerland"
          ],
          [
           "Thailand"
          ],
          [
           "Trinidad and Tobago"
          ],
          [
           "Turkey"
          ],
          [
           "Ukraine"
          ],
          [
           "United States"
          ],
          [
           "Uzbekistan"
          ],
          [
           "Venezuela"
          ]
         ],
         "hovertemplate": "Year=2016<br>GDP=%{x}<br>Success Rate=%{y}<br>Country=%{customdata[0]}<extra></extra>",
         "legendgroup": "2016",
         "marker": {
          "color": "#ab63fa",
          "symbol": "circle"
         },
         "mode": "markers",
         "name": "2016",
         "orientation": "v",
         "showlegend": true,
         "type": "scatter",
         "x": [
          20308,
          48135,
          14448,
          35239,
          17787,
          48680,
          14326,
          20091,
          46554,
          13432,
          47272,
          14352,
          24876,
          7657,
          36137,
          52160,
          16626,
          11616,
          31310,
          2134,
          44995,
          44422,
          12855,
          50575,
          44121,
          27449,
          27863,
          5840,
          10619,
          13855,
          40231,
          9818,
          40641,
          23654,
          4353,
          30922,
          19422,
          10524,
          7356,
          52441,
          39266,
          642,
          58736,
          28321,
          31604,
          24197,
          24104,
          29681,
          33947,
          13738,
          39567,
          37310,
          50062,
          68461,
          16616,
          26390,
          26514,
          11216,
          57840,
          6856,
          14213
         ],
         "xaxis": "x4",
         "y": [
          0.018779342723004695,
          0.0688836104513064,
          0.32142857142857145,
          0.07142857142857142,
          0.0743801652892562,
          0.05555555555555555,
          0.04086021505376344,
          0.058823529411764705,
          0.07006369426751592,
          0.1694915254237288,
          0.05,
          0.05442176870748299,
          0.11494252873563218,
          0.09166666666666666,
          0.09523809523809523,
          0.12295081967213115,
          0.034482758620689655,
          0.025,
          0.022222222222222223,
          0.23529411764705882,
          0.017857142857142856,
          0.10526315789473684,
          0.1794871794871795,
          0.0988235294117647,
          0.1830601092896175,
          0.06315789473684211,
          0.09375,
          0.017094017094017096,
          0.10714285714285714,
          0.125,
          0.08917197452229299,
          0.16176470588235295,
          0.12130177514792899,
          0.16346153846153846,
          0.14606741573033707,
          0.05970149253731343,
          0.04,
          0.046511627906976744,
          0.0196078431372549,
          0.07851239669421488,
          0.09045226130653267,
          0.2,
          0.06451612903225806,
          0.04526748971193416,
          0.010869565217391304,
          0.041237113402061855,
          0.19858156028368795,
          0.0784313725490196,
          0.06557377049180328,
          0.072992700729927,
          0.1024390243902439,
          0.05555555555555555,
          0.07236842105263158,
          0.0673076923076923,
          0.1111111111111111,
          0.03125,
          0.07766990291262135,
          0.054187192118226604,
          0.2184115523465704,
          0.18571428571428572,
          0.034482758620689655
         ],
         "yaxis": "y4"
        },
        {
         "hovertemplate": "<b>OLS trendline</b><br>Success Rate = -5.44752e-07 * GDP + 0.106699<br>R<sup>2</sup>=0.020540<br><br>Year=2016<br>GDP=%{x}<br>Success Rate=%{y} <b>(trend)</b><extra></extra>",
         "legendgroup": "2016",
         "marker": {
          "color": "#ab63fa",
          "symbol": "circle"
         },
         "mode": "lines",
         "name": "2016",
         "showlegend": false,
         "type": "scatter",
         "x": [
          642,
          2134,
          4353,
          5840,
          6856,
          7356,
          7657,
          9818,
          10524,
          10619,
          11216,
          11616,
          12855,
          13432,
          13738,
          13855,
          14213,
          14326,
          14352,
          14448,
          16616,
          16626,
          17787,
          19422,
          20091,
          20308,
          23654,
          24104,
          24197,
          24876,
          26390,
          26514,
          27449,
          27863,
          28321,
          29681,
          30922,
          31310,
          31604,
          33947,
          35239,
          36137,
          37310,
          39266,
          39567,
          40231,
          40641,
          44121,
          44422,
          44995,
          46554,
          47272,
          48135,
          48680,
          50062,
          50575,
          52160,
          52441,
          57840,
          58736,
          68461
         ],
         "xaxis": "x4",
         "y": [
          0.10634923509163556,
          0.1055364657392013,
          0.10432766199050716,
          0.10351761639595639,
          0.10296414879403064,
          0.10269177300568136,
          0.10252780278109508,
          0.10135059462384947,
          0.10096600001070027,
          0.10091424861091391,
          0.10058903191962487,
          0.10037113128894544,
          0.09969618408541592,
          0.09938186242566084,
          0.09921516844319107,
          0.09915143250871734,
          0.09895641144425925,
          0.09889485451609231,
          0.09888069097509815,
          0.0988283948237351,
          0.09764737340545258,
          0.09764192588968561,
          0.09700946930913856,
          0.0961188004812364,
          0.09575436167642505,
          0.09563615058428146,
          0.09381341180864805,
          0.0935682735991337,
          0.09351761170250072,
          0.0931477253819224,
          0.09232297149480076,
          0.09225542229929014,
          0.09174607957507697,
          0.09152055242232376,
          0.09127105620019582,
          0.09053019405588576,
          0.08985415734920284,
          0.0896427937374438,
          0.08948263677389441,
          0.08820628382968966,
          0.0875024647925951,
          0.0870132778767198,
          0.08637428427725237,
          0.08530875019322996,
          0.0851447799686437,
          0.08478306492171583,
          0.08455971677526943,
          0.0826639812883584,
          0.08250001106377214,
          0.08218786841032386,
          0.08133860070225078,
          0.0809474690701812,
          0.08047734845949034,
          0.08018045885018962,
          0.0794276121711922,
          0.07914815461234583,
          0.07828472336327859,
          0.07813164817022629,
          0.07519053440763071,
          0.07470243699490879,
          0.0694047279115152
         ],
         "yaxis": "y4"
        }
       ],
       "layout": {
        "annotations": [
         {
          "font": {},
          "showarrow": false,
          "text": "Year=2004",
          "x": 0.1175,
          "xanchor": "center",
          "xref": "paper",
          "y": 1,
          "yanchor": "bottom",
          "yref": "paper"
         },
         {
          "font": {},
          "showarrow": false,
          "text": "Year=2008",
          "x": 0.3725,
          "xanchor": "center",
          "xref": "paper",
          "y": 1,
          "yanchor": "bottom",
          "yref": "paper"
         },
         {
          "font": {},
          "showarrow": false,
          "text": "Year=2012",
          "x": 0.6275,
          "xanchor": "center",
          "xref": "paper",
          "y": 1,
          "yanchor": "bottom",
          "yref": "paper"
         },
         {
          "font": {},
          "showarrow": false,
          "text": "Year=2016",
          "x": 0.8824999999999998,
          "xanchor": "center",
          "xref": "paper",
          "y": 1,
          "yanchor": "bottom",
          "yref": "paper"
         }
        ],
        "legend": {
         "title": {
          "text": "Year"
         },
         "tracegroupgap": 0
        },
        "template": {
         "data": {
          "bar": [
           {
            "error_x": {
             "color": "#2a3f5f"
            },
            "error_y": {
             "color": "#2a3f5f"
            },
            "marker": {
             "line": {
              "color": "#E5ECF6",
              "width": 0.5
             },
             "pattern": {
              "fillmode": "overlay",
              "size": 10,
              "solidity": 0.2
             }
            },
            "type": "bar"
           }
          ],
          "barpolar": [
           {
            "marker": {
             "line": {
              "color": "#E5ECF6",
              "width": 0.5
             },
             "pattern": {
              "fillmode": "overlay",
              "size": 10,
              "solidity": 0.2
             }
            },
            "type": "barpolar"
           }
          ],
          "carpet": [
           {
            "aaxis": {
             "endlinecolor": "#2a3f5f",
             "gridcolor": "white",
             "linecolor": "white",
             "minorgridcolor": "white",
             "startlinecolor": "#2a3f5f"
            },
            "baxis": {
             "endlinecolor": "#2a3f5f",
             "gridcolor": "white",
             "linecolor": "white",
             "minorgridcolor": "white",
             "startlinecolor": "#2a3f5f"
            },
            "type": "carpet"
           }
          ],
          "choropleth": [
           {
            "colorbar": {
             "outlinewidth": 0,
             "ticks": ""
            },
            "type": "choropleth"
           }
          ],
          "contour": [
           {
            "colorbar": {
             "outlinewidth": 0,
             "ticks": ""
            },
            "colorscale": [
             [
              0,
              "#0d0887"
             ],
             [
              0.1111111111111111,
              "#46039f"
             ],
             [
              0.2222222222222222,
              "#7201a8"
             ],
             [
              0.3333333333333333,
              "#9c179e"
             ],
             [
              0.4444444444444444,
              "#bd3786"
             ],
             [
              0.5555555555555556,
              "#d8576b"
             ],
             [
              0.6666666666666666,
              "#ed7953"
             ],
             [
              0.7777777777777778,
              "#fb9f3a"
             ],
             [
              0.8888888888888888,
              "#fdca26"
             ],
             [
              1,
              "#f0f921"
             ]
            ],
            "type": "contour"
           }
          ],
          "contourcarpet": [
           {
            "colorbar": {
             "outlinewidth": 0,
             "ticks": ""
            },
            "type": "contourcarpet"
           }
          ],
          "heatmap": [
           {
            "colorbar": {
             "outlinewidth": 0,
             "ticks": ""
            },
            "colorscale": [
             [
              0,
              "#0d0887"
             ],
             [
              0.1111111111111111,
              "#46039f"
             ],
             [
              0.2222222222222222,
              "#7201a8"
             ],
             [
              0.3333333333333333,
              "#9c179e"
             ],
             [
              0.4444444444444444,
              "#bd3786"
             ],
             [
              0.5555555555555556,
              "#d8576b"
             ],
             [
              0.6666666666666666,
              "#ed7953"
             ],
             [
              0.7777777777777778,
              "#fb9f3a"
             ],
             [
              0.8888888888888888,
              "#fdca26"
             ],
             [
              1,
              "#f0f921"
             ]
            ],
            "type": "heatmap"
           }
          ],
          "heatmapgl": [
           {
            "colorbar": {
             "outlinewidth": 0,
             "ticks": ""
            },
            "colorscale": [
             [
              0,
              "#0d0887"
             ],
             [
              0.1111111111111111,
              "#46039f"
             ],
             [
              0.2222222222222222,
              "#7201a8"
             ],
             [
              0.3333333333333333,
              "#9c179e"
             ],
             [
              0.4444444444444444,
              "#bd3786"
             ],
             [
              0.5555555555555556,
              "#d8576b"
             ],
             [
              0.6666666666666666,
              "#ed7953"
             ],
             [
              0.7777777777777778,
              "#fb9f3a"
             ],
             [
              0.8888888888888888,
              "#fdca26"
             ],
             [
              1,
              "#f0f921"
             ]
            ],
            "type": "heatmapgl"
           }
          ],
          "histogram": [
           {
            "marker": {
             "pattern": {
              "fillmode": "overlay",
              "size": 10,
              "solidity": 0.2
             }
            },
            "type": "histogram"
           }
          ],
          "histogram2d": [
           {
            "colorbar": {
             "outlinewidth": 0,
             "ticks": ""
            },
            "colorscale": [
             [
              0,
              "#0d0887"
             ],
             [
              0.1111111111111111,
              "#46039f"
             ],
             [
              0.2222222222222222,
              "#7201a8"
             ],
             [
              0.3333333333333333,
              "#9c179e"
             ],
             [
              0.4444444444444444,
              "#bd3786"
             ],
             [
              0.5555555555555556,
              "#d8576b"
             ],
             [
              0.6666666666666666,
              "#ed7953"
             ],
             [
              0.7777777777777778,
              "#fb9f3a"
             ],
             [
              0.8888888888888888,
              "#fdca26"
             ],
             [
              1,
              "#f0f921"
             ]
            ],
            "type": "histogram2d"
           }
          ],
          "histogram2dcontour": [
           {
            "colorbar": {
             "outlinewidth": 0,
             "ticks": ""
            },
            "colorscale": [
             [
              0,
              "#0d0887"
             ],
             [
              0.1111111111111111,
              "#46039f"
             ],
             [
              0.2222222222222222,
              "#7201a8"
             ],
             [
              0.3333333333333333,
              "#9c179e"
             ],
             [
              0.4444444444444444,
              "#bd3786"
             ],
             [
              0.5555555555555556,
              "#d8576b"
             ],
             [
              0.6666666666666666,
              "#ed7953"
             ],
             [
              0.7777777777777778,
              "#fb9f3a"
             ],
             [
              0.8888888888888888,
              "#fdca26"
             ],
             [
              1,
              "#f0f921"
             ]
            ],
            "type": "histogram2dcontour"
           }
          ],
          "mesh3d": [
           {
            "colorbar": {
             "outlinewidth": 0,
             "ticks": ""
            },
            "type": "mesh3d"
           }
          ],
          "parcoords": [
           {
            "line": {
             "colorbar": {
              "outlinewidth": 0,
              "ticks": ""
             }
            },
            "type": "parcoords"
           }
          ],
          "pie": [
           {
            "automargin": true,
            "type": "pie"
           }
          ],
          "scatter": [
           {
            "marker": {
             "colorbar": {
              "outlinewidth": 0,
              "ticks": ""
             }
            },
            "type": "scatter"
           }
          ],
          "scatter3d": [
           {
            "line": {
             "colorbar": {
              "outlinewidth": 0,
              "ticks": ""
             }
            },
            "marker": {
             "colorbar": {
              "outlinewidth": 0,
              "ticks": ""
             }
            },
            "type": "scatter3d"
           }
          ],
          "scattercarpet": [
           {
            "marker": {
             "colorbar": {
              "outlinewidth": 0,
              "ticks": ""
             }
            },
            "type": "scattercarpet"
           }
          ],
          "scattergeo": [
           {
            "marker": {
             "colorbar": {
              "outlinewidth": 0,
              "ticks": ""
             }
            },
            "type": "scattergeo"
           }
          ],
          "scattergl": [
           {
            "marker": {
             "colorbar": {
              "outlinewidth": 0,
              "ticks": ""
             }
            },
            "type": "scattergl"
           }
          ],
          "scattermapbox": [
           {
            "marker": {
             "colorbar": {
              "outlinewidth": 0,
              "ticks": ""
             }
            },
            "type": "scattermapbox"
           }
          ],
          "scatterpolar": [
           {
            "marker": {
             "colorbar": {
              "outlinewidth": 0,
              "ticks": ""
             }
            },
            "type": "scatterpolar"
           }
          ],
          "scatterpolargl": [
           {
            "marker": {
             "colorbar": {
              "outlinewidth": 0,
              "ticks": ""
             }
            },
            "type": "scatterpolargl"
           }
          ],
          "scatterternary": [
           {
            "marker": {
             "colorbar": {
              "outlinewidth": 0,
              "ticks": ""
             }
            },
            "type": "scatterternary"
           }
          ],
          "surface": [
           {
            "colorbar": {
             "outlinewidth": 0,
             "ticks": ""
            },
            "colorscale": [
             [
              0,
              "#0d0887"
             ],
             [
              0.1111111111111111,
              "#46039f"
             ],
             [
              0.2222222222222222,
              "#7201a8"
             ],
             [
              0.3333333333333333,
              "#9c179e"
             ],
             [
              0.4444444444444444,
              "#bd3786"
             ],
             [
              0.5555555555555556,
              "#d8576b"
             ],
             [
              0.6666666666666666,
              "#ed7953"
             ],
             [
              0.7777777777777778,
              "#fb9f3a"
             ],
             [
              0.8888888888888888,
              "#fdca26"
             ],
             [
              1,
              "#f0f921"
             ]
            ],
            "type": "surface"
           }
          ],
          "table": [
           {
            "cells": {
             "fill": {
              "color": "#EBF0F8"
             },
             "line": {
              "color": "white"
             }
            },
            "header": {
             "fill": {
              "color": "#C8D4E3"
             },
             "line": {
              "color": "white"
             }
            },
            "type": "table"
           }
          ]
         },
         "layout": {
          "annotationdefaults": {
           "arrowcolor": "#2a3f5f",
           "arrowhead": 0,
           "arrowwidth": 1
          },
          "autotypenumbers": "strict",
          "coloraxis": {
           "colorbar": {
            "outlinewidth": 0,
            "ticks": ""
           }
          },
          "colorscale": {
           "diverging": [
            [
             0,
             "#8e0152"
            ],
            [
             0.1,
             "#c51b7d"
            ],
            [
             0.2,
             "#de77ae"
            ],
            [
             0.3,
             "#f1b6da"
            ],
            [
             0.4,
             "#fde0ef"
            ],
            [
             0.5,
             "#f7f7f7"
            ],
            [
             0.6,
             "#e6f5d0"
            ],
            [
             0.7,
             "#b8e186"
            ],
            [
             0.8,
             "#7fbc41"
            ],
            [
             0.9,
             "#4d9221"
            ],
            [
             1,
             "#276419"
            ]
           ],
           "sequential": [
            [
             0,
             "#0d0887"
            ],
            [
             0.1111111111111111,
             "#46039f"
            ],
            [
             0.2222222222222222,
             "#7201a8"
            ],
            [
             0.3333333333333333,
             "#9c179e"
            ],
            [
             0.4444444444444444,
             "#bd3786"
            ],
            [
             0.5555555555555556,
             "#d8576b"
            ],
            [
             0.6666666666666666,
             "#ed7953"
            ],
            [
             0.7777777777777778,
             "#fb9f3a"
            ],
            [
             0.8888888888888888,
             "#fdca26"
            ],
            [
             1,
             "#f0f921"
            ]
           ],
           "sequentialminus": [
            [
             0,
             "#0d0887"
            ],
            [
             0.1111111111111111,
             "#46039f"
            ],
            [
             0.2222222222222222,
             "#7201a8"
            ],
            [
             0.3333333333333333,
             "#9c179e"
            ],
            [
             0.4444444444444444,
             "#bd3786"
            ],
            [
             0.5555555555555556,
             "#d8576b"
            ],
            [
             0.6666666666666666,
             "#ed7953"
            ],
            [
             0.7777777777777778,
             "#fb9f3a"
            ],
            [
             0.8888888888888888,
             "#fdca26"
            ],
            [
             1,
             "#f0f921"
            ]
           ]
          },
          "colorway": [
           "#636efa",
           "#EF553B",
           "#00cc96",
           "#ab63fa",
           "#FFA15A",
           "#19d3f3",
           "#FF6692",
           "#B6E880",
           "#FF97FF",
           "#FECB52"
          ],
          "font": {
           "color": "#2a3f5f"
          },
          "geo": {
           "bgcolor": "white",
           "lakecolor": "white",
           "landcolor": "#E5ECF6",
           "showlakes": true,
           "showland": true,
           "subunitcolor": "white"
          },
          "hoverlabel": {
           "align": "left"
          },
          "hovermode": "closest",
          "mapbox": {
           "style": "light"
          },
          "paper_bgcolor": "white",
          "plot_bgcolor": "#E5ECF6",
          "polar": {
           "angularaxis": {
            "gridcolor": "white",
            "linecolor": "white",
            "ticks": ""
           },
           "bgcolor": "#E5ECF6",
           "radialaxis": {
            "gridcolor": "white",
            "linecolor": "white",
            "ticks": ""
           }
          },
          "scene": {
           "xaxis": {
            "backgroundcolor": "#E5ECF6",
            "gridcolor": "white",
            "gridwidth": 2,
            "linecolor": "white",
            "showbackground": true,
            "ticks": "",
            "zerolinecolor": "white"
           },
           "yaxis": {
            "backgroundcolor": "#E5ECF6",
            "gridcolor": "white",
            "gridwidth": 2,
            "linecolor": "white",
            "showbackground": true,
            "ticks": "",
            "zerolinecolor": "white"
           },
           "zaxis": {
            "backgroundcolor": "#E5ECF6",
            "gridcolor": "white",
            "gridwidth": 2,
            "linecolor": "white",
            "showbackground": true,
            "ticks": "",
            "zerolinecolor": "white"
           }
          },
          "shapedefaults": {
           "line": {
            "color": "#2a3f5f"
           }
          },
          "ternary": {
           "aaxis": {
            "gridcolor": "white",
            "linecolor": "white",
            "ticks": ""
           },
           "baxis": {
            "gridcolor": "white",
            "linecolor": "white",
            "ticks": ""
           },
           "bgcolor": "#E5ECF6",
           "caxis": {
            "gridcolor": "white",
            "linecolor": "white",
            "ticks": ""
           }
          },
          "title": {
           "x": 0.05
          },
          "xaxis": {
           "automargin": true,
           "gridcolor": "white",
           "linecolor": "white",
           "ticks": "",
           "title": {
            "standoff": 15
           },
           "zerolinecolor": "white",
           "zerolinewidth": 2
          },
          "yaxis": {
           "automargin": true,
           "gridcolor": "white",
           "linecolor": "white",
           "ticks": "",
           "title": {
            "standoff": 15
           },
           "zerolinecolor": "white",
           "zerolinewidth": 2
          }
         }
        },
        "title": {
         "text": "Number of Competitors vs Number of Athletes"
        },
        "xaxis": {
         "anchor": "y",
         "domain": [
          0,
          0.235
         ],
         "title": {
          "text": "GDP"
         },
         "type": "log"
        },
        "xaxis2": {
         "anchor": "y2",
         "domain": [
          0.255,
          0.49
         ],
         "matches": "x",
         "title": {
          "text": "GDP"
         },
         "type": "log"
        },
        "xaxis3": {
         "anchor": "y3",
         "domain": [
          0.51,
          0.745
         ],
         "matches": "x",
         "title": {
          "text": "GDP"
         },
         "type": "log"
        },
        "xaxis4": {
         "anchor": "y4",
         "domain": [
          0.7649999999999999,
          0.9999999999999999
         ],
         "matches": "x",
         "title": {
          "text": "GDP"
         },
         "type": "log"
        },
        "yaxis": {
         "anchor": "x",
         "domain": [
          0,
          1
         ],
         "title": {
          "text": "Success Rate"
         }
        },
        "yaxis2": {
         "anchor": "x2",
         "domain": [
          0,
          1
         ],
         "matches": "y",
         "showticklabels": false
        },
        "yaxis3": {
         "anchor": "x3",
         "domain": [
          0,
          1
         ],
         "matches": "y",
         "showticklabels": false
        },
        "yaxis4": {
         "anchor": "x4",
         "domain": [
          0,
          1
         ],
         "matches": "y",
         "showticklabels": false
        }
       }
      }
     },
     "metadata": {},
     "output_type": "display_data"
    }
   ],
   "source": [
    "fig = px.scatter(\n",
    "                 od,\n",
    "                 x = od[\"GDP\"],\n",
    "                 y = od[\"Success Rate\"],\n",
    "                 trendline=\"ols\",\n",
    "                 labels={\"Athletes\" :\"Total Number of Competitors\",\n",
    "                 \"Total\" : \"Total Number of Medals\"},\n",
    "                 title=f\"Number of Competitors vs Number of Athletes\",\n",
    "                 hover_data=[\"Country\"],\n",
    "                 log_x=True,\n",
    "                 facet_col= \"Year\",\n",
    "                 color = \"Year\"\n",
    "                )\n",
    "fig.show()"
   ]
  },
  {
   "cell_type": "code",
   "execution_count": null,
   "metadata": {},
   "outputs": [
    {
     "data": {
      "application/vnd.plotly.v1+json": {
       "config": {
        "plotlyServerURL": "https://plot.ly"
       },
       "data": [
        {
         "customdata": [
          [
           "Argentina"
          ],
          [
           "Australia"
          ],
          [
           "Azerbaijan"
          ],
          [
           "Bahamas"
          ],
          [
           "Belarus"
          ],
          [
           "Belgium"
          ],
          [
           "Brazil"
          ],
          [
           "Bulgaria"
          ],
          [
           "Canada"
          ],
          [
           "China"
          ],
          [
           "Chinese Taipei"
          ],
          [
           "Colombia"
          ],
          [
           "Croatia"
          ],
          [
           "Cuba"
          ],
          [
           "Czech Republic"
          ],
          [
           "Denmark"
          ],
          [
           "Dominican Republic"
          ],
          [
           "Egypt"
          ],
          [
           "Estonia"
          ],
          [
           "Ethiopia"
          ],
          [
           "Finland"
          ],
          [
           "France"
          ],
          [
           "Georgia"
          ],
          [
           "Germany"
          ],
          [
           "Great Britain"
          ],
          [
           "Greece"
          ],
          [
           "Hungary"
          ],
          [
           "India"
          ],
          [
           "Indonesia"
          ],
          [
           "Iran"
          ],
          [
           "Italy"
          ],
          [
           "Jamaica"
          ],
          [
           "Japan"
          ],
          [
           "Kazakhstan"
          ],
          [
           "Kenya"
          ],
          [
           "Lithuania"
          ],
          [
           "Mexico"
          ],
          [
           "Mongolia"
          ],
          [
           "Morocco"
          ],
          [
           "Netherlands"
          ],
          [
           "New Zealand"
          ],
          [
           "North Korea"
          ],
          [
           "Norway"
          ],
          [
           "Poland"
          ],
          [
           "Portugal"
          ],
          [
           "Romania"
          ],
          [
           "Russia"
          ],
          [
           "Slovakia"
          ],
          [
           "Slovenia"
          ],
          [
           "South Africa"
          ],
          [
           "South Korea"
          ],
          [
           "Spain"
          ],
          [
           "Sweden"
          ],
          [
           "Switzerland"
          ],
          [
           "Thailand"
          ],
          [
           "Trinidad and Tobago"
          ],
          [
           "Turkey"
          ],
          [
           "Ukraine"
          ],
          [
           "United States"
          ],
          [
           "Uzbekistan"
          ],
          [
           "Venezuela"
          ]
         ],
         "hovertemplate": "Year=2004<br>Pop=%{x}<br>Success Rate=%{y}<br>Country=%{customdata[0]}<extra></extra>",
         "legendgroup": "2004",
         "marker": {
          "color": "#636efa",
          "symbol": "circle"
         },
         "mode": "markers",
         "name": "2004",
         "orientation": "v",
         "showlegend": true,
         "type": "scatter",
         "x": [
          39182,
          20233,
          8826,
          297,
          9807,
          10470,
          186021,
          7612,
          32387,
          1302285,
          22728,
          41488,
          4496,
          11199,
          10267,
          5433,
          9165,
          72544,
          1332,
          74355,
          5239,
          63060,
          4791,
          82440,
          60488,
          10669,
          10058,
          1090974,
          229245,
          72283,
          59038,
          2737,
          127716,
          16123,
          35247,
          3327,
          106577,
          2603,
          29901,
          16300,
          4049,
          23621,
          4625,
          38557,
          10567,
          22198,
          143320,
          5408,
          2012,
          48105,
          48006,
          43705,
          9083,
          7449,
          65113,
          1237,
          70465,
          47003,
          295517,
          26540,
          25270
         ],
         "xaxis": "x",
         "y": [
          0.039473684210526314,
          0.10638297872340426,
          0.1388888888888889,
          0.09090909090909091,
          0.08609271523178808,
          0.06,
          0.0411522633744856,
          0.12631578947368421,
          0.045627376425855515,
          0.1640625,
          0.056818181818181816,
          0.03773584905660377,
          0.06172839506172839,
          0.17880794701986755,
          0.06338028169014084,
          0.08695652173913043,
          0.030303030303030304,
          0.05154639175257732,
          0.07142857142857142,
          0.2692307692307692,
          0.03773584905660377,
          0.10714285714285714,
          0.125,
          0.1111111111111111,
          0.11363636363636363,
          0.03755868544600939,
          0.08133971291866028,
          0.0136986301369863,
          0.10526315789473684,
          0.16216216216216217,
          0.08791208791208792,
          0.10638297872340426,
          0.12091503267973856,
          0.07017543859649122,
          0.15217391304347827,
          0.05084745762711865,
          0.03669724770642202,
          0.05,
          0.05454545454545454,
          0.10476190476190476,
          0.033783783783783786,
          0.1388888888888889,
          0.11538461538461539,
          0.05154639175257732,
          0.037037037037037035,
          0.17592592592592593,
          0.20179372197309417,
          0.09375,
          0.05063291139240506,
          0.05660377358490566,
          0.11363636363636363,
          0.06309148264984227,
          0.06086956521739131,
          0.05102040816326531,
          0.19047619047619047,
          0.05263157894736842,
          0.171875,
          0.09205020920502092,
          0.1894934333958724,
          0.07246376811594203,
          0.041666666666666664
         ],
         "yaxis": "y"
        },
        {
         "hovertemplate": "<b>OLS trendline</b><br>Success Rate = 2.40178e-08 * Pop + 0.0897419<br>R<sup>2</sup>=0.009603<br><br>Year=2004<br>Pop=%{x}<br>Success Rate=%{y} <b>(trend)</b><extra></extra>",
         "legendgroup": "2004",
         "marker": {
          "color": "#636efa",
          "symbol": "circle"
         },
         "mode": "lines",
         "name": "2004",
         "showlegend": false,
         "type": "scatter",
         "x": [
          297,
          1237,
          1332,
          2012,
          2603,
          2737,
          3327,
          4049,
          4496,
          4625,
          4791,
          5239,
          5408,
          5433,
          7449,
          7612,
          8826,
          9083,
          9165,
          9807,
          10058,
          10267,
          10470,
          10567,
          10669,
          11199,
          16123,
          16300,
          20233,
          22198,
          22728,
          23621,
          25270,
          26540,
          29901,
          32387,
          35247,
          38557,
          39182,
          41488,
          43705,
          47003,
          48006,
          48105,
          59038,
          60488,
          63060,
          65113,
          70465,
          72283,
          72544,
          74355,
          82440,
          106577,
          127716,
          143320,
          186021,
          229245,
          295517,
          1090974,
          1302285
         ],
         "xaxis": "x",
         "y": [
          0.0897490622197891,
          0.08977163897607464,
          0.08977392066952904,
          0.0897902527910973,
          0.08980444732616619,
          0.08980766571482816,
          0.08982183623207123,
          0.08983917710232459,
          0.08984991307047314,
          0.08985301137000594,
          0.08985699832909466,
          0.08986775831506905,
          0.08987181732763529,
          0.08987241777328117,
          0.08992083771016592,
          0.08992475261577713,
          0.08995391025634165,
          0.08996008283758143,
          0.08996205229929995,
          0.08997747174348646,
          0.08998350021777123,
          0.08998851994337087,
          0.08999339556201552,
          0.08999572529112158,
          0.08999817510935683,
          0.09001090455704974,
          0.09012916833146464,
          0.09013341948663757,
          0.09022788159564932,
          0.09027507662341644,
          0.09028780607110935,
          0.09030925398958062,
          0.09034885938438365,
          0.09037936202319498,
          0.09046008593582872,
          0.09051979425085623,
          0.09058848523274629,
          0.0906679842362624,
          0.09068299537740972,
          0.0907383804837868,
          0.09079162800366451,
          0.0908708387932706,
          0.0908949286725838,
          0.09089730643734154,
          0.09115989332720308,
          0.09119471917466482,
          0.0912564930227142,
          0.09130580161915486,
          0.09143434502302744,
          0.09147800943039672,
          0.09148427808293984,
          0.09152777436552827,
          0.09172195848740977,
          0.09230167674960571,
          0.09280938956994625,
          0.09318416372428628,
          0.09420974890529588,
          0.09524789540921752,
          0.09683960476300005,
          0.11594475244877658,
          0.12101998324394103
         ],
         "yaxis": "y"
        },
        {
         "customdata": [
          [
           "Argentina"
          ],
          [
           "Australia"
          ],
          [
           "Azerbaijan"
          ],
          [
           "Bahamas"
          ],
          [
           "Belarus"
          ],
          [
           "Belgium"
          ],
          [
           "Brazil"
          ],
          [
           "Bulgaria"
          ],
          [
           "Canada"
          ],
          [
           "China"
          ],
          [
           "Chinese Taipei"
          ],
          [
           "Colombia"
          ],
          [
           "Croatia"
          ],
          [
           "Cuba"
          ],
          [
           "Czech Republic"
          ],
          [
           "Denmark"
          ],
          [
           "Dominican Republic"
          ],
          [
           "Egypt"
          ],
          [
           "Estonia"
          ],
          [
           "Ethiopia"
          ],
          [
           "Finland"
          ],
          [
           "France"
          ],
          [
           "Georgia"
          ],
          [
           "Germany"
          ],
          [
           "Great Britain"
          ],
          [
           "Greece"
          ],
          [
           "Hungary"
          ],
          [
           "India"
          ],
          [
           "Indonesia"
          ],
          [
           "Iran"
          ],
          [
           "Italy"
          ],
          [
           "Jamaica"
          ],
          [
           "Japan"
          ],
          [
           "Kazakhstan"
          ],
          [
           "Kenya"
          ],
          [
           "Lithuania"
          ],
          [
           "Mexico"
          ],
          [
           "Mongolia"
          ],
          [
           "Morocco"
          ],
          [
           "Netherlands"
          ],
          [
           "New Zealand"
          ],
          [
           "North Korea"
          ],
          [
           "Norway"
          ],
          [
           "Poland"
          ],
          [
           "Portugal"
          ],
          [
           "Romania"
          ],
          [
           "Russia"
          ],
          [
           "Slovakia"
          ],
          [
           "Slovenia"
          ],
          [
           "South Africa"
          ],
          [
           "South Korea"
          ],
          [
           "Spain"
          ],
          [
           "Sweden"
          ],
          [
           "Switzerland"
          ],
          [
           "Thailand"
          ],
          [
           "Trinidad and Tobago"
          ],
          [
           "Turkey"
          ],
          [
           "Ukraine"
          ],
          [
           "United States"
          ],
          [
           "Uzbekistan"
          ],
          [
           "Venezuela"
          ]
         ],
         "hovertemplate": "Year=2008<br>Pop=%{x}<br>Success Rate=%{y}<br>Country=%{customdata[0]}<extra></extra>",
         "legendgroup": "2008",
         "marker": {
          "color": "#EF553B",
          "symbol": "circle"
         },
         "mode": "markers",
         "name": "2008",
         "orientation": "v",
         "showlegend": true,
         "type": "scatter",
         "x": [
          41344,
          21516,
          9302,
          311,
          9681,
          10866,
          195835,
          7392,
          33760,
          1336681,
          23127,
          44206,
          4487,
          11099,
          10551,
          5516,
          9824,
          80472,
          1303,
          86043,
          5355,
          64941,
          4903,
          81645,
          62349,
          10750,
          9993,
          1173109,
          243423,
          76924,
          60749,
          2848,
          127580,
          17085,
          40844,
          3089,
          114062,
          2784,
          31628,
          16574,
          4253,
          24326,
          4892,
          38617,
          10736,
          21960,
          142527,
          5427,
          2004,
          51123,
          48637,
          46506,
          9433,
          7770,
          66721,
          1229,
          74687,
          45769,
          309348,
          27866,
          27224
         ],
         "xaxis": "x2",
         "y": [
          0.043795620437956206,
          0.10623556581986143,
          0.13636363636363635,
          0.08,
          0.07734806629834254,
          0.020833333333333332,
          0.061371841155234655,
          0.06944444444444445,
          0.060240963855421686,
          0.1564945226917058,
          0.05,
          0.046875,
          0.050505050505050504,
          0.20134228187919462,
          0.05223880597014925,
          0.08333333333333333,
          0.08,
          0.019417475728155338,
          0.0425531914893617,
          0.3181818181818182,
          0.06896551724137931,
          0.13312693498452013,
          0.2,
          0.08855291576673865,
          0.1639871382636656,
          0.019230769230769232,
          0.05847953216374269,
          0.05263157894736842,
          0.25,
          0.03636363636363636,
          0.07848837209302326,
          0.22,
          0.07122507122507123,
          0.06818181818181818,
          0.2857142857142857,
          0.07042253521126761,
          0.047058823529411764,
          0.13793103448275862,
          0.03508771929824561,
          0.0653061224489796,
          0.04945054945054945,
          0.09523809523809523,
          0.10588235294117647,
          0.041044776119402986,
          0.025974025974025976,
          0.08823529411764706,
          0.1284796573875803,
          0.10526315789473684,
          0.08064516129032258,
          0.007352941176470588,
          0.1198501872659176,
          0.06643356643356643,
          0.03731343283582089,
          0.08333333333333333,
          0.11764705882352941,
          0.06666666666666667,
          0.07352941176470588,
          0.08661417322834646,
          0.19047619047619047,
          0.06896551724137931,
          0.009174311926605505
         ],
         "yaxis": "y2"
        },
        {
         "hovertemplate": "<b>OLS trendline</b><br>Success Rate = 3.56981e-08 * Pop + 0.0880998<br>R<sup>2</sup>=0.015314<br><br>Year=2008<br>Pop=%{x}<br>Success Rate=%{y} <b>(trend)</b><extra></extra>",
         "legendgroup": "2008",
         "marker": {
          "color": "#EF553B",
          "symbol": "circle"
         },
         "mode": "lines",
         "name": "2008",
         "showlegend": false,
         "type": "scatter",
         "x": [
          311,
          1229,
          1303,
          2004,
          2784,
          2848,
          3089,
          4253,
          4487,
          4892,
          4903,
          5355,
          5427,
          5516,
          7392,
          7770,
          9302,
          9433,
          9681,
          9824,
          9993,
          10551,
          10736,
          10750,
          10866,
          11099,
          16574,
          17085,
          21516,
          21960,
          23127,
          24326,
          27224,
          27866,
          31628,
          33760,
          38617,
          40844,
          41344,
          44206,
          45769,
          46506,
          48637,
          51123,
          60749,
          62349,
          64941,
          66721,
          74687,
          76924,
          80472,
          81645,
          86043,
          114062,
          127580,
          142527,
          195835,
          243423,
          309348,
          1173109,
          1336681
         ],
         "xaxis": "x2",
         "y": [
          0.08811089856305751,
          0.08814366940864055,
          0.08814631106721696,
          0.08817133542751512,
          0.08819917993683406,
          0.08820146461452176,
          0.08821006785393953,
          0.0882516204293847,
          0.08825997378218037,
          0.0882744315081729,
          0.08827482418715046,
          0.08829095972331989,
          0.08829352998571857,
          0.08829670711562804,
          0.08836367673034894,
          0.08837717060794195,
          0.08843186008009143,
          0.08843653652973346,
          0.08844538965577332,
          0.0884504944824818,
          0.0884565274595009,
          0.0884764469930906,
          0.08848305113953162,
          0.08848355091277581,
          0.08848769189108477,
          0.08849600954579158,
          0.08869145658235712,
          0.08870969830576991,
          0.08886787653755474,
          0.0888837264890132,
          0.08892538615872497,
          0.08896818816728061,
          0.08907164122882708,
          0.08909455940188189,
          0.0892288556122124,
          0.08930496393768414,
          0.08947834955532775,
          0.08955784919924217,
          0.08957569824367739,
          0.08967786617402453,
          0.08973366228692899,
          0.08975997177842648,
          0.08983604440580935,
          0.08992478985474121,
          0.09026841965820787,
          0.09032553660040053,
          0.09041806604675265,
          0.09048160864494201,
          0.09076597962088376,
          0.09084583624568689,
          0.09097249306499913,
          0.09101436692324413,
          0.09117136711809623,
          0.09217159187015649,
          0.0926541586355068,
          0.09318773796985295,
          0.09509073169135722,
          0.0967895323445227,
          0.09914292885330504,
          0.12997754579410664,
          0.13581675358681872
         ],
         "yaxis": "y2"
        },
        {
         "customdata": [
          [
           "Argentina"
          ],
          [
           "Australia"
          ],
          [
           "Azerbaijan"
          ],
          [
           "Bahamas"
          ],
          [
           "Belarus"
          ],
          [
           "Belgium"
          ],
          [
           "Brazil"
          ],
          [
           "Bulgaria"
          ],
          [
           "Canada"
          ],
          [
           "China"
          ],
          [
           "Chinese Taipei"
          ],
          [
           "Colombia"
          ],
          [
           "Croatia"
          ],
          [
           "Cuba"
          ],
          [
           "Czech Republic"
          ],
          [
           "Denmark"
          ],
          [
           "Dominican Republic"
          ],
          [
           "Egypt"
          ],
          [
           "Estonia"
          ],
          [
           "Ethiopia"
          ],
          [
           "Finland"
          ],
          [
           "France"
          ],
          [
           "Georgia"
          ],
          [
           "Germany"
          ],
          [
           "Great Britain"
          ],
          [
           "Greece"
          ],
          [
           "Hungary"
          ],
          [
           "India"
          ],
          [
           "Indonesia"
          ],
          [
           "Iran"
          ],
          [
           "Italy"
          ],
          [
           "Jamaica"
          ],
          [
           "Japan"
          ],
          [
           "Kazakhstan"
          ],
          [
           "Kenya"
          ],
          [
           "Lithuania"
          ],
          [
           "Mexico"
          ],
          [
           "Mongolia"
          ],
          [
           "Morocco"
          ],
          [
           "Netherlands"
          ],
          [
           "New Zealand"
          ],
          [
           "North Korea"
          ],
          [
           "Norway"
          ],
          [
           "Poland"
          ],
          [
           "Portugal"
          ],
          [
           "Romania"
          ],
          [
           "Russia"
          ],
          [
           "Slovakia"
          ],
          [
           "Slovenia"
          ],
          [
           "South Africa"
          ],
          [
           "South Korea"
          ],
          [
           "Spain"
          ],
          [
           "Sweden"
          ],
          [
           "Switzerland"
          ],
          [
           "Thailand"
          ],
          [
           "Trinidad and Tobago"
          ],
          [
           "Turkey"
          ],
          [
           "Ukraine"
          ],
          [
           "United States"
          ],
          [
           "Uzbekistan"
          ],
          [
           "Venezuela"
          ]
         ],
         "hovertemplate": "Year=2012<br>Pop=%{x}<br>Success Rate=%{y}<br>Country=%{customdata[0]}<extra></extra>",
         "legendgroup": "2012",
         "marker": {
          "color": "#00cc96",
          "symbol": "circle"
         },
         "mode": "markers",
         "name": "2012",
         "orientation": "v",
         "showlegend": true,
         "type": "scatter",
         "x": [
          41344,
          21516,
          9302,
          311,
          9681,
          10866,
          195835,
          7392,
          33760,
          1336681,
          23127,
          44206,
          4487,
          11099,
          10551,
          5516,
          9824,
          80472,
          1303,
          86043,
          5355,
          64941,
          4903,
          81645,
          62349,
          10750,
          9993,
          1173109,
          243423,
          76924,
          60749,
          2848,
          127580,
          17085,
          40844,
          3089,
          114062,
          2784,
          31628,
          16574,
          4253,
          24326,
          4892,
          38617,
          10736,
          21960,
          142527,
          5427,
          2004,
          51123,
          48637,
          46506,
          9433,
          7770,
          66721,
          1229,
          74687,
          45769,
          309348,
          27866,
          27224
         ],
         "xaxis": "x3",
         "y": [
          0.029197080291970802,
          0.08536585365853659,
          0.16981132075471697,
          0.041666666666666664,
          0.06060606060606061,
          0.02608695652173913,
          0.06589147286821706,
          0.047619047619047616,
          0.06498194945848375,
          0.2297979797979798,
          0.045454545454545456,
          0.08653846153846154,
          0.05555555555555555,
          0.13636363636363635,
          0.08270676691729323,
          0.07964601769911504,
          0.05714285714285714,
          0.035398230088495575,
          0.06060606060606061,
          0.22857142857142856,
          0.05454545454545454,
          0.10606060606060606,
          0.17142857142857143,
          0.11224489795918367,
          0.12014787430683918,
          0.019230769230769232,
          0.11464968152866242,
          0.07228915662650602,
          0.13636363636363635,
          0.24528301886792453,
          0.09824561403508772,
          0.24,
          0.1296928327645051,
          0.09649122807017543,
          0.2765957446808511,
          0.08064516129032258,
          0.0784313725490196,
          0.1724137931034483,
          0.014925373134328358,
          0.11428571428571428,
          0.07065217391304347,
          0.13725490196078433,
          0.0625,
          0.05045871559633028,
          0.012987012987012988,
          0.06796116504854369,
          0.1536697247706422,
          0.0851063829787234,
          0.06153846153846154,
          0.048,
          0.12096774193548387,
          0.07092198581560284,
          0.05970149253731343,
          0.0392156862745098,
          0.10810810810810811,
          0.13333333333333333,
          0.02631578947368421,
          0.08016877637130802,
          0.19622641509433963,
          0.05555555555555555,
          0.014285714285714285
         ],
         "yaxis": "y3"
        },
        {
         "hovertemplate": "<b>OLS trendline</b><br>Success Rate = 6.77271e-08 * Pop + 0.0894241<br>R<sup>2</sup>=0.061145<br><br>Year=2012<br>Pop=%{x}<br>Success Rate=%{y} <b>(trend)</b><extra></extra>",
         "legendgroup": "2012",
         "marker": {
          "color": "#00cc96",
          "symbol": "circle"
         },
         "mode": "lines",
         "name": "2012",
         "showlegend": false,
         "type": "scatter",
         "x": [
          311,
          1229,
          1303,
          2004,
          2784,
          2848,
          3089,
          4253,
          4487,
          4892,
          4903,
          5355,
          5427,
          5516,
          7392,
          7770,
          9302,
          9433,
          9681,
          9824,
          9993,
          10551,
          10736,
          10750,
          10866,
          11099,
          16574,
          17085,
          21516,
          21960,
          23127,
          24326,
          27224,
          27866,
          31628,
          33760,
          38617,
          40844,
          41344,
          44206,
          45769,
          46506,
          48637,
          51123,
          60749,
          62349,
          64941,
          66721,
          74687,
          76924,
          80472,
          81645,
          86043,
          114062,
          127580,
          142527,
          195835,
          243423,
          309348,
          1173109,
          1336681
         ],
         "xaxis": "x3",
         "y": [
          0.08944515338516078,
          0.08950732684714198,
          0.08951233865126682,
          0.08955981533628732,
          0.0896126424608465,
          0.08961697699414367,
          0.0896332992210908,
          0.08971213354543296,
          0.08972798168280072,
          0.08975541115132184,
          0.08975615614923228,
          0.08978676879064351,
          0.08979164514060282,
          0.08979767285096919,
          0.0899247288582423,
          0.08995032969552867,
          0.09005408758632953,
          0.09006295983417217,
          0.09007975615069867,
          0.09008944112353452,
          0.09010088700052235,
          0.090138678712707,
          0.09015120822301911,
          0.09015215640217787,
          0.09016001274377898,
          0.09017579315406396,
          0.09054659893221978,
          0.09058120747151432,
          0.09088130617526015,
          0.09091137700000923,
          0.0909904145055997,
          0.09107161927783876,
          0.09126789236370096,
          0.09131137315083813,
          0.09156616243621205,
          0.09171055657667382,
          0.09203950701767889,
          0.09219033523100365,
          0.09222419877238773,
          0.09241803368327028,
          0.09252389111363696,
          0.09257380597363711,
          0.09271813238701611,
          0.09288650191477782,
          0.09353844281350437,
          0.09364680614593347,
          0.09382235474446861,
          0.09394290895179598,
          0.09448242289312735,
          0.09463392837727977,
          0.09487422406694129,
          0.09495366793502838,
          0.09525153164504285,
          0.09714917677712465,
          0.09806471148198498,
          0.09907702818812104,
          0.10268742351632747,
          0.10591041993109988,
          0.1103753278625925,
          0.16887534060152315,
          0.17995359498408076
         ],
         "yaxis": "y3"
        },
        {
         "customdata": [
          [
           "Argentina"
          ],
          [
           "Australia"
          ],
          [
           "Azerbaijan"
          ],
          [
           "Bahamas"
          ],
          [
           "Belarus"
          ],
          [
           "Belgium"
          ],
          [
           "Brazil"
          ],
          [
           "Bulgaria"
          ],
          [
           "Canada"
          ],
          [
           "China"
          ],
          [
           "Chinese Taipei"
          ],
          [
           "Colombia"
          ],
          [
           "Croatia"
          ],
          [
           "Cuba"
          ],
          [
           "Czech Republic"
          ],
          [
           "Denmark"
          ],
          [
           "Dominican Republic"
          ],
          [
           "Egypt"
          ],
          [
           "Estonia"
          ],
          [
           "Ethiopia"
          ],
          [
           "Finland"
          ],
          [
           "France"
          ],
          [
           "Georgia"
          ],
          [
           "Germany"
          ],
          [
           "Great Britain"
          ],
          [
           "Greece"
          ],
          [
           "Hungary"
          ],
          [
           "India"
          ],
          [
           "Indonesia"
          ],
          [
           "Iran"
          ],
          [
           "Italy"
          ],
          [
           "Jamaica"
          ],
          [
           "Japan"
          ],
          [
           "Kazakhstan"
          ],
          [
           "Kenya"
          ],
          [
           "Lithuania"
          ],
          [
           "Mexico"
          ],
          [
           "Mongolia"
          ],
          [
           "Morocco"
          ],
          [
           "Netherlands"
          ],
          [
           "New Zealand"
          ],
          [
           "North Korea"
          ],
          [
           "Norway"
          ],
          [
           "Poland"
          ],
          [
           "Portugal"
          ],
          [
           "Romania"
          ],
          [
           "Russia"
          ],
          [
           "Slovakia"
          ],
          [
           "Slovenia"
          ],
          [
           "South Africa"
          ],
          [
           "South Korea"
          ],
          [
           "Spain"
          ],
          [
           "Sweden"
          ],
          [
           "Switzerland"
          ],
          [
           "Thailand"
          ],
          [
           "Trinidad and Tobago"
          ],
          [
           "Turkey"
          ],
          [
           "Ukraine"
          ],
          [
           "United States"
          ],
          [
           "Uzbekistan"
          ],
          [
           "Venezuela"
          ]
         ],
         "hovertemplate": "Year=2016<br>Pop=%{x}<br>Success Rate=%{y}<br>Country=%{customdata[0]}<extra></extra>",
         "legendgroup": "2016",
         "marker": {
          "color": "#ab63fa",
          "symbol": "circle"
         },
         "mode": "markers",
         "name": "2016",
         "orientation": "v",
         "showlegend": true,
         "type": "scatter",
         "x": [
          43432,
          22752,
          9781,
          325,
          9590,
          11324,
          204260,
          7187,
          35100,
          1367486,
          23416,
          46737,
          4465,
          11032,
          10645,
          5582,
          10479,
          88488,
          1266,
          99466,
          5477,
          66554,
          4932,
          80855,
          64089,
          10776,
          9898,
          1251696,
          255994,
          81825,
          61856,
          2951,
          126920,
          18158,
          45926,
          2885,
          121737,
          2993,
          33323,
          16948,
          4439,
          24984,
          5208,
          38563,
          10826,
          21667,
          142424,
          5446,
          1984,
          53676,
          49116,
          48147,
          9802,
          8122,
          67977,
          1223,
          79415,
          44430,
          321369,
          29200,
          29276
         ],
         "xaxis": "x4",
         "y": [
          0.018779342723004695,
          0.0688836104513064,
          0.32142857142857145,
          0.07142857142857142,
          0.0743801652892562,
          0.05555555555555555,
          0.04086021505376344,
          0.058823529411764705,
          0.07006369426751592,
          0.1694915254237288,
          0.05,
          0.05442176870748299,
          0.11494252873563218,
          0.09166666666666666,
          0.09523809523809523,
          0.12295081967213115,
          0.034482758620689655,
          0.025,
          0.022222222222222223,
          0.23529411764705882,
          0.017857142857142856,
          0.10526315789473684,
          0.1794871794871795,
          0.0988235294117647,
          0.1830601092896175,
          0.06315789473684211,
          0.09375,
          0.017094017094017096,
          0.10714285714285714,
          0.125,
          0.08917197452229299,
          0.16176470588235295,
          0.12130177514792899,
          0.16346153846153846,
          0.14606741573033707,
          0.05970149253731343,
          0.04,
          0.046511627906976744,
          0.0196078431372549,
          0.07851239669421488,
          0.09045226130653267,
          0.2,
          0.06451612903225806,
          0.04526748971193416,
          0.010869565217391304,
          0.041237113402061855,
          0.19858156028368795,
          0.0784313725490196,
          0.06557377049180328,
          0.072992700729927,
          0.1024390243902439,
          0.05555555555555555,
          0.07236842105263158,
          0.0673076923076923,
          0.1111111111111111,
          0.03125,
          0.07766990291262135,
          0.054187192118226604,
          0.2184115523465704,
          0.18571428571428572,
          0.034482758620689655
         ],
         "yaxis": "y4"
        },
        {
         "hovertemplate": "<b>OLS trendline</b><br>Success Rate = 2.07329e-08 * Pop + 0.0898637<br>R<sup>2</sup>=0.006059<br><br>Year=2016<br>Pop=%{x}<br>Success Rate=%{y} <b>(trend)</b><extra></extra>",
         "legendgroup": "2016",
         "marker": {
          "color": "#ab63fa",
          "symbol": "circle"
         },
         "mode": "lines",
         "name": "2016",
         "showlegend": false,
         "type": "scatter",
         "x": [
          325,
          1223,
          1266,
          1984,
          2885,
          2951,
          2993,
          4439,
          4465,
          4932,
          5208,
          5446,
          5477,
          5582,
          7187,
          8122,
          9590,
          9781,
          9802,
          9898,
          10479,
          10645,
          10776,
          10826,
          11032,
          11324,
          16948,
          18158,
          21667,
          22752,
          23416,
          24984,
          29200,
          29276,
          33323,
          35100,
          38563,
          43432,
          44430,
          45926,
          46737,
          48147,
          49116,
          53676,
          61856,
          64089,
          66554,
          67977,
          79415,
          80855,
          81825,
          88488,
          99466,
          121737,
          126920,
          142424,
          204260,
          255994,
          321369,
          1251696,
          1367486
         ],
         "xaxis": "x4",
         "y": [
          0.08987043101754001,
          0.08988904914566204,
          0.08988994065959216,
          0.08990482686893694,
          0.08992350719570526,
          0.08992487556592359,
          0.0899257463469716,
          0.08995572609448214,
          0.08995626514941663,
          0.08996594740535536,
          0.08997166968081381,
          0.08997660410675261,
          0.08997724682609758,
          0.08997942377871763,
          0.0900127000544814,
          0.09003208529924098,
          0.09006252117015762,
          0.09006648115063791,
          0.09006691654116192,
          0.09006890689784312,
          0.09008095270234077,
          0.09008439436076868,
          0.09008711036832323,
          0.09008814701242802,
          0.09009241798613976,
          0.09009847198771173,
          0.09021507371661852,
          0.09024016050395443,
          0.0903129121872286,
          0.09033540736430254,
          0.09034917399801416,
          0.09038168315714037,
          0.09046909298805628,
          0.09047066868709555,
          0.09055457466093726,
          0.0905914169924215,
          0.09066321496311926,
          0.09076416336604372,
          0.09078485478237532,
          0.09081587117399065,
          0.09083268554137033,
          0.09086191890512542,
          0.09088200906787625,
          0.0909765510102331,
          0.09114614598577675,
          0.09119244251149668,
          0.09124354906586282,
          0.09127305195708516,
          0.09151019466249692,
          0.09154005001271488,
          0.0915601609083478,
          0.09169830410175213,
          0.09192590968139984,
          0.09238765169855542,
          0.09249511022645795,
          0.09281655283047126,
          0.09409859132774723,
          0.0951711862500914,
          0.0965265984171044,
          0.11581495841864481,
          0.11821561883651763
         ],
         "yaxis": "y4"
        }
       ],
       "layout": {
        "annotations": [
         {
          "font": {},
          "showarrow": false,
          "text": "Year=2004",
          "x": 0.1175,
          "xanchor": "center",
          "xref": "paper",
          "y": 1,
          "yanchor": "bottom",
          "yref": "paper"
         },
         {
          "font": {},
          "showarrow": false,
          "text": "Year=2008",
          "x": 0.3725,
          "xanchor": "center",
          "xref": "paper",
          "y": 1,
          "yanchor": "bottom",
          "yref": "paper"
         },
         {
          "font": {},
          "showarrow": false,
          "text": "Year=2012",
          "x": 0.6275,
          "xanchor": "center",
          "xref": "paper",
          "y": 1,
          "yanchor": "bottom",
          "yref": "paper"
         },
         {
          "font": {},
          "showarrow": false,
          "text": "Year=2016",
          "x": 0.8824999999999998,
          "xanchor": "center",
          "xref": "paper",
          "y": 1,
          "yanchor": "bottom",
          "yref": "paper"
         }
        ],
        "legend": {
         "title": {
          "text": "Year"
         },
         "tracegroupgap": 0
        },
        "template": {
         "data": {
          "bar": [
           {
            "error_x": {
             "color": "#2a3f5f"
            },
            "error_y": {
             "color": "#2a3f5f"
            },
            "marker": {
             "line": {
              "color": "#E5ECF6",
              "width": 0.5
             },
             "pattern": {
              "fillmode": "overlay",
              "size": 10,
              "solidity": 0.2
             }
            },
            "type": "bar"
           }
          ],
          "barpolar": [
           {
            "marker": {
             "line": {
              "color": "#E5ECF6",
              "width": 0.5
             },
             "pattern": {
              "fillmode": "overlay",
              "size": 10,
              "solidity": 0.2
             }
            },
            "type": "barpolar"
           }
          ],
          "carpet": [
           {
            "aaxis": {
             "endlinecolor": "#2a3f5f",
             "gridcolor": "white",
             "linecolor": "white",
             "minorgridcolor": "white",
             "startlinecolor": "#2a3f5f"
            },
            "baxis": {
             "endlinecolor": "#2a3f5f",
             "gridcolor": "white",
             "linecolor": "white",
             "minorgridcolor": "white",
             "startlinecolor": "#2a3f5f"
            },
            "type": "carpet"
           }
          ],
          "choropleth": [
           {
            "colorbar": {
             "outlinewidth": 0,
             "ticks": ""
            },
            "type": "choropleth"
           }
          ],
          "contour": [
           {
            "colorbar": {
             "outlinewidth": 0,
             "ticks": ""
            },
            "colorscale": [
             [
              0,
              "#0d0887"
             ],
             [
              0.1111111111111111,
              "#46039f"
             ],
             [
              0.2222222222222222,
              "#7201a8"
             ],
             [
              0.3333333333333333,
              "#9c179e"
             ],
             [
              0.4444444444444444,
              "#bd3786"
             ],
             [
              0.5555555555555556,
              "#d8576b"
             ],
             [
              0.6666666666666666,
              "#ed7953"
             ],
             [
              0.7777777777777778,
              "#fb9f3a"
             ],
             [
              0.8888888888888888,
              "#fdca26"
             ],
             [
              1,
              "#f0f921"
             ]
            ],
            "type": "contour"
           }
          ],
          "contourcarpet": [
           {
            "colorbar": {
             "outlinewidth": 0,
             "ticks": ""
            },
            "type": "contourcarpet"
           }
          ],
          "heatmap": [
           {
            "colorbar": {
             "outlinewidth": 0,
             "ticks": ""
            },
            "colorscale": [
             [
              0,
              "#0d0887"
             ],
             [
              0.1111111111111111,
              "#46039f"
             ],
             [
              0.2222222222222222,
              "#7201a8"
             ],
             [
              0.3333333333333333,
              "#9c179e"
             ],
             [
              0.4444444444444444,
              "#bd3786"
             ],
             [
              0.5555555555555556,
              "#d8576b"
             ],
             [
              0.6666666666666666,
              "#ed7953"
             ],
             [
              0.7777777777777778,
              "#fb9f3a"
             ],
             [
              0.8888888888888888,
              "#fdca26"
             ],
             [
              1,
              "#f0f921"
             ]
            ],
            "type": "heatmap"
           }
          ],
          "heatmapgl": [
           {
            "colorbar": {
             "outlinewidth": 0,
             "ticks": ""
            },
            "colorscale": [
             [
              0,
              "#0d0887"
             ],
             [
              0.1111111111111111,
              "#46039f"
             ],
             [
              0.2222222222222222,
              "#7201a8"
             ],
             [
              0.3333333333333333,
              "#9c179e"
             ],
             [
              0.4444444444444444,
              "#bd3786"
             ],
             [
              0.5555555555555556,
              "#d8576b"
             ],
             [
              0.6666666666666666,
              "#ed7953"
             ],
             [
              0.7777777777777778,
              "#fb9f3a"
             ],
             [
              0.8888888888888888,
              "#fdca26"
             ],
             [
              1,
              "#f0f921"
             ]
            ],
            "type": "heatmapgl"
           }
          ],
          "histogram": [
           {
            "marker": {
             "pattern": {
              "fillmode": "overlay",
              "size": 10,
              "solidity": 0.2
             }
            },
            "type": "histogram"
           }
          ],
          "histogram2d": [
           {
            "colorbar": {
             "outlinewidth": 0,
             "ticks": ""
            },
            "colorscale": [
             [
              0,
              "#0d0887"
             ],
             [
              0.1111111111111111,
              "#46039f"
             ],
             [
              0.2222222222222222,
              "#7201a8"
             ],
             [
              0.3333333333333333,
              "#9c179e"
             ],
             [
              0.4444444444444444,
              "#bd3786"
             ],
             [
              0.5555555555555556,
              "#d8576b"
             ],
             [
              0.6666666666666666,
              "#ed7953"
             ],
             [
              0.7777777777777778,
              "#fb9f3a"
             ],
             [
              0.8888888888888888,
              "#fdca26"
             ],
             [
              1,
              "#f0f921"
             ]
            ],
            "type": "histogram2d"
           }
          ],
          "histogram2dcontour": [
           {
            "colorbar": {
             "outlinewidth": 0,
             "ticks": ""
            },
            "colorscale": [
             [
              0,
              "#0d0887"
             ],
             [
              0.1111111111111111,
              "#46039f"
             ],
             [
              0.2222222222222222,
              "#7201a8"
             ],
             [
              0.3333333333333333,
              "#9c179e"
             ],
             [
              0.4444444444444444,
              "#bd3786"
             ],
             [
              0.5555555555555556,
              "#d8576b"
             ],
             [
              0.6666666666666666,
              "#ed7953"
             ],
             [
              0.7777777777777778,
              "#fb9f3a"
             ],
             [
              0.8888888888888888,
              "#fdca26"
             ],
             [
              1,
              "#f0f921"
             ]
            ],
            "type": "histogram2dcontour"
           }
          ],
          "mesh3d": [
           {
            "colorbar": {
             "outlinewidth": 0,
             "ticks": ""
            },
            "type": "mesh3d"
           }
          ],
          "parcoords": [
           {
            "line": {
             "colorbar": {
              "outlinewidth": 0,
              "ticks": ""
             }
            },
            "type": "parcoords"
           }
          ],
          "pie": [
           {
            "automargin": true,
            "type": "pie"
           }
          ],
          "scatter": [
           {
            "marker": {
             "colorbar": {
              "outlinewidth": 0,
              "ticks": ""
             }
            },
            "type": "scatter"
           }
          ],
          "scatter3d": [
           {
            "line": {
             "colorbar": {
              "outlinewidth": 0,
              "ticks": ""
             }
            },
            "marker": {
             "colorbar": {
              "outlinewidth": 0,
              "ticks": ""
             }
            },
            "type": "scatter3d"
           }
          ],
          "scattercarpet": [
           {
            "marker": {
             "colorbar": {
              "outlinewidth": 0,
              "ticks": ""
             }
            },
            "type": "scattercarpet"
           }
          ],
          "scattergeo": [
           {
            "marker": {
             "colorbar": {
              "outlinewidth": 0,
              "ticks": ""
             }
            },
            "type": "scattergeo"
           }
          ],
          "scattergl": [
           {
            "marker": {
             "colorbar": {
              "outlinewidth": 0,
              "ticks": ""
             }
            },
            "type": "scattergl"
           }
          ],
          "scattermapbox": [
           {
            "marker": {
             "colorbar": {
              "outlinewidth": 0,
              "ticks": ""
             }
            },
            "type": "scattermapbox"
           }
          ],
          "scatterpolar": [
           {
            "marker": {
             "colorbar": {
              "outlinewidth": 0,
              "ticks": ""
             }
            },
            "type": "scatterpolar"
           }
          ],
          "scatterpolargl": [
           {
            "marker": {
             "colorbar": {
              "outlinewidth": 0,
              "ticks": ""
             }
            },
            "type": "scatterpolargl"
           }
          ],
          "scatterternary": [
           {
            "marker": {
             "colorbar": {
              "outlinewidth": 0,
              "ticks": ""
             }
            },
            "type": "scatterternary"
           }
          ],
          "surface": [
           {
            "colorbar": {
             "outlinewidth": 0,
             "ticks": ""
            },
            "colorscale": [
             [
              0,
              "#0d0887"
             ],
             [
              0.1111111111111111,
              "#46039f"
             ],
             [
              0.2222222222222222,
              "#7201a8"
             ],
             [
              0.3333333333333333,
              "#9c179e"
             ],
             [
              0.4444444444444444,
              "#bd3786"
             ],
             [
              0.5555555555555556,
              "#d8576b"
             ],
             [
              0.6666666666666666,
              "#ed7953"
             ],
             [
              0.7777777777777778,
              "#fb9f3a"
             ],
             [
              0.8888888888888888,
              "#fdca26"
             ],
             [
              1,
              "#f0f921"
             ]
            ],
            "type": "surface"
           }
          ],
          "table": [
           {
            "cells": {
             "fill": {
              "color": "#EBF0F8"
             },
             "line": {
              "color": "white"
             }
            },
            "header": {
             "fill": {
              "color": "#C8D4E3"
             },
             "line": {
              "color": "white"
             }
            },
            "type": "table"
           }
          ]
         },
         "layout": {
          "annotationdefaults": {
           "arrowcolor": "#2a3f5f",
           "arrowhead": 0,
           "arrowwidth": 1
          },
          "autotypenumbers": "strict",
          "coloraxis": {
           "colorbar": {
            "outlinewidth": 0,
            "ticks": ""
           }
          },
          "colorscale": {
           "diverging": [
            [
             0,
             "#8e0152"
            ],
            [
             0.1,
             "#c51b7d"
            ],
            [
             0.2,
             "#de77ae"
            ],
            [
             0.3,
             "#f1b6da"
            ],
            [
             0.4,
             "#fde0ef"
            ],
            [
             0.5,
             "#f7f7f7"
            ],
            [
             0.6,
             "#e6f5d0"
            ],
            [
             0.7,
             "#b8e186"
            ],
            [
             0.8,
             "#7fbc41"
            ],
            [
             0.9,
             "#4d9221"
            ],
            [
             1,
             "#276419"
            ]
           ],
           "sequential": [
            [
             0,
             "#0d0887"
            ],
            [
             0.1111111111111111,
             "#46039f"
            ],
            [
             0.2222222222222222,
             "#7201a8"
            ],
            [
             0.3333333333333333,
             "#9c179e"
            ],
            [
             0.4444444444444444,
             "#bd3786"
            ],
            [
             0.5555555555555556,
             "#d8576b"
            ],
            [
             0.6666666666666666,
             "#ed7953"
            ],
            [
             0.7777777777777778,
             "#fb9f3a"
            ],
            [
             0.8888888888888888,
             "#fdca26"
            ],
            [
             1,
             "#f0f921"
            ]
           ],
           "sequentialminus": [
            [
             0,
             "#0d0887"
            ],
            [
             0.1111111111111111,
             "#46039f"
            ],
            [
             0.2222222222222222,
             "#7201a8"
            ],
            [
             0.3333333333333333,
             "#9c179e"
            ],
            [
             0.4444444444444444,
             "#bd3786"
            ],
            [
             0.5555555555555556,
             "#d8576b"
            ],
            [
             0.6666666666666666,
             "#ed7953"
            ],
            [
             0.7777777777777778,
             "#fb9f3a"
            ],
            [
             0.8888888888888888,
             "#fdca26"
            ],
            [
             1,
             "#f0f921"
            ]
           ]
          },
          "colorway": [
           "#636efa",
           "#EF553B",
           "#00cc96",
           "#ab63fa",
           "#FFA15A",
           "#19d3f3",
           "#FF6692",
           "#B6E880",
           "#FF97FF",
           "#FECB52"
          ],
          "font": {
           "color": "#2a3f5f"
          },
          "geo": {
           "bgcolor": "white",
           "lakecolor": "white",
           "landcolor": "#E5ECF6",
           "showlakes": true,
           "showland": true,
           "subunitcolor": "white"
          },
          "hoverlabel": {
           "align": "left"
          },
          "hovermode": "closest",
          "mapbox": {
           "style": "light"
          },
          "paper_bgcolor": "white",
          "plot_bgcolor": "#E5ECF6",
          "polar": {
           "angularaxis": {
            "gridcolor": "white",
            "linecolor": "white",
            "ticks": ""
           },
           "bgcolor": "#E5ECF6",
           "radialaxis": {
            "gridcolor": "white",
            "linecolor": "white",
            "ticks": ""
           }
          },
          "scene": {
           "xaxis": {
            "backgroundcolor": "#E5ECF6",
            "gridcolor": "white",
            "gridwidth": 2,
            "linecolor": "white",
            "showbackground": true,
            "ticks": "",
            "zerolinecolor": "white"
           },
           "yaxis": {
            "backgroundcolor": "#E5ECF6",
            "gridcolor": "white",
            "gridwidth": 2,
            "linecolor": "white",
            "showbackground": true,
            "ticks": "",
            "zerolinecolor": "white"
           },
           "zaxis": {
            "backgroundcolor": "#E5ECF6",
            "gridcolor": "white",
            "gridwidth": 2,
            "linecolor": "white",
            "showbackground": true,
            "ticks": "",
            "zerolinecolor": "white"
           }
          },
          "shapedefaults": {
           "line": {
            "color": "#2a3f5f"
           }
          },
          "ternary": {
           "aaxis": {
            "gridcolor": "white",
            "linecolor": "white",
            "ticks": ""
           },
           "baxis": {
            "gridcolor": "white",
            "linecolor": "white",
            "ticks": ""
           },
           "bgcolor": "#E5ECF6",
           "caxis": {
            "gridcolor": "white",
            "linecolor": "white",
            "ticks": ""
           }
          },
          "title": {
           "x": 0.05
          },
          "xaxis": {
           "automargin": true,
           "gridcolor": "white",
           "linecolor": "white",
           "ticks": "",
           "title": {
            "standoff": 15
           },
           "zerolinecolor": "white",
           "zerolinewidth": 2
          },
          "yaxis": {
           "automargin": true,
           "gridcolor": "white",
           "linecolor": "white",
           "ticks": "",
           "title": {
            "standoff": 15
           },
           "zerolinecolor": "white",
           "zerolinewidth": 2
          }
         }
        },
        "title": {
         "text": "Number of Competitors vs Number of Athletes"
        },
        "xaxis": {
         "anchor": "y",
         "domain": [
          0,
          0.235
         ],
         "title": {
          "text": "Pop"
         },
         "type": "log"
        },
        "xaxis2": {
         "anchor": "y2",
         "domain": [
          0.255,
          0.49
         ],
         "matches": "x",
         "title": {
          "text": "Pop"
         },
         "type": "log"
        },
        "xaxis3": {
         "anchor": "y3",
         "domain": [
          0.51,
          0.745
         ],
         "matches": "x",
         "title": {
          "text": "Pop"
         },
         "type": "log"
        },
        "xaxis4": {
         "anchor": "y4",
         "domain": [
          0.7649999999999999,
          0.9999999999999999
         ],
         "matches": "x",
         "title": {
          "text": "Pop"
         },
         "type": "log"
        },
        "yaxis": {
         "anchor": "x",
         "domain": [
          0,
          1
         ],
         "title": {
          "text": "Success Rate"
         }
        },
        "yaxis2": {
         "anchor": "x2",
         "domain": [
          0,
          1
         ],
         "matches": "y",
         "showticklabels": false
        },
        "yaxis3": {
         "anchor": "x3",
         "domain": [
          0,
          1
         ],
         "matches": "y",
         "showticklabels": false
        },
        "yaxis4": {
         "anchor": "x4",
         "domain": [
          0,
          1
         ],
         "matches": "y",
         "showticklabels": false
        }
       }
      }
     },
     "metadata": {},
     "output_type": "display_data"
    }
   ],
   "source": [
    "fig = px.scatter(\n",
    "                 od,\n",
    "                 x = od[\"Pop\"],\n",
    "                 y = od[\"Success Rate\"],\n",
    "                 trendline=\"ols\",\n",
    "                 labels={\"Athletes\" :\"Total Number of Competitors\",\n",
    "                 \"Total\" : \"Total Number of Medals\"},\n",
    "                 title=f\"Number of Competitors vs Number of Athletes\",\n",
    "                 hover_data=[\"Country\"],\n",
    "                 log_x=True,\n",
    "                 facet_col= \"Year\",\n",
    "                 color = \"Year\"\n",
    "                )\n",
    "fig.show()"
   ]
  },
  {
   "cell_type": "code",
   "execution_count": null,
   "metadata": {},
   "outputs": [
    {
     "data": {
      "application/vnd.plotly.v1+json": {
       "config": {
        "plotlyServerURL": "https://plot.ly"
       },
       "data": [
        {
         "customdata": [
          [
           "United States"
          ],
          [
           "China"
          ],
          [
           "Great Britain"
          ],
          [
           "Russia"
          ],
          [
           "South Korea"
          ],
          [
           "Germany"
          ],
          [
           "France"
          ],
          [
           "Australia"
          ],
          [
           "Italy"
          ],
          [
           "Hungary"
          ],
          [
           "Japan"
          ],
          [
           "Iran"
          ],
          [
           "Netherlands"
          ],
          [
           "New Zealand"
          ],
          [
           "Ukraine"
          ],
          [
           "Cuba"
          ],
          [
           "Spain"
          ],
          [
           "Jamaica"
          ],
          [
           "Czech Republic"
          ],
          [
           "South Africa"
          ],
          [
           "North Korea"
          ],
          [
           "Brazil"
          ],
          [
           "Kazakhstan"
          ],
          [
           "Poland"
          ],
          [
           "Ethiopia"
          ],
          [
           "Croatia"
          ],
          [
           "Canada"
          ],
          [
           "Belarus"
          ],
          [
           "Kenya"
          ],
          [
           "Denmark"
          ],
          [
           "Romania"
          ],
          [
           "Azerbaijan"
          ],
          [
           "Switzerland"
          ],
          [
           "Norway"
          ],
          [
           "Lithuania"
          ],
          [
           "Sweden"
          ],
          [
           "Colombia"
          ],
          [
           "Mexico"
          ],
          [
           "Georgia"
          ],
          [
           "Argentina"
          ],
          [
           "Slovenia"
          ],
          [
           "Trinidad and Tobago"
          ],
          [
           "Turkey"
          ],
          [
           "Dominican Republic"
          ],
          [
           "Chinese Taipei"
          ],
          [
           "Bahamas"
          ],
          [
           "Venezuela"
          ],
          [
           "Egypt"
          ],
          [
           "India"
          ],
          [
           "Mongolia"
          ],
          [
           "Thailand"
          ],
          [
           "Bulgaria"
          ],
          [
           "Finland"
          ],
          [
           "Indonesia"
          ],
          [
           "Slovakia"
          ],
          [
           "Belgium"
          ],
          [
           "Estonia"
          ],
          [
           "Portugal"
          ],
          [
           "Uzbekistan"
          ],
          [
           "Greece"
          ],
          [
           "Morocco"
          ]
         ],
         "hovertemplate": "Average Number of Competitors from 2004-2016=%{x}<br>Average Total=%{y}<br>Country=%{customdata[0]}<extra></extra>",
         "legendgroup": "",
         "marker": {
          "color": "#636efa",
          "symbol": "circle"
         },
         "mode": "markers",
         "name": "",
         "orientation": "v",
         "showlegend": false,
         "type": "scatter",
         "x": [
          551.25,
          458,
          370.5,
          407.75,
          246,
          430.25,
          340,
          433.5,
          326.75,
          174.25,
          322,
          52.25,
          218,
          178.25,
          233.25,
          132.5,
          297.75,
          53.75,
          128.5,
          126,
          46.25,
          310.75,
          116,
          230.75,
          29.25,
          93.75,
          296.5,
          154.5,
          59.5,
          102.75,
          102.5,
          47.25,
          97,
          65.75,
          64.75,
          133.75,
          92,
          105.25,
          35.25,
          159.75,
          66.75,
          27.75,
          87.25,
          30.5,
          68,
          24.75,
          78.5,
          108.25,
          82.5,
          30.25,
          46,
          70.25,
          55.5,
          28,
          54.75,
          92.25,
          41.75,
          81.75,
          62.75,
          195.25,
          57.5
         ],
         "xaxis": "x",
         "y": [
          109.5,
          81,
          53.25,
          68.25,
          28.25,
          44,
          38.25,
          40,
          28.75,
          15,
          35.25,
          7.25,
          19.25,
          11.25,
          18.5,
          20.75,
          19,
          9.75,
          9.25,
          5.75,
          6.25,
          15.75,
          11.25,
          10.75,
          7.5,
          6.5,
          18,
          11.5,
          12.25,
          9.75,
          9.75,
          9.5,
          5.75,
          5.75,
          4.25,
          7.75,
          5.5,
          5.25,
          6,
          5,
          4.25,
          2,
          6.75,
          1.5,
          3.5,
          1.75,
          1.75,
          3.5,
          3,
          3,
          6,
          5.75,
          2.5,
          4,
          5,
          3.5,
          2,
          1.75,
          6.25,
          6.75,
          1.75
         ],
         "yaxis": "y"
        },
        {
         "hovertemplate": "<b>OLS trendline</b><br>Average Total = 0.137231 * Average Athletes + -5.76966<br>R<sup>2</sup>=0.776201<br><br>Average Number of Competitors from 2004-2016=%{x}<br>Average Total=%{y} <b>(trend)</b><extra></extra>",
         "legendgroup": "",
         "marker": {
          "color": "#636efa",
          "symbol": "circle"
         },
         "mode": "lines",
         "name": "",
         "showlegend": false,
         "type": "scatter",
         "x": [
          24.75,
          27.75,
          28,
          29.25,
          30.25,
          30.5,
          35.25,
          41.75,
          46,
          46.25,
          47.25,
          52.25,
          53.75,
          54.75,
          55.5,
          57.5,
          59.5,
          62.75,
          64.75,
          65.75,
          66.75,
          68,
          70.25,
          78.5,
          81.75,
          82.5,
          87.25,
          92,
          92.25,
          93.75,
          97,
          102.5,
          102.75,
          105.25,
          108.25,
          116,
          126,
          128.5,
          132.5,
          133.75,
          154.5,
          159.75,
          174.25,
          178.25,
          195.25,
          218,
          230.75,
          233.25,
          246,
          296.5,
          297.75,
          310.75,
          322,
          326.75,
          340,
          370.5,
          407.75,
          430.25,
          433.5,
          458,
          551.25
         ],
         "xaxis": "x",
         "y": [
          -2.3731831984374883,
          -1.96148932488535,
          -1.9271815020893381,
          -1.7556423881092806,
          -1.618411096925234,
          -1.5841032741292231,
          -0.9322546410050041,
          -0.04025124830870386,
          0.5429817392234924,
          0.5772895620195042,
          0.7145208532035499,
          1.4006773091237807,
          1.60652424589985,
          1.7437555370838957,
          1.8466790054719304,
          2.1211415878400226,
          2.395604170208115,
          2.8416058665562645,
          3.1160684489243575,
          3.253299740108403,
          3.3905310312924506,
          3.562070145272507,
          3.8708405504366112,
          5.002998702704993,
          5.449000399053142,
          5.551923867441177,
          6.203772500565396,
          6.855621133689615,
          6.889928956485626,
          7.095775893261695,
          7.541777589609845,
          8.296549691122099,
          8.330857513918112,
          8.673935741878227,
          9.085629615430365,
          10.149172122106723,
          11.521485033947185,
          11.864563261907298,
          12.413488426643484,
          12.58502754062354,
          15.432576832692499,
          16.15304111140874,
          18.142894833577408,
          18.691819998313598,
          21.02475194844238,
          24.14676382287943,
          25.896462785476018,
          26.23954101343613,
          27.98923997603272,
          34.919420180827046,
          35.09095929480711,
          36.874966080199705,
          38.418818106020225,
          39.07066673914444,
          40.88898134733306,
          45.07453572844646,
          50.18640132505218,
          53.27410537669322,
          53.72010707304137,
          57.082273707050504,
          69.87909160996281
         ],
         "yaxis": "y"
        }
       ],
       "layout": {
        "legend": {
         "tracegroupgap": 0
        },
        "template": {
         "data": {
          "bar": [
           {
            "error_x": {
             "color": "#2a3f5f"
            },
            "error_y": {
             "color": "#2a3f5f"
            },
            "marker": {
             "line": {
              "color": "#E5ECF6",
              "width": 0.5
             },
             "pattern": {
              "fillmode": "overlay",
              "size": 10,
              "solidity": 0.2
             }
            },
            "type": "bar"
           }
          ],
          "barpolar": [
           {
            "marker": {
             "line": {
              "color": "#E5ECF6",
              "width": 0.5
             },
             "pattern": {
              "fillmode": "overlay",
              "size": 10,
              "solidity": 0.2
             }
            },
            "type": "barpolar"
           }
          ],
          "carpet": [
           {
            "aaxis": {
             "endlinecolor": "#2a3f5f",
             "gridcolor": "white",
             "linecolor": "white",
             "minorgridcolor": "white",
             "startlinecolor": "#2a3f5f"
            },
            "baxis": {
             "endlinecolor": "#2a3f5f",
             "gridcolor": "white",
             "linecolor": "white",
             "minorgridcolor": "white",
             "startlinecolor": "#2a3f5f"
            },
            "type": "carpet"
           }
          ],
          "choropleth": [
           {
            "colorbar": {
             "outlinewidth": 0,
             "ticks": ""
            },
            "type": "choropleth"
           }
          ],
          "contour": [
           {
            "colorbar": {
             "outlinewidth": 0,
             "ticks": ""
            },
            "colorscale": [
             [
              0,
              "#0d0887"
             ],
             [
              0.1111111111111111,
              "#46039f"
             ],
             [
              0.2222222222222222,
              "#7201a8"
             ],
             [
              0.3333333333333333,
              "#9c179e"
             ],
             [
              0.4444444444444444,
              "#bd3786"
             ],
             [
              0.5555555555555556,
              "#d8576b"
             ],
             [
              0.6666666666666666,
              "#ed7953"
             ],
             [
              0.7777777777777778,
              "#fb9f3a"
             ],
             [
              0.8888888888888888,
              "#fdca26"
             ],
             [
              1,
              "#f0f921"
             ]
            ],
            "type": "contour"
           }
          ],
          "contourcarpet": [
           {
            "colorbar": {
             "outlinewidth": 0,
             "ticks": ""
            },
            "type": "contourcarpet"
           }
          ],
          "heatmap": [
           {
            "colorbar": {
             "outlinewidth": 0,
             "ticks": ""
            },
            "colorscale": [
             [
              0,
              "#0d0887"
             ],
             [
              0.1111111111111111,
              "#46039f"
             ],
             [
              0.2222222222222222,
              "#7201a8"
             ],
             [
              0.3333333333333333,
              "#9c179e"
             ],
             [
              0.4444444444444444,
              "#bd3786"
             ],
             [
              0.5555555555555556,
              "#d8576b"
             ],
             [
              0.6666666666666666,
              "#ed7953"
             ],
             [
              0.7777777777777778,
              "#fb9f3a"
             ],
             [
              0.8888888888888888,
              "#fdca26"
             ],
             [
              1,
              "#f0f921"
             ]
            ],
            "type": "heatmap"
           }
          ],
          "heatmapgl": [
           {
            "colorbar": {
             "outlinewidth": 0,
             "ticks": ""
            },
            "colorscale": [
             [
              0,
              "#0d0887"
             ],
             [
              0.1111111111111111,
              "#46039f"
             ],
             [
              0.2222222222222222,
              "#7201a8"
             ],
             [
              0.3333333333333333,
              "#9c179e"
             ],
             [
              0.4444444444444444,
              "#bd3786"
             ],
             [
              0.5555555555555556,
              "#d8576b"
             ],
             [
              0.6666666666666666,
              "#ed7953"
             ],
             [
              0.7777777777777778,
              "#fb9f3a"
             ],
             [
              0.8888888888888888,
              "#fdca26"
             ],
             [
              1,
              "#f0f921"
             ]
            ],
            "type": "heatmapgl"
           }
          ],
          "histogram": [
           {
            "marker": {
             "pattern": {
              "fillmode": "overlay",
              "size": 10,
              "solidity": 0.2
             }
            },
            "type": "histogram"
           }
          ],
          "histogram2d": [
           {
            "colorbar": {
             "outlinewidth": 0,
             "ticks": ""
            },
            "colorscale": [
             [
              0,
              "#0d0887"
             ],
             [
              0.1111111111111111,
              "#46039f"
             ],
             [
              0.2222222222222222,
              "#7201a8"
             ],
             [
              0.3333333333333333,
              "#9c179e"
             ],
             [
              0.4444444444444444,
              "#bd3786"
             ],
             [
              0.5555555555555556,
              "#d8576b"
             ],
             [
              0.6666666666666666,
              "#ed7953"
             ],
             [
              0.7777777777777778,
              "#fb9f3a"
             ],
             [
              0.8888888888888888,
              "#fdca26"
             ],
             [
              1,
              "#f0f921"
             ]
            ],
            "type": "histogram2d"
           }
          ],
          "histogram2dcontour": [
           {
            "colorbar": {
             "outlinewidth": 0,
             "ticks": ""
            },
            "colorscale": [
             [
              0,
              "#0d0887"
             ],
             [
              0.1111111111111111,
              "#46039f"
             ],
             [
              0.2222222222222222,
              "#7201a8"
             ],
             [
              0.3333333333333333,
              "#9c179e"
             ],
             [
              0.4444444444444444,
              "#bd3786"
             ],
             [
              0.5555555555555556,
              "#d8576b"
             ],
             [
              0.6666666666666666,
              "#ed7953"
             ],
             [
              0.7777777777777778,
              "#fb9f3a"
             ],
             [
              0.8888888888888888,
              "#fdca26"
             ],
             [
              1,
              "#f0f921"
             ]
            ],
            "type": "histogram2dcontour"
           }
          ],
          "mesh3d": [
           {
            "colorbar": {
             "outlinewidth": 0,
             "ticks": ""
            },
            "type": "mesh3d"
           }
          ],
          "parcoords": [
           {
            "line": {
             "colorbar": {
              "outlinewidth": 0,
              "ticks": ""
             }
            },
            "type": "parcoords"
           }
          ],
          "pie": [
           {
            "automargin": true,
            "type": "pie"
           }
          ],
          "scatter": [
           {
            "marker": {
             "colorbar": {
              "outlinewidth": 0,
              "ticks": ""
             }
            },
            "type": "scatter"
           }
          ],
          "scatter3d": [
           {
            "line": {
             "colorbar": {
              "outlinewidth": 0,
              "ticks": ""
             }
            },
            "marker": {
             "colorbar": {
              "outlinewidth": 0,
              "ticks": ""
             }
            },
            "type": "scatter3d"
           }
          ],
          "scattercarpet": [
           {
            "marker": {
             "colorbar": {
              "outlinewidth": 0,
              "ticks": ""
             }
            },
            "type": "scattercarpet"
           }
          ],
          "scattergeo": [
           {
            "marker": {
             "colorbar": {
              "outlinewidth": 0,
              "ticks": ""
             }
            },
            "type": "scattergeo"
           }
          ],
          "scattergl": [
           {
            "marker": {
             "colorbar": {
              "outlinewidth": 0,
              "ticks": ""
             }
            },
            "type": "scattergl"
           }
          ],
          "scattermapbox": [
           {
            "marker": {
             "colorbar": {
              "outlinewidth": 0,
              "ticks": ""
             }
            },
            "type": "scattermapbox"
           }
          ],
          "scatterpolar": [
           {
            "marker": {
             "colorbar": {
              "outlinewidth": 0,
              "ticks": ""
             }
            },
            "type": "scatterpolar"
           }
          ],
          "scatterpolargl": [
           {
            "marker": {
             "colorbar": {
              "outlinewidth": 0,
              "ticks": ""
             }
            },
            "type": "scatterpolargl"
           }
          ],
          "scatterternary": [
           {
            "marker": {
             "colorbar": {
              "outlinewidth": 0,
              "ticks": ""
             }
            },
            "type": "scatterternary"
           }
          ],
          "surface": [
           {
            "colorbar": {
             "outlinewidth": 0,
             "ticks": ""
            },
            "colorscale": [
             [
              0,
              "#0d0887"
             ],
             [
              0.1111111111111111,
              "#46039f"
             ],
             [
              0.2222222222222222,
              "#7201a8"
             ],
             [
              0.3333333333333333,
              "#9c179e"
             ],
             [
              0.4444444444444444,
              "#bd3786"
             ],
             [
              0.5555555555555556,
              "#d8576b"
             ],
             [
              0.6666666666666666,
              "#ed7953"
             ],
             [
              0.7777777777777778,
              "#fb9f3a"
             ],
             [
              0.8888888888888888,
              "#fdca26"
             ],
             [
              1,
              "#f0f921"
             ]
            ],
            "type": "surface"
           }
          ],
          "table": [
           {
            "cells": {
             "fill": {
              "color": "#EBF0F8"
             },
             "line": {
              "color": "white"
             }
            },
            "header": {
             "fill": {
              "color": "#C8D4E3"
             },
             "line": {
              "color": "white"
             }
            },
            "type": "table"
           }
          ]
         },
         "layout": {
          "annotationdefaults": {
           "arrowcolor": "#2a3f5f",
           "arrowhead": 0,
           "arrowwidth": 1
          },
          "autotypenumbers": "strict",
          "coloraxis": {
           "colorbar": {
            "outlinewidth": 0,
            "ticks": ""
           }
          },
          "colorscale": {
           "diverging": [
            [
             0,
             "#8e0152"
            ],
            [
             0.1,
             "#c51b7d"
            ],
            [
             0.2,
             "#de77ae"
            ],
            [
             0.3,
             "#f1b6da"
            ],
            [
             0.4,
             "#fde0ef"
            ],
            [
             0.5,
             "#f7f7f7"
            ],
            [
             0.6,
             "#e6f5d0"
            ],
            [
             0.7,
             "#b8e186"
            ],
            [
             0.8,
             "#7fbc41"
            ],
            [
             0.9,
             "#4d9221"
            ],
            [
             1,
             "#276419"
            ]
           ],
           "sequential": [
            [
             0,
             "#0d0887"
            ],
            [
             0.1111111111111111,
             "#46039f"
            ],
            [
             0.2222222222222222,
             "#7201a8"
            ],
            [
             0.3333333333333333,
             "#9c179e"
            ],
            [
             0.4444444444444444,
             "#bd3786"
            ],
            [
             0.5555555555555556,
             "#d8576b"
            ],
            [
             0.6666666666666666,
             "#ed7953"
            ],
            [
             0.7777777777777778,
             "#fb9f3a"
            ],
            [
             0.8888888888888888,
             "#fdca26"
            ],
            [
             1,
             "#f0f921"
            ]
           ],
           "sequentialminus": [
            [
             0,
             "#0d0887"
            ],
            [
             0.1111111111111111,
             "#46039f"
            ],
            [
             0.2222222222222222,
             "#7201a8"
            ],
            [
             0.3333333333333333,
             "#9c179e"
            ],
            [
             0.4444444444444444,
             "#bd3786"
            ],
            [
             0.5555555555555556,
             "#d8576b"
            ],
            [
             0.6666666666666666,
             "#ed7953"
            ],
            [
             0.7777777777777778,
             "#fb9f3a"
            ],
            [
             0.8888888888888888,
             "#fdca26"
            ],
            [
             1,
             "#f0f921"
            ]
           ]
          },
          "colorway": [
           "#636efa",
           "#EF553B",
           "#00cc96",
           "#ab63fa",
           "#FFA15A",
           "#19d3f3",
           "#FF6692",
           "#B6E880",
           "#FF97FF",
           "#FECB52"
          ],
          "font": {
           "color": "#2a3f5f"
          },
          "geo": {
           "bgcolor": "white",
           "lakecolor": "white",
           "landcolor": "#E5ECF6",
           "showlakes": true,
           "showland": true,
           "subunitcolor": "white"
          },
          "hoverlabel": {
           "align": "left"
          },
          "hovermode": "closest",
          "mapbox": {
           "style": "light"
          },
          "paper_bgcolor": "white",
          "plot_bgcolor": "#E5ECF6",
          "polar": {
           "angularaxis": {
            "gridcolor": "white",
            "linecolor": "white",
            "ticks": ""
           },
           "bgcolor": "#E5ECF6",
           "radialaxis": {
            "gridcolor": "white",
            "linecolor": "white",
            "ticks": ""
           }
          },
          "scene": {
           "xaxis": {
            "backgroundcolor": "#E5ECF6",
            "gridcolor": "white",
            "gridwidth": 2,
            "linecolor": "white",
            "showbackground": true,
            "ticks": "",
            "zerolinecolor": "white"
           },
           "yaxis": {
            "backgroundcolor": "#E5ECF6",
            "gridcolor": "white",
            "gridwidth": 2,
            "linecolor": "white",
            "showbackground": true,
            "ticks": "",
            "zerolinecolor": "white"
           },
           "zaxis": {
            "backgroundcolor": "#E5ECF6",
            "gridcolor": "white",
            "gridwidth": 2,
            "linecolor": "white",
            "showbackground": true,
            "ticks": "",
            "zerolinecolor": "white"
           }
          },
          "shapedefaults": {
           "line": {
            "color": "#2a3f5f"
           }
          },
          "ternary": {
           "aaxis": {
            "gridcolor": "white",
            "linecolor": "white",
            "ticks": ""
           },
           "baxis": {
            "gridcolor": "white",
            "linecolor": "white",
            "ticks": ""
           },
           "bgcolor": "#E5ECF6",
           "caxis": {
            "gridcolor": "white",
            "linecolor": "white",
            "ticks": ""
           }
          },
          "title": {
           "x": 0.05
          },
          "xaxis": {
           "automargin": true,
           "gridcolor": "white",
           "linecolor": "white",
           "ticks": "",
           "title": {
            "standoff": 15
           },
           "zerolinecolor": "white",
           "zerolinewidth": 2
          },
          "yaxis": {
           "automargin": true,
           "gridcolor": "white",
           "linecolor": "white",
           "ticks": "",
           "title": {
            "standoff": 15
           },
           "zerolinecolor": "white",
           "zerolinewidth": 2
          }
         }
        },
        "title": {
         "text": "Average Number of Competitors vs Average Number of Athletes"
        },
        "xaxis": {
         "anchor": "y",
         "domain": [
          0,
          1
         ],
         "title": {
          "text": "Average Number of Competitors from 2004-2016"
         },
         "type": "log"
        },
        "yaxis": {
         "anchor": "x",
         "domain": [
          0,
          1
         ],
         "title": {
          "text": "Average Total"
         }
        }
       }
      }
     },
     "metadata": {},
     "output_type": "display_data"
    }
   ],
   "source": [
    "fig = px.scatter(\n",
    "                 oad,\n",
    "                 x = oad[\"Average Athletes\"],\n",
    "                 y = oad[\"Average Total\"],\n",
    "                 trendline=\"ols\",\n",
    "                 labels={\"Average Athletes\" :\"Average Number of Competitors from 2004-2016\",\n",
    "                 \"Average Plot\" : \"Total Number of Medals from 2004-2016\"},\n",
    "                 title=f\"Average Number of Competitors vs Average Number of Athletes\",\n",
    "                 hover_data=[\"Country\"],\n",
    "                 log_x=True,\n",
    "                )\n",
    "fig.show()"
   ]
  }
 ],
 "metadata": {
  "interpreter": {
   "hash": "215e38ef8319e1cae6b3dde5700c3b8f4291d7f7fc9767af33ad694aef458a78"
  },
  "kernelspec": {
   "display_name": "Python 3 (ipykernel)",
   "language": "python",
   "name": "python3"
  },
  "language_info": {
   "codemirror_mode": {
    "name": "ipython",
    "version": 3
   },
   "file_extension": ".py",
   "mimetype": "text/x-python",
   "name": "python",
   "nbconvert_exporter": "python",
   "pygments_lexer": "ipython3",
   "version": "3.9.7"
  }
 },
 "nbformat": 4,
 "nbformat_minor": 4
}
