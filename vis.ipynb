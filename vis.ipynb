{
 "cells": [
  {
   "cell_type": "code",
   "execution_count": null,
   "metadata": {},
   "outputs": [],
   "source": [
    "%load_ext autoreload\n",
    "%autoreload 2"
   ]
  },
  {
   "cell_type": "code",
   "execution_count": null,
   "metadata": {},
   "outputs": [],
   "source": [
    "import pandas as pd\n",
    "from vis_helpers import *\n",
    "import grama as gr\n",
    "olympics_dataframe = pd.read_csv(\"data/olympic_gdp_population_data_no_nans.csv\")"
   ]
  },
  {
   "cell_type": "code",
   "execution_count": null,
   "metadata": {},
   "outputs": [],
   "source": [
    "od = (\n",
    "    olympics_dataframe\n",
    "    >> gr.tf_pivot_longer(\n",
    "        columns=[\"Gold-2004\", \"Silver-2004\", \"Bronze-2004\", \"Total-2004\", \"Weighted-2004\", \"GDP-2004\", \"Pop-2004\",\n",
    "                 \"Gold-2008\", \"Silver-2008\", \"Bronze-2008\", \"Total-2008\", \"Weighted-2008\", \"GDP-2008\", \"Pop-2008\",\n",
    "                 \"Gold-2012\", \"Silver-2012\", \"Bronze-2012\", \"Total-2012\", \"Weighted-2012\", \"GDP-2012\", \"Pop-2012\",\n",
    "                 \"Gold-2016\", \"Silver-2016\", \"Bronze-2016\", \"Total-2016\", \"Weighted-2016\", \"GDP-2016\", \"Pop-2016\",],\n",
    "        names_to=(\"Var\"),\n",
    "        values_to=\"val\",\n",
    "    )\n",
    "    >> gr.tf_separate(\n",
    "        column=\"Var\",\n",
    "        into=[\"Type\", \"Year\"],\n",
    "        sep=\"-\",\n",
    "    )\n",
    "    >> gr.tf_pivot_wider(\n",
    "        names_from = \"Type\",\n",
    "        values_from = \"val\"\n",
    "    )\n",
    ")"
   ]
  },
  {
   "cell_type": "code",
   "execution_count": 98,
   "metadata": {},
   "outputs": [],
   "source": [
    "oad = pd.DataFrame()\n",
    "oad[\"Country\"] = olympics_dataframe[\"Country\"]\n",
    "oad[\"Average Total\"] = (olympics_dataframe[f\"Total-2004\"] + olympics_dataframe[\"Total-2008\"] + olympics_dataframe[\"Total-2012\"] + olympics_dataframe[\"Total-2016\"]) / 4\n",
    "oad[\"Average GDP\"] = (olympics_dataframe[f\"GDP-2004\"] + olympics_dataframe[\"GDP-2008\"] + olympics_dataframe[\"GDP-2012\"] + olympics_dataframe[\"GDP-2016\"]) / 4\n",
    "oad[\"Average Pop\"] = (olympics_dataframe[f\"Pop-2004\"] + olympics_dataframe[\"Pop-2008\"] + olympics_dataframe[\"Pop-2012\"] + olympics_dataframe[\"Pop-2016\"]) / 4 * 1000"
   ]
  },
  {
   "cell_type": "code",
   "execution_count": 99,
   "metadata": {},
   "outputs": [
    {
     "data": {
      "application/vnd.plotly.v1+json": {
       "config": {
        "plotlyServerURL": "https://plot.ly"
       },
       "data": [
        {
         "customdata": [
          [
           "United States"
          ],
          [
           "China"
          ],
          [
           "Great Britain"
          ],
          [
           "Russia"
          ],
          [
           "South Korea"
          ],
          [
           "Germany"
          ],
          [
           "France"
          ],
          [
           "Australia"
          ],
          [
           "Italy"
          ],
          [
           "Hungary"
          ],
          [
           "Japan"
          ],
          [
           "Iran"
          ],
          [
           "Netherlands"
          ],
          [
           "New Zealand"
          ],
          [
           "Ukraine"
          ],
          [
           "Cuba"
          ],
          [
           "Spain"
          ],
          [
           "Jamaica"
          ],
          [
           "Czech Republic"
          ],
          [
           "South Africa"
          ],
          [
           "North Korea"
          ],
          [
           "Brazil"
          ],
          [
           "Kazakhstan"
          ],
          [
           "Poland"
          ],
          [
           "Ethiopia"
          ],
          [
           "Croatia"
          ],
          [
           "Canada"
          ],
          [
           "Belarus"
          ],
          [
           "Kenya"
          ],
          [
           "Denmark"
          ],
          [
           "Romania"
          ],
          [
           "Azerbaijan"
          ],
          [
           "Switzerland"
          ],
          [
           "Norway"
          ],
          [
           "Lithuania"
          ],
          [
           "Sweden"
          ],
          [
           "Colombia"
          ],
          [
           "Mexico"
          ],
          [
           "Georgia"
          ],
          [
           "Argentina"
          ],
          [
           "Slovenia"
          ],
          [
           "Trinidad and Tobago"
          ],
          [
           "Turkey"
          ],
          [
           "Dominican Republic"
          ],
          [
           "Chinese Taipei"
          ],
          [
           "Bahamas"
          ],
          [
           "Venezuela"
          ],
          [
           "Egypt"
          ],
          [
           "India"
          ],
          [
           "Mongolia"
          ],
          [
           "Thailand"
          ],
          [
           "Bulgaria"
          ],
          [
           "Finland"
          ],
          [
           "Indonesia"
          ],
          [
           "Slovakia"
          ],
          [
           "Belgium"
          ],
          [
           "Estonia"
          ],
          [
           "Portugal"
          ],
          [
           "Uzbekistan"
          ],
          [
           "Greece"
          ],
          [
           "Morocco"
          ]
         ],
         "hovertemplate": "GDP (per capita) in dollars=%{x}<br>Average Total Olympic medals=%{y}<br>Country=%{customdata[0]}<extra></extra>",
         "legendgroup": "",
         "marker": {
          "color": "#636efa",
          "symbol": "circle"
         },
         "mode": "markers",
         "name": "",
         "orientation": "v",
         "showlegend": false,
         "type": "scatter",
         "x": [
          49922.5,
          9112.75,
          37752.75,
          21202.75,
          30886.5,
          41603.5,
          38282.5,
          41489.5,
          36366.25,
          23105,
          36154.5,
          14800,
          45762.5,
          32512.25,
          9071,
          5722.5,
          32370.25,
          8618.25,
          28733.5,
          12460.25,
          577.25,
          13339.25,
          18916.75,
          21511,
          1231,
          20852.75,
          40863.5,
          14560.25,
          3067.25,
          44776.5,
          18250.75,
          12230,
          57695.75,
          59706,
          23243.5,
          43016.5,
          11275.5,
          16661.75,
          8585,
          17454.75,
          28867,
          27380.5,
          19276.25,
          11786.5,
          37631.75,
          32640,
          15666.5,
          10137.75,
          4176,
          8227,
          13338.5,
          15247.25,
          40042.5,
          8540.5,
          24348.25,
          41098.5,
          25067,
          26861.75,
          5307.75,
          27033,
          6221
         ],
         "xaxis": "x",
         "y": [
          109.5,
          81,
          53.25,
          68.25,
          28.25,
          44,
          38.25,
          40,
          28.75,
          15,
          35.25,
          7.25,
          19.25,
          11.25,
          18.5,
          20.75,
          19,
          9.75,
          9.25,
          5.75,
          6.25,
          15.75,
          11.25,
          10.75,
          7.5,
          6.5,
          18,
          11.5,
          12.25,
          9.75,
          9.75,
          9.5,
          5.75,
          5.75,
          4.25,
          7.75,
          5.5,
          5.25,
          6,
          5,
          4.25,
          2,
          6.75,
          1.5,
          3.5,
          1.75,
          1.75,
          3.5,
          3,
          3,
          6,
          5.75,
          2.5,
          4,
          5,
          3.5,
          2,
          1.75,
          6.25,
          6.75,
          1.75
         ],
         "yaxis": "y"
        },
        {
         "hovertemplate": "<b>OLS trendline</b><br>Average Total = 0.000372206 * Average GDP + 6.21743<br>R<sup>2</sup>=0.072557<br><br>GDP (per capita) in dollars=%{x}<br>Average Total Olympic medals=%{y} <b>(trend)</b><extra></extra>",
         "legendgroup": "",
         "marker": {
          "color": "#636efa",
          "symbol": "circle"
         },
         "mode": "lines",
         "name": "",
         "showlegend": false,
         "type": "scatter",
         "x": [
          577.25,
          1231,
          3067.25,
          4176,
          5307.75,
          5722.5,
          6221,
          8227,
          8540.5,
          8585,
          8618.25,
          9071,
          9112.75,
          10137.75,
          11275.5,
          11786.5,
          12230,
          12460.25,
          13338.5,
          13339.25,
          14560.25,
          14800,
          15247.25,
          15666.5,
          16661.75,
          17454.75,
          18250.75,
          18916.75,
          19276.25,
          20852.75,
          21202.75,
          21511,
          23105,
          23243.5,
          24348.25,
          25067,
          26861.75,
          27033,
          27380.5,
          28733.5,
          28867,
          30886.5,
          32370.25,
          32512.25,
          32640,
          36154.5,
          36366.25,
          37631.75,
          37752.75,
          38282.5,
          40042.5,
          40863.5,
          41098.5,
          41489.5,
          41603.5,
          43016.5,
          44776.5,
          45762.5,
          49922.5,
          57695.75,
          59706
         ],
         "xaxis": "x",
         "y": [
          6.43228451691351,
          6.675614156902673,
          7.359077333086382,
          7.771760680448499,
          8.193004764666831,
          8.347377182541408,
          8.532921848751117,
          9.279566984993199,
          9.396253550402916,
          9.41281671518994,
          9.425192563036425,
          9.593708807021272,
          9.609248405445054,
          9.99075950447204,
          10.414236824391992,
          10.60443406498008,
          10.769507403924926,
          10.855207823974649,
          11.182097699799478,
          11.182376854262179,
          11.636840319542129,
          11.726076696119417,
          11.892545807377777,
          12.04859315202857,
          12.419031124035016,
          12.714190442599309,
          13.01046637901441,
          13.258355541894385,
          13.392163581016533,
          13.978946261617548,
          14.109218344212128,
          14.223950828382927,
          14.817247113113673,
          14.8687976372261,
          15.279992160787135,
          15.547515187543864,
          16.215531816791355,
          16.279272085775133,
          16.408613653494037,
          16.91220830420966,
          16.961897798570735,
          17.713567715141465,
          18.265828293854916,
          18.31868153879329,
          18.36623084894031,
          19.674348661165034,
          19.753163271134753,
          20.22418990120173,
          20.269226821184425,
          20.46640292334008,
          21.121485395815682,
          21.42706648098754,
          21.514534879301046,
          21.660067405856708,
          21.702498884187513,
          22.22842589191935,
          22.88350836439495,
          23.250503431361395,
          24.798880184485554,
          27.692130087423614,
          28.440357098954344
         ],
         "yaxis": "y"
        }
       ],
       "layout": {
        "legend": {
         "tracegroupgap": 0
        },
        "template": {
         "data": {
          "bar": [
           {
            "error_x": {
             "color": "#2a3f5f"
            },
            "error_y": {
             "color": "#2a3f5f"
            },
            "marker": {
             "line": {
              "color": "#E5ECF6",
              "width": 0.5
             },
             "pattern": {
              "fillmode": "overlay",
              "size": 10,
              "solidity": 0.2
             }
            },
            "type": "bar"
           }
          ],
          "barpolar": [
           {
            "marker": {
             "line": {
              "color": "#E5ECF6",
              "width": 0.5
             },
             "pattern": {
              "fillmode": "overlay",
              "size": 10,
              "solidity": 0.2
             }
            },
            "type": "barpolar"
           }
          ],
          "carpet": [
           {
            "aaxis": {
             "endlinecolor": "#2a3f5f",
             "gridcolor": "white",
             "linecolor": "white",
             "minorgridcolor": "white",
             "startlinecolor": "#2a3f5f"
            },
            "baxis": {
             "endlinecolor": "#2a3f5f",
             "gridcolor": "white",
             "linecolor": "white",
             "minorgridcolor": "white",
             "startlinecolor": "#2a3f5f"
            },
            "type": "carpet"
           }
          ],
          "choropleth": [
           {
            "colorbar": {
             "outlinewidth": 0,
             "ticks": ""
            },
            "type": "choropleth"
           }
          ],
          "contour": [
           {
            "colorbar": {
             "outlinewidth": 0,
             "ticks": ""
            },
            "colorscale": [
             [
              0,
              "#0d0887"
             ],
             [
              0.1111111111111111,
              "#46039f"
             ],
             [
              0.2222222222222222,
              "#7201a8"
             ],
             [
              0.3333333333333333,
              "#9c179e"
             ],
             [
              0.4444444444444444,
              "#bd3786"
             ],
             [
              0.5555555555555556,
              "#d8576b"
             ],
             [
              0.6666666666666666,
              "#ed7953"
             ],
             [
              0.7777777777777778,
              "#fb9f3a"
             ],
             [
              0.8888888888888888,
              "#fdca26"
             ],
             [
              1,
              "#f0f921"
             ]
            ],
            "type": "contour"
           }
          ],
          "contourcarpet": [
           {
            "colorbar": {
             "outlinewidth": 0,
             "ticks": ""
            },
            "type": "contourcarpet"
           }
          ],
          "heatmap": [
           {
            "colorbar": {
             "outlinewidth": 0,
             "ticks": ""
            },
            "colorscale": [
             [
              0,
              "#0d0887"
             ],
             [
              0.1111111111111111,
              "#46039f"
             ],
             [
              0.2222222222222222,
              "#7201a8"
             ],
             [
              0.3333333333333333,
              "#9c179e"
             ],
             [
              0.4444444444444444,
              "#bd3786"
             ],
             [
              0.5555555555555556,
              "#d8576b"
             ],
             [
              0.6666666666666666,
              "#ed7953"
             ],
             [
              0.7777777777777778,
              "#fb9f3a"
             ],
             [
              0.8888888888888888,
              "#fdca26"
             ],
             [
              1,
              "#f0f921"
             ]
            ],
            "type": "heatmap"
           }
          ],
          "heatmapgl": [
           {
            "colorbar": {
             "outlinewidth": 0,
             "ticks": ""
            },
            "colorscale": [
             [
              0,
              "#0d0887"
             ],
             [
              0.1111111111111111,
              "#46039f"
             ],
             [
              0.2222222222222222,
              "#7201a8"
             ],
             [
              0.3333333333333333,
              "#9c179e"
             ],
             [
              0.4444444444444444,
              "#bd3786"
             ],
             [
              0.5555555555555556,
              "#d8576b"
             ],
             [
              0.6666666666666666,
              "#ed7953"
             ],
             [
              0.7777777777777778,
              "#fb9f3a"
             ],
             [
              0.8888888888888888,
              "#fdca26"
             ],
             [
              1,
              "#f0f921"
             ]
            ],
            "type": "heatmapgl"
           }
          ],
          "histogram": [
           {
            "marker": {
             "pattern": {
              "fillmode": "overlay",
              "size": 10,
              "solidity": 0.2
             }
            },
            "type": "histogram"
           }
          ],
          "histogram2d": [
           {
            "colorbar": {
             "outlinewidth": 0,
             "ticks": ""
            },
            "colorscale": [
             [
              0,
              "#0d0887"
             ],
             [
              0.1111111111111111,
              "#46039f"
             ],
             [
              0.2222222222222222,
              "#7201a8"
             ],
             [
              0.3333333333333333,
              "#9c179e"
             ],
             [
              0.4444444444444444,
              "#bd3786"
             ],
             [
              0.5555555555555556,
              "#d8576b"
             ],
             [
              0.6666666666666666,
              "#ed7953"
             ],
             [
              0.7777777777777778,
              "#fb9f3a"
             ],
             [
              0.8888888888888888,
              "#fdca26"
             ],
             [
              1,
              "#f0f921"
             ]
            ],
            "type": "histogram2d"
           }
          ],
          "histogram2dcontour": [
           {
            "colorbar": {
             "outlinewidth": 0,
             "ticks": ""
            },
            "colorscale": [
             [
              0,
              "#0d0887"
             ],
             [
              0.1111111111111111,
              "#46039f"
             ],
             [
              0.2222222222222222,
              "#7201a8"
             ],
             [
              0.3333333333333333,
              "#9c179e"
             ],
             [
              0.4444444444444444,
              "#bd3786"
             ],
             [
              0.5555555555555556,
              "#d8576b"
             ],
             [
              0.6666666666666666,
              "#ed7953"
             ],
             [
              0.7777777777777778,
              "#fb9f3a"
             ],
             [
              0.8888888888888888,
              "#fdca26"
             ],
             [
              1,
              "#f0f921"
             ]
            ],
            "type": "histogram2dcontour"
           }
          ],
          "mesh3d": [
           {
            "colorbar": {
             "outlinewidth": 0,
             "ticks": ""
            },
            "type": "mesh3d"
           }
          ],
          "parcoords": [
           {
            "line": {
             "colorbar": {
              "outlinewidth": 0,
              "ticks": ""
             }
            },
            "type": "parcoords"
           }
          ],
          "pie": [
           {
            "automargin": true,
            "type": "pie"
           }
          ],
          "scatter": [
           {
            "marker": {
             "colorbar": {
              "outlinewidth": 0,
              "ticks": ""
             }
            },
            "type": "scatter"
           }
          ],
          "scatter3d": [
           {
            "line": {
             "colorbar": {
              "outlinewidth": 0,
              "ticks": ""
             }
            },
            "marker": {
             "colorbar": {
              "outlinewidth": 0,
              "ticks": ""
             }
            },
            "type": "scatter3d"
           }
          ],
          "scattercarpet": [
           {
            "marker": {
             "colorbar": {
              "outlinewidth": 0,
              "ticks": ""
             }
            },
            "type": "scattercarpet"
           }
          ],
          "scattergeo": [
           {
            "marker": {
             "colorbar": {
              "outlinewidth": 0,
              "ticks": ""
             }
            },
            "type": "scattergeo"
           }
          ],
          "scattergl": [
           {
            "marker": {
             "colorbar": {
              "outlinewidth": 0,
              "ticks": ""
             }
            },
            "type": "scattergl"
           }
          ],
          "scattermapbox": [
           {
            "marker": {
             "colorbar": {
              "outlinewidth": 0,
              "ticks": ""
             }
            },
            "type": "scattermapbox"
           }
          ],
          "scatterpolar": [
           {
            "marker": {
             "colorbar": {
              "outlinewidth": 0,
              "ticks": ""
             }
            },
            "type": "scatterpolar"
           }
          ],
          "scatterpolargl": [
           {
            "marker": {
             "colorbar": {
              "outlinewidth": 0,
              "ticks": ""
             }
            },
            "type": "scatterpolargl"
           }
          ],
          "scatterternary": [
           {
            "marker": {
             "colorbar": {
              "outlinewidth": 0,
              "ticks": ""
             }
            },
            "type": "scatterternary"
           }
          ],
          "surface": [
           {
            "colorbar": {
             "outlinewidth": 0,
             "ticks": ""
            },
            "colorscale": [
             [
              0,
              "#0d0887"
             ],
             [
              0.1111111111111111,
              "#46039f"
             ],
             [
              0.2222222222222222,
              "#7201a8"
             ],
             [
              0.3333333333333333,
              "#9c179e"
             ],
             [
              0.4444444444444444,
              "#bd3786"
             ],
             [
              0.5555555555555556,
              "#d8576b"
             ],
             [
              0.6666666666666666,
              "#ed7953"
             ],
             [
              0.7777777777777778,
              "#fb9f3a"
             ],
             [
              0.8888888888888888,
              "#fdca26"
             ],
             [
              1,
              "#f0f921"
             ]
            ],
            "type": "surface"
           }
          ],
          "table": [
           {
            "cells": {
             "fill": {
              "color": "#EBF0F8"
             },
             "line": {
              "color": "white"
             }
            },
            "header": {
             "fill": {
              "color": "#C8D4E3"
             },
             "line": {
              "color": "white"
             }
            },
            "type": "table"
           }
          ]
         },
         "layout": {
          "annotationdefaults": {
           "arrowcolor": "#2a3f5f",
           "arrowhead": 0,
           "arrowwidth": 1
          },
          "autotypenumbers": "strict",
          "coloraxis": {
           "colorbar": {
            "outlinewidth": 0,
            "ticks": ""
           }
          },
          "colorscale": {
           "diverging": [
            [
             0,
             "#8e0152"
            ],
            [
             0.1,
             "#c51b7d"
            ],
            [
             0.2,
             "#de77ae"
            ],
            [
             0.3,
             "#f1b6da"
            ],
            [
             0.4,
             "#fde0ef"
            ],
            [
             0.5,
             "#f7f7f7"
            ],
            [
             0.6,
             "#e6f5d0"
            ],
            [
             0.7,
             "#b8e186"
            ],
            [
             0.8,
             "#7fbc41"
            ],
            [
             0.9,
             "#4d9221"
            ],
            [
             1,
             "#276419"
            ]
           ],
           "sequential": [
            [
             0,
             "#0d0887"
            ],
            [
             0.1111111111111111,
             "#46039f"
            ],
            [
             0.2222222222222222,
             "#7201a8"
            ],
            [
             0.3333333333333333,
             "#9c179e"
            ],
            [
             0.4444444444444444,
             "#bd3786"
            ],
            [
             0.5555555555555556,
             "#d8576b"
            ],
            [
             0.6666666666666666,
             "#ed7953"
            ],
            [
             0.7777777777777778,
             "#fb9f3a"
            ],
            [
             0.8888888888888888,
             "#fdca26"
            ],
            [
             1,
             "#f0f921"
            ]
           ],
           "sequentialminus": [
            [
             0,
             "#0d0887"
            ],
            [
             0.1111111111111111,
             "#46039f"
            ],
            [
             0.2222222222222222,
             "#7201a8"
            ],
            [
             0.3333333333333333,
             "#9c179e"
            ],
            [
             0.4444444444444444,
             "#bd3786"
            ],
            [
             0.5555555555555556,
             "#d8576b"
            ],
            [
             0.6666666666666666,
             "#ed7953"
            ],
            [
             0.7777777777777778,
             "#fb9f3a"
            ],
            [
             0.8888888888888888,
             "#fdca26"
            ],
            [
             1,
             "#f0f921"
            ]
           ]
          },
          "colorway": [
           "#636efa",
           "#EF553B",
           "#00cc96",
           "#ab63fa",
           "#FFA15A",
           "#19d3f3",
           "#FF6692",
           "#B6E880",
           "#FF97FF",
           "#FECB52"
          ],
          "font": {
           "color": "#2a3f5f"
          },
          "geo": {
           "bgcolor": "white",
           "lakecolor": "white",
           "landcolor": "#E5ECF6",
           "showlakes": true,
           "showland": true,
           "subunitcolor": "white"
          },
          "hoverlabel": {
           "align": "left"
          },
          "hovermode": "closest",
          "mapbox": {
           "style": "light"
          },
          "paper_bgcolor": "white",
          "plot_bgcolor": "#E5ECF6",
          "polar": {
           "angularaxis": {
            "gridcolor": "white",
            "linecolor": "white",
            "ticks": ""
           },
           "bgcolor": "#E5ECF6",
           "radialaxis": {
            "gridcolor": "white",
            "linecolor": "white",
            "ticks": ""
           }
          },
          "scene": {
           "xaxis": {
            "backgroundcolor": "#E5ECF6",
            "gridcolor": "white",
            "gridwidth": 2,
            "linecolor": "white",
            "showbackground": true,
            "ticks": "",
            "zerolinecolor": "white"
           },
           "yaxis": {
            "backgroundcolor": "#E5ECF6",
            "gridcolor": "white",
            "gridwidth": 2,
            "linecolor": "white",
            "showbackground": true,
            "ticks": "",
            "zerolinecolor": "white"
           },
           "zaxis": {
            "backgroundcolor": "#E5ECF6",
            "gridcolor": "white",
            "gridwidth": 2,
            "linecolor": "white",
            "showbackground": true,
            "ticks": "",
            "zerolinecolor": "white"
           }
          },
          "shapedefaults": {
           "line": {
            "color": "#2a3f5f"
           }
          },
          "ternary": {
           "aaxis": {
            "gridcolor": "white",
            "linecolor": "white",
            "ticks": ""
           },
           "baxis": {
            "gridcolor": "white",
            "linecolor": "white",
            "ticks": ""
           },
           "bgcolor": "#E5ECF6",
           "caxis": {
            "gridcolor": "white",
            "linecolor": "white",
            "ticks": ""
           }
          },
          "title": {
           "x": 0.05
          },
          "xaxis": {
           "automargin": true,
           "gridcolor": "white",
           "linecolor": "white",
           "ticks": "",
           "title": {
            "standoff": 15
           },
           "zerolinecolor": "white",
           "zerolinewidth": 2
          },
          "yaxis": {
           "automargin": true,
           "gridcolor": "white",
           "linecolor": "white",
           "ticks": "",
           "title": {
            "standoff": 15
           },
           "zerolinecolor": "white",
           "zerolinewidth": 2
          }
         }
        },
        "title": {
         "text": "Average GDP vs Average Total medals from 2004-2016"
        },
        "xaxis": {
         "anchor": "y",
         "domain": [
          0,
          1
         ],
         "title": {
          "text": "GDP (per capita) in dollars"
         }
        },
        "yaxis": {
         "anchor": "x",
         "domain": [
          0,
          1
         ],
         "title": {
          "text": "Average Total Olympic medals"
         }
        }
       }
      }
     },
     "metadata": {},
     "output_type": "display_data"
    }
   ],
   "source": [
    "fig = px.scatter(\n",
    "                 oad,\n",
    "                 x = oad[\"Average GDP\"],\n",
    "                 y = oad[\"Average Total\"],\n",
    "                 trendline=\"ols\",\n",
    "                 labels={\"Average GDP\" :\"GDP (per capita) in dollars\",\n",
    "                 \"Average Total\" : \"Average Total Olympic medals\"},\n",
    "                 title=f\"Average GDP vs Average Total medals from 2004-2016\",\n",
    "                 hover_data=[\"Country\"],\n",
    "                 log_x=False,\n",
    "                )\n",
    "fig.show()"
   ]
  },
  {
   "cell_type": "code",
   "execution_count": 100,
   "metadata": {},
   "outputs": [
    {
     "data": {
      "application/vnd.plotly.v1+json": {
       "config": {
        "plotlyServerURL": "https://plot.ly"
       },
       "data": [
        {
         "customdata": [
          [
           "United States"
          ],
          [
           "China"
          ],
          [
           "Great Britain"
          ],
          [
           "Russia"
          ],
          [
           "South Korea"
          ],
          [
           "Germany"
          ],
          [
           "France"
          ],
          [
           "Australia"
          ],
          [
           "Italy"
          ],
          [
           "Hungary"
          ],
          [
           "Japan"
          ],
          [
           "Iran"
          ],
          [
           "Netherlands"
          ],
          [
           "New Zealand"
          ],
          [
           "Ukraine"
          ],
          [
           "Cuba"
          ],
          [
           "Spain"
          ],
          [
           "Jamaica"
          ],
          [
           "Czech Republic"
          ],
          [
           "South Africa"
          ],
          [
           "North Korea"
          ],
          [
           "Brazil"
          ],
          [
           "Kazakhstan"
          ],
          [
           "Poland"
          ],
          [
           "Ethiopia"
          ],
          [
           "Croatia"
          ],
          [
           "Canada"
          ],
          [
           "Belarus"
          ],
          [
           "Kenya"
          ],
          [
           "Denmark"
          ],
          [
           "Romania"
          ],
          [
           "Azerbaijan"
          ],
          [
           "Switzerland"
          ],
          [
           "Norway"
          ],
          [
           "Lithuania"
          ],
          [
           "Sweden"
          ],
          [
           "Colombia"
          ],
          [
           "Mexico"
          ],
          [
           "Georgia"
          ],
          [
           "Argentina"
          ],
          [
           "Slovenia"
          ],
          [
           "Trinidad and Tobago"
          ],
          [
           "Turkey"
          ],
          [
           "Dominican Republic"
          ],
          [
           "Chinese Taipei"
          ],
          [
           "Bahamas"
          ],
          [
           "Venezuela"
          ],
          [
           "Egypt"
          ],
          [
           "India"
          ],
          [
           "Mongolia"
          ],
          [
           "Thailand"
          ],
          [
           "Bulgaria"
          ],
          [
           "Finland"
          ],
          [
           "Indonesia"
          ],
          [
           "Slovakia"
          ],
          [
           "Belgium"
          ],
          [
           "Estonia"
          ],
          [
           "Portugal"
          ],
          [
           "Uzbekistan"
          ],
          [
           "Greece"
          ],
          [
           "Morocco"
          ]
         ],
         "hovertemplate": "Average Population from 2005-2015=%{x}<br>Average Total Olympic medals=%{y}<br>Country=%{customdata[0]}<extra></extra>",
         "legendgroup": "",
         "marker": {
          "color": "#636efa",
          "symbol": "circle"
         },
         "mode": "markers",
         "name": "",
         "orientation": "v",
         "showlegend": false,
         "type": "scatter",
         "x": [
          308895500,
          1335783250,
          62318750,
          142699500,
          48599000,
          81646250,
          64874000,
          21504250,
          60598000,
          9985500,
          127449000,
          76989000,
          16599000,
          4248500,
          45742750,
          11107250,
          46216000,
          2846000,
          10503500,
          51006750,
          24314250,
          195487750,
          17112750,
          38588500,
          86476750,
          4483750,
          33751750,
          9689750,
          40715250,
          5511750,
          21946250,
          9302750,
          7777750,
          4904250,
          3097500,
          9437750,
          44159250,
          114109500,
          4882250,
          41325500,
          2001000,
          1229500,
          74813500,
          9823000,
          23099500,
          311000,
          27248500,
          80494000,
          1172222000,
          2791000,
          66633000,
          7395750,
          5356500,
          243021250,
          5427000,
          10881500,
          1301000,
          10716250,
          27868000,
          10736250,
          31620000
         ],
         "xaxis": "x",
         "y": [
          109.5,
          81,
          53.25,
          68.25,
          28.25,
          44,
          38.25,
          40,
          28.75,
          15,
          35.25,
          7.25,
          19.25,
          11.25,
          18.5,
          20.75,
          19,
          9.75,
          9.25,
          5.75,
          6.25,
          15.75,
          11.25,
          10.75,
          7.5,
          6.5,
          18,
          11.5,
          12.25,
          9.75,
          9.75,
          9.5,
          5.75,
          5.75,
          4.25,
          7.75,
          5.5,
          5.25,
          6,
          5,
          4.25,
          2,
          6.75,
          1.5,
          3.5,
          1.75,
          1.75,
          3.5,
          3,
          3,
          6,
          5.75,
          2.5,
          4,
          5,
          3.5,
          2,
          1.75,
          6.25,
          6.75,
          1.75
         ],
         "yaxis": "y"
        },
        {
         "hovertemplate": "<b>OLS trendline</b><br>Average Total = 3.63484e-08 * Average Pop + 11.9429<br>R<sup>2</sup>=0.164607<br><br>Average Population from 2005-2015=%{x}<br>Average Total Olympic medals=%{y} <b>(trend)</b><extra></extra>",
         "legendgroup": "",
         "marker": {
          "color": "#636efa",
          "symbol": "circle"
         },
         "mode": "lines",
         "name": "",
         "showlegend": false,
         "type": "scatter",
         "x": [
          311000,
          1229500,
          1301000,
          2001000,
          2791000,
          2846000,
          3097500,
          4248500,
          4483750,
          4882250,
          4904250,
          5356500,
          5427000,
          5511750,
          7395750,
          7777750,
          9302750,
          9437750,
          9689750,
          9823000,
          9985500,
          10503500,
          10716250,
          10736250,
          10881500,
          11107250,
          16599000,
          17112750,
          21504250,
          21946250,
          23099500,
          24314250,
          27248500,
          27868000,
          31620000,
          33751750,
          38588500,
          40715250,
          41325500,
          44159250,
          45742750,
          46216000,
          48599000,
          51006750,
          60598000,
          62318750,
          64874000,
          66633000,
          74813500,
          76989000,
          80494000,
          81646250,
          86476750,
          114109500,
          127449000,
          142699500,
          195487750,
          243021250,
          308895500,
          1172222000,
          1335783250
         ],
         "xaxis": "x",
         "y": [
          11.954195020093659,
          11.987580995670296,
          11.990179903948718,
          12.01562376121997,
          12.044338971568957,
          12.046338131783127,
          12.055479746217014,
          12.09731671724446,
          12.105867670705978,
          12.120352495166827,
          12.121152159252496,
          12.137590708468101,
          12.140153268378992,
          12.143233792527191,
          12.211714116954393,
          12.225599193350991,
          12.281030453834793,
          12.285937483451391,
          12.295097272069043,
          12.299940692042464,
          12.305847301766148,
          12.324675756146876,
          12.332408871338961,
          12.333135838689568,
          12.338415439073353,
          12.346621083043331,
          12.546237230428199,
          12.564911204246922,
          12.724535060256509,
          12.740601038704927,
          12.782519793559318,
          12.826673973016826,
          12.933329170442791,
          12.95584698412785,
          13.092226059101769,
          13.169711691584618,
          13.345519658237098,
          13.422823548882297,
          13.4450051401677,
          13.548007326656863,
          13.605564966641193,
          13.622766831574936,
          13.709384991399789,
          13.796902773321019,
          14.145529053396606,
          14.208075506824477,
          14.300954672956435,
          14.364891451442341,
          14.66223927202447,
          14.741315145586773,
          14.868716173780692,
          14.910598580267552,
          15.086179369622966,
          16.09058472249758,
          16.57545377116885,
          17.12978455019064,
          19.048551262475282,
          20.776316390479757,
          23.170737840266717,
          54.55124676096797,
          60.496431189693425
         ],
         "yaxis": "y"
        }
       ],
       "layout": {
        "legend": {
         "tracegroupgap": 0
        },
        "template": {
         "data": {
          "bar": [
           {
            "error_x": {
             "color": "#2a3f5f"
            },
            "error_y": {
             "color": "#2a3f5f"
            },
            "marker": {
             "line": {
              "color": "#E5ECF6",
              "width": 0.5
             },
             "pattern": {
              "fillmode": "overlay",
              "size": 10,
              "solidity": 0.2
             }
            },
            "type": "bar"
           }
          ],
          "barpolar": [
           {
            "marker": {
             "line": {
              "color": "#E5ECF6",
              "width": 0.5
             },
             "pattern": {
              "fillmode": "overlay",
              "size": 10,
              "solidity": 0.2
             }
            },
            "type": "barpolar"
           }
          ],
          "carpet": [
           {
            "aaxis": {
             "endlinecolor": "#2a3f5f",
             "gridcolor": "white",
             "linecolor": "white",
             "minorgridcolor": "white",
             "startlinecolor": "#2a3f5f"
            },
            "baxis": {
             "endlinecolor": "#2a3f5f",
             "gridcolor": "white",
             "linecolor": "white",
             "minorgridcolor": "white",
             "startlinecolor": "#2a3f5f"
            },
            "type": "carpet"
           }
          ],
          "choropleth": [
           {
            "colorbar": {
             "outlinewidth": 0,
             "ticks": ""
            },
            "type": "choropleth"
           }
          ],
          "contour": [
           {
            "colorbar": {
             "outlinewidth": 0,
             "ticks": ""
            },
            "colorscale": [
             [
              0,
              "#0d0887"
             ],
             [
              0.1111111111111111,
              "#46039f"
             ],
             [
              0.2222222222222222,
              "#7201a8"
             ],
             [
              0.3333333333333333,
              "#9c179e"
             ],
             [
              0.4444444444444444,
              "#bd3786"
             ],
             [
              0.5555555555555556,
              "#d8576b"
             ],
             [
              0.6666666666666666,
              "#ed7953"
             ],
             [
              0.7777777777777778,
              "#fb9f3a"
             ],
             [
              0.8888888888888888,
              "#fdca26"
             ],
             [
              1,
              "#f0f921"
             ]
            ],
            "type": "contour"
           }
          ],
          "contourcarpet": [
           {
            "colorbar": {
             "outlinewidth": 0,
             "ticks": ""
            },
            "type": "contourcarpet"
           }
          ],
          "heatmap": [
           {
            "colorbar": {
             "outlinewidth": 0,
             "ticks": ""
            },
            "colorscale": [
             [
              0,
              "#0d0887"
             ],
             [
              0.1111111111111111,
              "#46039f"
             ],
             [
              0.2222222222222222,
              "#7201a8"
             ],
             [
              0.3333333333333333,
              "#9c179e"
             ],
             [
              0.4444444444444444,
              "#bd3786"
             ],
             [
              0.5555555555555556,
              "#d8576b"
             ],
             [
              0.6666666666666666,
              "#ed7953"
             ],
             [
              0.7777777777777778,
              "#fb9f3a"
             ],
             [
              0.8888888888888888,
              "#fdca26"
             ],
             [
              1,
              "#f0f921"
             ]
            ],
            "type": "heatmap"
           }
          ],
          "heatmapgl": [
           {
            "colorbar": {
             "outlinewidth": 0,
             "ticks": ""
            },
            "colorscale": [
             [
              0,
              "#0d0887"
             ],
             [
              0.1111111111111111,
              "#46039f"
             ],
             [
              0.2222222222222222,
              "#7201a8"
             ],
             [
              0.3333333333333333,
              "#9c179e"
             ],
             [
              0.4444444444444444,
              "#bd3786"
             ],
             [
              0.5555555555555556,
              "#d8576b"
             ],
             [
              0.6666666666666666,
              "#ed7953"
             ],
             [
              0.7777777777777778,
              "#fb9f3a"
             ],
             [
              0.8888888888888888,
              "#fdca26"
             ],
             [
              1,
              "#f0f921"
             ]
            ],
            "type": "heatmapgl"
           }
          ],
          "histogram": [
           {
            "marker": {
             "pattern": {
              "fillmode": "overlay",
              "size": 10,
              "solidity": 0.2
             }
            },
            "type": "histogram"
           }
          ],
          "histogram2d": [
           {
            "colorbar": {
             "outlinewidth": 0,
             "ticks": ""
            },
            "colorscale": [
             [
              0,
              "#0d0887"
             ],
             [
              0.1111111111111111,
              "#46039f"
             ],
             [
              0.2222222222222222,
              "#7201a8"
             ],
             [
              0.3333333333333333,
              "#9c179e"
             ],
             [
              0.4444444444444444,
              "#bd3786"
             ],
             [
              0.5555555555555556,
              "#d8576b"
             ],
             [
              0.6666666666666666,
              "#ed7953"
             ],
             [
              0.7777777777777778,
              "#fb9f3a"
             ],
             [
              0.8888888888888888,
              "#fdca26"
             ],
             [
              1,
              "#f0f921"
             ]
            ],
            "type": "histogram2d"
           }
          ],
          "histogram2dcontour": [
           {
            "colorbar": {
             "outlinewidth": 0,
             "ticks": ""
            },
            "colorscale": [
             [
              0,
              "#0d0887"
             ],
             [
              0.1111111111111111,
              "#46039f"
             ],
             [
              0.2222222222222222,
              "#7201a8"
             ],
             [
              0.3333333333333333,
              "#9c179e"
             ],
             [
              0.4444444444444444,
              "#bd3786"
             ],
             [
              0.5555555555555556,
              "#d8576b"
             ],
             [
              0.6666666666666666,
              "#ed7953"
             ],
             [
              0.7777777777777778,
              "#fb9f3a"
             ],
             [
              0.8888888888888888,
              "#fdca26"
             ],
             [
              1,
              "#f0f921"
             ]
            ],
            "type": "histogram2dcontour"
           }
          ],
          "mesh3d": [
           {
            "colorbar": {
             "outlinewidth": 0,
             "ticks": ""
            },
            "type": "mesh3d"
           }
          ],
          "parcoords": [
           {
            "line": {
             "colorbar": {
              "outlinewidth": 0,
              "ticks": ""
             }
            },
            "type": "parcoords"
           }
          ],
          "pie": [
           {
            "automargin": true,
            "type": "pie"
           }
          ],
          "scatter": [
           {
            "marker": {
             "colorbar": {
              "outlinewidth": 0,
              "ticks": ""
             }
            },
            "type": "scatter"
           }
          ],
          "scatter3d": [
           {
            "line": {
             "colorbar": {
              "outlinewidth": 0,
              "ticks": ""
             }
            },
            "marker": {
             "colorbar": {
              "outlinewidth": 0,
              "ticks": ""
             }
            },
            "type": "scatter3d"
           }
          ],
          "scattercarpet": [
           {
            "marker": {
             "colorbar": {
              "outlinewidth": 0,
              "ticks": ""
             }
            },
            "type": "scattercarpet"
           }
          ],
          "scattergeo": [
           {
            "marker": {
             "colorbar": {
              "outlinewidth": 0,
              "ticks": ""
             }
            },
            "type": "scattergeo"
           }
          ],
          "scattergl": [
           {
            "marker": {
             "colorbar": {
              "outlinewidth": 0,
              "ticks": ""
             }
            },
            "type": "scattergl"
           }
          ],
          "scattermapbox": [
           {
            "marker": {
             "colorbar": {
              "outlinewidth": 0,
              "ticks": ""
             }
            },
            "type": "scattermapbox"
           }
          ],
          "scatterpolar": [
           {
            "marker": {
             "colorbar": {
              "outlinewidth": 0,
              "ticks": ""
             }
            },
            "type": "scatterpolar"
           }
          ],
          "scatterpolargl": [
           {
            "marker": {
             "colorbar": {
              "outlinewidth": 0,
              "ticks": ""
             }
            },
            "type": "scatterpolargl"
           }
          ],
          "scatterternary": [
           {
            "marker": {
             "colorbar": {
              "outlinewidth": 0,
              "ticks": ""
             }
            },
            "type": "scatterternary"
           }
          ],
          "surface": [
           {
            "colorbar": {
             "outlinewidth": 0,
             "ticks": ""
            },
            "colorscale": [
             [
              0,
              "#0d0887"
             ],
             [
              0.1111111111111111,
              "#46039f"
             ],
             [
              0.2222222222222222,
              "#7201a8"
             ],
             [
              0.3333333333333333,
              "#9c179e"
             ],
             [
              0.4444444444444444,
              "#bd3786"
             ],
             [
              0.5555555555555556,
              "#d8576b"
             ],
             [
              0.6666666666666666,
              "#ed7953"
             ],
             [
              0.7777777777777778,
              "#fb9f3a"
             ],
             [
              0.8888888888888888,
              "#fdca26"
             ],
             [
              1,
              "#f0f921"
             ]
            ],
            "type": "surface"
           }
          ],
          "table": [
           {
            "cells": {
             "fill": {
              "color": "#EBF0F8"
             },
             "line": {
              "color": "white"
             }
            },
            "header": {
             "fill": {
              "color": "#C8D4E3"
             },
             "line": {
              "color": "white"
             }
            },
            "type": "table"
           }
          ]
         },
         "layout": {
          "annotationdefaults": {
           "arrowcolor": "#2a3f5f",
           "arrowhead": 0,
           "arrowwidth": 1
          },
          "autotypenumbers": "strict",
          "coloraxis": {
           "colorbar": {
            "outlinewidth": 0,
            "ticks": ""
           }
          },
          "colorscale": {
           "diverging": [
            [
             0,
             "#8e0152"
            ],
            [
             0.1,
             "#c51b7d"
            ],
            [
             0.2,
             "#de77ae"
            ],
            [
             0.3,
             "#f1b6da"
            ],
            [
             0.4,
             "#fde0ef"
            ],
            [
             0.5,
             "#f7f7f7"
            ],
            [
             0.6,
             "#e6f5d0"
            ],
            [
             0.7,
             "#b8e186"
            ],
            [
             0.8,
             "#7fbc41"
            ],
            [
             0.9,
             "#4d9221"
            ],
            [
             1,
             "#276419"
            ]
           ],
           "sequential": [
            [
             0,
             "#0d0887"
            ],
            [
             0.1111111111111111,
             "#46039f"
            ],
            [
             0.2222222222222222,
             "#7201a8"
            ],
            [
             0.3333333333333333,
             "#9c179e"
            ],
            [
             0.4444444444444444,
             "#bd3786"
            ],
            [
             0.5555555555555556,
             "#d8576b"
            ],
            [
             0.6666666666666666,
             "#ed7953"
            ],
            [
             0.7777777777777778,
             "#fb9f3a"
            ],
            [
             0.8888888888888888,
             "#fdca26"
            ],
            [
             1,
             "#f0f921"
            ]
           ],
           "sequentialminus": [
            [
             0,
             "#0d0887"
            ],
            [
             0.1111111111111111,
             "#46039f"
            ],
            [
             0.2222222222222222,
             "#7201a8"
            ],
            [
             0.3333333333333333,
             "#9c179e"
            ],
            [
             0.4444444444444444,
             "#bd3786"
            ],
            [
             0.5555555555555556,
             "#d8576b"
            ],
            [
             0.6666666666666666,
             "#ed7953"
            ],
            [
             0.7777777777777778,
             "#fb9f3a"
            ],
            [
             0.8888888888888888,
             "#fdca26"
            ],
            [
             1,
             "#f0f921"
            ]
           ]
          },
          "colorway": [
           "#636efa",
           "#EF553B",
           "#00cc96",
           "#ab63fa",
           "#FFA15A",
           "#19d3f3",
           "#FF6692",
           "#B6E880",
           "#FF97FF",
           "#FECB52"
          ],
          "font": {
           "color": "#2a3f5f"
          },
          "geo": {
           "bgcolor": "white",
           "lakecolor": "white",
           "landcolor": "#E5ECF6",
           "showlakes": true,
           "showland": true,
           "subunitcolor": "white"
          },
          "hoverlabel": {
           "align": "left"
          },
          "hovermode": "closest",
          "mapbox": {
           "style": "light"
          },
          "paper_bgcolor": "white",
          "plot_bgcolor": "#E5ECF6",
          "polar": {
           "angularaxis": {
            "gridcolor": "white",
            "linecolor": "white",
            "ticks": ""
           },
           "bgcolor": "#E5ECF6",
           "radialaxis": {
            "gridcolor": "white",
            "linecolor": "white",
            "ticks": ""
           }
          },
          "scene": {
           "xaxis": {
            "backgroundcolor": "#E5ECF6",
            "gridcolor": "white",
            "gridwidth": 2,
            "linecolor": "white",
            "showbackground": true,
            "ticks": "",
            "zerolinecolor": "white"
           },
           "yaxis": {
            "backgroundcolor": "#E5ECF6",
            "gridcolor": "white",
            "gridwidth": 2,
            "linecolor": "white",
            "showbackground": true,
            "ticks": "",
            "zerolinecolor": "white"
           },
           "zaxis": {
            "backgroundcolor": "#E5ECF6",
            "gridcolor": "white",
            "gridwidth": 2,
            "linecolor": "white",
            "showbackground": true,
            "ticks": "",
            "zerolinecolor": "white"
           }
          },
          "shapedefaults": {
           "line": {
            "color": "#2a3f5f"
           }
          },
          "ternary": {
           "aaxis": {
            "gridcolor": "white",
            "linecolor": "white",
            "ticks": ""
           },
           "baxis": {
            "gridcolor": "white",
            "linecolor": "white",
            "ticks": ""
           },
           "bgcolor": "#E5ECF6",
           "caxis": {
            "gridcolor": "white",
            "linecolor": "white",
            "ticks": ""
           }
          },
          "title": {
           "x": 0.05
          },
          "xaxis": {
           "automargin": true,
           "gridcolor": "white",
           "linecolor": "white",
           "ticks": "",
           "title": {
            "standoff": 15
           },
           "zerolinecolor": "white",
           "zerolinewidth": 2
          },
          "yaxis": {
           "automargin": true,
           "gridcolor": "white",
           "linecolor": "white",
           "ticks": "",
           "title": {
            "standoff": 15
           },
           "zerolinecolor": "white",
           "zerolinewidth": 2
          }
         }
        },
        "title": {
         "text": "Average Population vs Average Total medals from 2004-2016"
        },
        "xaxis": {
         "anchor": "y",
         "domain": [
          0,
          1
         ],
         "title": {
          "text": "Average Population from 2005-2015"
         },
         "type": "log"
        },
        "yaxis": {
         "anchor": "x",
         "domain": [
          0,
          1
         ],
         "title": {
          "text": "Average Total Olympic medals"
         }
        }
       }
      }
     },
     "metadata": {},
     "output_type": "display_data"
    }
   ],
   "source": [
    "fig = px.scatter(\n",
    "                 oad,\n",
    "                 x = oad[\"Average Pop\"],\n",
    "                 y = oad[\"Average Total\"],\n",
    "                 trendline=\"ols\",\n",
    "                 labels={\"Average Pop\" :\"Average Population from 2005-2015\",\n",
    "                 \"Average Total\" : \"Average Total Olympic medals\"},\n",
    "                 title=f\"Average Population vs Average Total medals from 2004-2016\",\n",
    "                 hover_data=[\"Country\"],\n",
    "                 log_x=True,\n",
    "                )\n",
    "fig.show()"
   ]
  },
  {
   "cell_type": "code",
   "execution_count": 101,
   "metadata": {},
   "outputs": [
    {
     "data": {
      "application/vnd.plotly.v1+json": {
       "config": {
        "plotlyServerURL": "https://plot.ly"
       },
       "data": [
        {
         "customdata": [
          [
           "United States"
          ],
          [
           "China"
          ],
          [
           "Great Britain"
          ],
          [
           "Russia"
          ],
          [
           "South Korea"
          ],
          [
           "Germany"
          ],
          [
           "France"
          ],
          [
           "Australia"
          ],
          [
           "Italy"
          ],
          [
           "Hungary"
          ],
          [
           "Japan"
          ],
          [
           "Iran"
          ],
          [
           "Netherlands"
          ],
          [
           "New Zealand"
          ],
          [
           "Ukraine"
          ],
          [
           "Cuba"
          ],
          [
           "Spain"
          ],
          [
           "Jamaica"
          ],
          [
           "Czech Republic"
          ],
          [
           "South Africa"
          ],
          [
           "North Korea"
          ],
          [
           "Brazil"
          ],
          [
           "Kazakhstan"
          ],
          [
           "Poland"
          ],
          [
           "Ethiopia"
          ],
          [
           "Croatia"
          ],
          [
           "Canada"
          ],
          [
           "Belarus"
          ],
          [
           "Kenya"
          ],
          [
           "Denmark"
          ],
          [
           "Romania"
          ],
          [
           "Azerbaijan"
          ],
          [
           "Switzerland"
          ],
          [
           "Norway"
          ],
          [
           "Lithuania"
          ],
          [
           "Sweden"
          ],
          [
           "Colombia"
          ],
          [
           "Mexico"
          ],
          [
           "Georgia"
          ],
          [
           "Argentina"
          ],
          [
           "Slovenia"
          ],
          [
           "Trinidad and Tobago"
          ],
          [
           "Turkey"
          ],
          [
           "Dominican Republic"
          ],
          [
           "Chinese Taipei"
          ],
          [
           "Bahamas"
          ],
          [
           "Venezuela"
          ],
          [
           "Egypt"
          ],
          [
           "India"
          ],
          [
           "Mongolia"
          ],
          [
           "Thailand"
          ],
          [
           "Bulgaria"
          ],
          [
           "Finland"
          ],
          [
           "Indonesia"
          ],
          [
           "Slovakia"
          ],
          [
           "Belgium"
          ],
          [
           "Estonia"
          ],
          [
           "Portugal"
          ],
          [
           "Uzbekistan"
          ],
          [
           "Greece"
          ],
          [
           "Morocco"
          ]
         ],
         "hovertemplate": "Average Population from 2005-2015=%{x}<br>GDP (per capita) in dollars=%{y}<br>Country=%{customdata[0]}<extra></extra>",
         "legendgroup": "",
         "marker": {
          "color": "#636efa",
          "symbol": "circle"
         },
         "mode": "markers",
         "name": "",
         "orientation": "v",
         "showlegend": false,
         "type": "scatter",
         "x": [
          308895500,
          1335783250,
          62318750,
          142699500,
          48599000,
          81646250,
          64874000,
          21504250,
          60598000,
          9985500,
          127449000,
          76989000,
          16599000,
          4248500,
          45742750,
          11107250,
          46216000,
          2846000,
          10503500,
          51006750,
          24314250,
          195487750,
          17112750,
          38588500,
          86476750,
          4483750,
          33751750,
          9689750,
          40715250,
          5511750,
          21946250,
          9302750,
          7777750,
          4904250,
          3097500,
          9437750,
          44159250,
          114109500,
          4882250,
          41325500,
          2001000,
          1229500,
          74813500,
          9823000,
          23099500,
          311000,
          27248500,
          80494000,
          1172222000,
          2791000,
          66633000,
          7395750,
          5356500,
          243021250,
          5427000,
          10881500,
          1301000,
          10716250,
          27868000,
          10736250,
          31620000
         ],
         "xaxis": "x",
         "y": [
          49922.5,
          9112.75,
          37752.75,
          21202.75,
          30886.5,
          41603.5,
          38282.5,
          41489.5,
          36366.25,
          23105,
          36154.5,
          14800,
          45762.5,
          32512.25,
          9071,
          5722.5,
          32370.25,
          8618.25,
          28733.5,
          12460.25,
          577.25,
          13339.25,
          18916.75,
          21511,
          1231,
          20852.75,
          40863.5,
          14560.25,
          3067.25,
          44776.5,
          18250.75,
          12230,
          57695.75,
          59706,
          23243.5,
          43016.5,
          11275.5,
          16661.75,
          8585,
          17454.75,
          28867,
          27380.5,
          19276.25,
          11786.5,
          37631.75,
          32640,
          15666.5,
          10137.75,
          4176,
          8227,
          13338.5,
          15247.25,
          40042.5,
          8540.5,
          24348.25,
          41098.5,
          25067,
          26861.75,
          5307.75,
          27033,
          6221
         ],
         "yaxis": "y"
        },
        {
         "hovertemplate": "<b>OLS trendline</b><br>Average GDP = -1.35409e-05 * Average Pop + 24609.5<br>R<sup>2</sup>=0.043618<br><br>Average Population from 2005-2015=%{x}<br>GDP (per capita) in dollars=%{y} <b>(trend)</b><extra></extra>",
         "legendgroup": "",
         "marker": {
          "color": "#636efa",
          "symbol": "circle"
         },
         "mode": "lines",
         "name": "",
         "showlegend": false,
         "type": "scatter",
         "x": [
          311000,
          1229500,
          1301000,
          2001000,
          2791000,
          2846000,
          3097500,
          4248500,
          4483750,
          4882250,
          4904250,
          5356500,
          5427000,
          5511750,
          7395750,
          7777750,
          9302750,
          9437750,
          9689750,
          9823000,
          9985500,
          10503500,
          10716250,
          10736250,
          10881500,
          11107250,
          16599000,
          17112750,
          21504250,
          21946250,
          23099500,
          24314250,
          27248500,
          27868000,
          31620000,
          33751750,
          38588500,
          40715250,
          41325500,
          44159250,
          45742750,
          46216000,
          48599000,
          51006750,
          60598000,
          62318750,
          64874000,
          66633000,
          74813500,
          76989000,
          80494000,
          81646250,
          86476750,
          114109500,
          127449000,
          142699500,
          195487750,
          243021250,
          308895500,
          1172222000,
          1335783250
         ],
         "xaxis": "x",
         "y": [
          24605.28005741264,
          24592.842728744316,
          24591.874553458758,
          24582.395914299446,
          24571.698592962508,
          24570.953842742845,
          24567.548303102038,
          24551.96271214151,
          24548.777212338326,
          24543.38115847406,
          24543.0832583862,
          24536.959380443626,
          24536.004746071154,
          24534.857153687222,
          24509.346073435587,
          24504.17344463722,
          24483.523552183004,
          24481.695528916567,
          24478.283218819215,
          24476.478892150673,
          24474.278493774404,
          24467.264300796513,
          24464.383471537734,
          24464.112653276043,
          24462.145835650485,
          24459.088974521605,
          24384.72566508853,
          24377.769020991247,
          24318.30410117965,
          24312.319017596197,
          24296.70295958123,
          24280.254135411553,
          24240.52171119268,
          24232.133115536686,
          24181.327609642773,
          24152.461768174395,
          24086.96775681182,
          24058.169619908866,
          24049.90627769891,
          24011.53471524505,
          23990.092679375375,
          23983.684442258025,
          23951.416446377112,
          23918.813312897346,
          23788.939030273414,
          23765.63850408286,
          23731.0380859231,
          23707.219619807056,
          23596.448180317406,
          23566.989923901572,
          23519.529023539588,
          23503.926506437707,
          23438.51712578191,
          23064.344459739787,
          22883.715449646006,
          22677.2097546473,
          21962.408649502206,
          21318.761657389103,
          20426.76416361721,
          8736.535063371457,
          6521.766393091359
         ],
         "yaxis": "y"
        }
       ],
       "layout": {
        "legend": {
         "tracegroupgap": 0
        },
        "template": {
         "data": {
          "bar": [
           {
            "error_x": {
             "color": "#2a3f5f"
            },
            "error_y": {
             "color": "#2a3f5f"
            },
            "marker": {
             "line": {
              "color": "#E5ECF6",
              "width": 0.5
             },
             "pattern": {
              "fillmode": "overlay",
              "size": 10,
              "solidity": 0.2
             }
            },
            "type": "bar"
           }
          ],
          "barpolar": [
           {
            "marker": {
             "line": {
              "color": "#E5ECF6",
              "width": 0.5
             },
             "pattern": {
              "fillmode": "overlay",
              "size": 10,
              "solidity": 0.2
             }
            },
            "type": "barpolar"
           }
          ],
          "carpet": [
           {
            "aaxis": {
             "endlinecolor": "#2a3f5f",
             "gridcolor": "white",
             "linecolor": "white",
             "minorgridcolor": "white",
             "startlinecolor": "#2a3f5f"
            },
            "baxis": {
             "endlinecolor": "#2a3f5f",
             "gridcolor": "white",
             "linecolor": "white",
             "minorgridcolor": "white",
             "startlinecolor": "#2a3f5f"
            },
            "type": "carpet"
           }
          ],
          "choropleth": [
           {
            "colorbar": {
             "outlinewidth": 0,
             "ticks": ""
            },
            "type": "choropleth"
           }
          ],
          "contour": [
           {
            "colorbar": {
             "outlinewidth": 0,
             "ticks": ""
            },
            "colorscale": [
             [
              0,
              "#0d0887"
             ],
             [
              0.1111111111111111,
              "#46039f"
             ],
             [
              0.2222222222222222,
              "#7201a8"
             ],
             [
              0.3333333333333333,
              "#9c179e"
             ],
             [
              0.4444444444444444,
              "#bd3786"
             ],
             [
              0.5555555555555556,
              "#d8576b"
             ],
             [
              0.6666666666666666,
              "#ed7953"
             ],
             [
              0.7777777777777778,
              "#fb9f3a"
             ],
             [
              0.8888888888888888,
              "#fdca26"
             ],
             [
              1,
              "#f0f921"
             ]
            ],
            "type": "contour"
           }
          ],
          "contourcarpet": [
           {
            "colorbar": {
             "outlinewidth": 0,
             "ticks": ""
            },
            "type": "contourcarpet"
           }
          ],
          "heatmap": [
           {
            "colorbar": {
             "outlinewidth": 0,
             "ticks": ""
            },
            "colorscale": [
             [
              0,
              "#0d0887"
             ],
             [
              0.1111111111111111,
              "#46039f"
             ],
             [
              0.2222222222222222,
              "#7201a8"
             ],
             [
              0.3333333333333333,
              "#9c179e"
             ],
             [
              0.4444444444444444,
              "#bd3786"
             ],
             [
              0.5555555555555556,
              "#d8576b"
             ],
             [
              0.6666666666666666,
              "#ed7953"
             ],
             [
              0.7777777777777778,
              "#fb9f3a"
             ],
             [
              0.8888888888888888,
              "#fdca26"
             ],
             [
              1,
              "#f0f921"
             ]
            ],
            "type": "heatmap"
           }
          ],
          "heatmapgl": [
           {
            "colorbar": {
             "outlinewidth": 0,
             "ticks": ""
            },
            "colorscale": [
             [
              0,
              "#0d0887"
             ],
             [
              0.1111111111111111,
              "#46039f"
             ],
             [
              0.2222222222222222,
              "#7201a8"
             ],
             [
              0.3333333333333333,
              "#9c179e"
             ],
             [
              0.4444444444444444,
              "#bd3786"
             ],
             [
              0.5555555555555556,
              "#d8576b"
             ],
             [
              0.6666666666666666,
              "#ed7953"
             ],
             [
              0.7777777777777778,
              "#fb9f3a"
             ],
             [
              0.8888888888888888,
              "#fdca26"
             ],
             [
              1,
              "#f0f921"
             ]
            ],
            "type": "heatmapgl"
           }
          ],
          "histogram": [
           {
            "marker": {
             "pattern": {
              "fillmode": "overlay",
              "size": 10,
              "solidity": 0.2
             }
            },
            "type": "histogram"
           }
          ],
          "histogram2d": [
           {
            "colorbar": {
             "outlinewidth": 0,
             "ticks": ""
            },
            "colorscale": [
             [
              0,
              "#0d0887"
             ],
             [
              0.1111111111111111,
              "#46039f"
             ],
             [
              0.2222222222222222,
              "#7201a8"
             ],
             [
              0.3333333333333333,
              "#9c179e"
             ],
             [
              0.4444444444444444,
              "#bd3786"
             ],
             [
              0.5555555555555556,
              "#d8576b"
             ],
             [
              0.6666666666666666,
              "#ed7953"
             ],
             [
              0.7777777777777778,
              "#fb9f3a"
             ],
             [
              0.8888888888888888,
              "#fdca26"
             ],
             [
              1,
              "#f0f921"
             ]
            ],
            "type": "histogram2d"
           }
          ],
          "histogram2dcontour": [
           {
            "colorbar": {
             "outlinewidth": 0,
             "ticks": ""
            },
            "colorscale": [
             [
              0,
              "#0d0887"
             ],
             [
              0.1111111111111111,
              "#46039f"
             ],
             [
              0.2222222222222222,
              "#7201a8"
             ],
             [
              0.3333333333333333,
              "#9c179e"
             ],
             [
              0.4444444444444444,
              "#bd3786"
             ],
             [
              0.5555555555555556,
              "#d8576b"
             ],
             [
              0.6666666666666666,
              "#ed7953"
             ],
             [
              0.7777777777777778,
              "#fb9f3a"
             ],
             [
              0.8888888888888888,
              "#fdca26"
             ],
             [
              1,
              "#f0f921"
             ]
            ],
            "type": "histogram2dcontour"
           }
          ],
          "mesh3d": [
           {
            "colorbar": {
             "outlinewidth": 0,
             "ticks": ""
            },
            "type": "mesh3d"
           }
          ],
          "parcoords": [
           {
            "line": {
             "colorbar": {
              "outlinewidth": 0,
              "ticks": ""
             }
            },
            "type": "parcoords"
           }
          ],
          "pie": [
           {
            "automargin": true,
            "type": "pie"
           }
          ],
          "scatter": [
           {
            "marker": {
             "colorbar": {
              "outlinewidth": 0,
              "ticks": ""
             }
            },
            "type": "scatter"
           }
          ],
          "scatter3d": [
           {
            "line": {
             "colorbar": {
              "outlinewidth": 0,
              "ticks": ""
             }
            },
            "marker": {
             "colorbar": {
              "outlinewidth": 0,
              "ticks": ""
             }
            },
            "type": "scatter3d"
           }
          ],
          "scattercarpet": [
           {
            "marker": {
             "colorbar": {
              "outlinewidth": 0,
              "ticks": ""
             }
            },
            "type": "scattercarpet"
           }
          ],
          "scattergeo": [
           {
            "marker": {
             "colorbar": {
              "outlinewidth": 0,
              "ticks": ""
             }
            },
            "type": "scattergeo"
           }
          ],
          "scattergl": [
           {
            "marker": {
             "colorbar": {
              "outlinewidth": 0,
              "ticks": ""
             }
            },
            "type": "scattergl"
           }
          ],
          "scattermapbox": [
           {
            "marker": {
             "colorbar": {
              "outlinewidth": 0,
              "ticks": ""
             }
            },
            "type": "scattermapbox"
           }
          ],
          "scatterpolar": [
           {
            "marker": {
             "colorbar": {
              "outlinewidth": 0,
              "ticks": ""
             }
            },
            "type": "scatterpolar"
           }
          ],
          "scatterpolargl": [
           {
            "marker": {
             "colorbar": {
              "outlinewidth": 0,
              "ticks": ""
             }
            },
            "type": "scatterpolargl"
           }
          ],
          "scatterternary": [
           {
            "marker": {
             "colorbar": {
              "outlinewidth": 0,
              "ticks": ""
             }
            },
            "type": "scatterternary"
           }
          ],
          "surface": [
           {
            "colorbar": {
             "outlinewidth": 0,
             "ticks": ""
            },
            "colorscale": [
             [
              0,
              "#0d0887"
             ],
             [
              0.1111111111111111,
              "#46039f"
             ],
             [
              0.2222222222222222,
              "#7201a8"
             ],
             [
              0.3333333333333333,
              "#9c179e"
             ],
             [
              0.4444444444444444,
              "#bd3786"
             ],
             [
              0.5555555555555556,
              "#d8576b"
             ],
             [
              0.6666666666666666,
              "#ed7953"
             ],
             [
              0.7777777777777778,
              "#fb9f3a"
             ],
             [
              0.8888888888888888,
              "#fdca26"
             ],
             [
              1,
              "#f0f921"
             ]
            ],
            "type": "surface"
           }
          ],
          "table": [
           {
            "cells": {
             "fill": {
              "color": "#EBF0F8"
             },
             "line": {
              "color": "white"
             }
            },
            "header": {
             "fill": {
              "color": "#C8D4E3"
             },
             "line": {
              "color": "white"
             }
            },
            "type": "table"
           }
          ]
         },
         "layout": {
          "annotationdefaults": {
           "arrowcolor": "#2a3f5f",
           "arrowhead": 0,
           "arrowwidth": 1
          },
          "autotypenumbers": "strict",
          "coloraxis": {
           "colorbar": {
            "outlinewidth": 0,
            "ticks": ""
           }
          },
          "colorscale": {
           "diverging": [
            [
             0,
             "#8e0152"
            ],
            [
             0.1,
             "#c51b7d"
            ],
            [
             0.2,
             "#de77ae"
            ],
            [
             0.3,
             "#f1b6da"
            ],
            [
             0.4,
             "#fde0ef"
            ],
            [
             0.5,
             "#f7f7f7"
            ],
            [
             0.6,
             "#e6f5d0"
            ],
            [
             0.7,
             "#b8e186"
            ],
            [
             0.8,
             "#7fbc41"
            ],
            [
             0.9,
             "#4d9221"
            ],
            [
             1,
             "#276419"
            ]
           ],
           "sequential": [
            [
             0,
             "#0d0887"
            ],
            [
             0.1111111111111111,
             "#46039f"
            ],
            [
             0.2222222222222222,
             "#7201a8"
            ],
            [
             0.3333333333333333,
             "#9c179e"
            ],
            [
             0.4444444444444444,
             "#bd3786"
            ],
            [
             0.5555555555555556,
             "#d8576b"
            ],
            [
             0.6666666666666666,
             "#ed7953"
            ],
            [
             0.7777777777777778,
             "#fb9f3a"
            ],
            [
             0.8888888888888888,
             "#fdca26"
            ],
            [
             1,
             "#f0f921"
            ]
           ],
           "sequentialminus": [
            [
             0,
             "#0d0887"
            ],
            [
             0.1111111111111111,
             "#46039f"
            ],
            [
             0.2222222222222222,
             "#7201a8"
            ],
            [
             0.3333333333333333,
             "#9c179e"
            ],
            [
             0.4444444444444444,
             "#bd3786"
            ],
            [
             0.5555555555555556,
             "#d8576b"
            ],
            [
             0.6666666666666666,
             "#ed7953"
            ],
            [
             0.7777777777777778,
             "#fb9f3a"
            ],
            [
             0.8888888888888888,
             "#fdca26"
            ],
            [
             1,
             "#f0f921"
            ]
           ]
          },
          "colorway": [
           "#636efa",
           "#EF553B",
           "#00cc96",
           "#ab63fa",
           "#FFA15A",
           "#19d3f3",
           "#FF6692",
           "#B6E880",
           "#FF97FF",
           "#FECB52"
          ],
          "font": {
           "color": "#2a3f5f"
          },
          "geo": {
           "bgcolor": "white",
           "lakecolor": "white",
           "landcolor": "#E5ECF6",
           "showlakes": true,
           "showland": true,
           "subunitcolor": "white"
          },
          "hoverlabel": {
           "align": "left"
          },
          "hovermode": "closest",
          "mapbox": {
           "style": "light"
          },
          "paper_bgcolor": "white",
          "plot_bgcolor": "#E5ECF6",
          "polar": {
           "angularaxis": {
            "gridcolor": "white",
            "linecolor": "white",
            "ticks": ""
           },
           "bgcolor": "#E5ECF6",
           "radialaxis": {
            "gridcolor": "white",
            "linecolor": "white",
            "ticks": ""
           }
          },
          "scene": {
           "xaxis": {
            "backgroundcolor": "#E5ECF6",
            "gridcolor": "white",
            "gridwidth": 2,
            "linecolor": "white",
            "showbackground": true,
            "ticks": "",
            "zerolinecolor": "white"
           },
           "yaxis": {
            "backgroundcolor": "#E5ECF6",
            "gridcolor": "white",
            "gridwidth": 2,
            "linecolor": "white",
            "showbackground": true,
            "ticks": "",
            "zerolinecolor": "white"
           },
           "zaxis": {
            "backgroundcolor": "#E5ECF6",
            "gridcolor": "white",
            "gridwidth": 2,
            "linecolor": "white",
            "showbackground": true,
            "ticks": "",
            "zerolinecolor": "white"
           }
          },
          "shapedefaults": {
           "line": {
            "color": "#2a3f5f"
           }
          },
          "ternary": {
           "aaxis": {
            "gridcolor": "white",
            "linecolor": "white",
            "ticks": ""
           },
           "baxis": {
            "gridcolor": "white",
            "linecolor": "white",
            "ticks": ""
           },
           "bgcolor": "#E5ECF6",
           "caxis": {
            "gridcolor": "white",
            "linecolor": "white",
            "ticks": ""
           }
          },
          "title": {
           "x": 0.05
          },
          "xaxis": {
           "automargin": true,
           "gridcolor": "white",
           "linecolor": "white",
           "ticks": "",
           "title": {
            "standoff": 15
           },
           "zerolinecolor": "white",
           "zerolinewidth": 2
          },
          "yaxis": {
           "automargin": true,
           "gridcolor": "white",
           "linecolor": "white",
           "ticks": "",
           "title": {
            "standoff": 15
           },
           "zerolinecolor": "white",
           "zerolinewidth": 2
          }
         }
        },
        "title": {
         "text": "Average GDP vs Average Population"
        },
        "xaxis": {
         "anchor": "y",
         "domain": [
          0,
          1
         ],
         "title": {
          "text": "Average Population from 2005-2015"
         },
         "type": "log"
        },
        "yaxis": {
         "anchor": "x",
         "domain": [
          0,
          1
         ],
         "title": {
          "text": "GDP (per capita) in dollars"
         }
        }
       }
      }
     },
     "metadata": {},
     "output_type": "display_data"
    }
   ],
   "source": [
    "fig = px.scatter(\n",
    "                 oad,\n",
    "                 x = oad[\"Average Pop\"],\n",
    "                 y = oad[\"Average GDP\"],\n",
    "                 trendline=\"ols\",\n",
    "                 labels={\"Average GDP\" :\"GDP (per capita) in dollars\",\n",
    "                 \"Average Pop\" : \"Average Population from 2005-2015\"},\n",
    "                 title=f\"Average GDP vs Average Population\",\n",
    "                 hover_data=[\"Country\"],\n",
    "                 log_x=True,\n",
    "                )\n",
    "fig.show()"
   ]
  },
  {
   "cell_type": "code",
   "execution_count": null,
   "metadata": {},
   "outputs": [],
   "source": [
    "context_plot(od)"
   ]
  },
  {
   "cell_type": "code",
   "execution_count": null,
   "metadata": {},
   "outputs": [],
   "source": [
    "medals_plot(od, \"GDP\", \"Total\")\n",
    "medals_plot(od, \"Pop\", \"Total\")"
   ]
  }
 ],
 "metadata": {
  "interpreter": {
   "hash": "215e38ef8319e1cae6b3dde5700c3b8f4291d7f7fc9767af33ad694aef458a78"
  },
  "kernelspec": {
   "display_name": "Python 3 (ipykernel)",
   "language": "python",
   "name": "python3"
  },
  "language_info": {
   "codemirror_mode": {
    "name": "ipython",
    "version": 3
   },
   "file_extension": ".py",
   "mimetype": "text/x-python",
   "name": "python",
   "nbconvert_exporter": "python",
   "pygments_lexer": "ipython3",
   "version": "3.9.7"
  }
 },
 "nbformat": 4,
 "nbformat_minor": 4
}
