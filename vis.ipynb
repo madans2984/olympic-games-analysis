{
 "cells": [
  {
   "cell_type": "code",
   "execution_count": null,
   "metadata": {},
   "outputs": [],
   "source": [
    "%load_ext autoreload\n",
    "%autoreload 2"
   ]
  },
  {
   "cell_type": "code",
   "execution_count": null,
   "metadata": {},
   "outputs": [],
   "source": [
    "import pandas as pd\n",
    "from vis_helpers import *\n",
    "import grama as gr\n",
    "olympics_dataframe = pd.read_csv(\"data/olympic_gdp_population_data_no_nans.csv\")"
   ]
  },
  {
   "cell_type": "code",
   "execution_count": null,
   "metadata": {},
   "outputs": [],
   "source": [
    "athletes_2004 = pd.read_csv(\"data/athletes-2004.csv\")\n",
    "athletes_2004.rename(columns = {\"Athletes\" : \"Athletes-2004\"}, inplace = True)\n",
    "athletes_2008 = pd.read_csv(\"data/athletes-2008.csv\")\n",
    "athletes_2008.rename(columns = {\"Athletes\" : \"Athletes-2008\"}, inplace = True)\n",
    "athletes_2012 = pd.read_csv(\"data/athletes-2012.csv\")\n",
    "athletes_2012.rename(columns = {\"Athletes\" : \"Athletes-2012\"}, inplace = True)\n",
    "athletes_2016 = pd.read_csv(\"data/athletes-2016.csv\")\n",
    "athletes_2016.rename(columns = {\"Athletes\" : \"Athletes-2016\"}, inplace = True)\n",
    "\n",
    "olympics_dataframe = olympics_dataframe.merge(athletes_2004, how=\"inner\",left_on=\"Country\", right_on=\"Country\")\n",
    "olympics_dataframe = olympics_dataframe.merge(athletes_2008, how=\"inner\",left_on=\"Country\", right_on=\"Country\")\n",
    "olympics_dataframe = olympics_dataframe.merge(athletes_2012, how=\"inner\",left_on=\"Country\", right_on=\"Country\")\n",
    "olympics_dataframe = olympics_dataframe.merge(athletes_2016, how=\"inner\",left_on=\"Country\", right_on=\"Country\")"
   ]
  },
  {
   "cell_type": "code",
   "execution_count": null,
   "metadata": {},
   "outputs": [],
   "source": [
    "fig = px.scatter(\n",
    "                 oad,\n",
    "                 x = oad[\"Average GDP\"],\n",
    "                 y = oad[\"Average Total\"],\n",
    "                 trendline=\"ols\",\n",
    "                 labels={\"Average GDP\" :\"GDP (per capita) in dollars\",\n",
    "                 \"Average Total\" : \"Average Total Olympic medals\"},\n",
    "                 title=f\"Average GDP vs Average Total medals from 2004-2016\",\n",
    "                 hover_data=[\"Country\"],\n",
    "                 log_x=False,\n",
    "                )\n",
    "fig.show()"
   ]
  },
  {
   "cell_type": "code",
   "execution_count": null,
   "metadata": {},
   "outputs": [],
   "source": [
    "fig = px.scatter(\n",
    "                 oad,\n",
    "                 x = oad[\"Average Pop\"],\n",
    "                 y = oad[\"Average Total\"],\n",
    "                 trendline=\"ols\",\n",
    "                 labels={\"Average Pop\" :\"Average Population from 2005-2015\",\n",
    "                 \"Average Total\" : \"Average Total Olympic medals\"},\n",
    "                 title=f\"Average Population vs Average Total medals from 2004-2016\",\n",
    "                 hover_data=[\"Country\"],\n",
    "                 log_x=True,\n",
    "                )\n",
    "fig.show()"
   ]
  },
  {
   "cell_type": "code",
   "execution_count": null,
   "metadata": {},
   "outputs": [],
   "source": [
    "fig = px.scatter(\n",
    "                 oad,\n",
    "                 x = oad[\"Average Pop\"],\n",
    "                 y = oad[\"Average GDP\"],\n",
    "                 trendline=\"ols\",\n",
    "                 labels={\"Average GDP\" :\"GDP (per capita) in dollars\",\n",
    "                 \"Average Pop\" : \"Average Population from 2005-2015\"},\n",
    "                 title=f\"Average GDP vs Average Population\",\n",
    "                 hover_data=[\"Country\"],\n",
    "                 log_x=True,\n",
    "                )\n",
    "fig.show()"
   ]
  },
  {
   "cell_type": "code",
   "execution_count": null,
   "metadata": {},
   "outputs": [],
   "source": [
    "context_plot(od)"
   ]
  },
  {
   "cell_type": "code",
   "execution_count": null,
   "metadata": {},
   "outputs": [],
   "source": [
    "medals_plot(od, \"GDP\", \"Total\")\n",
    "medals_plot(od, \"Pop\", \"Total\")"
   ]
  },
  {
   "cell_type": "code",
   "execution_count": null,
   "metadata": {},
   "outputs": [],
   "source": [
    "fig = px.scatter(\n",
    "                 od,\n",
    "                 x = od[\"Athletes\"],\n",
    "                 y = od[\"Total\"],\n",
    "                 trendline=\"ols\",\n",
    "                 labels={\"Athletes\" :\"Total Number of Competitors\",\n",
    "                 \"Total\" : \"Total Number of Medals\"},\n",
    "                 title=f\"Number of Competitors vs Number of Medals\",\n",
    "                 hover_data=[\"Country\"],\n",
    "                 log_x=True,\n",
    "                 facet_col= \"Year\",\n",
    "                 color = \"Year\"\n",
    "                )\n",
    "fig.show()"
   ]
  },
  {
   "cell_type": "code",
   "execution_count": null,
   "metadata": {},
   "outputs": [],
   "source": [
    "fig = px.scatter(\n",
    "                 od,\n",
    "                 x = od[\"GDP\"],\n",
    "                 y = od[\"Success Rate\"],\n",
    "                 trendline=\"ols\",\n",
    "                 labels={\"GDP\" :\"GDP (per capita) in dollars\"},\n",
    "                 title=f\"GDP vs Success Rate\",\n",
    "                 hover_data=[\"Country\"],\n",
    "                 log_x=True,\n",
    "                 facet_col= \"Year\",\n",
    "                 color = \"Year\"\n",
    "                )\n",
    "fig.show()"
   ]
  },
  {
   "cell_type": "code",
   "execution_count": null,
   "metadata": {},
   "outputs": [],
   "source": [
    "fig = px.scatter(\n",
    "                 od,\n",
    "                 x = od[\"Pop\"],\n",
    "                 y = od[\"Success Rate\"],\n",
    "                 trendline=\"ols\",\n",
    "                 labels={\"Population\" :\"Population (in thousands)\",\n",
    "                 \"Total\" : \"Total Number of Medals\"},\n",
    "                 title=f\"Population vs Success Rate\",\n",
    "                 hover_data=[\"Country\"],\n",
    "                 log_x=True,\n",
    "                 facet_col= \"Year\",\n",
    "                 color = \"Year\"\n",
    "                )\n",
    "fig.show()"
   ]
  },
  {
   "cell_type": "code",
   "execution_count": null,
   "metadata": {},
   "outputs": [],
   "source": [
    "fig = px.scatter(\n",
    "                 oad,\n",
    "                 x = oad[\"Average Athletes\"],\n",
    "                 y = oad[\"Average Total\"],\n",
    "                 trendline=\"ols\",\n",
    "                 labels={\"Average Athletes\" :\"Average Number of Competitors from 2004-2016\",\n",
    "                 \"Average Plot\" : \"Total Number of Medals from 2004-2016\"},\n",
    "                 title=f\"Average Number of Competitors vs Average Number of Athletes\",\n",
    "                 hover_data=[\"Country\"],\n",
    "                 log_x=True,\n",
    "                )\n",
    "fig.show()"
   ]
  }
 ],
 "metadata": {
  "interpreter": {
   "hash": "215e38ef8319e1cae6b3dde5700c3b8f4291d7f7fc9767af33ad694aef458a78"
  },
  "kernelspec": {
   "display_name": "Python 3 (ipykernel)",
   "language": "python",
   "name": "python3"
  },
  "language_info": {
   "codemirror_mode": {
    "name": "ipython",
    "version": 3
   },
   "file_extension": ".py",
   "mimetype": "text/x-python",
   "name": "python",
   "nbconvert_exporter": "python",
   "pygments_lexer": "ipython3",
   "version": "3.9.7"
  }
 },
 "nbformat": 4,
 "nbformat_minor": 4
}
