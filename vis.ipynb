{
 "cells": [
  {
   "cell_type": "code",
   "execution_count": 8,
   "metadata": {},
   "outputs": [],
   "source": [
    "import matplotlib.pyplot as plt\n",
    "import pandas as pd\n",
    "import plotly.express as px\n",
    "from vis_helpers import *\n",
    "olympics_dataframe = pd.read_csv(\"olympic_gdp_population_data.csv\")\n"
   ]
  },
  {
   "cell_type": "code",
   "execution_count": 9,
   "metadata": {},
   "outputs": [
    {
     "data": {
      "application/vnd.plotly.v1+json": {
       "config": {
        "plotlyServerURL": "https://plot.ly"
       },
       "data": [
        {
         "customdata": [
          [
           "United States"
          ],
          [
           "China"
          ],
          [
           "Great Britain"
          ],
          [
           "Russia"
          ],
          [
           "South Korea"
          ],
          [
           "Germany"
          ],
          [
           "France"
          ],
          [
           "Australia"
          ],
          [
           "Italy"
          ],
          [
           "Hungary"
          ],
          [
           "Japan"
          ],
          [
           "Iran"
          ],
          [
           "Netherlands"
          ],
          [
           "New Zealand"
          ],
          [
           "Ukraine"
          ],
          [
           "Cuba"
          ],
          [
           "Spain"
          ],
          [
           "Jamaica"
          ],
          [
           "Czech Republic"
          ],
          [
           "South Africa"
          ],
          [
           "North Korea"
          ],
          [
           "Brazil"
          ],
          [
           "Kazakhstan"
          ],
          [
           "Poland"
          ],
          [
           "Ethiopia"
          ],
          [
           "Croatia"
          ],
          [
           "Canada"
          ],
          [
           "Belarus"
          ],
          [
           "Kenya"
          ],
          [
           "Denmark"
          ],
          [
           "Romania"
          ],
          [
           "Azerbaijan"
          ],
          [
           "Switzerland"
          ],
          [
           "Norway"
          ],
          [
           "Lithuania"
          ],
          [
           "Tunisia"
          ],
          [
           "Sweden"
          ],
          [
           "Colombia"
          ],
          [
           "Mexico"
          ],
          [
           "Georgia"
          ],
          [
           "Ireland"
          ],
          [
           "Argentina"
          ],
          [
           "Serbia"
          ],
          [
           "Slovenia"
          ],
          [
           "Trinidad and Tobago"
          ],
          [
           "Turkey"
          ],
          [
           "Dominican Republic"
          ],
          [
           "Chinese Taipei"
          ],
          [
           "Latvia"
          ],
          [
           "Algeria"
          ],
          [
           "Bahamas"
          ],
          [
           "Bahrain"
          ],
          [
           "Grenada"
          ],
          [
           "Uganda"
          ],
          [
           "Venezuela"
          ],
          [
           "Egypt"
          ],
          [
           "India"
          ],
          [
           "Mongolia"
          ],
          [
           "Thailand"
          ],
          [
           "Bulgaria"
          ],
          [
           "Finland"
          ],
          [
           "Indonesia"
          ],
          [
           "Slovakia"
          ],
          [
           "Belgium"
          ],
          [
           "Armenia"
          ],
          [
           "Estonia"
          ],
          [
           "Malaysia"
          ],
          [
           "Puerto Rico"
          ],
          [
           "Qatar"
          ],
          [
           "Botswana"
          ],
          [
           "Cyprus"
          ],
          [
           "Gabon"
          ],
          [
           "Guatemala"
          ],
          [
           "Montenegro"
          ],
          [
           "Portugal"
          ],
          [
           "Uzbekistan"
          ],
          [
           "Greece"
          ],
          [
           "Singapore"
          ],
          [
           "Afghanistan"
          ],
          [
           "Cameroon"
          ],
          [
           "Hong Kong"
          ],
          [
           "Kuwait"
          ],
          [
           "Morocco"
          ],
          [
           "Saudi Arabia"
          ],
          [
           "Tajikistan"
          ],
          [
           "Vietnam"
          ],
          [
           "Zimbabwe"
          ],
          [
           "Panama"
          ],
          [
           "Nigeria"
          ],
          [
           "Austria"
          ],
          [
           "Kyrgyzstan"
          ],
          [
           "Chile"
          ],
          [
           "Ecuador"
          ],
          [
           "Iceland"
          ],
          [
           "Samoa"
          ],
          [
           "Sudan"
          ],
          [
           "Israel"
          ],
          [
           "Mauritius"
          ],
          [
           "Moldova"
          ],
          [
           "Togo"
          ],
          [
           "Ivory Coast"
          ],
          [
           "Fiji"
          ],
          [
           "Jordan"
          ],
          [
           "Kosovo"
          ],
          [
           "Burundi"
          ],
          [
           "Niger"
          ],
          [
           "Philippines"
          ],
          [
           "United Arab Emirates"
          ],
          [
           "Serbia and Montenegro"
          ],
          [
           "Paraguay"
          ],
          [
           "Eritrea"
          ],
          [
           "Syria"
          ]
         ],
         "hovertemplate": "GDP (per capita) in dollars=%{x}<br>Total Olympic medals=%{y}<br>NOC=%{customdata[0]}<extra></extra>",
         "legendgroup": "",
         "marker": {
          "color": "#636efa",
          "symbol": "circle"
         },
         "mode": "markers",
         "name": "",
         "orientation": "v",
         "showlegend": false,
         "type": "scatter",
         "x": [
          41642,
          4381,
          31688,
          14728,
          21872,
          32645,
          32255,
          34390,
          32577,
          18544,
          30836,
          13190,
          37263,
          26745,
          6536,
          3399,
          27856,
          7488,
          21045,
          10058,
          473,
          10514,
          12381,
          14358,
          571,
          16203,
          34390,
          8463,
          2191,
          37792,
          11808,
          5220,
          45660,
          53167,
          14644,
          7362,
          34868,
          7990,
          13878,
          4539,
          39948,
          12303,
          8853,
          22385,
          21910,
          13045,
          7608,
          26562,
          13507,
          10705,
          29379,
          44525,
          9015,
          1597,
          12194,
          7484,
          2474,
          5083,
          9611,
          9965,
          33076,
          5859,
          16258,
          33545,
          4562,
          17965,
          15279,
          28990,
          119823,
          9775,
          28235,
          14618,
          5307,
          9776,
          22832,
          3374,
          25345,
          54317,
          1113,
          2303,
          34456,
          60785,
          4663,
          45739,
          1568,
          3427,
          1885,
          9647,
          3109,
          35147,
          2376,
          14001,
          7143,
          33990,
          3723,
          3524,
          22143,
          11134,
          4413,
          1420,
          3164,
          7756,
          7475,
          5890,
          521,
          839,
          4174,
          110145,
          8931,
          7288,
          1279,
          4816
         ],
         "xaxis": "x",
         "y": [
          101,
          63,
          30,
          90,
          30,
          49,
          33,
          50,
          32,
          17,
          37,
          6,
          22,
          5,
          22,
          27,
          20,
          5,
          9,
          6,
          5,
          10,
          8,
          10,
          7,
          5,
          12,
          13,
          7,
          8,
          19,
          5,
          5,
          6,
          3,
          0,
          7,
          2,
          4,
          4,
          0,
          6,
          0,
          4,
          1,
          11,
          1,
          5,
          4,
          0,
          2,
          0,
          0,
          0,
          2,
          5,
          1,
          1,
          8,
          12,
          2,
          4,
          6,
          3,
          0,
          3,
          0,
          0,
          0,
          0,
          0,
          0,
          0,
          0,
          3,
          5,
          16,
          0,
          0,
          1,
          1,
          0,
          3,
          0,
          0,
          0,
          3,
          0,
          2,
          7,
          0,
          3,
          0,
          0,
          0,
          0,
          2,
          0,
          0,
          0,
          0,
          0,
          0,
          0,
          0,
          0,
          0,
          1,
          2,
          1,
          1,
          1
         ],
         "yaxis": "y"
        },
        {
         "hovertemplate": "<b>OLS trendline</b><br>Total-2004 = 0.000108182 * GDP-2004 + 6.3327<br>R<sup>2</sup>=0.016138<br><br>GDP (per capita) in dollars=%{x}<br>Total Olympic medals=%{y} <b>(trend)</b><extra></extra>",
         "legendgroup": "",
         "marker": {
          "color": "#636efa",
          "symbol": "circle"
         },
         "mode": "lines",
         "name": "",
         "showlegend": false,
         "type": "scatter",
         "x": [
          473,
          521,
          571,
          839,
          1113,
          1279,
          1420,
          1568,
          1597,
          1885,
          2191,
          2303,
          2376,
          2474,
          3109,
          3164,
          3374,
          3399,
          3427,
          3524,
          3723,
          4174,
          4381,
          4413,
          4539,
          4562,
          4663,
          4816,
          5083,
          5220,
          5307,
          5859,
          5890,
          6536,
          7143,
          7288,
          7362,
          7475,
          7484,
          7488,
          7608,
          7756,
          7990,
          8463,
          8853,
          8931,
          9015,
          9611,
          9647,
          9775,
          9776,
          9965,
          10058,
          10514,
          10705,
          11134,
          11808,
          12194,
          12303,
          12381,
          13045,
          13190,
          13507,
          13878,
          14001,
          14358,
          14618,
          14644,
          14728,
          15279,
          16203,
          16258,
          17965,
          18544,
          21045,
          21872,
          21910,
          22143,
          22385,
          22832,
          25345,
          26562,
          26745,
          27856,
          28235,
          28990,
          29379,
          30836,
          31688,
          32255,
          32577,
          32645,
          33076,
          33545,
          33990,
          34390,
          34390,
          34456,
          34868,
          35147,
          37263,
          37792,
          39948,
          41642,
          44525,
          45660,
          45739,
          53167,
          54317,
          60785,
          110145,
          119823
         ],
         "xaxis": "x",
         "y": [
          6.383874955476505,
          6.389067707587459,
          6.394476824369703,
          6.4234696903225315,
          6.453111650289229,
          6.47106991800628,
          6.486323627332208,
          6.50233461300765,
          6.505471900741352,
          6.536628413407078,
          6.569732208114412,
          6.581848629706639,
          6.589745940208715,
          6.600347809101914,
          6.669043592236414,
          6.674993620696882,
          6.697711911182307,
          6.70041646957343,
          6.703445574971486,
          6.71393926152904,
          6.735467546322371,
          6.784257779698213,
          6.806651523176703,
          6.81011335791734,
          6.823744332208594,
          6.826232525928427,
          6.8371589418285605,
          6.853710839182227,
          6.88259552279941,
          6.897416502782759,
          6.9068283659838645,
          6.966545015259839,
          6.969898667664831,
          7.039784456491424,
          7.1054511342278674,
          7.121137572896375,
          7.129143065734096,
          7.141367669661968,
          7.142341310682772,
          7.142774040025352,
          7.155755920302737,
          7.17176690597818,
          7.197081572519083,
          7.248251817279112,
          7.290442928180616,
          7.298881150360916,
          7.307968466555087,
          7.372445138599436,
          7.376339702682651,
          7.390187041645197,
          7.390295223980842,
          7.410741685417724,
          7.420802642632698,
          7.470133787686764,
          7.490796613794937,
          7.537206835786591,
          7.610121730011242,
          7.651880111570167,
          7.6636719861554585,
          7.672110208335759,
          7.743943279203961,
          7.7596297178724685,
          7.793923518271896,
          7.834059164796147,
          7.847365592080468,
          7.88598668590569,
          7.91411409317336,
          7.916926833900127,
          7.926014150094297,
          7.985622617034627,
          8.085583095170499,
          8.091533123630967,
          8.276200370576781,
          8.338837942915166,
          8.609401964363016,
          8.698868755941334,
          8.70297968469584,
          8.728186168901097,
          8.75436629412716,
          8.802723798160422,
          9.07458600763601,
          9.20624391011583,
          9.226041277538844,
          9.346231852440308,
          9.387232957649719,
          9.468910621061603,
          9.510993549627463,
          9.668615212662056,
          9.760786562631495,
          9.822125946942144,
          9.856960659019796,
          9.864317057843648,
          9.910943644506592,
          9.96168115992404,
          10.009822299286014,
          10.053095233543967,
          10.053095233543967,
          10.060235267696529,
          10.104806389982219,
          10.134989261627142,
          10.363903083851712,
          10.421131539407856,
          10.654372655058221,
          10.83763353164065,
          11.149523205304845,
          11.272310156261785,
          11.280856560777732,
          12.084434949947916,
          12.20884463593953,
          12.908567982890625,
          18.248448070322,
          19.295436714693167
         ],
         "yaxis": "y"
        }
       ],
       "layout": {
        "legend": {
         "tracegroupgap": 0
        },
        "template": {
         "data": {
          "bar": [
           {
            "error_x": {
             "color": "#2a3f5f"
            },
            "error_y": {
             "color": "#2a3f5f"
            },
            "marker": {
             "line": {
              "color": "#E5ECF6",
              "width": 0.5
             },
             "pattern": {
              "fillmode": "overlay",
              "size": 10,
              "solidity": 0.2
             }
            },
            "type": "bar"
           }
          ],
          "barpolar": [
           {
            "marker": {
             "line": {
              "color": "#E5ECF6",
              "width": 0.5
             },
             "pattern": {
              "fillmode": "overlay",
              "size": 10,
              "solidity": 0.2
             }
            },
            "type": "barpolar"
           }
          ],
          "carpet": [
           {
            "aaxis": {
             "endlinecolor": "#2a3f5f",
             "gridcolor": "white",
             "linecolor": "white",
             "minorgridcolor": "white",
             "startlinecolor": "#2a3f5f"
            },
            "baxis": {
             "endlinecolor": "#2a3f5f",
             "gridcolor": "white",
             "linecolor": "white",
             "minorgridcolor": "white",
             "startlinecolor": "#2a3f5f"
            },
            "type": "carpet"
           }
          ],
          "choropleth": [
           {
            "colorbar": {
             "outlinewidth": 0,
             "ticks": ""
            },
            "type": "choropleth"
           }
          ],
          "contour": [
           {
            "colorbar": {
             "outlinewidth": 0,
             "ticks": ""
            },
            "colorscale": [
             [
              0,
              "#0d0887"
             ],
             [
              0.1111111111111111,
              "#46039f"
             ],
             [
              0.2222222222222222,
              "#7201a8"
             ],
             [
              0.3333333333333333,
              "#9c179e"
             ],
             [
              0.4444444444444444,
              "#bd3786"
             ],
             [
              0.5555555555555556,
              "#d8576b"
             ],
             [
              0.6666666666666666,
              "#ed7953"
             ],
             [
              0.7777777777777778,
              "#fb9f3a"
             ],
             [
              0.8888888888888888,
              "#fdca26"
             ],
             [
              1,
              "#f0f921"
             ]
            ],
            "type": "contour"
           }
          ],
          "contourcarpet": [
           {
            "colorbar": {
             "outlinewidth": 0,
             "ticks": ""
            },
            "type": "contourcarpet"
           }
          ],
          "heatmap": [
           {
            "colorbar": {
             "outlinewidth": 0,
             "ticks": ""
            },
            "colorscale": [
             [
              0,
              "#0d0887"
             ],
             [
              0.1111111111111111,
              "#46039f"
             ],
             [
              0.2222222222222222,
              "#7201a8"
             ],
             [
              0.3333333333333333,
              "#9c179e"
             ],
             [
              0.4444444444444444,
              "#bd3786"
             ],
             [
              0.5555555555555556,
              "#d8576b"
             ],
             [
              0.6666666666666666,
              "#ed7953"
             ],
             [
              0.7777777777777778,
              "#fb9f3a"
             ],
             [
              0.8888888888888888,
              "#fdca26"
             ],
             [
              1,
              "#f0f921"
             ]
            ],
            "type": "heatmap"
           }
          ],
          "heatmapgl": [
           {
            "colorbar": {
             "outlinewidth": 0,
             "ticks": ""
            },
            "colorscale": [
             [
              0,
              "#0d0887"
             ],
             [
              0.1111111111111111,
              "#46039f"
             ],
             [
              0.2222222222222222,
              "#7201a8"
             ],
             [
              0.3333333333333333,
              "#9c179e"
             ],
             [
              0.4444444444444444,
              "#bd3786"
             ],
             [
              0.5555555555555556,
              "#d8576b"
             ],
             [
              0.6666666666666666,
              "#ed7953"
             ],
             [
              0.7777777777777778,
              "#fb9f3a"
             ],
             [
              0.8888888888888888,
              "#fdca26"
             ],
             [
              1,
              "#f0f921"
             ]
            ],
            "type": "heatmapgl"
           }
          ],
          "histogram": [
           {
            "marker": {
             "pattern": {
              "fillmode": "overlay",
              "size": 10,
              "solidity": 0.2
             }
            },
            "type": "histogram"
           }
          ],
          "histogram2d": [
           {
            "colorbar": {
             "outlinewidth": 0,
             "ticks": ""
            },
            "colorscale": [
             [
              0,
              "#0d0887"
             ],
             [
              0.1111111111111111,
              "#46039f"
             ],
             [
              0.2222222222222222,
              "#7201a8"
             ],
             [
              0.3333333333333333,
              "#9c179e"
             ],
             [
              0.4444444444444444,
              "#bd3786"
             ],
             [
              0.5555555555555556,
              "#d8576b"
             ],
             [
              0.6666666666666666,
              "#ed7953"
             ],
             [
              0.7777777777777778,
              "#fb9f3a"
             ],
             [
              0.8888888888888888,
              "#fdca26"
             ],
             [
              1,
              "#f0f921"
             ]
            ],
            "type": "histogram2d"
           }
          ],
          "histogram2dcontour": [
           {
            "colorbar": {
             "outlinewidth": 0,
             "ticks": ""
            },
            "colorscale": [
             [
              0,
              "#0d0887"
             ],
             [
              0.1111111111111111,
              "#46039f"
             ],
             [
              0.2222222222222222,
              "#7201a8"
             ],
             [
              0.3333333333333333,
              "#9c179e"
             ],
             [
              0.4444444444444444,
              "#bd3786"
             ],
             [
              0.5555555555555556,
              "#d8576b"
             ],
             [
              0.6666666666666666,
              "#ed7953"
             ],
             [
              0.7777777777777778,
              "#fb9f3a"
             ],
             [
              0.8888888888888888,
              "#fdca26"
             ],
             [
              1,
              "#f0f921"
             ]
            ],
            "type": "histogram2dcontour"
           }
          ],
          "mesh3d": [
           {
            "colorbar": {
             "outlinewidth": 0,
             "ticks": ""
            },
            "type": "mesh3d"
           }
          ],
          "parcoords": [
           {
            "line": {
             "colorbar": {
              "outlinewidth": 0,
              "ticks": ""
             }
            },
            "type": "parcoords"
           }
          ],
          "pie": [
           {
            "automargin": true,
            "type": "pie"
           }
          ],
          "scatter": [
           {
            "marker": {
             "colorbar": {
              "outlinewidth": 0,
              "ticks": ""
             }
            },
            "type": "scatter"
           }
          ],
          "scatter3d": [
           {
            "line": {
             "colorbar": {
              "outlinewidth": 0,
              "ticks": ""
             }
            },
            "marker": {
             "colorbar": {
              "outlinewidth": 0,
              "ticks": ""
             }
            },
            "type": "scatter3d"
           }
          ],
          "scattercarpet": [
           {
            "marker": {
             "colorbar": {
              "outlinewidth": 0,
              "ticks": ""
             }
            },
            "type": "scattercarpet"
           }
          ],
          "scattergeo": [
           {
            "marker": {
             "colorbar": {
              "outlinewidth": 0,
              "ticks": ""
             }
            },
            "type": "scattergeo"
           }
          ],
          "scattergl": [
           {
            "marker": {
             "colorbar": {
              "outlinewidth": 0,
              "ticks": ""
             }
            },
            "type": "scattergl"
           }
          ],
          "scattermapbox": [
           {
            "marker": {
             "colorbar": {
              "outlinewidth": 0,
              "ticks": ""
             }
            },
            "type": "scattermapbox"
           }
          ],
          "scatterpolar": [
           {
            "marker": {
             "colorbar": {
              "outlinewidth": 0,
              "ticks": ""
             }
            },
            "type": "scatterpolar"
           }
          ],
          "scatterpolargl": [
           {
            "marker": {
             "colorbar": {
              "outlinewidth": 0,
              "ticks": ""
             }
            },
            "type": "scatterpolargl"
           }
          ],
          "scatterternary": [
           {
            "marker": {
             "colorbar": {
              "outlinewidth": 0,
              "ticks": ""
             }
            },
            "type": "scatterternary"
           }
          ],
          "surface": [
           {
            "colorbar": {
             "outlinewidth": 0,
             "ticks": ""
            },
            "colorscale": [
             [
              0,
              "#0d0887"
             ],
             [
              0.1111111111111111,
              "#46039f"
             ],
             [
              0.2222222222222222,
              "#7201a8"
             ],
             [
              0.3333333333333333,
              "#9c179e"
             ],
             [
              0.4444444444444444,
              "#bd3786"
             ],
             [
              0.5555555555555556,
              "#d8576b"
             ],
             [
              0.6666666666666666,
              "#ed7953"
             ],
             [
              0.7777777777777778,
              "#fb9f3a"
             ],
             [
              0.8888888888888888,
              "#fdca26"
             ],
             [
              1,
              "#f0f921"
             ]
            ],
            "type": "surface"
           }
          ],
          "table": [
           {
            "cells": {
             "fill": {
              "color": "#EBF0F8"
             },
             "line": {
              "color": "white"
             }
            },
            "header": {
             "fill": {
              "color": "#C8D4E3"
             },
             "line": {
              "color": "white"
             }
            },
            "type": "table"
           }
          ]
         },
         "layout": {
          "annotationdefaults": {
           "arrowcolor": "#2a3f5f",
           "arrowhead": 0,
           "arrowwidth": 1
          },
          "autotypenumbers": "strict",
          "coloraxis": {
           "colorbar": {
            "outlinewidth": 0,
            "ticks": ""
           }
          },
          "colorscale": {
           "diverging": [
            [
             0,
             "#8e0152"
            ],
            [
             0.1,
             "#c51b7d"
            ],
            [
             0.2,
             "#de77ae"
            ],
            [
             0.3,
             "#f1b6da"
            ],
            [
             0.4,
             "#fde0ef"
            ],
            [
             0.5,
             "#f7f7f7"
            ],
            [
             0.6,
             "#e6f5d0"
            ],
            [
             0.7,
             "#b8e186"
            ],
            [
             0.8,
             "#7fbc41"
            ],
            [
             0.9,
             "#4d9221"
            ],
            [
             1,
             "#276419"
            ]
           ],
           "sequential": [
            [
             0,
             "#0d0887"
            ],
            [
             0.1111111111111111,
             "#46039f"
            ],
            [
             0.2222222222222222,
             "#7201a8"
            ],
            [
             0.3333333333333333,
             "#9c179e"
            ],
            [
             0.4444444444444444,
             "#bd3786"
            ],
            [
             0.5555555555555556,
             "#d8576b"
            ],
            [
             0.6666666666666666,
             "#ed7953"
            ],
            [
             0.7777777777777778,
             "#fb9f3a"
            ],
            [
             0.8888888888888888,
             "#fdca26"
            ],
            [
             1,
             "#f0f921"
            ]
           ],
           "sequentialminus": [
            [
             0,
             "#0d0887"
            ],
            [
             0.1111111111111111,
             "#46039f"
            ],
            [
             0.2222222222222222,
             "#7201a8"
            ],
            [
             0.3333333333333333,
             "#9c179e"
            ],
            [
             0.4444444444444444,
             "#bd3786"
            ],
            [
             0.5555555555555556,
             "#d8576b"
            ],
            [
             0.6666666666666666,
             "#ed7953"
            ],
            [
             0.7777777777777778,
             "#fb9f3a"
            ],
            [
             0.8888888888888888,
             "#fdca26"
            ],
            [
             1,
             "#f0f921"
            ]
           ]
          },
          "colorway": [
           "#636efa",
           "#EF553B",
           "#00cc96",
           "#ab63fa",
           "#FFA15A",
           "#19d3f3",
           "#FF6692",
           "#B6E880",
           "#FF97FF",
           "#FECB52"
          ],
          "font": {
           "color": "#2a3f5f"
          },
          "geo": {
           "bgcolor": "white",
           "lakecolor": "white",
           "landcolor": "#E5ECF6",
           "showlakes": true,
           "showland": true,
           "subunitcolor": "white"
          },
          "hoverlabel": {
           "align": "left"
          },
          "hovermode": "closest",
          "mapbox": {
           "style": "light"
          },
          "paper_bgcolor": "white",
          "plot_bgcolor": "#E5ECF6",
          "polar": {
           "angularaxis": {
            "gridcolor": "white",
            "linecolor": "white",
            "ticks": ""
           },
           "bgcolor": "#E5ECF6",
           "radialaxis": {
            "gridcolor": "white",
            "linecolor": "white",
            "ticks": ""
           }
          },
          "scene": {
           "xaxis": {
            "backgroundcolor": "#E5ECF6",
            "gridcolor": "white",
            "gridwidth": 2,
            "linecolor": "white",
            "showbackground": true,
            "ticks": "",
            "zerolinecolor": "white"
           },
           "yaxis": {
            "backgroundcolor": "#E5ECF6",
            "gridcolor": "white",
            "gridwidth": 2,
            "linecolor": "white",
            "showbackground": true,
            "ticks": "",
            "zerolinecolor": "white"
           },
           "zaxis": {
            "backgroundcolor": "#E5ECF6",
            "gridcolor": "white",
            "gridwidth": 2,
            "linecolor": "white",
            "showbackground": true,
            "ticks": "",
            "zerolinecolor": "white"
           }
          },
          "shapedefaults": {
           "line": {
            "color": "#2a3f5f"
           }
          },
          "ternary": {
           "aaxis": {
            "gridcolor": "white",
            "linecolor": "white",
            "ticks": ""
           },
           "baxis": {
            "gridcolor": "white",
            "linecolor": "white",
            "ticks": ""
           },
           "bgcolor": "#E5ECF6",
           "caxis": {
            "gridcolor": "white",
            "linecolor": "white",
            "ticks": ""
           }
          },
          "title": {
           "x": 0.05
          },
          "xaxis": {
           "automargin": true,
           "gridcolor": "white",
           "linecolor": "white",
           "ticks": "",
           "title": {
            "standoff": 15
           },
           "zerolinecolor": "white",
           "zerolinewidth": 2
          },
          "yaxis": {
           "automargin": true,
           "gridcolor": "white",
           "linecolor": "white",
           "ticks": "",
           "title": {
            "standoff": 15
           },
           "zerolinecolor": "white",
           "zerolinewidth": 2
          }
         }
        },
        "title": {
         "text": "GDP vs Total medals in 2004"
        },
        "xaxis": {
         "anchor": "y",
         "domain": [
          0,
          1
         ],
         "title": {
          "text": "GDP (per capita) in dollars"
         }
        },
        "yaxis": {
         "anchor": "x",
         "domain": [
          0,
          1
         ],
         "title": {
          "text": "Total Olympic medals"
         }
        }
       }
      }
     },
     "metadata": {},
     "output_type": "display_data"
    },
    {
     "data": {
      "application/vnd.plotly.v1+json": {
       "config": {
        "plotlyServerURL": "https://plot.ly"
       },
       "data": [
        {
         "customdata": [
          [
           "United States"
          ],
          [
           "China"
          ],
          [
           "Great Britain"
          ],
          [
           "Russia"
          ],
          [
           "South Korea"
          ],
          [
           "Germany"
          ],
          [
           "France"
          ],
          [
           "Australia"
          ],
          [
           "Italy"
          ],
          [
           "Hungary"
          ],
          [
           "Japan"
          ],
          [
           "Iran"
          ],
          [
           "Netherlands"
          ],
          [
           "New Zealand"
          ],
          [
           "Ukraine"
          ],
          [
           "Cuba"
          ],
          [
           "Spain"
          ],
          [
           "Jamaica"
          ],
          [
           "Czech Republic"
          ],
          [
           "South Africa"
          ],
          [
           "North Korea"
          ],
          [
           "Brazil"
          ],
          [
           "Kazakhstan"
          ],
          [
           "Poland"
          ],
          [
           "Ethiopia"
          ],
          [
           "Croatia"
          ],
          [
           "Canada"
          ],
          [
           "Belarus"
          ],
          [
           "Kenya"
          ],
          [
           "Denmark"
          ],
          [
           "Romania"
          ],
          [
           "Azerbaijan"
          ],
          [
           "Switzerland"
          ],
          [
           "Norway"
          ],
          [
           "Lithuania"
          ],
          [
           "Tunisia"
          ],
          [
           "Sweden"
          ],
          [
           "Colombia"
          ],
          [
           "Mexico"
          ],
          [
           "Georgia"
          ],
          [
           "Ireland"
          ],
          [
           "Argentina"
          ],
          [
           "Serbia"
          ],
          [
           "Slovenia"
          ],
          [
           "Trinidad and Tobago"
          ],
          [
           "Turkey"
          ],
          [
           "Dominican Republic"
          ],
          [
           "Chinese Taipei"
          ],
          [
           "Latvia"
          ],
          [
           "Algeria"
          ],
          [
           "Bahamas"
          ],
          [
           "Bahrain"
          ],
          [
           "Grenada"
          ],
          [
           "Uganda"
          ],
          [
           "Venezuela"
          ],
          [
           "Egypt"
          ],
          [
           "India"
          ],
          [
           "Mongolia"
          ],
          [
           "Thailand"
          ],
          [
           "Bulgaria"
          ],
          [
           "Finland"
          ],
          [
           "Indonesia"
          ],
          [
           "Slovakia"
          ],
          [
           "Belgium"
          ],
          [
           "Armenia"
          ],
          [
           "Estonia"
          ],
          [
           "Malaysia"
          ],
          [
           "Puerto Rico"
          ],
          [
           "Qatar"
          ],
          [
           "Botswana"
          ],
          [
           "Cyprus"
          ],
          [
           "Gabon"
          ],
          [
           "Guatemala"
          ],
          [
           "Montenegro"
          ],
          [
           "Portugal"
          ],
          [
           "Uzbekistan"
          ],
          [
           "Greece"
          ],
          [
           "Singapore"
          ],
          [
           "Afghanistan"
          ],
          [
           "Cameroon"
          ],
          [
           "Hong Kong"
          ],
          [
           "Kuwait"
          ],
          [
           "Morocco"
          ],
          [
           "Saudi Arabia"
          ],
          [
           "Tajikistan"
          ],
          [
           "Vietnam"
          ],
          [
           "Zimbabwe"
          ],
          [
           "Panama"
          ],
          [
           "Nigeria"
          ],
          [
           "Austria"
          ],
          [
           "Kyrgyzstan"
          ],
          [
           "Chile"
          ],
          [
           "Ecuador"
          ],
          [
           "Iceland"
          ],
          [
           "Samoa"
          ],
          [
           "Sudan"
          ],
          [
           "Israel"
          ],
          [
           "Mauritius"
          ],
          [
           "Moldova"
          ],
          [
           "Togo"
          ],
          [
           "Ivory Coast"
          ],
          [
           "Fiji"
          ],
          [
           "Jordan"
          ],
          [
           "Kosovo"
          ],
          [
           "Burundi"
          ],
          [
           "Niger"
          ],
          [
           "Philippines"
          ],
          [
           "United Arab Emirates"
          ],
          [
           "Serbia and Montenegro"
          ],
          [
           "Paraguay"
          ],
          [
           "Eritrea"
          ],
          [
           "Syria"
          ]
         ],
         "hovertemplate": "GDP (per capita) in dollars=%{x}<br>Total Olympic medals=%{y}<br>NOC=%{customdata[0]}<extra></extra>",
         "legendgroup": "",
         "marker": {
          "color": "#636efa",
          "symbol": "circle"
         },
         "mode": "markers",
         "name": "",
         "orientation": "v",
         "showlegend": false,
         "type": "scatter",
         "x": [
          48471,
          7501,
          36905,
          21700,
          28550,
          39835,
          37416,
          40527,
          36514,
          22834,
          35512,
          16309,
          46004,
          31304,
          9143,
          5386,
          32590,
          8581,
          28482,
          12854,
          551,
          13397,
          17754,
          19620,
          904,
          21165,
          40159,
          13894,
          2618,
          44261,
          18164,
          13189,
          56389,
          61820,
          22704,
          9554,
          41877,
          10454,
          16134,
          7147,
          45061,
          17567,
          13026,
          30070,
          31159,
          17042,
          10704,
          34952,
          20591,
          12701,
          32690,
          48244,
          11565,
          2181,
          17706,
          9831,
          3529,
          7227,
          12256,
          14638,
          41130,
          7850,
          24471,
          39760,
          8111,
          24997,
          19711,
          30775,
          118534,
          13068,
          34994,
          15247,
          6455,
          14012,
          26573,
          4894,
          30519,
          67641,
          1512,
          2632,
          46777,
          69575,
          6008,
          52302,
          2128,
          4783,
          1465,
          14299,
          4094,
          42746,
          3048,
          18262,
          8892,
          43576,
          4576,
          4382,
          27761,
          14367,
          6200,
          1429,
          3424,
          8472,
          9673,
          7373,
          629,
          1016,
          5298,
          70074,
          13108,
          9120,
          1049,
          5938
         ],
         "xaxis": "x",
         "y": [
          112,
          100,
          51,
          60,
          32,
          41,
          43,
          46,
          27,
          10,
          25,
          2,
          16,
          9,
          22,
          30,
          19,
          11,
          7,
          1,
          6,
          17,
          9,
          11,
          7,
          5,
          20,
          14,
          16,
          7,
          9,
          6,
          7,
          9,
          5,
          1,
          5,
          3,
          4,
          7,
          3,
          6,
          3,
          5,
          2,
          5,
          2,
          4,
          3,
          2,
          2,
          0,
          0,
          0,
          1,
          2,
          3,
          4,
          6,
          5,
          4,
          6,
          6,
          2,
          5,
          2,
          1,
          0,
          0,
          0,
          0,
          0,
          0,
          0,
          2,
          4,
          3,
          1,
          1,
          1,
          0,
          0,
          2,
          0,
          2,
          1,
          4,
          1,
          5,
          3,
          3,
          1,
          1,
          1,
          1,
          1,
          1,
          1,
          1,
          1,
          0,
          0,
          0,
          0,
          0,
          0,
          0,
          0,
          0,
          0,
          0,
          0
         ],
         "yaxis": "y"
        },
        {
         "hovertemplate": "<b>OLS trendline</b><br>Total-2008 = 0.000123659 * GDP-2008 + 5.88647<br>R<sup>2</sup>=0.019064<br><br>GDP (per capita) in dollars=%{x}<br>Total Olympic medals=%{y} <b>(trend)</b><extra></extra>",
         "legendgroup": "",
         "marker": {
          "color": "#636efa",
          "symbol": "circle"
         },
         "mode": "lines",
         "name": "",
         "showlegend": false,
         "type": "scatter",
         "x": [
          551,
          629,
          904,
          1016,
          1049,
          1429,
          1465,
          1512,
          2128,
          2181,
          2618,
          2632,
          3048,
          3424,
          3529,
          4094,
          4382,
          4576,
          4783,
          4894,
          5298,
          5386,
          5938,
          6008,
          6200,
          6455,
          7147,
          7227,
          7373,
          7501,
          7850,
          8111,
          8472,
          8581,
          8892,
          9120,
          9143,
          9554,
          9673,
          9831,
          10454,
          10704,
          11565,
          12256,
          12701,
          12854,
          13026,
          13068,
          13108,
          13189,
          13397,
          13894,
          14012,
          14299,
          14367,
          14638,
          15247,
          16134,
          16309,
          17042,
          17567,
          17706,
          17754,
          18164,
          18262,
          19620,
          19711,
          20591,
          21165,
          21700,
          22704,
          22834,
          24471,
          24997,
          26573,
          27761,
          28482,
          28550,
          30070,
          30519,
          30775,
          31159,
          31304,
          32590,
          32690,
          34952,
          34994,
          35512,
          36514,
          36905,
          37416,
          39760,
          39835,
          40159,
          40527,
          41130,
          41877,
          42746,
          43576,
          44261,
          45061,
          46004,
          46777,
          48244,
          48471,
          52302,
          56389,
          61820,
          67641,
          69575,
          70074,
          118534
         ],
         "xaxis": "x",
         "y": [
          5.9546020062230784,
          5.964247402317372,
          5.998253606495968,
          6.012103406015979,
          6.016184150517411,
          6.063174541746017,
          6.067626263020307,
          6.073438232461739,
          6.149612129821797,
          6.156166052808945,
          6.2102050027218425,
          6.211936227661844,
          6.263378340164739,
          6.309874095696204,
          6.322858282746213,
          6.392725574967694,
          6.428339345162007,
          6.452329176473453,
          6.477926573800616,
          6.4916527143963405,
          6.541610919807806,
          6.552492905144957,
          6.620752631350723,
          6.629408756050729,
          6.653151269513605,
          6.684684295206486,
          6.770256270812265,
          6.7801489847551295,
          6.798203187700857,
          6.814031530009441,
          6.857188494585187,
          6.889463473823783,
          6.93410434549096,
          6.947583168238112,
          6.986041093690998,
          7.014235328428162,
          7.017079483686736,
          7.067903301568203,
          7.082618713558214,
          7.102156823595372,
          7.17919633342543,
          7.210111064496882,
          7.316581398306962,
          7.402029714988455,
          7.457057936295639,
          7.475977751711367,
          7.497247086688526,
          7.502440761508531,
          7.507387118479963,
          7.517403491347113,
          7.543124547598561,
          7.604583032968607,
          7.619174786034333,
          7.654664897304359,
          7.663073704155794,
          7.696585272637249,
          7.771893557527305,
          7.8815790233688166,
          7.903219335118832,
          7.99386132662033,
          8.058782261870379,
          8.075970852346106,
          8.081906480711824,
          8.132606639669005,
          8.144725214249014,
          8.31265403342914,
          8.323906995539149,
          8.43272684891066,
          8.503707071450714,
          8.56986459594362,
          8.694018155926571,
          8.710093816083726,
          8.912523475139594,
          8.977568069313929,
          9.172454533988361,
          9.3193613360399,
          9.408519420449966,
          9.416928227301401,
          9.604889792215829,
          9.660412649220156,
          9.692069333837324,
          9.739554360763073,
          9.757484904784516,
          9.916510281416063,
          9.928876173844644,
          10.208592660579141,
          10.213786335399146,
          10.277841658179193,
          10.401747900313573,
          10.450098539709323,
          10.513288250019372,
          10.803144768545303,
          10.81241918786674,
          10.85248467933534,
          10.897991163472518,
          10.97255749481686,
          11.064930711258357,
          11.172390316462725,
          11.275027223619944,
          11.359733586755723,
          11.45866072618437,
          11.575271091785886,
          11.670859440258814,
          11.852267082186094,
          11.880337657998972,
          12.3540749969379,
          12.859469020493997,
          13.531060638290217,
          14.2508792365579,
          14.490035596126653,
          14.551741399345271,
          20.5442528702355
         ],
         "yaxis": "y"
        }
       ],
       "layout": {
        "legend": {
         "tracegroupgap": 0
        },
        "template": {
         "data": {
          "bar": [
           {
            "error_x": {
             "color": "#2a3f5f"
            },
            "error_y": {
             "color": "#2a3f5f"
            },
            "marker": {
             "line": {
              "color": "#E5ECF6",
              "width": 0.5
             },
             "pattern": {
              "fillmode": "overlay",
              "size": 10,
              "solidity": 0.2
             }
            },
            "type": "bar"
           }
          ],
          "barpolar": [
           {
            "marker": {
             "line": {
              "color": "#E5ECF6",
              "width": 0.5
             },
             "pattern": {
              "fillmode": "overlay",
              "size": 10,
              "solidity": 0.2
             }
            },
            "type": "barpolar"
           }
          ],
          "carpet": [
           {
            "aaxis": {
             "endlinecolor": "#2a3f5f",
             "gridcolor": "white",
             "linecolor": "white",
             "minorgridcolor": "white",
             "startlinecolor": "#2a3f5f"
            },
            "baxis": {
             "endlinecolor": "#2a3f5f",
             "gridcolor": "white",
             "linecolor": "white",
             "minorgridcolor": "white",
             "startlinecolor": "#2a3f5f"
            },
            "type": "carpet"
           }
          ],
          "choropleth": [
           {
            "colorbar": {
             "outlinewidth": 0,
             "ticks": ""
            },
            "type": "choropleth"
           }
          ],
          "contour": [
           {
            "colorbar": {
             "outlinewidth": 0,
             "ticks": ""
            },
            "colorscale": [
             [
              0,
              "#0d0887"
             ],
             [
              0.1111111111111111,
              "#46039f"
             ],
             [
              0.2222222222222222,
              "#7201a8"
             ],
             [
              0.3333333333333333,
              "#9c179e"
             ],
             [
              0.4444444444444444,
              "#bd3786"
             ],
             [
              0.5555555555555556,
              "#d8576b"
             ],
             [
              0.6666666666666666,
              "#ed7953"
             ],
             [
              0.7777777777777778,
              "#fb9f3a"
             ],
             [
              0.8888888888888888,
              "#fdca26"
             ],
             [
              1,
              "#f0f921"
             ]
            ],
            "type": "contour"
           }
          ],
          "contourcarpet": [
           {
            "colorbar": {
             "outlinewidth": 0,
             "ticks": ""
            },
            "type": "contourcarpet"
           }
          ],
          "heatmap": [
           {
            "colorbar": {
             "outlinewidth": 0,
             "ticks": ""
            },
            "colorscale": [
             [
              0,
              "#0d0887"
             ],
             [
              0.1111111111111111,
              "#46039f"
             ],
             [
              0.2222222222222222,
              "#7201a8"
             ],
             [
              0.3333333333333333,
              "#9c179e"
             ],
             [
              0.4444444444444444,
              "#bd3786"
             ],
             [
              0.5555555555555556,
              "#d8576b"
             ],
             [
              0.6666666666666666,
              "#ed7953"
             ],
             [
              0.7777777777777778,
              "#fb9f3a"
             ],
             [
              0.8888888888888888,
              "#fdca26"
             ],
             [
              1,
              "#f0f921"
             ]
            ],
            "type": "heatmap"
           }
          ],
          "heatmapgl": [
           {
            "colorbar": {
             "outlinewidth": 0,
             "ticks": ""
            },
            "colorscale": [
             [
              0,
              "#0d0887"
             ],
             [
              0.1111111111111111,
              "#46039f"
             ],
             [
              0.2222222222222222,
              "#7201a8"
             ],
             [
              0.3333333333333333,
              "#9c179e"
             ],
             [
              0.4444444444444444,
              "#bd3786"
             ],
             [
              0.5555555555555556,
              "#d8576b"
             ],
             [
              0.6666666666666666,
              "#ed7953"
             ],
             [
              0.7777777777777778,
              "#fb9f3a"
             ],
             [
              0.8888888888888888,
              "#fdca26"
             ],
             [
              1,
              "#f0f921"
             ]
            ],
            "type": "heatmapgl"
           }
          ],
          "histogram": [
           {
            "marker": {
             "pattern": {
              "fillmode": "overlay",
              "size": 10,
              "solidity": 0.2
             }
            },
            "type": "histogram"
           }
          ],
          "histogram2d": [
           {
            "colorbar": {
             "outlinewidth": 0,
             "ticks": ""
            },
            "colorscale": [
             [
              0,
              "#0d0887"
             ],
             [
              0.1111111111111111,
              "#46039f"
             ],
             [
              0.2222222222222222,
              "#7201a8"
             ],
             [
              0.3333333333333333,
              "#9c179e"
             ],
             [
              0.4444444444444444,
              "#bd3786"
             ],
             [
              0.5555555555555556,
              "#d8576b"
             ],
             [
              0.6666666666666666,
              "#ed7953"
             ],
             [
              0.7777777777777778,
              "#fb9f3a"
             ],
             [
              0.8888888888888888,
              "#fdca26"
             ],
             [
              1,
              "#f0f921"
             ]
            ],
            "type": "histogram2d"
           }
          ],
          "histogram2dcontour": [
           {
            "colorbar": {
             "outlinewidth": 0,
             "ticks": ""
            },
            "colorscale": [
             [
              0,
              "#0d0887"
             ],
             [
              0.1111111111111111,
              "#46039f"
             ],
             [
              0.2222222222222222,
              "#7201a8"
             ],
             [
              0.3333333333333333,
              "#9c179e"
             ],
             [
              0.4444444444444444,
              "#bd3786"
             ],
             [
              0.5555555555555556,
              "#d8576b"
             ],
             [
              0.6666666666666666,
              "#ed7953"
             ],
             [
              0.7777777777777778,
              "#fb9f3a"
             ],
             [
              0.8888888888888888,
              "#fdca26"
             ],
             [
              1,
              "#f0f921"
             ]
            ],
            "type": "histogram2dcontour"
           }
          ],
          "mesh3d": [
           {
            "colorbar": {
             "outlinewidth": 0,
             "ticks": ""
            },
            "type": "mesh3d"
           }
          ],
          "parcoords": [
           {
            "line": {
             "colorbar": {
              "outlinewidth": 0,
              "ticks": ""
             }
            },
            "type": "parcoords"
           }
          ],
          "pie": [
           {
            "automargin": true,
            "type": "pie"
           }
          ],
          "scatter": [
           {
            "marker": {
             "colorbar": {
              "outlinewidth": 0,
              "ticks": ""
             }
            },
            "type": "scatter"
           }
          ],
          "scatter3d": [
           {
            "line": {
             "colorbar": {
              "outlinewidth": 0,
              "ticks": ""
             }
            },
            "marker": {
             "colorbar": {
              "outlinewidth": 0,
              "ticks": ""
             }
            },
            "type": "scatter3d"
           }
          ],
          "scattercarpet": [
           {
            "marker": {
             "colorbar": {
              "outlinewidth": 0,
              "ticks": ""
             }
            },
            "type": "scattercarpet"
           }
          ],
          "scattergeo": [
           {
            "marker": {
             "colorbar": {
              "outlinewidth": 0,
              "ticks": ""
             }
            },
            "type": "scattergeo"
           }
          ],
          "scattergl": [
           {
            "marker": {
             "colorbar": {
              "outlinewidth": 0,
              "ticks": ""
             }
            },
            "type": "scattergl"
           }
          ],
          "scattermapbox": [
           {
            "marker": {
             "colorbar": {
              "outlinewidth": 0,
              "ticks": ""
             }
            },
            "type": "scattermapbox"
           }
          ],
          "scatterpolar": [
           {
            "marker": {
             "colorbar": {
              "outlinewidth": 0,
              "ticks": ""
             }
            },
            "type": "scatterpolar"
           }
          ],
          "scatterpolargl": [
           {
            "marker": {
             "colorbar": {
              "outlinewidth": 0,
              "ticks": ""
             }
            },
            "type": "scatterpolargl"
           }
          ],
          "scatterternary": [
           {
            "marker": {
             "colorbar": {
              "outlinewidth": 0,
              "ticks": ""
             }
            },
            "type": "scatterternary"
           }
          ],
          "surface": [
           {
            "colorbar": {
             "outlinewidth": 0,
             "ticks": ""
            },
            "colorscale": [
             [
              0,
              "#0d0887"
             ],
             [
              0.1111111111111111,
              "#46039f"
             ],
             [
              0.2222222222222222,
              "#7201a8"
             ],
             [
              0.3333333333333333,
              "#9c179e"
             ],
             [
              0.4444444444444444,
              "#bd3786"
             ],
             [
              0.5555555555555556,
              "#d8576b"
             ],
             [
              0.6666666666666666,
              "#ed7953"
             ],
             [
              0.7777777777777778,
              "#fb9f3a"
             ],
             [
              0.8888888888888888,
              "#fdca26"
             ],
             [
              1,
              "#f0f921"
             ]
            ],
            "type": "surface"
           }
          ],
          "table": [
           {
            "cells": {
             "fill": {
              "color": "#EBF0F8"
             },
             "line": {
              "color": "white"
             }
            },
            "header": {
             "fill": {
              "color": "#C8D4E3"
             },
             "line": {
              "color": "white"
             }
            },
            "type": "table"
           }
          ]
         },
         "layout": {
          "annotationdefaults": {
           "arrowcolor": "#2a3f5f",
           "arrowhead": 0,
           "arrowwidth": 1
          },
          "autotypenumbers": "strict",
          "coloraxis": {
           "colorbar": {
            "outlinewidth": 0,
            "ticks": ""
           }
          },
          "colorscale": {
           "diverging": [
            [
             0,
             "#8e0152"
            ],
            [
             0.1,
             "#c51b7d"
            ],
            [
             0.2,
             "#de77ae"
            ],
            [
             0.3,
             "#f1b6da"
            ],
            [
             0.4,
             "#fde0ef"
            ],
            [
             0.5,
             "#f7f7f7"
            ],
            [
             0.6,
             "#e6f5d0"
            ],
            [
             0.7,
             "#b8e186"
            ],
            [
             0.8,
             "#7fbc41"
            ],
            [
             0.9,
             "#4d9221"
            ],
            [
             1,
             "#276419"
            ]
           ],
           "sequential": [
            [
             0,
             "#0d0887"
            ],
            [
             0.1111111111111111,
             "#46039f"
            ],
            [
             0.2222222222222222,
             "#7201a8"
            ],
            [
             0.3333333333333333,
             "#9c179e"
            ],
            [
             0.4444444444444444,
             "#bd3786"
            ],
            [
             0.5555555555555556,
             "#d8576b"
            ],
            [
             0.6666666666666666,
             "#ed7953"
            ],
            [
             0.7777777777777778,
             "#fb9f3a"
            ],
            [
             0.8888888888888888,
             "#fdca26"
            ],
            [
             1,
             "#f0f921"
            ]
           ],
           "sequentialminus": [
            [
             0,
             "#0d0887"
            ],
            [
             0.1111111111111111,
             "#46039f"
            ],
            [
             0.2222222222222222,
             "#7201a8"
            ],
            [
             0.3333333333333333,
             "#9c179e"
            ],
            [
             0.4444444444444444,
             "#bd3786"
            ],
            [
             0.5555555555555556,
             "#d8576b"
            ],
            [
             0.6666666666666666,
             "#ed7953"
            ],
            [
             0.7777777777777778,
             "#fb9f3a"
            ],
            [
             0.8888888888888888,
             "#fdca26"
            ],
            [
             1,
             "#f0f921"
            ]
           ]
          },
          "colorway": [
           "#636efa",
           "#EF553B",
           "#00cc96",
           "#ab63fa",
           "#FFA15A",
           "#19d3f3",
           "#FF6692",
           "#B6E880",
           "#FF97FF",
           "#FECB52"
          ],
          "font": {
           "color": "#2a3f5f"
          },
          "geo": {
           "bgcolor": "white",
           "lakecolor": "white",
           "landcolor": "#E5ECF6",
           "showlakes": true,
           "showland": true,
           "subunitcolor": "white"
          },
          "hoverlabel": {
           "align": "left"
          },
          "hovermode": "closest",
          "mapbox": {
           "style": "light"
          },
          "paper_bgcolor": "white",
          "plot_bgcolor": "#E5ECF6",
          "polar": {
           "angularaxis": {
            "gridcolor": "white",
            "linecolor": "white",
            "ticks": ""
           },
           "bgcolor": "#E5ECF6",
           "radialaxis": {
            "gridcolor": "white",
            "linecolor": "white",
            "ticks": ""
           }
          },
          "scene": {
           "xaxis": {
            "backgroundcolor": "#E5ECF6",
            "gridcolor": "white",
            "gridwidth": 2,
            "linecolor": "white",
            "showbackground": true,
            "ticks": "",
            "zerolinecolor": "white"
           },
           "yaxis": {
            "backgroundcolor": "#E5ECF6",
            "gridcolor": "white",
            "gridwidth": 2,
            "linecolor": "white",
            "showbackground": true,
            "ticks": "",
            "zerolinecolor": "white"
           },
           "zaxis": {
            "backgroundcolor": "#E5ECF6",
            "gridcolor": "white",
            "gridwidth": 2,
            "linecolor": "white",
            "showbackground": true,
            "ticks": "",
            "zerolinecolor": "white"
           }
          },
          "shapedefaults": {
           "line": {
            "color": "#2a3f5f"
           }
          },
          "ternary": {
           "aaxis": {
            "gridcolor": "white",
            "linecolor": "white",
            "ticks": ""
           },
           "baxis": {
            "gridcolor": "white",
            "linecolor": "white",
            "ticks": ""
           },
           "bgcolor": "#E5ECF6",
           "caxis": {
            "gridcolor": "white",
            "linecolor": "white",
            "ticks": ""
           }
          },
          "title": {
           "x": 0.05
          },
          "xaxis": {
           "automargin": true,
           "gridcolor": "white",
           "linecolor": "white",
           "ticks": "",
           "title": {
            "standoff": 15
           },
           "zerolinecolor": "white",
           "zerolinewidth": 2
          },
          "yaxis": {
           "automargin": true,
           "gridcolor": "white",
           "linecolor": "white",
           "ticks": "",
           "title": {
            "standoff": 15
           },
           "zerolinecolor": "white",
           "zerolinewidth": 2
          }
         }
        },
        "title": {
         "text": "GDP vs Total medals in 2008"
        },
        "xaxis": {
         "anchor": "y",
         "domain": [
          0,
          1
         ],
         "title": {
          "text": "GDP (per capita) in dollars"
         }
        },
        "yaxis": {
         "anchor": "x",
         "domain": [
          0,
          1
         ],
         "title": {
          "text": "Total Olympic medals"
         }
        }
       }
      }
     },
     "metadata": {},
     "output_type": "display_data"
    },
    {
     "data": {
      "application/vnd.plotly.v1+json": {
       "config": {
        "plotlyServerURL": "https://plot.ly"
       },
       "data": [
        {
         "customdata": [
          [
           "United States"
          ],
          [
           "China"
          ],
          [
           "Great Britain"
          ],
          [
           "Russia"
          ],
          [
           "South Korea"
          ],
          [
           "Germany"
          ],
          [
           "France"
          ],
          [
           "Australia"
          ],
          [
           "Italy"
          ],
          [
           "Hungary"
          ],
          [
           "Japan"
          ],
          [
           "Iran"
          ],
          [
           "Netherlands"
          ],
          [
           "New Zealand"
          ],
          [
           "Ukraine"
          ],
          [
           "Cuba"
          ],
          [
           "Spain"
          ],
          [
           "Jamaica"
          ],
          [
           "Czech Republic"
          ],
          [
           "South Africa"
          ],
          [
           "North Korea"
          ],
          [
           "Brazil"
          ],
          [
           "Kazakhstan"
          ],
          [
           "Poland"
          ],
          [
           "Ethiopia"
          ],
          [
           "Croatia"
          ],
          [
           "Canada"
          ],
          [
           "Belarus"
          ],
          [
           "Kenya"
          ],
          [
           "Denmark"
          ],
          [
           "Romania"
          ],
          [
           "Azerbaijan"
          ],
          [
           "Switzerland"
          ],
          [
           "Norway"
          ],
          [
           "Lithuania"
          ],
          [
           "Tunisia"
          ],
          [
           "Sweden"
          ],
          [
           "Colombia"
          ],
          [
           "Mexico"
          ],
          [
           "Georgia"
          ],
          [
           "Ireland"
          ],
          [
           "Argentina"
          ],
          [
           "Serbia"
          ],
          [
           "Slovenia"
          ],
          [
           "Trinidad and Tobago"
          ],
          [
           "Turkey"
          ],
          [
           "Dominican Republic"
          ],
          [
           "Chinese Taipei"
          ],
          [
           "Latvia"
          ],
          [
           "Algeria"
          ],
          [
           "Bahamas"
          ],
          [
           "Bahrain"
          ],
          [
           "Grenada"
          ],
          [
           "Uganda"
          ],
          [
           "Venezuela"
          ],
          [
           "Egypt"
          ],
          [
           "India"
          ],
          [
           "Mongolia"
          ],
          [
           "Thailand"
          ],
          [
           "Bulgaria"
          ],
          [
           "Finland"
          ],
          [
           "Indonesia"
          ],
          [
           "Slovakia"
          ],
          [
           "Belgium"
          ],
          [
           "Armenia"
          ],
          [
           "Estonia"
          ],
          [
           "Malaysia"
          ],
          [
           "Puerto Rico"
          ],
          [
           "Qatar"
          ],
          [
           "Botswana"
          ],
          [
           "Cyprus"
          ],
          [
           "Gabon"
          ],
          [
           "Guatemala"
          ],
          [
           "Montenegro"
          ],
          [
           "Portugal"
          ],
          [
           "Uzbekistan"
          ],
          [
           "Greece"
          ],
          [
           "Singapore"
          ],
          [
           "Afghanistan"
          ],
          [
           "Cameroon"
          ],
          [
           "Hong Kong"
          ],
          [
           "Kuwait"
          ],
          [
           "Morocco"
          ],
          [
           "Saudi Arabia"
          ],
          [
           "Tajikistan"
          ],
          [
           "Vietnam"
          ],
          [
           "Zimbabwe"
          ],
          [
           "Panama"
          ],
          [
           "Nigeria"
          ],
          [
           "Austria"
          ],
          [
           "Kyrgyzstan"
          ],
          [
           "Chile"
          ],
          [
           "Ecuador"
          ],
          [
           "Iceland"
          ],
          [
           "Samoa"
          ],
          [
           "Sudan"
          ],
          [
           "Israel"
          ],
          [
           "Mauritius"
          ],
          [
           "Moldova"
          ],
          [
           "Togo"
          ],
          [
           "Ivory Coast"
          ],
          [
           "Fiji"
          ],
          [
           "Jordan"
          ],
          [
           "Kosovo"
          ],
          [
           "Burundi"
          ],
          [
           "Niger"
          ],
          [
           "Philippines"
          ],
          [
           "United Arab Emirates"
          ],
          [
           "Serbia and Montenegro"
          ],
          [
           "Paraguay"
          ],
          [
           "Eritrea"
          ],
          [
           "Syria"
          ]
         ],
         "hovertemplate": "GDP (per capita) in dollars=%{x}<br>Total Olympic medals=%{y}<br>NOC=%{customdata[0]}<extra></extra>",
         "legendgroup": "",
         "marker": {
          "color": "#636efa",
          "symbol": "circle"
         },
         "mode": "markers",
         "name": "",
         "orientation": "v",
         "showlegend": false,
         "type": "scatter",
         "x": [
          51737,
          11137,
          38297,
          24279,
          33557,
          43359,
          39037,
          42906,
          36143,
          23179,
          37629,
          15846,
          47342,
          32734,
          9389,
          6448,
          31725,
          8586,
          29270,
          13191,
          643,
          15120,
          21878,
          23745,
          1315,
          21167,
          42351,
          18097,
          3107,
          44893,
          18834,
          16063,
          60273,
          65101,
          24704,
          10180,
          45259,
          12306,
          17213,
          9799,
          46308,
          19641,
          13939,
          29066,
          30063,
          20504,
          12208,
          41741,
          21298,
          13264,
          33252,
          54489,
          11164,
          2373,
          18553,
          11620,
          4861,
          10074,
          14871,
          16295,
          40969,
          9834,
          26983,
          42409,
          9094,
          25996,
          22963,
          32583,
          169698,
          13092,
          31906,
          15487,
          7018,
          13864,
          26438,
          6107,
          24819,
          82065,
          2318,
          2855,
          52082,
          72736,
          6857,
          57284,
          2709,
          6400,
          2386,
          18596,
          5000,
          46478,
          3654,
          21447,
          10280,
          42154,
          4787,
          3929,
          31860,
          16964,
          7329,
          1656,
          3563,
          9660,
          9301,
          8438,
          685,
          1156,
          6360,
          74088,
          13932,
          9957,
          1669,
          6374
         ],
         "xaxis": "x",
         "y": [
          104,
          91,
          65,
          67,
          30,
          44,
          35,
          35,
          28,
          18,
          38,
          13,
          20,
          13,
          19,
          15,
          20,
          12,
          11,
          6,
          7,
          17,
          11,
          11,
          8,
          6,
          18,
          10,
          13,
          9,
          7,
          9,
          4,
          4,
          5,
          3,
          8,
          9,
          8,
          6,
          6,
          4,
          4,
          4,
          4,
          3,
          2,
          2,
          2,
          1,
          1,
          1,
          1,
          1,
          1,
          4,
          6,
          5,
          4,
          3,
          3,
          3,
          4,
          3,
          2,
          2,
          2,
          2,
          2,
          1,
          1,
          1,
          1,
          1,
          1,
          3,
          2,
          2,
          1,
          1,
          1,
          1,
          1,
          1,
          1,
          1,
          0,
          0,
          0,
          0,
          0,
          0,
          0,
          0,
          0,
          0,
          0,
          0,
          0,
          0,
          0,
          0,
          0,
          0,
          0,
          0,
          0,
          0,
          0,
          0,
          0,
          0
         ],
         "yaxis": "y"
        },
        {
         "hovertemplate": "<b>OLS trendline</b><br>Total-2012 = 0.000105933 * GDP-2012 + 6.07474<br>R<sup>2</sup>=0.020430<br><br>GDP (per capita) in dollars=%{x}<br>Total Olympic medals=%{y} <b>(trend)</b><extra></extra>",
         "legendgroup": "",
         "marker": {
          "color": "#636efa",
          "symbol": "circle"
         },
         "mode": "lines",
         "name": "",
         "showlegend": false,
         "type": "scatter",
         "x": [
          643,
          685,
          1156,
          1315,
          1656,
          1669,
          2318,
          2373,
          2386,
          2709,
          2855,
          3107,
          3563,
          3654,
          3929,
          4787,
          4861,
          5000,
          6107,
          6360,
          6374,
          6400,
          6448,
          6857,
          7018,
          7329,
          8438,
          8586,
          9094,
          9301,
          9389,
          9660,
          9799,
          9834,
          9957,
          10074,
          10180,
          10280,
          11137,
          11164,
          11620,
          12208,
          12306,
          13092,
          13191,
          13264,
          13864,
          13932,
          13939,
          14871,
          15120,
          15487,
          15846,
          16063,
          16295,
          16964,
          17213,
          18097,
          18553,
          18596,
          18834,
          19641,
          20504,
          21167,
          21298,
          21447,
          21878,
          22963,
          23179,
          23745,
          24279,
          24704,
          24819,
          25996,
          26438,
          26983,
          29066,
          29270,
          30063,
          31725,
          31860,
          31906,
          32583,
          32734,
          33252,
          33557,
          36143,
          37629,
          38297,
          39037,
          40969,
          41741,
          42154,
          42351,
          42409,
          42906,
          43359,
          44893,
          45259,
          46308,
          46478,
          47342,
          51737,
          52082,
          54489,
          57284,
          60273,
          65101,
          72736,
          74088,
          82065,
          169698
         ],
         "xaxis": "x",
         "y": [
          6.142850515070507,
          6.14729968668605,
          6.197193968374627,
          6.214037260919179,
          6.250160297131079,
          6.251537421678747,
          6.320287716404621,
          6.326114012567832,
          6.3274911371155,
          6.361707385492167,
          6.377173553489051,
          6.4038685831823035,
          6.452173875008187,
          6.4618137468418615,
          6.49094522765791,
          6.581835447803982,
          6.589674464459937,
          6.60439910385423,
          6.721666555721015,
          6.74846751807178,
          6.74995057527696,
          6.752704824372296,
          6.757789591932916,
          6.801116048855693,
          6.818171206715271,
          6.851116263201784,
          6.968595580383594,
          6.984273613695504,
          7.038087403712059,
          7.060015463817231,
          7.069337537678367,
          7.098045287864363,
          7.1127699272586575,
          7.116477570271609,
          7.129507287145696,
          7.141901408074705,
          7.153130269771074,
          7.163723535522363,
          7.254507823010923,
          7.257368004763771,
          7.305673296589656,
          7.3679616992072425,
          7.378343099643508,
          7.46160616844865,
          7.472093501542428,
          7.47982658554087,
          7.543386180048612,
          7.55058960075949,
          7.5513311293620795,
          7.650060366164107,
          7.67643759788482,
          7.715314883192056,
          7.753344707239188,
          7.776332093919488,
          7.800908470462482,
          7.871777418338615,
          7.898154650059328,
          7.991799119300735,
          8.04010441112662,
          8.044659515399674,
          8.069871487887745,
          8.155359142500659,
          8.246779025934295,
          8.31701237786535,
          8.33088955599954,
          8.346673521968963,
          8.392330497357026,
          8.507267430758526,
          8.530148884781314,
          8.590106768933618,
          8.646674808045507,
          8.691696187488493,
          8.703878443102475,
          8.828561180995164,
          8.875383415615868,
          8.9331167139604,
          9.153774439559779,
          9.175384701692412,
          9.259389299100146,
          9.435449375886591,
          9.449750284650834,
          9.454623186896427,
          9.526339596032663,
          9.542335427317113,
          9.597208543908796,
          9.629518004450231,
          9.903459856778602,
          10.060875785842777,
          10.131638801061397,
          10.210028967620946,
          10.414690861935878,
          10.496470873535838,
          10.540221061088669,
          10.56108979461871,
          10.567233888754458,
          10.61988241953837,
          10.667869913391717,
          10.830370610016512,
          10.869141962666236,
          10.980265320397272,
          10.998273872174465,
          11.089799688265614,
          11.555373718034827,
          11.59192048487678,
          11.846900391510339,
          12.142982169258907,
          12.459614882564978,
          12.971057753037279,
          13.7798535931483,
          13.923074546105747,
          14.768099355086182,
          24.051295930914506
         ],
         "yaxis": "y"
        }
       ],
       "layout": {
        "legend": {
         "tracegroupgap": 0
        },
        "template": {
         "data": {
          "bar": [
           {
            "error_x": {
             "color": "#2a3f5f"
            },
            "error_y": {
             "color": "#2a3f5f"
            },
            "marker": {
             "line": {
              "color": "#E5ECF6",
              "width": 0.5
             },
             "pattern": {
              "fillmode": "overlay",
              "size": 10,
              "solidity": 0.2
             }
            },
            "type": "bar"
           }
          ],
          "barpolar": [
           {
            "marker": {
             "line": {
              "color": "#E5ECF6",
              "width": 0.5
             },
             "pattern": {
              "fillmode": "overlay",
              "size": 10,
              "solidity": 0.2
             }
            },
            "type": "barpolar"
           }
          ],
          "carpet": [
           {
            "aaxis": {
             "endlinecolor": "#2a3f5f",
             "gridcolor": "white",
             "linecolor": "white",
             "minorgridcolor": "white",
             "startlinecolor": "#2a3f5f"
            },
            "baxis": {
             "endlinecolor": "#2a3f5f",
             "gridcolor": "white",
             "linecolor": "white",
             "minorgridcolor": "white",
             "startlinecolor": "#2a3f5f"
            },
            "type": "carpet"
           }
          ],
          "choropleth": [
           {
            "colorbar": {
             "outlinewidth": 0,
             "ticks": ""
            },
            "type": "choropleth"
           }
          ],
          "contour": [
           {
            "colorbar": {
             "outlinewidth": 0,
             "ticks": ""
            },
            "colorscale": [
             [
              0,
              "#0d0887"
             ],
             [
              0.1111111111111111,
              "#46039f"
             ],
             [
              0.2222222222222222,
              "#7201a8"
             ],
             [
              0.3333333333333333,
              "#9c179e"
             ],
             [
              0.4444444444444444,
              "#bd3786"
             ],
             [
              0.5555555555555556,
              "#d8576b"
             ],
             [
              0.6666666666666666,
              "#ed7953"
             ],
             [
              0.7777777777777778,
              "#fb9f3a"
             ],
             [
              0.8888888888888888,
              "#fdca26"
             ],
             [
              1,
              "#f0f921"
             ]
            ],
            "type": "contour"
           }
          ],
          "contourcarpet": [
           {
            "colorbar": {
             "outlinewidth": 0,
             "ticks": ""
            },
            "type": "contourcarpet"
           }
          ],
          "heatmap": [
           {
            "colorbar": {
             "outlinewidth": 0,
             "ticks": ""
            },
            "colorscale": [
             [
              0,
              "#0d0887"
             ],
             [
              0.1111111111111111,
              "#46039f"
             ],
             [
              0.2222222222222222,
              "#7201a8"
             ],
             [
              0.3333333333333333,
              "#9c179e"
             ],
             [
              0.4444444444444444,
              "#bd3786"
             ],
             [
              0.5555555555555556,
              "#d8576b"
             ],
             [
              0.6666666666666666,
              "#ed7953"
             ],
             [
              0.7777777777777778,
              "#fb9f3a"
             ],
             [
              0.8888888888888888,
              "#fdca26"
             ],
             [
              1,
              "#f0f921"
             ]
            ],
            "type": "heatmap"
           }
          ],
          "heatmapgl": [
           {
            "colorbar": {
             "outlinewidth": 0,
             "ticks": ""
            },
            "colorscale": [
             [
              0,
              "#0d0887"
             ],
             [
              0.1111111111111111,
              "#46039f"
             ],
             [
              0.2222222222222222,
              "#7201a8"
             ],
             [
              0.3333333333333333,
              "#9c179e"
             ],
             [
              0.4444444444444444,
              "#bd3786"
             ],
             [
              0.5555555555555556,
              "#d8576b"
             ],
             [
              0.6666666666666666,
              "#ed7953"
             ],
             [
              0.7777777777777778,
              "#fb9f3a"
             ],
             [
              0.8888888888888888,
              "#fdca26"
             ],
             [
              1,
              "#f0f921"
             ]
            ],
            "type": "heatmapgl"
           }
          ],
          "histogram": [
           {
            "marker": {
             "pattern": {
              "fillmode": "overlay",
              "size": 10,
              "solidity": 0.2
             }
            },
            "type": "histogram"
           }
          ],
          "histogram2d": [
           {
            "colorbar": {
             "outlinewidth": 0,
             "ticks": ""
            },
            "colorscale": [
             [
              0,
              "#0d0887"
             ],
             [
              0.1111111111111111,
              "#46039f"
             ],
             [
              0.2222222222222222,
              "#7201a8"
             ],
             [
              0.3333333333333333,
              "#9c179e"
             ],
             [
              0.4444444444444444,
              "#bd3786"
             ],
             [
              0.5555555555555556,
              "#d8576b"
             ],
             [
              0.6666666666666666,
              "#ed7953"
             ],
             [
              0.7777777777777778,
              "#fb9f3a"
             ],
             [
              0.8888888888888888,
              "#fdca26"
             ],
             [
              1,
              "#f0f921"
             ]
            ],
            "type": "histogram2d"
           }
          ],
          "histogram2dcontour": [
           {
            "colorbar": {
             "outlinewidth": 0,
             "ticks": ""
            },
            "colorscale": [
             [
              0,
              "#0d0887"
             ],
             [
              0.1111111111111111,
              "#46039f"
             ],
             [
              0.2222222222222222,
              "#7201a8"
             ],
             [
              0.3333333333333333,
              "#9c179e"
             ],
             [
              0.4444444444444444,
              "#bd3786"
             ],
             [
              0.5555555555555556,
              "#d8576b"
             ],
             [
              0.6666666666666666,
              "#ed7953"
             ],
             [
              0.7777777777777778,
              "#fb9f3a"
             ],
             [
              0.8888888888888888,
              "#fdca26"
             ],
             [
              1,
              "#f0f921"
             ]
            ],
            "type": "histogram2dcontour"
           }
          ],
          "mesh3d": [
           {
            "colorbar": {
             "outlinewidth": 0,
             "ticks": ""
            },
            "type": "mesh3d"
           }
          ],
          "parcoords": [
           {
            "line": {
             "colorbar": {
              "outlinewidth": 0,
              "ticks": ""
             }
            },
            "type": "parcoords"
           }
          ],
          "pie": [
           {
            "automargin": true,
            "type": "pie"
           }
          ],
          "scatter": [
           {
            "marker": {
             "colorbar": {
              "outlinewidth": 0,
              "ticks": ""
             }
            },
            "type": "scatter"
           }
          ],
          "scatter3d": [
           {
            "line": {
             "colorbar": {
              "outlinewidth": 0,
              "ticks": ""
             }
            },
            "marker": {
             "colorbar": {
              "outlinewidth": 0,
              "ticks": ""
             }
            },
            "type": "scatter3d"
           }
          ],
          "scattercarpet": [
           {
            "marker": {
             "colorbar": {
              "outlinewidth": 0,
              "ticks": ""
             }
            },
            "type": "scattercarpet"
           }
          ],
          "scattergeo": [
           {
            "marker": {
             "colorbar": {
              "outlinewidth": 0,
              "ticks": ""
             }
            },
            "type": "scattergeo"
           }
          ],
          "scattergl": [
           {
            "marker": {
             "colorbar": {
              "outlinewidth": 0,
              "ticks": ""
             }
            },
            "type": "scattergl"
           }
          ],
          "scattermapbox": [
           {
            "marker": {
             "colorbar": {
              "outlinewidth": 0,
              "ticks": ""
             }
            },
            "type": "scattermapbox"
           }
          ],
          "scatterpolar": [
           {
            "marker": {
             "colorbar": {
              "outlinewidth": 0,
              "ticks": ""
             }
            },
            "type": "scatterpolar"
           }
          ],
          "scatterpolargl": [
           {
            "marker": {
             "colorbar": {
              "outlinewidth": 0,
              "ticks": ""
             }
            },
            "type": "scatterpolargl"
           }
          ],
          "scatterternary": [
           {
            "marker": {
             "colorbar": {
              "outlinewidth": 0,
              "ticks": ""
             }
            },
            "type": "scatterternary"
           }
          ],
          "surface": [
           {
            "colorbar": {
             "outlinewidth": 0,
             "ticks": ""
            },
            "colorscale": [
             [
              0,
              "#0d0887"
             ],
             [
              0.1111111111111111,
              "#46039f"
             ],
             [
              0.2222222222222222,
              "#7201a8"
             ],
             [
              0.3333333333333333,
              "#9c179e"
             ],
             [
              0.4444444444444444,
              "#bd3786"
             ],
             [
              0.5555555555555556,
              "#d8576b"
             ],
             [
              0.6666666666666666,
              "#ed7953"
             ],
             [
              0.7777777777777778,
              "#fb9f3a"
             ],
             [
              0.8888888888888888,
              "#fdca26"
             ],
             [
              1,
              "#f0f921"
             ]
            ],
            "type": "surface"
           }
          ],
          "table": [
           {
            "cells": {
             "fill": {
              "color": "#EBF0F8"
             },
             "line": {
              "color": "white"
             }
            },
            "header": {
             "fill": {
              "color": "#C8D4E3"
             },
             "line": {
              "color": "white"
             }
            },
            "type": "table"
           }
          ]
         },
         "layout": {
          "annotationdefaults": {
           "arrowcolor": "#2a3f5f",
           "arrowhead": 0,
           "arrowwidth": 1
          },
          "autotypenumbers": "strict",
          "coloraxis": {
           "colorbar": {
            "outlinewidth": 0,
            "ticks": ""
           }
          },
          "colorscale": {
           "diverging": [
            [
             0,
             "#8e0152"
            ],
            [
             0.1,
             "#c51b7d"
            ],
            [
             0.2,
             "#de77ae"
            ],
            [
             0.3,
             "#f1b6da"
            ],
            [
             0.4,
             "#fde0ef"
            ],
            [
             0.5,
             "#f7f7f7"
            ],
            [
             0.6,
             "#e6f5d0"
            ],
            [
             0.7,
             "#b8e186"
            ],
            [
             0.8,
             "#7fbc41"
            ],
            [
             0.9,
             "#4d9221"
            ],
            [
             1,
             "#276419"
            ]
           ],
           "sequential": [
            [
             0,
             "#0d0887"
            ],
            [
             0.1111111111111111,
             "#46039f"
            ],
            [
             0.2222222222222222,
             "#7201a8"
            ],
            [
             0.3333333333333333,
             "#9c179e"
            ],
            [
             0.4444444444444444,
             "#bd3786"
            ],
            [
             0.5555555555555556,
             "#d8576b"
            ],
            [
             0.6666666666666666,
             "#ed7953"
            ],
            [
             0.7777777777777778,
             "#fb9f3a"
            ],
            [
             0.8888888888888888,
             "#fdca26"
            ],
            [
             1,
             "#f0f921"
            ]
           ],
           "sequentialminus": [
            [
             0,
             "#0d0887"
            ],
            [
             0.1111111111111111,
             "#46039f"
            ],
            [
             0.2222222222222222,
             "#7201a8"
            ],
            [
             0.3333333333333333,
             "#9c179e"
            ],
            [
             0.4444444444444444,
             "#bd3786"
            ],
            [
             0.5555555555555556,
             "#d8576b"
            ],
            [
             0.6666666666666666,
             "#ed7953"
            ],
            [
             0.7777777777777778,
             "#fb9f3a"
            ],
            [
             0.8888888888888888,
             "#fdca26"
            ],
            [
             1,
             "#f0f921"
            ]
           ]
          },
          "colorway": [
           "#636efa",
           "#EF553B",
           "#00cc96",
           "#ab63fa",
           "#FFA15A",
           "#19d3f3",
           "#FF6692",
           "#B6E880",
           "#FF97FF",
           "#FECB52"
          ],
          "font": {
           "color": "#2a3f5f"
          },
          "geo": {
           "bgcolor": "white",
           "lakecolor": "white",
           "landcolor": "#E5ECF6",
           "showlakes": true,
           "showland": true,
           "subunitcolor": "white"
          },
          "hoverlabel": {
           "align": "left"
          },
          "hovermode": "closest",
          "mapbox": {
           "style": "light"
          },
          "paper_bgcolor": "white",
          "plot_bgcolor": "#E5ECF6",
          "polar": {
           "angularaxis": {
            "gridcolor": "white",
            "linecolor": "white",
            "ticks": ""
           },
           "bgcolor": "#E5ECF6",
           "radialaxis": {
            "gridcolor": "white",
            "linecolor": "white",
            "ticks": ""
           }
          },
          "scene": {
           "xaxis": {
            "backgroundcolor": "#E5ECF6",
            "gridcolor": "white",
            "gridwidth": 2,
            "linecolor": "white",
            "showbackground": true,
            "ticks": "",
            "zerolinecolor": "white"
           },
           "yaxis": {
            "backgroundcolor": "#E5ECF6",
            "gridcolor": "white",
            "gridwidth": 2,
            "linecolor": "white",
            "showbackground": true,
            "ticks": "",
            "zerolinecolor": "white"
           },
           "zaxis": {
            "backgroundcolor": "#E5ECF6",
            "gridcolor": "white",
            "gridwidth": 2,
            "linecolor": "white",
            "showbackground": true,
            "ticks": "",
            "zerolinecolor": "white"
           }
          },
          "shapedefaults": {
           "line": {
            "color": "#2a3f5f"
           }
          },
          "ternary": {
           "aaxis": {
            "gridcolor": "white",
            "linecolor": "white",
            "ticks": ""
           },
           "baxis": {
            "gridcolor": "white",
            "linecolor": "white",
            "ticks": ""
           },
           "bgcolor": "#E5ECF6",
           "caxis": {
            "gridcolor": "white",
            "linecolor": "white",
            "ticks": ""
           }
          },
          "title": {
           "x": 0.05
          },
          "xaxis": {
           "automargin": true,
           "gridcolor": "white",
           "linecolor": "white",
           "ticks": "",
           "title": {
            "standoff": 15
           },
           "zerolinecolor": "white",
           "zerolinewidth": 2
          },
          "yaxis": {
           "automargin": true,
           "gridcolor": "white",
           "linecolor": "white",
           "ticks": "",
           "title": {
            "standoff": 15
           },
           "zerolinecolor": "white",
           "zerolinewidth": 2
          }
         }
        },
        "title": {
         "text": "GDP vs Total medals in 2012"
        },
        "xaxis": {
         "anchor": "y",
         "domain": [
          0,
          1
         ],
         "title": {
          "text": "GDP (per capita) in dollars"
         }
        },
        "yaxis": {
         "anchor": "x",
         "domain": [
          0,
          1
         ],
         "title": {
          "text": "Total Olympic medals"
         }
        }
       }
      }
     },
     "metadata": {},
     "output_type": "display_data"
    },
    {
     "data": {
      "application/vnd.plotly.v1+json": {
       "config": {
        "plotlyServerURL": "https://plot.ly"
       },
       "data": [
        {
         "customdata": [
          [
           "United States"
          ],
          [
           "China"
          ],
          [
           "Great Britain"
          ],
          [
           "Russia"
          ],
          [
           "South Korea"
          ],
          [
           "Germany"
          ],
          [
           "France"
          ],
          [
           "Australia"
          ],
          [
           "Italy"
          ],
          [
           "Hungary"
          ],
          [
           "Japan"
          ],
          [
           "Iran"
          ],
          [
           "Netherlands"
          ],
          [
           "New Zealand"
          ],
          [
           "Ukraine"
          ],
          [
           "Cuba"
          ],
          [
           "Spain"
          ],
          [
           "Jamaica"
          ],
          [
           "Czech Republic"
          ],
          [
           "South Africa"
          ],
          [
           "North Korea"
          ],
          [
           "Brazil"
          ],
          [
           "Kazakhstan"
          ],
          [
           "Poland"
          ],
          [
           "Ethiopia"
          ],
          [
           "Croatia"
          ],
          [
           "Canada"
          ],
          [
           "Belarus"
          ],
          [
           "Kenya"
          ],
          [
           "Denmark"
          ],
          [
           "Romania"
          ],
          [
           "Azerbaijan"
          ],
          [
           "Switzerland"
          ],
          [
           "Norway"
          ],
          [
           "Lithuania"
          ],
          [
           "Tunisia"
          ],
          [
           "Sweden"
          ],
          [
           "Colombia"
          ],
          [
           "Mexico"
          ],
          [
           "Georgia"
          ],
          [
           "Ireland"
          ],
          [
           "Argentina"
          ],
          [
           "Serbia"
          ],
          [
           "Slovenia"
          ],
          [
           "Trinidad and Tobago"
          ],
          [
           "Turkey"
          ],
          [
           "Dominican Republic"
          ],
          [
           "Chinese Taipei"
          ],
          [
           "Latvia"
          ],
          [
           "Algeria"
          ],
          [
           "Bahamas"
          ],
          [
           "Bahrain"
          ],
          [
           "Grenada"
          ],
          [
           "Uganda"
          ],
          [
           "Venezuela"
          ],
          [
           "Egypt"
          ],
          [
           "India"
          ],
          [
           "Mongolia"
          ],
          [
           "Thailand"
          ],
          [
           "Bulgaria"
          ],
          [
           "Finland"
          ],
          [
           "Indonesia"
          ],
          [
           "Slovakia"
          ],
          [
           "Belgium"
          ],
          [
           "Armenia"
          ],
          [
           "Estonia"
          ],
          [
           "Malaysia"
          ],
          [
           "Puerto Rico"
          ],
          [
           "Qatar"
          ],
          [
           "Botswana"
          ],
          [
           "Cyprus"
          ],
          [
           "Gabon"
          ],
          [
           "Guatemala"
          ],
          [
           "Montenegro"
          ],
          [
           "Portugal"
          ],
          [
           "Uzbekistan"
          ],
          [
           "Greece"
          ],
          [
           "Singapore"
          ],
          [
           "Afghanistan"
          ],
          [
           "Cameroon"
          ],
          [
           "Hong Kong"
          ],
          [
           "Kuwait"
          ],
          [
           "Morocco"
          ],
          [
           "Saudi Arabia"
          ],
          [
           "Tajikistan"
          ],
          [
           "Vietnam"
          ],
          [
           "Zimbabwe"
          ],
          [
           "Panama"
          ],
          [
           "Nigeria"
          ],
          [
           "Austria"
          ],
          [
           "Kyrgyzstan"
          ],
          [
           "Chile"
          ],
          [
           "Ecuador"
          ],
          [
           "Iceland"
          ],
          [
           "Samoa"
          ],
          [
           "Sudan"
          ],
          [
           "Israel"
          ],
          [
           "Mauritius"
          ],
          [
           "Moldova"
          ],
          [
           "Togo"
          ],
          [
           "Ivory Coast"
          ],
          [
           "Fiji"
          ],
          [
           "Jordan"
          ],
          [
           "Kosovo"
          ],
          [
           "Burundi"
          ],
          [
           "Niger"
          ],
          [
           "Philippines"
          ],
          [
           "United Arab Emirates"
          ],
          [
           "Serbia and Montenegro"
          ],
          [
           "Paraguay"
          ],
          [
           "Eritrea"
          ],
          [
           "Syria"
          ]
         ],
         "hovertemplate": "GDP (per capita) in dollars=%{x}<br>Total Olympic medals=%{y}<br>NOC=%{customdata[0]}<extra></extra>",
         "legendgroup": "",
         "marker": {
          "color": "#636efa",
          "symbol": "circle"
         },
         "mode": "markers",
         "name": "",
         "orientation": "v",
         "showlegend": false,
         "type": "scatter",
         "x": [
          57840,
          13432,
          44121,
          24104,
          39567,
          50575,
          44422,
          48135,
          40231,
          27863,
          40641,
          13855,
          52441,
          39266,
          11216,
          7657,
          37310,
          9818,
          36137,
          13738,
          642,
          14326,
          23654,
          28321,
          2134,
          24876,
          46554,
          17787,
          4353,
          52160,
          24197,
          14448,
          68461,
          58736,
          30922,
          10269,
          50062,
          14352,
          19422,
          12855,
          71251,
          20308,
          15856,
          33947,
          26390,
          26514,
          16626,
          47272,
          26580,
          11543,
          35239,
          44834,
          15026,
          2359,
          14213,
          11616,
          5840,
          10524,
          16616,
          20091,
          44995,
          10619,
          29681,
          48680,
          10502,
          31310,
          24780,
          34300,
          84269,
          16639,
          35852,
          14490,
          7847,
          18198,
          31604,
          6856,
          27449,
          89417,
          2401,
          3405,
          56907,
          40844,
          7356,
          46423,
          3071,
          8316,
          2667,
          27829,
          5235,
          52660,
          4728,
          22752,
          11009,
          53943,
          5524,
          5569,
          37864,
          20701,
          10527,
          1954,
          4629,
          12563,
          9544,
          10028,
          794,
          1148,
          7789,
          65651,
          16049,
          11907,
          1701,
          6374
         ],
         "xaxis": "x",
         "y": [
          121,
          70,
          67,
          56,
          21,
          42,
          42,
          29,
          28,
          15,
          41,
          8,
          19,
          18,
          11,
          11,
          17,
          11,
          10,
          10,
          7,
          19,
          17,
          11,
          8,
          10,
          22,
          9,
          13,
          15,
          4,
          18,
          7,
          4,
          4,
          3,
          11,
          8,
          5,
          7,
          2,
          4,
          8,
          4,
          1,
          8,
          1,
          3,
          0,
          2,
          2,
          2,
          1,
          0,
          3,
          3,
          2,
          2,
          6,
          3,
          1,
          3,
          4,
          6,
          4,
          1,
          5,
          1,
          1,
          0,
          0,
          0,
          0,
          0,
          1,
          13,
          6,
          1,
          0,
          0,
          0,
          0,
          1,
          0,
          1,
          2,
          0,
          0,
          1,
          1,
          0,
          0,
          0,
          0,
          0,
          0,
          2,
          0,
          0,
          0,
          2,
          1,
          1,
          1,
          1,
          1,
          1,
          1,
          0,
          0,
          0,
          0
         ],
         "yaxis": "y"
        },
        {
         "hovertemplate": "<b>OLS trendline</b><br>Total-2016 = 0.000210145 * GDP-2016 + 3.42418<br>R<sup>2</sup>=0.060345<br><br>GDP (per capita) in dollars=%{x}<br>Total Olympic medals=%{y} <b>(trend)</b><extra></extra>",
         "legendgroup": "",
         "marker": {
          "color": "#636efa",
          "symbol": "circle"
         },
         "mode": "lines",
         "name": "",
         "showlegend": false,
         "type": "scatter",
         "x": [
          642,
          794,
          1148,
          1701,
          1954,
          2134,
          2359,
          2401,
          2667,
          3071,
          3405,
          4353,
          4629,
          4728,
          5235,
          5524,
          5569,
          5840,
          6374,
          6856,
          7356,
          7657,
          7789,
          7847,
          8316,
          9544,
          9818,
          10028,
          10269,
          10502,
          10524,
          10527,
          10619,
          11009,
          11216,
          11543,
          11616,
          11907,
          12563,
          12855,
          13432,
          13738,
          13855,
          14213,
          14326,
          14352,
          14448,
          14490,
          15026,
          15856,
          16049,
          16616,
          16626,
          16639,
          17787,
          18198,
          19422,
          20091,
          20308,
          20701,
          22752,
          23654,
          24104,
          24197,
          24780,
          24876,
          26390,
          26514,
          26580,
          27449,
          27829,
          27863,
          28321,
          29681,
          30922,
          31310,
          31604,
          33947,
          34300,
          35239,
          35852,
          36137,
          37310,
          37864,
          39266,
          39567,
          40231,
          40641,
          40844,
          44121,
          44422,
          44834,
          44995,
          46423,
          46554,
          47272,
          48135,
          48680,
          50062,
          50575,
          52160,
          52441,
          52660,
          53943,
          56907,
          57840,
          58736,
          65651,
          68461,
          71251,
          84269,
          89417
         ],
         "xaxis": "x",
         "y": [
          3.5590953483198913,
          3.5910373300293568,
          3.6654285242737705,
          3.7816384972036037,
          3.8348050851805433,
          3.872631116152279,
          3.919913654866949,
          3.928739728760354,
          3.984638196751919,
          4.069536621821815,
          4.139724923736036,
          4.3389420201871784,
          4.39694193434384,
          4.417746251378294,
          4.5242895719486835,
          4.585021366119971,
          4.594477873862905,
          4.6514270649370175,
          4.7636442901531675,
          4.864933995310816,
          4.970006303565637,
          5.03325983313504,
          5.0609989225143135,
          5.073187310271873,
          5.171745135414895,
          5.429802724488738,
          5.48738234941238,
          5.531512718879405,
          5.582157571458229,
          5.631121267104976,
          5.635744448668188,
          5.636374882517718,
          5.655708187236604,
          5.737664587675365,
          5.781164523292862,
          5.849881812891515,
          5.865222369896719,
          5.926374453301025,
          6.064229321731351,
          6.125591549752167,
          6.2468449934782315,
          6.311149246130182,
          6.33573616626181,
          6.410967938972263,
          6.434714280637852,
          6.440178040667103,
          6.460351923852029,
          6.469177997745434,
          6.581815512194603,
          6.756235543897607,
          6.796793454883968,
          6.915945452444936,
          6.918046898610033,
          6.920778778624658,
          7.162024798377729,
          7.248394235763192,
          7.505611246370996,
          7.646197994815948,
          7.69179937659854,
          7.77438621088683,
          8.20539281934811,
          8.394943263439806,
          8.489508340869147,
          8.509051790204545,
          8.631566101629666,
          8.651739984814592,
          8.969898934210192,
          8.995956866657387,
          9.009826411347024,
          9.192442083093905,
          9.272297037367569,
          9.279441954328895,
          9.375688188690313,
          9.661484867143429,
          9.922274336231897,
          10.003810447437637,
          10.065592964691472,
          10.557961801173567,
          10.632142850801472,
          10.829468645704026,
          10.958287295624437,
          11.018178511329687,
          11.264678146495498,
          11.381098264041842,
          11.675721016388362,
          11.738974545957763,
          11.878510571320167,
          11.964669864089121,
          12.007329221240578,
          12.69597312954268,
          12.759226659112084,
          12.845806241114055,
          12.87963952437211,
          13.17972603674788,
          13.207254981510644,
          13.358138816164566,
          13.53949362021239,
          13.654022436210145,
          13.944442296226473,
          14.052246484495921,
          14.385325701663703,
          14.444376338902913,
          14.490398009918525,
          14.7600135529004,
          15.38288219623498,
          15.578947123438478,
          15.76723669983112,
          17.220386722995304,
          17.810893095387403,
          18.397196575449307,
          21.13285919317185,
          22.214683678963492
         ],
         "yaxis": "y"
        }
       ],
       "layout": {
        "legend": {
         "tracegroupgap": 0
        },
        "template": {
         "data": {
          "bar": [
           {
            "error_x": {
             "color": "#2a3f5f"
            },
            "error_y": {
             "color": "#2a3f5f"
            },
            "marker": {
             "line": {
              "color": "#E5ECF6",
              "width": 0.5
             },
             "pattern": {
              "fillmode": "overlay",
              "size": 10,
              "solidity": 0.2
             }
            },
            "type": "bar"
           }
          ],
          "barpolar": [
           {
            "marker": {
             "line": {
              "color": "#E5ECF6",
              "width": 0.5
             },
             "pattern": {
              "fillmode": "overlay",
              "size": 10,
              "solidity": 0.2
             }
            },
            "type": "barpolar"
           }
          ],
          "carpet": [
           {
            "aaxis": {
             "endlinecolor": "#2a3f5f",
             "gridcolor": "white",
             "linecolor": "white",
             "minorgridcolor": "white",
             "startlinecolor": "#2a3f5f"
            },
            "baxis": {
             "endlinecolor": "#2a3f5f",
             "gridcolor": "white",
             "linecolor": "white",
             "minorgridcolor": "white",
             "startlinecolor": "#2a3f5f"
            },
            "type": "carpet"
           }
          ],
          "choropleth": [
           {
            "colorbar": {
             "outlinewidth": 0,
             "ticks": ""
            },
            "type": "choropleth"
           }
          ],
          "contour": [
           {
            "colorbar": {
             "outlinewidth": 0,
             "ticks": ""
            },
            "colorscale": [
             [
              0,
              "#0d0887"
             ],
             [
              0.1111111111111111,
              "#46039f"
             ],
             [
              0.2222222222222222,
              "#7201a8"
             ],
             [
              0.3333333333333333,
              "#9c179e"
             ],
             [
              0.4444444444444444,
              "#bd3786"
             ],
             [
              0.5555555555555556,
              "#d8576b"
             ],
             [
              0.6666666666666666,
              "#ed7953"
             ],
             [
              0.7777777777777778,
              "#fb9f3a"
             ],
             [
              0.8888888888888888,
              "#fdca26"
             ],
             [
              1,
              "#f0f921"
             ]
            ],
            "type": "contour"
           }
          ],
          "contourcarpet": [
           {
            "colorbar": {
             "outlinewidth": 0,
             "ticks": ""
            },
            "type": "contourcarpet"
           }
          ],
          "heatmap": [
           {
            "colorbar": {
             "outlinewidth": 0,
             "ticks": ""
            },
            "colorscale": [
             [
              0,
              "#0d0887"
             ],
             [
              0.1111111111111111,
              "#46039f"
             ],
             [
              0.2222222222222222,
              "#7201a8"
             ],
             [
              0.3333333333333333,
              "#9c179e"
             ],
             [
              0.4444444444444444,
              "#bd3786"
             ],
             [
              0.5555555555555556,
              "#d8576b"
             ],
             [
              0.6666666666666666,
              "#ed7953"
             ],
             [
              0.7777777777777778,
              "#fb9f3a"
             ],
             [
              0.8888888888888888,
              "#fdca26"
             ],
             [
              1,
              "#f0f921"
             ]
            ],
            "type": "heatmap"
           }
          ],
          "heatmapgl": [
           {
            "colorbar": {
             "outlinewidth": 0,
             "ticks": ""
            },
            "colorscale": [
             [
              0,
              "#0d0887"
             ],
             [
              0.1111111111111111,
              "#46039f"
             ],
             [
              0.2222222222222222,
              "#7201a8"
             ],
             [
              0.3333333333333333,
              "#9c179e"
             ],
             [
              0.4444444444444444,
              "#bd3786"
             ],
             [
              0.5555555555555556,
              "#d8576b"
             ],
             [
              0.6666666666666666,
              "#ed7953"
             ],
             [
              0.7777777777777778,
              "#fb9f3a"
             ],
             [
              0.8888888888888888,
              "#fdca26"
             ],
             [
              1,
              "#f0f921"
             ]
            ],
            "type": "heatmapgl"
           }
          ],
          "histogram": [
           {
            "marker": {
             "pattern": {
              "fillmode": "overlay",
              "size": 10,
              "solidity": 0.2
             }
            },
            "type": "histogram"
           }
          ],
          "histogram2d": [
           {
            "colorbar": {
             "outlinewidth": 0,
             "ticks": ""
            },
            "colorscale": [
             [
              0,
              "#0d0887"
             ],
             [
              0.1111111111111111,
              "#46039f"
             ],
             [
              0.2222222222222222,
              "#7201a8"
             ],
             [
              0.3333333333333333,
              "#9c179e"
             ],
             [
              0.4444444444444444,
              "#bd3786"
             ],
             [
              0.5555555555555556,
              "#d8576b"
             ],
             [
              0.6666666666666666,
              "#ed7953"
             ],
             [
              0.7777777777777778,
              "#fb9f3a"
             ],
             [
              0.8888888888888888,
              "#fdca26"
             ],
             [
              1,
              "#f0f921"
             ]
            ],
            "type": "histogram2d"
           }
          ],
          "histogram2dcontour": [
           {
            "colorbar": {
             "outlinewidth": 0,
             "ticks": ""
            },
            "colorscale": [
             [
              0,
              "#0d0887"
             ],
             [
              0.1111111111111111,
              "#46039f"
             ],
             [
              0.2222222222222222,
              "#7201a8"
             ],
             [
              0.3333333333333333,
              "#9c179e"
             ],
             [
              0.4444444444444444,
              "#bd3786"
             ],
             [
              0.5555555555555556,
              "#d8576b"
             ],
             [
              0.6666666666666666,
              "#ed7953"
             ],
             [
              0.7777777777777778,
              "#fb9f3a"
             ],
             [
              0.8888888888888888,
              "#fdca26"
             ],
             [
              1,
              "#f0f921"
             ]
            ],
            "type": "histogram2dcontour"
           }
          ],
          "mesh3d": [
           {
            "colorbar": {
             "outlinewidth": 0,
             "ticks": ""
            },
            "type": "mesh3d"
           }
          ],
          "parcoords": [
           {
            "line": {
             "colorbar": {
              "outlinewidth": 0,
              "ticks": ""
             }
            },
            "type": "parcoords"
           }
          ],
          "pie": [
           {
            "automargin": true,
            "type": "pie"
           }
          ],
          "scatter": [
           {
            "marker": {
             "colorbar": {
              "outlinewidth": 0,
              "ticks": ""
             }
            },
            "type": "scatter"
           }
          ],
          "scatter3d": [
           {
            "line": {
             "colorbar": {
              "outlinewidth": 0,
              "ticks": ""
             }
            },
            "marker": {
             "colorbar": {
              "outlinewidth": 0,
              "ticks": ""
             }
            },
            "type": "scatter3d"
           }
          ],
          "scattercarpet": [
           {
            "marker": {
             "colorbar": {
              "outlinewidth": 0,
              "ticks": ""
             }
            },
            "type": "scattercarpet"
           }
          ],
          "scattergeo": [
           {
            "marker": {
             "colorbar": {
              "outlinewidth": 0,
              "ticks": ""
             }
            },
            "type": "scattergeo"
           }
          ],
          "scattergl": [
           {
            "marker": {
             "colorbar": {
              "outlinewidth": 0,
              "ticks": ""
             }
            },
            "type": "scattergl"
           }
          ],
          "scattermapbox": [
           {
            "marker": {
             "colorbar": {
              "outlinewidth": 0,
              "ticks": ""
             }
            },
            "type": "scattermapbox"
           }
          ],
          "scatterpolar": [
           {
            "marker": {
             "colorbar": {
              "outlinewidth": 0,
              "ticks": ""
             }
            },
            "type": "scatterpolar"
           }
          ],
          "scatterpolargl": [
           {
            "marker": {
             "colorbar": {
              "outlinewidth": 0,
              "ticks": ""
             }
            },
            "type": "scatterpolargl"
           }
          ],
          "scatterternary": [
           {
            "marker": {
             "colorbar": {
              "outlinewidth": 0,
              "ticks": ""
             }
            },
            "type": "scatterternary"
           }
          ],
          "surface": [
           {
            "colorbar": {
             "outlinewidth": 0,
             "ticks": ""
            },
            "colorscale": [
             [
              0,
              "#0d0887"
             ],
             [
              0.1111111111111111,
              "#46039f"
             ],
             [
              0.2222222222222222,
              "#7201a8"
             ],
             [
              0.3333333333333333,
              "#9c179e"
             ],
             [
              0.4444444444444444,
              "#bd3786"
             ],
             [
              0.5555555555555556,
              "#d8576b"
             ],
             [
              0.6666666666666666,
              "#ed7953"
             ],
             [
              0.7777777777777778,
              "#fb9f3a"
             ],
             [
              0.8888888888888888,
              "#fdca26"
             ],
             [
              1,
              "#f0f921"
             ]
            ],
            "type": "surface"
           }
          ],
          "table": [
           {
            "cells": {
             "fill": {
              "color": "#EBF0F8"
             },
             "line": {
              "color": "white"
             }
            },
            "header": {
             "fill": {
              "color": "#C8D4E3"
             },
             "line": {
              "color": "white"
             }
            },
            "type": "table"
           }
          ]
         },
         "layout": {
          "annotationdefaults": {
           "arrowcolor": "#2a3f5f",
           "arrowhead": 0,
           "arrowwidth": 1
          },
          "autotypenumbers": "strict",
          "coloraxis": {
           "colorbar": {
            "outlinewidth": 0,
            "ticks": ""
           }
          },
          "colorscale": {
           "diverging": [
            [
             0,
             "#8e0152"
            ],
            [
             0.1,
             "#c51b7d"
            ],
            [
             0.2,
             "#de77ae"
            ],
            [
             0.3,
             "#f1b6da"
            ],
            [
             0.4,
             "#fde0ef"
            ],
            [
             0.5,
             "#f7f7f7"
            ],
            [
             0.6,
             "#e6f5d0"
            ],
            [
             0.7,
             "#b8e186"
            ],
            [
             0.8,
             "#7fbc41"
            ],
            [
             0.9,
             "#4d9221"
            ],
            [
             1,
             "#276419"
            ]
           ],
           "sequential": [
            [
             0,
             "#0d0887"
            ],
            [
             0.1111111111111111,
             "#46039f"
            ],
            [
             0.2222222222222222,
             "#7201a8"
            ],
            [
             0.3333333333333333,
             "#9c179e"
            ],
            [
             0.4444444444444444,
             "#bd3786"
            ],
            [
             0.5555555555555556,
             "#d8576b"
            ],
            [
             0.6666666666666666,
             "#ed7953"
            ],
            [
             0.7777777777777778,
             "#fb9f3a"
            ],
            [
             0.8888888888888888,
             "#fdca26"
            ],
            [
             1,
             "#f0f921"
            ]
           ],
           "sequentialminus": [
            [
             0,
             "#0d0887"
            ],
            [
             0.1111111111111111,
             "#46039f"
            ],
            [
             0.2222222222222222,
             "#7201a8"
            ],
            [
             0.3333333333333333,
             "#9c179e"
            ],
            [
             0.4444444444444444,
             "#bd3786"
            ],
            [
             0.5555555555555556,
             "#d8576b"
            ],
            [
             0.6666666666666666,
             "#ed7953"
            ],
            [
             0.7777777777777778,
             "#fb9f3a"
            ],
            [
             0.8888888888888888,
             "#fdca26"
            ],
            [
             1,
             "#f0f921"
            ]
           ]
          },
          "colorway": [
           "#636efa",
           "#EF553B",
           "#00cc96",
           "#ab63fa",
           "#FFA15A",
           "#19d3f3",
           "#FF6692",
           "#B6E880",
           "#FF97FF",
           "#FECB52"
          ],
          "font": {
           "color": "#2a3f5f"
          },
          "geo": {
           "bgcolor": "white",
           "lakecolor": "white",
           "landcolor": "#E5ECF6",
           "showlakes": true,
           "showland": true,
           "subunitcolor": "white"
          },
          "hoverlabel": {
           "align": "left"
          },
          "hovermode": "closest",
          "mapbox": {
           "style": "light"
          },
          "paper_bgcolor": "white",
          "plot_bgcolor": "#E5ECF6",
          "polar": {
           "angularaxis": {
            "gridcolor": "white",
            "linecolor": "white",
            "ticks": ""
           },
           "bgcolor": "#E5ECF6",
           "radialaxis": {
            "gridcolor": "white",
            "linecolor": "white",
            "ticks": ""
           }
          },
          "scene": {
           "xaxis": {
            "backgroundcolor": "#E5ECF6",
            "gridcolor": "white",
            "gridwidth": 2,
            "linecolor": "white",
            "showbackground": true,
            "ticks": "",
            "zerolinecolor": "white"
           },
           "yaxis": {
            "backgroundcolor": "#E5ECF6",
            "gridcolor": "white",
            "gridwidth": 2,
            "linecolor": "white",
            "showbackground": true,
            "ticks": "",
            "zerolinecolor": "white"
           },
           "zaxis": {
            "backgroundcolor": "#E5ECF6",
            "gridcolor": "white",
            "gridwidth": 2,
            "linecolor": "white",
            "showbackground": true,
            "ticks": "",
            "zerolinecolor": "white"
           }
          },
          "shapedefaults": {
           "line": {
            "color": "#2a3f5f"
           }
          },
          "ternary": {
           "aaxis": {
            "gridcolor": "white",
            "linecolor": "white",
            "ticks": ""
           },
           "baxis": {
            "gridcolor": "white",
            "linecolor": "white",
            "ticks": ""
           },
           "bgcolor": "#E5ECF6",
           "caxis": {
            "gridcolor": "white",
            "linecolor": "white",
            "ticks": ""
           }
          },
          "title": {
           "x": 0.05
          },
          "xaxis": {
           "automargin": true,
           "gridcolor": "white",
           "linecolor": "white",
           "ticks": "",
           "title": {
            "standoff": 15
           },
           "zerolinecolor": "white",
           "zerolinewidth": 2
          },
          "yaxis": {
           "automargin": true,
           "gridcolor": "white",
           "linecolor": "white",
           "ticks": "",
           "title": {
            "standoff": 15
           },
           "zerolinecolor": "white",
           "zerolinewidth": 2
          }
         }
        },
        "title": {
         "text": "GDP vs Total medals in 2016"
        },
        "xaxis": {
         "anchor": "y",
         "domain": [
          0,
          1
         ],
         "title": {
          "text": "GDP (per capita) in dollars"
         }
        },
        "yaxis": {
         "anchor": "x",
         "domain": [
          0,
          1
         ],
         "title": {
          "text": "Total Olympic medals"
         }
        }
       }
      }
     },
     "metadata": {},
     "output_type": "display_data"
    }
   ],
   "source": [
    "medals_plot(olympics_dataframe, \"2004\", \"GDP\", \"Total\")\n",
    "medals_plot(olympics_dataframe, \"2008\", \"GDP\", \"Total\")\n",
    "medals_plot(olympics_dataframe, \"2012\", \"GDP\", \"Total\")\n",
    "medals_plot(olympics_dataframe, \"2016\", \"GDP\", \"Total\")"
   ]
  },
  {
   "cell_type": "code",
   "execution_count": 10,
   "metadata": {},
   "outputs": [
    {
     "data": {
      "application/vnd.plotly.v1+json": {
       "config": {
        "plotlyServerURL": "https://plot.ly"
       },
       "data": [
        {
         "customdata": [
          [
           "United States"
          ],
          [
           "China"
          ],
          [
           "Great Britain"
          ],
          [
           "Russia"
          ],
          [
           "South Korea"
          ],
          [
           "Germany"
          ],
          [
           "France"
          ],
          [
           "Australia"
          ],
          [
           "Italy"
          ],
          [
           "Hungary"
          ],
          [
           "Japan"
          ],
          [
           "Iran"
          ],
          [
           "Netherlands"
          ],
          [
           "New Zealand"
          ],
          [
           "Ukraine"
          ],
          [
           "Cuba"
          ],
          [
           "Spain"
          ],
          [
           "Jamaica"
          ],
          [
           "Czech Republic"
          ],
          [
           "South Africa"
          ],
          [
           "North Korea"
          ],
          [
           "Brazil"
          ],
          [
           "Kazakhstan"
          ],
          [
           "Poland"
          ],
          [
           "Ethiopia"
          ],
          [
           "Croatia"
          ],
          [
           "Canada"
          ],
          [
           "Belarus"
          ],
          [
           "Kenya"
          ],
          [
           "Denmark"
          ],
          [
           "Romania"
          ],
          [
           "Azerbaijan"
          ],
          [
           "Switzerland"
          ],
          [
           "Norway"
          ],
          [
           "Lithuania"
          ],
          [
           "Tunisia"
          ],
          [
           "Sweden"
          ],
          [
           "Colombia"
          ],
          [
           "Mexico"
          ],
          [
           "Georgia"
          ],
          [
           "Ireland"
          ],
          [
           "Argentina"
          ],
          [
           "Serbia"
          ],
          [
           "Slovenia"
          ],
          [
           "Trinidad and Tobago"
          ],
          [
           "Turkey"
          ],
          [
           "Dominican Republic"
          ],
          [
           "Chinese Taipei"
          ],
          [
           "Latvia"
          ],
          [
           "Algeria"
          ],
          [
           "Bahamas"
          ],
          [
           "Bahrain"
          ],
          [
           "Grenada"
          ],
          [
           "Uganda"
          ],
          [
           "Venezuela"
          ],
          [
           "Egypt"
          ],
          [
           "India"
          ],
          [
           "Mongolia"
          ],
          [
           "Thailand"
          ],
          [
           "Bulgaria"
          ],
          [
           "Finland"
          ],
          [
           "Indonesia"
          ],
          [
           "Slovakia"
          ],
          [
           "Belgium"
          ],
          [
           "Armenia"
          ],
          [
           "Estonia"
          ],
          [
           "Malaysia"
          ],
          [
           "Puerto Rico"
          ],
          [
           "Qatar"
          ],
          [
           "Botswana"
          ],
          [
           "Cyprus"
          ],
          [
           "Gabon"
          ],
          [
           "Guatemala"
          ],
          [
           "Montenegro"
          ],
          [
           "Portugal"
          ],
          [
           "Uzbekistan"
          ],
          [
           "Greece"
          ],
          [
           "Singapore"
          ],
          [
           "Afghanistan"
          ],
          [
           "Cameroon"
          ],
          [
           "Hong Kong"
          ],
          [
           "Kuwait"
          ],
          [
           "Morocco"
          ],
          [
           "Saudi Arabia"
          ],
          [
           "Tajikistan"
          ],
          [
           "Vietnam"
          ],
          [
           "Zimbabwe"
          ],
          [
           "Panama"
          ],
          [
           "Nigeria"
          ],
          [
           "Austria"
          ],
          [
           "Kyrgyzstan"
          ],
          [
           "Chile"
          ],
          [
           "Ecuador"
          ],
          [
           "Iceland"
          ],
          [
           "Samoa"
          ],
          [
           "Sudan"
          ],
          [
           "Israel"
          ],
          [
           "Mauritius"
          ],
          [
           "Moldova"
          ],
          [
           "Togo"
          ],
          [
           "Ivory Coast"
          ],
          [
           "Fiji"
          ],
          [
           "Jordan"
          ],
          [
           "Kosovo"
          ],
          [
           "Burundi"
          ],
          [
           "Niger"
          ],
          [
           "Philippines"
          ],
          [
           "United Arab Emirates"
          ],
          [
           "Serbia and Montenegro"
          ],
          [
           "Paraguay"
          ],
          [
           "Eritrea"
          ],
          [
           "Syria"
          ]
         ],
         "hovertemplate": "Population (in thousands)=%{x}<br>Total Olympic medals=%{y}<br>NOC=%{customdata[0]}<extra></extra>",
         "legendgroup": "",
         "marker": {
          "color": "#636efa",
          "symbol": "circle"
         },
         "mode": "markers",
         "name": "",
         "orientation": "v",
         "showlegend": false,
         "type": "scatter",
         "x": [
          295517,
          1302285,
          60488,
          143320,
          48006,
          82440,
          63060,
          20233,
          59038,
          10058,
          127716,
          72283,
          16300,
          4049,
          47003,
          11199,
          43705,
          2737,
          10267,
          48105,
          23621,
          186021,
          16123,
          38557,
          74355,
          4496,
          32387,
          9807,
          35247,
          5433,
          22198,
          8826,
          7449,
          4625,
          3327,
          10013,
          9083,
          41488,
          106577,
          4791,
          4200,
          39182,
          7503,
          2012,
          1237,
          70465,
          9165,
          22728,
          2259,
          32918,
          297,
          916,
          105,
          26917,
          25270,
          72544,
          1090974,
          2603,
          65113,
          7612,
          5239,
          229245,
          5408,
          10470,
          3085,
          1332,
          25969,
          3822,
          973,
          1841,
          1011,
          1396,
          12183,
          700,
          10567,
          26540,
          10669,
          4606,
          26335,
          18132,
          6905,
          2257,
          29901,
          23643,
          6815,
          84425,
          11640,
          3156,
          141190,
          8315,
          5165,
          15980,
          13663,
          297,
          185,
          29884,
          6726,
          1243,
          3949,
          5715,
          18921,
          837,
          5363,
          1768,
          7789,
          12783,
          84965,
          4087,
          8203,
          5926,
          5070,
          18615
         ],
         "xaxis": "x",
         "y": [
          101,
          63,
          30,
          90,
          30,
          49,
          33,
          50,
          32,
          17,
          37,
          6,
          22,
          5,
          22,
          27,
          20,
          5,
          9,
          6,
          5,
          10,
          8,
          10,
          7,
          5,
          12,
          13,
          7,
          8,
          19,
          5,
          5,
          6,
          3,
          0,
          7,
          2,
          4,
          4,
          0,
          6,
          0,
          4,
          1,
          11,
          1,
          5,
          4,
          0,
          2,
          0,
          0,
          0,
          2,
          5,
          1,
          1,
          8,
          12,
          2,
          4,
          6,
          3,
          0,
          3,
          0,
          0,
          0,
          0,
          0,
          0,
          0,
          0,
          3,
          5,
          16,
          0,
          0,
          1,
          1,
          0,
          3,
          0,
          0,
          0,
          3,
          0,
          2,
          7,
          0,
          3,
          0,
          0,
          0,
          0,
          2,
          0,
          0,
          0,
          0,
          0,
          0,
          0,
          0,
          0,
          0,
          1,
          2,
          1,
          1,
          1
         ],
         "yaxis": "y"
        },
        {
         "hovertemplate": "<b>OLS trendline</b><br>Total-2004 = 3.72483e-05 * Pop-2004 + 6.42396<br>R<sup>2</sup>=0.137651<br><br>Population (in thousands)=%{x}<br>Total Olympic medals=%{y} <b>(trend)</b><extra></extra>",
         "legendgroup": "",
         "marker": {
          "color": "#636efa",
          "symbol": "circle"
         },
         "mode": "lines",
         "name": "",
         "showlegend": false,
         "type": "scatter",
         "x": [
          105,
          185,
          297,
          297,
          700,
          837,
          916,
          973,
          1011,
          1237,
          1243,
          1332,
          1396,
          1768,
          1841,
          2012,
          2257,
          2259,
          2603,
          2737,
          3085,
          3156,
          3327,
          3822,
          3949,
          4049,
          4087,
          4200,
          4496,
          4606,
          4625,
          4791,
          5070,
          5165,
          5239,
          5363,
          5408,
          5433,
          5715,
          5926,
          6726,
          6815,
          6905,
          7449,
          7503,
          7612,
          7789,
          8203,
          8315,
          8826,
          9083,
          9165,
          9807,
          10013,
          10058,
          10267,
          10470,
          10567,
          10669,
          11199,
          11640,
          12183,
          12783,
          13663,
          15980,
          16123,
          16300,
          18132,
          18615,
          18921,
          20233,
          22198,
          22728,
          23621,
          23643,
          25270,
          25969,
          26335,
          26540,
          26917,
          29884,
          29901,
          32387,
          32918,
          35247,
          38557,
          39182,
          41488,
          43705,
          47003,
          48006,
          48105,
          59038,
          60488,
          63060,
          65113,
          70465,
          72283,
          72544,
          74355,
          82440,
          84425,
          84965,
          106577,
          127716,
          141190,
          143320,
          186021,
          229245,
          295517,
          1090974,
          1302285
         ],
         "xaxis": "x",
         "y": [
          6.42787412987731,
          6.4308539940237806,
          6.43502580382884,
          6.43502580382884,
          6.450036869466689,
          6.455139886817521,
          6.458082502662161,
          6.460205655866521,
          6.461621091336095,
          6.470039207549877,
          6.4702626973608615,
          6.473577796223811,
          6.4759616875409876,
          6.489818055822079,
          6.492537181855734,
          6.498906641468816,
          6.508032475417384,
          6.508106972021046,
          6.520920387850872,
          6.52591166029621,
          6.53887406933336,
          6.541518698763354,
          6.547888158376436,
          6.566326067782726,
          6.571056602115249,
          6.574781432298337,
          6.576196867767911,
          6.580405925874802,
          6.591431423216745,
          6.595528736418143,
          6.59623645415293,
          6.6024196722568576,
          6.612811948467676,
          6.61635053714161,
          6.619106911477096,
          6.623725700904126,
          6.625401874486516,
          6.626333082032289,
          6.6368371031486,
          6.644696494834918,
          6.674495136299629,
          6.677810235162578,
          6.681162582327358,
          6.7014256585233625,
          6.7034370668222305,
          6.707497131721797,
          6.714090081145865,
          6.729510878103853,
          6.733682687908912,
          6.752716570144496,
          6.762289383715036,
          6.765343744465168,
          6.789257154240599,
          6.796930304417763,
          6.798606478000153,
          6.806391373082809,
          6.813952778354479,
          6.817565863632075,
          6.821365190418826,
          6.841106790389198,
          6.85753329149662,
          6.8777591193907925,
          6.9001081004893265,
          6.932886606100509,
          7.01919092144268,
          7.024517428604497,
          7.031110378028565,
          7.099349266982754,
          7.117340196767074,
          7.128738177127326,
          7.177607949129453,
          7.250800862227151,
          7.270542462197523,
          7.303805195732507,
          7.304624658372786,
          7.365227645451643,
          7.391264208431435,
          7.404897086901541,
          7.412532988776873,
          7.426575598567119,
          7.537091310099368,
          7.537724531230493,
          7.630323809582084,
          7.650102657854287,
          7.736853952818429,
          7.860145831878672,
          7.883426020522978,
          7.969320604545009,
          8.051900089704091,
          8.174744989142365,
          8.212105035878746,
          8.215792617760005,
          8.62302830167712,
          8.67703833933191,
          8.772840971640957,
          8.849311735299773,
          9.048664646698693,
          9.116382059427252,
          9.126103866205113,
          9.193560540820854,
          9.494713061123596,
          9.56865094025791,
          9.58876502324659,
          10.393775322415776,
          11.181167174818949,
          11.683050793688354,
          11.762389676588148,
          13.35292941306896,
          14.962950011407328,
          17.431469470344034,
          47.0608918998379,
          54.93186780802499
         ],
         "yaxis": "y"
        }
       ],
       "layout": {
        "legend": {
         "tracegroupgap": 0
        },
        "template": {
         "data": {
          "bar": [
           {
            "error_x": {
             "color": "#2a3f5f"
            },
            "error_y": {
             "color": "#2a3f5f"
            },
            "marker": {
             "line": {
              "color": "#E5ECF6",
              "width": 0.5
             },
             "pattern": {
              "fillmode": "overlay",
              "size": 10,
              "solidity": 0.2
             }
            },
            "type": "bar"
           }
          ],
          "barpolar": [
           {
            "marker": {
             "line": {
              "color": "#E5ECF6",
              "width": 0.5
             },
             "pattern": {
              "fillmode": "overlay",
              "size": 10,
              "solidity": 0.2
             }
            },
            "type": "barpolar"
           }
          ],
          "carpet": [
           {
            "aaxis": {
             "endlinecolor": "#2a3f5f",
             "gridcolor": "white",
             "linecolor": "white",
             "minorgridcolor": "white",
             "startlinecolor": "#2a3f5f"
            },
            "baxis": {
             "endlinecolor": "#2a3f5f",
             "gridcolor": "white",
             "linecolor": "white",
             "minorgridcolor": "white",
             "startlinecolor": "#2a3f5f"
            },
            "type": "carpet"
           }
          ],
          "choropleth": [
           {
            "colorbar": {
             "outlinewidth": 0,
             "ticks": ""
            },
            "type": "choropleth"
           }
          ],
          "contour": [
           {
            "colorbar": {
             "outlinewidth": 0,
             "ticks": ""
            },
            "colorscale": [
             [
              0,
              "#0d0887"
             ],
             [
              0.1111111111111111,
              "#46039f"
             ],
             [
              0.2222222222222222,
              "#7201a8"
             ],
             [
              0.3333333333333333,
              "#9c179e"
             ],
             [
              0.4444444444444444,
              "#bd3786"
             ],
             [
              0.5555555555555556,
              "#d8576b"
             ],
             [
              0.6666666666666666,
              "#ed7953"
             ],
             [
              0.7777777777777778,
              "#fb9f3a"
             ],
             [
              0.8888888888888888,
              "#fdca26"
             ],
             [
              1,
              "#f0f921"
             ]
            ],
            "type": "contour"
           }
          ],
          "contourcarpet": [
           {
            "colorbar": {
             "outlinewidth": 0,
             "ticks": ""
            },
            "type": "contourcarpet"
           }
          ],
          "heatmap": [
           {
            "colorbar": {
             "outlinewidth": 0,
             "ticks": ""
            },
            "colorscale": [
             [
              0,
              "#0d0887"
             ],
             [
              0.1111111111111111,
              "#46039f"
             ],
             [
              0.2222222222222222,
              "#7201a8"
             ],
             [
              0.3333333333333333,
              "#9c179e"
             ],
             [
              0.4444444444444444,
              "#bd3786"
             ],
             [
              0.5555555555555556,
              "#d8576b"
             ],
             [
              0.6666666666666666,
              "#ed7953"
             ],
             [
              0.7777777777777778,
              "#fb9f3a"
             ],
             [
              0.8888888888888888,
              "#fdca26"
             ],
             [
              1,
              "#f0f921"
             ]
            ],
            "type": "heatmap"
           }
          ],
          "heatmapgl": [
           {
            "colorbar": {
             "outlinewidth": 0,
             "ticks": ""
            },
            "colorscale": [
             [
              0,
              "#0d0887"
             ],
             [
              0.1111111111111111,
              "#46039f"
             ],
             [
              0.2222222222222222,
              "#7201a8"
             ],
             [
              0.3333333333333333,
              "#9c179e"
             ],
             [
              0.4444444444444444,
              "#bd3786"
             ],
             [
              0.5555555555555556,
              "#d8576b"
             ],
             [
              0.6666666666666666,
              "#ed7953"
             ],
             [
              0.7777777777777778,
              "#fb9f3a"
             ],
             [
              0.8888888888888888,
              "#fdca26"
             ],
             [
              1,
              "#f0f921"
             ]
            ],
            "type": "heatmapgl"
           }
          ],
          "histogram": [
           {
            "marker": {
             "pattern": {
              "fillmode": "overlay",
              "size": 10,
              "solidity": 0.2
             }
            },
            "type": "histogram"
           }
          ],
          "histogram2d": [
           {
            "colorbar": {
             "outlinewidth": 0,
             "ticks": ""
            },
            "colorscale": [
             [
              0,
              "#0d0887"
             ],
             [
              0.1111111111111111,
              "#46039f"
             ],
             [
              0.2222222222222222,
              "#7201a8"
             ],
             [
              0.3333333333333333,
              "#9c179e"
             ],
             [
              0.4444444444444444,
              "#bd3786"
             ],
             [
              0.5555555555555556,
              "#d8576b"
             ],
             [
              0.6666666666666666,
              "#ed7953"
             ],
             [
              0.7777777777777778,
              "#fb9f3a"
             ],
             [
              0.8888888888888888,
              "#fdca26"
             ],
             [
              1,
              "#f0f921"
             ]
            ],
            "type": "histogram2d"
           }
          ],
          "histogram2dcontour": [
           {
            "colorbar": {
             "outlinewidth": 0,
             "ticks": ""
            },
            "colorscale": [
             [
              0,
              "#0d0887"
             ],
             [
              0.1111111111111111,
              "#46039f"
             ],
             [
              0.2222222222222222,
              "#7201a8"
             ],
             [
              0.3333333333333333,
              "#9c179e"
             ],
             [
              0.4444444444444444,
              "#bd3786"
             ],
             [
              0.5555555555555556,
              "#d8576b"
             ],
             [
              0.6666666666666666,
              "#ed7953"
             ],
             [
              0.7777777777777778,
              "#fb9f3a"
             ],
             [
              0.8888888888888888,
              "#fdca26"
             ],
             [
              1,
              "#f0f921"
             ]
            ],
            "type": "histogram2dcontour"
           }
          ],
          "mesh3d": [
           {
            "colorbar": {
             "outlinewidth": 0,
             "ticks": ""
            },
            "type": "mesh3d"
           }
          ],
          "parcoords": [
           {
            "line": {
             "colorbar": {
              "outlinewidth": 0,
              "ticks": ""
             }
            },
            "type": "parcoords"
           }
          ],
          "pie": [
           {
            "automargin": true,
            "type": "pie"
           }
          ],
          "scatter": [
           {
            "marker": {
             "colorbar": {
              "outlinewidth": 0,
              "ticks": ""
             }
            },
            "type": "scatter"
           }
          ],
          "scatter3d": [
           {
            "line": {
             "colorbar": {
              "outlinewidth": 0,
              "ticks": ""
             }
            },
            "marker": {
             "colorbar": {
              "outlinewidth": 0,
              "ticks": ""
             }
            },
            "type": "scatter3d"
           }
          ],
          "scattercarpet": [
           {
            "marker": {
             "colorbar": {
              "outlinewidth": 0,
              "ticks": ""
             }
            },
            "type": "scattercarpet"
           }
          ],
          "scattergeo": [
           {
            "marker": {
             "colorbar": {
              "outlinewidth": 0,
              "ticks": ""
             }
            },
            "type": "scattergeo"
           }
          ],
          "scattergl": [
           {
            "marker": {
             "colorbar": {
              "outlinewidth": 0,
              "ticks": ""
             }
            },
            "type": "scattergl"
           }
          ],
          "scattermapbox": [
           {
            "marker": {
             "colorbar": {
              "outlinewidth": 0,
              "ticks": ""
             }
            },
            "type": "scattermapbox"
           }
          ],
          "scatterpolar": [
           {
            "marker": {
             "colorbar": {
              "outlinewidth": 0,
              "ticks": ""
             }
            },
            "type": "scatterpolar"
           }
          ],
          "scatterpolargl": [
           {
            "marker": {
             "colorbar": {
              "outlinewidth": 0,
              "ticks": ""
             }
            },
            "type": "scatterpolargl"
           }
          ],
          "scatterternary": [
           {
            "marker": {
             "colorbar": {
              "outlinewidth": 0,
              "ticks": ""
             }
            },
            "type": "scatterternary"
           }
          ],
          "surface": [
           {
            "colorbar": {
             "outlinewidth": 0,
             "ticks": ""
            },
            "colorscale": [
             [
              0,
              "#0d0887"
             ],
             [
              0.1111111111111111,
              "#46039f"
             ],
             [
              0.2222222222222222,
              "#7201a8"
             ],
             [
              0.3333333333333333,
              "#9c179e"
             ],
             [
              0.4444444444444444,
              "#bd3786"
             ],
             [
              0.5555555555555556,
              "#d8576b"
             ],
             [
              0.6666666666666666,
              "#ed7953"
             ],
             [
              0.7777777777777778,
              "#fb9f3a"
             ],
             [
              0.8888888888888888,
              "#fdca26"
             ],
             [
              1,
              "#f0f921"
             ]
            ],
            "type": "surface"
           }
          ],
          "table": [
           {
            "cells": {
             "fill": {
              "color": "#EBF0F8"
             },
             "line": {
              "color": "white"
             }
            },
            "header": {
             "fill": {
              "color": "#C8D4E3"
             },
             "line": {
              "color": "white"
             }
            },
            "type": "table"
           }
          ]
         },
         "layout": {
          "annotationdefaults": {
           "arrowcolor": "#2a3f5f",
           "arrowhead": 0,
           "arrowwidth": 1
          },
          "autotypenumbers": "strict",
          "coloraxis": {
           "colorbar": {
            "outlinewidth": 0,
            "ticks": ""
           }
          },
          "colorscale": {
           "diverging": [
            [
             0,
             "#8e0152"
            ],
            [
             0.1,
             "#c51b7d"
            ],
            [
             0.2,
             "#de77ae"
            ],
            [
             0.3,
             "#f1b6da"
            ],
            [
             0.4,
             "#fde0ef"
            ],
            [
             0.5,
             "#f7f7f7"
            ],
            [
             0.6,
             "#e6f5d0"
            ],
            [
             0.7,
             "#b8e186"
            ],
            [
             0.8,
             "#7fbc41"
            ],
            [
             0.9,
             "#4d9221"
            ],
            [
             1,
             "#276419"
            ]
           ],
           "sequential": [
            [
             0,
             "#0d0887"
            ],
            [
             0.1111111111111111,
             "#46039f"
            ],
            [
             0.2222222222222222,
             "#7201a8"
            ],
            [
             0.3333333333333333,
             "#9c179e"
            ],
            [
             0.4444444444444444,
             "#bd3786"
            ],
            [
             0.5555555555555556,
             "#d8576b"
            ],
            [
             0.6666666666666666,
             "#ed7953"
            ],
            [
             0.7777777777777778,
             "#fb9f3a"
            ],
            [
             0.8888888888888888,
             "#fdca26"
            ],
            [
             1,
             "#f0f921"
            ]
           ],
           "sequentialminus": [
            [
             0,
             "#0d0887"
            ],
            [
             0.1111111111111111,
             "#46039f"
            ],
            [
             0.2222222222222222,
             "#7201a8"
            ],
            [
             0.3333333333333333,
             "#9c179e"
            ],
            [
             0.4444444444444444,
             "#bd3786"
            ],
            [
             0.5555555555555556,
             "#d8576b"
            ],
            [
             0.6666666666666666,
             "#ed7953"
            ],
            [
             0.7777777777777778,
             "#fb9f3a"
            ],
            [
             0.8888888888888888,
             "#fdca26"
            ],
            [
             1,
             "#f0f921"
            ]
           ]
          },
          "colorway": [
           "#636efa",
           "#EF553B",
           "#00cc96",
           "#ab63fa",
           "#FFA15A",
           "#19d3f3",
           "#FF6692",
           "#B6E880",
           "#FF97FF",
           "#FECB52"
          ],
          "font": {
           "color": "#2a3f5f"
          },
          "geo": {
           "bgcolor": "white",
           "lakecolor": "white",
           "landcolor": "#E5ECF6",
           "showlakes": true,
           "showland": true,
           "subunitcolor": "white"
          },
          "hoverlabel": {
           "align": "left"
          },
          "hovermode": "closest",
          "mapbox": {
           "style": "light"
          },
          "paper_bgcolor": "white",
          "plot_bgcolor": "#E5ECF6",
          "polar": {
           "angularaxis": {
            "gridcolor": "white",
            "linecolor": "white",
            "ticks": ""
           },
           "bgcolor": "#E5ECF6",
           "radialaxis": {
            "gridcolor": "white",
            "linecolor": "white",
            "ticks": ""
           }
          },
          "scene": {
           "xaxis": {
            "backgroundcolor": "#E5ECF6",
            "gridcolor": "white",
            "gridwidth": 2,
            "linecolor": "white",
            "showbackground": true,
            "ticks": "",
            "zerolinecolor": "white"
           },
           "yaxis": {
            "backgroundcolor": "#E5ECF6",
            "gridcolor": "white",
            "gridwidth": 2,
            "linecolor": "white",
            "showbackground": true,
            "ticks": "",
            "zerolinecolor": "white"
           },
           "zaxis": {
            "backgroundcolor": "#E5ECF6",
            "gridcolor": "white",
            "gridwidth": 2,
            "linecolor": "white",
            "showbackground": true,
            "ticks": "",
            "zerolinecolor": "white"
           }
          },
          "shapedefaults": {
           "line": {
            "color": "#2a3f5f"
           }
          },
          "ternary": {
           "aaxis": {
            "gridcolor": "white",
            "linecolor": "white",
            "ticks": ""
           },
           "baxis": {
            "gridcolor": "white",
            "linecolor": "white",
            "ticks": ""
           },
           "bgcolor": "#E5ECF6",
           "caxis": {
            "gridcolor": "white",
            "linecolor": "white",
            "ticks": ""
           }
          },
          "title": {
           "x": 0.05
          },
          "xaxis": {
           "automargin": true,
           "gridcolor": "white",
           "linecolor": "white",
           "ticks": "",
           "title": {
            "standoff": 15
           },
           "zerolinecolor": "white",
           "zerolinewidth": 2
          },
          "yaxis": {
           "automargin": true,
           "gridcolor": "white",
           "linecolor": "white",
           "ticks": "",
           "title": {
            "standoff": 15
           },
           "zerolinecolor": "white",
           "zerolinewidth": 2
          }
         }
        },
        "title": {
         "text": "Pop vs Total medals in 2004"
        },
        "xaxis": {
         "anchor": "y",
         "domain": [
          0,
          1
         ],
         "title": {
          "text": "Population (in thousands)"
         }
        },
        "yaxis": {
         "anchor": "x",
         "domain": [
          0,
          1
         ],
         "title": {
          "text": "Total Olympic medals"
         }
        }
       }
      }
     },
     "metadata": {},
     "output_type": "display_data"
    },
    {
     "data": {
      "application/vnd.plotly.v1+json": {
       "config": {
        "plotlyServerURL": "https://plot.ly"
       },
       "data": [
        {
         "customdata": [
          [
           "United States"
          ],
          [
           "China"
          ],
          [
           "Great Britain"
          ],
          [
           "Russia"
          ],
          [
           "South Korea"
          ],
          [
           "Germany"
          ],
          [
           "France"
          ],
          [
           "Australia"
          ],
          [
           "Italy"
          ],
          [
           "Hungary"
          ],
          [
           "Japan"
          ],
          [
           "Iran"
          ],
          [
           "Netherlands"
          ],
          [
           "New Zealand"
          ],
          [
           "Ukraine"
          ],
          [
           "Cuba"
          ],
          [
           "Spain"
          ],
          [
           "Jamaica"
          ],
          [
           "Czech Republic"
          ],
          [
           "South Africa"
          ],
          [
           "North Korea"
          ],
          [
           "Brazil"
          ],
          [
           "Kazakhstan"
          ],
          [
           "Poland"
          ],
          [
           "Ethiopia"
          ],
          [
           "Croatia"
          ],
          [
           "Canada"
          ],
          [
           "Belarus"
          ],
          [
           "Kenya"
          ],
          [
           "Denmark"
          ],
          [
           "Romania"
          ],
          [
           "Azerbaijan"
          ],
          [
           "Switzerland"
          ],
          [
           "Norway"
          ],
          [
           "Lithuania"
          ],
          [
           "Tunisia"
          ],
          [
           "Sweden"
          ],
          [
           "Colombia"
          ],
          [
           "Mexico"
          ],
          [
           "Georgia"
          ],
          [
           "Ireland"
          ],
          [
           "Argentina"
          ],
          [
           "Serbia"
          ],
          [
           "Slovenia"
          ],
          [
           "Trinidad and Tobago"
          ],
          [
           "Turkey"
          ],
          [
           "Dominican Republic"
          ],
          [
           "Chinese Taipei"
          ],
          [
           "Latvia"
          ],
          [
           "Algeria"
          ],
          [
           "Bahamas"
          ],
          [
           "Bahrain"
          ],
          [
           "Grenada"
          ],
          [
           "Uganda"
          ],
          [
           "Venezuela"
          ],
          [
           "Egypt"
          ],
          [
           "India"
          ],
          [
           "Mongolia"
          ],
          [
           "Thailand"
          ],
          [
           "Bulgaria"
          ],
          [
           "Finland"
          ],
          [
           "Indonesia"
          ],
          [
           "Slovakia"
          ],
          [
           "Belgium"
          ],
          [
           "Armenia"
          ],
          [
           "Estonia"
          ],
          [
           "Malaysia"
          ],
          [
           "Puerto Rico"
          ],
          [
           "Qatar"
          ],
          [
           "Botswana"
          ],
          [
           "Cyprus"
          ],
          [
           "Gabon"
          ],
          [
           "Guatemala"
          ],
          [
           "Montenegro"
          ],
          [
           "Portugal"
          ],
          [
           "Uzbekistan"
          ],
          [
           "Greece"
          ],
          [
           "Singapore"
          ],
          [
           "Afghanistan"
          ],
          [
           "Cameroon"
          ],
          [
           "Hong Kong"
          ],
          [
           "Kuwait"
          ],
          [
           "Morocco"
          ],
          [
           "Saudi Arabia"
          ],
          [
           "Tajikistan"
          ],
          [
           "Vietnam"
          ],
          [
           "Zimbabwe"
          ],
          [
           "Panama"
          ],
          [
           "Nigeria"
          ],
          [
           "Austria"
          ],
          [
           "Kyrgyzstan"
          ],
          [
           "Chile"
          ],
          [
           "Ecuador"
          ],
          [
           "Iceland"
          ],
          [
           "Samoa"
          ],
          [
           "Sudan"
          ],
          [
           "Israel"
          ],
          [
           "Mauritius"
          ],
          [
           "Moldova"
          ],
          [
           "Togo"
          ],
          [
           "Ivory Coast"
          ],
          [
           "Fiji"
          ],
          [
           "Jordan"
          ],
          [
           "Kosovo"
          ],
          [
           "Burundi"
          ],
          [
           "Niger"
          ],
          [
           "Philippines"
          ],
          [
           "United Arab Emirates"
          ],
          [
           "Serbia and Montenegro"
          ],
          [
           "Paraguay"
          ],
          [
           "Eritrea"
          ],
          [
           "Syria"
          ]
         ],
         "hovertemplate": "Population (in thousands)=%{x}<br>Total Olympic medals=%{y}<br>NOC=%{customdata[0]}<extra></extra>",
         "legendgroup": "",
         "marker": {
          "color": "#636efa",
          "symbol": "circle"
         },
         "mode": "markers",
         "name": "",
         "orientation": "v",
         "showlegend": false,
         "type": "scatter",
         "x": [
          309348,
          1336681,
          62349,
          142527,
          48637,
          81645,
          64941,
          21516,
          60749,
          9993,
          127580,
          76924,
          16574,
          4253,
          45769,
          11099,
          46506,
          2848,
          10551,
          51123,
          24326,
          195835,
          17085,
          38617,
          86043,
          4487,
          33760,
          9681,
          40844,
          5516,
          21960,
          9302,
          7770,
          4892,
          3089,
          10526,
          9433,
          44206,
          114062,
          4903,
          4623,
          41344,
          7345,
          2004,
          1229,
          74687,
          9824,
          23127,
          2116,
          35950,
          311,
          1181,
          108,
          31508,
          27224,
          80472,
          1173109,
          2784,
          66721,
          7392,
          5355,
          243423,
          5427,
          10866,
          3072,
          1303,
          28275,
          3722,
          1720,
          2030,
          1103,
          1546,
          13551,
          667,
          10736,
          27866,
          10750,
          5141,
          29121,
          20823,
          7030,
          2544,
          31628,
          25732,
          7488,
          89572,
          11652,
          3411,
          160342,
          8448,
          5411,
          16760,
          14791,
          318,
          193,
          32997,
          7369,
          1295,
          3732,
          6588,
          21059,
          876,
          6501,
          1816,
          9121,
          15271,
          93137,
          4976,
          8012,
          6376,
          5793,
          21766
         ],
         "xaxis": "x",
         "y": [
          112,
          100,
          51,
          60,
          32,
          41,
          43,
          46,
          27,
          10,
          25,
          2,
          16,
          9,
          22,
          30,
          19,
          11,
          7,
          1,
          6,
          17,
          9,
          11,
          7,
          5,
          20,
          14,
          16,
          7,
          9,
          6,
          7,
          9,
          5,
          1,
          5,
          3,
          4,
          7,
          3,
          6,
          3,
          5,
          2,
          5,
          2,
          4,
          3,
          2,
          2,
          0,
          0,
          0,
          1,
          2,
          3,
          4,
          6,
          5,
          4,
          6,
          6,
          2,
          5,
          2,
          1,
          0,
          0,
          0,
          0,
          0,
          0,
          0,
          2,
          4,
          3,
          1,
          1,
          1,
          0,
          0,
          2,
          0,
          2,
          1,
          4,
          1,
          5,
          3,
          3,
          1,
          1,
          1,
          1,
          1,
          1,
          1,
          1,
          1,
          0,
          0,
          0,
          0,
          0,
          0,
          0,
          0,
          0,
          0,
          0,
          0
         ],
         "yaxis": "y"
        },
        {
         "hovertemplate": "<b>OLS trendline</b><br>Total-2008 = 5.01268e-05 * Pop-2008 + 5.92661<br>R<sup>2</sup>=0.243282<br><br>Population (in thousands)=%{x}<br>Total Olympic medals=%{y} <b>(trend)</b><extra></extra>",
         "legendgroup": "",
         "marker": {
          "color": "#636efa",
          "symbol": "circle"
         },
         "mode": "lines",
         "name": "",
         "showlegend": false,
         "type": "scatter",
         "x": [
          108,
          193,
          311,
          318,
          667,
          876,
          1103,
          1181,
          1229,
          1295,
          1303,
          1546,
          1720,
          1816,
          2004,
          2030,
          2116,
          2544,
          2784,
          2848,
          3072,
          3089,
          3411,
          3722,
          3732,
          4253,
          4487,
          4623,
          4892,
          4903,
          4976,
          5141,
          5355,
          5411,
          5427,
          5516,
          5793,
          6376,
          6501,
          6588,
          7030,
          7345,
          7369,
          7392,
          7488,
          7770,
          8012,
          8448,
          9121,
          9302,
          9433,
          9681,
          9824,
          9993,
          10526,
          10551,
          10736,
          10750,
          10866,
          11099,
          11652,
          13551,
          14791,
          15271,
          16574,
          16760,
          17085,
          20823,
          21059,
          21516,
          21766,
          21960,
          23127,
          24326,
          25732,
          27224,
          27866,
          28275,
          29121,
          31508,
          31628,
          32997,
          33760,
          35950,
          38617,
          40844,
          41344,
          44206,
          45769,
          46506,
          48637,
          51123,
          60749,
          62349,
          64941,
          66721,
          74687,
          76924,
          80472,
          81645,
          86043,
          89572,
          93137,
          114062,
          127580,
          142527,
          160342,
          195835,
          243423,
          309348,
          1173109,
          1336681
         ],
         "xaxis": "x",
         "y": [
          5.932023642327214,
          5.936284418612495,
          5.9421993786320595,
          5.942550266090848,
          5.96004451225041,
          5.970521009234217,
          5.981899788254906,
          5.985809677081399,
          5.988215762513087,
          5.9915241299816575,
          5.9919251442202714,
          6.0041059517181905,
          6.012828011408058,
          6.017640182271434,
          6.027064016878877,
          6.028367313154375,
          6.032678216219482,
          6.054132477985363,
          6.066162905143802,
          6.069371019052719,
          6.080599417733929,
          6.081451572990984,
          6.097592396095222,
          6.113181824621366,
          6.113683092419634,
          6.139799144709411,
          6.151528811188888,
          6.158346053245336,
          6.171830157018753,
          6.172381551596848,
          6.176040806524206,
          6.1843117251956325,
          6.195038856078574,
          6.197845955748876,
          6.198647984226105,
          6.203109267630692,
          6.216994385642724,
          6.246218298281764,
          6.252484145760117,
          6.256845175605051,
          6.279001212288509,
          6.294791147933958,
          6.295994190649802,
          6.297147106585819,
          6.301959277449195,
          6.31609502936036,
          6.328225710078452,
          6.350080986082949,
          6.383816308906403,
          6.392889256055058,
          6.3994558642123724,
          6.411887305609426,
          6.419055435124662,
          6.427526860915396,
          6.454244434563094,
          6.455497604058765,
          6.464771058326728,
          6.465472833244304,
          6.471287539704216,
          6.482967079403866,
          6.5106871886481015,
          6.605877943539245,
          6.66803515052451,
          6.692096004841387,
          6.757411198955742,
          6.766734780003532,
          6.783025983447251,
          6.970399886439929,
          6.98222980647906,
          7.00513774485992,
          7.017669439816626,
          7.027394035103031,
          7.085891987160937,
          7.145993996173303,
          7.216472248609821,
          7.291261404111447,
          7.323442796760269,
          7.343944649709441,
          7.386351905442937,
          7.506004528889572,
          7.512019742468791,
          7.580643304051717,
          7.618890037059586,
          7.728667684880336,
          7.862355806678483,
          7.973988145352826,
          7.99905153526624,
          8.142514379130617,
          8.220862535999947,
          8.257805972732319,
          8.364626140543287,
          8.489241315192778,
          8.97176169780581,
          9.051964545528733,
          9.18189315883987,
          9.27111882693162,
          9.670428755032122,
          9.782562361504732,
          9.960412176330314,
          10.019210889067182,
          10.239668466745567,
          10.416565872754436,
          10.595267842837075,
          11.644170710713421,
          12.321784520412466,
          13.071029498484044,
          13.964038081098963,
          15.743187877492522,
          18.12862107589155,
          21.4332290359751,
          64.73078650597475,
          72.93012413580844
         ],
         "yaxis": "y"
        }
       ],
       "layout": {
        "legend": {
         "tracegroupgap": 0
        },
        "template": {
         "data": {
          "bar": [
           {
            "error_x": {
             "color": "#2a3f5f"
            },
            "error_y": {
             "color": "#2a3f5f"
            },
            "marker": {
             "line": {
              "color": "#E5ECF6",
              "width": 0.5
             },
             "pattern": {
              "fillmode": "overlay",
              "size": 10,
              "solidity": 0.2
             }
            },
            "type": "bar"
           }
          ],
          "barpolar": [
           {
            "marker": {
             "line": {
              "color": "#E5ECF6",
              "width": 0.5
             },
             "pattern": {
              "fillmode": "overlay",
              "size": 10,
              "solidity": 0.2
             }
            },
            "type": "barpolar"
           }
          ],
          "carpet": [
           {
            "aaxis": {
             "endlinecolor": "#2a3f5f",
             "gridcolor": "white",
             "linecolor": "white",
             "minorgridcolor": "white",
             "startlinecolor": "#2a3f5f"
            },
            "baxis": {
             "endlinecolor": "#2a3f5f",
             "gridcolor": "white",
             "linecolor": "white",
             "minorgridcolor": "white",
             "startlinecolor": "#2a3f5f"
            },
            "type": "carpet"
           }
          ],
          "choropleth": [
           {
            "colorbar": {
             "outlinewidth": 0,
             "ticks": ""
            },
            "type": "choropleth"
           }
          ],
          "contour": [
           {
            "colorbar": {
             "outlinewidth": 0,
             "ticks": ""
            },
            "colorscale": [
             [
              0,
              "#0d0887"
             ],
             [
              0.1111111111111111,
              "#46039f"
             ],
             [
              0.2222222222222222,
              "#7201a8"
             ],
             [
              0.3333333333333333,
              "#9c179e"
             ],
             [
              0.4444444444444444,
              "#bd3786"
             ],
             [
              0.5555555555555556,
              "#d8576b"
             ],
             [
              0.6666666666666666,
              "#ed7953"
             ],
             [
              0.7777777777777778,
              "#fb9f3a"
             ],
             [
              0.8888888888888888,
              "#fdca26"
             ],
             [
              1,
              "#f0f921"
             ]
            ],
            "type": "contour"
           }
          ],
          "contourcarpet": [
           {
            "colorbar": {
             "outlinewidth": 0,
             "ticks": ""
            },
            "type": "contourcarpet"
           }
          ],
          "heatmap": [
           {
            "colorbar": {
             "outlinewidth": 0,
             "ticks": ""
            },
            "colorscale": [
             [
              0,
              "#0d0887"
             ],
             [
              0.1111111111111111,
              "#46039f"
             ],
             [
              0.2222222222222222,
              "#7201a8"
             ],
             [
              0.3333333333333333,
              "#9c179e"
             ],
             [
              0.4444444444444444,
              "#bd3786"
             ],
             [
              0.5555555555555556,
              "#d8576b"
             ],
             [
              0.6666666666666666,
              "#ed7953"
             ],
             [
              0.7777777777777778,
              "#fb9f3a"
             ],
             [
              0.8888888888888888,
              "#fdca26"
             ],
             [
              1,
              "#f0f921"
             ]
            ],
            "type": "heatmap"
           }
          ],
          "heatmapgl": [
           {
            "colorbar": {
             "outlinewidth": 0,
             "ticks": ""
            },
            "colorscale": [
             [
              0,
              "#0d0887"
             ],
             [
              0.1111111111111111,
              "#46039f"
             ],
             [
              0.2222222222222222,
              "#7201a8"
             ],
             [
              0.3333333333333333,
              "#9c179e"
             ],
             [
              0.4444444444444444,
              "#bd3786"
             ],
             [
              0.5555555555555556,
              "#d8576b"
             ],
             [
              0.6666666666666666,
              "#ed7953"
             ],
             [
              0.7777777777777778,
              "#fb9f3a"
             ],
             [
              0.8888888888888888,
              "#fdca26"
             ],
             [
              1,
              "#f0f921"
             ]
            ],
            "type": "heatmapgl"
           }
          ],
          "histogram": [
           {
            "marker": {
             "pattern": {
              "fillmode": "overlay",
              "size": 10,
              "solidity": 0.2
             }
            },
            "type": "histogram"
           }
          ],
          "histogram2d": [
           {
            "colorbar": {
             "outlinewidth": 0,
             "ticks": ""
            },
            "colorscale": [
             [
              0,
              "#0d0887"
             ],
             [
              0.1111111111111111,
              "#46039f"
             ],
             [
              0.2222222222222222,
              "#7201a8"
             ],
             [
              0.3333333333333333,
              "#9c179e"
             ],
             [
              0.4444444444444444,
              "#bd3786"
             ],
             [
              0.5555555555555556,
              "#d8576b"
             ],
             [
              0.6666666666666666,
              "#ed7953"
             ],
             [
              0.7777777777777778,
              "#fb9f3a"
             ],
             [
              0.8888888888888888,
              "#fdca26"
             ],
             [
              1,
              "#f0f921"
             ]
            ],
            "type": "histogram2d"
           }
          ],
          "histogram2dcontour": [
           {
            "colorbar": {
             "outlinewidth": 0,
             "ticks": ""
            },
            "colorscale": [
             [
              0,
              "#0d0887"
             ],
             [
              0.1111111111111111,
              "#46039f"
             ],
             [
              0.2222222222222222,
              "#7201a8"
             ],
             [
              0.3333333333333333,
              "#9c179e"
             ],
             [
              0.4444444444444444,
              "#bd3786"
             ],
             [
              0.5555555555555556,
              "#d8576b"
             ],
             [
              0.6666666666666666,
              "#ed7953"
             ],
             [
              0.7777777777777778,
              "#fb9f3a"
             ],
             [
              0.8888888888888888,
              "#fdca26"
             ],
             [
              1,
              "#f0f921"
             ]
            ],
            "type": "histogram2dcontour"
           }
          ],
          "mesh3d": [
           {
            "colorbar": {
             "outlinewidth": 0,
             "ticks": ""
            },
            "type": "mesh3d"
           }
          ],
          "parcoords": [
           {
            "line": {
             "colorbar": {
              "outlinewidth": 0,
              "ticks": ""
             }
            },
            "type": "parcoords"
           }
          ],
          "pie": [
           {
            "automargin": true,
            "type": "pie"
           }
          ],
          "scatter": [
           {
            "marker": {
             "colorbar": {
              "outlinewidth": 0,
              "ticks": ""
             }
            },
            "type": "scatter"
           }
          ],
          "scatter3d": [
           {
            "line": {
             "colorbar": {
              "outlinewidth": 0,
              "ticks": ""
             }
            },
            "marker": {
             "colorbar": {
              "outlinewidth": 0,
              "ticks": ""
             }
            },
            "type": "scatter3d"
           }
          ],
          "scattercarpet": [
           {
            "marker": {
             "colorbar": {
              "outlinewidth": 0,
              "ticks": ""
             }
            },
            "type": "scattercarpet"
           }
          ],
          "scattergeo": [
           {
            "marker": {
             "colorbar": {
              "outlinewidth": 0,
              "ticks": ""
             }
            },
            "type": "scattergeo"
           }
          ],
          "scattergl": [
           {
            "marker": {
             "colorbar": {
              "outlinewidth": 0,
              "ticks": ""
             }
            },
            "type": "scattergl"
           }
          ],
          "scattermapbox": [
           {
            "marker": {
             "colorbar": {
              "outlinewidth": 0,
              "ticks": ""
             }
            },
            "type": "scattermapbox"
           }
          ],
          "scatterpolar": [
           {
            "marker": {
             "colorbar": {
              "outlinewidth": 0,
              "ticks": ""
             }
            },
            "type": "scatterpolar"
           }
          ],
          "scatterpolargl": [
           {
            "marker": {
             "colorbar": {
              "outlinewidth": 0,
              "ticks": ""
             }
            },
            "type": "scatterpolargl"
           }
          ],
          "scatterternary": [
           {
            "marker": {
             "colorbar": {
              "outlinewidth": 0,
              "ticks": ""
             }
            },
            "type": "scatterternary"
           }
          ],
          "surface": [
           {
            "colorbar": {
             "outlinewidth": 0,
             "ticks": ""
            },
            "colorscale": [
             [
              0,
              "#0d0887"
             ],
             [
              0.1111111111111111,
              "#46039f"
             ],
             [
              0.2222222222222222,
              "#7201a8"
             ],
             [
              0.3333333333333333,
              "#9c179e"
             ],
             [
              0.4444444444444444,
              "#bd3786"
             ],
             [
              0.5555555555555556,
              "#d8576b"
             ],
             [
              0.6666666666666666,
              "#ed7953"
             ],
             [
              0.7777777777777778,
              "#fb9f3a"
             ],
             [
              0.8888888888888888,
              "#fdca26"
             ],
             [
              1,
              "#f0f921"
             ]
            ],
            "type": "surface"
           }
          ],
          "table": [
           {
            "cells": {
             "fill": {
              "color": "#EBF0F8"
             },
             "line": {
              "color": "white"
             }
            },
            "header": {
             "fill": {
              "color": "#C8D4E3"
             },
             "line": {
              "color": "white"
             }
            },
            "type": "table"
           }
          ]
         },
         "layout": {
          "annotationdefaults": {
           "arrowcolor": "#2a3f5f",
           "arrowhead": 0,
           "arrowwidth": 1
          },
          "autotypenumbers": "strict",
          "coloraxis": {
           "colorbar": {
            "outlinewidth": 0,
            "ticks": ""
           }
          },
          "colorscale": {
           "diverging": [
            [
             0,
             "#8e0152"
            ],
            [
             0.1,
             "#c51b7d"
            ],
            [
             0.2,
             "#de77ae"
            ],
            [
             0.3,
             "#f1b6da"
            ],
            [
             0.4,
             "#fde0ef"
            ],
            [
             0.5,
             "#f7f7f7"
            ],
            [
             0.6,
             "#e6f5d0"
            ],
            [
             0.7,
             "#b8e186"
            ],
            [
             0.8,
             "#7fbc41"
            ],
            [
             0.9,
             "#4d9221"
            ],
            [
             1,
             "#276419"
            ]
           ],
           "sequential": [
            [
             0,
             "#0d0887"
            ],
            [
             0.1111111111111111,
             "#46039f"
            ],
            [
             0.2222222222222222,
             "#7201a8"
            ],
            [
             0.3333333333333333,
             "#9c179e"
            ],
            [
             0.4444444444444444,
             "#bd3786"
            ],
            [
             0.5555555555555556,
             "#d8576b"
            ],
            [
             0.6666666666666666,
             "#ed7953"
            ],
            [
             0.7777777777777778,
             "#fb9f3a"
            ],
            [
             0.8888888888888888,
             "#fdca26"
            ],
            [
             1,
             "#f0f921"
            ]
           ],
           "sequentialminus": [
            [
             0,
             "#0d0887"
            ],
            [
             0.1111111111111111,
             "#46039f"
            ],
            [
             0.2222222222222222,
             "#7201a8"
            ],
            [
             0.3333333333333333,
             "#9c179e"
            ],
            [
             0.4444444444444444,
             "#bd3786"
            ],
            [
             0.5555555555555556,
             "#d8576b"
            ],
            [
             0.6666666666666666,
             "#ed7953"
            ],
            [
             0.7777777777777778,
             "#fb9f3a"
            ],
            [
             0.8888888888888888,
             "#fdca26"
            ],
            [
             1,
             "#f0f921"
            ]
           ]
          },
          "colorway": [
           "#636efa",
           "#EF553B",
           "#00cc96",
           "#ab63fa",
           "#FFA15A",
           "#19d3f3",
           "#FF6692",
           "#B6E880",
           "#FF97FF",
           "#FECB52"
          ],
          "font": {
           "color": "#2a3f5f"
          },
          "geo": {
           "bgcolor": "white",
           "lakecolor": "white",
           "landcolor": "#E5ECF6",
           "showlakes": true,
           "showland": true,
           "subunitcolor": "white"
          },
          "hoverlabel": {
           "align": "left"
          },
          "hovermode": "closest",
          "mapbox": {
           "style": "light"
          },
          "paper_bgcolor": "white",
          "plot_bgcolor": "#E5ECF6",
          "polar": {
           "angularaxis": {
            "gridcolor": "white",
            "linecolor": "white",
            "ticks": ""
           },
           "bgcolor": "#E5ECF6",
           "radialaxis": {
            "gridcolor": "white",
            "linecolor": "white",
            "ticks": ""
           }
          },
          "scene": {
           "xaxis": {
            "backgroundcolor": "#E5ECF6",
            "gridcolor": "white",
            "gridwidth": 2,
            "linecolor": "white",
            "showbackground": true,
            "ticks": "",
            "zerolinecolor": "white"
           },
           "yaxis": {
            "backgroundcolor": "#E5ECF6",
            "gridcolor": "white",
            "gridwidth": 2,
            "linecolor": "white",
            "showbackground": true,
            "ticks": "",
            "zerolinecolor": "white"
           },
           "zaxis": {
            "backgroundcolor": "#E5ECF6",
            "gridcolor": "white",
            "gridwidth": 2,
            "linecolor": "white",
            "showbackground": true,
            "ticks": "",
            "zerolinecolor": "white"
           }
          },
          "shapedefaults": {
           "line": {
            "color": "#2a3f5f"
           }
          },
          "ternary": {
           "aaxis": {
            "gridcolor": "white",
            "linecolor": "white",
            "ticks": ""
           },
           "baxis": {
            "gridcolor": "white",
            "linecolor": "white",
            "ticks": ""
           },
           "bgcolor": "#E5ECF6",
           "caxis": {
            "gridcolor": "white",
            "linecolor": "white",
            "ticks": ""
           }
          },
          "title": {
           "x": 0.05
          },
          "xaxis": {
           "automargin": true,
           "gridcolor": "white",
           "linecolor": "white",
           "ticks": "",
           "title": {
            "standoff": 15
           },
           "zerolinecolor": "white",
           "zerolinewidth": 2
          },
          "yaxis": {
           "automargin": true,
           "gridcolor": "white",
           "linecolor": "white",
           "ticks": "",
           "title": {
            "standoff": 15
           },
           "zerolinecolor": "white",
           "zerolinewidth": 2
          }
         }
        },
        "title": {
         "text": "Pop vs Total medals in 2008"
        },
        "xaxis": {
         "anchor": "y",
         "domain": [
          0,
          1
         ],
         "title": {
          "text": "Population (in thousands)"
         }
        },
        "yaxis": {
         "anchor": "x",
         "domain": [
          0,
          1
         ],
         "title": {
          "text": "Total Olympic medals"
         }
        }
       }
      }
     },
     "metadata": {},
     "output_type": "display_data"
    },
    {
     "data": {
      "application/vnd.plotly.v1+json": {
       "config": {
        "plotlyServerURL": "https://plot.ly"
       },
       "data": [
        {
         "customdata": [
          [
           "United States"
          ],
          [
           "China"
          ],
          [
           "Great Britain"
          ],
          [
           "Russia"
          ],
          [
           "South Korea"
          ],
          [
           "Germany"
          ],
          [
           "France"
          ],
          [
           "Australia"
          ],
          [
           "Italy"
          ],
          [
           "Hungary"
          ],
          [
           "Japan"
          ],
          [
           "Iran"
          ],
          [
           "Netherlands"
          ],
          [
           "New Zealand"
          ],
          [
           "Ukraine"
          ],
          [
           "Cuba"
          ],
          [
           "Spain"
          ],
          [
           "Jamaica"
          ],
          [
           "Czech Republic"
          ],
          [
           "South Africa"
          ],
          [
           "North Korea"
          ],
          [
           "Brazil"
          ],
          [
           "Kazakhstan"
          ],
          [
           "Poland"
          ],
          [
           "Ethiopia"
          ],
          [
           "Croatia"
          ],
          [
           "Canada"
          ],
          [
           "Belarus"
          ],
          [
           "Kenya"
          ],
          [
           "Denmark"
          ],
          [
           "Romania"
          ],
          [
           "Azerbaijan"
          ],
          [
           "Switzerland"
          ],
          [
           "Norway"
          ],
          [
           "Lithuania"
          ],
          [
           "Tunisia"
          ],
          [
           "Sweden"
          ],
          [
           "Colombia"
          ],
          [
           "Mexico"
          ],
          [
           "Georgia"
          ],
          [
           "Ireland"
          ],
          [
           "Argentina"
          ],
          [
           "Serbia"
          ],
          [
           "Slovenia"
          ],
          [
           "Trinidad and Tobago"
          ],
          [
           "Turkey"
          ],
          [
           "Dominican Republic"
          ],
          [
           "Chinese Taipei"
          ],
          [
           "Latvia"
          ],
          [
           "Algeria"
          ],
          [
           "Bahamas"
          ],
          [
           "Bahrain"
          ],
          [
           "Grenada"
          ],
          [
           "Uganda"
          ],
          [
           "Venezuela"
          ],
          [
           "Egypt"
          ],
          [
           "India"
          ],
          [
           "Mongolia"
          ],
          [
           "Thailand"
          ],
          [
           "Bulgaria"
          ],
          [
           "Finland"
          ],
          [
           "Indonesia"
          ],
          [
           "Slovakia"
          ],
          [
           "Belgium"
          ],
          [
           "Armenia"
          ],
          [
           "Estonia"
          ],
          [
           "Malaysia"
          ],
          [
           "Puerto Rico"
          ],
          [
           "Qatar"
          ],
          [
           "Botswana"
          ],
          [
           "Cyprus"
          ],
          [
           "Gabon"
          ],
          [
           "Guatemala"
          ],
          [
           "Montenegro"
          ],
          [
           "Portugal"
          ],
          [
           "Uzbekistan"
          ],
          [
           "Greece"
          ],
          [
           "Singapore"
          ],
          [
           "Afghanistan"
          ],
          [
           "Cameroon"
          ],
          [
           "Hong Kong"
          ],
          [
           "Kuwait"
          ],
          [
           "Morocco"
          ],
          [
           "Saudi Arabia"
          ],
          [
           "Tajikistan"
          ],
          [
           "Vietnam"
          ],
          [
           "Zimbabwe"
          ],
          [
           "Panama"
          ],
          [
           "Nigeria"
          ],
          [
           "Austria"
          ],
          [
           "Kyrgyzstan"
          ],
          [
           "Chile"
          ],
          [
           "Ecuador"
          ],
          [
           "Iceland"
          ],
          [
           "Samoa"
          ],
          [
           "Sudan"
          ],
          [
           "Israel"
          ],
          [
           "Mauritius"
          ],
          [
           "Moldova"
          ],
          [
           "Togo"
          ],
          [
           "Ivory Coast"
          ],
          [
           "Fiji"
          ],
          [
           "Jordan"
          ],
          [
           "Kosovo"
          ],
          [
           "Burundi"
          ],
          [
           "Niger"
          ],
          [
           "Philippines"
          ],
          [
           "United Arab Emirates"
          ],
          [
           "Serbia and Montenegro"
          ],
          [
           "Paraguay"
          ],
          [
           "Eritrea"
          ],
          [
           "Syria"
          ]
         ],
         "hovertemplate": "Population (in thousands)=%{x}<br>Total Olympic medals=%{y}<br>NOC=%{customdata[0]}<extra></extra>",
         "legendgroup": "",
         "marker": {
          "color": "#636efa",
          "symbol": "circle"
         },
         "mode": "markers",
         "name": "",
         "orientation": "v",
         "showlegend": false,
         "type": "scatter",
         "x": [
          309348,
          1336681,
          62349,
          142527,
          48637,
          81645,
          64941,
          21516,
          60749,
          9993,
          127580,
          76924,
          16574,
          4253,
          45769,
          11099,
          46506,
          2848,
          10551,
          51123,
          24326,
          195835,
          17085,
          38617,
          86043,
          4487,
          33760,
          9681,
          40844,
          5516,
          21960,
          9302,
          7770,
          4892,
          3089,
          10526,
          9433,
          44206,
          114062,
          4903,
          4623,
          41344,
          7345,
          2004,
          1229,
          74687,
          9824,
          23127,
          2116,
          35950,
          311,
          1181,
          108,
          31508,
          27224,
          80472,
          1173109,
          2784,
          66721,
          7392,
          5355,
          243423,
          5427,
          10866,
          3072,
          1303,
          28275,
          3722,
          1720,
          2030,
          1103,
          1546,
          13551,
          667,
          10736,
          27866,
          10750,
          5141,
          29121,
          20823,
          7030,
          2544,
          31628,
          25732,
          7488,
          89572,
          11652,
          3411,
          160342,
          8448,
          5411,
          16760,
          14791,
          318,
          193,
          32997,
          7369,
          1295,
          3732,
          6588,
          21059,
          876,
          6501,
          1816,
          9121,
          15271,
          93137,
          4976,
          8012,
          6376,
          5793,
          21766
         ],
         "xaxis": "x",
         "y": [
          104,
          91,
          65,
          67,
          30,
          44,
          35,
          35,
          28,
          18,
          38,
          13,
          20,
          13,
          19,
          15,
          20,
          12,
          11,
          6,
          7,
          17,
          11,
          11,
          8,
          6,
          18,
          10,
          13,
          9,
          7,
          9,
          4,
          4,
          5,
          3,
          8,
          9,
          8,
          6,
          6,
          4,
          4,
          4,
          4,
          3,
          2,
          2,
          2,
          1,
          1,
          1,
          1,
          1,
          1,
          4,
          6,
          5,
          4,
          3,
          3,
          3,
          4,
          3,
          2,
          2,
          2,
          2,
          2,
          1,
          1,
          1,
          1,
          1,
          1,
          3,
          2,
          2,
          1,
          1,
          1,
          1,
          1,
          1,
          1,
          1,
          0,
          0,
          0,
          0,
          0,
          0,
          0,
          0,
          0,
          0,
          0,
          0,
          0,
          0,
          0,
          0,
          0,
          0,
          0,
          0,
          0,
          0,
          0,
          0,
          0,
          0
         ],
         "yaxis": "y"
        },
        {
         "hovertemplate": "<b>OLS trendline</b><br>Total-2012 = 4.75251e-05 * Pop-2012 + 6.08081<br>R<sup>2</sup>=0.230532<br><br>Population (in thousands)=%{x}<br>Total Olympic medals=%{y} <b>(trend)</b><extra></extra>",
         "legendgroup": "",
         "marker": {
          "color": "#636efa",
          "symbol": "circle"
         },
         "mode": "lines",
         "name": "",
         "showlegend": false,
         "type": "scatter",
         "x": [
          108,
          193,
          311,
          318,
          667,
          876,
          1103,
          1181,
          1229,
          1295,
          1303,
          1546,
          1720,
          1816,
          2004,
          2030,
          2116,
          2544,
          2784,
          2848,
          3072,
          3089,
          3411,
          3722,
          3732,
          4253,
          4487,
          4623,
          4892,
          4903,
          4976,
          5141,
          5355,
          5411,
          5427,
          5516,
          5793,
          6376,
          6501,
          6588,
          7030,
          7345,
          7369,
          7392,
          7488,
          7770,
          8012,
          8448,
          9121,
          9302,
          9433,
          9681,
          9824,
          9993,
          10526,
          10551,
          10736,
          10750,
          10866,
          11099,
          11652,
          13551,
          14791,
          15271,
          16574,
          16760,
          17085,
          20823,
          21059,
          21516,
          21766,
          21960,
          23127,
          24326,
          25732,
          27224,
          27866,
          28275,
          29121,
          31508,
          31628,
          32997,
          33760,
          35950,
          38617,
          40844,
          41344,
          44206,
          45769,
          46506,
          48637,
          51123,
          60749,
          62349,
          64941,
          66721,
          74687,
          76924,
          80472,
          81645,
          86043,
          89572,
          93137,
          114062,
          127580,
          142527,
          160342,
          195835,
          243423,
          309348,
          1173109,
          1336681
         ],
         "xaxis": "x",
         "y": [
          6.085946894901848,
          6.089986524253795,
          6.095594480295321,
          6.095927155653717,
          6.1125133985222995,
          6.122446134222969,
          6.133234320845227,
          6.136941274838779,
          6.139222477296348,
          6.142359130675508,
          6.142739331085102,
          6.154287918526551,
          6.162557277435242,
          6.167119682350382,
          6.176054391975865,
          6.177290043307049,
          6.181377197710195,
          6.201717919623528,
          6.213123931911378,
          6.216165535188138,
          6.226811146656798,
          6.227619072527188,
          6.242922139013387,
          6.257702429936393,
          6.258177680448386,
          6.282938232123262,
          6.294059094103916,
          6.3005225010670305,
          6.313306739839663,
          6.3138295154028565,
          6.31729884414041,
          6.325140477588308,
          6.335310838544974,
          6.337972241412139,
          6.338732642231329,
          6.342962371788073,
          6.3561268109703,
          6.383833915819537,
          6.389774547219459,
          6.393909226673805,
          6.414915299303929,
          6.429885690431733,
          6.431026291660517,
          6.432119367838103,
          6.436681772753243,
          6.4500838371914675,
          6.461584899581716,
          6.482305821904644,
          6.514290181361824,
          6.522892215628911,
          6.52911799733603,
          6.540904210033474,
          6.547700292354985,
          6.55573202600768,
          6.581062878296947,
          6.582251004576932,
          6.591043139048817,
          6.591708489765608,
          6.597221395704736,
          6.6082947326341905,
          6.634576085947445,
          6.72482615817506,
          6.783757221662286,
          6.806569246237987,
          6.868494387950774,
          6.877334047473858,
          6.892779689113655,
          7.070428330496923,
          7.0816442425799755,
          7.10336319097809,
          7.115244453777935,
          7.124464313710614,
          7.179926048460285,
          7.2369085848483365,
          7.30372880683466,
          7.374636183224129,
          7.405147266094128,
          7.424585012034673,
          7.4647912053493455,
          7.578233502562256,
          7.583936508706181,
          7.648998303798127,
          7.685259917863251,
          7.789339779989884,
          7.91608909153862,
          8.02192738055963,
          8.045689906159318,
          8.181706602691932,
          8.255988257716558,
          8.291014220450498,
          8.392290104556368,
          8.510437381838017,
          8.967913524683212,
          9.043953606602212,
          9.167138539310995,
          9.251733130445885,
          9.630317688300114,
          9.736631227833119,
          9.905250109488504,
          9.960996994545372,
          10.170012169720229,
          10.337728075402826,
          10.507154882928603,
          11.501616579275545,
          12.144060221388711,
          12.854417161665786,
          13.70107594878267,
          15.387882591002123,
          17.649504727478032,
          20.782593727796897,
          61.83287947682115,
          69.60664715160549
         ],
         "yaxis": "y"
        }
       ],
       "layout": {
        "legend": {
         "tracegroupgap": 0
        },
        "template": {
         "data": {
          "bar": [
           {
            "error_x": {
             "color": "#2a3f5f"
            },
            "error_y": {
             "color": "#2a3f5f"
            },
            "marker": {
             "line": {
              "color": "#E5ECF6",
              "width": 0.5
             },
             "pattern": {
              "fillmode": "overlay",
              "size": 10,
              "solidity": 0.2
             }
            },
            "type": "bar"
           }
          ],
          "barpolar": [
           {
            "marker": {
             "line": {
              "color": "#E5ECF6",
              "width": 0.5
             },
             "pattern": {
              "fillmode": "overlay",
              "size": 10,
              "solidity": 0.2
             }
            },
            "type": "barpolar"
           }
          ],
          "carpet": [
           {
            "aaxis": {
             "endlinecolor": "#2a3f5f",
             "gridcolor": "white",
             "linecolor": "white",
             "minorgridcolor": "white",
             "startlinecolor": "#2a3f5f"
            },
            "baxis": {
             "endlinecolor": "#2a3f5f",
             "gridcolor": "white",
             "linecolor": "white",
             "minorgridcolor": "white",
             "startlinecolor": "#2a3f5f"
            },
            "type": "carpet"
           }
          ],
          "choropleth": [
           {
            "colorbar": {
             "outlinewidth": 0,
             "ticks": ""
            },
            "type": "choropleth"
           }
          ],
          "contour": [
           {
            "colorbar": {
             "outlinewidth": 0,
             "ticks": ""
            },
            "colorscale": [
             [
              0,
              "#0d0887"
             ],
             [
              0.1111111111111111,
              "#46039f"
             ],
             [
              0.2222222222222222,
              "#7201a8"
             ],
             [
              0.3333333333333333,
              "#9c179e"
             ],
             [
              0.4444444444444444,
              "#bd3786"
             ],
             [
              0.5555555555555556,
              "#d8576b"
             ],
             [
              0.6666666666666666,
              "#ed7953"
             ],
             [
              0.7777777777777778,
              "#fb9f3a"
             ],
             [
              0.8888888888888888,
              "#fdca26"
             ],
             [
              1,
              "#f0f921"
             ]
            ],
            "type": "contour"
           }
          ],
          "contourcarpet": [
           {
            "colorbar": {
             "outlinewidth": 0,
             "ticks": ""
            },
            "type": "contourcarpet"
           }
          ],
          "heatmap": [
           {
            "colorbar": {
             "outlinewidth": 0,
             "ticks": ""
            },
            "colorscale": [
             [
              0,
              "#0d0887"
             ],
             [
              0.1111111111111111,
              "#46039f"
             ],
             [
              0.2222222222222222,
              "#7201a8"
             ],
             [
              0.3333333333333333,
              "#9c179e"
             ],
             [
              0.4444444444444444,
              "#bd3786"
             ],
             [
              0.5555555555555556,
              "#d8576b"
             ],
             [
              0.6666666666666666,
              "#ed7953"
             ],
             [
              0.7777777777777778,
              "#fb9f3a"
             ],
             [
              0.8888888888888888,
              "#fdca26"
             ],
             [
              1,
              "#f0f921"
             ]
            ],
            "type": "heatmap"
           }
          ],
          "heatmapgl": [
           {
            "colorbar": {
             "outlinewidth": 0,
             "ticks": ""
            },
            "colorscale": [
             [
              0,
              "#0d0887"
             ],
             [
              0.1111111111111111,
              "#46039f"
             ],
             [
              0.2222222222222222,
              "#7201a8"
             ],
             [
              0.3333333333333333,
              "#9c179e"
             ],
             [
              0.4444444444444444,
              "#bd3786"
             ],
             [
              0.5555555555555556,
              "#d8576b"
             ],
             [
              0.6666666666666666,
              "#ed7953"
             ],
             [
              0.7777777777777778,
              "#fb9f3a"
             ],
             [
              0.8888888888888888,
              "#fdca26"
             ],
             [
              1,
              "#f0f921"
             ]
            ],
            "type": "heatmapgl"
           }
          ],
          "histogram": [
           {
            "marker": {
             "pattern": {
              "fillmode": "overlay",
              "size": 10,
              "solidity": 0.2
             }
            },
            "type": "histogram"
           }
          ],
          "histogram2d": [
           {
            "colorbar": {
             "outlinewidth": 0,
             "ticks": ""
            },
            "colorscale": [
             [
              0,
              "#0d0887"
             ],
             [
              0.1111111111111111,
              "#46039f"
             ],
             [
              0.2222222222222222,
              "#7201a8"
             ],
             [
              0.3333333333333333,
              "#9c179e"
             ],
             [
              0.4444444444444444,
              "#bd3786"
             ],
             [
              0.5555555555555556,
              "#d8576b"
             ],
             [
              0.6666666666666666,
              "#ed7953"
             ],
             [
              0.7777777777777778,
              "#fb9f3a"
             ],
             [
              0.8888888888888888,
              "#fdca26"
             ],
             [
              1,
              "#f0f921"
             ]
            ],
            "type": "histogram2d"
           }
          ],
          "histogram2dcontour": [
           {
            "colorbar": {
             "outlinewidth": 0,
             "ticks": ""
            },
            "colorscale": [
             [
              0,
              "#0d0887"
             ],
             [
              0.1111111111111111,
              "#46039f"
             ],
             [
              0.2222222222222222,
              "#7201a8"
             ],
             [
              0.3333333333333333,
              "#9c179e"
             ],
             [
              0.4444444444444444,
              "#bd3786"
             ],
             [
              0.5555555555555556,
              "#d8576b"
             ],
             [
              0.6666666666666666,
              "#ed7953"
             ],
             [
              0.7777777777777778,
              "#fb9f3a"
             ],
             [
              0.8888888888888888,
              "#fdca26"
             ],
             [
              1,
              "#f0f921"
             ]
            ],
            "type": "histogram2dcontour"
           }
          ],
          "mesh3d": [
           {
            "colorbar": {
             "outlinewidth": 0,
             "ticks": ""
            },
            "type": "mesh3d"
           }
          ],
          "parcoords": [
           {
            "line": {
             "colorbar": {
              "outlinewidth": 0,
              "ticks": ""
             }
            },
            "type": "parcoords"
           }
          ],
          "pie": [
           {
            "automargin": true,
            "type": "pie"
           }
          ],
          "scatter": [
           {
            "marker": {
             "colorbar": {
              "outlinewidth": 0,
              "ticks": ""
             }
            },
            "type": "scatter"
           }
          ],
          "scatter3d": [
           {
            "line": {
             "colorbar": {
              "outlinewidth": 0,
              "ticks": ""
             }
            },
            "marker": {
             "colorbar": {
              "outlinewidth": 0,
              "ticks": ""
             }
            },
            "type": "scatter3d"
           }
          ],
          "scattercarpet": [
           {
            "marker": {
             "colorbar": {
              "outlinewidth": 0,
              "ticks": ""
             }
            },
            "type": "scattercarpet"
           }
          ],
          "scattergeo": [
           {
            "marker": {
             "colorbar": {
              "outlinewidth": 0,
              "ticks": ""
             }
            },
            "type": "scattergeo"
           }
          ],
          "scattergl": [
           {
            "marker": {
             "colorbar": {
              "outlinewidth": 0,
              "ticks": ""
             }
            },
            "type": "scattergl"
           }
          ],
          "scattermapbox": [
           {
            "marker": {
             "colorbar": {
              "outlinewidth": 0,
              "ticks": ""
             }
            },
            "type": "scattermapbox"
           }
          ],
          "scatterpolar": [
           {
            "marker": {
             "colorbar": {
              "outlinewidth": 0,
              "ticks": ""
             }
            },
            "type": "scatterpolar"
           }
          ],
          "scatterpolargl": [
           {
            "marker": {
             "colorbar": {
              "outlinewidth": 0,
              "ticks": ""
             }
            },
            "type": "scatterpolargl"
           }
          ],
          "scatterternary": [
           {
            "marker": {
             "colorbar": {
              "outlinewidth": 0,
              "ticks": ""
             }
            },
            "type": "scatterternary"
           }
          ],
          "surface": [
           {
            "colorbar": {
             "outlinewidth": 0,
             "ticks": ""
            },
            "colorscale": [
             [
              0,
              "#0d0887"
             ],
             [
              0.1111111111111111,
              "#46039f"
             ],
             [
              0.2222222222222222,
              "#7201a8"
             ],
             [
              0.3333333333333333,
              "#9c179e"
             ],
             [
              0.4444444444444444,
              "#bd3786"
             ],
             [
              0.5555555555555556,
              "#d8576b"
             ],
             [
              0.6666666666666666,
              "#ed7953"
             ],
             [
              0.7777777777777778,
              "#fb9f3a"
             ],
             [
              0.8888888888888888,
              "#fdca26"
             ],
             [
              1,
              "#f0f921"
             ]
            ],
            "type": "surface"
           }
          ],
          "table": [
           {
            "cells": {
             "fill": {
              "color": "#EBF0F8"
             },
             "line": {
              "color": "white"
             }
            },
            "header": {
             "fill": {
              "color": "#C8D4E3"
             },
             "line": {
              "color": "white"
             }
            },
            "type": "table"
           }
          ]
         },
         "layout": {
          "annotationdefaults": {
           "arrowcolor": "#2a3f5f",
           "arrowhead": 0,
           "arrowwidth": 1
          },
          "autotypenumbers": "strict",
          "coloraxis": {
           "colorbar": {
            "outlinewidth": 0,
            "ticks": ""
           }
          },
          "colorscale": {
           "diverging": [
            [
             0,
             "#8e0152"
            ],
            [
             0.1,
             "#c51b7d"
            ],
            [
             0.2,
             "#de77ae"
            ],
            [
             0.3,
             "#f1b6da"
            ],
            [
             0.4,
             "#fde0ef"
            ],
            [
             0.5,
             "#f7f7f7"
            ],
            [
             0.6,
             "#e6f5d0"
            ],
            [
             0.7,
             "#b8e186"
            ],
            [
             0.8,
             "#7fbc41"
            ],
            [
             0.9,
             "#4d9221"
            ],
            [
             1,
             "#276419"
            ]
           ],
           "sequential": [
            [
             0,
             "#0d0887"
            ],
            [
             0.1111111111111111,
             "#46039f"
            ],
            [
             0.2222222222222222,
             "#7201a8"
            ],
            [
             0.3333333333333333,
             "#9c179e"
            ],
            [
             0.4444444444444444,
             "#bd3786"
            ],
            [
             0.5555555555555556,
             "#d8576b"
            ],
            [
             0.6666666666666666,
             "#ed7953"
            ],
            [
             0.7777777777777778,
             "#fb9f3a"
            ],
            [
             0.8888888888888888,
             "#fdca26"
            ],
            [
             1,
             "#f0f921"
            ]
           ],
           "sequentialminus": [
            [
             0,
             "#0d0887"
            ],
            [
             0.1111111111111111,
             "#46039f"
            ],
            [
             0.2222222222222222,
             "#7201a8"
            ],
            [
             0.3333333333333333,
             "#9c179e"
            ],
            [
             0.4444444444444444,
             "#bd3786"
            ],
            [
             0.5555555555555556,
             "#d8576b"
            ],
            [
             0.6666666666666666,
             "#ed7953"
            ],
            [
             0.7777777777777778,
             "#fb9f3a"
            ],
            [
             0.8888888888888888,
             "#fdca26"
            ],
            [
             1,
             "#f0f921"
            ]
           ]
          },
          "colorway": [
           "#636efa",
           "#EF553B",
           "#00cc96",
           "#ab63fa",
           "#FFA15A",
           "#19d3f3",
           "#FF6692",
           "#B6E880",
           "#FF97FF",
           "#FECB52"
          ],
          "font": {
           "color": "#2a3f5f"
          },
          "geo": {
           "bgcolor": "white",
           "lakecolor": "white",
           "landcolor": "#E5ECF6",
           "showlakes": true,
           "showland": true,
           "subunitcolor": "white"
          },
          "hoverlabel": {
           "align": "left"
          },
          "hovermode": "closest",
          "mapbox": {
           "style": "light"
          },
          "paper_bgcolor": "white",
          "plot_bgcolor": "#E5ECF6",
          "polar": {
           "angularaxis": {
            "gridcolor": "white",
            "linecolor": "white",
            "ticks": ""
           },
           "bgcolor": "#E5ECF6",
           "radialaxis": {
            "gridcolor": "white",
            "linecolor": "white",
            "ticks": ""
           }
          },
          "scene": {
           "xaxis": {
            "backgroundcolor": "#E5ECF6",
            "gridcolor": "white",
            "gridwidth": 2,
            "linecolor": "white",
            "showbackground": true,
            "ticks": "",
            "zerolinecolor": "white"
           },
           "yaxis": {
            "backgroundcolor": "#E5ECF6",
            "gridcolor": "white",
            "gridwidth": 2,
            "linecolor": "white",
            "showbackground": true,
            "ticks": "",
            "zerolinecolor": "white"
           },
           "zaxis": {
            "backgroundcolor": "#E5ECF6",
            "gridcolor": "white",
            "gridwidth": 2,
            "linecolor": "white",
            "showbackground": true,
            "ticks": "",
            "zerolinecolor": "white"
           }
          },
          "shapedefaults": {
           "line": {
            "color": "#2a3f5f"
           }
          },
          "ternary": {
           "aaxis": {
            "gridcolor": "white",
            "linecolor": "white",
            "ticks": ""
           },
           "baxis": {
            "gridcolor": "white",
            "linecolor": "white",
            "ticks": ""
           },
           "bgcolor": "#E5ECF6",
           "caxis": {
            "gridcolor": "white",
            "linecolor": "white",
            "ticks": ""
           }
          },
          "title": {
           "x": 0.05
          },
          "xaxis": {
           "automargin": true,
           "gridcolor": "white",
           "linecolor": "white",
           "ticks": "",
           "title": {
            "standoff": 15
           },
           "zerolinecolor": "white",
           "zerolinewidth": 2
          },
          "yaxis": {
           "automargin": true,
           "gridcolor": "white",
           "linecolor": "white",
           "ticks": "",
           "title": {
            "standoff": 15
           },
           "zerolinecolor": "white",
           "zerolinewidth": 2
          }
         }
        },
        "title": {
         "text": "Pop vs Total medals in 2012"
        },
        "xaxis": {
         "anchor": "y",
         "domain": [
          0,
          1
         ],
         "title": {
          "text": "Population (in thousands)"
         }
        },
        "yaxis": {
         "anchor": "x",
         "domain": [
          0,
          1
         ],
         "title": {
          "text": "Total Olympic medals"
         }
        }
       }
      }
     },
     "metadata": {},
     "output_type": "display_data"
    },
    {
     "data": {
      "application/vnd.plotly.v1+json": {
       "config": {
        "plotlyServerURL": "https://plot.ly"
       },
       "data": [
        {
         "customdata": [
          [
           "United States"
          ],
          [
           "China"
          ],
          [
           "Great Britain"
          ],
          [
           "Russia"
          ],
          [
           "South Korea"
          ],
          [
           "Germany"
          ],
          [
           "France"
          ],
          [
           "Australia"
          ],
          [
           "Italy"
          ],
          [
           "Hungary"
          ],
          [
           "Japan"
          ],
          [
           "Iran"
          ],
          [
           "Netherlands"
          ],
          [
           "New Zealand"
          ],
          [
           "Ukraine"
          ],
          [
           "Cuba"
          ],
          [
           "Spain"
          ],
          [
           "Jamaica"
          ],
          [
           "Czech Republic"
          ],
          [
           "South Africa"
          ],
          [
           "North Korea"
          ],
          [
           "Brazil"
          ],
          [
           "Kazakhstan"
          ],
          [
           "Poland"
          ],
          [
           "Ethiopia"
          ],
          [
           "Croatia"
          ],
          [
           "Canada"
          ],
          [
           "Belarus"
          ],
          [
           "Kenya"
          ],
          [
           "Denmark"
          ],
          [
           "Romania"
          ],
          [
           "Azerbaijan"
          ],
          [
           "Switzerland"
          ],
          [
           "Norway"
          ],
          [
           "Lithuania"
          ],
          [
           "Tunisia"
          ],
          [
           "Sweden"
          ],
          [
           "Colombia"
          ],
          [
           "Mexico"
          ],
          [
           "Georgia"
          ],
          [
           "Ireland"
          ],
          [
           "Argentina"
          ],
          [
           "Serbia"
          ],
          [
           "Slovenia"
          ],
          [
           "Trinidad and Tobago"
          ],
          [
           "Turkey"
          ],
          [
           "Dominican Republic"
          ],
          [
           "Chinese Taipei"
          ],
          [
           "Latvia"
          ],
          [
           "Algeria"
          ],
          [
           "Bahamas"
          ],
          [
           "Bahrain"
          ],
          [
           "Grenada"
          ],
          [
           "Uganda"
          ],
          [
           "Venezuela"
          ],
          [
           "Egypt"
          ],
          [
           "India"
          ],
          [
           "Mongolia"
          ],
          [
           "Thailand"
          ],
          [
           "Bulgaria"
          ],
          [
           "Finland"
          ],
          [
           "Indonesia"
          ],
          [
           "Slovakia"
          ],
          [
           "Belgium"
          ],
          [
           "Armenia"
          ],
          [
           "Estonia"
          ],
          [
           "Malaysia"
          ],
          [
           "Puerto Rico"
          ],
          [
           "Qatar"
          ],
          [
           "Botswana"
          ],
          [
           "Cyprus"
          ],
          [
           "Gabon"
          ],
          [
           "Guatemala"
          ],
          [
           "Montenegro"
          ],
          [
           "Portugal"
          ],
          [
           "Uzbekistan"
          ],
          [
           "Greece"
          ],
          [
           "Singapore"
          ],
          [
           "Afghanistan"
          ],
          [
           "Cameroon"
          ],
          [
           "Hong Kong"
          ],
          [
           "Kuwait"
          ],
          [
           "Morocco"
          ],
          [
           "Saudi Arabia"
          ],
          [
           "Tajikistan"
          ],
          [
           "Vietnam"
          ],
          [
           "Zimbabwe"
          ],
          [
           "Panama"
          ],
          [
           "Nigeria"
          ],
          [
           "Austria"
          ],
          [
           "Kyrgyzstan"
          ],
          [
           "Chile"
          ],
          [
           "Ecuador"
          ],
          [
           "Iceland"
          ],
          [
           "Samoa"
          ],
          [
           "Sudan"
          ],
          [
           "Israel"
          ],
          [
           "Mauritius"
          ],
          [
           "Moldova"
          ],
          [
           "Togo"
          ],
          [
           "Ivory Coast"
          ],
          [
           "Fiji"
          ],
          [
           "Jordan"
          ],
          [
           "Kosovo"
          ],
          [
           "Burundi"
          ],
          [
           "Niger"
          ],
          [
           "Philippines"
          ],
          [
           "United Arab Emirates"
          ],
          [
           "Serbia and Montenegro"
          ],
          [
           "Paraguay"
          ],
          [
           "Eritrea"
          ],
          [
           "Syria"
          ]
         ],
         "hovertemplate": "Population (in thousands)=%{x}<br>Total Olympic medals=%{y}<br>NOC=%{customdata[0]}<extra></extra>",
         "legendgroup": "",
         "marker": {
          "color": "#636efa",
          "symbol": "circle"
         },
         "mode": "markers",
         "name": "",
         "orientation": "v",
         "showlegend": false,
         "type": "scatter",
         "x": [
          321369,
          1367486,
          64089,
          142424,
          49116,
          80855,
          66554,
          22752,
          61856,
          9898,
          126920,
          81825,
          16948,
          4439,
          44430,
          11032,
          48147,
          2951,
          10645,
          53676,
          24984,
          204260,
          18158,
          38563,
          99466,
          4465,
          35100,
          9590,
          45926,
          5582,
          21667,
          9781,
          8122,
          5208,
          2885,
          11038,
          9802,
          46737,
          121737,
          4932,
          4893,
          43432,
          7177,
          1984,
          1223,
          79415,
          10479,
          23416,
          1987,
          39543,
          325,
          1347,
          111,
          37102,
          29276,
          88488,
          1251696,
          2993,
          67977,
          7187,
          5477,
          255994,
          5446,
          11324,
          3057,
          1266,
          30514,
          3599,
          2195,
          2183,
          1190,
          1706,
          14919,
          648,
          10826,
          29200,
          10776,
          5675,
          32565,
          23740,
          7142,
          2789,
          33323,
          27753,
          8192,
          94349,
          14230,
          3658,
          181563,
          8666,
          5665,
          17509,
          15869,
          332,
          198,
          36109,
          8050,
          1340,
          3547,
          7553,
          23296,
          910,
          8118,
          1871,
          10743,
          18046,
          100999,
          5780,
          7825,
          6784,
          6528,
          17065
         ],
         "xaxis": "x",
         "y": [
          121,
          70,
          67,
          56,
          21,
          42,
          42,
          29,
          28,
          15,
          41,
          8,
          19,
          18,
          11,
          11,
          17,
          11,
          10,
          10,
          7,
          19,
          17,
          11,
          8,
          10,
          22,
          9,
          13,
          15,
          4,
          18,
          7,
          4,
          4,
          3,
          11,
          8,
          5,
          7,
          2,
          4,
          8,
          4,
          1,
          8,
          1,
          3,
          0,
          2,
          2,
          2,
          1,
          0,
          3,
          3,
          2,
          2,
          6,
          3,
          1,
          3,
          4,
          6,
          4,
          1,
          5,
          1,
          1,
          0,
          0,
          0,
          0,
          0,
          1,
          13,
          6,
          1,
          0,
          0,
          0,
          0,
          1,
          0,
          1,
          2,
          0,
          0,
          1,
          1,
          0,
          0,
          0,
          0,
          0,
          0,
          2,
          0,
          0,
          0,
          2,
          1,
          1,
          1,
          1,
          1,
          1,
          1,
          0,
          0,
          0,
          0
         ],
         "yaxis": "y"
        },
        {
         "hovertemplate": "<b>OLS trendline</b><br>Total-2016 = 3.62141e-05 * Pop-2016 + 6.67102<br>R<sup>2</sup>=0.147750<br><br>Population (in thousands)=%{x}<br>Total Olympic medals=%{y} <b>(trend)</b><extra></extra>",
         "legendgroup": "",
         "marker": {
          "color": "#636efa",
          "symbol": "circle"
         },
         "mode": "lines",
         "name": "",
         "showlegend": false,
         "type": "scatter",
         "x": [
          111,
          198,
          325,
          332,
          648,
          910,
          1190,
          1223,
          1266,
          1340,
          1347,
          1706,
          1871,
          1984,
          1987,
          2183,
          2195,
          2789,
          2885,
          2951,
          2993,
          3057,
          3547,
          3599,
          3658,
          4439,
          4465,
          4893,
          4932,
          5208,
          5446,
          5477,
          5582,
          5665,
          5675,
          5780,
          6528,
          6784,
          7142,
          7177,
          7187,
          7553,
          7825,
          8050,
          8118,
          8122,
          8192,
          8666,
          9590,
          9781,
          9802,
          9898,
          10479,
          10645,
          10743,
          10776,
          10826,
          11032,
          11038,
          11324,
          14230,
          14919,
          15869,
          16948,
          17065,
          17509,
          18046,
          18158,
          21667,
          22752,
          23296,
          23416,
          23740,
          24984,
          27753,
          29200,
          29276,
          30514,
          32565,
          33323,
          35100,
          36109,
          37102,
          38563,
          39543,
          43432,
          44430,
          45926,
          46737,
          48147,
          49116,
          53676,
          61856,
          64089,
          66554,
          67977,
          79415,
          80855,
          81825,
          88488,
          94349,
          99466,
          100999,
          121737,
          126920,
          142424,
          181563,
          204260,
          255994,
          321369,
          1251696,
          1367486
         ],
         "xaxis": "x",
         "y": [
          6.6750359352929385,
          6.678186565705048,
          6.682785761823876,
          6.683039260822552,
          6.694482929905619,
          6.703971035284618,
          6.71411099523164,
          6.715306061939682,
          6.716863270074403,
          6.71954311663183,
          6.719796615630505,
          6.732797492848294,
          6.738772826388503,
          6.74286502450998,
          6.742973666937984,
          6.7500716389008995,
          6.750506208612914,
          6.772017409357668,
          6.77549396705379,
          6.7778841004698736,
          6.779405094461927,
          6.781722799592674,
          6.799467729499963,
          6.801350864918695,
          6.803487499336104,
          6.83177074475976,
          6.832712312469127,
          6.848211965531003,
          6.849624317095053,
          6.859619420471402,
          6.868238386426371,
          6.869361024849077,
          6.87316350982921,
          6.876169283670649,
          6.876531425097328,
          6.880333910077462,
          6.907422088793076,
          6.916692909316068,
          6.929657572391188,
          6.930925067384567,
          6.931287208811246,
          6.94454158502771,
          6.954391831833388,
          6.9625400139336735,
          6.9650025756350935,
          6.9651474322057645,
          6.96768242219252,
          6.984847925817121,
          7.018309793642294,
          7.0252266948918685,
          7.0259871918878956,
          7.029463749584017,
          7.050504166474087,
          7.056515714156965,
          7.0600647001384225,
          7.061259766846464,
          7.06307047397986,
          7.070530587369455,
          7.070747872225463,
          7.081105117028493,
          7.186343415621511,
          7.2112949599197185,
          7.245698395454257,
          7.284773455392958,
          7.289010510085107,
          7.30508958942967,
          7.324536584042351,
          7.328592568021159,
          7.455667994642943,
          7.494960339437653,
          7.5146608330490094,
          7.519006530169161,
          7.530739912393573,
          7.575790305872483,
          7.676067266919995,
          7.728469131360497,
          7.73122140620326,
          7.776054514826163,
          7.850329721438098,
          7.877780041580393,
          7.942132573101313,
          7.978672643053259,
          8.01463328672252,
          8.06754214916037,
          8.103032008974948,
          8.243868809810547,
          8.280010524193145,
          8.334186881624376,
          8.363556551328072,
          8.41461849248986,
          8.44970999673509,
          8.614846487300872,
          8.91107817432458,
          8.991944354902078,
          9.081212216578539,
          9.132744941595009,
          9.54696230543085,
          9.599110670872676,
          9.634238389260572,
          9.875533221857022,
          10.087784312033788,
          10.273092080065611,
          10.328608360775556,
          11.07961725142319,
          11.267315152871097,
          11.828779220794761,
          13.246164550675065,
          14.068116946809184,
          15.941619403592128,
          18.309118980508373,
          52.00011368634026,
          56.19334926586045
         ],
         "yaxis": "y"
        }
       ],
       "layout": {
        "legend": {
         "tracegroupgap": 0
        },
        "template": {
         "data": {
          "bar": [
           {
            "error_x": {
             "color": "#2a3f5f"
            },
            "error_y": {
             "color": "#2a3f5f"
            },
            "marker": {
             "line": {
              "color": "#E5ECF6",
              "width": 0.5
             },
             "pattern": {
              "fillmode": "overlay",
              "size": 10,
              "solidity": 0.2
             }
            },
            "type": "bar"
           }
          ],
          "barpolar": [
           {
            "marker": {
             "line": {
              "color": "#E5ECF6",
              "width": 0.5
             },
             "pattern": {
              "fillmode": "overlay",
              "size": 10,
              "solidity": 0.2
             }
            },
            "type": "barpolar"
           }
          ],
          "carpet": [
           {
            "aaxis": {
             "endlinecolor": "#2a3f5f",
             "gridcolor": "white",
             "linecolor": "white",
             "minorgridcolor": "white",
             "startlinecolor": "#2a3f5f"
            },
            "baxis": {
             "endlinecolor": "#2a3f5f",
             "gridcolor": "white",
             "linecolor": "white",
             "minorgridcolor": "white",
             "startlinecolor": "#2a3f5f"
            },
            "type": "carpet"
           }
          ],
          "choropleth": [
           {
            "colorbar": {
             "outlinewidth": 0,
             "ticks": ""
            },
            "type": "choropleth"
           }
          ],
          "contour": [
           {
            "colorbar": {
             "outlinewidth": 0,
             "ticks": ""
            },
            "colorscale": [
             [
              0,
              "#0d0887"
             ],
             [
              0.1111111111111111,
              "#46039f"
             ],
             [
              0.2222222222222222,
              "#7201a8"
             ],
             [
              0.3333333333333333,
              "#9c179e"
             ],
             [
              0.4444444444444444,
              "#bd3786"
             ],
             [
              0.5555555555555556,
              "#d8576b"
             ],
             [
              0.6666666666666666,
              "#ed7953"
             ],
             [
              0.7777777777777778,
              "#fb9f3a"
             ],
             [
              0.8888888888888888,
              "#fdca26"
             ],
             [
              1,
              "#f0f921"
             ]
            ],
            "type": "contour"
           }
          ],
          "contourcarpet": [
           {
            "colorbar": {
             "outlinewidth": 0,
             "ticks": ""
            },
            "type": "contourcarpet"
           }
          ],
          "heatmap": [
           {
            "colorbar": {
             "outlinewidth": 0,
             "ticks": ""
            },
            "colorscale": [
             [
              0,
              "#0d0887"
             ],
             [
              0.1111111111111111,
              "#46039f"
             ],
             [
              0.2222222222222222,
              "#7201a8"
             ],
             [
              0.3333333333333333,
              "#9c179e"
             ],
             [
              0.4444444444444444,
              "#bd3786"
             ],
             [
              0.5555555555555556,
              "#d8576b"
             ],
             [
              0.6666666666666666,
              "#ed7953"
             ],
             [
              0.7777777777777778,
              "#fb9f3a"
             ],
             [
              0.8888888888888888,
              "#fdca26"
             ],
             [
              1,
              "#f0f921"
             ]
            ],
            "type": "heatmap"
           }
          ],
          "heatmapgl": [
           {
            "colorbar": {
             "outlinewidth": 0,
             "ticks": ""
            },
            "colorscale": [
             [
              0,
              "#0d0887"
             ],
             [
              0.1111111111111111,
              "#46039f"
             ],
             [
              0.2222222222222222,
              "#7201a8"
             ],
             [
              0.3333333333333333,
              "#9c179e"
             ],
             [
              0.4444444444444444,
              "#bd3786"
             ],
             [
              0.5555555555555556,
              "#d8576b"
             ],
             [
              0.6666666666666666,
              "#ed7953"
             ],
             [
              0.7777777777777778,
              "#fb9f3a"
             ],
             [
              0.8888888888888888,
              "#fdca26"
             ],
             [
              1,
              "#f0f921"
             ]
            ],
            "type": "heatmapgl"
           }
          ],
          "histogram": [
           {
            "marker": {
             "pattern": {
              "fillmode": "overlay",
              "size": 10,
              "solidity": 0.2
             }
            },
            "type": "histogram"
           }
          ],
          "histogram2d": [
           {
            "colorbar": {
             "outlinewidth": 0,
             "ticks": ""
            },
            "colorscale": [
             [
              0,
              "#0d0887"
             ],
             [
              0.1111111111111111,
              "#46039f"
             ],
             [
              0.2222222222222222,
              "#7201a8"
             ],
             [
              0.3333333333333333,
              "#9c179e"
             ],
             [
              0.4444444444444444,
              "#bd3786"
             ],
             [
              0.5555555555555556,
              "#d8576b"
             ],
             [
              0.6666666666666666,
              "#ed7953"
             ],
             [
              0.7777777777777778,
              "#fb9f3a"
             ],
             [
              0.8888888888888888,
              "#fdca26"
             ],
             [
              1,
              "#f0f921"
             ]
            ],
            "type": "histogram2d"
           }
          ],
          "histogram2dcontour": [
           {
            "colorbar": {
             "outlinewidth": 0,
             "ticks": ""
            },
            "colorscale": [
             [
              0,
              "#0d0887"
             ],
             [
              0.1111111111111111,
              "#46039f"
             ],
             [
              0.2222222222222222,
              "#7201a8"
             ],
             [
              0.3333333333333333,
              "#9c179e"
             ],
             [
              0.4444444444444444,
              "#bd3786"
             ],
             [
              0.5555555555555556,
              "#d8576b"
             ],
             [
              0.6666666666666666,
              "#ed7953"
             ],
             [
              0.7777777777777778,
              "#fb9f3a"
             ],
             [
              0.8888888888888888,
              "#fdca26"
             ],
             [
              1,
              "#f0f921"
             ]
            ],
            "type": "histogram2dcontour"
           }
          ],
          "mesh3d": [
           {
            "colorbar": {
             "outlinewidth": 0,
             "ticks": ""
            },
            "type": "mesh3d"
           }
          ],
          "parcoords": [
           {
            "line": {
             "colorbar": {
              "outlinewidth": 0,
              "ticks": ""
             }
            },
            "type": "parcoords"
           }
          ],
          "pie": [
           {
            "automargin": true,
            "type": "pie"
           }
          ],
          "scatter": [
           {
            "marker": {
             "colorbar": {
              "outlinewidth": 0,
              "ticks": ""
             }
            },
            "type": "scatter"
           }
          ],
          "scatter3d": [
           {
            "line": {
             "colorbar": {
              "outlinewidth": 0,
              "ticks": ""
             }
            },
            "marker": {
             "colorbar": {
              "outlinewidth": 0,
              "ticks": ""
             }
            },
            "type": "scatter3d"
           }
          ],
          "scattercarpet": [
           {
            "marker": {
             "colorbar": {
              "outlinewidth": 0,
              "ticks": ""
             }
            },
            "type": "scattercarpet"
           }
          ],
          "scattergeo": [
           {
            "marker": {
             "colorbar": {
              "outlinewidth": 0,
              "ticks": ""
             }
            },
            "type": "scattergeo"
           }
          ],
          "scattergl": [
           {
            "marker": {
             "colorbar": {
              "outlinewidth": 0,
              "ticks": ""
             }
            },
            "type": "scattergl"
           }
          ],
          "scattermapbox": [
           {
            "marker": {
             "colorbar": {
              "outlinewidth": 0,
              "ticks": ""
             }
            },
            "type": "scattermapbox"
           }
          ],
          "scatterpolar": [
           {
            "marker": {
             "colorbar": {
              "outlinewidth": 0,
              "ticks": ""
             }
            },
            "type": "scatterpolar"
           }
          ],
          "scatterpolargl": [
           {
            "marker": {
             "colorbar": {
              "outlinewidth": 0,
              "ticks": ""
             }
            },
            "type": "scatterpolargl"
           }
          ],
          "scatterternary": [
           {
            "marker": {
             "colorbar": {
              "outlinewidth": 0,
              "ticks": ""
             }
            },
            "type": "scatterternary"
           }
          ],
          "surface": [
           {
            "colorbar": {
             "outlinewidth": 0,
             "ticks": ""
            },
            "colorscale": [
             [
              0,
              "#0d0887"
             ],
             [
              0.1111111111111111,
              "#46039f"
             ],
             [
              0.2222222222222222,
              "#7201a8"
             ],
             [
              0.3333333333333333,
              "#9c179e"
             ],
             [
              0.4444444444444444,
              "#bd3786"
             ],
             [
              0.5555555555555556,
              "#d8576b"
             ],
             [
              0.6666666666666666,
              "#ed7953"
             ],
             [
              0.7777777777777778,
              "#fb9f3a"
             ],
             [
              0.8888888888888888,
              "#fdca26"
             ],
             [
              1,
              "#f0f921"
             ]
            ],
            "type": "surface"
           }
          ],
          "table": [
           {
            "cells": {
             "fill": {
              "color": "#EBF0F8"
             },
             "line": {
              "color": "white"
             }
            },
            "header": {
             "fill": {
              "color": "#C8D4E3"
             },
             "line": {
              "color": "white"
             }
            },
            "type": "table"
           }
          ]
         },
         "layout": {
          "annotationdefaults": {
           "arrowcolor": "#2a3f5f",
           "arrowhead": 0,
           "arrowwidth": 1
          },
          "autotypenumbers": "strict",
          "coloraxis": {
           "colorbar": {
            "outlinewidth": 0,
            "ticks": ""
           }
          },
          "colorscale": {
           "diverging": [
            [
             0,
             "#8e0152"
            ],
            [
             0.1,
             "#c51b7d"
            ],
            [
             0.2,
             "#de77ae"
            ],
            [
             0.3,
             "#f1b6da"
            ],
            [
             0.4,
             "#fde0ef"
            ],
            [
             0.5,
             "#f7f7f7"
            ],
            [
             0.6,
             "#e6f5d0"
            ],
            [
             0.7,
             "#b8e186"
            ],
            [
             0.8,
             "#7fbc41"
            ],
            [
             0.9,
             "#4d9221"
            ],
            [
             1,
             "#276419"
            ]
           ],
           "sequential": [
            [
             0,
             "#0d0887"
            ],
            [
             0.1111111111111111,
             "#46039f"
            ],
            [
             0.2222222222222222,
             "#7201a8"
            ],
            [
             0.3333333333333333,
             "#9c179e"
            ],
            [
             0.4444444444444444,
             "#bd3786"
            ],
            [
             0.5555555555555556,
             "#d8576b"
            ],
            [
             0.6666666666666666,
             "#ed7953"
            ],
            [
             0.7777777777777778,
             "#fb9f3a"
            ],
            [
             0.8888888888888888,
             "#fdca26"
            ],
            [
             1,
             "#f0f921"
            ]
           ],
           "sequentialminus": [
            [
             0,
             "#0d0887"
            ],
            [
             0.1111111111111111,
             "#46039f"
            ],
            [
             0.2222222222222222,
             "#7201a8"
            ],
            [
             0.3333333333333333,
             "#9c179e"
            ],
            [
             0.4444444444444444,
             "#bd3786"
            ],
            [
             0.5555555555555556,
             "#d8576b"
            ],
            [
             0.6666666666666666,
             "#ed7953"
            ],
            [
             0.7777777777777778,
             "#fb9f3a"
            ],
            [
             0.8888888888888888,
             "#fdca26"
            ],
            [
             1,
             "#f0f921"
            ]
           ]
          },
          "colorway": [
           "#636efa",
           "#EF553B",
           "#00cc96",
           "#ab63fa",
           "#FFA15A",
           "#19d3f3",
           "#FF6692",
           "#B6E880",
           "#FF97FF",
           "#FECB52"
          ],
          "font": {
           "color": "#2a3f5f"
          },
          "geo": {
           "bgcolor": "white",
           "lakecolor": "white",
           "landcolor": "#E5ECF6",
           "showlakes": true,
           "showland": true,
           "subunitcolor": "white"
          },
          "hoverlabel": {
           "align": "left"
          },
          "hovermode": "closest",
          "mapbox": {
           "style": "light"
          },
          "paper_bgcolor": "white",
          "plot_bgcolor": "#E5ECF6",
          "polar": {
           "angularaxis": {
            "gridcolor": "white",
            "linecolor": "white",
            "ticks": ""
           },
           "bgcolor": "#E5ECF6",
           "radialaxis": {
            "gridcolor": "white",
            "linecolor": "white",
            "ticks": ""
           }
          },
          "scene": {
           "xaxis": {
            "backgroundcolor": "#E5ECF6",
            "gridcolor": "white",
            "gridwidth": 2,
            "linecolor": "white",
            "showbackground": true,
            "ticks": "",
            "zerolinecolor": "white"
           },
           "yaxis": {
            "backgroundcolor": "#E5ECF6",
            "gridcolor": "white",
            "gridwidth": 2,
            "linecolor": "white",
            "showbackground": true,
            "ticks": "",
            "zerolinecolor": "white"
           },
           "zaxis": {
            "backgroundcolor": "#E5ECF6",
            "gridcolor": "white",
            "gridwidth": 2,
            "linecolor": "white",
            "showbackground": true,
            "ticks": "",
            "zerolinecolor": "white"
           }
          },
          "shapedefaults": {
           "line": {
            "color": "#2a3f5f"
           }
          },
          "ternary": {
           "aaxis": {
            "gridcolor": "white",
            "linecolor": "white",
            "ticks": ""
           },
           "baxis": {
            "gridcolor": "white",
            "linecolor": "white",
            "ticks": ""
           },
           "bgcolor": "#E5ECF6",
           "caxis": {
            "gridcolor": "white",
            "linecolor": "white",
            "ticks": ""
           }
          },
          "title": {
           "x": 0.05
          },
          "xaxis": {
           "automargin": true,
           "gridcolor": "white",
           "linecolor": "white",
           "ticks": "",
           "title": {
            "standoff": 15
           },
           "zerolinecolor": "white",
           "zerolinewidth": 2
          },
          "yaxis": {
           "automargin": true,
           "gridcolor": "white",
           "linecolor": "white",
           "ticks": "",
           "title": {
            "standoff": 15
           },
           "zerolinecolor": "white",
           "zerolinewidth": 2
          }
         }
        },
        "title": {
         "text": "Pop vs Total medals in 2016"
        },
        "xaxis": {
         "anchor": "y",
         "domain": [
          0,
          1
         ],
         "title": {
          "text": "Population (in thousands)"
         }
        },
        "yaxis": {
         "anchor": "x",
         "domain": [
          0,
          1
         ],
         "title": {
          "text": "Total Olympic medals"
         }
        }
       }
      }
     },
     "metadata": {},
     "output_type": "display_data"
    }
   ],
   "source": [
    "medals_plot(olympics_dataframe, \"2004\", \"Pop\", \"Total\")\n",
    "medals_plot(olympics_dataframe, \"2008\", \"Pop\", \"Total\")\n",
    "medals_plot(olympics_dataframe, \"2012\", \"Pop\", \"Total\")\n",
    "medals_plot(olympics_dataframe, \"2016\", \"Pop\", \"Total\")"
   ]
  },
  {
   "cell_type": "code",
   "execution_count": 6,
   "metadata": {},
   "outputs": [
    {
     "data": {
      "application/vnd.plotly.v1+json": {
       "config": {
        "plotlyServerURL": "https://plot.ly"
       },
       "data": [
        {
         "customdata": [
          [
           "United States"
          ],
          [
           "China"
          ],
          [
           "Great Britain"
          ],
          [
           "Russia"
          ],
          [
           "South Korea"
          ],
          [
           "Germany"
          ],
          [
           "France"
          ],
          [
           "Australia"
          ],
          [
           "Italy"
          ],
          [
           "Hungary"
          ],
          [
           "Japan"
          ],
          [
           "Iran"
          ],
          [
           "Netherlands"
          ],
          [
           "New Zealand"
          ],
          [
           "Ukraine"
          ],
          [
           "Cuba"
          ],
          [
           "Spain"
          ],
          [
           "Jamaica"
          ],
          [
           "Czech Republic"
          ],
          [
           "South Africa"
          ],
          [
           "North Korea"
          ],
          [
           "Brazil"
          ],
          [
           "Kazakhstan"
          ],
          [
           "Poland"
          ],
          [
           "Ethiopia"
          ],
          [
           "Croatia"
          ],
          [
           "Canada"
          ],
          [
           "Belarus"
          ],
          [
           "Kenya"
          ],
          [
           "Denmark"
          ],
          [
           "Romania"
          ],
          [
           "Azerbaijan"
          ],
          [
           "Switzerland"
          ],
          [
           "Norway"
          ],
          [
           "Lithuania"
          ],
          [
           "Tunisia"
          ],
          [
           "Sweden"
          ],
          [
           "Colombia"
          ],
          [
           "Mexico"
          ],
          [
           "Georgia"
          ],
          [
           "Ireland"
          ],
          [
           "Argentina"
          ],
          [
           "Serbia"
          ],
          [
           "Slovenia"
          ],
          [
           "Trinidad and Tobago"
          ],
          [
           "Turkey"
          ],
          [
           "Dominican Republic"
          ],
          [
           "Chinese Taipei"
          ],
          [
           "Latvia"
          ],
          [
           "Algeria"
          ],
          [
           "Bahamas"
          ],
          [
           "Bahrain"
          ],
          [
           "Grenada"
          ],
          [
           "Uganda"
          ],
          [
           "Venezuela"
          ],
          [
           "Egypt"
          ],
          [
           "India"
          ],
          [
           "Mongolia"
          ],
          [
           "Thailand"
          ],
          [
           "Bulgaria"
          ],
          [
           "Finland"
          ],
          [
           "Indonesia"
          ],
          [
           "Slovakia"
          ],
          [
           "Belgium"
          ],
          [
           "Armenia"
          ],
          [
           "Estonia"
          ],
          [
           "Malaysia"
          ],
          [
           "Puerto Rico"
          ],
          [
           "Qatar"
          ],
          [
           "Botswana"
          ],
          [
           "Cyprus"
          ],
          [
           "Gabon"
          ],
          [
           "Guatemala"
          ],
          [
           "Montenegro"
          ],
          [
           "Portugal"
          ],
          [
           "Uzbekistan"
          ],
          [
           "Greece"
          ],
          [
           "Singapore"
          ],
          [
           "Afghanistan"
          ],
          [
           "Cameroon"
          ],
          [
           "Hong Kong"
          ],
          [
           "Kuwait"
          ],
          [
           "Morocco"
          ],
          [
           "Saudi Arabia"
          ],
          [
           "Tajikistan"
          ],
          [
           "Vietnam"
          ],
          [
           "Zimbabwe"
          ],
          [
           "Panama"
          ],
          [
           "Nigeria"
          ],
          [
           "Austria"
          ],
          [
           "Kyrgyzstan"
          ],
          [
           "Chile"
          ],
          [
           "Ecuador"
          ],
          [
           "Iceland"
          ],
          [
           "Samoa"
          ],
          [
           "Sudan"
          ],
          [
           "Israel"
          ],
          [
           "Mauritius"
          ],
          [
           "Moldova"
          ],
          [
           "Togo"
          ],
          [
           "Ivory Coast"
          ],
          [
           "Fiji"
          ],
          [
           "Jordan"
          ],
          [
           "Kosovo"
          ],
          [
           "Burundi"
          ],
          [
           "Niger"
          ],
          [
           "Philippines"
          ],
          [
           "United Arab Emirates"
          ],
          [
           "Serbia and Montenegro"
          ],
          [
           "Paraguay"
          ],
          [
           "Eritrea"
          ],
          [
           "Syria"
          ]
         ],
         "hovertemplate": "Population (in thousands)=%{x}<br>GDP (per capita) in dollars=%{y}<br>NOC=%{customdata[0]}<extra></extra>",
         "legendgroup": "",
         "marker": {
          "color": "#636efa",
          "symbol": "circle"
         },
         "mode": "markers",
         "name": "",
         "orientation": "v",
         "showlegend": false,
         "type": "scatter",
         "x": [
          295517,
          1302285,
          60488,
          143320,
          48006,
          82440,
          63060,
          20233,
          59038,
          10058,
          127716,
          72283,
          16300,
          4049,
          47003,
          11199,
          43705,
          2737,
          10267,
          48105,
          23621,
          186021,
          16123,
          38557,
          74355,
          4496,
          32387,
          9807,
          35247,
          5433,
          22198,
          8826,
          7449,
          4625,
          3327,
          10013,
          9083,
          41488,
          106577,
          4791,
          4200,
          39182,
          7503,
          2012,
          1237,
          70465,
          9165,
          22728,
          2259,
          32918,
          297,
          916,
          105,
          26917,
          25270,
          72544,
          1090974,
          2603,
          65113,
          7612,
          5239,
          229245,
          5408,
          10470,
          3085,
          1332,
          25969,
          3822,
          973,
          1841,
          1011,
          1396,
          12183,
          700,
          10567,
          26540,
          10669,
          4606,
          26335,
          18132,
          6905,
          2257,
          29901,
          23643,
          6815,
          84425,
          11640,
          3156,
          141190,
          8315,
          5165,
          15980,
          13663,
          297,
          185,
          29884,
          6726,
          1243,
          3949,
          5715,
          18921,
          837,
          5363,
          1768,
          7789,
          12783,
          84965,
          4087,
          8203,
          5926,
          5070,
          18615
         ],
         "xaxis": "x",
         "y": [
          41642,
          4381,
          31688,
          14728,
          21872,
          32645,
          32255,
          34390,
          32577,
          18544,
          30836,
          13190,
          37263,
          26745,
          6536,
          3399,
          27856,
          7488,
          21045,
          10058,
          473,
          10514,
          12381,
          14358,
          571,
          16203,
          34390,
          8463,
          2191,
          37792,
          11808,
          5220,
          45660,
          53167,
          14644,
          7362,
          34868,
          7990,
          13878,
          4539,
          39948,
          12303,
          8853,
          22385,
          21910,
          13045,
          7608,
          26562,
          13507,
          10705,
          29379,
          44525,
          9015,
          1597,
          12194,
          7484,
          2474,
          5083,
          9611,
          9965,
          33076,
          5859,
          16258,
          33545,
          4562,
          17965,
          15279,
          28990,
          119823,
          9775,
          28235,
          14618,
          5307,
          9776,
          22832,
          3374,
          25345,
          54317,
          1113,
          2303,
          34456,
          60785,
          4663,
          45739,
          1568,
          3427,
          1885,
          9647,
          3109,
          35147,
          2376,
          14001,
          7143,
          33990,
          3723,
          3524,
          22143,
          11134,
          4413,
          1420,
          3164,
          7756,
          7475,
          5890,
          521,
          839,
          4174,
          110145,
          8931,
          7288,
          1279,
          4816
         ],
         "yaxis": "y"
        },
        {
         "hovertemplate": "<b>OLS trendline</b><br>GDP-2004 = -0.0132245 * pop-2004 + 18628.2<br>R<sup>2</sup>=0.012583<br><br>Population (in thousands)=%{x}<br>GDP (per capita) in dollars=%{y} <b>(trend)</b><extra></extra>",
         "legendgroup": "",
         "marker": {
          "color": "#636efa",
          "symbol": "circle"
         },
         "mode": "lines",
         "name": "",
         "showlegend": false,
         "type": "scatter",
         "x": [
          105,
          185,
          297,
          297,
          700,
          837,
          916,
          973,
          1011,
          1237,
          1243,
          1332,
          1396,
          1768,
          1841,
          2012,
          2257,
          2259,
          2603,
          2737,
          3085,
          3156,
          3327,
          3822,
          3949,
          4049,
          4087,
          4200,
          4496,
          4606,
          4625,
          4791,
          5070,
          5165,
          5239,
          5363,
          5408,
          5433,
          5715,
          5926,
          6726,
          6815,
          6905,
          7449,
          7503,
          7612,
          7789,
          8203,
          8315,
          8826,
          9083,
          9165,
          9807,
          10013,
          10058,
          10267,
          10470,
          10567,
          10669,
          11199,
          11640,
          12183,
          12783,
          13663,
          15980,
          16123,
          16300,
          18132,
          18615,
          18921,
          20233,
          22198,
          22728,
          23621,
          23643,
          25270,
          25969,
          26335,
          26540,
          26917,
          29884,
          29901,
          32387,
          32918,
          35247,
          38557,
          39182,
          41488,
          43705,
          47003,
          48006,
          48105,
          59038,
          60488,
          63060,
          65113,
          70465,
          72283,
          72544,
          74355,
          82440,
          84425,
          84965,
          106577,
          127716,
          141190,
          143320,
          186021,
          229245,
          295517,
          1090974,
          1302285
         ],
         "xaxis": "x",
         "y": [
          18626.839388451735,
          18625.78143182073,
          18624.300292537326,
          18624.300292537326,
          18618.97083600865,
          18617.159085278057,
          18616.114353104942,
          18615.360559005352,
          18614.858029605624,
          18611.869302123043,
          18611.789955375716,
          18610.61297862373,
          18609.766613318923,
          18604.84711498476,
          18603.881729558972,
          18601.620347260203,
          18598.380355077756,
          18598.35390616198,
          18593.804692648668,
          18592.03261529174,
          18587.430503946878,
          18586.49156743686,
          18584.230185138094,
          18577.684078483762,
          18576.004572332044,
          18574.68212654329,
          18574.179597143564,
          18572.685233402273,
          18568.770793867563,
          18567.316103499936,
          18567.06483880007,
          18564.86957879074,
          18561.17995504012,
          18559.9236315408,
          18558.945021657124,
          18557.30518887907,
          18556.71008827413,
          18556.379476826944,
          18552.650179702658,
          18549.859819088386,
          18539.280252778357,
          18538.103276026366,
          18536.91307481649,
          18529.71896972567,
          18529.004848999743,
          18527.56338309,
          18525.222654043908,
          18519.747728478465,
          18518.266589195064,
          18511.508891214533,
          18508.110205537436,
          18507.025799990657,
          18498.53569802686,
          18495.81145970203,
          18495.21635909709,
          18492.45244739859,
          18489.767882447424,
          18488.485110032332,
          18487.136215327802,
          18480.12725264741,
          18474.295266719007,
          18467.114386086076,
          18459.179711353554,
          18447.54218841252,
          18416.9011194871,
          18415.01002200918,
          18412.669292963088,
          18388.442086113122,
          18382.054672953444,
          18378.007988839858,
          18360.65750009141,
          18334.6714403424,
          18327.66247766201,
          18315.853036768436,
          18315.56209869491,
          18294.04590571189,
          18284.8020096485,
          18279.961858061666,
          18277.25084419472,
          18272.265223571118,
          18233.0282570188,
          18232.80344123471,
          18199.927438926297,
          18192.905251788015,
          18162.105489367943,
          18118.3325337602,
          18110.06724758049,
          18079.57164769183,
          18050.253024555164,
          18006.63876244207,
          17993.37463118087,
          17992.065409850005,
          17847.482411765573,
          17828.30694782865,
          17794.293642141904,
          17767.143830098794,
          17696.366531484702,
          17672.32446704516,
          17668.872883536515,
          17644.923390302185,
          17538.003648281458,
          17511.7530993747,
          17504.61189211543,
          17218.80490825,
          16939.253092965377,
          16761.06674738872,
          16732.898652088264,
          16168.201075832592,
          15596.587108101736,
          14720.175834978949,
          4200.6882371332285,
          1406.2148164601094
         ],
         "yaxis": "y"
        }
       ],
       "layout": {
        "legend": {
         "tracegroupgap": 0
        },
        "template": {
         "data": {
          "bar": [
           {
            "error_x": {
             "color": "#2a3f5f"
            },
            "error_y": {
             "color": "#2a3f5f"
            },
            "marker": {
             "line": {
              "color": "#E5ECF6",
              "width": 0.5
             },
             "pattern": {
              "fillmode": "overlay",
              "size": 10,
              "solidity": 0.2
             }
            },
            "type": "bar"
           }
          ],
          "barpolar": [
           {
            "marker": {
             "line": {
              "color": "#E5ECF6",
              "width": 0.5
             },
             "pattern": {
              "fillmode": "overlay",
              "size": 10,
              "solidity": 0.2
             }
            },
            "type": "barpolar"
           }
          ],
          "carpet": [
           {
            "aaxis": {
             "endlinecolor": "#2a3f5f",
             "gridcolor": "white",
             "linecolor": "white",
             "minorgridcolor": "white",
             "startlinecolor": "#2a3f5f"
            },
            "baxis": {
             "endlinecolor": "#2a3f5f",
             "gridcolor": "white",
             "linecolor": "white",
             "minorgridcolor": "white",
             "startlinecolor": "#2a3f5f"
            },
            "type": "carpet"
           }
          ],
          "choropleth": [
           {
            "colorbar": {
             "outlinewidth": 0,
             "ticks": ""
            },
            "type": "choropleth"
           }
          ],
          "contour": [
           {
            "colorbar": {
             "outlinewidth": 0,
             "ticks": ""
            },
            "colorscale": [
             [
              0,
              "#0d0887"
             ],
             [
              0.1111111111111111,
              "#46039f"
             ],
             [
              0.2222222222222222,
              "#7201a8"
             ],
             [
              0.3333333333333333,
              "#9c179e"
             ],
             [
              0.4444444444444444,
              "#bd3786"
             ],
             [
              0.5555555555555556,
              "#d8576b"
             ],
             [
              0.6666666666666666,
              "#ed7953"
             ],
             [
              0.7777777777777778,
              "#fb9f3a"
             ],
             [
              0.8888888888888888,
              "#fdca26"
             ],
             [
              1,
              "#f0f921"
             ]
            ],
            "type": "contour"
           }
          ],
          "contourcarpet": [
           {
            "colorbar": {
             "outlinewidth": 0,
             "ticks": ""
            },
            "type": "contourcarpet"
           }
          ],
          "heatmap": [
           {
            "colorbar": {
             "outlinewidth": 0,
             "ticks": ""
            },
            "colorscale": [
             [
              0,
              "#0d0887"
             ],
             [
              0.1111111111111111,
              "#46039f"
             ],
             [
              0.2222222222222222,
              "#7201a8"
             ],
             [
              0.3333333333333333,
              "#9c179e"
             ],
             [
              0.4444444444444444,
              "#bd3786"
             ],
             [
              0.5555555555555556,
              "#d8576b"
             ],
             [
              0.6666666666666666,
              "#ed7953"
             ],
             [
              0.7777777777777778,
              "#fb9f3a"
             ],
             [
              0.8888888888888888,
              "#fdca26"
             ],
             [
              1,
              "#f0f921"
             ]
            ],
            "type": "heatmap"
           }
          ],
          "heatmapgl": [
           {
            "colorbar": {
             "outlinewidth": 0,
             "ticks": ""
            },
            "colorscale": [
             [
              0,
              "#0d0887"
             ],
             [
              0.1111111111111111,
              "#46039f"
             ],
             [
              0.2222222222222222,
              "#7201a8"
             ],
             [
              0.3333333333333333,
              "#9c179e"
             ],
             [
              0.4444444444444444,
              "#bd3786"
             ],
             [
              0.5555555555555556,
              "#d8576b"
             ],
             [
              0.6666666666666666,
              "#ed7953"
             ],
             [
              0.7777777777777778,
              "#fb9f3a"
             ],
             [
              0.8888888888888888,
              "#fdca26"
             ],
             [
              1,
              "#f0f921"
             ]
            ],
            "type": "heatmapgl"
           }
          ],
          "histogram": [
           {
            "marker": {
             "pattern": {
              "fillmode": "overlay",
              "size": 10,
              "solidity": 0.2
             }
            },
            "type": "histogram"
           }
          ],
          "histogram2d": [
           {
            "colorbar": {
             "outlinewidth": 0,
             "ticks": ""
            },
            "colorscale": [
             [
              0,
              "#0d0887"
             ],
             [
              0.1111111111111111,
              "#46039f"
             ],
             [
              0.2222222222222222,
              "#7201a8"
             ],
             [
              0.3333333333333333,
              "#9c179e"
             ],
             [
              0.4444444444444444,
              "#bd3786"
             ],
             [
              0.5555555555555556,
              "#d8576b"
             ],
             [
              0.6666666666666666,
              "#ed7953"
             ],
             [
              0.7777777777777778,
              "#fb9f3a"
             ],
             [
              0.8888888888888888,
              "#fdca26"
             ],
             [
              1,
              "#f0f921"
             ]
            ],
            "type": "histogram2d"
           }
          ],
          "histogram2dcontour": [
           {
            "colorbar": {
             "outlinewidth": 0,
             "ticks": ""
            },
            "colorscale": [
             [
              0,
              "#0d0887"
             ],
             [
              0.1111111111111111,
              "#46039f"
             ],
             [
              0.2222222222222222,
              "#7201a8"
             ],
             [
              0.3333333333333333,
              "#9c179e"
             ],
             [
              0.4444444444444444,
              "#bd3786"
             ],
             [
              0.5555555555555556,
              "#d8576b"
             ],
             [
              0.6666666666666666,
              "#ed7953"
             ],
             [
              0.7777777777777778,
              "#fb9f3a"
             ],
             [
              0.8888888888888888,
              "#fdca26"
             ],
             [
              1,
              "#f0f921"
             ]
            ],
            "type": "histogram2dcontour"
           }
          ],
          "mesh3d": [
           {
            "colorbar": {
             "outlinewidth": 0,
             "ticks": ""
            },
            "type": "mesh3d"
           }
          ],
          "parcoords": [
           {
            "line": {
             "colorbar": {
              "outlinewidth": 0,
              "ticks": ""
             }
            },
            "type": "parcoords"
           }
          ],
          "pie": [
           {
            "automargin": true,
            "type": "pie"
           }
          ],
          "scatter": [
           {
            "marker": {
             "colorbar": {
              "outlinewidth": 0,
              "ticks": ""
             }
            },
            "type": "scatter"
           }
          ],
          "scatter3d": [
           {
            "line": {
             "colorbar": {
              "outlinewidth": 0,
              "ticks": ""
             }
            },
            "marker": {
             "colorbar": {
              "outlinewidth": 0,
              "ticks": ""
             }
            },
            "type": "scatter3d"
           }
          ],
          "scattercarpet": [
           {
            "marker": {
             "colorbar": {
              "outlinewidth": 0,
              "ticks": ""
             }
            },
            "type": "scattercarpet"
           }
          ],
          "scattergeo": [
           {
            "marker": {
             "colorbar": {
              "outlinewidth": 0,
              "ticks": ""
             }
            },
            "type": "scattergeo"
           }
          ],
          "scattergl": [
           {
            "marker": {
             "colorbar": {
              "outlinewidth": 0,
              "ticks": ""
             }
            },
            "type": "scattergl"
           }
          ],
          "scattermapbox": [
           {
            "marker": {
             "colorbar": {
              "outlinewidth": 0,
              "ticks": ""
             }
            },
            "type": "scattermapbox"
           }
          ],
          "scatterpolar": [
           {
            "marker": {
             "colorbar": {
              "outlinewidth": 0,
              "ticks": ""
             }
            },
            "type": "scatterpolar"
           }
          ],
          "scatterpolargl": [
           {
            "marker": {
             "colorbar": {
              "outlinewidth": 0,
              "ticks": ""
             }
            },
            "type": "scatterpolargl"
           }
          ],
          "scatterternary": [
           {
            "marker": {
             "colorbar": {
              "outlinewidth": 0,
              "ticks": ""
             }
            },
            "type": "scatterternary"
           }
          ],
          "surface": [
           {
            "colorbar": {
             "outlinewidth": 0,
             "ticks": ""
            },
            "colorscale": [
             [
              0,
              "#0d0887"
             ],
             [
              0.1111111111111111,
              "#46039f"
             ],
             [
              0.2222222222222222,
              "#7201a8"
             ],
             [
              0.3333333333333333,
              "#9c179e"
             ],
             [
              0.4444444444444444,
              "#bd3786"
             ],
             [
              0.5555555555555556,
              "#d8576b"
             ],
             [
              0.6666666666666666,
              "#ed7953"
             ],
             [
              0.7777777777777778,
              "#fb9f3a"
             ],
             [
              0.8888888888888888,
              "#fdca26"
             ],
             [
              1,
              "#f0f921"
             ]
            ],
            "type": "surface"
           }
          ],
          "table": [
           {
            "cells": {
             "fill": {
              "color": "#EBF0F8"
             },
             "line": {
              "color": "white"
             }
            },
            "header": {
             "fill": {
              "color": "#C8D4E3"
             },
             "line": {
              "color": "white"
             }
            },
            "type": "table"
           }
          ]
         },
         "layout": {
          "annotationdefaults": {
           "arrowcolor": "#2a3f5f",
           "arrowhead": 0,
           "arrowwidth": 1
          },
          "autotypenumbers": "strict",
          "coloraxis": {
           "colorbar": {
            "outlinewidth": 0,
            "ticks": ""
           }
          },
          "colorscale": {
           "diverging": [
            [
             0,
             "#8e0152"
            ],
            [
             0.1,
             "#c51b7d"
            ],
            [
             0.2,
             "#de77ae"
            ],
            [
             0.3,
             "#f1b6da"
            ],
            [
             0.4,
             "#fde0ef"
            ],
            [
             0.5,
             "#f7f7f7"
            ],
            [
             0.6,
             "#e6f5d0"
            ],
            [
             0.7,
             "#b8e186"
            ],
            [
             0.8,
             "#7fbc41"
            ],
            [
             0.9,
             "#4d9221"
            ],
            [
             1,
             "#276419"
            ]
           ],
           "sequential": [
            [
             0,
             "#0d0887"
            ],
            [
             0.1111111111111111,
             "#46039f"
            ],
            [
             0.2222222222222222,
             "#7201a8"
            ],
            [
             0.3333333333333333,
             "#9c179e"
            ],
            [
             0.4444444444444444,
             "#bd3786"
            ],
            [
             0.5555555555555556,
             "#d8576b"
            ],
            [
             0.6666666666666666,
             "#ed7953"
            ],
            [
             0.7777777777777778,
             "#fb9f3a"
            ],
            [
             0.8888888888888888,
             "#fdca26"
            ],
            [
             1,
             "#f0f921"
            ]
           ],
           "sequentialminus": [
            [
             0,
             "#0d0887"
            ],
            [
             0.1111111111111111,
             "#46039f"
            ],
            [
             0.2222222222222222,
             "#7201a8"
            ],
            [
             0.3333333333333333,
             "#9c179e"
            ],
            [
             0.4444444444444444,
             "#bd3786"
            ],
            [
             0.5555555555555556,
             "#d8576b"
            ],
            [
             0.6666666666666666,
             "#ed7953"
            ],
            [
             0.7777777777777778,
             "#fb9f3a"
            ],
            [
             0.8888888888888888,
             "#fdca26"
            ],
            [
             1,
             "#f0f921"
            ]
           ]
          },
          "colorway": [
           "#636efa",
           "#EF553B",
           "#00cc96",
           "#ab63fa",
           "#FFA15A",
           "#19d3f3",
           "#FF6692",
           "#B6E880",
           "#FF97FF",
           "#FECB52"
          ],
          "font": {
           "color": "#2a3f5f"
          },
          "geo": {
           "bgcolor": "white",
           "lakecolor": "white",
           "landcolor": "#E5ECF6",
           "showlakes": true,
           "showland": true,
           "subunitcolor": "white"
          },
          "hoverlabel": {
           "align": "left"
          },
          "hovermode": "closest",
          "mapbox": {
           "style": "light"
          },
          "paper_bgcolor": "white",
          "plot_bgcolor": "#E5ECF6",
          "polar": {
           "angularaxis": {
            "gridcolor": "white",
            "linecolor": "white",
            "ticks": ""
           },
           "bgcolor": "#E5ECF6",
           "radialaxis": {
            "gridcolor": "white",
            "linecolor": "white",
            "ticks": ""
           }
          },
          "scene": {
           "xaxis": {
            "backgroundcolor": "#E5ECF6",
            "gridcolor": "white",
            "gridwidth": 2,
            "linecolor": "white",
            "showbackground": true,
            "ticks": "",
            "zerolinecolor": "white"
           },
           "yaxis": {
            "backgroundcolor": "#E5ECF6",
            "gridcolor": "white",
            "gridwidth": 2,
            "linecolor": "white",
            "showbackground": true,
            "ticks": "",
            "zerolinecolor": "white"
           },
           "zaxis": {
            "backgroundcolor": "#E5ECF6",
            "gridcolor": "white",
            "gridwidth": 2,
            "linecolor": "white",
            "showbackground": true,
            "ticks": "",
            "zerolinecolor": "white"
           }
          },
          "shapedefaults": {
           "line": {
            "color": "#2a3f5f"
           }
          },
          "ternary": {
           "aaxis": {
            "gridcolor": "white",
            "linecolor": "white",
            "ticks": ""
           },
           "baxis": {
            "gridcolor": "white",
            "linecolor": "white",
            "ticks": ""
           },
           "bgcolor": "#E5ECF6",
           "caxis": {
            "gridcolor": "white",
            "linecolor": "white",
            "ticks": ""
           }
          },
          "title": {
           "x": 0.05
          },
          "xaxis": {
           "automargin": true,
           "gridcolor": "white",
           "linecolor": "white",
           "ticks": "",
           "title": {
            "standoff": 15
           },
           "zerolinecolor": "white",
           "zerolinewidth": 2
          },
          "yaxis": {
           "automargin": true,
           "gridcolor": "white",
           "linecolor": "white",
           "ticks": "",
           "title": {
            "standoff": 15
           },
           "zerolinecolor": "white",
           "zerolinewidth": 2
          }
         }
        },
        "title": {
         "text": "GDP (per capita) vs population in 2004"
        },
        "xaxis": {
         "anchor": "y",
         "domain": [
          0,
          1
         ],
         "title": {
          "text": "Population (in thousands)"
         }
        },
        "yaxis": {
         "anchor": "x",
         "domain": [
          0,
          1
         ],
         "title": {
          "text": "GDP (per capita) in dollars"
         }
        }
       }
      }
     },
     "metadata": {},
     "output_type": "display_data"
    },
    {
     "data": {
      "application/vnd.plotly.v1+json": {
       "config": {
        "plotlyServerURL": "https://plot.ly"
       },
       "data": [
        {
         "customdata": [
          [
           "United States"
          ],
          [
           "China"
          ],
          [
           "Great Britain"
          ],
          [
           "Russia"
          ],
          [
           "South Korea"
          ],
          [
           "Germany"
          ],
          [
           "France"
          ],
          [
           "Australia"
          ],
          [
           "Italy"
          ],
          [
           "Hungary"
          ],
          [
           "Japan"
          ],
          [
           "Iran"
          ],
          [
           "Netherlands"
          ],
          [
           "New Zealand"
          ],
          [
           "Ukraine"
          ],
          [
           "Cuba"
          ],
          [
           "Spain"
          ],
          [
           "Jamaica"
          ],
          [
           "Czech Republic"
          ],
          [
           "South Africa"
          ],
          [
           "North Korea"
          ],
          [
           "Brazil"
          ],
          [
           "Kazakhstan"
          ],
          [
           "Poland"
          ],
          [
           "Ethiopia"
          ],
          [
           "Croatia"
          ],
          [
           "Canada"
          ],
          [
           "Belarus"
          ],
          [
           "Kenya"
          ],
          [
           "Denmark"
          ],
          [
           "Romania"
          ],
          [
           "Azerbaijan"
          ],
          [
           "Switzerland"
          ],
          [
           "Norway"
          ],
          [
           "Lithuania"
          ],
          [
           "Tunisia"
          ],
          [
           "Sweden"
          ],
          [
           "Colombia"
          ],
          [
           "Mexico"
          ],
          [
           "Georgia"
          ],
          [
           "Ireland"
          ],
          [
           "Argentina"
          ],
          [
           "Serbia"
          ],
          [
           "Slovenia"
          ],
          [
           "Trinidad and Tobago"
          ],
          [
           "Turkey"
          ],
          [
           "Dominican Republic"
          ],
          [
           "Chinese Taipei"
          ],
          [
           "Latvia"
          ],
          [
           "Algeria"
          ],
          [
           "Bahamas"
          ],
          [
           "Bahrain"
          ],
          [
           "Grenada"
          ],
          [
           "Uganda"
          ],
          [
           "Venezuela"
          ],
          [
           "Egypt"
          ],
          [
           "India"
          ],
          [
           "Mongolia"
          ],
          [
           "Thailand"
          ],
          [
           "Bulgaria"
          ],
          [
           "Finland"
          ],
          [
           "Indonesia"
          ],
          [
           "Slovakia"
          ],
          [
           "Belgium"
          ],
          [
           "Armenia"
          ],
          [
           "Estonia"
          ],
          [
           "Malaysia"
          ],
          [
           "Puerto Rico"
          ],
          [
           "Qatar"
          ],
          [
           "Botswana"
          ],
          [
           "Cyprus"
          ],
          [
           "Gabon"
          ],
          [
           "Guatemala"
          ],
          [
           "Montenegro"
          ],
          [
           "Portugal"
          ],
          [
           "Uzbekistan"
          ],
          [
           "Greece"
          ],
          [
           "Singapore"
          ],
          [
           "Afghanistan"
          ],
          [
           "Cameroon"
          ],
          [
           "Hong Kong"
          ],
          [
           "Kuwait"
          ],
          [
           "Morocco"
          ],
          [
           "Saudi Arabia"
          ],
          [
           "Tajikistan"
          ],
          [
           "Vietnam"
          ],
          [
           "Zimbabwe"
          ],
          [
           "Panama"
          ],
          [
           "Nigeria"
          ],
          [
           "Austria"
          ],
          [
           "Kyrgyzstan"
          ],
          [
           "Chile"
          ],
          [
           "Ecuador"
          ],
          [
           "Iceland"
          ],
          [
           "Samoa"
          ],
          [
           "Sudan"
          ],
          [
           "Israel"
          ],
          [
           "Mauritius"
          ],
          [
           "Moldova"
          ],
          [
           "Togo"
          ],
          [
           "Ivory Coast"
          ],
          [
           "Fiji"
          ],
          [
           "Jordan"
          ],
          [
           "Kosovo"
          ],
          [
           "Burundi"
          ],
          [
           "Niger"
          ],
          [
           "Philippines"
          ],
          [
           "United Arab Emirates"
          ],
          [
           "Serbia and Montenegro"
          ],
          [
           "Paraguay"
          ],
          [
           "Eritrea"
          ],
          [
           "Syria"
          ]
         ],
         "hovertemplate": "Population (in thousands)=%{x}<br>GDP (per capita) in dollars=%{y}<br>NOC=%{customdata[0]}<extra></extra>",
         "legendgroup": "",
         "marker": {
          "color": "#636efa",
          "symbol": "circle"
         },
         "mode": "markers",
         "name": "",
         "orientation": "v",
         "showlegend": false,
         "type": "scatter",
         "x": [
          309348,
          1336681,
          62349,
          142527,
          48637,
          81645,
          64941,
          21516,
          60749,
          9993,
          127580,
          76924,
          16574,
          4253,
          45769,
          11099,
          46506,
          2848,
          10551,
          51123,
          24326,
          195835,
          17085,
          38617,
          86043,
          4487,
          33760,
          9681,
          40844,
          5516,
          21960,
          9302,
          7770,
          4892,
          3089,
          10526,
          9433,
          44206,
          114062,
          4903,
          4623,
          41344,
          7345,
          2004,
          1229,
          74687,
          9824,
          23127,
          2116,
          35950,
          311,
          1181,
          108,
          31508,
          27224,
          80472,
          1173109,
          2784,
          66721,
          7392,
          5355,
          243423,
          5427,
          10866,
          3072,
          1303,
          28275,
          3722,
          1720,
          2030,
          1103,
          1546,
          13551,
          667,
          10736,
          27866,
          10750,
          5141,
          29121,
          20823,
          7030,
          2544,
          31628,
          25732,
          7488,
          89572,
          11652,
          3411,
          160342,
          8448,
          5411,
          16760,
          14791,
          318,
          193,
          32997,
          7369,
          1295,
          3732,
          6588,
          21059,
          876,
          6501,
          1816,
          9121,
          15271,
          93137,
          4976,
          8012,
          6376,
          5793,
          21766
         ],
         "xaxis": "x",
         "y": [
          48471,
          7501,
          36905,
          21700,
          28550,
          39835,
          37416,
          40527,
          36514,
          22834,
          35512,
          16309,
          46004,
          31304,
          9143,
          5386,
          32590,
          8581,
          28482,
          12854,
          551,
          13397,
          17754,
          19620,
          904,
          21165,
          40159,
          13894,
          2618,
          44261,
          18164,
          13189,
          56389,
          61820,
          22704,
          9554,
          41877,
          10454,
          16134,
          7147,
          45061,
          17567,
          13026,
          30070,
          31159,
          17042,
          10704,
          34952,
          20591,
          12701,
          32690,
          48244,
          11565,
          2181,
          17706,
          9831,
          3529,
          7227,
          12256,
          14638,
          41130,
          7850,
          24471,
          39760,
          8111,
          24997,
          19711,
          30775,
          118534,
          13068,
          34994,
          15247,
          6455,
          14012,
          26573,
          4894,
          30519,
          67641,
          1512,
          2632,
          46777,
          69575,
          6008,
          52302,
          2128,
          4783,
          1465,
          14299,
          4094,
          42746,
          3048,
          18262,
          8892,
          43576,
          4576,
          4382,
          27761,
          14367,
          6200,
          1429,
          3424,
          8472,
          9673,
          7373,
          629,
          1016,
          5298,
          70074,
          13108,
          9120,
          1049,
          5938
         ],
         "yaxis": "y"
        },
        {
         "hovertemplate": "<b>OLS trendline</b><br>GDP-2008 = -0.0140236 * pop-2008 + 22303.2<br>R<sup>2</sup>=0.015273<br><br>Population (in thousands)=%{x}<br>GDP (per capita) in dollars=%{y} <b>(trend)</b><extra></extra>",
         "legendgroup": "",
         "marker": {
          "color": "#636efa",
          "symbol": "circle"
         },
         "mode": "lines",
         "name": "",
         "showlegend": false,
         "type": "scatter",
         "x": [
          108,
          193,
          311,
          318,
          667,
          876,
          1103,
          1181,
          1229,
          1295,
          1303,
          1546,
          1720,
          1816,
          2004,
          2030,
          2116,
          2544,
          2784,
          2848,
          3072,
          3089,
          3411,
          3722,
          3732,
          4253,
          4487,
          4623,
          4892,
          4903,
          4976,
          5141,
          5355,
          5411,
          5427,
          5516,
          5793,
          6376,
          6501,
          6588,
          7030,
          7345,
          7369,
          7392,
          7488,
          7770,
          8012,
          8448,
          9121,
          9302,
          9433,
          9681,
          9824,
          9993,
          10526,
          10551,
          10736,
          10750,
          10866,
          11099,
          11652,
          13551,
          14791,
          15271,
          16574,
          16760,
          17085,
          20823,
          21059,
          21516,
          21766,
          21960,
          23127,
          24326,
          25732,
          27224,
          27866,
          28275,
          29121,
          31508,
          31628,
          32997,
          33760,
          35950,
          38617,
          40844,
          41344,
          44206,
          45769,
          46506,
          48637,
          51123,
          60749,
          62349,
          64941,
          66721,
          74687,
          76924,
          80472,
          81645,
          86043,
          89572,
          93137,
          114062,
          127580,
          142527,
          160342,
          195835,
          243423,
          309348,
          1173109,
          1336681
         ],
         "xaxis": "x",
         "y": [
          22301.650378994687,
          22300.458375933948,
          22298.80359521433,
          22298.70543025639,
          22293.811205924638,
          22290.88028075176,
          22287.69693140131,
          22286.603093298512,
          22285.92996215833,
          22285.004406840577,
          22284.892218317214,
          22281.484491920037,
          22279.044391536874,
          22277.698129256507,
          22275.061698957456,
          22274.697086256525,
          22273.491059630363,
          22267.488973630396,
          22264.123317929483,
          22263.225809742573,
          22260.084531088385,
          22259.846130476235,
          22255.33054241084,
          22250.969213565073,
          22250.828977910867,
          22243.522700326797,
          22240.241186018404,
          22238.333981121217,
          22234.56164202311,
          22234.407382803485,
          22233.383662527787,
          22231.06977423341,
          22228.068731233427,
          22227.28341156988,
          22227.05903452315,
          22225.810937200727,
          22221.926409579257,
          22213.750670939116,
          22211.997725261557,
          22210.777675069974,
          22204.57925915412,
          22200.16183604667,
          22199.82527047658,
          22199.502728471907,
          22198.15646619154,
          22194.201820742965,
          22190.80811791121,
          22184.69384338788,
          22175.255983859897,
          22172.71771851879,
          22170.88063144871,
          22167.402787224426,
          22165.3974173693,
          22163.027434813237,
          22155.55287444412,
          22155.20228530861,
          22152.60792570582,
          22152.411595789934,
          22150.78486220116,
          22147.517371458187,
          22139.76233978066,
          22113.131589047167,
          22095.742367925774,
          22089.01105652394,
          22070.738350781055,
          22068.129967612847,
          22063.572308851188,
          22011.152221309432,
          22007.8426598702,
          22001.43389047304,
          21997.92799911792,
          21995.207427426347,
          21978.841926580644,
          21962.02767164149,
          21942.310538660295,
          21921.387379052936,
          21912.38425005299,
          21906.648611796012,
          21894.784675450286,
          21861.310424791598,
          21859.62759694114,
          21840.4293358805,
          21829.729355464675,
          21799.017747193822,
          21761.616898217402,
          21730.38641802599,
          21723.37463531575,
          21683.239191082335,
          21661.320358330126,
          21650.98499061523,
          21621.100772704187,
          21586.23818906887,
          21451.247348331326,
          21428.80964365856,
          21392.460562088672,
          21367.498615640216,
          21255.786893500666,
          21224.416177655054,
          21174.660567543186,
          21158.210925304964,
          21096.53528458569,
          21047.046122216812,
          20997.0521114928,
          20703.609005069244,
          20514.03844771519,
          20304.428215375265,
          20054.598397409405,
          19556.859989940287,
          18889.50655871046,
          17965.003008365275,
          5851.994117205551,
          3558.131474246704
         ],
         "yaxis": "y"
        }
       ],
       "layout": {
        "legend": {
         "tracegroupgap": 0
        },
        "template": {
         "data": {
          "bar": [
           {
            "error_x": {
             "color": "#2a3f5f"
            },
            "error_y": {
             "color": "#2a3f5f"
            },
            "marker": {
             "line": {
              "color": "#E5ECF6",
              "width": 0.5
             },
             "pattern": {
              "fillmode": "overlay",
              "size": 10,
              "solidity": 0.2
             }
            },
            "type": "bar"
           }
          ],
          "barpolar": [
           {
            "marker": {
             "line": {
              "color": "#E5ECF6",
              "width": 0.5
             },
             "pattern": {
              "fillmode": "overlay",
              "size": 10,
              "solidity": 0.2
             }
            },
            "type": "barpolar"
           }
          ],
          "carpet": [
           {
            "aaxis": {
             "endlinecolor": "#2a3f5f",
             "gridcolor": "white",
             "linecolor": "white",
             "minorgridcolor": "white",
             "startlinecolor": "#2a3f5f"
            },
            "baxis": {
             "endlinecolor": "#2a3f5f",
             "gridcolor": "white",
             "linecolor": "white",
             "minorgridcolor": "white",
             "startlinecolor": "#2a3f5f"
            },
            "type": "carpet"
           }
          ],
          "choropleth": [
           {
            "colorbar": {
             "outlinewidth": 0,
             "ticks": ""
            },
            "type": "choropleth"
           }
          ],
          "contour": [
           {
            "colorbar": {
             "outlinewidth": 0,
             "ticks": ""
            },
            "colorscale": [
             [
              0,
              "#0d0887"
             ],
             [
              0.1111111111111111,
              "#46039f"
             ],
             [
              0.2222222222222222,
              "#7201a8"
             ],
             [
              0.3333333333333333,
              "#9c179e"
             ],
             [
              0.4444444444444444,
              "#bd3786"
             ],
             [
              0.5555555555555556,
              "#d8576b"
             ],
             [
              0.6666666666666666,
              "#ed7953"
             ],
             [
              0.7777777777777778,
              "#fb9f3a"
             ],
             [
              0.8888888888888888,
              "#fdca26"
             ],
             [
              1,
              "#f0f921"
             ]
            ],
            "type": "contour"
           }
          ],
          "contourcarpet": [
           {
            "colorbar": {
             "outlinewidth": 0,
             "ticks": ""
            },
            "type": "contourcarpet"
           }
          ],
          "heatmap": [
           {
            "colorbar": {
             "outlinewidth": 0,
             "ticks": ""
            },
            "colorscale": [
             [
              0,
              "#0d0887"
             ],
             [
              0.1111111111111111,
              "#46039f"
             ],
             [
              0.2222222222222222,
              "#7201a8"
             ],
             [
              0.3333333333333333,
              "#9c179e"
             ],
             [
              0.4444444444444444,
              "#bd3786"
             ],
             [
              0.5555555555555556,
              "#d8576b"
             ],
             [
              0.6666666666666666,
              "#ed7953"
             ],
             [
              0.7777777777777778,
              "#fb9f3a"
             ],
             [
              0.8888888888888888,
              "#fdca26"
             ],
             [
              1,
              "#f0f921"
             ]
            ],
            "type": "heatmap"
           }
          ],
          "heatmapgl": [
           {
            "colorbar": {
             "outlinewidth": 0,
             "ticks": ""
            },
            "colorscale": [
             [
              0,
              "#0d0887"
             ],
             [
              0.1111111111111111,
              "#46039f"
             ],
             [
              0.2222222222222222,
              "#7201a8"
             ],
             [
              0.3333333333333333,
              "#9c179e"
             ],
             [
              0.4444444444444444,
              "#bd3786"
             ],
             [
              0.5555555555555556,
              "#d8576b"
             ],
             [
              0.6666666666666666,
              "#ed7953"
             ],
             [
              0.7777777777777778,
              "#fb9f3a"
             ],
             [
              0.8888888888888888,
              "#fdca26"
             ],
             [
              1,
              "#f0f921"
             ]
            ],
            "type": "heatmapgl"
           }
          ],
          "histogram": [
           {
            "marker": {
             "pattern": {
              "fillmode": "overlay",
              "size": 10,
              "solidity": 0.2
             }
            },
            "type": "histogram"
           }
          ],
          "histogram2d": [
           {
            "colorbar": {
             "outlinewidth": 0,
             "ticks": ""
            },
            "colorscale": [
             [
              0,
              "#0d0887"
             ],
             [
              0.1111111111111111,
              "#46039f"
             ],
             [
              0.2222222222222222,
              "#7201a8"
             ],
             [
              0.3333333333333333,
              "#9c179e"
             ],
             [
              0.4444444444444444,
              "#bd3786"
             ],
             [
              0.5555555555555556,
              "#d8576b"
             ],
             [
              0.6666666666666666,
              "#ed7953"
             ],
             [
              0.7777777777777778,
              "#fb9f3a"
             ],
             [
              0.8888888888888888,
              "#fdca26"
             ],
             [
              1,
              "#f0f921"
             ]
            ],
            "type": "histogram2d"
           }
          ],
          "histogram2dcontour": [
           {
            "colorbar": {
             "outlinewidth": 0,
             "ticks": ""
            },
            "colorscale": [
             [
              0,
              "#0d0887"
             ],
             [
              0.1111111111111111,
              "#46039f"
             ],
             [
              0.2222222222222222,
              "#7201a8"
             ],
             [
              0.3333333333333333,
              "#9c179e"
             ],
             [
              0.4444444444444444,
              "#bd3786"
             ],
             [
              0.5555555555555556,
              "#d8576b"
             ],
             [
              0.6666666666666666,
              "#ed7953"
             ],
             [
              0.7777777777777778,
              "#fb9f3a"
             ],
             [
              0.8888888888888888,
              "#fdca26"
             ],
             [
              1,
              "#f0f921"
             ]
            ],
            "type": "histogram2dcontour"
           }
          ],
          "mesh3d": [
           {
            "colorbar": {
             "outlinewidth": 0,
             "ticks": ""
            },
            "type": "mesh3d"
           }
          ],
          "parcoords": [
           {
            "line": {
             "colorbar": {
              "outlinewidth": 0,
              "ticks": ""
             }
            },
            "type": "parcoords"
           }
          ],
          "pie": [
           {
            "automargin": true,
            "type": "pie"
           }
          ],
          "scatter": [
           {
            "marker": {
             "colorbar": {
              "outlinewidth": 0,
              "ticks": ""
             }
            },
            "type": "scatter"
           }
          ],
          "scatter3d": [
           {
            "line": {
             "colorbar": {
              "outlinewidth": 0,
              "ticks": ""
             }
            },
            "marker": {
             "colorbar": {
              "outlinewidth": 0,
              "ticks": ""
             }
            },
            "type": "scatter3d"
           }
          ],
          "scattercarpet": [
           {
            "marker": {
             "colorbar": {
              "outlinewidth": 0,
              "ticks": ""
             }
            },
            "type": "scattercarpet"
           }
          ],
          "scattergeo": [
           {
            "marker": {
             "colorbar": {
              "outlinewidth": 0,
              "ticks": ""
             }
            },
            "type": "scattergeo"
           }
          ],
          "scattergl": [
           {
            "marker": {
             "colorbar": {
              "outlinewidth": 0,
              "ticks": ""
             }
            },
            "type": "scattergl"
           }
          ],
          "scattermapbox": [
           {
            "marker": {
             "colorbar": {
              "outlinewidth": 0,
              "ticks": ""
             }
            },
            "type": "scattermapbox"
           }
          ],
          "scatterpolar": [
           {
            "marker": {
             "colorbar": {
              "outlinewidth": 0,
              "ticks": ""
             }
            },
            "type": "scatterpolar"
           }
          ],
          "scatterpolargl": [
           {
            "marker": {
             "colorbar": {
              "outlinewidth": 0,
              "ticks": ""
             }
            },
            "type": "scatterpolargl"
           }
          ],
          "scatterternary": [
           {
            "marker": {
             "colorbar": {
              "outlinewidth": 0,
              "ticks": ""
             }
            },
            "type": "scatterternary"
           }
          ],
          "surface": [
           {
            "colorbar": {
             "outlinewidth": 0,
             "ticks": ""
            },
            "colorscale": [
             [
              0,
              "#0d0887"
             ],
             [
              0.1111111111111111,
              "#46039f"
             ],
             [
              0.2222222222222222,
              "#7201a8"
             ],
             [
              0.3333333333333333,
              "#9c179e"
             ],
             [
              0.4444444444444444,
              "#bd3786"
             ],
             [
              0.5555555555555556,
              "#d8576b"
             ],
             [
              0.6666666666666666,
              "#ed7953"
             ],
             [
              0.7777777777777778,
              "#fb9f3a"
             ],
             [
              0.8888888888888888,
              "#fdca26"
             ],
             [
              1,
              "#f0f921"
             ]
            ],
            "type": "surface"
           }
          ],
          "table": [
           {
            "cells": {
             "fill": {
              "color": "#EBF0F8"
             },
             "line": {
              "color": "white"
             }
            },
            "header": {
             "fill": {
              "color": "#C8D4E3"
             },
             "line": {
              "color": "white"
             }
            },
            "type": "table"
           }
          ]
         },
         "layout": {
          "annotationdefaults": {
           "arrowcolor": "#2a3f5f",
           "arrowhead": 0,
           "arrowwidth": 1
          },
          "autotypenumbers": "strict",
          "coloraxis": {
           "colorbar": {
            "outlinewidth": 0,
            "ticks": ""
           }
          },
          "colorscale": {
           "diverging": [
            [
             0,
             "#8e0152"
            ],
            [
             0.1,
             "#c51b7d"
            ],
            [
             0.2,
             "#de77ae"
            ],
            [
             0.3,
             "#f1b6da"
            ],
            [
             0.4,
             "#fde0ef"
            ],
            [
             0.5,
             "#f7f7f7"
            ],
            [
             0.6,
             "#e6f5d0"
            ],
            [
             0.7,
             "#b8e186"
            ],
            [
             0.8,
             "#7fbc41"
            ],
            [
             0.9,
             "#4d9221"
            ],
            [
             1,
             "#276419"
            ]
           ],
           "sequential": [
            [
             0,
             "#0d0887"
            ],
            [
             0.1111111111111111,
             "#46039f"
            ],
            [
             0.2222222222222222,
             "#7201a8"
            ],
            [
             0.3333333333333333,
             "#9c179e"
            ],
            [
             0.4444444444444444,
             "#bd3786"
            ],
            [
             0.5555555555555556,
             "#d8576b"
            ],
            [
             0.6666666666666666,
             "#ed7953"
            ],
            [
             0.7777777777777778,
             "#fb9f3a"
            ],
            [
             0.8888888888888888,
             "#fdca26"
            ],
            [
             1,
             "#f0f921"
            ]
           ],
           "sequentialminus": [
            [
             0,
             "#0d0887"
            ],
            [
             0.1111111111111111,
             "#46039f"
            ],
            [
             0.2222222222222222,
             "#7201a8"
            ],
            [
             0.3333333333333333,
             "#9c179e"
            ],
            [
             0.4444444444444444,
             "#bd3786"
            ],
            [
             0.5555555555555556,
             "#d8576b"
            ],
            [
             0.6666666666666666,
             "#ed7953"
            ],
            [
             0.7777777777777778,
             "#fb9f3a"
            ],
            [
             0.8888888888888888,
             "#fdca26"
            ],
            [
             1,
             "#f0f921"
            ]
           ]
          },
          "colorway": [
           "#636efa",
           "#EF553B",
           "#00cc96",
           "#ab63fa",
           "#FFA15A",
           "#19d3f3",
           "#FF6692",
           "#B6E880",
           "#FF97FF",
           "#FECB52"
          ],
          "font": {
           "color": "#2a3f5f"
          },
          "geo": {
           "bgcolor": "white",
           "lakecolor": "white",
           "landcolor": "#E5ECF6",
           "showlakes": true,
           "showland": true,
           "subunitcolor": "white"
          },
          "hoverlabel": {
           "align": "left"
          },
          "hovermode": "closest",
          "mapbox": {
           "style": "light"
          },
          "paper_bgcolor": "white",
          "plot_bgcolor": "#E5ECF6",
          "polar": {
           "angularaxis": {
            "gridcolor": "white",
            "linecolor": "white",
            "ticks": ""
           },
           "bgcolor": "#E5ECF6",
           "radialaxis": {
            "gridcolor": "white",
            "linecolor": "white",
            "ticks": ""
           }
          },
          "scene": {
           "xaxis": {
            "backgroundcolor": "#E5ECF6",
            "gridcolor": "white",
            "gridwidth": 2,
            "linecolor": "white",
            "showbackground": true,
            "ticks": "",
            "zerolinecolor": "white"
           },
           "yaxis": {
            "backgroundcolor": "#E5ECF6",
            "gridcolor": "white",
            "gridwidth": 2,
            "linecolor": "white",
            "showbackground": true,
            "ticks": "",
            "zerolinecolor": "white"
           },
           "zaxis": {
            "backgroundcolor": "#E5ECF6",
            "gridcolor": "white",
            "gridwidth": 2,
            "linecolor": "white",
            "showbackground": true,
            "ticks": "",
            "zerolinecolor": "white"
           }
          },
          "shapedefaults": {
           "line": {
            "color": "#2a3f5f"
           }
          },
          "ternary": {
           "aaxis": {
            "gridcolor": "white",
            "linecolor": "white",
            "ticks": ""
           },
           "baxis": {
            "gridcolor": "white",
            "linecolor": "white",
            "ticks": ""
           },
           "bgcolor": "#E5ECF6",
           "caxis": {
            "gridcolor": "white",
            "linecolor": "white",
            "ticks": ""
           }
          },
          "title": {
           "x": 0.05
          },
          "xaxis": {
           "automargin": true,
           "gridcolor": "white",
           "linecolor": "white",
           "ticks": "",
           "title": {
            "standoff": 15
           },
           "zerolinecolor": "white",
           "zerolinewidth": 2
          },
          "yaxis": {
           "automargin": true,
           "gridcolor": "white",
           "linecolor": "white",
           "ticks": "",
           "title": {
            "standoff": 15
           },
           "zerolinecolor": "white",
           "zerolinewidth": 2
          }
         }
        },
        "title": {
         "text": "GDP (per capita) vs population in 2008"
        },
        "xaxis": {
         "anchor": "y",
         "domain": [
          0,
          1
         ],
         "title": {
          "text": "Population (in thousands)"
         }
        },
        "yaxis": {
         "anchor": "x",
         "domain": [
          0,
          1
         ],
         "title": {
          "text": "GDP (per capita) in dollars"
         }
        }
       }
      }
     },
     "metadata": {},
     "output_type": "display_data"
    },
    {
     "data": {
      "application/vnd.plotly.v1+json": {
       "config": {
        "plotlyServerURL": "https://plot.ly"
       },
       "data": [
        {
         "customdata": [
          [
           "United States"
          ],
          [
           "China"
          ],
          [
           "Great Britain"
          ],
          [
           "Russia"
          ],
          [
           "South Korea"
          ],
          [
           "Germany"
          ],
          [
           "France"
          ],
          [
           "Australia"
          ],
          [
           "Italy"
          ],
          [
           "Hungary"
          ],
          [
           "Japan"
          ],
          [
           "Iran"
          ],
          [
           "Netherlands"
          ],
          [
           "New Zealand"
          ],
          [
           "Ukraine"
          ],
          [
           "Cuba"
          ],
          [
           "Spain"
          ],
          [
           "Jamaica"
          ],
          [
           "Czech Republic"
          ],
          [
           "South Africa"
          ],
          [
           "North Korea"
          ],
          [
           "Brazil"
          ],
          [
           "Kazakhstan"
          ],
          [
           "Poland"
          ],
          [
           "Ethiopia"
          ],
          [
           "Croatia"
          ],
          [
           "Canada"
          ],
          [
           "Belarus"
          ],
          [
           "Kenya"
          ],
          [
           "Denmark"
          ],
          [
           "Romania"
          ],
          [
           "Azerbaijan"
          ],
          [
           "Switzerland"
          ],
          [
           "Norway"
          ],
          [
           "Lithuania"
          ],
          [
           "Tunisia"
          ],
          [
           "Sweden"
          ],
          [
           "Colombia"
          ],
          [
           "Mexico"
          ],
          [
           "Georgia"
          ],
          [
           "Ireland"
          ],
          [
           "Argentina"
          ],
          [
           "Serbia"
          ],
          [
           "Slovenia"
          ],
          [
           "Trinidad and Tobago"
          ],
          [
           "Turkey"
          ],
          [
           "Dominican Republic"
          ],
          [
           "Chinese Taipei"
          ],
          [
           "Latvia"
          ],
          [
           "Algeria"
          ],
          [
           "Bahamas"
          ],
          [
           "Bahrain"
          ],
          [
           "Grenada"
          ],
          [
           "Uganda"
          ],
          [
           "Venezuela"
          ],
          [
           "Egypt"
          ],
          [
           "India"
          ],
          [
           "Mongolia"
          ],
          [
           "Thailand"
          ],
          [
           "Bulgaria"
          ],
          [
           "Finland"
          ],
          [
           "Indonesia"
          ],
          [
           "Slovakia"
          ],
          [
           "Belgium"
          ],
          [
           "Armenia"
          ],
          [
           "Estonia"
          ],
          [
           "Malaysia"
          ],
          [
           "Puerto Rico"
          ],
          [
           "Qatar"
          ],
          [
           "Botswana"
          ],
          [
           "Cyprus"
          ],
          [
           "Gabon"
          ],
          [
           "Guatemala"
          ],
          [
           "Montenegro"
          ],
          [
           "Portugal"
          ],
          [
           "Uzbekistan"
          ],
          [
           "Greece"
          ],
          [
           "Singapore"
          ],
          [
           "Afghanistan"
          ],
          [
           "Cameroon"
          ],
          [
           "Hong Kong"
          ],
          [
           "Kuwait"
          ],
          [
           "Morocco"
          ],
          [
           "Saudi Arabia"
          ],
          [
           "Tajikistan"
          ],
          [
           "Vietnam"
          ],
          [
           "Zimbabwe"
          ],
          [
           "Panama"
          ],
          [
           "Nigeria"
          ],
          [
           "Austria"
          ],
          [
           "Kyrgyzstan"
          ],
          [
           "Chile"
          ],
          [
           "Ecuador"
          ],
          [
           "Iceland"
          ],
          [
           "Samoa"
          ],
          [
           "Sudan"
          ],
          [
           "Israel"
          ],
          [
           "Mauritius"
          ],
          [
           "Moldova"
          ],
          [
           "Togo"
          ],
          [
           "Ivory Coast"
          ],
          [
           "Fiji"
          ],
          [
           "Jordan"
          ],
          [
           "Kosovo"
          ],
          [
           "Burundi"
          ],
          [
           "Niger"
          ],
          [
           "Philippines"
          ],
          [
           "United Arab Emirates"
          ],
          [
           "Serbia and Montenegro"
          ],
          [
           "Paraguay"
          ],
          [
           "Eritrea"
          ],
          [
           "Syria"
          ]
         ],
         "hovertemplate": "Population (in thousands)=%{x}<br>GDP (per capita) in dollars=%{y}<br>NOC=%{customdata[0]}<extra></extra>",
         "legendgroup": "",
         "marker": {
          "color": "#636efa",
          "symbol": "circle"
         },
         "mode": "markers",
         "name": "",
         "orientation": "v",
         "showlegend": false,
         "type": "scatter",
         "x": [
          309348,
          1336681,
          62349,
          142527,
          48637,
          81645,
          64941,
          21516,
          60749,
          9993,
          127580,
          76924,
          16574,
          4253,
          45769,
          11099,
          46506,
          2848,
          10551,
          51123,
          24326,
          195835,
          17085,
          38617,
          86043,
          4487,
          33760,
          9681,
          40844,
          5516,
          21960,
          9302,
          7770,
          4892,
          3089,
          10526,
          9433,
          44206,
          114062,
          4903,
          4623,
          41344,
          7345,
          2004,
          1229,
          74687,
          9824,
          23127,
          2116,
          35950,
          311,
          1181,
          108,
          31508,
          27224,
          80472,
          1173109,
          2784,
          66721,
          7392,
          5355,
          243423,
          5427,
          10866,
          3072,
          1303,
          28275,
          3722,
          1720,
          2030,
          1103,
          1546,
          13551,
          667,
          10736,
          27866,
          10750,
          5141,
          29121,
          20823,
          7030,
          2544,
          31628,
          25732,
          7488,
          89572,
          11652,
          3411,
          160342,
          8448,
          5411,
          16760,
          14791,
          318,
          193,
          32997,
          7369,
          1295,
          3732,
          6588,
          21059,
          876,
          6501,
          1816,
          9121,
          15271,
          93137,
          4976,
          8012,
          6376,
          5793,
          21766
         ],
         "xaxis": "x",
         "y": [
          51737,
          11137,
          38297,
          24279,
          33557,
          43359,
          39037,
          42906,
          36143,
          23179,
          37629,
          15846,
          47342,
          32734,
          9389,
          6448,
          31725,
          8586,
          29270,
          13191,
          643,
          15120,
          21878,
          23745,
          1315,
          21167,
          42351,
          18097,
          3107,
          44893,
          18834,
          16063,
          60273,
          65101,
          24704,
          10180,
          45259,
          12306,
          17213,
          9799,
          46308,
          19641,
          13939,
          29066,
          30063,
          20504,
          12208,
          41741,
          21298,
          13264,
          33252,
          54489,
          11164,
          2373,
          18553,
          11620,
          4861,
          10074,
          14871,
          16295,
          40969,
          9834,
          26983,
          42409,
          9094,
          25996,
          22963,
          32583,
          169698,
          13092,
          31906,
          15487,
          7018,
          13864,
          26438,
          6107,
          24819,
          82065,
          2318,
          2855,
          52082,
          72736,
          6857,
          57284,
          2709,
          6400,
          2386,
          18596,
          5000,
          46478,
          3654,
          21447,
          10280,
          42154,
          4787,
          3929,
          31860,
          16964,
          7329,
          1656,
          3563,
          9660,
          9301,
          8438,
          685,
          1156,
          6360,
          74088,
          13932,
          9957,
          1669,
          6374
         ],
         "yaxis": "y"
        },
        {
         "hovertemplate": "<b>OLS trendline</b><br>GDP-2012 = -0.0138071 * pop-2012 + 24292.3<br>R<sup>2</sup>=0.010687<br><br>Population (in thousands)=%{x}<br>GDP (per capita) in dollars=%{y} <b>(trend)</b><extra></extra>",
         "legendgroup": "",
         "marker": {
          "color": "#636efa",
          "symbol": "circle"
         },
         "mode": "lines",
         "name": "",
         "showlegend": false,
         "type": "scatter",
         "x": [
          108,
          193,
          311,
          318,
          667,
          876,
          1103,
          1181,
          1229,
          1295,
          1303,
          1546,
          1720,
          1816,
          2004,
          2030,
          2116,
          2544,
          2784,
          2848,
          3072,
          3089,
          3411,
          3722,
          3732,
          4253,
          4487,
          4623,
          4892,
          4903,
          4976,
          5141,
          5355,
          5411,
          5427,
          5516,
          5793,
          6376,
          6501,
          6588,
          7030,
          7345,
          7369,
          7392,
          7488,
          7770,
          8012,
          8448,
          9121,
          9302,
          9433,
          9681,
          9824,
          9993,
          10526,
          10551,
          10736,
          10750,
          10866,
          11099,
          11652,
          13551,
          14791,
          15271,
          16574,
          16760,
          17085,
          20823,
          21059,
          21516,
          21766,
          21960,
          23127,
          24326,
          25732,
          27224,
          27866,
          28275,
          29121,
          31508,
          31628,
          32997,
          33760,
          35950,
          38617,
          40844,
          41344,
          44206,
          45769,
          46506,
          48637,
          51123,
          60749,
          62349,
          64941,
          66721,
          74687,
          76924,
          80472,
          81645,
          86043,
          89572,
          93137,
          114062,
          127580,
          142527,
          160342,
          195835,
          243423,
          309348,
          1173109,
          1336681
         ],
         "xaxis": "x",
         "y": [
          24290.768420049026,
          24289.594814395532,
          24287.965573605972,
          24287.868923728627,
          24283.05023698663,
          24280.164547791566,
          24277.030330340465,
          24275.953374564317,
          24275.290632548225,
          24274.3793622761,
          24274.26890527342,
          24270.913773816956,
          24268.511334008625,
          24267.185849976442,
          24264.59011041342,
          24264.231125154703,
          24263.04371237587,
          24257.13426273239,
          24253.820552651934,
          24252.93689663048,
          24249.844100555387,
          24249.609379424688,
          24245.163485066743,
          24240.869469087484,
          24240.731397834134,
          24233.537885534475,
          24230.30701820603,
          24228.429249160436,
          24224.715132445257,
          24224.563254066572,
          24223.5553339171,
          24221.277158236786,
          24218.322433415044,
          24217.549234396272,
          24217.32832039091,
          24216.09948623607,
          24212.274912518213,
          24204.22535844777,
          24202.499467780865,
          24201.298247876697,
          24195.195498478522,
          24190.846253997926,
          24190.51488298988,
          24190.19731910717,
          24188.871835074988,
          24184.97822573045,
          24181.636901399324,
          24175.61699475316,
          24166.324799402548,
          24163.825709716868,
          24162.016976297953,
          24158.592809214813,
          24156.618390291875,
          24154.284986110222,
          24146.92578830654,
          24146.580610173158,
          24144.02629198614,
          24143.832992231448,
          24142.231365692558,
          24139.01430548945,
          24131.378965179065,
          24105.15923416745,
          24088.03839875176,
          24081.410978590848,
          24063.420294279033,
          24060.85216896668,
          24056.364853232728,
          24004.753818729616,
          24001.4953371505,
          23995.1854808723,
          23991.73369953849,
          23989.055117223455,
          23972.942201957234,
          23956.387458680285,
          23936.974640458946,
          23916.37440945877,
          23907.51023499355,
          23901.86312073144,
          23890.18229269783,
          23857.224684522622,
          23855.567829482396,
          23836.665874898456,
          23826.13103826767,
          23795.893433783505,
          23759.069830514432,
          23728.32136239286,
          23721.41779972524,
          23681.901807015798,
          23660.321270116823,
          23650.145418744756,
          23620.722434655367,
          23586.397921071974,
          23453.49053259499,
          23431.399132058614,
          23395.611063189685,
          23371.034380092962,
          23261.046819672476,
          23230.160280297554,
          23181.172599608137,
          23164.976841589905,
          23104.253104365536,
          23055.52775905749,
          23006.305357237376,
          22717.391259597567,
          22530.74653931585,
          22324.37143693008,
          22078.397499082854,
          21588.341199559327,
          20931.287719106127,
          20021.052981380708,
          8094.996594692093,
          5836.537489356902
         ],
         "yaxis": "y"
        }
       ],
       "layout": {
        "legend": {
         "tracegroupgap": 0
        },
        "template": {
         "data": {
          "bar": [
           {
            "error_x": {
             "color": "#2a3f5f"
            },
            "error_y": {
             "color": "#2a3f5f"
            },
            "marker": {
             "line": {
              "color": "#E5ECF6",
              "width": 0.5
             },
             "pattern": {
              "fillmode": "overlay",
              "size": 10,
              "solidity": 0.2
             }
            },
            "type": "bar"
           }
          ],
          "barpolar": [
           {
            "marker": {
             "line": {
              "color": "#E5ECF6",
              "width": 0.5
             },
             "pattern": {
              "fillmode": "overlay",
              "size": 10,
              "solidity": 0.2
             }
            },
            "type": "barpolar"
           }
          ],
          "carpet": [
           {
            "aaxis": {
             "endlinecolor": "#2a3f5f",
             "gridcolor": "white",
             "linecolor": "white",
             "minorgridcolor": "white",
             "startlinecolor": "#2a3f5f"
            },
            "baxis": {
             "endlinecolor": "#2a3f5f",
             "gridcolor": "white",
             "linecolor": "white",
             "minorgridcolor": "white",
             "startlinecolor": "#2a3f5f"
            },
            "type": "carpet"
           }
          ],
          "choropleth": [
           {
            "colorbar": {
             "outlinewidth": 0,
             "ticks": ""
            },
            "type": "choropleth"
           }
          ],
          "contour": [
           {
            "colorbar": {
             "outlinewidth": 0,
             "ticks": ""
            },
            "colorscale": [
             [
              0,
              "#0d0887"
             ],
             [
              0.1111111111111111,
              "#46039f"
             ],
             [
              0.2222222222222222,
              "#7201a8"
             ],
             [
              0.3333333333333333,
              "#9c179e"
             ],
             [
              0.4444444444444444,
              "#bd3786"
             ],
             [
              0.5555555555555556,
              "#d8576b"
             ],
             [
              0.6666666666666666,
              "#ed7953"
             ],
             [
              0.7777777777777778,
              "#fb9f3a"
             ],
             [
              0.8888888888888888,
              "#fdca26"
             ],
             [
              1,
              "#f0f921"
             ]
            ],
            "type": "contour"
           }
          ],
          "contourcarpet": [
           {
            "colorbar": {
             "outlinewidth": 0,
             "ticks": ""
            },
            "type": "contourcarpet"
           }
          ],
          "heatmap": [
           {
            "colorbar": {
             "outlinewidth": 0,
             "ticks": ""
            },
            "colorscale": [
             [
              0,
              "#0d0887"
             ],
             [
              0.1111111111111111,
              "#46039f"
             ],
             [
              0.2222222222222222,
              "#7201a8"
             ],
             [
              0.3333333333333333,
              "#9c179e"
             ],
             [
              0.4444444444444444,
              "#bd3786"
             ],
             [
              0.5555555555555556,
              "#d8576b"
             ],
             [
              0.6666666666666666,
              "#ed7953"
             ],
             [
              0.7777777777777778,
              "#fb9f3a"
             ],
             [
              0.8888888888888888,
              "#fdca26"
             ],
             [
              1,
              "#f0f921"
             ]
            ],
            "type": "heatmap"
           }
          ],
          "heatmapgl": [
           {
            "colorbar": {
             "outlinewidth": 0,
             "ticks": ""
            },
            "colorscale": [
             [
              0,
              "#0d0887"
             ],
             [
              0.1111111111111111,
              "#46039f"
             ],
             [
              0.2222222222222222,
              "#7201a8"
             ],
             [
              0.3333333333333333,
              "#9c179e"
             ],
             [
              0.4444444444444444,
              "#bd3786"
             ],
             [
              0.5555555555555556,
              "#d8576b"
             ],
             [
              0.6666666666666666,
              "#ed7953"
             ],
             [
              0.7777777777777778,
              "#fb9f3a"
             ],
             [
              0.8888888888888888,
              "#fdca26"
             ],
             [
              1,
              "#f0f921"
             ]
            ],
            "type": "heatmapgl"
           }
          ],
          "histogram": [
           {
            "marker": {
             "pattern": {
              "fillmode": "overlay",
              "size": 10,
              "solidity": 0.2
             }
            },
            "type": "histogram"
           }
          ],
          "histogram2d": [
           {
            "colorbar": {
             "outlinewidth": 0,
             "ticks": ""
            },
            "colorscale": [
             [
              0,
              "#0d0887"
             ],
             [
              0.1111111111111111,
              "#46039f"
             ],
             [
              0.2222222222222222,
              "#7201a8"
             ],
             [
              0.3333333333333333,
              "#9c179e"
             ],
             [
              0.4444444444444444,
              "#bd3786"
             ],
             [
              0.5555555555555556,
              "#d8576b"
             ],
             [
              0.6666666666666666,
              "#ed7953"
             ],
             [
              0.7777777777777778,
              "#fb9f3a"
             ],
             [
              0.8888888888888888,
              "#fdca26"
             ],
             [
              1,
              "#f0f921"
             ]
            ],
            "type": "histogram2d"
           }
          ],
          "histogram2dcontour": [
           {
            "colorbar": {
             "outlinewidth": 0,
             "ticks": ""
            },
            "colorscale": [
             [
              0,
              "#0d0887"
             ],
             [
              0.1111111111111111,
              "#46039f"
             ],
             [
              0.2222222222222222,
              "#7201a8"
             ],
             [
              0.3333333333333333,
              "#9c179e"
             ],
             [
              0.4444444444444444,
              "#bd3786"
             ],
             [
              0.5555555555555556,
              "#d8576b"
             ],
             [
              0.6666666666666666,
              "#ed7953"
             ],
             [
              0.7777777777777778,
              "#fb9f3a"
             ],
             [
              0.8888888888888888,
              "#fdca26"
             ],
             [
              1,
              "#f0f921"
             ]
            ],
            "type": "histogram2dcontour"
           }
          ],
          "mesh3d": [
           {
            "colorbar": {
             "outlinewidth": 0,
             "ticks": ""
            },
            "type": "mesh3d"
           }
          ],
          "parcoords": [
           {
            "line": {
             "colorbar": {
              "outlinewidth": 0,
              "ticks": ""
             }
            },
            "type": "parcoords"
           }
          ],
          "pie": [
           {
            "automargin": true,
            "type": "pie"
           }
          ],
          "scatter": [
           {
            "marker": {
             "colorbar": {
              "outlinewidth": 0,
              "ticks": ""
             }
            },
            "type": "scatter"
           }
          ],
          "scatter3d": [
           {
            "line": {
             "colorbar": {
              "outlinewidth": 0,
              "ticks": ""
             }
            },
            "marker": {
             "colorbar": {
              "outlinewidth": 0,
              "ticks": ""
             }
            },
            "type": "scatter3d"
           }
          ],
          "scattercarpet": [
           {
            "marker": {
             "colorbar": {
              "outlinewidth": 0,
              "ticks": ""
             }
            },
            "type": "scattercarpet"
           }
          ],
          "scattergeo": [
           {
            "marker": {
             "colorbar": {
              "outlinewidth": 0,
              "ticks": ""
             }
            },
            "type": "scattergeo"
           }
          ],
          "scattergl": [
           {
            "marker": {
             "colorbar": {
              "outlinewidth": 0,
              "ticks": ""
             }
            },
            "type": "scattergl"
           }
          ],
          "scattermapbox": [
           {
            "marker": {
             "colorbar": {
              "outlinewidth": 0,
              "ticks": ""
             }
            },
            "type": "scattermapbox"
           }
          ],
          "scatterpolar": [
           {
            "marker": {
             "colorbar": {
              "outlinewidth": 0,
              "ticks": ""
             }
            },
            "type": "scatterpolar"
           }
          ],
          "scatterpolargl": [
           {
            "marker": {
             "colorbar": {
              "outlinewidth": 0,
              "ticks": ""
             }
            },
            "type": "scatterpolargl"
           }
          ],
          "scatterternary": [
           {
            "marker": {
             "colorbar": {
              "outlinewidth": 0,
              "ticks": ""
             }
            },
            "type": "scatterternary"
           }
          ],
          "surface": [
           {
            "colorbar": {
             "outlinewidth": 0,
             "ticks": ""
            },
            "colorscale": [
             [
              0,
              "#0d0887"
             ],
             [
              0.1111111111111111,
              "#46039f"
             ],
             [
              0.2222222222222222,
              "#7201a8"
             ],
             [
              0.3333333333333333,
              "#9c179e"
             ],
             [
              0.4444444444444444,
              "#bd3786"
             ],
             [
              0.5555555555555556,
              "#d8576b"
             ],
             [
              0.6666666666666666,
              "#ed7953"
             ],
             [
              0.7777777777777778,
              "#fb9f3a"
             ],
             [
              0.8888888888888888,
              "#fdca26"
             ],
             [
              1,
              "#f0f921"
             ]
            ],
            "type": "surface"
           }
          ],
          "table": [
           {
            "cells": {
             "fill": {
              "color": "#EBF0F8"
             },
             "line": {
              "color": "white"
             }
            },
            "header": {
             "fill": {
              "color": "#C8D4E3"
             },
             "line": {
              "color": "white"
             }
            },
            "type": "table"
           }
          ]
         },
         "layout": {
          "annotationdefaults": {
           "arrowcolor": "#2a3f5f",
           "arrowhead": 0,
           "arrowwidth": 1
          },
          "autotypenumbers": "strict",
          "coloraxis": {
           "colorbar": {
            "outlinewidth": 0,
            "ticks": ""
           }
          },
          "colorscale": {
           "diverging": [
            [
             0,
             "#8e0152"
            ],
            [
             0.1,
             "#c51b7d"
            ],
            [
             0.2,
             "#de77ae"
            ],
            [
             0.3,
             "#f1b6da"
            ],
            [
             0.4,
             "#fde0ef"
            ],
            [
             0.5,
             "#f7f7f7"
            ],
            [
             0.6,
             "#e6f5d0"
            ],
            [
             0.7,
             "#b8e186"
            ],
            [
             0.8,
             "#7fbc41"
            ],
            [
             0.9,
             "#4d9221"
            ],
            [
             1,
             "#276419"
            ]
           ],
           "sequential": [
            [
             0,
             "#0d0887"
            ],
            [
             0.1111111111111111,
             "#46039f"
            ],
            [
             0.2222222222222222,
             "#7201a8"
            ],
            [
             0.3333333333333333,
             "#9c179e"
            ],
            [
             0.4444444444444444,
             "#bd3786"
            ],
            [
             0.5555555555555556,
             "#d8576b"
            ],
            [
             0.6666666666666666,
             "#ed7953"
            ],
            [
             0.7777777777777778,
             "#fb9f3a"
            ],
            [
             0.8888888888888888,
             "#fdca26"
            ],
            [
             1,
             "#f0f921"
            ]
           ],
           "sequentialminus": [
            [
             0,
             "#0d0887"
            ],
            [
             0.1111111111111111,
             "#46039f"
            ],
            [
             0.2222222222222222,
             "#7201a8"
            ],
            [
             0.3333333333333333,
             "#9c179e"
            ],
            [
             0.4444444444444444,
             "#bd3786"
            ],
            [
             0.5555555555555556,
             "#d8576b"
            ],
            [
             0.6666666666666666,
             "#ed7953"
            ],
            [
             0.7777777777777778,
             "#fb9f3a"
            ],
            [
             0.8888888888888888,
             "#fdca26"
            ],
            [
             1,
             "#f0f921"
            ]
           ]
          },
          "colorway": [
           "#636efa",
           "#EF553B",
           "#00cc96",
           "#ab63fa",
           "#FFA15A",
           "#19d3f3",
           "#FF6692",
           "#B6E880",
           "#FF97FF",
           "#FECB52"
          ],
          "font": {
           "color": "#2a3f5f"
          },
          "geo": {
           "bgcolor": "white",
           "lakecolor": "white",
           "landcolor": "#E5ECF6",
           "showlakes": true,
           "showland": true,
           "subunitcolor": "white"
          },
          "hoverlabel": {
           "align": "left"
          },
          "hovermode": "closest",
          "mapbox": {
           "style": "light"
          },
          "paper_bgcolor": "white",
          "plot_bgcolor": "#E5ECF6",
          "polar": {
           "angularaxis": {
            "gridcolor": "white",
            "linecolor": "white",
            "ticks": ""
           },
           "bgcolor": "#E5ECF6",
           "radialaxis": {
            "gridcolor": "white",
            "linecolor": "white",
            "ticks": ""
           }
          },
          "scene": {
           "xaxis": {
            "backgroundcolor": "#E5ECF6",
            "gridcolor": "white",
            "gridwidth": 2,
            "linecolor": "white",
            "showbackground": true,
            "ticks": "",
            "zerolinecolor": "white"
           },
           "yaxis": {
            "backgroundcolor": "#E5ECF6",
            "gridcolor": "white",
            "gridwidth": 2,
            "linecolor": "white",
            "showbackground": true,
            "ticks": "",
            "zerolinecolor": "white"
           },
           "zaxis": {
            "backgroundcolor": "#E5ECF6",
            "gridcolor": "white",
            "gridwidth": 2,
            "linecolor": "white",
            "showbackground": true,
            "ticks": "",
            "zerolinecolor": "white"
           }
          },
          "shapedefaults": {
           "line": {
            "color": "#2a3f5f"
           }
          },
          "ternary": {
           "aaxis": {
            "gridcolor": "white",
            "linecolor": "white",
            "ticks": ""
           },
           "baxis": {
            "gridcolor": "white",
            "linecolor": "white",
            "ticks": ""
           },
           "bgcolor": "#E5ECF6",
           "caxis": {
            "gridcolor": "white",
            "linecolor": "white",
            "ticks": ""
           }
          },
          "title": {
           "x": 0.05
          },
          "xaxis": {
           "automargin": true,
           "gridcolor": "white",
           "linecolor": "white",
           "ticks": "",
           "title": {
            "standoff": 15
           },
           "zerolinecolor": "white",
           "zerolinewidth": 2
          },
          "yaxis": {
           "automargin": true,
           "gridcolor": "white",
           "linecolor": "white",
           "ticks": "",
           "title": {
            "standoff": 15
           },
           "zerolinecolor": "white",
           "zerolinewidth": 2
          }
         }
        },
        "title": {
         "text": "GDP (per capita) vs population in 2012"
        },
        "xaxis": {
         "anchor": "y",
         "domain": [
          0,
          1
         ],
         "title": {
          "text": "Population (in thousands)"
         }
        },
        "yaxis": {
         "anchor": "x",
         "domain": [
          0,
          1
         ],
         "title": {
          "text": "GDP (per capita) in dollars"
         }
        }
       }
      }
     },
     "metadata": {},
     "output_type": "display_data"
    },
    {
     "data": {
      "application/vnd.plotly.v1+json": {
       "config": {
        "plotlyServerURL": "https://plot.ly"
       },
       "data": [
        {
         "customdata": [
          [
           "United States"
          ],
          [
           "China"
          ],
          [
           "Great Britain"
          ],
          [
           "Russia"
          ],
          [
           "South Korea"
          ],
          [
           "Germany"
          ],
          [
           "France"
          ],
          [
           "Australia"
          ],
          [
           "Italy"
          ],
          [
           "Hungary"
          ],
          [
           "Japan"
          ],
          [
           "Iran"
          ],
          [
           "Netherlands"
          ],
          [
           "New Zealand"
          ],
          [
           "Ukraine"
          ],
          [
           "Cuba"
          ],
          [
           "Spain"
          ],
          [
           "Jamaica"
          ],
          [
           "Czech Republic"
          ],
          [
           "South Africa"
          ],
          [
           "North Korea"
          ],
          [
           "Brazil"
          ],
          [
           "Kazakhstan"
          ],
          [
           "Poland"
          ],
          [
           "Ethiopia"
          ],
          [
           "Croatia"
          ],
          [
           "Canada"
          ],
          [
           "Belarus"
          ],
          [
           "Kenya"
          ],
          [
           "Denmark"
          ],
          [
           "Romania"
          ],
          [
           "Azerbaijan"
          ],
          [
           "Switzerland"
          ],
          [
           "Norway"
          ],
          [
           "Lithuania"
          ],
          [
           "Tunisia"
          ],
          [
           "Sweden"
          ],
          [
           "Colombia"
          ],
          [
           "Mexico"
          ],
          [
           "Georgia"
          ],
          [
           "Ireland"
          ],
          [
           "Argentina"
          ],
          [
           "Serbia"
          ],
          [
           "Slovenia"
          ],
          [
           "Trinidad and Tobago"
          ],
          [
           "Turkey"
          ],
          [
           "Dominican Republic"
          ],
          [
           "Chinese Taipei"
          ],
          [
           "Latvia"
          ],
          [
           "Algeria"
          ],
          [
           "Bahamas"
          ],
          [
           "Bahrain"
          ],
          [
           "Grenada"
          ],
          [
           "Uganda"
          ],
          [
           "Venezuela"
          ],
          [
           "Egypt"
          ],
          [
           "India"
          ],
          [
           "Mongolia"
          ],
          [
           "Thailand"
          ],
          [
           "Bulgaria"
          ],
          [
           "Finland"
          ],
          [
           "Indonesia"
          ],
          [
           "Slovakia"
          ],
          [
           "Belgium"
          ],
          [
           "Armenia"
          ],
          [
           "Estonia"
          ],
          [
           "Malaysia"
          ],
          [
           "Puerto Rico"
          ],
          [
           "Qatar"
          ],
          [
           "Botswana"
          ],
          [
           "Cyprus"
          ],
          [
           "Gabon"
          ],
          [
           "Guatemala"
          ],
          [
           "Montenegro"
          ],
          [
           "Portugal"
          ],
          [
           "Uzbekistan"
          ],
          [
           "Greece"
          ],
          [
           "Singapore"
          ],
          [
           "Afghanistan"
          ],
          [
           "Cameroon"
          ],
          [
           "Hong Kong"
          ],
          [
           "Kuwait"
          ],
          [
           "Morocco"
          ],
          [
           "Saudi Arabia"
          ],
          [
           "Tajikistan"
          ],
          [
           "Vietnam"
          ],
          [
           "Zimbabwe"
          ],
          [
           "Panama"
          ],
          [
           "Nigeria"
          ],
          [
           "Austria"
          ],
          [
           "Kyrgyzstan"
          ],
          [
           "Chile"
          ],
          [
           "Ecuador"
          ],
          [
           "Iceland"
          ],
          [
           "Samoa"
          ],
          [
           "Sudan"
          ],
          [
           "Israel"
          ],
          [
           "Mauritius"
          ],
          [
           "Moldova"
          ],
          [
           "Togo"
          ],
          [
           "Ivory Coast"
          ],
          [
           "Fiji"
          ],
          [
           "Jordan"
          ],
          [
           "Kosovo"
          ],
          [
           "Burundi"
          ],
          [
           "Niger"
          ],
          [
           "Philippines"
          ],
          [
           "United Arab Emirates"
          ],
          [
           "Serbia and Montenegro"
          ],
          [
           "Paraguay"
          ],
          [
           "Eritrea"
          ],
          [
           "Syria"
          ]
         ],
         "hovertemplate": "Population (in thousands)=%{x}<br>GDP (per capita) in dollars=%{y}<br>NOC=%{customdata[0]}<extra></extra>",
         "legendgroup": "",
         "marker": {
          "color": "#636efa",
          "symbol": "circle"
         },
         "mode": "markers",
         "name": "",
         "orientation": "v",
         "showlegend": false,
         "type": "scatter",
         "x": [
          321369,
          1367486,
          64089,
          142424,
          49116,
          80855,
          66554,
          22752,
          61856,
          9898,
          126920,
          81825,
          16948,
          4439,
          44430,
          11032,
          48147,
          2951,
          10645,
          53676,
          24984,
          204260,
          18158,
          38563,
          99466,
          4465,
          35100,
          9590,
          45926,
          5582,
          21667,
          9781,
          8122,
          5208,
          2885,
          11038,
          9802,
          46737,
          121737,
          4932,
          4893,
          43432,
          7177,
          1984,
          1223,
          79415,
          10479,
          23416,
          1987,
          39543,
          325,
          1347,
          111,
          37102,
          29276,
          88488,
          1251696,
          2993,
          67977,
          7187,
          5477,
          255994,
          5446,
          11324,
          3057,
          1266,
          30514,
          3599,
          2195,
          2183,
          1190,
          1706,
          14919,
          648,
          10826,
          29200,
          10776,
          5675,
          32565,
          23740,
          7142,
          2789,
          33323,
          27753,
          8192,
          94349,
          14230,
          3658,
          181563,
          8666,
          5665,
          17509,
          15869,
          332,
          198,
          36109,
          8050,
          1340,
          3547,
          7553,
          23296,
          910,
          8118,
          1871,
          10743,
          18046,
          100999,
          5780,
          7825,
          6784,
          6528,
          17065
         ],
         "xaxis": "x",
         "y": [
          57840,
          13432,
          44121,
          24104,
          39567,
          50575,
          44422,
          48135,
          40231,
          27863,
          40641,
          13855,
          52441,
          39266,
          11216,
          7657,
          37310,
          9818,
          36137,
          13738,
          642,
          14326,
          23654,
          28321,
          2134,
          24876,
          46554,
          17787,
          4353,
          52160,
          24197,
          14448,
          68461,
          58736,
          30922,
          10269,
          50062,
          14352,
          19422,
          12855,
          71251,
          20308,
          15856,
          33947,
          26390,
          26514,
          16626,
          47272,
          26580,
          11543,
          35239,
          44834,
          15026,
          2359,
          14213,
          11616,
          5840,
          10524,
          16616,
          20091,
          44995,
          10619,
          29681,
          48680,
          10502,
          31310,
          24780,
          34300,
          84269,
          16639,
          35852,
          14490,
          7847,
          18198,
          31604,
          6856,
          27449,
          89417,
          2401,
          3405,
          56907,
          40844,
          7356,
          46423,
          3071,
          8316,
          2667,
          27829,
          5235,
          52660,
          4728,
          22752,
          11009,
          53943,
          5524,
          5569,
          37864,
          20701,
          10527,
          1954,
          4629,
          12563,
          9544,
          10028,
          794,
          1148,
          7789,
          65651,
          16049,
          11907,
          1701,
          6374
         ],
         "yaxis": "y"
        },
        {
         "hovertemplate": "<b>OLS trendline</b><br>GDP-2016 = -0.01271 * pop-2016 + 25617<br>R<sup>2</sup>=0.013319<br><br>Population (in thousands)=%{x}<br>GDP (per capita) in dollars=%{y} <b>(trend)</b><extra></extra>",
         "legendgroup": "",
         "marker": {
          "color": "#636efa",
          "symbol": "circle"
         },
         "mode": "lines",
         "name": "",
         "showlegend": false,
         "type": "scatter",
         "x": [
          111,
          198,
          325,
          332,
          648,
          910,
          1190,
          1223,
          1266,
          1340,
          1347,
          1706,
          1871,
          1984,
          1987,
          2183,
          2195,
          2789,
          2885,
          2951,
          2993,
          3057,
          3547,
          3599,
          3658,
          4439,
          4465,
          4893,
          4932,
          5208,
          5446,
          5477,
          5582,
          5665,
          5675,
          5780,
          6528,
          6784,
          7142,
          7177,
          7187,
          7553,
          7825,
          8050,
          8118,
          8122,
          8192,
          8666,
          9590,
          9781,
          9802,
          9898,
          10479,
          10645,
          10743,
          10776,
          10826,
          11032,
          11038,
          11324,
          14230,
          14919,
          15869,
          16948,
          17065,
          17509,
          18046,
          18158,
          21667,
          22752,
          23296,
          23416,
          23740,
          24984,
          27753,
          29200,
          29276,
          30514,
          32565,
          33323,
          35100,
          36109,
          37102,
          38563,
          39543,
          43432,
          44430,
          45926,
          46737,
          48147,
          49116,
          53676,
          61856,
          64089,
          66554,
          67977,
          79415,
          80855,
          81825,
          88488,
          94349,
          99466,
          100999,
          121737,
          126920,
          142424,
          181563,
          204260,
          255994,
          321369,
          1251696,
          1367486
         ],
         "xaxis": "x",
         "y": [
          25615.615080351316,
          25614.509309636753,
          25612.895138593656,
          25612.806168536164,
          25608.78980594074,
          25605.459783788843,
          25601.900981489103,
          25601.48155121806,
          25600.935020864887,
          25599.994480257097,
          25599.905510199605,
          25595.342617251008,
          25593.245465895805,
          25591.809234967695,
          25591.771104943055,
          25589.279943333237,
          25589.127423234677,
          25581.577678355945,
          25580.35751756746,
          25579.51865702538,
          25578.984836680418,
          25578.171396154765,
          25571.943492130216,
          25571.282571703123,
          25570.532681218534,
          25560.606164803903,
          25560.275704590356,
          25554.835821075038,
          25554.340130754717,
          25550.832168487832,
          25547.807186533053,
          25547.41317627844,
          25546.078625416034,
          25545.023694734326,
          25544.896594652193,
          25543.56204378979,
          25534.0549576462,
          25530.80119554358,
          25526.251012603196,
          25525.80616231573,
          25525.679062233598,
          25521.02719922751,
          25517.570076993474,
          25514.71032514547,
          25513.84604458696,
          25513.795204554106,
          25512.90550397917,
          25506.88096008604,
          25495.1369124969,
          25492.709300928145,
          25492.442390755667,
          25491.222229967185,
          25483.837715195223,
          25481.727853831806,
          25480.482273026897,
          25480.062842755855,
          25479.42734234519,
          25476.809080653235,
          25476.732820603956,
          25473.097758254935,
          25436.162474386918,
          25427.405278727914,
          25415.330770925226,
          25401.61667206301,
          25400.12960110205,
          25394.486357455316,
          25387.661083044746,
          25386.23756212485,
          25341.638143304175,
          25327.847784392685,
          25320.933539924616,
          25319.408338939014,
          25315.290296277886,
          25299.479046060467,
          25264.285033317683,
          25245.893651432954,
          25244.927690808738,
          25229.1927006406,
          25203.124473795004,
          25193.49028756928,
          25170.90460297414,
          25158.080204686863,
          25145.459166531,
          25126.889844531284,
          25114.434036482195,
          25065.004814540447,
          25052.320226343516,
          25033.30605405633,
          25022.9982373953,
          25005.077125814463,
          24992.76112785572,
          24934.80349040281,
          24830.835623217543,
          24802.454174877115,
          24771.124004631187,
          24753.03766294358,
          24607.660588999195,
          24589.35817717196,
          24577.029469205,
          24492.3426844794,
          24417.84932634091,
          24352.81221431316,
          24333.32777172208,
          24069.747621393468,
          24003.871648823635,
          23806.81568148374,
          23309.35867002113,
          23020.879613602552,
          22363.340048692702,
          21532.423261744443,
          9707.959450635997,
          8236.267599611307
         ],
         "yaxis": "y"
        }
       ],
       "layout": {
        "legend": {
         "tracegroupgap": 0
        },
        "template": {
         "data": {
          "bar": [
           {
            "error_x": {
             "color": "#2a3f5f"
            },
            "error_y": {
             "color": "#2a3f5f"
            },
            "marker": {
             "line": {
              "color": "#E5ECF6",
              "width": 0.5
             },
             "pattern": {
              "fillmode": "overlay",
              "size": 10,
              "solidity": 0.2
             }
            },
            "type": "bar"
           }
          ],
          "barpolar": [
           {
            "marker": {
             "line": {
              "color": "#E5ECF6",
              "width": 0.5
             },
             "pattern": {
              "fillmode": "overlay",
              "size": 10,
              "solidity": 0.2
             }
            },
            "type": "barpolar"
           }
          ],
          "carpet": [
           {
            "aaxis": {
             "endlinecolor": "#2a3f5f",
             "gridcolor": "white",
             "linecolor": "white",
             "minorgridcolor": "white",
             "startlinecolor": "#2a3f5f"
            },
            "baxis": {
             "endlinecolor": "#2a3f5f",
             "gridcolor": "white",
             "linecolor": "white",
             "minorgridcolor": "white",
             "startlinecolor": "#2a3f5f"
            },
            "type": "carpet"
           }
          ],
          "choropleth": [
           {
            "colorbar": {
             "outlinewidth": 0,
             "ticks": ""
            },
            "type": "choropleth"
           }
          ],
          "contour": [
           {
            "colorbar": {
             "outlinewidth": 0,
             "ticks": ""
            },
            "colorscale": [
             [
              0,
              "#0d0887"
             ],
             [
              0.1111111111111111,
              "#46039f"
             ],
             [
              0.2222222222222222,
              "#7201a8"
             ],
             [
              0.3333333333333333,
              "#9c179e"
             ],
             [
              0.4444444444444444,
              "#bd3786"
             ],
             [
              0.5555555555555556,
              "#d8576b"
             ],
             [
              0.6666666666666666,
              "#ed7953"
             ],
             [
              0.7777777777777778,
              "#fb9f3a"
             ],
             [
              0.8888888888888888,
              "#fdca26"
             ],
             [
              1,
              "#f0f921"
             ]
            ],
            "type": "contour"
           }
          ],
          "contourcarpet": [
           {
            "colorbar": {
             "outlinewidth": 0,
             "ticks": ""
            },
            "type": "contourcarpet"
           }
          ],
          "heatmap": [
           {
            "colorbar": {
             "outlinewidth": 0,
             "ticks": ""
            },
            "colorscale": [
             [
              0,
              "#0d0887"
             ],
             [
              0.1111111111111111,
              "#46039f"
             ],
             [
              0.2222222222222222,
              "#7201a8"
             ],
             [
              0.3333333333333333,
              "#9c179e"
             ],
             [
              0.4444444444444444,
              "#bd3786"
             ],
             [
              0.5555555555555556,
              "#d8576b"
             ],
             [
              0.6666666666666666,
              "#ed7953"
             ],
             [
              0.7777777777777778,
              "#fb9f3a"
             ],
             [
              0.8888888888888888,
              "#fdca26"
             ],
             [
              1,
              "#f0f921"
             ]
            ],
            "type": "heatmap"
           }
          ],
          "heatmapgl": [
           {
            "colorbar": {
             "outlinewidth": 0,
             "ticks": ""
            },
            "colorscale": [
             [
              0,
              "#0d0887"
             ],
             [
              0.1111111111111111,
              "#46039f"
             ],
             [
              0.2222222222222222,
              "#7201a8"
             ],
             [
              0.3333333333333333,
              "#9c179e"
             ],
             [
              0.4444444444444444,
              "#bd3786"
             ],
             [
              0.5555555555555556,
              "#d8576b"
             ],
             [
              0.6666666666666666,
              "#ed7953"
             ],
             [
              0.7777777777777778,
              "#fb9f3a"
             ],
             [
              0.8888888888888888,
              "#fdca26"
             ],
             [
              1,
              "#f0f921"
             ]
            ],
            "type": "heatmapgl"
           }
          ],
          "histogram": [
           {
            "marker": {
             "pattern": {
              "fillmode": "overlay",
              "size": 10,
              "solidity": 0.2
             }
            },
            "type": "histogram"
           }
          ],
          "histogram2d": [
           {
            "colorbar": {
             "outlinewidth": 0,
             "ticks": ""
            },
            "colorscale": [
             [
              0,
              "#0d0887"
             ],
             [
              0.1111111111111111,
              "#46039f"
             ],
             [
              0.2222222222222222,
              "#7201a8"
             ],
             [
              0.3333333333333333,
              "#9c179e"
             ],
             [
              0.4444444444444444,
              "#bd3786"
             ],
             [
              0.5555555555555556,
              "#d8576b"
             ],
             [
              0.6666666666666666,
              "#ed7953"
             ],
             [
              0.7777777777777778,
              "#fb9f3a"
             ],
             [
              0.8888888888888888,
              "#fdca26"
             ],
             [
              1,
              "#f0f921"
             ]
            ],
            "type": "histogram2d"
           }
          ],
          "histogram2dcontour": [
           {
            "colorbar": {
             "outlinewidth": 0,
             "ticks": ""
            },
            "colorscale": [
             [
              0,
              "#0d0887"
             ],
             [
              0.1111111111111111,
              "#46039f"
             ],
             [
              0.2222222222222222,
              "#7201a8"
             ],
             [
              0.3333333333333333,
              "#9c179e"
             ],
             [
              0.4444444444444444,
              "#bd3786"
             ],
             [
              0.5555555555555556,
              "#d8576b"
             ],
             [
              0.6666666666666666,
              "#ed7953"
             ],
             [
              0.7777777777777778,
              "#fb9f3a"
             ],
             [
              0.8888888888888888,
              "#fdca26"
             ],
             [
              1,
              "#f0f921"
             ]
            ],
            "type": "histogram2dcontour"
           }
          ],
          "mesh3d": [
           {
            "colorbar": {
             "outlinewidth": 0,
             "ticks": ""
            },
            "type": "mesh3d"
           }
          ],
          "parcoords": [
           {
            "line": {
             "colorbar": {
              "outlinewidth": 0,
              "ticks": ""
             }
            },
            "type": "parcoords"
           }
          ],
          "pie": [
           {
            "automargin": true,
            "type": "pie"
           }
          ],
          "scatter": [
           {
            "marker": {
             "colorbar": {
              "outlinewidth": 0,
              "ticks": ""
             }
            },
            "type": "scatter"
           }
          ],
          "scatter3d": [
           {
            "line": {
             "colorbar": {
              "outlinewidth": 0,
              "ticks": ""
             }
            },
            "marker": {
             "colorbar": {
              "outlinewidth": 0,
              "ticks": ""
             }
            },
            "type": "scatter3d"
           }
          ],
          "scattercarpet": [
           {
            "marker": {
             "colorbar": {
              "outlinewidth": 0,
              "ticks": ""
             }
            },
            "type": "scattercarpet"
           }
          ],
          "scattergeo": [
           {
            "marker": {
             "colorbar": {
              "outlinewidth": 0,
              "ticks": ""
             }
            },
            "type": "scattergeo"
           }
          ],
          "scattergl": [
           {
            "marker": {
             "colorbar": {
              "outlinewidth": 0,
              "ticks": ""
             }
            },
            "type": "scattergl"
           }
          ],
          "scattermapbox": [
           {
            "marker": {
             "colorbar": {
              "outlinewidth": 0,
              "ticks": ""
             }
            },
            "type": "scattermapbox"
           }
          ],
          "scatterpolar": [
           {
            "marker": {
             "colorbar": {
              "outlinewidth": 0,
              "ticks": ""
             }
            },
            "type": "scatterpolar"
           }
          ],
          "scatterpolargl": [
           {
            "marker": {
             "colorbar": {
              "outlinewidth": 0,
              "ticks": ""
             }
            },
            "type": "scatterpolargl"
           }
          ],
          "scatterternary": [
           {
            "marker": {
             "colorbar": {
              "outlinewidth": 0,
              "ticks": ""
             }
            },
            "type": "scatterternary"
           }
          ],
          "surface": [
           {
            "colorbar": {
             "outlinewidth": 0,
             "ticks": ""
            },
            "colorscale": [
             [
              0,
              "#0d0887"
             ],
             [
              0.1111111111111111,
              "#46039f"
             ],
             [
              0.2222222222222222,
              "#7201a8"
             ],
             [
              0.3333333333333333,
              "#9c179e"
             ],
             [
              0.4444444444444444,
              "#bd3786"
             ],
             [
              0.5555555555555556,
              "#d8576b"
             ],
             [
              0.6666666666666666,
              "#ed7953"
             ],
             [
              0.7777777777777778,
              "#fb9f3a"
             ],
             [
              0.8888888888888888,
              "#fdca26"
             ],
             [
              1,
              "#f0f921"
             ]
            ],
            "type": "surface"
           }
          ],
          "table": [
           {
            "cells": {
             "fill": {
              "color": "#EBF0F8"
             },
             "line": {
              "color": "white"
             }
            },
            "header": {
             "fill": {
              "color": "#C8D4E3"
             },
             "line": {
              "color": "white"
             }
            },
            "type": "table"
           }
          ]
         },
         "layout": {
          "annotationdefaults": {
           "arrowcolor": "#2a3f5f",
           "arrowhead": 0,
           "arrowwidth": 1
          },
          "autotypenumbers": "strict",
          "coloraxis": {
           "colorbar": {
            "outlinewidth": 0,
            "ticks": ""
           }
          },
          "colorscale": {
           "diverging": [
            [
             0,
             "#8e0152"
            ],
            [
             0.1,
             "#c51b7d"
            ],
            [
             0.2,
             "#de77ae"
            ],
            [
             0.3,
             "#f1b6da"
            ],
            [
             0.4,
             "#fde0ef"
            ],
            [
             0.5,
             "#f7f7f7"
            ],
            [
             0.6,
             "#e6f5d0"
            ],
            [
             0.7,
             "#b8e186"
            ],
            [
             0.8,
             "#7fbc41"
            ],
            [
             0.9,
             "#4d9221"
            ],
            [
             1,
             "#276419"
            ]
           ],
           "sequential": [
            [
             0,
             "#0d0887"
            ],
            [
             0.1111111111111111,
             "#46039f"
            ],
            [
             0.2222222222222222,
             "#7201a8"
            ],
            [
             0.3333333333333333,
             "#9c179e"
            ],
            [
             0.4444444444444444,
             "#bd3786"
            ],
            [
             0.5555555555555556,
             "#d8576b"
            ],
            [
             0.6666666666666666,
             "#ed7953"
            ],
            [
             0.7777777777777778,
             "#fb9f3a"
            ],
            [
             0.8888888888888888,
             "#fdca26"
            ],
            [
             1,
             "#f0f921"
            ]
           ],
           "sequentialminus": [
            [
             0,
             "#0d0887"
            ],
            [
             0.1111111111111111,
             "#46039f"
            ],
            [
             0.2222222222222222,
             "#7201a8"
            ],
            [
             0.3333333333333333,
             "#9c179e"
            ],
            [
             0.4444444444444444,
             "#bd3786"
            ],
            [
             0.5555555555555556,
             "#d8576b"
            ],
            [
             0.6666666666666666,
             "#ed7953"
            ],
            [
             0.7777777777777778,
             "#fb9f3a"
            ],
            [
             0.8888888888888888,
             "#fdca26"
            ],
            [
             1,
             "#f0f921"
            ]
           ]
          },
          "colorway": [
           "#636efa",
           "#EF553B",
           "#00cc96",
           "#ab63fa",
           "#FFA15A",
           "#19d3f3",
           "#FF6692",
           "#B6E880",
           "#FF97FF",
           "#FECB52"
          ],
          "font": {
           "color": "#2a3f5f"
          },
          "geo": {
           "bgcolor": "white",
           "lakecolor": "white",
           "landcolor": "#E5ECF6",
           "showlakes": true,
           "showland": true,
           "subunitcolor": "white"
          },
          "hoverlabel": {
           "align": "left"
          },
          "hovermode": "closest",
          "mapbox": {
           "style": "light"
          },
          "paper_bgcolor": "white",
          "plot_bgcolor": "#E5ECF6",
          "polar": {
           "angularaxis": {
            "gridcolor": "white",
            "linecolor": "white",
            "ticks": ""
           },
           "bgcolor": "#E5ECF6",
           "radialaxis": {
            "gridcolor": "white",
            "linecolor": "white",
            "ticks": ""
           }
          },
          "scene": {
           "xaxis": {
            "backgroundcolor": "#E5ECF6",
            "gridcolor": "white",
            "gridwidth": 2,
            "linecolor": "white",
            "showbackground": true,
            "ticks": "",
            "zerolinecolor": "white"
           },
           "yaxis": {
            "backgroundcolor": "#E5ECF6",
            "gridcolor": "white",
            "gridwidth": 2,
            "linecolor": "white",
            "showbackground": true,
            "ticks": "",
            "zerolinecolor": "white"
           },
           "zaxis": {
            "backgroundcolor": "#E5ECF6",
            "gridcolor": "white",
            "gridwidth": 2,
            "linecolor": "white",
            "showbackground": true,
            "ticks": "",
            "zerolinecolor": "white"
           }
          },
          "shapedefaults": {
           "line": {
            "color": "#2a3f5f"
           }
          },
          "ternary": {
           "aaxis": {
            "gridcolor": "white",
            "linecolor": "white",
            "ticks": ""
           },
           "baxis": {
            "gridcolor": "white",
            "linecolor": "white",
            "ticks": ""
           },
           "bgcolor": "#E5ECF6",
           "caxis": {
            "gridcolor": "white",
            "linecolor": "white",
            "ticks": ""
           }
          },
          "title": {
           "x": 0.05
          },
          "xaxis": {
           "automargin": true,
           "gridcolor": "white",
           "linecolor": "white",
           "ticks": "",
           "title": {
            "standoff": 15
           },
           "zerolinecolor": "white",
           "zerolinewidth": 2
          },
          "yaxis": {
           "automargin": true,
           "gridcolor": "white",
           "linecolor": "white",
           "ticks": "",
           "title": {
            "standoff": 15
           },
           "zerolinecolor": "white",
           "zerolinewidth": 2
          }
         }
        },
        "title": {
         "text": "GDP (per capita) vs population in 2016"
        },
        "xaxis": {
         "anchor": "y",
         "domain": [
          0,
          1
         ],
         "title": {
          "text": "Population (in thousands)"
         }
        },
        "yaxis": {
         "anchor": "x",
         "domain": [
          0,
          1
         ],
         "title": {
          "text": "GDP (per capita) in dollars"
         }
        }
       }
      }
     },
     "metadata": {},
     "output_type": "display_data"
    }
   ],
   "source": [
    "context_plot(olympics_dataframe, \"2004\")\n",
    "context_plot(olympics_dataframe, \"2008\")\n",
    "context_plot(olympics_dataframe, \"2012\")\n",
    "context_plot(olympics_dataframe, \"2016\")"
   ]
  }
 ],
 "metadata": {
  "interpreter": {
   "hash": "215e38ef8319e1cae6b3dde5700c3b8f4291d7f7fc9767af33ad694aef458a78"
  },
  "kernelspec": {
   "display_name": "Python 3.9.7 ('base')",
   "language": "python",
   "name": "python3"
  },
  "language_info": {
   "codemirror_mode": {
    "name": "ipython",
    "version": 3
   },
   "file_extension": ".py",
   "mimetype": "text/x-python",
   "name": "python",
   "nbconvert_exporter": "python",
   "pygments_lexer": "ipython3",
   "version": "3.9.7"
  },
  "orig_nbformat": 4
 },
 "nbformat": 4,
 "nbformat_minor": 2
}
