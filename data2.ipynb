{
 "cells": [
  {
   "cell_type": "code",
   "execution_count": 1,
   "id": "19dda961-d745-4ffa-9ff8-620c200a9e03",
   "metadata": {},
   "outputs": [],
   "source": [
    "# Run the code below each time the notebook is started or restarted to ensure\n",
    "# that if you change any code in the library, this notebook will use the latest\n",
    "# version of the library code.\n",
    "%load_ext autoreload\n",
    "%autoreload 2\n",
    "\n",
    "# contains scraping and cleaning functions\n",
    "from helpers import *\n",
    "# setting display settings so that the maximum amount of data will show\n",
    "pd.set_option('display.max_rows', None)\n",
    "pd.set_option('display.max_columns', None)\n",
    "pd.set_option('display.width', None)\n",
    "pd.set_option('display.max_colwidth', None)"
   ]
  },
  {
   "cell_type": "code",
   "execution_count": 6,
   "id": "128d4121-8f24-4334-94e8-a892aa84eb93",
   "metadata": {},
   "outputs": [],
   "source": [
    "# scrape_population_data(\"population1.csv\")"
   ]
  },
  {
   "cell_type": "code",
   "execution_count": 5,
   "id": "e30b5776-d211-4545-8d1b-a9a9b9016e10",
   "metadata": {},
   "outputs": [],
   "source": [
    "population = clean_population_data(\"population1.csv\")"
   ]
  },
  {
   "cell_type": "code",
   "execution_count": 8,
   "id": "0638b14d-d5a7-4f79-b609-53a4fec8c61e",
   "metadata": {},
   "outputs": [],
   "source": [
    "# scrape_gdp_data(\"gdp1.csv\")"
   ]
  },
  {
   "cell_type": "code",
   "execution_count": 10,
   "id": "7bf37bd8-bc64-4cde-abb0-6f503762700d",
   "metadata": {},
   "outputs": [],
   "source": [
    "gdp = clean_gdp_data(\"gdp1.csv\")"
   ]
  }
 ],
 "metadata": {
  "kernelspec": {
   "display_name": "Python 3 (ipykernel)",
   "language": "python",
   "name": "python3"
  },
  "language_info": {
   "codemirror_mode": {
    "name": "ipython",
    "version": 3
   },
   "file_extension": ".py",
   "mimetype": "text/x-python",
   "name": "python",
   "nbconvert_exporter": "python",
   "pygments_lexer": "ipython3",
   "version": "3.9.7"
  }
 },
 "nbformat": 4,
 "nbformat_minor": 5
}
