{
 "cells": [
  {
   "cell_type": "code",
   "execution_count": null,
   "metadata": {},
   "outputs": [],
   "source": [
    "%load_ext autoreload\n",
    "%autoreload 2"
   ]
  },
  {
   "cell_type": "code",
   "execution_count": null,
   "metadata": {},
   "outputs": [],
   "source": [
    "import statsmodels.formula.api as smf\n",
    "import pandas as pd\n",
    "from vis_helpers import *\n",
    "from helpers import *\n",
    "olympics_dataframe = pd.read_csv(\"data/olympic_gdp_population_data_no_nans.csv\")\n",
    "athletes_2004 = pd.read_csv(\"data/athletes-2004.csv\")\n",
    "athletes_2004.rename(columns = {\"Athletes\" : \"Athletes-2004\"}, inplace = True)\n",
    "athletes_2008 = pd.read_csv(\"data/athletes-2008.csv\")\n",
    "athletes_2008.rename(columns = {\"Athletes\" : \"Athletes-2008\"}, inplace = True)\n",
    "athletes_2012 = pd.read_csv(\"data/athletes-2012.csv\")\n",
    "athletes_2012.rename(columns = {\"Athletes\" : \"Athletes-2012\"}, inplace = True)\n",
    "athletes_2016 = pd.read_csv(\"data/athletes-2016.csv\")\n",
    "athletes_2016.rename(columns = {\"Athletes\" : \"Athletes-2016\"}, inplace = True)\n",
    "\n",
    "olympics_dataframe = olympics_dataframe.merge(athletes_2004, how=\"inner\",left_on=\"Country\", right_on=\"Country\")\n",
    "olympics_dataframe = olympics_dataframe.merge(athletes_2008, how=\"inner\",left_on=\"Country\", right_on=\"Country\")\n",
    "olympics_dataframe = olympics_dataframe.merge(athletes_2012, how=\"inner\",left_on=\"Country\", right_on=\"Country\")\n",
    "olympics_dataframe = olympics_dataframe.merge(athletes_2016, how=\"inner\",left_on=\"Country\", right_on=\"Country\")\n",
    "od = pivot(olympics_dataframe)\n",
    "oad = average_data(olympics_dataframe)"
   ]
  },
  {
   "cell_type": "code",
   "execution_count": null,
   "metadata": {},
   "outputs": [],
   "source": [
    "model_check(od, \"Total ~ GDP + Pop\")"
   ]
  },
  {
   "cell_type": "code",
   "execution_count": null,
   "metadata": {},
   "outputs": [],
   "source": [
    "model_check(od, \"Total ~ GDP\")"
   ]
  },
  {
   "cell_type": "code",
   "execution_count": null,
   "metadata": {},
   "outputs": [],
   "source": [
    "model_check(od, \"Total ~ Pop\")"
   ]
  },
  {
   "cell_type": "code",
   "execution_count": null,
   "metadata": {},
   "outputs": [],
   "source": [
    "model_check(oad, \"Q('Average Total') ~ Q('Average Pop')\")"
   ]
  },
  {
   "cell_type": "code",
   "execution_count": null,
   "metadata": {},
   "outputs": [],
   "source": [
    "model_check(oad, \"Q('Average Total') ~ Q('Average Pop') + Q('Average GDP')\")"
   ]
  },
  {
   "cell_type": "code",
   "execution_count": null,
   "metadata": {},
   "outputs": [],
   "source": [
    "model_check(oad, \"Q('Average Total') ~ Q('Average GDP')\")"
   ]
  }
 ],
 "metadata": {
  "interpreter": {
   "hash": "215e38ef8319e1cae6b3dde5700c3b8f4291d7f7fc9767af33ad694aef458a78"
  },
  "kernelspec": {
   "display_name": "Python 3.9.7 ('base')",
   "language": "python",
   "name": "python3"
  },
  "language_info": {
   "codemirror_mode": {
    "name": "ipython",
    "version": 3
   },
   "file_extension": ".py",
   "mimetype": "text/x-python",
   "name": "python",
   "nbconvert_exporter": "python",
   "pygments_lexer": "ipython3",
   "version": "3.9.7"
  },
  "orig_nbformat": 4
 },
 "nbformat": 4,
 "nbformat_minor": 2
}
