{
 "cells": [
  {
   "cell_type": "code",
   "execution_count": 6,
   "metadata": {},
   "outputs": [
    {
     "name": "stdout",
     "output_type": "stream",
     "text": [
      "The autoreload extension is already loaded. To reload it, use:\n",
      "  %reload_ext autoreload\n"
     ]
    }
   ],
   "source": [
    "%load_ext autoreload\n",
    "%autoreload 2"
   ]
  },
  {
   "cell_type": "code",
   "execution_count": 15,
   "metadata": {},
   "outputs": [],
   "source": [
    "import statsmodels.formula.api as smf\n",
    "import pandas as pd\n",
    "from vis_helpers import *\n",
    "from helpers import *\n",
    "olympics_dataframe = pd.read_csv(\"data/olympic_gdp_population_data_no_nans.csv\")\n",
    "athletes_2004 = pd.read_csv(\"data/athletes-2004.csv\")\n",
    "athletes_2004.rename(columns = {\"Athletes\" : \"Athletes-2004\"}, inplace = True)\n",
    "athletes_2008 = pd.read_csv(\"data/athletes-2008.csv\")\n",
    "athletes_2008.rename(columns = {\"Athletes\" : \"Athletes-2008\"}, inplace = True)\n",
    "athletes_2012 = pd.read_csv(\"data/athletes-2012.csv\")\n",
    "athletes_2012.rename(columns = {\"Athletes\" : \"Athletes-2012\"}, inplace = True)\n",
    "athletes_2016 = pd.read_csv(\"data/athletes-2016.csv\")\n",
    "athletes_2016.rename(columns = {\"Athletes\" : \"Athletes-2016\"}, inplace = True)\n",
    "\n",
    "olympics_dataframe = olympics_dataframe.merge(athletes_2004, how=\"inner\",left_on=\"Country\", right_on=\"Country\")\n",
    "olympics_dataframe = olympics_dataframe.merge(athletes_2008, how=\"inner\",left_on=\"Country\", right_on=\"Country\")\n",
    "olympics_dataframe = olympics_dataframe.merge(athletes_2012, how=\"inner\",left_on=\"Country\", right_on=\"Country\")\n",
    "olympics_dataframe = olympics_dataframe.merge(athletes_2016, how=\"inner\",left_on=\"Country\", right_on=\"Country\")\n",
    "od = pivot(olympics_dataframe)\n",
    "oad = average_data(olympics_dataframe)"
   ]
  },
  {
   "cell_type": "code",
   "execution_count": 8,
   "metadata": {},
   "outputs": [
    {
     "name": "stdout",
     "output_type": "stream",
     "text": [
      "                            OLS Regression Results                            \n",
      "==============================================================================\n",
      "Dep. Variable:                  Total   R-squared:                       0.273\n",
      "Model:                            OLS   Adj. R-squared:                  0.267\n",
      "Method:                 Least Squares   F-statistic:                     45.30\n",
      "Date:                Sun, 03 Apr 2022   Prob (F-statistic):           2.00e-17\n",
      "Time:                        15:26:05   Log-Likelihood:                -1044.8\n",
      "No. Observations:                 244   AIC:                             2096.\n",
      "Df Residuals:                     241   BIC:                             2106.\n",
      "Df Model:                           2                                         \n",
      "Covariance Type:            nonrobust                                         \n",
      "==============================================================================\n",
      "                 coef    std err          t      P>|t|      [0.025      0.975]\n",
      "------------------------------------------------------------------------------\n",
      "Intercept      0.2543      2.235      0.114      0.910      -4.148       4.657\n",
      "GDP            0.0005   7.66e-05      6.205      0.000       0.000       0.001\n",
      "Pop         4.275e-05   5.14e-06      8.312      0.000    3.26e-05    5.29e-05\n",
      "==============================================================================\n",
      "Omnibus:                       95.727   Durbin-Watson:                   0.614\n",
      "Prob(Omnibus):                  0.000   Jarque-Bera (JB):              444.783\n",
      "Skew:                           1.526   Prob(JB):                     2.61e-97\n",
      "Kurtosis:                       8.868   Cond. No.                     4.73e+05\n",
      "==============================================================================\n",
      "\n",
      "Notes:\n",
      "[1] Standard Errors assume that the covariance matrix of the errors is correctly specified.\n",
      "[2] The condition number is large, 4.73e+05. This might indicate that there are\n",
      "strong multicollinearity or other numerical problems.\n"
     ]
    }
   ],
   "source": [
    "model_check(od, \"Total ~ GDP + Pop\")"
   ]
  },
  {
   "cell_type": "code",
   "execution_count": 13,
   "metadata": {},
   "outputs": [
    {
     "name": "stdout",
     "output_type": "stream",
     "text": [
      "                            OLS Regression Results                            \n",
      "==============================================================================\n",
      "Dep. Variable:                  Total   R-squared:                       0.065\n",
      "Model:                            OLS   Adj. R-squared:                  0.061\n",
      "Method:                 Least Squares   F-statistic:                     16.78\n",
      "Date:                Sun, 03 Apr 2022   Prob (F-statistic):           5.72e-05\n",
      "Time:                        15:26:55   Log-Likelihood:                -1075.5\n",
      "No. Observations:                 244   AIC:                             2155.\n",
      "Df Residuals:                     242   BIC:                             2162.\n",
      "Df Model:                           1                                         \n",
      "Covariance Type:            nonrobust                                         \n",
      "==============================================================================\n",
      "                 coef    std err          t      P>|t|      [0.025      0.975]\n",
      "------------------------------------------------------------------------------\n",
      "Intercept      6.7877      2.368      2.866      0.005       2.123      11.453\n",
      "GDP            0.0003   8.49e-05      4.097      0.000       0.000       0.001\n",
      "==============================================================================\n",
      "Omnibus:                      155.206   Durbin-Watson:                   0.586\n",
      "Prob(Omnibus):                  0.000   Jarque-Bera (JB):              936.780\n",
      "Skew:                           2.639   Prob(JB):                    3.81e-204\n",
      "Kurtosis:                      11.018   Cond. No.                     5.17e+04\n",
      "==============================================================================\n",
      "\n",
      "Notes:\n",
      "[1] Standard Errors assume that the covariance matrix of the errors is correctly specified.\n",
      "[2] The condition number is large, 5.17e+04. This might indicate that there are\n",
      "strong multicollinearity or other numerical problems.\n"
     ]
    }
   ],
   "source": [
    "model_check(od, \"Total ~ GDP\")"
   ]
  },
  {
   "cell_type": "code",
   "execution_count": 14,
   "metadata": {},
   "outputs": [
    {
     "name": "stdout",
     "output_type": "stream",
     "text": [
      "                            OLS Regression Results                            \n",
      "==============================================================================\n",
      "Dep. Variable:                  Total   R-squared:                       0.157\n",
      "Model:                            OLS   Adj. R-squared:                  0.154\n",
      "Method:                 Least Squares   F-statistic:                     45.11\n",
      "Date:                Sun, 03 Apr 2022   Prob (F-statistic):           1.32e-10\n",
      "Time:                        15:27:07   Log-Likelihood:                -1062.8\n",
      "No. Observations:                 244   AIC:                             2130.\n",
      "Df Residuals:                     242   BIC:                             2137.\n",
      "Df Model:                           1                                         \n",
      "Covariance Type:            nonrobust                                         \n",
      "==============================================================================\n",
      "                 coef    std err          t      P>|t|      [0.025      0.975]\n",
      "------------------------------------------------------------------------------\n",
      "Intercept     11.9411      1.293      9.236      0.000       9.394      14.488\n",
      "Pop         3.637e-05   5.42e-06      6.716      0.000    2.57e-05     4.7e-05\n",
      "==============================================================================\n",
      "Omnibus:                      128.941   Durbin-Watson:                   0.610\n",
      "Prob(Omnibus):                  0.000   Jarque-Bera (JB):              781.670\n",
      "Skew:                           2.061   Prob(JB):                    1.83e-170\n",
      "Kurtosis:                      10.739   Cond. No.                     2.55e+05\n",
      "==============================================================================\n",
      "\n",
      "Notes:\n",
      "[1] Standard Errors assume that the covariance matrix of the errors is correctly specified.\n",
      "[2] The condition number is large, 2.55e+05. This might indicate that there are\n",
      "strong multicollinearity or other numerical problems.\n"
     ]
    }
   ],
   "source": [
    "model_check(od, \"Total ~ Pop\")"
   ]
  },
  {
   "cell_type": "code",
   "execution_count": 17,
   "metadata": {},
   "outputs": [
    {
     "name": "stdout",
     "output_type": "stream",
     "text": [
      "                            OLS Regression Results                            \n",
      "==============================================================================\n",
      "Dep. Variable:     Q('Average Total')   R-squared:                       0.165\n",
      "Model:                            OLS   Adj. R-squared:                  0.150\n",
      "Method:                 Least Squares   F-statistic:                     11.63\n",
      "Date:                Sun, 03 Apr 2022   Prob (F-statistic):            0.00118\n",
      "Time:                        15:31:00   Log-Likelihood:                -263.94\n",
      "No. Observations:                  61   AIC:                             531.9\n",
      "Df Residuals:                      59   BIC:                             536.1\n",
      "Df Model:                           1                                         \n",
      "Covariance Type:            nonrobust                                         \n",
      "====================================================================================\n",
      "                       coef    std err          t      P>|t|      [0.025      0.975]\n",
      "------------------------------------------------------------------------------------\n",
      "Intercept           11.9429      2.544      4.695      0.000       6.853      17.033\n",
      "Q('Average Pop')  3.635e-08   1.07e-08      3.410      0.001     1.5e-08    5.77e-08\n",
      "==============================================================================\n",
      "Omnibus:                       44.912   Durbin-Watson:                   0.585\n",
      "Prob(Omnibus):                  0.000   Jarque-Bera (JB):              194.970\n",
      "Skew:                           2.013   Prob(JB):                     4.60e-43\n",
      "Kurtosis:                      10.779   Cond. No.                     2.54e+08\n",
      "==============================================================================\n",
      "\n",
      "Notes:\n",
      "[1] Standard Errors assume that the covariance matrix of the errors is correctly specified.\n",
      "[2] The condition number is large, 2.54e+08. This might indicate that there are\n",
      "strong multicollinearity or other numerical problems.\n"
     ]
    }
   ],
   "source": [
    "model_check(oad, \"Q('Average Total') ~ Q('Average Pop')\")"
   ]
  },
  {
   "cell_type": "code",
   "execution_count": 18,
   "metadata": {},
   "outputs": [
    {
     "name": "stdout",
     "output_type": "stream",
     "text": [
      "                            OLS Regression Results                            \n",
      "==============================================================================\n",
      "Dep. Variable:     Q('Average Total')   R-squared:                       0.296\n",
      "Model:                            OLS   Adj. R-squared:                  0.271\n",
      "Method:                 Least Squares   F-statistic:                     12.18\n",
      "Date:                Sun, 03 Apr 2022   Prob (F-statistic):           3.84e-05\n",
      "Time:                        15:31:34   Log-Likelihood:                -258.73\n",
      "No. Observations:                  61   AIC:                             523.5\n",
      "Df Residuals:                      58   BIC:                             529.8\n",
      "Df Model:                           2                                         \n",
      "Covariance Type:            nonrobust                                         \n",
      "====================================================================================\n",
      "                       coef    std err          t      P>|t|      [0.025      0.975]\n",
      "------------------------------------------------------------------------------------\n",
      "Intercept           -0.6475      4.498     -0.144      0.886      -9.651       8.356\n",
      "Q('Average Pop')  4.328e-08   1.01e-08      4.287      0.000    2.31e-08    6.35e-08\n",
      "Q('Average GDP')     0.0005      0.000      3.286      0.002       0.000       0.001\n",
      "==============================================================================\n",
      "Omnibus:                       30.514   Durbin-Watson:                   0.812\n",
      "Prob(Omnibus):                  0.000   Jarque-Bera (JB):               96.542\n",
      "Skew:                           1.357   Prob(JB):                     1.09e-21\n",
      "Kurtosis:                       8.534   Cond. No.                     4.86e+08\n",
      "==============================================================================\n",
      "\n",
      "Notes:\n",
      "[1] Standard Errors assume that the covariance matrix of the errors is correctly specified.\n",
      "[2] The condition number is large, 4.86e+08. This might indicate that there are\n",
      "strong multicollinearity or other numerical problems.\n"
     ]
    }
   ],
   "source": [
    "model_check(oad, \"Q('Average Total') ~ Q('Average Pop') + Q('Average GDP')\")"
   ]
  },
  {
   "cell_type": "code",
   "execution_count": 19,
   "metadata": {},
   "outputs": [
    {
     "name": "stdout",
     "output_type": "stream",
     "text": [
      "                            OLS Regression Results                            \n",
      "==============================================================================\n",
      "Dep. Variable:     Q('Average Total')   R-squared:                       0.073\n",
      "Model:                            OLS   Adj. R-squared:                  0.057\n",
      "Method:                 Least Squares   F-statistic:                     4.616\n",
      "Date:                Sun, 03 Apr 2022   Prob (F-statistic):             0.0358\n",
      "Time:                        15:31:54   Log-Likelihood:                -267.13\n",
      "No. Observations:                  61   AIC:                             538.3\n",
      "Df Residuals:                      59   BIC:                             542.5\n",
      "Df Model:                           1                                         \n",
      "Covariance Type:            nonrobust                                         \n",
      "====================================================================================\n",
      "                       coef    std err          t      P>|t|      [0.025      0.975]\n",
      "------------------------------------------------------------------------------------\n",
      "Intercept            6.2174      4.782      1.300      0.199      -3.352      15.787\n",
      "Q('Average GDP')     0.0004      0.000      2.148      0.036    2.55e-05       0.001\n",
      "==============================================================================\n",
      "Omnibus:                       52.659   Durbin-Watson:                   0.339\n",
      "Prob(Omnibus):                  0.000   Jarque-Bera (JB):              210.601\n",
      "Skew:                           2.573   Prob(JB):                     1.86e-46\n",
      "Kurtosis:                      10.509   Cond. No.                     5.25e+04\n",
      "==============================================================================\n",
      "\n",
      "Notes:\n",
      "[1] Standard Errors assume that the covariance matrix of the errors is correctly specified.\n",
      "[2] The condition number is large, 5.25e+04. This might indicate that there are\n",
      "strong multicollinearity or other numerical problems.\n"
     ]
    }
   ],
   "source": [
    "model_check(oad, \"Q('Average Total') ~ Q('Average GDP')\")"
   ]
  }
 ],
 "metadata": {
  "interpreter": {
   "hash": "215e38ef8319e1cae6b3dde5700c3b8f4291d7f7fc9767af33ad694aef458a78"
  },
  "kernelspec": {
   "display_name": "Python 3.9.7 ('base')",
   "language": "python",
   "name": "python3"
  },
  "language_info": {
   "codemirror_mode": {
    "name": "ipython",
    "version": 3
   },
   "file_extension": ".py",
   "mimetype": "text/x-python",
   "name": "python",
   "nbconvert_exporter": "python",
   "pygments_lexer": "ipython3",
   "version": "3.9.7"
  },
  "orig_nbformat": 4
 },
 "nbformat": 4,
 "nbformat_minor": 2
}
