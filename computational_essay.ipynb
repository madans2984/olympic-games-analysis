{
 "cells": [
  {
   "cell_type": "markdown",
   "id": "12a064df-98eb-40c0-92d4-67b40dbddefa",
   "metadata": {},
   "source": [
    "# Is Success in the Olympic Games More Dependent on a Country's GDP or Population?\n",
    "\n",
    "Authors: Jules Brettle, Shree Madan, Anusha Karandikar"
   ]
  },
  {
   "cell_type": "markdown",
   "id": "ddddb91e-8aeb-4347-b780-0fbad36252f3",
   "metadata": {},
   "source": [
    "## 0. Question"
   ]
  },
  {
   "cell_type": "markdown",
   "id": "8c31ef1b-1cdd-436b-bf19-b743afbc38a8",
   "metadata": {},
   "source": [
    "## 1. Methodology\n",
    "\n",
    "### 1.1 Data\n",
    "\n",
    "### 1.2 Visualizations"
   ]
  },
  {
   "cell_type": "markdown",
   "id": "23f27f7f-18ba-4fa9-a70c-876f5d734823",
   "metadata": {},
   "source": [
    "## 2. Results"
   ]
  },
  {
   "cell_type": "markdown",
   "id": "9d59195f-be0c-4375-aed0-24af23b1e41c",
   "metadata": {},
   "source": [
    "## 3. Interpretation"
   ]
  }
 ],
 "metadata": {
  "kernelspec": {
   "display_name": "Python 3 (ipykernel)",
   "language": "python",
   "name": "python3"
  },
  "language_info": {
   "codemirror_mode": {
    "name": "ipython",
    "version": 3
   },
   "file_extension": ".py",
   "mimetype": "text/x-python",
   "name": "python",
   "nbconvert_exporter": "python",
   "pygments_lexer": "ipython3",
   "version": "3.9.7"
  }
 },
 "nbformat": 4,
 "nbformat_minor": 5
}
