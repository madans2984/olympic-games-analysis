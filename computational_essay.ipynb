{
 "cells": [
  {
   "cell_type": "markdown",
   "id": "12a064df-98eb-40c0-92d4-67b40dbddefa",
   "metadata": {},
   "source": [
    "# Is Success in the Summer Olympic Games More Dependent on a Country's Population or Wealth?\n",
    "\n",
    "**Authors**: Jules Brettle, Shree Madan, Anusha Karandikar"
   ]
  },
  {
   "cell_type": "markdown",
   "id": "b2bd00b6-385f-4848-a773-b436448bf09b",
   "metadata": {},
   "source": [
    "Run the code below each time the notebook is started or restarted to ensure that if you change any code in the library, this notebook will use the latest version of the library code."
   ]
  },
  {
   "cell_type": "code",
   "execution_count": null,
   "id": "5c8f5ee3-5c07-4a68-bed0-65dd2d2a1d17",
   "metadata": {},
   "outputs": [],
   "source": [
    "%load_ext autoreload\n",
    "%autoreload 2\n",
    "import pandas as pd # library for data analysis\n",
    "import requests # library to handle requests\n",
    "from bs4 import BeautifulSoup # library to parse HTML documents\n",
    "import matplotlib.pyplot as plt\n",
    "import plotly.express as px\n",
    "from helpers import *\n",
    "from vis_helpers import *"
   ]
  },
  {
   "cell_type": "markdown",
   "id": "ddddb91e-8aeb-4347-b780-0fbad36252f3",
   "metadata": {},
   "source": [
    "# 1. Introduction\n",
    "\n",
    "## 1.1 Background Information\n",
    "\n",
    "The Summer Olympic Games are an international multi-sport event typically held every four years [1]. Each sporting event awards gold, silver, and bronze medals for first, second, and third place respectively.\n",
    "\n",
    "## 1.2 Primary Question\n",
    "\n",
    "The goal of this project is to answer the following question: Can success in the Summer Olympic games be predicted more accurately based on a country’s population or GDP per capita?"
   ]
  },
  {
   "cell_type": "markdown",
   "id": "8c31ef1b-1cdd-436b-bf19-b743afbc38a8",
   "metadata": {},
   "source": [
    "# 2. Methodology\n",
    "\n",
    "## 2.1 Data Source\n",
    "\n",
    "We chose to use Wikipedia to get data for ease of scraping and because we found it had the most thorough data. We used Wikipedia to obtain our data for Olympic medals (i.e. gold, silver, and bronze) from every Summer Olympics from 2004 to 2016 for each country participating. We also used corresponding population and GDP per capita data from Wikipedia. Wikipedia has population data from the United Status Census Bureau for every 5 years, so since the Summer Olympics occur every 4 years, we used the closest year's population data. Our GDP per capita data comes from the International Monetary Fund's (IMF) yearly estimates based on Purchasing Power Parity (PPP) from Wikipedia as well.\n",
    "\n",
    "### 2.2 Web Scraping\n",
    "\n",
    "To obtain our data, we used the python libraries **Beautiful_Soup** to parse HTML documents, **Requests** to handle requests, and **Pandas** for data analysis. In `helpers.py`, we use the function `table_scrape`, which takes in the url of a Wikipedia page and returns, by default, the first table of the page. We can also change the input to obtain another table on the page. Our scraping functions for medals, population, GDP per capita, and number of athletes all use `table_scrape`.\n",
    "\n",
    "### 2.3 Obtaining Data & Cleaning\n",
    "\n",
    "### 2.3.1 Medal Data\n",
    "\n",
    "To get data for medals received in the 2004, 2008, 2012, and 2016 Summer Olympics, we used the function `scrape_medal_table`, which uses `table_scrape` to obtain the data and renames the medal columns to be prefaced with the specific year of the Games. `scrape_medal_table` also removes the columns with the rank of the countries. `scrape_medal_data` merges the dataframes obtained by calling `scrape_medal_table` for medal datasets for each year and only keeps countries which medal all four years.\n",
    "\n",
    "### 2.3.2 Population Data\n",
    "\n",
    "Similarly to `scrape_medal_data`, `scrape_population_data` calls `table_scrape` to get data from Wikipedia about the population of countries participating in all four years of the Summer Olympics that we were looking at. We used the function `clean_population_data` to perform various cleaning tasks for the population data. Since we were only using population data for the years 2005, 2010, and 2015, in `clean_population_data`, we dropped the unnecessary years and renamed the columns to contain the year of the Games we were associating with it (i.e. 2005 became Pop-2004, 2010 became Pop-2008 and was duplicated to be Pop-2012 as well, and 2015 became Pop-2016). Certain countries were also named differently by the United Status Census Bureau from their Olympic Committee names, so we had to also replace those -- we renamed Great Britain to United Kingdom and Chinese Taipei to Taiwan to match the Olympic Committee names.\n",
    "\n",
    "### 2.3.3 GDP per Capita Data\n",
    "\n",
    "The function `scrape_gdp_data` calls `table_scrape` to get the IMF's data about countries' GDP per capita based on Purchasing Power Parity (PPP) from Wikipedia. Like `clean_population_data`, we used a separate function `clean_gdp_data` to perform the various cleaning tasks necessary to be able to merge all our data into a single dataset. We dropped the unnecessary years to leave just 2004, 2008, 2012, and 2016, and renamed the columns to contain the year in the title. We also had to rename the United Kingdom and Taiwan to match once again. We had two special cases in Cuba and North Korea, which did not have GDP per capita data from the IMF. We chose to instead use data from the United Nations (UN) for these two countries. We did not choose to use the UN data for all countries because it was lacking more countries than the IMF data.\n",
    "\n",
    "### 2.3.4 Athlete Data\n",
    "\n",
    "To get data for the number of athletes participating for each country, we create a function `scrape_athlete_table` to scrape the tables and get the country names to be in the same format as the rest of the data by decoding from utf-8. `scrape_athelete_data` calls `scrape_athlete_table` for each of the desired years and merges them into one table.\n",
    "\n",
    "### 2.3.5 Merging the Data\n",
    "\n",
    "The function `merge_dataframes` merges all the dataframes for medals, population, GDP per capita, and number of athletes into a single master dataframe by the column country. For visualization purposes, in `pivot`, we pivoted the table longer to create separate rows for medal rankings, GDP per capita, population, and athletes for each year instead of having a separate column indicating the year. We also created a new column for success rate, i.e. total number of medals divided by the number of athletes.\n",
    "\n",
    "### 2.3.6 Creating an Averaged Dataset\n",
    "\n",
    "The main reason we obtained data for four separate Summer Olympic Games was to account for any outliers for a country during a specific year. To do this, we needed to average our values. In `average_data`, we created a new dataframe containing averaged values for each of our variables (medals, population, GDP per capita, and athletes) over the four years.\n",
    "\n",
    "## 2.2 Visualizations\n",
    "\n",
    "To avoid cluttering our visulizations, we chose to ignore countries which did not receive any medals.\n",
    "\n",
    "To streamline our visualization creation, we created functions to assist with plotting. Since we knew we would need to plot many variables against medals, in `vis_helpers.py`, the function `medals_plot` is used for our original pivoted table (without averaged values) to create scatterplots of the inputted variable against medals. It also includes a trendline and signifies color and facets the plot by year. The function `average_medals_plot` is very similar to `medals_plot`, except that it is used for our averaged dataframe. `average_context_plot` creates a plot of GDP per capita against population. Additionally, we used the function `model_check` to find a least-squares regression line and perform quantifiable analyses of how well the models fit."
   ]
  },
  {
   "cell_type": "markdown",
   "id": "23f27f7f-18ba-4fa9-a70c-876f5d734823",
   "metadata": {
    "tags": []
   },
   "source": [
    "# 3. Results\n",
    "\n",
    "## 3.1 Medals vs. Population\n",
    "\n",
    "Below is a plot of average total medals over all four games vs. average population. The x-axis is on a log scale. Using `model_check`, we found that the R-squared value for this model is 0.165, which is not very high. The trendline skews upwards as population increases because of a few significant outliers who do very well in the Games and have high populations: United States and China. India, while having a very high population, does not earn as many medals, showing that the trend caused by the US and China is not definitive."
   ]
  },
  {
   "cell_type": "code",
   "execution_count": 7,
   "id": "ff11e2a4-7759-4770-a131-3c70e3c7858c",
   "metadata": {},
   "outputs": [
    {
     "data": {
      "application/vnd.plotly.v1+json": {
       "config": {
        "plotlyServerURL": "https://plot.ly"
       },
       "data": [
        {
         "customdata": [
          [
           "United States"
          ],
          [
           "China"
          ],
          [
           "Russia"
          ],
          [
           "Australia"
          ],
          [
           "Japan"
          ],
          [
           "Germany"
          ],
          [
           "France"
          ],
          [
           "Italy"
          ],
          [
           "South Korea"
          ],
          [
           "Great Britain"
          ],
          [
           "Cuba"
          ],
          [
           "Hungary"
          ],
          [
           "Ukraine"
          ],
          [
           "Romania"
          ],
          [
           "Greece"
          ],
          [
           "Brazil"
          ],
          [
           "Norway"
          ],
          [
           "Netherlands"
          ],
          [
           "Sweden"
          ],
          [
           "Spain"
          ],
          [
           "Canada"
          ],
          [
           "Turkey"
          ],
          [
           "Poland"
          ],
          [
           "New Zealand"
          ],
          [
           "Thailand"
          ],
          [
           "Belarus"
          ],
          [
           "Ethiopia"
          ],
          [
           "Iran"
          ],
          [
           "Slovakia"
          ],
          [
           "Chinese Taipei"
          ],
          [
           "Georgia"
          ],
          [
           "Bulgaria"
          ],
          [
           "Denmark"
          ],
          [
           "Jamaica"
          ],
          [
           "Uzbekistan"
          ],
          [
           "Morocco"
          ],
          [
           "Argentina"
          ],
          [
           "Kazakhstan"
          ],
          [
           "Kenya"
          ],
          [
           "Czech Republic"
          ],
          [
           "South Africa"
          ],
          [
           "Croatia"
          ],
          [
           "Lithuania"
          ],
          [
           "Egypt"
          ],
          [
           "Switzerland"
          ],
          [
           "Indonesia"
          ],
          [
           "Azerbaijan"
          ],
          [
           "Belgium"
          ],
          [
           "Bahamas"
          ],
          [
           "Dominican Republic"
          ],
          [
           "North Korea"
          ],
          [
           "Mexico"
          ],
          [
           "Portugal"
          ],
          [
           "Finland"
          ],
          [
           "Slovenia"
          ],
          [
           "Estonia"
          ],
          [
           "India"
          ],
          [
           "Colombia"
          ],
          [
           "Venezuela"
          ],
          [
           "Mongolia"
          ],
          [
           "Trinidad and Tobago"
          ]
         ],
         "hovertemplate": "Average Population from 2005-2015=%{x}<br>Average Total Olympic medals=%{y}<br>Country=%{customdata[0]}<extra></extra>",
         "legendgroup": "",
         "marker": {
          "color": "#636efa",
          "symbol": "circle"
         },
         "mode": "markers",
         "name": "",
         "orientation": "v",
         "showlegend": false,
         "type": "scatter",
         "x": [
          308895500,
          1335783250,
          142699500,
          21504250,
          127449000,
          81646250,
          64874000,
          60598000,
          48599000,
          62318750,
          11107250,
          9985500,
          45742750,
          21946250,
          10736250,
          195487750,
          4904250,
          16599000,
          9437750,
          46216000,
          33751750,
          74813500,
          38588500,
          4248500,
          66633000,
          9689750,
          86476750,
          76989000,
          5427000,
          23099500,
          4882250,
          7395750,
          5511750,
          2846000,
          27868000,
          31620000,
          41325500,
          17112750,
          40715250,
          10503500,
          51006750,
          4483750,
          3097500,
          80494000,
          7777750,
          243021250,
          9302750,
          10881500,
          311000,
          9823000,
          24314250,
          114109500,
          10716250,
          5356500,
          2001000,
          1301000,
          1172222000,
          44159250,
          27248500,
          2791000,
          1229500
         ],
         "xaxis": "x",
         "y": [
          109.5,
          81,
          68.25,
          40,
          35.25,
          44,
          38.25,
          28.75,
          28.25,
          53.25,
          20.75,
          15,
          18.5,
          9.75,
          6.75,
          15.75,
          5.75,
          19.25,
          7.75,
          19,
          18,
          6.75,
          10.75,
          11.25,
          6,
          11.5,
          7.5,
          7.25,
          5,
          3.5,
          6,
          5.75,
          9.75,
          9.75,
          6.25,
          1.75,
          5,
          11.25,
          12.25,
          9.25,
          5.75,
          6.5,
          4.25,
          3.5,
          5.75,
          4,
          9.5,
          3.5,
          1.75,
          1.5,
          6.25,
          5.25,
          1.75,
          2.5,
          4.25,
          2,
          3,
          5.5,
          1.75,
          3,
          2
         ],
         "yaxis": "y"
        },
        {
         "hovertemplate": "<b>OLS trendline</b><br>Average Total = 3.63484e-08 * Average Pop + 11.9429<br>R<sup>2</sup>=0.164607<br><br>Average Population from 2005-2015=%{x}<br>Average Total Olympic medals=%{y} <b>(trend)</b><extra></extra>",
         "legendgroup": "",
         "marker": {
          "color": "#636efa",
          "symbol": "circle"
         },
         "mode": "lines",
         "name": "",
         "showlegend": false,
         "type": "scatter",
         "x": [
          311000,
          1229500,
          1301000,
          2001000,
          2791000,
          2846000,
          3097500,
          4248500,
          4483750,
          4882250,
          4904250,
          5356500,
          5427000,
          5511750,
          7395750,
          7777750,
          9302750,
          9437750,
          9689750,
          9823000,
          9985500,
          10503500,
          10716250,
          10736250,
          10881500,
          11107250,
          16599000,
          17112750,
          21504250,
          21946250,
          23099500,
          24314250,
          27248500,
          27868000,
          31620000,
          33751750,
          38588500,
          40715250,
          41325500,
          44159250,
          45742750,
          46216000,
          48599000,
          51006750,
          60598000,
          62318750,
          64874000,
          66633000,
          74813500,
          76989000,
          80494000,
          81646250,
          86476750,
          114109500,
          127449000,
          142699500,
          195487750,
          243021250,
          308895500,
          1172222000,
          1335783250
         ],
         "xaxis": "x",
         "y": [
          11.954195020093659,
          11.987580995670296,
          11.990179903948718,
          12.01562376121997,
          12.044338971568957,
          12.046338131783127,
          12.055479746217014,
          12.09731671724446,
          12.105867670705978,
          12.120352495166827,
          12.121152159252496,
          12.137590708468101,
          12.140153268378992,
          12.143233792527191,
          12.211714116954393,
          12.225599193350991,
          12.281030453834793,
          12.285937483451391,
          12.295097272069043,
          12.299940692042464,
          12.305847301766148,
          12.324675756146876,
          12.332408871338961,
          12.333135838689568,
          12.338415439073353,
          12.346621083043331,
          12.546237230428199,
          12.564911204246922,
          12.724535060256509,
          12.740601038704927,
          12.782519793559318,
          12.826673973016826,
          12.933329170442791,
          12.95584698412785,
          13.092226059101769,
          13.169711691584618,
          13.345519658237098,
          13.422823548882297,
          13.4450051401677,
          13.548007326656863,
          13.605564966641193,
          13.622766831574936,
          13.709384991399789,
          13.796902773321019,
          14.145529053396606,
          14.208075506824477,
          14.300954672956435,
          14.364891451442341,
          14.66223927202447,
          14.741315145586773,
          14.868716173780692,
          14.910598580267552,
          15.086179369622966,
          16.09058472249758,
          16.57545377116885,
          17.12978455019064,
          19.048551262475282,
          20.776316390479757,
          23.170737840266717,
          54.55124676096797,
          60.496431189693425
         ],
         "yaxis": "y"
        }
       ],
       "layout": {
        "autosize": true,
        "legend": {
         "tracegroupgap": 0
        },
        "template": {
         "data": {
          "bar": [
           {
            "error_x": {
             "color": "#2a3f5f"
            },
            "error_y": {
             "color": "#2a3f5f"
            },
            "marker": {
             "line": {
              "color": "#E5ECF6",
              "width": 0.5
             },
             "pattern": {
              "fillmode": "overlay",
              "size": 10,
              "solidity": 0.2
             }
            },
            "type": "bar"
           }
          ],
          "barpolar": [
           {
            "marker": {
             "line": {
              "color": "#E5ECF6",
              "width": 0.5
             },
             "pattern": {
              "fillmode": "overlay",
              "size": 10,
              "solidity": 0.2
             }
            },
            "type": "barpolar"
           }
          ],
          "carpet": [
           {
            "aaxis": {
             "endlinecolor": "#2a3f5f",
             "gridcolor": "white",
             "linecolor": "white",
             "minorgridcolor": "white",
             "startlinecolor": "#2a3f5f"
            },
            "baxis": {
             "endlinecolor": "#2a3f5f",
             "gridcolor": "white",
             "linecolor": "white",
             "minorgridcolor": "white",
             "startlinecolor": "#2a3f5f"
            },
            "type": "carpet"
           }
          ],
          "choropleth": [
           {
            "colorbar": {
             "outlinewidth": 0,
             "ticks": ""
            },
            "type": "choropleth"
           }
          ],
          "contour": [
           {
            "colorbar": {
             "outlinewidth": 0,
             "ticks": ""
            },
            "colorscale": [
             [
              0,
              "#0d0887"
             ],
             [
              0.1111111111111111,
              "#46039f"
             ],
             [
              0.2222222222222222,
              "#7201a8"
             ],
             [
              0.3333333333333333,
              "#9c179e"
             ],
             [
              0.4444444444444444,
              "#bd3786"
             ],
             [
              0.5555555555555556,
              "#d8576b"
             ],
             [
              0.6666666666666666,
              "#ed7953"
             ],
             [
              0.7777777777777778,
              "#fb9f3a"
             ],
             [
              0.8888888888888888,
              "#fdca26"
             ],
             [
              1,
              "#f0f921"
             ]
            ],
            "type": "contour"
           }
          ],
          "contourcarpet": [
           {
            "colorbar": {
             "outlinewidth": 0,
             "ticks": ""
            },
            "type": "contourcarpet"
           }
          ],
          "heatmap": [
           {
            "colorbar": {
             "outlinewidth": 0,
             "ticks": ""
            },
            "colorscale": [
             [
              0,
              "#0d0887"
             ],
             [
              0.1111111111111111,
              "#46039f"
             ],
             [
              0.2222222222222222,
              "#7201a8"
             ],
             [
              0.3333333333333333,
              "#9c179e"
             ],
             [
              0.4444444444444444,
              "#bd3786"
             ],
             [
              0.5555555555555556,
              "#d8576b"
             ],
             [
              0.6666666666666666,
              "#ed7953"
             ],
             [
              0.7777777777777778,
              "#fb9f3a"
             ],
             [
              0.8888888888888888,
              "#fdca26"
             ],
             [
              1,
              "#f0f921"
             ]
            ],
            "type": "heatmap"
           }
          ],
          "heatmapgl": [
           {
            "colorbar": {
             "outlinewidth": 0,
             "ticks": ""
            },
            "colorscale": [
             [
              0,
              "#0d0887"
             ],
             [
              0.1111111111111111,
              "#46039f"
             ],
             [
              0.2222222222222222,
              "#7201a8"
             ],
             [
              0.3333333333333333,
              "#9c179e"
             ],
             [
              0.4444444444444444,
              "#bd3786"
             ],
             [
              0.5555555555555556,
              "#d8576b"
             ],
             [
              0.6666666666666666,
              "#ed7953"
             ],
             [
              0.7777777777777778,
              "#fb9f3a"
             ],
             [
              0.8888888888888888,
              "#fdca26"
             ],
             [
              1,
              "#f0f921"
             ]
            ],
            "type": "heatmapgl"
           }
          ],
          "histogram": [
           {
            "marker": {
             "pattern": {
              "fillmode": "overlay",
              "size": 10,
              "solidity": 0.2
             }
            },
            "type": "histogram"
           }
          ],
          "histogram2d": [
           {
            "colorbar": {
             "outlinewidth": 0,
             "ticks": ""
            },
            "colorscale": [
             [
              0,
              "#0d0887"
             ],
             [
              0.1111111111111111,
              "#46039f"
             ],
             [
              0.2222222222222222,
              "#7201a8"
             ],
             [
              0.3333333333333333,
              "#9c179e"
             ],
             [
              0.4444444444444444,
              "#bd3786"
             ],
             [
              0.5555555555555556,
              "#d8576b"
             ],
             [
              0.6666666666666666,
              "#ed7953"
             ],
             [
              0.7777777777777778,
              "#fb9f3a"
             ],
             [
              0.8888888888888888,
              "#fdca26"
             ],
             [
              1,
              "#f0f921"
             ]
            ],
            "type": "histogram2d"
           }
          ],
          "histogram2dcontour": [
           {
            "colorbar": {
             "outlinewidth": 0,
             "ticks": ""
            },
            "colorscale": [
             [
              0,
              "#0d0887"
             ],
             [
              0.1111111111111111,
              "#46039f"
             ],
             [
              0.2222222222222222,
              "#7201a8"
             ],
             [
              0.3333333333333333,
              "#9c179e"
             ],
             [
              0.4444444444444444,
              "#bd3786"
             ],
             [
              0.5555555555555556,
              "#d8576b"
             ],
             [
              0.6666666666666666,
              "#ed7953"
             ],
             [
              0.7777777777777778,
              "#fb9f3a"
             ],
             [
              0.8888888888888888,
              "#fdca26"
             ],
             [
              1,
              "#f0f921"
             ]
            ],
            "type": "histogram2dcontour"
           }
          ],
          "mesh3d": [
           {
            "colorbar": {
             "outlinewidth": 0,
             "ticks": ""
            },
            "type": "mesh3d"
           }
          ],
          "parcoords": [
           {
            "line": {
             "colorbar": {
              "outlinewidth": 0,
              "ticks": ""
             }
            },
            "type": "parcoords"
           }
          ],
          "pie": [
           {
            "automargin": true,
            "type": "pie"
           }
          ],
          "scatter": [
           {
            "marker": {
             "colorbar": {
              "outlinewidth": 0,
              "ticks": ""
             }
            },
            "type": "scatter"
           }
          ],
          "scatter3d": [
           {
            "line": {
             "colorbar": {
              "outlinewidth": 0,
              "ticks": ""
             }
            },
            "marker": {
             "colorbar": {
              "outlinewidth": 0,
              "ticks": ""
             }
            },
            "type": "scatter3d"
           }
          ],
          "scattercarpet": [
           {
            "marker": {
             "colorbar": {
              "outlinewidth": 0,
              "ticks": ""
             }
            },
            "type": "scattercarpet"
           }
          ],
          "scattergeo": [
           {
            "marker": {
             "colorbar": {
              "outlinewidth": 0,
              "ticks": ""
             }
            },
            "type": "scattergeo"
           }
          ],
          "scattergl": [
           {
            "marker": {
             "colorbar": {
              "outlinewidth": 0,
              "ticks": ""
             }
            },
            "type": "scattergl"
           }
          ],
          "scattermapbox": [
           {
            "marker": {
             "colorbar": {
              "outlinewidth": 0,
              "ticks": ""
             }
            },
            "type": "scattermapbox"
           }
          ],
          "scatterpolar": [
           {
            "marker": {
             "colorbar": {
              "outlinewidth": 0,
              "ticks": ""
             }
            },
            "type": "scatterpolar"
           }
          ],
          "scatterpolargl": [
           {
            "marker": {
             "colorbar": {
              "outlinewidth": 0,
              "ticks": ""
             }
            },
            "type": "scatterpolargl"
           }
          ],
          "scatterternary": [
           {
            "marker": {
             "colorbar": {
              "outlinewidth": 0,
              "ticks": ""
             }
            },
            "type": "scatterternary"
           }
          ],
          "surface": [
           {
            "colorbar": {
             "outlinewidth": 0,
             "ticks": ""
            },
            "colorscale": [
             [
              0,
              "#0d0887"
             ],
             [
              0.1111111111111111,
              "#46039f"
             ],
             [
              0.2222222222222222,
              "#7201a8"
             ],
             [
              0.3333333333333333,
              "#9c179e"
             ],
             [
              0.4444444444444444,
              "#bd3786"
             ],
             [
              0.5555555555555556,
              "#d8576b"
             ],
             [
              0.6666666666666666,
              "#ed7953"
             ],
             [
              0.7777777777777778,
              "#fb9f3a"
             ],
             [
              0.8888888888888888,
              "#fdca26"
             ],
             [
              1,
              "#f0f921"
             ]
            ],
            "type": "surface"
           }
          ],
          "table": [
           {
            "cells": {
             "fill": {
              "color": "#EBF0F8"
             },
             "line": {
              "color": "white"
             }
            },
            "header": {
             "fill": {
              "color": "#C8D4E3"
             },
             "line": {
              "color": "white"
             }
            },
            "type": "table"
           }
          ]
         },
         "layout": {
          "annotationdefaults": {
           "arrowcolor": "#2a3f5f",
           "arrowhead": 0,
           "arrowwidth": 1
          },
          "autotypenumbers": "strict",
          "coloraxis": {
           "colorbar": {
            "outlinewidth": 0,
            "ticks": ""
           }
          },
          "colorscale": {
           "diverging": [
            [
             0,
             "#8e0152"
            ],
            [
             0.1,
             "#c51b7d"
            ],
            [
             0.2,
             "#de77ae"
            ],
            [
             0.3,
             "#f1b6da"
            ],
            [
             0.4,
             "#fde0ef"
            ],
            [
             0.5,
             "#f7f7f7"
            ],
            [
             0.6,
             "#e6f5d0"
            ],
            [
             0.7,
             "#b8e186"
            ],
            [
             0.8,
             "#7fbc41"
            ],
            [
             0.9,
             "#4d9221"
            ],
            [
             1,
             "#276419"
            ]
           ],
           "sequential": [
            [
             0,
             "#0d0887"
            ],
            [
             0.1111111111111111,
             "#46039f"
            ],
            [
             0.2222222222222222,
             "#7201a8"
            ],
            [
             0.3333333333333333,
             "#9c179e"
            ],
            [
             0.4444444444444444,
             "#bd3786"
            ],
            [
             0.5555555555555556,
             "#d8576b"
            ],
            [
             0.6666666666666666,
             "#ed7953"
            ],
            [
             0.7777777777777778,
             "#fb9f3a"
            ],
            [
             0.8888888888888888,
             "#fdca26"
            ],
            [
             1,
             "#f0f921"
            ]
           ],
           "sequentialminus": [
            [
             0,
             "#0d0887"
            ],
            [
             0.1111111111111111,
             "#46039f"
            ],
            [
             0.2222222222222222,
             "#7201a8"
            ],
            [
             0.3333333333333333,
             "#9c179e"
            ],
            [
             0.4444444444444444,
             "#bd3786"
            ],
            [
             0.5555555555555556,
             "#d8576b"
            ],
            [
             0.6666666666666666,
             "#ed7953"
            ],
            [
             0.7777777777777778,
             "#fb9f3a"
            ],
            [
             0.8888888888888888,
             "#fdca26"
            ],
            [
             1,
             "#f0f921"
            ]
           ]
          },
          "colorway": [
           "#636efa",
           "#EF553B",
           "#00cc96",
           "#ab63fa",
           "#FFA15A",
           "#19d3f3",
           "#FF6692",
           "#B6E880",
           "#FF97FF",
           "#FECB52"
          ],
          "font": {
           "color": "#2a3f5f"
          },
          "geo": {
           "bgcolor": "white",
           "lakecolor": "white",
           "landcolor": "#E5ECF6",
           "showlakes": true,
           "showland": true,
           "subunitcolor": "white"
          },
          "hoverlabel": {
           "align": "left"
          },
          "hovermode": "closest",
          "mapbox": {
           "style": "light"
          },
          "paper_bgcolor": "white",
          "plot_bgcolor": "#E5ECF6",
          "polar": {
           "angularaxis": {
            "gridcolor": "white",
            "linecolor": "white",
            "ticks": ""
           },
           "bgcolor": "#E5ECF6",
           "radialaxis": {
            "gridcolor": "white",
            "linecolor": "white",
            "ticks": ""
           }
          },
          "scene": {
           "xaxis": {
            "backgroundcolor": "#E5ECF6",
            "gridcolor": "white",
            "gridwidth": 2,
            "linecolor": "white",
            "showbackground": true,
            "ticks": "",
            "zerolinecolor": "white"
           },
           "yaxis": {
            "backgroundcolor": "#E5ECF6",
            "gridcolor": "white",
            "gridwidth": 2,
            "linecolor": "white",
            "showbackground": true,
            "ticks": "",
            "zerolinecolor": "white"
           },
           "zaxis": {
            "backgroundcolor": "#E5ECF6",
            "gridcolor": "white",
            "gridwidth": 2,
            "linecolor": "white",
            "showbackground": true,
            "ticks": "",
            "zerolinecolor": "white"
           }
          },
          "shapedefaults": {
           "line": {
            "color": "#2a3f5f"
           }
          },
          "ternary": {
           "aaxis": {
            "gridcolor": "white",
            "linecolor": "white",
            "ticks": ""
           },
           "baxis": {
            "gridcolor": "white",
            "linecolor": "white",
            "ticks": ""
           },
           "bgcolor": "#E5ECF6",
           "caxis": {
            "gridcolor": "white",
            "linecolor": "white",
            "ticks": ""
           }
          },
          "title": {
           "x": 0.05
          },
          "xaxis": {
           "automargin": true,
           "gridcolor": "white",
           "linecolor": "white",
           "ticks": "",
           "title": {
            "standoff": 15
           },
           "zerolinecolor": "white",
           "zerolinewidth": 2
          },
          "yaxis": {
           "automargin": true,
           "gridcolor": "white",
           "linecolor": "white",
           "ticks": "",
           "title": {
            "standoff": 15
           },
           "zerolinecolor": "white",
           "zerolinewidth": 2
          }
         }
        },
        "title": {
         "text": "Average Population vs Average Total medals from 2004-2016"
        },
        "xaxis": {
         "anchor": "y",
         "autorange": true,
         "domain": [
          0,
          1
         ],
         "range": [
          5.265547126047194,
          9.352949256324422
         ],
         "title": {
          "text": "Average Population from 2005-2015"
         },
         "type": "log"
        },
        "yaxis": {
         "anchor": "x",
         "autorange": true,
         "domain": [
          0,
          1
         ],
         "range": [
          -7.4126213592233015,
          118.4126213592233
         ],
         "title": {
          "text": "Average Total Olympic medals"
         },
         "type": "linear"
        }
       }
      },
      "image/png": "[encoded data removed]",
      "text/html": [
       "<div>                            <div id=\"c99c52b5-7870-458d-9fb9-1fc0fcfe9121\" class=\"plotly-graph-div\" style=\"height:525px; width:100%;\"></div>            <script type=\"text/javascript\">                require([\"plotly\"], function(Plotly) {                    window.PLOTLYENV=window.PLOTLYENV || {};                                    if (document.getElementById(\"c99c52b5-7870-458d-9fb9-1fc0fcfe9121\")) {                    Plotly.newPlot(                        \"c99c52b5-7870-458d-9fb9-1fc0fcfe9121\",                        [{\"customdata\":[[\"United States\"],[\"China\"],[\"Russia\"],[\"Australia\"],[\"Japan\"],[\"Germany\"],[\"France\"],[\"Italy\"],[\"South Korea\"],[\"Great Britain\"],[\"Cuba\"],[\"Hungary\"],[\"Ukraine\"],[\"Romania\"],[\"Greece\"],[\"Brazil\"],[\"Norway\"],[\"Netherlands\"],[\"Sweden\"],[\"Spain\"],[\"Canada\"],[\"Turkey\"],[\"Poland\"],[\"New Zealand\"],[\"Thailand\"],[\"Belarus\"],[\"Ethiopia\"],[\"Iran\"],[\"Slovakia\"],[\"Chinese Taipei\"],[\"Georgia\"],[\"Bulgaria\"],[\"Denmark\"],[\"Jamaica\"],[\"Uzbekistan\"],[\"Morocco\"],[\"Argentina\"],[\"Kazakhstan\"],[\"Kenya\"],[\"Czech Republic\"],[\"South Africa\"],[\"Croatia\"],[\"Lithuania\"],[\"Egypt\"],[\"Switzerland\"],[\"Indonesia\"],[\"Azerbaijan\"],[\"Belgium\"],[\"Bahamas\"],[\"Dominican Republic\"],[\"North Korea\"],[\"Mexico\"],[\"Portugal\"],[\"Finland\"],[\"Slovenia\"],[\"Estonia\"],[\"India\"],[\"Colombia\"],[\"Venezuela\"],[\"Mongolia\"],[\"Trinidad and Tobago\"]],\"hovertemplate\":\"Average Population from 2005-2015=%{x}<br>Average Total Olympic medals=%{y}<br>Country=%{customdata[0]}<extra></extra>\",\"legendgroup\":\"\",\"marker\":{\"color\":\"#636efa\",\"symbol\":\"circle\"},\"mode\":\"markers\",\"name\":\"\",\"orientation\":\"v\",\"showlegend\":false,\"x\":[308895500.0,1335783250.0,142699500.0,21504250.0,127449000.0,81646250.0,64874000.0,60598000.0,48599000.0,62318750.0,11107250.0,9985500.0,45742750.0,21946250.0,10736250.0,195487750.0,4904250.0,16599000.0,9437750.0,46216000.0,33751750.0,74813500.0,38588500.0,4248500.0,66633000.0,9689750.0,86476750.0,76989000.0,5427000.0,23099500.0,4882250.0,7395750.0,5511750.0,2846000.0,27868000.0,31620000.0,41325500.0,17112750.0,40715250.0,10503500.0,51006750.0,4483750.0,3097500.0,80494000.0,7777750.0,243021250.0,9302750.0,10881500.0,311000.0,9823000.0,24314250.0,114109500.0,10716250.0,5356500.0,2001000.0,1301000.0,1172222000.0,44159250.0,27248500.0,2791000.0,1229500.0],\"xaxis\":\"x\",\"y\":[109.5,81.0,68.25,40.0,35.25,44.0,38.25,28.75,28.25,53.25,20.75,15.0,18.5,9.75,6.75,15.75,5.75,19.25,7.75,19.0,18.0,6.75,10.75,11.25,6.0,11.5,7.5,7.25,5.0,3.5,6.0,5.75,9.75,9.75,6.25,1.75,5.0,11.25,12.25,9.25,5.75,6.5,4.25,3.5,5.75,4.0,9.5,3.5,1.75,1.5,6.25,5.25,1.75,2.5,4.25,2.0,3.0,5.5,1.75,3.0,2.0],\"yaxis\":\"y\",\"type\":\"scatter\"},{\"hovertemplate\":\"<b>OLS trendline</b><br>Average Total = 3.63484e-08 * Average Pop + 11.9429<br>R<sup>2</sup>=0.164607<br><br>Average Population from 2005-2015=%{x}<br>Average Total Olympic medals=%{y} <b>(trend)</b><extra></extra>\",\"legendgroup\":\"\",\"marker\":{\"color\":\"#636efa\",\"symbol\":\"circle\"},\"mode\":\"lines\",\"name\":\"\",\"showlegend\":false,\"x\":[311000.0,1229500.0,1301000.0,2001000.0,2791000.0,2846000.0,3097500.0,4248500.0,4483750.0,4882250.0,4904250.0,5356500.0,5427000.0,5511750.0,7395750.0,7777750.0,9302750.0,9437750.0,9689750.0,9823000.0,9985500.0,10503500.0,10716250.0,10736250.0,10881500.0,11107250.0,16599000.0,17112750.0,21504250.0,21946250.0,23099500.0,24314250.0,27248500.0,27868000.0,31620000.0,33751750.0,38588500.0,40715250.0,41325500.0,44159250.0,45742750.0,46216000.0,48599000.0,51006750.0,60598000.0,62318750.0,64874000.0,66633000.0,74813500.0,76989000.0,80494000.0,81646250.0,86476750.0,114109500.0,127449000.0,142699500.0,195487750.0,243021250.0,308895500.0,1172222000.0,1335783250.0],\"xaxis\":\"x\",\"y\":[11.954195020093659,11.987580995670296,11.990179903948718,12.01562376121997,12.044338971568957,12.046338131783127,12.055479746217014,12.09731671724446,12.105867670705978,12.120352495166827,12.121152159252496,12.137590708468101,12.140153268378992,12.143233792527191,12.211714116954393,12.225599193350991,12.281030453834793,12.285937483451391,12.295097272069043,12.299940692042464,12.305847301766148,12.324675756146876,12.332408871338961,12.333135838689568,12.338415439073353,12.346621083043331,12.546237230428199,12.564911204246922,12.724535060256509,12.740601038704927,12.782519793559318,12.826673973016826,12.933329170442791,12.95584698412785,13.092226059101769,13.169711691584618,13.345519658237098,13.422823548882297,13.4450051401677,13.548007326656863,13.605564966641193,13.622766831574936,13.709384991399789,13.796902773321019,14.145529053396606,14.208075506824477,14.300954672956435,14.364891451442341,14.66223927202447,14.741315145586773,14.868716173780692,14.910598580267552,15.086179369622966,16.09058472249758,16.57545377116885,17.12978455019064,19.048551262475282,20.776316390479757,23.170737840266717,54.55124676096797,60.496431189693425],\"yaxis\":\"y\",\"type\":\"scatter\"}],                        {\"template\":{\"data\":{\"bar\":[{\"error_x\":{\"color\":\"#2a3f5f\"},\"error_y\":{\"color\":\"#2a3f5f\"},\"marker\":{\"line\":{\"color\":\"#E5ECF6\",\"width\":0.5},\"pattern\":{\"fillmode\":\"overlay\",\"size\":10,\"solidity\":0.2}},\"type\":\"bar\"}],\"barpolar\":[{\"marker\":{\"line\":{\"color\":\"#E5ECF6\",\"width\":0.5},\"pattern\":{\"fillmode\":\"overlay\",\"size\":10,\"solidity\":0.2}},\"type\":\"barpolar\"}],\"carpet\":[{\"aaxis\":{\"endlinecolor\":\"#2a3f5f\",\"gridcolor\":\"white\",\"linecolor\":\"white\",\"minorgridcolor\":\"white\",\"startlinecolor\":\"#2a3f5f\"},\"baxis\":{\"endlinecolor\":\"#2a3f5f\",\"gridcolor\":\"white\",\"linecolor\":\"white\",\"minorgridcolor\":\"white\",\"startlinecolor\":\"#2a3f5f\"},\"type\":\"carpet\"}],\"choropleth\":[{\"colorbar\":{\"outlinewidth\":0,\"ticks\":\"\"},\"type\":\"choropleth\"}],\"contour\":[{\"colorbar\":{\"outlinewidth\":0,\"ticks\":\"\"},\"colorscale\":[[0.0,\"#0d0887\"],[0.1111111111111111,\"#46039f\"],[0.2222222222222222,\"#7201a8\"],[0.3333333333333333,\"#9c179e\"],[0.4444444444444444,\"#bd3786\"],[0.5555555555555556,\"#d8576b\"],[0.6666666666666666,\"#ed7953\"],[0.7777777777777778,\"#fb9f3a\"],[0.8888888888888888,\"#fdca26\"],[1.0,\"#f0f921\"]],\"type\":\"contour\"}],\"contourcarpet\":[{\"colorbar\":{\"outlinewidth\":0,\"ticks\":\"\"},\"type\":\"contourcarpet\"}],\"heatmap\":[{\"colorbar\":{\"outlinewidth\":0,\"ticks\":\"\"},\"colorscale\":[[0.0,\"#0d0887\"],[0.1111111111111111,\"#46039f\"],[0.2222222222222222,\"#7201a8\"],[0.3333333333333333,\"#9c179e\"],[0.4444444444444444,\"#bd3786\"],[0.5555555555555556,\"#d8576b\"],[0.6666666666666666,\"#ed7953\"],[0.7777777777777778,\"#fb9f3a\"],[0.8888888888888888,\"#fdca26\"],[1.0,\"#f0f921\"]],\"type\":\"heatmap\"}],\"heatmapgl\":[{\"colorbar\":{\"outlinewidth\":0,\"ticks\":\"\"},\"colorscale\":[[0.0,\"#0d0887\"],[0.1111111111111111,\"#46039f\"],[0.2222222222222222,\"#7201a8\"],[0.3333333333333333,\"#9c179e\"],[0.4444444444444444,\"#bd3786\"],[0.5555555555555556,\"#d8576b\"],[0.6666666666666666,\"#ed7953\"],[0.7777777777777778,\"#fb9f3a\"],[0.8888888888888888,\"#fdca26\"],[1.0,\"#f0f921\"]],\"type\":\"heatmapgl\"}],\"histogram\":[{\"marker\":{\"pattern\":{\"fillmode\":\"overlay\",\"size\":10,\"solidity\":0.2}},\"type\":\"histogram\"}],\"histogram2d\":[{\"colorbar\":{\"outlinewidth\":0,\"ticks\":\"\"},\"colorscale\":[[0.0,\"#0d0887\"],[0.1111111111111111,\"#46039f\"],[0.2222222222222222,\"#7201a8\"],[0.3333333333333333,\"#9c179e\"],[0.4444444444444444,\"#bd3786\"],[0.5555555555555556,\"#d8576b\"],[0.6666666666666666,\"#ed7953\"],[0.7777777777777778,\"#fb9f3a\"],[0.8888888888888888,\"#fdca26\"],[1.0,\"#f0f921\"]],\"type\":\"histogram2d\"}],\"histogram2dcontour\":[{\"colorbar\":{\"outlinewidth\":0,\"ticks\":\"\"},\"colorscale\":[[0.0,\"#0d0887\"],[0.1111111111111111,\"#46039f\"],[0.2222222222222222,\"#7201a8\"],[0.3333333333333333,\"#9c179e\"],[0.4444444444444444,\"#bd3786\"],[0.5555555555555556,\"#d8576b\"],[0.6666666666666666,\"#ed7953\"],[0.7777777777777778,\"#fb9f3a\"],[0.8888888888888888,\"#fdca26\"],[1.0,\"#f0f921\"]],\"type\":\"histogram2dcontour\"}],\"mesh3d\":[{\"colorbar\":{\"outlinewidth\":0,\"ticks\":\"\"},\"type\":\"mesh3d\"}],\"parcoords\":[{\"line\":{\"colorbar\":{\"outlinewidth\":0,\"ticks\":\"\"}},\"type\":\"parcoords\"}],\"pie\":[{\"automargin\":true,\"type\":\"pie\"}],\"scatter\":[{\"marker\":{\"colorbar\":{\"outlinewidth\":0,\"ticks\":\"\"}},\"type\":\"scatter\"}],\"scatter3d\":[{\"line\":{\"colorbar\":{\"outlinewidth\":0,\"ticks\":\"\"}},\"marker\":{\"colorbar\":{\"outlinewidth\":0,\"ticks\":\"\"}},\"type\":\"scatter3d\"}],\"scattercarpet\":[{\"marker\":{\"colorbar\":{\"outlinewidth\":0,\"ticks\":\"\"}},\"type\":\"scattercarpet\"}],\"scattergeo\":[{\"marker\":{\"colorbar\":{\"outlinewidth\":0,\"ticks\":\"\"}},\"type\":\"scattergeo\"}],\"scattergl\":[{\"marker\":{\"colorbar\":{\"outlinewidth\":0,\"ticks\":\"\"}},\"type\":\"scattergl\"}],\"scattermapbox\":[{\"marker\":{\"colorbar\":{\"outlinewidth\":0,\"ticks\":\"\"}},\"type\":\"scattermapbox\"}],\"scatterpolar\":[{\"marker\":{\"colorbar\":{\"outlinewidth\":0,\"ticks\":\"\"}},\"type\":\"scatterpolar\"}],\"scatterpolargl\":[{\"marker\":{\"colorbar\":{\"outlinewidth\":0,\"ticks\":\"\"}},\"type\":\"scatterpolargl\"}],\"scatterternary\":[{\"marker\":{\"colorbar\":{\"outlinewidth\":0,\"ticks\":\"\"}},\"type\":\"scatterternary\"}],\"surface\":[{\"colorbar\":{\"outlinewidth\":0,\"ticks\":\"\"},\"colorscale\":[[0.0,\"#0d0887\"],[0.1111111111111111,\"#46039f\"],[0.2222222222222222,\"#7201a8\"],[0.3333333333333333,\"#9c179e\"],[0.4444444444444444,\"#bd3786\"],[0.5555555555555556,\"#d8576b\"],[0.6666666666666666,\"#ed7953\"],[0.7777777777777778,\"#fb9f3a\"],[0.8888888888888888,\"#fdca26\"],[1.0,\"#f0f921\"]],\"type\":\"surface\"}],\"table\":[{\"cells\":{\"fill\":{\"color\":\"#EBF0F8\"},\"line\":{\"color\":\"white\"}},\"header\":{\"fill\":{\"color\":\"#C8D4E3\"},\"line\":{\"color\":\"white\"}},\"type\":\"table\"}]},\"layout\":{\"annotationdefaults\":{\"arrowcolor\":\"#2a3f5f\",\"arrowhead\":0,\"arrowwidth\":1},\"autotypenumbers\":\"strict\",\"coloraxis\":{\"colorbar\":{\"outlinewidth\":0,\"ticks\":\"\"}},\"colorscale\":{\"diverging\":[[0,\"#8e0152\"],[0.1,\"#c51b7d\"],[0.2,\"#de77ae\"],[0.3,\"#f1b6da\"],[0.4,\"#fde0ef\"],[0.5,\"#f7f7f7\"],[0.6,\"#e6f5d0\"],[0.7,\"#b8e186\"],[0.8,\"#7fbc41\"],[0.9,\"#4d9221\"],[1,\"#276419\"]],\"sequential\":[[0.0,\"#0d0887\"],[0.1111111111111111,\"#46039f\"],[0.2222222222222222,\"#7201a8\"],[0.3333333333333333,\"#9c179e\"],[0.4444444444444444,\"#bd3786\"],[0.5555555555555556,\"#d8576b\"],[0.6666666666666666,\"#ed7953\"],[0.7777777777777778,\"#fb9f3a\"],[0.8888888888888888,\"#fdca26\"],[1.0,\"#f0f921\"]],\"sequentialminus\":[[0.0,\"#0d0887\"],[0.1111111111111111,\"#46039f\"],[0.2222222222222222,\"#7201a8\"],[0.3333333333333333,\"#9c179e\"],[0.4444444444444444,\"#bd3786\"],[0.5555555555555556,\"#d8576b\"],[0.6666666666666666,\"#ed7953\"],[0.7777777777777778,\"#fb9f3a\"],[0.8888888888888888,\"#fdca26\"],[1.0,\"#f0f921\"]]},\"colorway\":[\"#636efa\",\"#EF553B\",\"#00cc96\",\"#ab63fa\",\"#FFA15A\",\"#19d3f3\",\"#FF6692\",\"#B6E880\",\"#FF97FF\",\"#FECB52\"],\"font\":{\"color\":\"#2a3f5f\"},\"geo\":{\"bgcolor\":\"white\",\"lakecolor\":\"white\",\"landcolor\":\"#E5ECF6\",\"showlakes\":true,\"showland\":true,\"subunitcolor\":\"white\"},\"hoverlabel\":{\"align\":\"left\"},\"hovermode\":\"closest\",\"mapbox\":{\"style\":\"light\"},\"paper_bgcolor\":\"white\",\"plot_bgcolor\":\"#E5ECF6\",\"polar\":{\"angularaxis\":{\"gridcolor\":\"white\",\"linecolor\":\"white\",\"ticks\":\"\"},\"bgcolor\":\"#E5ECF6\",\"radialaxis\":{\"gridcolor\":\"white\",\"linecolor\":\"white\",\"ticks\":\"\"}},\"scene\":{\"xaxis\":{\"backgroundcolor\":\"#E5ECF6\",\"gridcolor\":\"white\",\"gridwidth\":2,\"linecolor\":\"white\",\"showbackground\":true,\"ticks\":\"\",\"zerolinecolor\":\"white\"},\"yaxis\":{\"backgroundcolor\":\"#E5ECF6\",\"gridcolor\":\"white\",\"gridwidth\":2,\"linecolor\":\"white\",\"showbackground\":true,\"ticks\":\"\",\"zerolinecolor\":\"white\"},\"zaxis\":{\"backgroundcolor\":\"#E5ECF6\",\"gridcolor\":\"white\",\"gridwidth\":2,\"linecolor\":\"white\",\"showbackground\":true,\"ticks\":\"\",\"zerolinecolor\":\"white\"}},\"shapedefaults\":{\"line\":{\"color\":\"#2a3f5f\"}},\"ternary\":{\"aaxis\":{\"gridcolor\":\"white\",\"linecolor\":\"white\",\"ticks\":\"\"},\"baxis\":{\"gridcolor\":\"white\",\"linecolor\":\"white\",\"ticks\":\"\"},\"bgcolor\":\"#E5ECF6\",\"caxis\":{\"gridcolor\":\"white\",\"linecolor\":\"white\",\"ticks\":\"\"}},\"title\":{\"x\":0.05},\"xaxis\":{\"automargin\":true,\"gridcolor\":\"white\",\"linecolor\":\"white\",\"ticks\":\"\",\"title\":{\"standoff\":15},\"zerolinecolor\":\"white\",\"zerolinewidth\":2},\"yaxis\":{\"automargin\":true,\"gridcolor\":\"white\",\"linecolor\":\"white\",\"ticks\":\"\",\"title\":{\"standoff\":15},\"zerolinecolor\":\"white\",\"zerolinewidth\":2}}},\"xaxis\":{\"anchor\":\"y\",\"domain\":[0.0,1.0],\"title\":{\"text\":\"Average Population from 2005-2015\"},\"type\":\"log\"},\"yaxis\":{\"anchor\":\"x\",\"domain\":[0.0,1.0],\"title\":{\"text\":\"Average Total Olympic medals\"}},\"legend\":{\"tracegroupgap\":0},\"title\":{\"text\":\"Average Population vs Average Total medals from 2004-2016\"}},                        {\"responsive\": true}                    ).then(function(){\n",
       "                            \n",
       "var gd = document.getElementById('c99c52b5-7870-458d-9fb9-1fc0fcfe9121');\n",
       "var x = new MutationObserver(function (mutations, observer) {{\n",
       "        var display = window.getComputedStyle(gd).display;\n",
       "        if (!display || display === 'none') {{\n",
       "            console.log([gd, 'removed!']);\n",
       "            Plotly.purge(gd);\n",
       "            observer.disconnect();\n",
       "        }}\n",
       "}});\n",
       "\n",
       "// Listen for the removal of the full notebook cells\n",
       "var notebookContainer = gd.closest('#notebook-container');\n",
       "if (notebookContainer) {{\n",
       "    x.observe(notebookContainer, {childList: true});\n",
       "}}\n",
       "\n",
       "// Listen for the clearing of the current output cell\n",
       "var outputEl = gd.closest('.output');\n",
       "if (outputEl) {{\n",
       "    x.observe(outputEl, {childList: true});\n",
       "}}\n",
       "\n",
       "                        })                };                });            </script>        </div>"
      ]
     },
     "metadata": {},
     "output_type": "display_data"
    }
   ],
   "source": [
    "olympics_dataframe = pd.read_csv(\"data/medals_gdp_pop_athletes.csv\")  # single merged dataframe\n",
    "od = pivot(olympics_dataframe)  # original pivoted dataframe without averaged values\n",
    "oad = average_data(olympics_dataframe)  # dataframe with averaged values\n",
    "average_medals_plot(oad, \"Average Pop\", \"Average Total\")"
   ]
  },
  {
   "cell_type": "markdown",
   "id": "5c533eb5-5ab7-4397-afbd-60fd3b968c29",
   "metadata": {},
   "source": [
    "## 3.2 Medals vs. GDP per capita\n",
    "\n",
    "Below is a plot of average total medals over all four games vs. average GDP per capita. Using `model_check`, we found that the R-squared value for this model is 0.073, which is once again not very high and lower than the R-squared value for the medals vs. population model. Like medals vs. population, there are some outliers which perform well in the Olympic Games but have low GDPs per capita, like Russia and China. While the US has a high GDP per capita **and** performs well in the Games, outliers like Norway and Switzerland, which have high GDPs per capita and do not perform well, keep the trendline from skewing upwards as GDP per capita increases."
   ]
  },
  {
   "cell_type": "code",
   "execution_count": 8,
   "id": "0125a815-30d2-480c-b8df-62b42fbd5ebf",
   "metadata": {},
   "outputs": [
    {
     "data": {
      "application/vnd.plotly.v1+json": {
       "config": {
        "plotlyServerURL": "https://plot.ly"
       },
       "data": [
        {
         "customdata": [
          [
           "United States"
          ],
          [
           "China"
          ],
          [
           "Russia"
          ],
          [
           "Australia"
          ],
          [
           "Japan"
          ],
          [
           "Germany"
          ],
          [
           "France"
          ],
          [
           "Italy"
          ],
          [
           "South Korea"
          ],
          [
           "Great Britain"
          ],
          [
           "Cuba"
          ],
          [
           "Hungary"
          ],
          [
           "Ukraine"
          ],
          [
           "Romania"
          ],
          [
           "Greece"
          ],
          [
           "Brazil"
          ],
          [
           "Norway"
          ],
          [
           "Netherlands"
          ],
          [
           "Sweden"
          ],
          [
           "Spain"
          ],
          [
           "Canada"
          ],
          [
           "Turkey"
          ],
          [
           "Poland"
          ],
          [
           "New Zealand"
          ],
          [
           "Thailand"
          ],
          [
           "Belarus"
          ],
          [
           "Ethiopia"
          ],
          [
           "Iran"
          ],
          [
           "Slovakia"
          ],
          [
           "Chinese Taipei"
          ],
          [
           "Georgia"
          ],
          [
           "Bulgaria"
          ],
          [
           "Denmark"
          ],
          [
           "Jamaica"
          ],
          [
           "Uzbekistan"
          ],
          [
           "Morocco"
          ],
          [
           "Argentina"
          ],
          [
           "Kazakhstan"
          ],
          [
           "Kenya"
          ],
          [
           "Czech Republic"
          ],
          [
           "South Africa"
          ],
          [
           "Croatia"
          ],
          [
           "Lithuania"
          ],
          [
           "Egypt"
          ],
          [
           "Switzerland"
          ],
          [
           "Indonesia"
          ],
          [
           "Azerbaijan"
          ],
          [
           "Belgium"
          ],
          [
           "Bahamas"
          ],
          [
           "Dominican Republic"
          ],
          [
           "North Korea"
          ],
          [
           "Mexico"
          ],
          [
           "Portugal"
          ],
          [
           "Finland"
          ],
          [
           "Slovenia"
          ],
          [
           "Estonia"
          ],
          [
           "India"
          ],
          [
           "Colombia"
          ],
          [
           "Venezuela"
          ],
          [
           "Mongolia"
          ],
          [
           "Trinidad and Tobago"
          ]
         ],
         "hovertemplate": "Average GDP (per capita) in dollars=%{x}<br>Average Total Olympic medals=%{y}<br>Country=%{customdata[0]}<extra></extra>",
         "legendgroup": "",
         "marker": {
          "color": "#636efa",
          "symbol": "circle"
         },
         "mode": "markers",
         "name": "",
         "orientation": "v",
         "showlegend": false,
         "type": "scatter",
         "x": [
          49922.5,
          9112.75,
          21202.75,
          41489.5,
          36154.5,
          41603.5,
          38282.5,
          36366.25,
          30886.5,
          37752.75,
          5722.5,
          23105,
          9071,
          18250.75,
          27033,
          13339.25,
          59706,
          45762.5,
          43016.5,
          32370.25,
          40863.5,
          19276.25,
          21511,
          32512.25,
          13338.5,
          14560.25,
          1231,
          14800,
          24348.25,
          37631.75,
          8585,
          15247.25,
          44776.5,
          8618.25,
          5307.75,
          6221,
          17454.75,
          18916.75,
          3067.25,
          28733.5,
          12460.25,
          20852.75,
          23243.5,
          10137.75,
          57695.75,
          8540.5,
          12230,
          41098.5,
          32640,
          11786.5,
          577.25,
          16661.75,
          26861.75,
          40042.5,
          28867,
          25067,
          4176,
          11275.5,
          15666.5,
          8227,
          27380.5
         ],
         "xaxis": "x",
         "y": [
          109.5,
          81,
          68.25,
          40,
          35.25,
          44,
          38.25,
          28.75,
          28.25,
          53.25,
          20.75,
          15,
          18.5,
          9.75,
          6.75,
          15.75,
          5.75,
          19.25,
          7.75,
          19,
          18,
          6.75,
          10.75,
          11.25,
          6,
          11.5,
          7.5,
          7.25,
          5,
          3.5,
          6,
          5.75,
          9.75,
          9.75,
          6.25,
          1.75,
          5,
          11.25,
          12.25,
          9.25,
          5.75,
          6.5,
          4.25,
          3.5,
          5.75,
          4,
          9.5,
          3.5,
          1.75,
          1.5,
          6.25,
          5.25,
          1.75,
          2.5,
          4.25,
          2,
          3,
          5.5,
          1.75,
          3,
          2
         ],
         "yaxis": "y"
        },
        {
         "hovertemplate": "<b>OLS trendline</b><br>Average Total = 0.000372206 * Average GDP + 6.21743<br>R<sup>2</sup>=0.072557<br><br>Average GDP (per capita) in dollars=%{x}<br>Average Total Olympic medals=%{y} <b>(trend)</b><extra></extra>",
         "legendgroup": "",
         "marker": {
          "color": "#636efa",
          "symbol": "circle"
         },
         "mode": "lines",
         "name": "",
         "showlegend": false,
         "type": "scatter",
         "x": [
          577.25,
          1231,
          3067.25,
          4176,
          5307.75,
          5722.5,
          6221,
          8227,
          8540.5,
          8585,
          8618.25,
          9071,
          9112.75,
          10137.75,
          11275.5,
          11786.5,
          12230,
          12460.25,
          13338.5,
          13339.25,
          14560.25,
          14800,
          15247.25,
          15666.5,
          16661.75,
          17454.75,
          18250.75,
          18916.75,
          19276.25,
          20852.75,
          21202.75,
          21511,
          23105,
          23243.5,
          24348.25,
          25067,
          26861.75,
          27033,
          27380.5,
          28733.5,
          28867,
          30886.5,
          32370.25,
          32512.25,
          32640,
          36154.5,
          36366.25,
          37631.75,
          37752.75,
          38282.5,
          40042.5,
          40863.5,
          41098.5,
          41489.5,
          41603.5,
          43016.5,
          44776.5,
          45762.5,
          49922.5,
          57695.75,
          59706
         ],
         "xaxis": "x",
         "y": [
          6.43228451691351,
          6.675614156902673,
          7.359077333086382,
          7.771760680448499,
          8.193004764666831,
          8.347377182541408,
          8.532921848751117,
          9.279566984993199,
          9.396253550402916,
          9.41281671518994,
          9.425192563036425,
          9.593708807021272,
          9.609248405445054,
          9.99075950447204,
          10.414236824391992,
          10.60443406498008,
          10.769507403924926,
          10.855207823974649,
          11.182097699799478,
          11.182376854262179,
          11.636840319542129,
          11.726076696119417,
          11.892545807377777,
          12.04859315202857,
          12.419031124035016,
          12.714190442599309,
          13.01046637901441,
          13.258355541894385,
          13.392163581016533,
          13.978946261617548,
          14.109218344212128,
          14.223950828382927,
          14.817247113113673,
          14.8687976372261,
          15.279992160787135,
          15.547515187543864,
          16.215531816791355,
          16.279272085775133,
          16.408613653494037,
          16.91220830420966,
          16.961897798570735,
          17.713567715141465,
          18.265828293854916,
          18.31868153879329,
          18.36623084894031,
          19.674348661165034,
          19.753163271134753,
          20.22418990120173,
          20.269226821184425,
          20.46640292334008,
          21.121485395815682,
          21.42706648098754,
          21.514534879301046,
          21.660067405856708,
          21.702498884187513,
          22.22842589191935,
          22.88350836439495,
          23.250503431361395,
          24.798880184485554,
          27.692130087423614,
          28.440357098954344
         ],
         "yaxis": "y"
        }
       ],
       "layout": {
        "autosize": true,
        "legend": {
         "tracegroupgap": 0
        },
        "template": {
         "data": {
          "bar": [
           {
            "error_x": {
             "color": "#2a3f5f"
            },
            "error_y": {
             "color": "#2a3f5f"
            },
            "marker": {
             "line": {
              "color": "#E5ECF6",
              "width": 0.5
             },
             "pattern": {
              "fillmode": "overlay",
              "size": 10,
              "solidity": 0.2
             }
            },
            "type": "bar"
           }
          ],
          "barpolar": [
           {
            "marker": {
             "line": {
              "color": "#E5ECF6",
              "width": 0.5
             },
             "pattern": {
              "fillmode": "overlay",
              "size": 10,
              "solidity": 0.2
             }
            },
            "type": "barpolar"
           }
          ],
          "carpet": [
           {
            "aaxis": {
             "endlinecolor": "#2a3f5f",
             "gridcolor": "white",
             "linecolor": "white",
             "minorgridcolor": "white",
             "startlinecolor": "#2a3f5f"
            },
            "baxis": {
             "endlinecolor": "#2a3f5f",
             "gridcolor": "white",
             "linecolor": "white",
             "minorgridcolor": "white",
             "startlinecolor": "#2a3f5f"
            },
            "type": "carpet"
           }
          ],
          "choropleth": [
           {
            "colorbar": {
             "outlinewidth": 0,
             "ticks": ""
            },
            "type": "choropleth"
           }
          ],
          "contour": [
           {
            "colorbar": {
             "outlinewidth": 0,
             "ticks": ""
            },
            "colorscale": [
             [
              0,
              "#0d0887"
             ],
             [
              0.1111111111111111,
              "#46039f"
             ],
             [
              0.2222222222222222,
              "#7201a8"
             ],
             [
              0.3333333333333333,
              "#9c179e"
             ],
             [
              0.4444444444444444,
              "#bd3786"
             ],
             [
              0.5555555555555556,
              "#d8576b"
             ],
             [
              0.6666666666666666,
              "#ed7953"
             ],
             [
              0.7777777777777778,
              "#fb9f3a"
             ],
             [
              0.8888888888888888,
              "#fdca26"
             ],
             [
              1,
              "#f0f921"
             ]
            ],
            "type": "contour"
           }
          ],
          "contourcarpet": [
           {
            "colorbar": {
             "outlinewidth": 0,
             "ticks": ""
            },
            "type": "contourcarpet"
           }
          ],
          "heatmap": [
           {
            "colorbar": {
             "outlinewidth": 0,
             "ticks": ""
            },
            "colorscale": [
             [
              0,
              "#0d0887"
             ],
             [
              0.1111111111111111,
              "#46039f"
             ],
             [
              0.2222222222222222,
              "#7201a8"
             ],
             [
              0.3333333333333333,
              "#9c179e"
             ],
             [
              0.4444444444444444,
              "#bd3786"
             ],
             [
              0.5555555555555556,
              "#d8576b"
             ],
             [
              0.6666666666666666,
              "#ed7953"
             ],
             [
              0.7777777777777778,
              "#fb9f3a"
             ],
             [
              0.8888888888888888,
              "#fdca26"
             ],
             [
              1,
              "#f0f921"
             ]
            ],
            "type": "heatmap"
           }
          ],
          "heatmapgl": [
           {
            "colorbar": {
             "outlinewidth": 0,
             "ticks": ""
            },
            "colorscale": [
             [
              0,
              "#0d0887"
             ],
             [
              0.1111111111111111,
              "#46039f"
             ],
             [
              0.2222222222222222,
              "#7201a8"
             ],
             [
              0.3333333333333333,
              "#9c179e"
             ],
             [
              0.4444444444444444,
              "#bd3786"
             ],
             [
              0.5555555555555556,
              "#d8576b"
             ],
             [
              0.6666666666666666,
              "#ed7953"
             ],
             [
              0.7777777777777778,
              "#fb9f3a"
             ],
             [
              0.8888888888888888,
              "#fdca26"
             ],
             [
              1,
              "#f0f921"
             ]
            ],
            "type": "heatmapgl"
           }
          ],
          "histogram": [
           {
            "marker": {
             "pattern": {
              "fillmode": "overlay",
              "size": 10,
              "solidity": 0.2
             }
            },
            "type": "histogram"
           }
          ],
          "histogram2d": [
           {
            "colorbar": {
             "outlinewidth": 0,
             "ticks": ""
            },
            "colorscale": [
             [
              0,
              "#0d0887"
             ],
             [
              0.1111111111111111,
              "#46039f"
             ],
             [
              0.2222222222222222,
              "#7201a8"
             ],
             [
              0.3333333333333333,
              "#9c179e"
             ],
             [
              0.4444444444444444,
              "#bd3786"
             ],
             [
              0.5555555555555556,
              "#d8576b"
             ],
             [
              0.6666666666666666,
              "#ed7953"
             ],
             [
              0.7777777777777778,
              "#fb9f3a"
             ],
             [
              0.8888888888888888,
              "#fdca26"
             ],
             [
              1,
              "#f0f921"
             ]
            ],
            "type": "histogram2d"
           }
          ],
          "histogram2dcontour": [
           {
            "colorbar": {
             "outlinewidth": 0,
             "ticks": ""
            },
            "colorscale": [
             [
              0,
              "#0d0887"
             ],
             [
              0.1111111111111111,
              "#46039f"
             ],
             [
              0.2222222222222222,
              "#7201a8"
             ],
             [
              0.3333333333333333,
              "#9c179e"
             ],
             [
              0.4444444444444444,
              "#bd3786"
             ],
             [
              0.5555555555555556,
              "#d8576b"
             ],
             [
              0.6666666666666666,
              "#ed7953"
             ],
             [
              0.7777777777777778,
              "#fb9f3a"
             ],
             [
              0.8888888888888888,
              "#fdca26"
             ],
             [
              1,
              "#f0f921"
             ]
            ],
            "type": "histogram2dcontour"
           }
          ],
          "mesh3d": [
           {
            "colorbar": {
             "outlinewidth": 0,
             "ticks": ""
            },
            "type": "mesh3d"
           }
          ],
          "parcoords": [
           {
            "line": {
             "colorbar": {
              "outlinewidth": 0,
              "ticks": ""
             }
            },
            "type": "parcoords"
           }
          ],
          "pie": [
           {
            "automargin": true,
            "type": "pie"
           }
          ],
          "scatter": [
           {
            "marker": {
             "colorbar": {
              "outlinewidth": 0,
              "ticks": ""
             }
            },
            "type": "scatter"
           }
          ],
          "scatter3d": [
           {
            "line": {
             "colorbar": {
              "outlinewidth": 0,
              "ticks": ""
             }
            },
            "marker": {
             "colorbar": {
              "outlinewidth": 0,
              "ticks": ""
             }
            },
            "type": "scatter3d"
           }
          ],
          "scattercarpet": [
           {
            "marker": {
             "colorbar": {
              "outlinewidth": 0,
              "ticks": ""
             }
            },
            "type": "scattercarpet"
           }
          ],
          "scattergeo": [
           {
            "marker": {
             "colorbar": {
              "outlinewidth": 0,
              "ticks": ""
             }
            },
            "type": "scattergeo"
           }
          ],
          "scattergl": [
           {
            "marker": {
             "colorbar": {
              "outlinewidth": 0,
              "ticks": ""
             }
            },
            "type": "scattergl"
           }
          ],
          "scattermapbox": [
           {
            "marker": {
             "colorbar": {
              "outlinewidth": 0,
              "ticks": ""
             }
            },
            "type": "scattermapbox"
           }
          ],
          "scatterpolar": [
           {
            "marker": {
             "colorbar": {
              "outlinewidth": 0,
              "ticks": ""
             }
            },
            "type": "scatterpolar"
           }
          ],
          "scatterpolargl": [
           {
            "marker": {
             "colorbar": {
              "outlinewidth": 0,
              "ticks": ""
             }
            },
            "type": "scatterpolargl"
           }
          ],
          "scatterternary": [
           {
            "marker": {
             "colorbar": {
              "outlinewidth": 0,
              "ticks": ""
             }
            },
            "type": "scatterternary"
           }
          ],
          "surface": [
           {
            "colorbar": {
             "outlinewidth": 0,
             "ticks": ""
            },
            "colorscale": [
             [
              0,
              "#0d0887"
             ],
             [
              0.1111111111111111,
              "#46039f"
             ],
             [
              0.2222222222222222,
              "#7201a8"
             ],
             [
              0.3333333333333333,
              "#9c179e"
             ],
             [
              0.4444444444444444,
              "#bd3786"
             ],
             [
              0.5555555555555556,
              "#d8576b"
             ],
             [
              0.6666666666666666,
              "#ed7953"
             ],
             [
              0.7777777777777778,
              "#fb9f3a"
             ],
             [
              0.8888888888888888,
              "#fdca26"
             ],
             [
              1,
              "#f0f921"
             ]
            ],
            "type": "surface"
           }
          ],
          "table": [
           {
            "cells": {
             "fill": {
              "color": "#EBF0F8"
             },
             "line": {
              "color": "white"
             }
            },
            "header": {
             "fill": {
              "color": "#C8D4E3"
             },
             "line": {
              "color": "white"
             }
            },
            "type": "table"
           }
          ]
         },
         "layout": {
          "annotationdefaults": {
           "arrowcolor": "#2a3f5f",
           "arrowhead": 0,
           "arrowwidth": 1
          },
          "autotypenumbers": "strict",
          "coloraxis": {
           "colorbar": {
            "outlinewidth": 0,
            "ticks": ""
           }
          },
          "colorscale": {
           "diverging": [
            [
             0,
             "#8e0152"
            ],
            [
             0.1,
             "#c51b7d"
            ],
            [
             0.2,
             "#de77ae"
            ],
            [
             0.3,
             "#f1b6da"
            ],
            [
             0.4,
             "#fde0ef"
            ],
            [
             0.5,
             "#f7f7f7"
            ],
            [
             0.6,
             "#e6f5d0"
            ],
            [
             0.7,
             "#b8e186"
            ],
            [
             0.8,
             "#7fbc41"
            ],
            [
             0.9,
             "#4d9221"
            ],
            [
             1,
             "#276419"
            ]
           ],
           "sequential": [
            [
             0,
             "#0d0887"
            ],
            [
             0.1111111111111111,
             "#46039f"
            ],
            [
             0.2222222222222222,
             "#7201a8"
            ],
            [
             0.3333333333333333,
             "#9c179e"
            ],
            [
             0.4444444444444444,
             "#bd3786"
            ],
            [
             0.5555555555555556,
             "#d8576b"
            ],
            [
             0.6666666666666666,
             "#ed7953"
            ],
            [
             0.7777777777777778,
             "#fb9f3a"
            ],
            [
             0.8888888888888888,
             "#fdca26"
            ],
            [
             1,
             "#f0f921"
            ]
           ],
           "sequentialminus": [
            [
             0,
             "#0d0887"
            ],
            [
             0.1111111111111111,
             "#46039f"
            ],
            [
             0.2222222222222222,
             "#7201a8"
            ],
            [
             0.3333333333333333,
             "#9c179e"
            ],
            [
             0.4444444444444444,
             "#bd3786"
            ],
            [
             0.5555555555555556,
             "#d8576b"
            ],
            [
             0.6666666666666666,
             "#ed7953"
            ],
            [
             0.7777777777777778,
             "#fb9f3a"
            ],
            [
             0.8888888888888888,
             "#fdca26"
            ],
            [
             1,
             "#f0f921"
            ]
           ]
          },
          "colorway": [
           "#636efa",
           "#EF553B",
           "#00cc96",
           "#ab63fa",
           "#FFA15A",
           "#19d3f3",
           "#FF6692",
           "#B6E880",
           "#FF97FF",
           "#FECB52"
          ],
          "font": {
           "color": "#2a3f5f"
          },
          "geo": {
           "bgcolor": "white",
           "lakecolor": "white",
           "landcolor": "#E5ECF6",
           "showlakes": true,
           "showland": true,
           "subunitcolor": "white"
          },
          "hoverlabel": {
           "align": "left"
          },
          "hovermode": "closest",
          "mapbox": {
           "style": "light"
          },
          "paper_bgcolor": "white",
          "plot_bgcolor": "#E5ECF6",
          "polar": {
           "angularaxis": {
            "gridcolor": "white",
            "linecolor": "white",
            "ticks": ""
           },
           "bgcolor": "#E5ECF6",
           "radialaxis": {
            "gridcolor": "white",
            "linecolor": "white",
            "ticks": ""
           }
          },
          "scene": {
           "xaxis": {
            "backgroundcolor": "#E5ECF6",
            "gridcolor": "white",
            "gridwidth": 2,
            "linecolor": "white",
            "showbackground": true,
            "ticks": "",
            "zerolinecolor": "white"
           },
           "yaxis": {
            "backgroundcolor": "#E5ECF6",
            "gridcolor": "white",
            "gridwidth": 2,
            "linecolor": "white",
            "showbackground": true,
            "ticks": "",
            "zerolinecolor": "white"
           },
           "zaxis": {
            "backgroundcolor": "#E5ECF6",
            "gridcolor": "white",
            "gridwidth": 2,
            "linecolor": "white",
            "showbackground": true,
            "ticks": "",
            "zerolinecolor": "white"
           }
          },
          "shapedefaults": {
           "line": {
            "color": "#2a3f5f"
           }
          },
          "ternary": {
           "aaxis": {
            "gridcolor": "white",
            "linecolor": "white",
            "ticks": ""
           },
           "baxis": {
            "gridcolor": "white",
            "linecolor": "white",
            "ticks": ""
           },
           "bgcolor": "#E5ECF6",
           "caxis": {
            "gridcolor": "white",
            "linecolor": "white",
            "ticks": ""
           }
          },
          "title": {
           "x": 0.05
          },
          "xaxis": {
           "automargin": true,
           "gridcolor": "white",
           "linecolor": "white",
           "ticks": "",
           "title": {
            "standoff": 15
           },
           "zerolinecolor": "white",
           "zerolinewidth": 2
          },
          "yaxis": {
           "automargin": true,
           "gridcolor": "white",
           "linecolor": "white",
           "ticks": "",
           "title": {
            "standoff": 15
           },
           "zerolinecolor": "white",
           "zerolinewidth": 2
          }
         }
        },
        "title": {
         "text": "Average GDP (per capita) vs Average Total medals from 2004-2016"
        },
        "xaxis": {
         "anchor": "y",
         "autorange": true,
         "domain": [
          0,
          1
         ],
         "range": [
          -3120.7754443326626,
          63404.02544433266
         ],
         "title": {
          "text": "Average GDP (per capita) in dollars"
         },
         "type": "linear"
        },
        "yaxis": {
         "anchor": "x",
         "autorange": true,
         "domain": [
          0,
          1
         ],
         "range": [
          -7.4126213592233015,
          118.4126213592233
         ],
         "title": {
          "text": "Average Total Olympic medals"
         },
         "type": "linear"
        }
       }
      },
      "image/png": "[encoded data removed]",
      "text/html": [
       "<div>                            <div id=\"84c0a14e-ef71-4dd6-8af4-4eddfe1761e6\" class=\"plotly-graph-div\" style=\"height:525px; width:100%;\"></div>            <script type=\"text/javascript\">                require([\"plotly\"], function(Plotly) {                    window.PLOTLYENV=window.PLOTLYENV || {};                                    if (document.getElementById(\"84c0a14e-ef71-4dd6-8af4-4eddfe1761e6\")) {                    Plotly.newPlot(                        \"84c0a14e-ef71-4dd6-8af4-4eddfe1761e6\",                        [{\"customdata\":[[\"United States\"],[\"China\"],[\"Russia\"],[\"Australia\"],[\"Japan\"],[\"Germany\"],[\"France\"],[\"Italy\"],[\"South Korea\"],[\"Great Britain\"],[\"Cuba\"],[\"Hungary\"],[\"Ukraine\"],[\"Romania\"],[\"Greece\"],[\"Brazil\"],[\"Norway\"],[\"Netherlands\"],[\"Sweden\"],[\"Spain\"],[\"Canada\"],[\"Turkey\"],[\"Poland\"],[\"New Zealand\"],[\"Thailand\"],[\"Belarus\"],[\"Ethiopia\"],[\"Iran\"],[\"Slovakia\"],[\"Chinese Taipei\"],[\"Georgia\"],[\"Bulgaria\"],[\"Denmark\"],[\"Jamaica\"],[\"Uzbekistan\"],[\"Morocco\"],[\"Argentina\"],[\"Kazakhstan\"],[\"Kenya\"],[\"Czech Republic\"],[\"South Africa\"],[\"Croatia\"],[\"Lithuania\"],[\"Egypt\"],[\"Switzerland\"],[\"Indonesia\"],[\"Azerbaijan\"],[\"Belgium\"],[\"Bahamas\"],[\"Dominican Republic\"],[\"North Korea\"],[\"Mexico\"],[\"Portugal\"],[\"Finland\"],[\"Slovenia\"],[\"Estonia\"],[\"India\"],[\"Colombia\"],[\"Venezuela\"],[\"Mongolia\"],[\"Trinidad and Tobago\"]],\"hovertemplate\":\"Average GDP (per capita) in dollars=%{x}<br>Average Total Olympic medals=%{y}<br>Country=%{customdata[0]}<extra></extra>\",\"legendgroup\":\"\",\"marker\":{\"color\":\"#636efa\",\"symbol\":\"circle\"},\"mode\":\"markers\",\"name\":\"\",\"orientation\":\"v\",\"showlegend\":false,\"x\":[49922.5,9112.75,21202.75,41489.5,36154.5,41603.5,38282.5,36366.25,30886.5,37752.75,5722.5,23105.0,9071.0,18250.75,27033.0,13339.25,59706.0,45762.5,43016.5,32370.25,40863.5,19276.25,21511.0,32512.25,13338.5,14560.25,1231.0,14800.0,24348.25,37631.75,8585.0,15247.25,44776.5,8618.25,5307.75,6221.0,17454.75,18916.75,3067.25,28733.5,12460.25,20852.75,23243.5,10137.75,57695.75,8540.5,12230.0,41098.5,32640.0,11786.5,577.25,16661.75,26861.75,40042.5,28867.0,25067.0,4176.0,11275.5,15666.5,8227.0,27380.5],\"xaxis\":\"x\",\"y\":[109.5,81.0,68.25,40.0,35.25,44.0,38.25,28.75,28.25,53.25,20.75,15.0,18.5,9.75,6.75,15.75,5.75,19.25,7.75,19.0,18.0,6.75,10.75,11.25,6.0,11.5,7.5,7.25,5.0,3.5,6.0,5.75,9.75,9.75,6.25,1.75,5.0,11.25,12.25,9.25,5.75,6.5,4.25,3.5,5.75,4.0,9.5,3.5,1.75,1.5,6.25,5.25,1.75,2.5,4.25,2.0,3.0,5.5,1.75,3.0,2.0],\"yaxis\":\"y\",\"type\":\"scatter\"},{\"hovertemplate\":\"<b>OLS trendline</b><br>Average Total = 0.000372206 * Average GDP + 6.21743<br>R<sup>2</sup>=0.072557<br><br>Average GDP (per capita) in dollars=%{x}<br>Average Total Olympic medals=%{y} <b>(trend)</b><extra></extra>\",\"legendgroup\":\"\",\"marker\":{\"color\":\"#636efa\",\"symbol\":\"circle\"},\"mode\":\"lines\",\"name\":\"\",\"showlegend\":false,\"x\":[577.25,1231.0,3067.25,4176.0,5307.75,5722.5,6221.0,8227.0,8540.5,8585.0,8618.25,9071.0,9112.75,10137.75,11275.5,11786.5,12230.0,12460.25,13338.5,13339.25,14560.25,14800.0,15247.25,15666.5,16661.75,17454.75,18250.75,18916.75,19276.25,20852.75,21202.75,21511.0,23105.0,23243.5,24348.25,25067.0,26861.75,27033.0,27380.5,28733.5,28867.0,30886.5,32370.25,32512.25,32640.0,36154.5,36366.25,37631.75,37752.75,38282.5,40042.5,40863.5,41098.5,41489.5,41603.5,43016.5,44776.5,45762.5,49922.5,57695.75,59706.0],\"xaxis\":\"x\",\"y\":[6.43228451691351,6.675614156902673,7.359077333086382,7.771760680448499,8.193004764666831,8.347377182541408,8.532921848751117,9.279566984993199,9.396253550402916,9.41281671518994,9.425192563036425,9.593708807021272,9.609248405445054,9.99075950447204,10.414236824391992,10.60443406498008,10.769507403924926,10.855207823974649,11.182097699799478,11.182376854262179,11.636840319542129,11.726076696119417,11.892545807377777,12.04859315202857,12.419031124035016,12.714190442599309,13.01046637901441,13.258355541894385,13.392163581016533,13.978946261617548,14.109218344212128,14.223950828382927,14.817247113113673,14.8687976372261,15.279992160787135,15.547515187543864,16.215531816791355,16.279272085775133,16.408613653494037,16.91220830420966,16.961897798570735,17.713567715141465,18.265828293854916,18.31868153879329,18.36623084894031,19.674348661165034,19.753163271134753,20.22418990120173,20.269226821184425,20.46640292334008,21.121485395815682,21.42706648098754,21.514534879301046,21.660067405856708,21.702498884187513,22.22842589191935,22.88350836439495,23.250503431361395,24.798880184485554,27.692130087423614,28.440357098954344],\"yaxis\":\"y\",\"type\":\"scatter\"}],                        {\"template\":{\"data\":{\"bar\":[{\"error_x\":{\"color\":\"#2a3f5f\"},\"error_y\":{\"color\":\"#2a3f5f\"},\"marker\":{\"line\":{\"color\":\"#E5ECF6\",\"width\":0.5},\"pattern\":{\"fillmode\":\"overlay\",\"size\":10,\"solidity\":0.2}},\"type\":\"bar\"}],\"barpolar\":[{\"marker\":{\"line\":{\"color\":\"#E5ECF6\",\"width\":0.5},\"pattern\":{\"fillmode\":\"overlay\",\"size\":10,\"solidity\":0.2}},\"type\":\"barpolar\"}],\"carpet\":[{\"aaxis\":{\"endlinecolor\":\"#2a3f5f\",\"gridcolor\":\"white\",\"linecolor\":\"white\",\"minorgridcolor\":\"white\",\"startlinecolor\":\"#2a3f5f\"},\"baxis\":{\"endlinecolor\":\"#2a3f5f\",\"gridcolor\":\"white\",\"linecolor\":\"white\",\"minorgridcolor\":\"white\",\"startlinecolor\":\"#2a3f5f\"},\"type\":\"carpet\"}],\"choropleth\":[{\"colorbar\":{\"outlinewidth\":0,\"ticks\":\"\"},\"type\":\"choropleth\"}],\"contour\":[{\"colorbar\":{\"outlinewidth\":0,\"ticks\":\"\"},\"colorscale\":[[0.0,\"#0d0887\"],[0.1111111111111111,\"#46039f\"],[0.2222222222222222,\"#7201a8\"],[0.3333333333333333,\"#9c179e\"],[0.4444444444444444,\"#bd3786\"],[0.5555555555555556,\"#d8576b\"],[0.6666666666666666,\"#ed7953\"],[0.7777777777777778,\"#fb9f3a\"],[0.8888888888888888,\"#fdca26\"],[1.0,\"#f0f921\"]],\"type\":\"contour\"}],\"contourcarpet\":[{\"colorbar\":{\"outlinewidth\":0,\"ticks\":\"\"},\"type\":\"contourcarpet\"}],\"heatmap\":[{\"colorbar\":{\"outlinewidth\":0,\"ticks\":\"\"},\"colorscale\":[[0.0,\"#0d0887\"],[0.1111111111111111,\"#46039f\"],[0.2222222222222222,\"#7201a8\"],[0.3333333333333333,\"#9c179e\"],[0.4444444444444444,\"#bd3786\"],[0.5555555555555556,\"#d8576b\"],[0.6666666666666666,\"#ed7953\"],[0.7777777777777778,\"#fb9f3a\"],[0.8888888888888888,\"#fdca26\"],[1.0,\"#f0f921\"]],\"type\":\"heatmap\"}],\"heatmapgl\":[{\"colorbar\":{\"outlinewidth\":0,\"ticks\":\"\"},\"colorscale\":[[0.0,\"#0d0887\"],[0.1111111111111111,\"#46039f\"],[0.2222222222222222,\"#7201a8\"],[0.3333333333333333,\"#9c179e\"],[0.4444444444444444,\"#bd3786\"],[0.5555555555555556,\"#d8576b\"],[0.6666666666666666,\"#ed7953\"],[0.7777777777777778,\"#fb9f3a\"],[0.8888888888888888,\"#fdca26\"],[1.0,\"#f0f921\"]],\"type\":\"heatmapgl\"}],\"histogram\":[{\"marker\":{\"pattern\":{\"fillmode\":\"overlay\",\"size\":10,\"solidity\":0.2}},\"type\":\"histogram\"}],\"histogram2d\":[{\"colorbar\":{\"outlinewidth\":0,\"ticks\":\"\"},\"colorscale\":[[0.0,\"#0d0887\"],[0.1111111111111111,\"#46039f\"],[0.2222222222222222,\"#7201a8\"],[0.3333333333333333,\"#9c179e\"],[0.4444444444444444,\"#bd3786\"],[0.5555555555555556,\"#d8576b\"],[0.6666666666666666,\"#ed7953\"],[0.7777777777777778,\"#fb9f3a\"],[0.8888888888888888,\"#fdca26\"],[1.0,\"#f0f921\"]],\"type\":\"histogram2d\"}],\"histogram2dcontour\":[{\"colorbar\":{\"outlinewidth\":0,\"ticks\":\"\"},\"colorscale\":[[0.0,\"#0d0887\"],[0.1111111111111111,\"#46039f\"],[0.2222222222222222,\"#7201a8\"],[0.3333333333333333,\"#9c179e\"],[0.4444444444444444,\"#bd3786\"],[0.5555555555555556,\"#d8576b\"],[0.6666666666666666,\"#ed7953\"],[0.7777777777777778,\"#fb9f3a\"],[0.8888888888888888,\"#fdca26\"],[1.0,\"#f0f921\"]],\"type\":\"histogram2dcontour\"}],\"mesh3d\":[{\"colorbar\":{\"outlinewidth\":0,\"ticks\":\"\"},\"type\":\"mesh3d\"}],\"parcoords\":[{\"line\":{\"colorbar\":{\"outlinewidth\":0,\"ticks\":\"\"}},\"type\":\"parcoords\"}],\"pie\":[{\"automargin\":true,\"type\":\"pie\"}],\"scatter\":[{\"marker\":{\"colorbar\":{\"outlinewidth\":0,\"ticks\":\"\"}},\"type\":\"scatter\"}],\"scatter3d\":[{\"line\":{\"colorbar\":{\"outlinewidth\":0,\"ticks\":\"\"}},\"marker\":{\"colorbar\":{\"outlinewidth\":0,\"ticks\":\"\"}},\"type\":\"scatter3d\"}],\"scattercarpet\":[{\"marker\":{\"colorbar\":{\"outlinewidth\":0,\"ticks\":\"\"}},\"type\":\"scattercarpet\"}],\"scattergeo\":[{\"marker\":{\"colorbar\":{\"outlinewidth\":0,\"ticks\":\"\"}},\"type\":\"scattergeo\"}],\"scattergl\":[{\"marker\":{\"colorbar\":{\"outlinewidth\":0,\"ticks\":\"\"}},\"type\":\"scattergl\"}],\"scattermapbox\":[{\"marker\":{\"colorbar\":{\"outlinewidth\":0,\"ticks\":\"\"}},\"type\":\"scattermapbox\"}],\"scatterpolar\":[{\"marker\":{\"colorbar\":{\"outlinewidth\":0,\"ticks\":\"\"}},\"type\":\"scatterpolar\"}],\"scatterpolargl\":[{\"marker\":{\"colorbar\":{\"outlinewidth\":0,\"ticks\":\"\"}},\"type\":\"scatterpolargl\"}],\"scatterternary\":[{\"marker\":{\"colorbar\":{\"outlinewidth\":0,\"ticks\":\"\"}},\"type\":\"scatterternary\"}],\"surface\":[{\"colorbar\":{\"outlinewidth\":0,\"ticks\":\"\"},\"colorscale\":[[0.0,\"#0d0887\"],[0.1111111111111111,\"#46039f\"],[0.2222222222222222,\"#7201a8\"],[0.3333333333333333,\"#9c179e\"],[0.4444444444444444,\"#bd3786\"],[0.5555555555555556,\"#d8576b\"],[0.6666666666666666,\"#ed7953\"],[0.7777777777777778,\"#fb9f3a\"],[0.8888888888888888,\"#fdca26\"],[1.0,\"#f0f921\"]],\"type\":\"surface\"}],\"table\":[{\"cells\":{\"fill\":{\"color\":\"#EBF0F8\"},\"line\":{\"color\":\"white\"}},\"header\":{\"fill\":{\"color\":\"#C8D4E3\"},\"line\":{\"color\":\"white\"}},\"type\":\"table\"}]},\"layout\":{\"annotationdefaults\":{\"arrowcolor\":\"#2a3f5f\",\"arrowhead\":0,\"arrowwidth\":1},\"autotypenumbers\":\"strict\",\"coloraxis\":{\"colorbar\":{\"outlinewidth\":0,\"ticks\":\"\"}},\"colorscale\":{\"diverging\":[[0,\"#8e0152\"],[0.1,\"#c51b7d\"],[0.2,\"#de77ae\"],[0.3,\"#f1b6da\"],[0.4,\"#fde0ef\"],[0.5,\"#f7f7f7\"],[0.6,\"#e6f5d0\"],[0.7,\"#b8e186\"],[0.8,\"#7fbc41\"],[0.9,\"#4d9221\"],[1,\"#276419\"]],\"sequential\":[[0.0,\"#0d0887\"],[0.1111111111111111,\"#46039f\"],[0.2222222222222222,\"#7201a8\"],[0.3333333333333333,\"#9c179e\"],[0.4444444444444444,\"#bd3786\"],[0.5555555555555556,\"#d8576b\"],[0.6666666666666666,\"#ed7953\"],[0.7777777777777778,\"#fb9f3a\"],[0.8888888888888888,\"#fdca26\"],[1.0,\"#f0f921\"]],\"sequentialminus\":[[0.0,\"#0d0887\"],[0.1111111111111111,\"#46039f\"],[0.2222222222222222,\"#7201a8\"],[0.3333333333333333,\"#9c179e\"],[0.4444444444444444,\"#bd3786\"],[0.5555555555555556,\"#d8576b\"],[0.6666666666666666,\"#ed7953\"],[0.7777777777777778,\"#fb9f3a\"],[0.8888888888888888,\"#fdca26\"],[1.0,\"#f0f921\"]]},\"colorway\":[\"#636efa\",\"#EF553B\",\"#00cc96\",\"#ab63fa\",\"#FFA15A\",\"#19d3f3\",\"#FF6692\",\"#B6E880\",\"#FF97FF\",\"#FECB52\"],\"font\":{\"color\":\"#2a3f5f\"},\"geo\":{\"bgcolor\":\"white\",\"lakecolor\":\"white\",\"landcolor\":\"#E5ECF6\",\"showlakes\":true,\"showland\":true,\"subunitcolor\":\"white\"},\"hoverlabel\":{\"align\":\"left\"},\"hovermode\":\"closest\",\"mapbox\":{\"style\":\"light\"},\"paper_bgcolor\":\"white\",\"plot_bgcolor\":\"#E5ECF6\",\"polar\":{\"angularaxis\":{\"gridcolor\":\"white\",\"linecolor\":\"white\",\"ticks\":\"\"},\"bgcolor\":\"#E5ECF6\",\"radialaxis\":{\"gridcolor\":\"white\",\"linecolor\":\"white\",\"ticks\":\"\"}},\"scene\":{\"xaxis\":{\"backgroundcolor\":\"#E5ECF6\",\"gridcolor\":\"white\",\"gridwidth\":2,\"linecolor\":\"white\",\"showbackground\":true,\"ticks\":\"\",\"zerolinecolor\":\"white\"},\"yaxis\":{\"backgroundcolor\":\"#E5ECF6\",\"gridcolor\":\"white\",\"gridwidth\":2,\"linecolor\":\"white\",\"showbackground\":true,\"ticks\":\"\",\"zerolinecolor\":\"white\"},\"zaxis\":{\"backgroundcolor\":\"#E5ECF6\",\"gridcolor\":\"white\",\"gridwidth\":2,\"linecolor\":\"white\",\"showbackground\":true,\"ticks\":\"\",\"zerolinecolor\":\"white\"}},\"shapedefaults\":{\"line\":{\"color\":\"#2a3f5f\"}},\"ternary\":{\"aaxis\":{\"gridcolor\":\"white\",\"linecolor\":\"white\",\"ticks\":\"\"},\"baxis\":{\"gridcolor\":\"white\",\"linecolor\":\"white\",\"ticks\":\"\"},\"bgcolor\":\"#E5ECF6\",\"caxis\":{\"gridcolor\":\"white\",\"linecolor\":\"white\",\"ticks\":\"\"}},\"title\":{\"x\":0.05},\"xaxis\":{\"automargin\":true,\"gridcolor\":\"white\",\"linecolor\":\"white\",\"ticks\":\"\",\"title\":{\"standoff\":15},\"zerolinecolor\":\"white\",\"zerolinewidth\":2},\"yaxis\":{\"automargin\":true,\"gridcolor\":\"white\",\"linecolor\":\"white\",\"ticks\":\"\",\"title\":{\"standoff\":15},\"zerolinecolor\":\"white\",\"zerolinewidth\":2}}},\"xaxis\":{\"anchor\":\"y\",\"domain\":[0.0,1.0],\"title\":{\"text\":\"Average GDP (per capita) in dollars\"}},\"yaxis\":{\"anchor\":\"x\",\"domain\":[0.0,1.0],\"title\":{\"text\":\"Average Total Olympic medals\"}},\"legend\":{\"tracegroupgap\":0},\"title\":{\"text\":\"Average GDP (per capita) vs Average Total medals from 2004-2016\"}},                        {\"responsive\": true}                    ).then(function(){\n",
       "                            \n",
       "var gd = document.getElementById('84c0a14e-ef71-4dd6-8af4-4eddfe1761e6');\n",
       "var x = new MutationObserver(function (mutations, observer) {{\n",
       "        var display = window.getComputedStyle(gd).display;\n",
       "        if (!display || display === 'none') {{\n",
       "            console.log([gd, 'removed!']);\n",
       "            Plotly.purge(gd);\n",
       "            observer.disconnect();\n",
       "        }}\n",
       "}});\n",
       "\n",
       "// Listen for the removal of the full notebook cells\n",
       "var notebookContainer = gd.closest('#notebook-container');\n",
       "if (notebookContainer) {{\n",
       "    x.observe(notebookContainer, {childList: true});\n",
       "}}\n",
       "\n",
       "// Listen for the clearing of the current output cell\n",
       "var outputEl = gd.closest('.output');\n",
       "if (outputEl) {{\n",
       "    x.observe(outputEl, {childList: true});\n",
       "}}\n",
       "\n",
       "                        })                };                });            </script>        </div>"
      ]
     },
     "metadata": {},
     "output_type": "display_data"
    }
   ],
   "source": [
    "average_medals_plot(oad, \"Average GDP\", \"Average Total\")"
   ]
  },
  {
   "cell_type": "markdown",
   "id": "987b5947-944e-4225-96b5-84ca2b745c05",
   "metadata": {},
   "source": [
    "## 3.3 Population vs. GDP per capita\n",
    "\n",
    "For further context, we decided to plot population vs. GDP per capita to see whether there was any relationship between the two. We found that there was essentially no correlation. The trendline skews downwards as population increases because of two outliers, India and China."
   ]
  },
  {
   "cell_type": "code",
   "execution_count": 9,
   "id": "ea30b2d7-36f8-4536-ab41-f3d0a79d552d",
   "metadata": {},
   "outputs": [
    {
     "data": {
      "application/vnd.plotly.v1+json": {
       "config": {
        "plotlyServerURL": "https://plot.ly"
       },
       "data": [
        {
         "customdata": [
          [
           "United States"
          ],
          [
           "China"
          ],
          [
           "Russia"
          ],
          [
           "Australia"
          ],
          [
           "Japan"
          ],
          [
           "Germany"
          ],
          [
           "France"
          ],
          [
           "Italy"
          ],
          [
           "South Korea"
          ],
          [
           "Great Britain"
          ],
          [
           "Cuba"
          ],
          [
           "Hungary"
          ],
          [
           "Ukraine"
          ],
          [
           "Romania"
          ],
          [
           "Greece"
          ],
          [
           "Brazil"
          ],
          [
           "Norway"
          ],
          [
           "Netherlands"
          ],
          [
           "Sweden"
          ],
          [
           "Spain"
          ],
          [
           "Canada"
          ],
          [
           "Turkey"
          ],
          [
           "Poland"
          ],
          [
           "New Zealand"
          ],
          [
           "Thailand"
          ],
          [
           "Belarus"
          ],
          [
           "Ethiopia"
          ],
          [
           "Iran"
          ],
          [
           "Slovakia"
          ],
          [
           "Chinese Taipei"
          ],
          [
           "Georgia"
          ],
          [
           "Bulgaria"
          ],
          [
           "Denmark"
          ],
          [
           "Jamaica"
          ],
          [
           "Uzbekistan"
          ],
          [
           "Morocco"
          ],
          [
           "Argentina"
          ],
          [
           "Kazakhstan"
          ],
          [
           "Kenya"
          ],
          [
           "Czech Republic"
          ],
          [
           "South Africa"
          ],
          [
           "Croatia"
          ],
          [
           "Lithuania"
          ],
          [
           "Egypt"
          ],
          [
           "Switzerland"
          ],
          [
           "Indonesia"
          ],
          [
           "Azerbaijan"
          ],
          [
           "Belgium"
          ],
          [
           "Bahamas"
          ],
          [
           "Dominican Republic"
          ],
          [
           "North Korea"
          ],
          [
           "Mexico"
          ],
          [
           "Portugal"
          ],
          [
           "Finland"
          ],
          [
           "Slovenia"
          ],
          [
           "Estonia"
          ],
          [
           "India"
          ],
          [
           "Colombia"
          ],
          [
           "Venezuela"
          ],
          [
           "Mongolia"
          ],
          [
           "Trinidad and Tobago"
          ]
         ],
         "hovertemplate": "Average Population from 2005-2015=%{x}<br>Average GDP (per capita) in dollars=%{y}<br>Country=%{customdata[0]}<extra></extra>",
         "legendgroup": "",
         "marker": {
          "color": "#636efa",
          "symbol": "circle"
         },
         "mode": "markers",
         "name": "",
         "orientation": "v",
         "showlegend": false,
         "type": "scatter",
         "x": [
          308895500,
          1335783250,
          142699500,
          21504250,
          127449000,
          81646250,
          64874000,
          60598000,
          48599000,
          62318750,
          11107250,
          9985500,
          45742750,
          21946250,
          10736250,
          195487750,
          4904250,
          16599000,
          9437750,
          46216000,
          33751750,
          74813500,
          38588500,
          4248500,
          66633000,
          9689750,
          86476750,
          76989000,
          5427000,
          23099500,
          4882250,
          7395750,
          5511750,
          2846000,
          27868000,
          31620000,
          41325500,
          17112750,
          40715250,
          10503500,
          51006750,
          4483750,
          3097500,
          80494000,
          7777750,
          243021250,
          9302750,
          10881500,
          311000,
          9823000,
          24314250,
          114109500,
          10716250,
          5356500,
          2001000,
          1301000,
          1172222000,
          44159250,
          27248500,
          2791000,
          1229500
         ],
         "xaxis": "x",
         "y": [
          49922.5,
          9112.75,
          21202.75,
          41489.5,
          36154.5,
          41603.5,
          38282.5,
          36366.25,
          30886.5,
          37752.75,
          5722.5,
          23105,
          9071,
          18250.75,
          27033,
          13339.25,
          59706,
          45762.5,
          43016.5,
          32370.25,
          40863.5,
          19276.25,
          21511,
          32512.25,
          13338.5,
          14560.25,
          1231,
          14800,
          24348.25,
          37631.75,
          8585,
          15247.25,
          44776.5,
          8618.25,
          5307.75,
          6221,
          17454.75,
          18916.75,
          3067.25,
          28733.5,
          12460.25,
          20852.75,
          23243.5,
          10137.75,
          57695.75,
          8540.5,
          12230,
          41098.5,
          32640,
          11786.5,
          577.25,
          16661.75,
          26861.75,
          40042.5,
          28867,
          25067,
          4176,
          11275.5,
          15666.5,
          8227,
          27380.5
         ],
         "yaxis": "y"
        },
        {
         "hovertemplate": "<b>OLS trendline</b><br>Average GDP = -1.35409e-05 * Average Pop + 24609.5<br>R<sup>2</sup>=0.043618<br><br>Average Population from 2005-2015=%{x}<br>Average GDP (per capita) in dollars=%{y} <b>(trend)</b><extra></extra>",
         "legendgroup": "",
         "marker": {
          "color": "#636efa",
          "symbol": "circle"
         },
         "mode": "lines",
         "name": "",
         "showlegend": false,
         "type": "scatter",
         "x": [
          311000,
          1229500,
          1301000,
          2001000,
          2791000,
          2846000,
          3097500,
          4248500,
          4483750,
          4882250,
          4904250,
          5356500,
          5427000,
          5511750,
          7395750,
          7777750,
          9302750,
          9437750,
          9689750,
          9823000,
          9985500,
          10503500,
          10716250,
          10736250,
          10881500,
          11107250,
          16599000,
          17112750,
          21504250,
          21946250,
          23099500,
          24314250,
          27248500,
          27868000,
          31620000,
          33751750,
          38588500,
          40715250,
          41325500,
          44159250,
          45742750,
          46216000,
          48599000,
          51006750,
          60598000,
          62318750,
          64874000,
          66633000,
          74813500,
          76989000,
          80494000,
          81646250,
          86476750,
          114109500,
          127449000,
          142699500,
          195487750,
          243021250,
          308895500,
          1172222000,
          1335783250
         ],
         "xaxis": "x",
         "y": [
          24605.28005741264,
          24592.842728744316,
          24591.874553458758,
          24582.395914299446,
          24571.698592962508,
          24570.953842742845,
          24567.548303102038,
          24551.96271214151,
          24548.777212338326,
          24543.38115847406,
          24543.0832583862,
          24536.959380443626,
          24536.004746071154,
          24534.857153687222,
          24509.346073435587,
          24504.17344463722,
          24483.523552183004,
          24481.695528916567,
          24478.283218819215,
          24476.478892150673,
          24474.278493774404,
          24467.264300796513,
          24464.383471537734,
          24464.112653276043,
          24462.145835650485,
          24459.088974521605,
          24384.72566508853,
          24377.769020991247,
          24318.30410117965,
          24312.319017596197,
          24296.70295958123,
          24280.254135411553,
          24240.52171119268,
          24232.133115536686,
          24181.327609642773,
          24152.461768174395,
          24086.96775681182,
          24058.169619908866,
          24049.90627769891,
          24011.53471524505,
          23990.092679375375,
          23983.684442258025,
          23951.416446377112,
          23918.813312897346,
          23788.939030273414,
          23765.63850408286,
          23731.0380859231,
          23707.219619807056,
          23596.448180317406,
          23566.989923901572,
          23519.529023539588,
          23503.926506437707,
          23438.51712578191,
          23064.344459739787,
          22883.715449646006,
          22677.2097546473,
          21962.408649502206,
          21318.761657389103,
          20426.76416361721,
          8736.535063371457,
          6521.766393091359
         ],
         "yaxis": "y"
        }
       ],
       "layout": {
        "autosize": true,
        "legend": {
         "tracegroupgap": 0
        },
        "template": {
         "data": {
          "bar": [
           {
            "error_x": {
             "color": "#2a3f5f"
            },
            "error_y": {
             "color": "#2a3f5f"
            },
            "marker": {
             "line": {
              "color": "#E5ECF6",
              "width": 0.5
             },
             "pattern": {
              "fillmode": "overlay",
              "size": 10,
              "solidity": 0.2
             }
            },
            "type": "bar"
           }
          ],
          "barpolar": [
           {
            "marker": {
             "line": {
              "color": "#E5ECF6",
              "width": 0.5
             },
             "pattern": {
              "fillmode": "overlay",
              "size": 10,
              "solidity": 0.2
             }
            },
            "type": "barpolar"
           }
          ],
          "carpet": [
           {
            "aaxis": {
             "endlinecolor": "#2a3f5f",
             "gridcolor": "white",
             "linecolor": "white",
             "minorgridcolor": "white",
             "startlinecolor": "#2a3f5f"
            },
            "baxis": {
             "endlinecolor": "#2a3f5f",
             "gridcolor": "white",
             "linecolor": "white",
             "minorgridcolor": "white",
             "startlinecolor": "#2a3f5f"
            },
            "type": "carpet"
           }
          ],
          "choropleth": [
           {
            "colorbar": {
             "outlinewidth": 0,
             "ticks": ""
            },
            "type": "choropleth"
           }
          ],
          "contour": [
           {
            "colorbar": {
             "outlinewidth": 0,
             "ticks": ""
            },
            "colorscale": [
             [
              0,
              "#0d0887"
             ],
             [
              0.1111111111111111,
              "#46039f"
             ],
             [
              0.2222222222222222,
              "#7201a8"
             ],
             [
              0.3333333333333333,
              "#9c179e"
             ],
             [
              0.4444444444444444,
              "#bd3786"
             ],
             [
              0.5555555555555556,
              "#d8576b"
             ],
             [
              0.6666666666666666,
              "#ed7953"
             ],
             [
              0.7777777777777778,
              "#fb9f3a"
             ],
             [
              0.8888888888888888,
              "#fdca26"
             ],
             [
              1,
              "#f0f921"
             ]
            ],
            "type": "contour"
           }
          ],
          "contourcarpet": [
           {
            "colorbar": {
             "outlinewidth": 0,
             "ticks": ""
            },
            "type": "contourcarpet"
           }
          ],
          "heatmap": [
           {
            "colorbar": {
             "outlinewidth": 0,
             "ticks": ""
            },
            "colorscale": [
             [
              0,
              "#0d0887"
             ],
             [
              0.1111111111111111,
              "#46039f"
             ],
             [
              0.2222222222222222,
              "#7201a8"
             ],
             [
              0.3333333333333333,
              "#9c179e"
             ],
             [
              0.4444444444444444,
              "#bd3786"
             ],
             [
              0.5555555555555556,
              "#d8576b"
             ],
             [
              0.6666666666666666,
              "#ed7953"
             ],
             [
              0.7777777777777778,
              "#fb9f3a"
             ],
             [
              0.8888888888888888,
              "#fdca26"
             ],
             [
              1,
              "#f0f921"
             ]
            ],
            "type": "heatmap"
           }
          ],
          "heatmapgl": [
           {
            "colorbar": {
             "outlinewidth": 0,
             "ticks": ""
            },
            "colorscale": [
             [
              0,
              "#0d0887"
             ],
             [
              0.1111111111111111,
              "#46039f"
             ],
             [
              0.2222222222222222,
              "#7201a8"
             ],
             [
              0.3333333333333333,
              "#9c179e"
             ],
             [
              0.4444444444444444,
              "#bd3786"
             ],
             [
              0.5555555555555556,
              "#d8576b"
             ],
             [
              0.6666666666666666,
              "#ed7953"
             ],
             [
              0.7777777777777778,
              "#fb9f3a"
             ],
             [
              0.8888888888888888,
              "#fdca26"
             ],
             [
              1,
              "#f0f921"
             ]
            ],
            "type": "heatmapgl"
           }
          ],
          "histogram": [
           {
            "marker": {
             "pattern": {
              "fillmode": "overlay",
              "size": 10,
              "solidity": 0.2
             }
            },
            "type": "histogram"
           }
          ],
          "histogram2d": [
           {
            "colorbar": {
             "outlinewidth": 0,
             "ticks": ""
            },
            "colorscale": [
             [
              0,
              "#0d0887"
             ],
             [
              0.1111111111111111,
              "#46039f"
             ],
             [
              0.2222222222222222,
              "#7201a8"
             ],
             [
              0.3333333333333333,
              "#9c179e"
             ],
             [
              0.4444444444444444,
              "#bd3786"
             ],
             [
              0.5555555555555556,
              "#d8576b"
             ],
             [
              0.6666666666666666,
              "#ed7953"
             ],
             [
              0.7777777777777778,
              "#fb9f3a"
             ],
             [
              0.8888888888888888,
              "#fdca26"
             ],
             [
              1,
              "#f0f921"
             ]
            ],
            "type": "histogram2d"
           }
          ],
          "histogram2dcontour": [
           {
            "colorbar": {
             "outlinewidth": 0,
             "ticks": ""
            },
            "colorscale": [
             [
              0,
              "#0d0887"
             ],
             [
              0.1111111111111111,
              "#46039f"
             ],
             [
              0.2222222222222222,
              "#7201a8"
             ],
             [
              0.3333333333333333,
              "#9c179e"
             ],
             [
              0.4444444444444444,
              "#bd3786"
             ],
             [
              0.5555555555555556,
              "#d8576b"
             ],
             [
              0.6666666666666666,
              "#ed7953"
             ],
             [
              0.7777777777777778,
              "#fb9f3a"
             ],
             [
              0.8888888888888888,
              "#fdca26"
             ],
             [
              1,
              "#f0f921"
             ]
            ],
            "type": "histogram2dcontour"
           }
          ],
          "mesh3d": [
           {
            "colorbar": {
             "outlinewidth": 0,
             "ticks": ""
            },
            "type": "mesh3d"
           }
          ],
          "parcoords": [
           {
            "line": {
             "colorbar": {
              "outlinewidth": 0,
              "ticks": ""
             }
            },
            "type": "parcoords"
           }
          ],
          "pie": [
           {
            "automargin": true,
            "type": "pie"
           }
          ],
          "scatter": [
           {
            "marker": {
             "colorbar": {
              "outlinewidth": 0,
              "ticks": ""
             }
            },
            "type": "scatter"
           }
          ],
          "scatter3d": [
           {
            "line": {
             "colorbar": {
              "outlinewidth": 0,
              "ticks": ""
             }
            },
            "marker": {
             "colorbar": {
              "outlinewidth": 0,
              "ticks": ""
             }
            },
            "type": "scatter3d"
           }
          ],
          "scattercarpet": [
           {
            "marker": {
             "colorbar": {
              "outlinewidth": 0,
              "ticks": ""
             }
            },
            "type": "scattercarpet"
           }
          ],
          "scattergeo": [
           {
            "marker": {
             "colorbar": {
              "outlinewidth": 0,
              "ticks": ""
             }
            },
            "type": "scattergeo"
           }
          ],
          "scattergl": [
           {
            "marker": {
             "colorbar": {
              "outlinewidth": 0,
              "ticks": ""
             }
            },
            "type": "scattergl"
           }
          ],
          "scattermapbox": [
           {
            "marker": {
             "colorbar": {
              "outlinewidth": 0,
              "ticks": ""
             }
            },
            "type": "scattermapbox"
           }
          ],
          "scatterpolar": [
           {
            "marker": {
             "colorbar": {
              "outlinewidth": 0,
              "ticks": ""
             }
            },
            "type": "scatterpolar"
           }
          ],
          "scatterpolargl": [
           {
            "marker": {
             "colorbar": {
              "outlinewidth": 0,
              "ticks": ""
             }
            },
            "type": "scatterpolargl"
           }
          ],
          "scatterternary": [
           {
            "marker": {
             "colorbar": {
              "outlinewidth": 0,
              "ticks": ""
             }
            },
            "type": "scatterternary"
           }
          ],
          "surface": [
           {
            "colorbar": {
             "outlinewidth": 0,
             "ticks": ""
            },
            "colorscale": [
             [
              0,
              "#0d0887"
             ],
             [
              0.1111111111111111,
              "#46039f"
             ],
             [
              0.2222222222222222,
              "#7201a8"
             ],
             [
              0.3333333333333333,
              "#9c179e"
             ],
             [
              0.4444444444444444,
              "#bd3786"
             ],
             [
              0.5555555555555556,
              "#d8576b"
             ],
             [
              0.6666666666666666,
              "#ed7953"
             ],
             [
              0.7777777777777778,
              "#fb9f3a"
             ],
             [
              0.8888888888888888,
              "#fdca26"
             ],
             [
              1,
              "#f0f921"
             ]
            ],
            "type": "surface"
           }
          ],
          "table": [
           {
            "cells": {
             "fill": {
              "color": "#EBF0F8"
             },
             "line": {
              "color": "white"
             }
            },
            "header": {
             "fill": {
              "color": "#C8D4E3"
             },
             "line": {
              "color": "white"
             }
            },
            "type": "table"
           }
          ]
         },
         "layout": {
          "annotationdefaults": {
           "arrowcolor": "#2a3f5f",
           "arrowhead": 0,
           "arrowwidth": 1
          },
          "autotypenumbers": "strict",
          "coloraxis": {
           "colorbar": {
            "outlinewidth": 0,
            "ticks": ""
           }
          },
          "colorscale": {
           "diverging": [
            [
             0,
             "#8e0152"
            ],
            [
             0.1,
             "#c51b7d"
            ],
            [
             0.2,
             "#de77ae"
            ],
            [
             0.3,
             "#f1b6da"
            ],
            [
             0.4,
             "#fde0ef"
            ],
            [
             0.5,
             "#f7f7f7"
            ],
            [
             0.6,
             "#e6f5d0"
            ],
            [
             0.7,
             "#b8e186"
            ],
            [
             0.8,
             "#7fbc41"
            ],
            [
             0.9,
             "#4d9221"
            ],
            [
             1,
             "#276419"
            ]
           ],
           "sequential": [
            [
             0,
             "#0d0887"
            ],
            [
             0.1111111111111111,
             "#46039f"
            ],
            [
             0.2222222222222222,
             "#7201a8"
            ],
            [
             0.3333333333333333,
             "#9c179e"
            ],
            [
             0.4444444444444444,
             "#bd3786"
            ],
            [
             0.5555555555555556,
             "#d8576b"
            ],
            [
             0.6666666666666666,
             "#ed7953"
            ],
            [
             0.7777777777777778,
             "#fb9f3a"
            ],
            [
             0.8888888888888888,
             "#fdca26"
            ],
            [
             1,
             "#f0f921"
            ]
           ],
           "sequentialminus": [
            [
             0,
             "#0d0887"
            ],
            [
             0.1111111111111111,
             "#46039f"
            ],
            [
             0.2222222222222222,
             "#7201a8"
            ],
            [
             0.3333333333333333,
             "#9c179e"
            ],
            [
             0.4444444444444444,
             "#bd3786"
            ],
            [
             0.5555555555555556,
             "#d8576b"
            ],
            [
             0.6666666666666666,
             "#ed7953"
            ],
            [
             0.7777777777777778,
             "#fb9f3a"
            ],
            [
             0.8888888888888888,
             "#fdca26"
            ],
            [
             1,
             "#f0f921"
            ]
           ]
          },
          "colorway": [
           "#636efa",
           "#EF553B",
           "#00cc96",
           "#ab63fa",
           "#FFA15A",
           "#19d3f3",
           "#FF6692",
           "#B6E880",
           "#FF97FF",
           "#FECB52"
          ],
          "font": {
           "color": "#2a3f5f"
          },
          "geo": {
           "bgcolor": "white",
           "lakecolor": "white",
           "landcolor": "#E5ECF6",
           "showlakes": true,
           "showland": true,
           "subunitcolor": "white"
          },
          "hoverlabel": {
           "align": "left"
          },
          "hovermode": "closest",
          "mapbox": {
           "style": "light"
          },
          "paper_bgcolor": "white",
          "plot_bgcolor": "#E5ECF6",
          "polar": {
           "angularaxis": {
            "gridcolor": "white",
            "linecolor": "white",
            "ticks": ""
           },
           "bgcolor": "#E5ECF6",
           "radialaxis": {
            "gridcolor": "white",
            "linecolor": "white",
            "ticks": ""
           }
          },
          "scene": {
           "xaxis": {
            "backgroundcolor": "#E5ECF6",
            "gridcolor": "white",
            "gridwidth": 2,
            "linecolor": "white",
            "showbackground": true,
            "ticks": "",
            "zerolinecolor": "white"
           },
           "yaxis": {
            "backgroundcolor": "#E5ECF6",
            "gridcolor": "white",
            "gridwidth": 2,
            "linecolor": "white",
            "showbackground": true,
            "ticks": "",
            "zerolinecolor": "white"
           },
           "zaxis": {
            "backgroundcolor": "#E5ECF6",
            "gridcolor": "white",
            "gridwidth": 2,
            "linecolor": "white",
            "showbackground": true,
            "ticks": "",
            "zerolinecolor": "white"
           }
          },
          "shapedefaults": {
           "line": {
            "color": "#2a3f5f"
           }
          },
          "ternary": {
           "aaxis": {
            "gridcolor": "white",
            "linecolor": "white",
            "ticks": ""
           },
           "baxis": {
            "gridcolor": "white",
            "linecolor": "white",
            "ticks": ""
           },
           "bgcolor": "#E5ECF6",
           "caxis": {
            "gridcolor": "white",
            "linecolor": "white",
            "ticks": ""
           }
          },
          "title": {
           "x": 0.05
          },
          "xaxis": {
           "automargin": true,
           "gridcolor": "white",
           "linecolor": "white",
           "ticks": "",
           "title": {
            "standoff": 15
           },
           "zerolinecolor": "white",
           "zerolinewidth": 2
          },
          "yaxis": {
           "automargin": true,
           "gridcolor": "white",
           "linecolor": "white",
           "ticks": "",
           "title": {
            "standoff": 15
           },
           "zerolinecolor": "white",
           "zerolinewidth": 2
          }
         }
        },
        "title": {
         "text": "Average GDP (per capita) vs Average Population from 2004-2016"
        },
        "xaxis": {
         "anchor": "y",
         "autorange": true,
         "domain": [
          0,
          1
         ],
         "range": [
          5.265547126047194,
          9.352949256324422
         ],
         "title": {
          "text": "Average Population from 2005-2015"
         },
         "type": "log"
        },
        "yaxis": {
         "anchor": "x",
         "autorange": true,
         "domain": [
          0,
          1
         ],
         "range": [
          -4302.3070388349515,
          64585.55703883495
         ],
         "title": {
          "text": "Average GDP (per capita) in dollars"
         },
         "type": "linear"
        }
       }
      },
      "image/png": "[encoded data removed]",
      "text/html": [
       "<div>                            <div id=\"6f267be3-73a1-4b66-90cb-3175f82792f9\" class=\"plotly-graph-div\" style=\"height:525px; width:100%;\"></div>            <script type=\"text/javascript\">                require([\"plotly\"], function(Plotly) {                    window.PLOTLYENV=window.PLOTLYENV || {};                                    if (document.getElementById(\"6f267be3-73a1-4b66-90cb-3175f82792f9\")) {                    Plotly.newPlot(                        \"6f267be3-73a1-4b66-90cb-3175f82792f9\",                        [{\"customdata\":[[\"United States\"],[\"China\"],[\"Russia\"],[\"Australia\"],[\"Japan\"],[\"Germany\"],[\"France\"],[\"Italy\"],[\"South Korea\"],[\"Great Britain\"],[\"Cuba\"],[\"Hungary\"],[\"Ukraine\"],[\"Romania\"],[\"Greece\"],[\"Brazil\"],[\"Norway\"],[\"Netherlands\"],[\"Sweden\"],[\"Spain\"],[\"Canada\"],[\"Turkey\"],[\"Poland\"],[\"New Zealand\"],[\"Thailand\"],[\"Belarus\"],[\"Ethiopia\"],[\"Iran\"],[\"Slovakia\"],[\"Chinese Taipei\"],[\"Georgia\"],[\"Bulgaria\"],[\"Denmark\"],[\"Jamaica\"],[\"Uzbekistan\"],[\"Morocco\"],[\"Argentina\"],[\"Kazakhstan\"],[\"Kenya\"],[\"Czech Republic\"],[\"South Africa\"],[\"Croatia\"],[\"Lithuania\"],[\"Egypt\"],[\"Switzerland\"],[\"Indonesia\"],[\"Azerbaijan\"],[\"Belgium\"],[\"Bahamas\"],[\"Dominican Republic\"],[\"North Korea\"],[\"Mexico\"],[\"Portugal\"],[\"Finland\"],[\"Slovenia\"],[\"Estonia\"],[\"India\"],[\"Colombia\"],[\"Venezuela\"],[\"Mongolia\"],[\"Trinidad and Tobago\"]],\"hovertemplate\":\"Average Population from 2005-2015=%{x}<br>Average GDP (per capita) in dollars=%{y}<br>Country=%{customdata[0]}<extra></extra>\",\"legendgroup\":\"\",\"marker\":{\"color\":\"#636efa\",\"symbol\":\"circle\"},\"mode\":\"markers\",\"name\":\"\",\"orientation\":\"v\",\"showlegend\":false,\"x\":[308895500.0,1335783250.0,142699500.0,21504250.0,127449000.0,81646250.0,64874000.0,60598000.0,48599000.0,62318750.0,11107250.0,9985500.0,45742750.0,21946250.0,10736250.0,195487750.0,4904250.0,16599000.0,9437750.0,46216000.0,33751750.0,74813500.0,38588500.0,4248500.0,66633000.0,9689750.0,86476750.0,76989000.0,5427000.0,23099500.0,4882250.0,7395750.0,5511750.0,2846000.0,27868000.0,31620000.0,41325500.0,17112750.0,40715250.0,10503500.0,51006750.0,4483750.0,3097500.0,80494000.0,7777750.0,243021250.0,9302750.0,10881500.0,311000.0,9823000.0,24314250.0,114109500.0,10716250.0,5356500.0,2001000.0,1301000.0,1172222000.0,44159250.0,27248500.0,2791000.0,1229500.0],\"xaxis\":\"x\",\"y\":[49922.5,9112.75,21202.75,41489.5,36154.5,41603.5,38282.5,36366.25,30886.5,37752.75,5722.5,23105.0,9071.0,18250.75,27033.0,13339.25,59706.0,45762.5,43016.5,32370.25,40863.5,19276.25,21511.0,32512.25,13338.5,14560.25,1231.0,14800.0,24348.25,37631.75,8585.0,15247.25,44776.5,8618.25,5307.75,6221.0,17454.75,18916.75,3067.25,28733.5,12460.25,20852.75,23243.5,10137.75,57695.75,8540.5,12230.0,41098.5,32640.0,11786.5,577.25,16661.75,26861.75,40042.5,28867.0,25067.0,4176.0,11275.5,15666.5,8227.0,27380.5],\"yaxis\":\"y\",\"type\":\"scatter\"},{\"hovertemplate\":\"<b>OLS trendline</b><br>Average GDP = -1.35409e-05 * Average Pop + 24609.5<br>R<sup>2</sup>=0.043618<br><br>Average Population from 2005-2015=%{x}<br>Average GDP (per capita) in dollars=%{y} <b>(trend)</b><extra></extra>\",\"legendgroup\":\"\",\"marker\":{\"color\":\"#636efa\",\"symbol\":\"circle\"},\"mode\":\"lines\",\"name\":\"\",\"showlegend\":false,\"x\":[311000.0,1229500.0,1301000.0,2001000.0,2791000.0,2846000.0,3097500.0,4248500.0,4483750.0,4882250.0,4904250.0,5356500.0,5427000.0,5511750.0,7395750.0,7777750.0,9302750.0,9437750.0,9689750.0,9823000.0,9985500.0,10503500.0,10716250.0,10736250.0,10881500.0,11107250.0,16599000.0,17112750.0,21504250.0,21946250.0,23099500.0,24314250.0,27248500.0,27868000.0,31620000.0,33751750.0,38588500.0,40715250.0,41325500.0,44159250.0,45742750.0,46216000.0,48599000.0,51006750.0,60598000.0,62318750.0,64874000.0,66633000.0,74813500.0,76989000.0,80494000.0,81646250.0,86476750.0,114109500.0,127449000.0,142699500.0,195487750.0,243021250.0,308895500.0,1172222000.0,1335783250.0],\"xaxis\":\"x\",\"y\":[24605.28005741264,24592.842728744316,24591.874553458758,24582.395914299446,24571.698592962508,24570.953842742845,24567.548303102038,24551.96271214151,24548.777212338326,24543.38115847406,24543.0832583862,24536.959380443626,24536.004746071154,24534.857153687222,24509.346073435587,24504.17344463722,24483.523552183004,24481.695528916567,24478.283218819215,24476.478892150673,24474.278493774404,24467.264300796513,24464.383471537734,24464.112653276043,24462.145835650485,24459.088974521605,24384.72566508853,24377.769020991247,24318.30410117965,24312.319017596197,24296.70295958123,24280.254135411553,24240.52171119268,24232.133115536686,24181.327609642773,24152.461768174395,24086.96775681182,24058.169619908866,24049.90627769891,24011.53471524505,23990.092679375375,23983.684442258025,23951.416446377112,23918.813312897346,23788.939030273414,23765.63850408286,23731.0380859231,23707.219619807056,23596.448180317406,23566.989923901572,23519.529023539588,23503.926506437707,23438.51712578191,23064.344459739787,22883.715449646006,22677.2097546473,21962.408649502206,21318.761657389103,20426.76416361721,8736.535063371457,6521.766393091359],\"yaxis\":\"y\",\"type\":\"scatter\"}],                        {\"template\":{\"data\":{\"bar\":[{\"error_x\":{\"color\":\"#2a3f5f\"},\"error_y\":{\"color\":\"#2a3f5f\"},\"marker\":{\"line\":{\"color\":\"#E5ECF6\",\"width\":0.5},\"pattern\":{\"fillmode\":\"overlay\",\"size\":10,\"solidity\":0.2}},\"type\":\"bar\"}],\"barpolar\":[{\"marker\":{\"line\":{\"color\":\"#E5ECF6\",\"width\":0.5},\"pattern\":{\"fillmode\":\"overlay\",\"size\":10,\"solidity\":0.2}},\"type\":\"barpolar\"}],\"carpet\":[{\"aaxis\":{\"endlinecolor\":\"#2a3f5f\",\"gridcolor\":\"white\",\"linecolor\":\"white\",\"minorgridcolor\":\"white\",\"startlinecolor\":\"#2a3f5f\"},\"baxis\":{\"endlinecolor\":\"#2a3f5f\",\"gridcolor\":\"white\",\"linecolor\":\"white\",\"minorgridcolor\":\"white\",\"startlinecolor\":\"#2a3f5f\"},\"type\":\"carpet\"}],\"choropleth\":[{\"colorbar\":{\"outlinewidth\":0,\"ticks\":\"\"},\"type\":\"choropleth\"}],\"contour\":[{\"colorbar\":{\"outlinewidth\":0,\"ticks\":\"\"},\"colorscale\":[[0.0,\"#0d0887\"],[0.1111111111111111,\"#46039f\"],[0.2222222222222222,\"#7201a8\"],[0.3333333333333333,\"#9c179e\"],[0.4444444444444444,\"#bd3786\"],[0.5555555555555556,\"#d8576b\"],[0.6666666666666666,\"#ed7953\"],[0.7777777777777778,\"#fb9f3a\"],[0.8888888888888888,\"#fdca26\"],[1.0,\"#f0f921\"]],\"type\":\"contour\"}],\"contourcarpet\":[{\"colorbar\":{\"outlinewidth\":0,\"ticks\":\"\"},\"type\":\"contourcarpet\"}],\"heatmap\":[{\"colorbar\":{\"outlinewidth\":0,\"ticks\":\"\"},\"colorscale\":[[0.0,\"#0d0887\"],[0.1111111111111111,\"#46039f\"],[0.2222222222222222,\"#7201a8\"],[0.3333333333333333,\"#9c179e\"],[0.4444444444444444,\"#bd3786\"],[0.5555555555555556,\"#d8576b\"],[0.6666666666666666,\"#ed7953\"],[0.7777777777777778,\"#fb9f3a\"],[0.8888888888888888,\"#fdca26\"],[1.0,\"#f0f921\"]],\"type\":\"heatmap\"}],\"heatmapgl\":[{\"colorbar\":{\"outlinewidth\":0,\"ticks\":\"\"},\"colorscale\":[[0.0,\"#0d0887\"],[0.1111111111111111,\"#46039f\"],[0.2222222222222222,\"#7201a8\"],[0.3333333333333333,\"#9c179e\"],[0.4444444444444444,\"#bd3786\"],[0.5555555555555556,\"#d8576b\"],[0.6666666666666666,\"#ed7953\"],[0.7777777777777778,\"#fb9f3a\"],[0.8888888888888888,\"#fdca26\"],[1.0,\"#f0f921\"]],\"type\":\"heatmapgl\"}],\"histogram\":[{\"marker\":{\"pattern\":{\"fillmode\":\"overlay\",\"size\":10,\"solidity\":0.2}},\"type\":\"histogram\"}],\"histogram2d\":[{\"colorbar\":{\"outlinewidth\":0,\"ticks\":\"\"},\"colorscale\":[[0.0,\"#0d0887\"],[0.1111111111111111,\"#46039f\"],[0.2222222222222222,\"#7201a8\"],[0.3333333333333333,\"#9c179e\"],[0.4444444444444444,\"#bd3786\"],[0.5555555555555556,\"#d8576b\"],[0.6666666666666666,\"#ed7953\"],[0.7777777777777778,\"#fb9f3a\"],[0.8888888888888888,\"#fdca26\"],[1.0,\"#f0f921\"]],\"type\":\"histogram2d\"}],\"histogram2dcontour\":[{\"colorbar\":{\"outlinewidth\":0,\"ticks\":\"\"},\"colorscale\":[[0.0,\"#0d0887\"],[0.1111111111111111,\"#46039f\"],[0.2222222222222222,\"#7201a8\"],[0.3333333333333333,\"#9c179e\"],[0.4444444444444444,\"#bd3786\"],[0.5555555555555556,\"#d8576b\"],[0.6666666666666666,\"#ed7953\"],[0.7777777777777778,\"#fb9f3a\"],[0.8888888888888888,\"#fdca26\"],[1.0,\"#f0f921\"]],\"type\":\"histogram2dcontour\"}],\"mesh3d\":[{\"colorbar\":{\"outlinewidth\":0,\"ticks\":\"\"},\"type\":\"mesh3d\"}],\"parcoords\":[{\"line\":{\"colorbar\":{\"outlinewidth\":0,\"ticks\":\"\"}},\"type\":\"parcoords\"}],\"pie\":[{\"automargin\":true,\"type\":\"pie\"}],\"scatter\":[{\"marker\":{\"colorbar\":{\"outlinewidth\":0,\"ticks\":\"\"}},\"type\":\"scatter\"}],\"scatter3d\":[{\"line\":{\"colorbar\":{\"outlinewidth\":0,\"ticks\":\"\"}},\"marker\":{\"colorbar\":{\"outlinewidth\":0,\"ticks\":\"\"}},\"type\":\"scatter3d\"}],\"scattercarpet\":[{\"marker\":{\"colorbar\":{\"outlinewidth\":0,\"ticks\":\"\"}},\"type\":\"scattercarpet\"}],\"scattergeo\":[{\"marker\":{\"colorbar\":{\"outlinewidth\":0,\"ticks\":\"\"}},\"type\":\"scattergeo\"}],\"scattergl\":[{\"marker\":{\"colorbar\":{\"outlinewidth\":0,\"ticks\":\"\"}},\"type\":\"scattergl\"}],\"scattermapbox\":[{\"marker\":{\"colorbar\":{\"outlinewidth\":0,\"ticks\":\"\"}},\"type\":\"scattermapbox\"}],\"scatterpolar\":[{\"marker\":{\"colorbar\":{\"outlinewidth\":0,\"ticks\":\"\"}},\"type\":\"scatterpolar\"}],\"scatterpolargl\":[{\"marker\":{\"colorbar\":{\"outlinewidth\":0,\"ticks\":\"\"}},\"type\":\"scatterpolargl\"}],\"scatterternary\":[{\"marker\":{\"colorbar\":{\"outlinewidth\":0,\"ticks\":\"\"}},\"type\":\"scatterternary\"}],\"surface\":[{\"colorbar\":{\"outlinewidth\":0,\"ticks\":\"\"},\"colorscale\":[[0.0,\"#0d0887\"],[0.1111111111111111,\"#46039f\"],[0.2222222222222222,\"#7201a8\"],[0.3333333333333333,\"#9c179e\"],[0.4444444444444444,\"#bd3786\"],[0.5555555555555556,\"#d8576b\"],[0.6666666666666666,\"#ed7953\"],[0.7777777777777778,\"#fb9f3a\"],[0.8888888888888888,\"#fdca26\"],[1.0,\"#f0f921\"]],\"type\":\"surface\"}],\"table\":[{\"cells\":{\"fill\":{\"color\":\"#EBF0F8\"},\"line\":{\"color\":\"white\"}},\"header\":{\"fill\":{\"color\":\"#C8D4E3\"},\"line\":{\"color\":\"white\"}},\"type\":\"table\"}]},\"layout\":{\"annotationdefaults\":{\"arrowcolor\":\"#2a3f5f\",\"arrowhead\":0,\"arrowwidth\":1},\"autotypenumbers\":\"strict\",\"coloraxis\":{\"colorbar\":{\"outlinewidth\":0,\"ticks\":\"\"}},\"colorscale\":{\"diverging\":[[0,\"#8e0152\"],[0.1,\"#c51b7d\"],[0.2,\"#de77ae\"],[0.3,\"#f1b6da\"],[0.4,\"#fde0ef\"],[0.5,\"#f7f7f7\"],[0.6,\"#e6f5d0\"],[0.7,\"#b8e186\"],[0.8,\"#7fbc41\"],[0.9,\"#4d9221\"],[1,\"#276419\"]],\"sequential\":[[0.0,\"#0d0887\"],[0.1111111111111111,\"#46039f\"],[0.2222222222222222,\"#7201a8\"],[0.3333333333333333,\"#9c179e\"],[0.4444444444444444,\"#bd3786\"],[0.5555555555555556,\"#d8576b\"],[0.6666666666666666,\"#ed7953\"],[0.7777777777777778,\"#fb9f3a\"],[0.8888888888888888,\"#fdca26\"],[1.0,\"#f0f921\"]],\"sequentialminus\":[[0.0,\"#0d0887\"],[0.1111111111111111,\"#46039f\"],[0.2222222222222222,\"#7201a8\"],[0.3333333333333333,\"#9c179e\"],[0.4444444444444444,\"#bd3786\"],[0.5555555555555556,\"#d8576b\"],[0.6666666666666666,\"#ed7953\"],[0.7777777777777778,\"#fb9f3a\"],[0.8888888888888888,\"#fdca26\"],[1.0,\"#f0f921\"]]},\"colorway\":[\"#636efa\",\"#EF553B\",\"#00cc96\",\"#ab63fa\",\"#FFA15A\",\"#19d3f3\",\"#FF6692\",\"#B6E880\",\"#FF97FF\",\"#FECB52\"],\"font\":{\"color\":\"#2a3f5f\"},\"geo\":{\"bgcolor\":\"white\",\"lakecolor\":\"white\",\"landcolor\":\"#E5ECF6\",\"showlakes\":true,\"showland\":true,\"subunitcolor\":\"white\"},\"hoverlabel\":{\"align\":\"left\"},\"hovermode\":\"closest\",\"mapbox\":{\"style\":\"light\"},\"paper_bgcolor\":\"white\",\"plot_bgcolor\":\"#E5ECF6\",\"polar\":{\"angularaxis\":{\"gridcolor\":\"white\",\"linecolor\":\"white\",\"ticks\":\"\"},\"bgcolor\":\"#E5ECF6\",\"radialaxis\":{\"gridcolor\":\"white\",\"linecolor\":\"white\",\"ticks\":\"\"}},\"scene\":{\"xaxis\":{\"backgroundcolor\":\"#E5ECF6\",\"gridcolor\":\"white\",\"gridwidth\":2,\"linecolor\":\"white\",\"showbackground\":true,\"ticks\":\"\",\"zerolinecolor\":\"white\"},\"yaxis\":{\"backgroundcolor\":\"#E5ECF6\",\"gridcolor\":\"white\",\"gridwidth\":2,\"linecolor\":\"white\",\"showbackground\":true,\"ticks\":\"\",\"zerolinecolor\":\"white\"},\"zaxis\":{\"backgroundcolor\":\"#E5ECF6\",\"gridcolor\":\"white\",\"gridwidth\":2,\"linecolor\":\"white\",\"showbackground\":true,\"ticks\":\"\",\"zerolinecolor\":\"white\"}},\"shapedefaults\":{\"line\":{\"color\":\"#2a3f5f\"}},\"ternary\":{\"aaxis\":{\"gridcolor\":\"white\",\"linecolor\":\"white\",\"ticks\":\"\"},\"baxis\":{\"gridcolor\":\"white\",\"linecolor\":\"white\",\"ticks\":\"\"},\"bgcolor\":\"#E5ECF6\",\"caxis\":{\"gridcolor\":\"white\",\"linecolor\":\"white\",\"ticks\":\"\"}},\"title\":{\"x\":0.05},\"xaxis\":{\"automargin\":true,\"gridcolor\":\"white\",\"linecolor\":\"white\",\"ticks\":\"\",\"title\":{\"standoff\":15},\"zerolinecolor\":\"white\",\"zerolinewidth\":2},\"yaxis\":{\"automargin\":true,\"gridcolor\":\"white\",\"linecolor\":\"white\",\"ticks\":\"\",\"title\":{\"standoff\":15},\"zerolinecolor\":\"white\",\"zerolinewidth\":2}}},\"xaxis\":{\"anchor\":\"y\",\"domain\":[0.0,1.0],\"title\":{\"text\":\"Average Population from 2005-2015\"},\"type\":\"log\"},\"yaxis\":{\"anchor\":\"x\",\"domain\":[0.0,1.0],\"title\":{\"text\":\"Average GDP (per capita) in dollars\"}},\"legend\":{\"tracegroupgap\":0},\"title\":{\"text\":\"Average GDP (per capita) vs Average Population from 2004-2016\"}},                        {\"responsive\": true}                    ).then(function(){\n",
       "                            \n",
       "var gd = document.getElementById('6f267be3-73a1-4b66-90cb-3175f82792f9');\n",
       "var x = new MutationObserver(function (mutations, observer) {{\n",
       "        var display = window.getComputedStyle(gd).display;\n",
       "        if (!display || display === 'none') {{\n",
       "            console.log([gd, 'removed!']);\n",
       "            Plotly.purge(gd);\n",
       "            observer.disconnect();\n",
       "        }}\n",
       "}});\n",
       "\n",
       "// Listen for the removal of the full notebook cells\n",
       "var notebookContainer = gd.closest('#notebook-container');\n",
       "if (notebookContainer) {{\n",
       "    x.observe(notebookContainer, {childList: true});\n",
       "}}\n",
       "\n",
       "// Listen for the clearing of the current output cell\n",
       "var outputEl = gd.closest('.output');\n",
       "if (outputEl) {{\n",
       "    x.observe(outputEl, {childList: true});\n",
       "}}\n",
       "\n",
       "                        })                };                });            </script>        </div>"
      ]
     },
     "metadata": {},
     "output_type": "display_data"
    }
   ],
   "source": [
    "average_context_plot(oad)"
   ]
  },
  {
   "cell_type": "markdown",
   "id": "d5e2ed1b-3733-4649-9628-be90a6addef6",
   "metadata": {},
   "source": [
    "## 3.4 Number of Athletes vs. Medals\n",
    "\n",
    "Below is a plot of average number of athletes over all four games vs. average number of medals. The x-axis is on a log scale. The R-squared value of this model is 0.74, which is significantly higher than either population or GDP per capita against medals. This indicates the number of competitors sent by a country to the Olympics is a better predictor of the number of medals they will win than population or GDP per capita."
   ]
  },
  {
   "cell_type": "code",
   "execution_count": 11,
   "id": "6feeda56-2cff-4b5d-b7d8-36f76e7444aa",
   "metadata": {},
   "outputs": [
    {
     "data": {
      "application/vnd.plotly.v1+json": {
       "config": {
        "plotlyServerURL": "https://plot.ly"
       },
       "data": [
        {
         "customdata": [
          [
           "United States"
          ],
          [
           "China"
          ],
          [
           "Russia"
          ],
          [
           "Australia"
          ],
          [
           "Japan"
          ],
          [
           "Germany"
          ],
          [
           "France"
          ],
          [
           "Italy"
          ],
          [
           "South Korea"
          ],
          [
           "Great Britain"
          ],
          [
           "Cuba"
          ],
          [
           "Hungary"
          ],
          [
           "Ukraine"
          ],
          [
           "Romania"
          ],
          [
           "Greece"
          ],
          [
           "Brazil"
          ],
          [
           "Norway"
          ],
          [
           "Netherlands"
          ],
          [
           "Sweden"
          ],
          [
           "Spain"
          ],
          [
           "Canada"
          ],
          [
           "Turkey"
          ],
          [
           "Poland"
          ],
          [
           "New Zealand"
          ],
          [
           "Thailand"
          ],
          [
           "Belarus"
          ],
          [
           "Ethiopia"
          ],
          [
           "Iran"
          ],
          [
           "Slovakia"
          ],
          [
           "Chinese Taipei"
          ],
          [
           "Georgia"
          ],
          [
           "Bulgaria"
          ],
          [
           "Denmark"
          ],
          [
           "Jamaica"
          ],
          [
           "Uzbekistan"
          ],
          [
           "Morocco"
          ],
          [
           "Argentina"
          ],
          [
           "Kazakhstan"
          ],
          [
           "Kenya"
          ],
          [
           "Czech Republic"
          ],
          [
           "South Africa"
          ],
          [
           "Croatia"
          ],
          [
           "Lithuania"
          ],
          [
           "Egypt"
          ],
          [
           "Switzerland"
          ],
          [
           "Indonesia"
          ],
          [
           "Azerbaijan"
          ],
          [
           "Belgium"
          ],
          [
           "Bahamas"
          ],
          [
           "Dominican Republic"
          ],
          [
           "North Korea"
          ],
          [
           "Mexico"
          ],
          [
           "Portugal"
          ],
          [
           "Finland"
          ],
          [
           "Slovenia"
          ],
          [
           "Estonia"
          ],
          [
           "India"
          ],
          [
           "Colombia"
          ],
          [
           "Venezuela"
          ],
          [
           "Mongolia"
          ],
          [
           "Trinidad and Tobago"
          ]
         ],
         "hovertemplate": "Average Athletes=%{x}<br>Average Total Number of Medals=%{y}<br>Country=%{customdata[0]}<extra></extra>",
         "legendgroup": "",
         "marker": {
          "color": "#636efa",
          "symbol": "circle"
         },
         "mode": "markers",
         "name": "",
         "orientation": "v",
         "showlegend": false,
         "type": "scatter",
         "x": [
          551.25,
          458,
          407.75,
          433.5,
          322,
          430.25,
          340,
          326.75,
          246,
          370.5,
          132.5,
          174.25,
          233.25,
          102.5,
          195.25,
          310.75,
          65.75,
          218,
          133.75,
          297.75,
          296.5,
          87.25,
          230.75,
          178.25,
          46,
          154.5,
          29.25,
          52.25,
          54.75,
          68,
          35.25,
          70.25,
          102.75,
          53.75,
          62.75,
          57.5,
          159.75,
          116,
          59.5,
          128.5,
          126,
          93.75,
          64.75,
          108.25,
          97,
          28,
          47.25,
          92.25,
          24.75,
          30.5,
          46.25,
          105.25,
          81.75,
          55.5,
          66.75,
          41.75,
          82.5,
          92,
          78.5,
          30.25,
          27.75
         ],
         "xaxis": "x",
         "y": [
          109.5,
          81,
          68.25,
          40,
          35.25,
          44,
          38.25,
          28.75,
          28.25,
          53.25,
          20.75,
          15,
          18.5,
          9.75,
          6.75,
          15.75,
          5.75,
          19.25,
          7.75,
          19,
          18,
          6.75,
          10.75,
          11.25,
          6,
          11.5,
          7.5,
          7.25,
          5,
          3.5,
          6,
          5.75,
          9.75,
          9.75,
          6.25,
          1.75,
          5,
          11.25,
          12.25,
          9.25,
          5.75,
          6.5,
          4.25,
          3.5,
          5.75,
          4,
          9.5,
          3.5,
          1.75,
          1.5,
          6.25,
          5.25,
          1.75,
          2.5,
          4.25,
          2,
          3,
          5.5,
          1.75,
          3,
          2
         ],
         "yaxis": "y"
        },
        {
         "hovertemplate": "<b>OLS trendline</b><br>Average Total = 0.137231 * Average Athletes + -5.76966<br>R<sup>2</sup>=0.776201<br><br>Average Athletes=%{x}<br>Average Total Number of Medals=%{y} <b>(trend)</b><extra></extra>",
         "legendgroup": "",
         "marker": {
          "color": "#636efa",
          "symbol": "circle"
         },
         "mode": "lines",
         "name": "",
         "showlegend": false,
         "type": "scatter",
         "x": [
          24.75,
          27.75,
          28,
          29.25,
          30.25,
          30.5,
          35.25,
          41.75,
          46,
          46.25,
          47.25,
          52.25,
          53.75,
          54.75,
          55.5,
          57.5,
          59.5,
          62.75,
          64.75,
          65.75,
          66.75,
          68,
          70.25,
          78.5,
          81.75,
          82.5,
          87.25,
          92,
          92.25,
          93.75,
          97,
          102.5,
          102.75,
          105.25,
          108.25,
          116,
          126,
          128.5,
          132.5,
          133.75,
          154.5,
          159.75,
          174.25,
          178.25,
          195.25,
          218,
          230.75,
          233.25,
          246,
          296.5,
          297.75,
          310.75,
          322,
          326.75,
          340,
          370.5,
          407.75,
          430.25,
          433.5,
          458,
          551.25
         ],
         "xaxis": "x",
         "y": [
          -2.3731831984374883,
          -1.96148932488535,
          -1.9271815020893381,
          -1.7556423881092806,
          -1.618411096925234,
          -1.5841032741292231,
          -0.9322546410050041,
          -0.04025124830870386,
          0.5429817392234924,
          0.5772895620195042,
          0.7145208532035499,
          1.4006773091237807,
          1.60652424589985,
          1.7437555370838957,
          1.8466790054719304,
          2.1211415878400226,
          2.395604170208115,
          2.8416058665562645,
          3.1160684489243575,
          3.253299740108403,
          3.3905310312924506,
          3.562070145272507,
          3.8708405504366112,
          5.002998702704993,
          5.449000399053142,
          5.551923867441177,
          6.203772500565396,
          6.855621133689615,
          6.889928956485626,
          7.095775893261695,
          7.541777589609845,
          8.296549691122099,
          8.330857513918112,
          8.673935741878227,
          9.085629615430365,
          10.149172122106723,
          11.521485033947185,
          11.864563261907298,
          12.413488426643484,
          12.58502754062354,
          15.432576832692499,
          16.15304111140874,
          18.142894833577408,
          18.691819998313598,
          21.02475194844238,
          24.14676382287943,
          25.896462785476018,
          26.23954101343613,
          27.98923997603272,
          34.919420180827046,
          35.09095929480711,
          36.874966080199705,
          38.418818106020225,
          39.07066673914444,
          40.88898134733306,
          45.07453572844646,
          50.18640132505218,
          53.27410537669322,
          53.72010707304137,
          57.082273707050504,
          69.87909160996281
         ],
         "yaxis": "y"
        }
       ],
       "layout": {
        "autosize": true,
        "legend": {
         "tracegroupgap": 0
        },
        "template": {
         "data": {
          "bar": [
           {
            "error_x": {
             "color": "#2a3f5f"
            },
            "error_y": {
             "color": "#2a3f5f"
            },
            "marker": {
             "line": {
              "color": "#E5ECF6",
              "width": 0.5
             },
             "pattern": {
              "fillmode": "overlay",
              "size": 10,
              "solidity": 0.2
             }
            },
            "type": "bar"
           }
          ],
          "barpolar": [
           {
            "marker": {
             "line": {
              "color": "#E5ECF6",
              "width": 0.5
             },
             "pattern": {
              "fillmode": "overlay",
              "size": 10,
              "solidity": 0.2
             }
            },
            "type": "barpolar"
           }
          ],
          "carpet": [
           {
            "aaxis": {
             "endlinecolor": "#2a3f5f",
             "gridcolor": "white",
             "linecolor": "white",
             "minorgridcolor": "white",
             "startlinecolor": "#2a3f5f"
            },
            "baxis": {
             "endlinecolor": "#2a3f5f",
             "gridcolor": "white",
             "linecolor": "white",
             "minorgridcolor": "white",
             "startlinecolor": "#2a3f5f"
            },
            "type": "carpet"
           }
          ],
          "choropleth": [
           {
            "colorbar": {
             "outlinewidth": 0,
             "ticks": ""
            },
            "type": "choropleth"
           }
          ],
          "contour": [
           {
            "colorbar": {
             "outlinewidth": 0,
             "ticks": ""
            },
            "colorscale": [
             [
              0,
              "#0d0887"
             ],
             [
              0.1111111111111111,
              "#46039f"
             ],
             [
              0.2222222222222222,
              "#7201a8"
             ],
             [
              0.3333333333333333,
              "#9c179e"
             ],
             [
              0.4444444444444444,
              "#bd3786"
             ],
             [
              0.5555555555555556,
              "#d8576b"
             ],
             [
              0.6666666666666666,
              "#ed7953"
             ],
             [
              0.7777777777777778,
              "#fb9f3a"
             ],
             [
              0.8888888888888888,
              "#fdca26"
             ],
             [
              1,
              "#f0f921"
             ]
            ],
            "type": "contour"
           }
          ],
          "contourcarpet": [
           {
            "colorbar": {
             "outlinewidth": 0,
             "ticks": ""
            },
            "type": "contourcarpet"
           }
          ],
          "heatmap": [
           {
            "colorbar": {
             "outlinewidth": 0,
             "ticks": ""
            },
            "colorscale": [
             [
              0,
              "#0d0887"
             ],
             [
              0.1111111111111111,
              "#46039f"
             ],
             [
              0.2222222222222222,
              "#7201a8"
             ],
             [
              0.3333333333333333,
              "#9c179e"
             ],
             [
              0.4444444444444444,
              "#bd3786"
             ],
             [
              0.5555555555555556,
              "#d8576b"
             ],
             [
              0.6666666666666666,
              "#ed7953"
             ],
             [
              0.7777777777777778,
              "#fb9f3a"
             ],
             [
              0.8888888888888888,
              "#fdca26"
             ],
             [
              1,
              "#f0f921"
             ]
            ],
            "type": "heatmap"
           }
          ],
          "heatmapgl": [
           {
            "colorbar": {
             "outlinewidth": 0,
             "ticks": ""
            },
            "colorscale": [
             [
              0,
              "#0d0887"
             ],
             [
              0.1111111111111111,
              "#46039f"
             ],
             [
              0.2222222222222222,
              "#7201a8"
             ],
             [
              0.3333333333333333,
              "#9c179e"
             ],
             [
              0.4444444444444444,
              "#bd3786"
             ],
             [
              0.5555555555555556,
              "#d8576b"
             ],
             [
              0.6666666666666666,
              "#ed7953"
             ],
             [
              0.7777777777777778,
              "#fb9f3a"
             ],
             [
              0.8888888888888888,
              "#fdca26"
             ],
             [
              1,
              "#f0f921"
             ]
            ],
            "type": "heatmapgl"
           }
          ],
          "histogram": [
           {
            "marker": {
             "pattern": {
              "fillmode": "overlay",
              "size": 10,
              "solidity": 0.2
             }
            },
            "type": "histogram"
           }
          ],
          "histogram2d": [
           {
            "colorbar": {
             "outlinewidth": 0,
             "ticks": ""
            },
            "colorscale": [
             [
              0,
              "#0d0887"
             ],
             [
              0.1111111111111111,
              "#46039f"
             ],
             [
              0.2222222222222222,
              "#7201a8"
             ],
             [
              0.3333333333333333,
              "#9c179e"
             ],
             [
              0.4444444444444444,
              "#bd3786"
             ],
             [
              0.5555555555555556,
              "#d8576b"
             ],
             [
              0.6666666666666666,
              "#ed7953"
             ],
             [
              0.7777777777777778,
              "#fb9f3a"
             ],
             [
              0.8888888888888888,
              "#fdca26"
             ],
             [
              1,
              "#f0f921"
             ]
            ],
            "type": "histogram2d"
           }
          ],
          "histogram2dcontour": [
           {
            "colorbar": {
             "outlinewidth": 0,
             "ticks": ""
            },
            "colorscale": [
             [
              0,
              "#0d0887"
             ],
             [
              0.1111111111111111,
              "#46039f"
             ],
             [
              0.2222222222222222,
              "#7201a8"
             ],
             [
              0.3333333333333333,
              "#9c179e"
             ],
             [
              0.4444444444444444,
              "#bd3786"
             ],
             [
              0.5555555555555556,
              "#d8576b"
             ],
             [
              0.6666666666666666,
              "#ed7953"
             ],
             [
              0.7777777777777778,
              "#fb9f3a"
             ],
             [
              0.8888888888888888,
              "#fdca26"
             ],
             [
              1,
              "#f0f921"
             ]
            ],
            "type": "histogram2dcontour"
           }
          ],
          "mesh3d": [
           {
            "colorbar": {
             "outlinewidth": 0,
             "ticks": ""
            },
            "type": "mesh3d"
           }
          ],
          "parcoords": [
           {
            "line": {
             "colorbar": {
              "outlinewidth": 0,
              "ticks": ""
             }
            },
            "type": "parcoords"
           }
          ],
          "pie": [
           {
            "automargin": true,
            "type": "pie"
           }
          ],
          "scatter": [
           {
            "marker": {
             "colorbar": {
              "outlinewidth": 0,
              "ticks": ""
             }
            },
            "type": "scatter"
           }
          ],
          "scatter3d": [
           {
            "line": {
             "colorbar": {
              "outlinewidth": 0,
              "ticks": ""
             }
            },
            "marker": {
             "colorbar": {
              "outlinewidth": 0,
              "ticks": ""
             }
            },
            "type": "scatter3d"
           }
          ],
          "scattercarpet": [
           {
            "marker": {
             "colorbar": {
              "outlinewidth": 0,
              "ticks": ""
             }
            },
            "type": "scattercarpet"
           }
          ],
          "scattergeo": [
           {
            "marker": {
             "colorbar": {
              "outlinewidth": 0,
              "ticks": ""
             }
            },
            "type": "scattergeo"
           }
          ],
          "scattergl": [
           {
            "marker": {
             "colorbar": {
              "outlinewidth": 0,
              "ticks": ""
             }
            },
            "type": "scattergl"
           }
          ],
          "scattermapbox": [
           {
            "marker": {
             "colorbar": {
              "outlinewidth": 0,
              "ticks": ""
             }
            },
            "type": "scattermapbox"
           }
          ],
          "scatterpolar": [
           {
            "marker": {
             "colorbar": {
              "outlinewidth": 0,
              "ticks": ""
             }
            },
            "type": "scatterpolar"
           }
          ],
          "scatterpolargl": [
           {
            "marker": {
             "colorbar": {
              "outlinewidth": 0,
              "ticks": ""
             }
            },
            "type": "scatterpolargl"
           }
          ],
          "scatterternary": [
           {
            "marker": {
             "colorbar": {
              "outlinewidth": 0,
              "ticks": ""
             }
            },
            "type": "scatterternary"
           }
          ],
          "surface": [
           {
            "colorbar": {
             "outlinewidth": 0,
             "ticks": ""
            },
            "colorscale": [
             [
              0,
              "#0d0887"
             ],
             [
              0.1111111111111111,
              "#46039f"
             ],
             [
              0.2222222222222222,
              "#7201a8"
             ],
             [
              0.3333333333333333,
              "#9c179e"
             ],
             [
              0.4444444444444444,
              "#bd3786"
             ],
             [
              0.5555555555555556,
              "#d8576b"
             ],
             [
              0.6666666666666666,
              "#ed7953"
             ],
             [
              0.7777777777777778,
              "#fb9f3a"
             ],
             [
              0.8888888888888888,
              "#fdca26"
             ],
             [
              1,
              "#f0f921"
             ]
            ],
            "type": "surface"
           }
          ],
          "table": [
           {
            "cells": {
             "fill": {
              "color": "#EBF0F8"
             },
             "line": {
              "color": "white"
             }
            },
            "header": {
             "fill": {
              "color": "#C8D4E3"
             },
             "line": {
              "color": "white"
             }
            },
            "type": "table"
           }
          ]
         },
         "layout": {
          "annotationdefaults": {
           "arrowcolor": "#2a3f5f",
           "arrowhead": 0,
           "arrowwidth": 1
          },
          "autotypenumbers": "strict",
          "coloraxis": {
           "colorbar": {
            "outlinewidth": 0,
            "ticks": ""
           }
          },
          "colorscale": {
           "diverging": [
            [
             0,
             "#8e0152"
            ],
            [
             0.1,
             "#c51b7d"
            ],
            [
             0.2,
             "#de77ae"
            ],
            [
             0.3,
             "#f1b6da"
            ],
            [
             0.4,
             "#fde0ef"
            ],
            [
             0.5,
             "#f7f7f7"
            ],
            [
             0.6,
             "#e6f5d0"
            ],
            [
             0.7,
             "#b8e186"
            ],
            [
             0.8,
             "#7fbc41"
            ],
            [
             0.9,
             "#4d9221"
            ],
            [
             1,
             "#276419"
            ]
           ],
           "sequential": [
            [
             0,
             "#0d0887"
            ],
            [
             0.1111111111111111,
             "#46039f"
            ],
            [
             0.2222222222222222,
             "#7201a8"
            ],
            [
             0.3333333333333333,
             "#9c179e"
            ],
            [
             0.4444444444444444,
             "#bd3786"
            ],
            [
             0.5555555555555556,
             "#d8576b"
            ],
            [
             0.6666666666666666,
             "#ed7953"
            ],
            [
             0.7777777777777778,
             "#fb9f3a"
            ],
            [
             0.8888888888888888,
             "#fdca26"
            ],
            [
             1,
             "#f0f921"
            ]
           ],
           "sequentialminus": [
            [
             0,
             "#0d0887"
            ],
            [
             0.1111111111111111,
             "#46039f"
            ],
            [
             0.2222222222222222,
             "#7201a8"
            ],
            [
             0.3333333333333333,
             "#9c179e"
            ],
            [
             0.4444444444444444,
             "#bd3786"
            ],
            [
             0.5555555555555556,
             "#d8576b"
            ],
            [
             0.6666666666666666,
             "#ed7953"
            ],
            [
             0.7777777777777778,
             "#fb9f3a"
            ],
            [
             0.8888888888888888,
             "#fdca26"
            ],
            [
             1,
             "#f0f921"
            ]
           ]
          },
          "colorway": [
           "#636efa",
           "#EF553B",
           "#00cc96",
           "#ab63fa",
           "#FFA15A",
           "#19d3f3",
           "#FF6692",
           "#B6E880",
           "#FF97FF",
           "#FECB52"
          ],
          "font": {
           "color": "#2a3f5f"
          },
          "geo": {
           "bgcolor": "white",
           "lakecolor": "white",
           "landcolor": "#E5ECF6",
           "showlakes": true,
           "showland": true,
           "subunitcolor": "white"
          },
          "hoverlabel": {
           "align": "left"
          },
          "hovermode": "closest",
          "mapbox": {
           "style": "light"
          },
          "paper_bgcolor": "white",
          "plot_bgcolor": "#E5ECF6",
          "polar": {
           "angularaxis": {
            "gridcolor": "white",
            "linecolor": "white",
            "ticks": ""
           },
           "bgcolor": "#E5ECF6",
           "radialaxis": {
            "gridcolor": "white",
            "linecolor": "white",
            "ticks": ""
           }
          },
          "scene": {
           "xaxis": {
            "backgroundcolor": "#E5ECF6",
            "gridcolor": "white",
            "gridwidth": 2,
            "linecolor": "white",
            "showbackground": true,
            "ticks": "",
            "zerolinecolor": "white"
           },
           "yaxis": {
            "backgroundcolor": "#E5ECF6",
            "gridcolor": "white",
            "gridwidth": 2,
            "linecolor": "white",
            "showbackground": true,
            "ticks": "",
            "zerolinecolor": "white"
           },
           "zaxis": {
            "backgroundcolor": "#E5ECF6",
            "gridcolor": "white",
            "gridwidth": 2,
            "linecolor": "white",
            "showbackground": true,
            "ticks": "",
            "zerolinecolor": "white"
           }
          },
          "shapedefaults": {
           "line": {
            "color": "#2a3f5f"
           }
          },
          "ternary": {
           "aaxis": {
            "gridcolor": "white",
            "linecolor": "white",
            "ticks": ""
           },
           "baxis": {
            "gridcolor": "white",
            "linecolor": "white",
            "ticks": ""
           },
           "bgcolor": "#E5ECF6",
           "caxis": {
            "gridcolor": "white",
            "linecolor": "white",
            "ticks": ""
           }
          },
          "title": {
           "x": 0.05
          },
          "xaxis": {
           "automargin": true,
           "gridcolor": "white",
           "linecolor": "white",
           "ticks": "",
           "title": {
            "standoff": 15
           },
           "zerolinecolor": "white",
           "zerolinewidth": 2
          },
          "yaxis": {
           "automargin": true,
           "gridcolor": "white",
           "linecolor": "white",
           "ticks": "",
           "title": {
            "standoff": 15
           },
           "zerolinecolor": "white",
           "zerolinewidth": 2
          }
         }
        },
        "title": {
         "text": "Average Number of Competitors vs Average Number of Average Total Medals"
        },
        "xaxis": {
         "anchor": "y",
         "autorange": true,
         "domain": [
          0,
          1
         ],
         "range": [
          1.3092828696170131,
          2.825640936128469
         ],
         "title": {
          "text": "Average Athletes"
         },
         "type": "log"
        },
        "yaxis": {
         "anchor": "x",
         "autorange": true,
         "domain": [
          0,
          1
         ],
         "range": [
          -8.735639114936303,
          118.51347921504
         ],
         "title": {
          "text": "Average Total Number of Medals"
         },
         "type": "linear"
        }
       }
      },
      "image/png": "[encoded data removed]",
      "text/html": [
       "<div>                            <div id=\"75c20eaa-eb74-438b-9bde-9f9816b75021\" class=\"plotly-graph-div\" style=\"height:525px; width:100%;\"></div>            <script type=\"text/javascript\">                require([\"plotly\"], function(Plotly) {                    window.PLOTLYENV=window.PLOTLYENV || {};                                    if (document.getElementById(\"75c20eaa-eb74-438b-9bde-9f9816b75021\")) {                    Plotly.newPlot(                        \"75c20eaa-eb74-438b-9bde-9f9816b75021\",                        [{\"customdata\":[[\"United States\"],[\"China\"],[\"Russia\"],[\"Australia\"],[\"Japan\"],[\"Germany\"],[\"France\"],[\"Italy\"],[\"South Korea\"],[\"Great Britain\"],[\"Cuba\"],[\"Hungary\"],[\"Ukraine\"],[\"Romania\"],[\"Greece\"],[\"Brazil\"],[\"Norway\"],[\"Netherlands\"],[\"Sweden\"],[\"Spain\"],[\"Canada\"],[\"Turkey\"],[\"Poland\"],[\"New Zealand\"],[\"Thailand\"],[\"Belarus\"],[\"Ethiopia\"],[\"Iran\"],[\"Slovakia\"],[\"Chinese Taipei\"],[\"Georgia\"],[\"Bulgaria\"],[\"Denmark\"],[\"Jamaica\"],[\"Uzbekistan\"],[\"Morocco\"],[\"Argentina\"],[\"Kazakhstan\"],[\"Kenya\"],[\"Czech Republic\"],[\"South Africa\"],[\"Croatia\"],[\"Lithuania\"],[\"Egypt\"],[\"Switzerland\"],[\"Indonesia\"],[\"Azerbaijan\"],[\"Belgium\"],[\"Bahamas\"],[\"Dominican Republic\"],[\"North Korea\"],[\"Mexico\"],[\"Portugal\"],[\"Finland\"],[\"Slovenia\"],[\"Estonia\"],[\"India\"],[\"Colombia\"],[\"Venezuela\"],[\"Mongolia\"],[\"Trinidad and Tobago\"]],\"hovertemplate\":\"Average Athletes=%{x}<br>Average Total Number of Medals=%{y}<br>Country=%{customdata[0]}<extra></extra>\",\"legendgroup\":\"\",\"marker\":{\"color\":\"#636efa\",\"symbol\":\"circle\"},\"mode\":\"markers\",\"name\":\"\",\"orientation\":\"v\",\"showlegend\":false,\"x\":[551.25,458.0,407.75,433.5,322.0,430.25,340.0,326.75,246.0,370.5,132.5,174.25,233.25,102.5,195.25,310.75,65.75,218.0,133.75,297.75,296.5,87.25,230.75,178.25,46.0,154.5,29.25,52.25,54.75,68.0,35.25,70.25,102.75,53.75,62.75,57.5,159.75,116.0,59.5,128.5,126.0,93.75,64.75,108.25,97.0,28.0,47.25,92.25,24.75,30.5,46.25,105.25,81.75,55.5,66.75,41.75,82.5,92.0,78.5,30.25,27.75],\"xaxis\":\"x\",\"y\":[109.5,81.0,68.25,40.0,35.25,44.0,38.25,28.75,28.25,53.25,20.75,15.0,18.5,9.75,6.75,15.75,5.75,19.25,7.75,19.0,18.0,6.75,10.75,11.25,6.0,11.5,7.5,7.25,5.0,3.5,6.0,5.75,9.75,9.75,6.25,1.75,5.0,11.25,12.25,9.25,5.75,6.5,4.25,3.5,5.75,4.0,9.5,3.5,1.75,1.5,6.25,5.25,1.75,2.5,4.25,2.0,3.0,5.5,1.75,3.0,2.0],\"yaxis\":\"y\",\"type\":\"scatter\"},{\"hovertemplate\":\"<b>OLS trendline</b><br>Average Total = 0.137231 * Average Athletes + -5.76966<br>R<sup>2</sup>=0.776201<br><br>Average Athletes=%{x}<br>Average Total Number of Medals=%{y} <b>(trend)</b><extra></extra>\",\"legendgroup\":\"\",\"marker\":{\"color\":\"#636efa\",\"symbol\":\"circle\"},\"mode\":\"lines\",\"name\":\"\",\"showlegend\":false,\"x\":[24.75,27.75,28.0,29.25,30.25,30.5,35.25,41.75,46.0,46.25,47.25,52.25,53.75,54.75,55.5,57.5,59.5,62.75,64.75,65.75,66.75,68.0,70.25,78.5,81.75,82.5,87.25,92.0,92.25,93.75,97.0,102.5,102.75,105.25,108.25,116.0,126.0,128.5,132.5,133.75,154.5,159.75,174.25,178.25,195.25,218.0,230.75,233.25,246.0,296.5,297.75,310.75,322.0,326.75,340.0,370.5,407.75,430.25,433.5,458.0,551.25],\"xaxis\":\"x\",\"y\":[-2.3731831984374883,-1.96148932488535,-1.9271815020893381,-1.7556423881092806,-1.618411096925234,-1.5841032741292231,-0.9322546410050041,-0.04025124830870386,0.5429817392234924,0.5772895620195042,0.7145208532035499,1.4006773091237807,1.60652424589985,1.7437555370838957,1.8466790054719304,2.1211415878400226,2.395604170208115,2.8416058665562645,3.1160684489243575,3.253299740108403,3.3905310312924506,3.562070145272507,3.8708405504366112,5.002998702704993,5.449000399053142,5.551923867441177,6.203772500565396,6.855621133689615,6.889928956485626,7.095775893261695,7.541777589609845,8.296549691122099,8.330857513918112,8.673935741878227,9.085629615430365,10.149172122106723,11.521485033947185,11.864563261907298,12.413488426643484,12.58502754062354,15.432576832692499,16.15304111140874,18.142894833577408,18.691819998313598,21.02475194844238,24.14676382287943,25.896462785476018,26.23954101343613,27.98923997603272,34.919420180827046,35.09095929480711,36.874966080199705,38.418818106020225,39.07066673914444,40.88898134733306,45.07453572844646,50.18640132505218,53.27410537669322,53.72010707304137,57.082273707050504,69.87909160996281],\"yaxis\":\"y\",\"type\":\"scatter\"}],                        {\"template\":{\"data\":{\"bar\":[{\"error_x\":{\"color\":\"#2a3f5f\"},\"error_y\":{\"color\":\"#2a3f5f\"},\"marker\":{\"line\":{\"color\":\"#E5ECF6\",\"width\":0.5},\"pattern\":{\"fillmode\":\"overlay\",\"size\":10,\"solidity\":0.2}},\"type\":\"bar\"}],\"barpolar\":[{\"marker\":{\"line\":{\"color\":\"#E5ECF6\",\"width\":0.5},\"pattern\":{\"fillmode\":\"overlay\",\"size\":10,\"solidity\":0.2}},\"type\":\"barpolar\"}],\"carpet\":[{\"aaxis\":{\"endlinecolor\":\"#2a3f5f\",\"gridcolor\":\"white\",\"linecolor\":\"white\",\"minorgridcolor\":\"white\",\"startlinecolor\":\"#2a3f5f\"},\"baxis\":{\"endlinecolor\":\"#2a3f5f\",\"gridcolor\":\"white\",\"linecolor\":\"white\",\"minorgridcolor\":\"white\",\"startlinecolor\":\"#2a3f5f\"},\"type\":\"carpet\"}],\"choropleth\":[{\"colorbar\":{\"outlinewidth\":0,\"ticks\":\"\"},\"type\":\"choropleth\"}],\"contour\":[{\"colorbar\":{\"outlinewidth\":0,\"ticks\":\"\"},\"colorscale\":[[0.0,\"#0d0887\"],[0.1111111111111111,\"#46039f\"],[0.2222222222222222,\"#7201a8\"],[0.3333333333333333,\"#9c179e\"],[0.4444444444444444,\"#bd3786\"],[0.5555555555555556,\"#d8576b\"],[0.6666666666666666,\"#ed7953\"],[0.7777777777777778,\"#fb9f3a\"],[0.8888888888888888,\"#fdca26\"],[1.0,\"#f0f921\"]],\"type\":\"contour\"}],\"contourcarpet\":[{\"colorbar\":{\"outlinewidth\":0,\"ticks\":\"\"},\"type\":\"contourcarpet\"}],\"heatmap\":[{\"colorbar\":{\"outlinewidth\":0,\"ticks\":\"\"},\"colorscale\":[[0.0,\"#0d0887\"],[0.1111111111111111,\"#46039f\"],[0.2222222222222222,\"#7201a8\"],[0.3333333333333333,\"#9c179e\"],[0.4444444444444444,\"#bd3786\"],[0.5555555555555556,\"#d8576b\"],[0.6666666666666666,\"#ed7953\"],[0.7777777777777778,\"#fb9f3a\"],[0.8888888888888888,\"#fdca26\"],[1.0,\"#f0f921\"]],\"type\":\"heatmap\"}],\"heatmapgl\":[{\"colorbar\":{\"outlinewidth\":0,\"ticks\":\"\"},\"colorscale\":[[0.0,\"#0d0887\"],[0.1111111111111111,\"#46039f\"],[0.2222222222222222,\"#7201a8\"],[0.3333333333333333,\"#9c179e\"],[0.4444444444444444,\"#bd3786\"],[0.5555555555555556,\"#d8576b\"],[0.6666666666666666,\"#ed7953\"],[0.7777777777777778,\"#fb9f3a\"],[0.8888888888888888,\"#fdca26\"],[1.0,\"#f0f921\"]],\"type\":\"heatmapgl\"}],\"histogram\":[{\"marker\":{\"pattern\":{\"fillmode\":\"overlay\",\"size\":10,\"solidity\":0.2}},\"type\":\"histogram\"}],\"histogram2d\":[{\"colorbar\":{\"outlinewidth\":0,\"ticks\":\"\"},\"colorscale\":[[0.0,\"#0d0887\"],[0.1111111111111111,\"#46039f\"],[0.2222222222222222,\"#7201a8\"],[0.3333333333333333,\"#9c179e\"],[0.4444444444444444,\"#bd3786\"],[0.5555555555555556,\"#d8576b\"],[0.6666666666666666,\"#ed7953\"],[0.7777777777777778,\"#fb9f3a\"],[0.8888888888888888,\"#fdca26\"],[1.0,\"#f0f921\"]],\"type\":\"histogram2d\"}],\"histogram2dcontour\":[{\"colorbar\":{\"outlinewidth\":0,\"ticks\":\"\"},\"colorscale\":[[0.0,\"#0d0887\"],[0.1111111111111111,\"#46039f\"],[0.2222222222222222,\"#7201a8\"],[0.3333333333333333,\"#9c179e\"],[0.4444444444444444,\"#bd3786\"],[0.5555555555555556,\"#d8576b\"],[0.6666666666666666,\"#ed7953\"],[0.7777777777777778,\"#fb9f3a\"],[0.8888888888888888,\"#fdca26\"],[1.0,\"#f0f921\"]],\"type\":\"histogram2dcontour\"}],\"mesh3d\":[{\"colorbar\":{\"outlinewidth\":0,\"ticks\":\"\"},\"type\":\"mesh3d\"}],\"parcoords\":[{\"line\":{\"colorbar\":{\"outlinewidth\":0,\"ticks\":\"\"}},\"type\":\"parcoords\"}],\"pie\":[{\"automargin\":true,\"type\":\"pie\"}],\"scatter\":[{\"marker\":{\"colorbar\":{\"outlinewidth\":0,\"ticks\":\"\"}},\"type\":\"scatter\"}],\"scatter3d\":[{\"line\":{\"colorbar\":{\"outlinewidth\":0,\"ticks\":\"\"}},\"marker\":{\"colorbar\":{\"outlinewidth\":0,\"ticks\":\"\"}},\"type\":\"scatter3d\"}],\"scattercarpet\":[{\"marker\":{\"colorbar\":{\"outlinewidth\":0,\"ticks\":\"\"}},\"type\":\"scattercarpet\"}],\"scattergeo\":[{\"marker\":{\"colorbar\":{\"outlinewidth\":0,\"ticks\":\"\"}},\"type\":\"scattergeo\"}],\"scattergl\":[{\"marker\":{\"colorbar\":{\"outlinewidth\":0,\"ticks\":\"\"}},\"type\":\"scattergl\"}],\"scattermapbox\":[{\"marker\":{\"colorbar\":{\"outlinewidth\":0,\"ticks\":\"\"}},\"type\":\"scattermapbox\"}],\"scatterpolar\":[{\"marker\":{\"colorbar\":{\"outlinewidth\":0,\"ticks\":\"\"}},\"type\":\"scatterpolar\"}],\"scatterpolargl\":[{\"marker\":{\"colorbar\":{\"outlinewidth\":0,\"ticks\":\"\"}},\"type\":\"scatterpolargl\"}],\"scatterternary\":[{\"marker\":{\"colorbar\":{\"outlinewidth\":0,\"ticks\":\"\"}},\"type\":\"scatterternary\"}],\"surface\":[{\"colorbar\":{\"outlinewidth\":0,\"ticks\":\"\"},\"colorscale\":[[0.0,\"#0d0887\"],[0.1111111111111111,\"#46039f\"],[0.2222222222222222,\"#7201a8\"],[0.3333333333333333,\"#9c179e\"],[0.4444444444444444,\"#bd3786\"],[0.5555555555555556,\"#d8576b\"],[0.6666666666666666,\"#ed7953\"],[0.7777777777777778,\"#fb9f3a\"],[0.8888888888888888,\"#fdca26\"],[1.0,\"#f0f921\"]],\"type\":\"surface\"}],\"table\":[{\"cells\":{\"fill\":{\"color\":\"#EBF0F8\"},\"line\":{\"color\":\"white\"}},\"header\":{\"fill\":{\"color\":\"#C8D4E3\"},\"line\":{\"color\":\"white\"}},\"type\":\"table\"}]},\"layout\":{\"annotationdefaults\":{\"arrowcolor\":\"#2a3f5f\",\"arrowhead\":0,\"arrowwidth\":1},\"autotypenumbers\":\"strict\",\"coloraxis\":{\"colorbar\":{\"outlinewidth\":0,\"ticks\":\"\"}},\"colorscale\":{\"diverging\":[[0,\"#8e0152\"],[0.1,\"#c51b7d\"],[0.2,\"#de77ae\"],[0.3,\"#f1b6da\"],[0.4,\"#fde0ef\"],[0.5,\"#f7f7f7\"],[0.6,\"#e6f5d0\"],[0.7,\"#b8e186\"],[0.8,\"#7fbc41\"],[0.9,\"#4d9221\"],[1,\"#276419\"]],\"sequential\":[[0.0,\"#0d0887\"],[0.1111111111111111,\"#46039f\"],[0.2222222222222222,\"#7201a8\"],[0.3333333333333333,\"#9c179e\"],[0.4444444444444444,\"#bd3786\"],[0.5555555555555556,\"#d8576b\"],[0.6666666666666666,\"#ed7953\"],[0.7777777777777778,\"#fb9f3a\"],[0.8888888888888888,\"#fdca26\"],[1.0,\"#f0f921\"]],\"sequentialminus\":[[0.0,\"#0d0887\"],[0.1111111111111111,\"#46039f\"],[0.2222222222222222,\"#7201a8\"],[0.3333333333333333,\"#9c179e\"],[0.4444444444444444,\"#bd3786\"],[0.5555555555555556,\"#d8576b\"],[0.6666666666666666,\"#ed7953\"],[0.7777777777777778,\"#fb9f3a\"],[0.8888888888888888,\"#fdca26\"],[1.0,\"#f0f921\"]]},\"colorway\":[\"#636efa\",\"#EF553B\",\"#00cc96\",\"#ab63fa\",\"#FFA15A\",\"#19d3f3\",\"#FF6692\",\"#B6E880\",\"#FF97FF\",\"#FECB52\"],\"font\":{\"color\":\"#2a3f5f\"},\"geo\":{\"bgcolor\":\"white\",\"lakecolor\":\"white\",\"landcolor\":\"#E5ECF6\",\"showlakes\":true,\"showland\":true,\"subunitcolor\":\"white\"},\"hoverlabel\":{\"align\":\"left\"},\"hovermode\":\"closest\",\"mapbox\":{\"style\":\"light\"},\"paper_bgcolor\":\"white\",\"plot_bgcolor\":\"#E5ECF6\",\"polar\":{\"angularaxis\":{\"gridcolor\":\"white\",\"linecolor\":\"white\",\"ticks\":\"\"},\"bgcolor\":\"#E5ECF6\",\"radialaxis\":{\"gridcolor\":\"white\",\"linecolor\":\"white\",\"ticks\":\"\"}},\"scene\":{\"xaxis\":{\"backgroundcolor\":\"#E5ECF6\",\"gridcolor\":\"white\",\"gridwidth\":2,\"linecolor\":\"white\",\"showbackground\":true,\"ticks\":\"\",\"zerolinecolor\":\"white\"},\"yaxis\":{\"backgroundcolor\":\"#E5ECF6\",\"gridcolor\":\"white\",\"gridwidth\":2,\"linecolor\":\"white\",\"showbackground\":true,\"ticks\":\"\",\"zerolinecolor\":\"white\"},\"zaxis\":{\"backgroundcolor\":\"#E5ECF6\",\"gridcolor\":\"white\",\"gridwidth\":2,\"linecolor\":\"white\",\"showbackground\":true,\"ticks\":\"\",\"zerolinecolor\":\"white\"}},\"shapedefaults\":{\"line\":{\"color\":\"#2a3f5f\"}},\"ternary\":{\"aaxis\":{\"gridcolor\":\"white\",\"linecolor\":\"white\",\"ticks\":\"\"},\"baxis\":{\"gridcolor\":\"white\",\"linecolor\":\"white\",\"ticks\":\"\"},\"bgcolor\":\"#E5ECF6\",\"caxis\":{\"gridcolor\":\"white\",\"linecolor\":\"white\",\"ticks\":\"\"}},\"title\":{\"x\":0.05},\"xaxis\":{\"automargin\":true,\"gridcolor\":\"white\",\"linecolor\":\"white\",\"ticks\":\"\",\"title\":{\"standoff\":15},\"zerolinecolor\":\"white\",\"zerolinewidth\":2},\"yaxis\":{\"automargin\":true,\"gridcolor\":\"white\",\"linecolor\":\"white\",\"ticks\":\"\",\"title\":{\"standoff\":15},\"zerolinecolor\":\"white\",\"zerolinewidth\":2}}},\"xaxis\":{\"anchor\":\"y\",\"domain\":[0.0,1.0],\"title\":{\"text\":\"Average Athletes\"},\"type\":\"log\"},\"yaxis\":{\"anchor\":\"x\",\"domain\":[0.0,1.0],\"title\":{\"text\":\"Average Total Number of Medals\"}},\"legend\":{\"tracegroupgap\":0},\"title\":{\"text\":\"Average Number of Competitors vs Average Number of Average Total Medals\"}},                        {\"responsive\": true}                    ).then(function(){\n",
       "                            \n",
       "var gd = document.getElementById('75c20eaa-eb74-438b-9bde-9f9816b75021');\n",
       "var x = new MutationObserver(function (mutations, observer) {{\n",
       "        var display = window.getComputedStyle(gd).display;\n",
       "        if (!display || display === 'none') {{\n",
       "            console.log([gd, 'removed!']);\n",
       "            Plotly.purge(gd);\n",
       "            observer.disconnect();\n",
       "        }}\n",
       "}});\n",
       "\n",
       "// Listen for the removal of the full notebook cells\n",
       "var notebookContainer = gd.closest('#notebook-container');\n",
       "if (notebookContainer) {{\n",
       "    x.observe(notebookContainer, {childList: true});\n",
       "}}\n",
       "\n",
       "// Listen for the clearing of the current output cell\n",
       "var outputEl = gd.closest('.output');\n",
       "if (outputEl) {{\n",
       "    x.observe(outputEl, {childList: true});\n",
       "}}\n",
       "\n",
       "                        })                };                });            </script>        </div>"
      ]
     },
     "metadata": {},
     "output_type": "display_data"
    }
   ],
   "source": [
    "average_medals_plot(oad, \"Average Athletes\", \"Average Total\")"
   ]
  },
  {
   "cell_type": "markdown",
   "id": "395933ec-1f24-42e6-aa2e-b61d55594243",
   "metadata": {},
   "source": [
    "## 3.4.1 Number of Athletes vs. Medals, Faceted By Year\n",
    "\n",
    "To observe whether this relationship was consistent during individual years of the Olympics, we created another visulization of number of athletes vs. number of medals, faceted by each year. We found that the relationship was indeed significant during each year we observed."
   ]
  },
  {
   "cell_type": "code",
   "execution_count": 12,
   "id": "9149b691-7e25-47d3-a520-c144fcd15bd4",
   "metadata": {},
   "outputs": [
    {
     "data": {
      "application/vnd.plotly.v1+json": {
       "config": {
        "plotlyServerURL": "https://plot.ly"
       },
       "data": [
        {
         "customdata": [
          [
           "Argentina"
          ],
          [
           "Australia"
          ],
          [
           "Azerbaijan"
          ],
          [
           "Bahamas"
          ],
          [
           "Belarus"
          ],
          [
           "Belgium"
          ],
          [
           "Brazil"
          ],
          [
           "Bulgaria"
          ],
          [
           "Canada"
          ],
          [
           "China"
          ],
          [
           "Chinese Taipei"
          ],
          [
           "Colombia"
          ],
          [
           "Croatia"
          ],
          [
           "Cuba"
          ],
          [
           "Czech Republic"
          ],
          [
           "Denmark"
          ],
          [
           "Dominican Republic"
          ],
          [
           "Egypt"
          ],
          [
           "Estonia"
          ],
          [
           "Ethiopia"
          ],
          [
           "Finland"
          ],
          [
           "France"
          ],
          [
           "Georgia"
          ],
          [
           "Germany"
          ],
          [
           "Great Britain"
          ],
          [
           "Greece"
          ],
          [
           "Hungary"
          ],
          [
           "India"
          ],
          [
           "Indonesia"
          ],
          [
           "Iran"
          ],
          [
           "Italy"
          ],
          [
           "Jamaica"
          ],
          [
           "Japan"
          ],
          [
           "Kazakhstan"
          ],
          [
           "Kenya"
          ],
          [
           "Lithuania"
          ],
          [
           "Mexico"
          ],
          [
           "Mongolia"
          ],
          [
           "Morocco"
          ],
          [
           "Netherlands"
          ],
          [
           "New Zealand"
          ],
          [
           "North Korea"
          ],
          [
           "Norway"
          ],
          [
           "Poland"
          ],
          [
           "Portugal"
          ],
          [
           "Romania"
          ],
          [
           "Russia"
          ],
          [
           "Slovakia"
          ],
          [
           "Slovenia"
          ],
          [
           "South Africa"
          ],
          [
           "South Korea"
          ],
          [
           "Spain"
          ],
          [
           "Sweden"
          ],
          [
           "Switzerland"
          ],
          [
           "Thailand"
          ],
          [
           "Trinidad and Tobago"
          ],
          [
           "Turkey"
          ],
          [
           "Ukraine"
          ],
          [
           "United States"
          ],
          [
           "Uzbekistan"
          ],
          [
           "Venezuela"
          ]
         ],
         "hovertemplate": "Year=2004<br>Total Number of Competitors=%{x}<br>Total Number of Medals=%{y}<br>Country=%{customdata[0]}<extra></extra>",
         "legendgroup": "2004",
         "marker": {
          "color": "#636efa",
          "symbol": "circle"
         },
         "mode": "markers",
         "name": "2004",
         "orientation": "v",
         "showlegend": true,
         "type": "scatter",
         "x": [
          152,
          470,
          36,
          22,
          151,
          50,
          243,
          95,
          263,
          384,
          88,
          53,
          81,
          151,
          142,
          92,
          33,
          97,
          42,
          26,
          53,
          308,
          32,
          441,
          264,
          426,
          209,
          73,
          38,
          37,
          364,
          47,
          306,
          114,
          46,
          59,
          109,
          20,
          55,
          210,
          148,
          36,
          52,
          194,
          81,
          108,
          446,
          64,
          79,
          106,
          264,
          317,
          115,
          98,
          42,
          19,
          64,
          239,
          533,
          69,
          48
         ],
         "xaxis": "x",
         "y": [
          6,
          50,
          5,
          2,
          13,
          3,
          10,
          12,
          12,
          63,
          5,
          2,
          5,
          27,
          9,
          8,
          1,
          5,
          3,
          7,
          2,
          33,
          4,
          49,
          30,
          16,
          17,
          1,
          4,
          6,
          32,
          5,
          37,
          8,
          7,
          3,
          4,
          1,
          3,
          22,
          5,
          5,
          6,
          10,
          3,
          19,
          90,
          6,
          4,
          6,
          30,
          20,
          7,
          5,
          8,
          1,
          11,
          22,
          101,
          5,
          2
         ],
         "yaxis": "y"
        },
        {
         "hovertemplate": "<b>OLS trendline</b><br>Total = 0.128877 * Athletes + -4.30181<br>R<sup>2</sup>=0.734892<br><br>Year=2004<br>Total Number of Competitors=%{x}<br>Total Number of Medals=%{y} <b>(trend)</b><extra></extra>",
         "legendgroup": "2004",
         "marker": {
          "color": "#636efa",
          "symbol": "circle"
         },
         "mode": "lines",
         "name": "2004",
         "showlegend": false,
         "type": "scatter",
         "x": [
          19,
          20,
          22,
          26,
          32,
          33,
          36,
          36,
          37,
          38,
          42,
          42,
          46,
          47,
          48,
          50,
          52,
          53,
          53,
          55,
          59,
          64,
          64,
          69,
          73,
          79,
          81,
          81,
          88,
          92,
          95,
          97,
          98,
          106,
          108,
          109,
          114,
          115,
          142,
          148,
          151,
          151,
          152,
          194,
          209,
          210,
          239,
          243,
          263,
          264,
          264,
          306,
          308,
          317,
          364,
          384,
          426,
          441,
          446,
          470,
          533
         ],
         "xaxis": "x",
         "y": [
          -1.8531415482375757,
          -1.7242643481811712,
          -1.4665099480683628,
          -0.9510011478427449,
          -0.17773794750431904,
          -0.048860747447914576,
          0.3377708527212988,
          0.3377708527212988,
          0.4666480527777024,
          0.5955252528341068,
          1.1110340530597247,
          1.1110340530597247,
          1.6265428532853416,
          1.7554200533417461,
          1.8842972533981506,
          2.1420516535109595,
          2.3998060536237684,
          2.528683253680172,
          2.528683253680172,
          2.786437653792981,
          3.3019464540185988,
          3.94633245430062,
          3.94633245430062,
          4.5907184545826425,
          5.106227254808259,
          5.879490455146685,
          6.137244855259494,
          6.137244855259494,
          7.039385255654324,
          7.554894055879942,
          7.941525656049155,
          8.199280056161964,
          8.328157256218368,
          9.359174856669602,
          9.616929256782411,
          9.745806456838816,
          10.390192457120838,
          10.519069657177242,
          13.998754058700161,
          14.772017259038584,
          15.158648859207798,
          15.158648859207798,
          15.287526059264202,
          20.700368461633186,
          22.63352646247925,
          22.762403662535654,
          26.499842464171383,
          27.015351264396998,
          29.592895265525083,
          29.72177246558149,
          29.72177246558149,
          35.134614867950475,
          35.39236926806328,
          36.55226406857092,
          42.60949247122193,
          45.187036472350016,
          50.599878874718996,
          52.53303687556506,
          53.177422875847085,
          56.27047567720079,
          64.38973928075427
         ],
         "yaxis": "y"
        },
        {
         "customdata": [
          [
           "Argentina"
          ],
          [
           "Australia"
          ],
          [
           "Azerbaijan"
          ],
          [
           "Bahamas"
          ],
          [
           "Belarus"
          ],
          [
           "Belgium"
          ],
          [
           "Brazil"
          ],
          [
           "Bulgaria"
          ],
          [
           "Canada"
          ],
          [
           "China"
          ],
          [
           "Chinese Taipei"
          ],
          [
           "Colombia"
          ],
          [
           "Croatia"
          ],
          [
           "Cuba"
          ],
          [
           "Czech Republic"
          ],
          [
           "Denmark"
          ],
          [
           "Dominican Republic"
          ],
          [
           "Egypt"
          ],
          [
           "Estonia"
          ],
          [
           "Ethiopia"
          ],
          [
           "Finland"
          ],
          [
           "France"
          ],
          [
           "Georgia"
          ],
          [
           "Germany"
          ],
          [
           "Great Britain"
          ],
          [
           "Greece"
          ],
          [
           "Hungary"
          ],
          [
           "India"
          ],
          [
           "Indonesia"
          ],
          [
           "Iran"
          ],
          [
           "Italy"
          ],
          [
           "Jamaica"
          ],
          [
           "Japan"
          ],
          [
           "Kazakhstan"
          ],
          [
           "Kenya"
          ],
          [
           "Lithuania"
          ],
          [
           "Mexico"
          ],
          [
           "Mongolia"
          ],
          [
           "Morocco"
          ],
          [
           "Netherlands"
          ],
          [
           "New Zealand"
          ],
          [
           "North Korea"
          ],
          [
           "Norway"
          ],
          [
           "Poland"
          ],
          [
           "Portugal"
          ],
          [
           "Romania"
          ],
          [
           "Russia"
          ],
          [
           "Slovakia"
          ],
          [
           "Slovenia"
          ],
          [
           "South Africa"
          ],
          [
           "South Korea"
          ],
          [
           "Spain"
          ],
          [
           "Sweden"
          ],
          [
           "Switzerland"
          ],
          [
           "Thailand"
          ],
          [
           "Trinidad and Tobago"
          ],
          [
           "Turkey"
          ],
          [
           "Ukraine"
          ],
          [
           "United States"
          ],
          [
           "Uzbekistan"
          ],
          [
           "Venezuela"
          ]
         ],
         "hovertemplate": "Year=2008<br>Total Number of Competitors=%{x}<br>Total Number of Medals=%{y}<br>Country=%{customdata[0]}<extra></extra>",
         "legendgroup": "2008",
         "marker": {
          "color": "#EF553B",
          "symbol": "circle"
         },
         "mode": "markers",
         "name": "2008",
         "orientation": "v",
         "showlegend": true,
         "type": "scatter",
         "x": [
          137,
          433,
          44,
          25,
          181,
          96,
          277,
          72,
          332,
          639,
          80,
          64,
          99,
          149,
          134,
          84,
          25,
          103,
          47,
          22,
          58,
          323,
          35,
          463,
          311,
          156,
          171,
          57,
          24,
          55,
          344,
          50,
          351,
          132,
          56,
          71,
          85,
          29,
          57,
          245,
          182,
          63,
          85,
          268,
          77,
          102,
          467,
          57,
          62,
          136,
          267,
          286,
          134,
          84,
          51,
          30,
          68,
          254,
          588,
          58,
          109
         ],
         "xaxis": "x2",
         "y": [
          6,
          46,
          6,
          2,
          14,
          2,
          17,
          5,
          20,
          100,
          4,
          3,
          5,
          30,
          7,
          7,
          2,
          2,
          2,
          7,
          4,
          43,
          7,
          41,
          51,
          3,
          10,
          3,
          6,
          2,
          27,
          11,
          25,
          9,
          16,
          5,
          4,
          4,
          2,
          16,
          9,
          6,
          9,
          11,
          2,
          9,
          60,
          6,
          5,
          1,
          32,
          19,
          5,
          7,
          6,
          2,
          5,
          22,
          112,
          4,
          1
         ],
         "yaxis": "y2"
        },
        {
         "hovertemplate": "<b>OLS trendline</b><br>Total = 0.132426 * Athletes + -5.81763<br>R<sup>2</sup>=0.788082<br><br>Year=2008<br>Total Number of Competitors=%{x}<br>Total Number of Medals=%{y} <b>(trend)</b><extra></extra>",
         "legendgroup": "2008",
         "marker": {
          "color": "#EF553B",
          "symbol": "circle"
         },
         "mode": "lines",
         "name": "2008",
         "showlegend": false,
         "type": "scatter",
         "x": [
          22,
          24,
          25,
          25,
          29,
          30,
          35,
          44,
          47,
          50,
          51,
          55,
          56,
          57,
          57,
          57,
          58,
          58,
          62,
          63,
          64,
          68,
          71,
          72,
          77,
          80,
          84,
          84,
          85,
          85,
          96,
          99,
          102,
          103,
          109,
          132,
          134,
          134,
          136,
          137,
          149,
          156,
          171,
          181,
          182,
          245,
          254,
          267,
          268,
          277,
          286,
          311,
          323,
          332,
          344,
          351,
          433,
          463,
          467,
          588,
          639
         ],
         "xaxis": "x2",
         "y": [
          -2.904254452701184,
          -2.63940209434596,
          -2.506975915168348,
          -2.506975915168348,
          -1.9772711984579003,
          -1.8448450192802888,
          -1.1827141233922287,
          0.009121489206277644,
          0.4064000267391137,
          0.8036785642719497,
          0.9361047434495617,
          1.465809460160009,
          1.598235639337621,
          1.730661818515233,
          1.730661818515233,
          1.730661818515233,
          1.863087997692845,
          1.863087997692845,
          2.392792714403292,
          2.525218893580904,
          2.657645072758516,
          3.187349789468964,
          3.5846283270018002,
          3.7170545061794122,
          4.3791854020674705,
          4.776463939600307,
          5.306168656310755,
          5.306168656310755,
          5.438594835488367,
          5.438594835488367,
          6.895282806442097,
          7.292561343974933,
          7.689839881507769,
          7.822266060685381,
          8.616823135751051,
          11.662625256836126,
          11.92747761519135,
          11.92747761519135,
          12.192329973546574,
          12.324756152724184,
          13.913870302855528,
          14.84085355709881,
          16.82724624476299,
          18.15150803653911,
          18.28393421571672,
          26.62678350390627,
          27.81861911650478,
          29.54015944581373,
          29.672585624991346,
          30.86442123758985,
          32.05625685018836,
          35.36691132962865,
          36.95602547976,
          38.14786109235851,
          39.73697524248985,
          40.66395849673313,
          51.522905189297305,
          55.49569056462566,
          56.02539528133612,
          72.04896296182716,
          78.80269809988536
         ],
         "yaxis": "y2"
        },
        {
         "customdata": [
          [
           "Argentina"
          ],
          [
           "Australia"
          ],
          [
           "Azerbaijan"
          ],
          [
           "Bahamas"
          ],
          [
           "Belarus"
          ],
          [
           "Belgium"
          ],
          [
           "Brazil"
          ],
          [
           "Bulgaria"
          ],
          [
           "Canada"
          ],
          [
           "China"
          ],
          [
           "Chinese Taipei"
          ],
          [
           "Colombia"
          ],
          [
           "Croatia"
          ],
          [
           "Cuba"
          ],
          [
           "Czech Republic"
          ],
          [
           "Denmark"
          ],
          [
           "Dominican Republic"
          ],
          [
           "Egypt"
          ],
          [
           "Estonia"
          ],
          [
           "Ethiopia"
          ],
          [
           "Finland"
          ],
          [
           "France"
          ],
          [
           "Georgia"
          ],
          [
           "Germany"
          ],
          [
           "Great Britain"
          ],
          [
           "Greece"
          ],
          [
           "Hungary"
          ],
          [
           "India"
          ],
          [
           "Indonesia"
          ],
          [
           "Iran"
          ],
          [
           "Italy"
          ],
          [
           "Jamaica"
          ],
          [
           "Japan"
          ],
          [
           "Kazakhstan"
          ],
          [
           "Kenya"
          ],
          [
           "Lithuania"
          ],
          [
           "Mexico"
          ],
          [
           "Mongolia"
          ],
          [
           "Morocco"
          ],
          [
           "Netherlands"
          ],
          [
           "New Zealand"
          ],
          [
           "North Korea"
          ],
          [
           "Norway"
          ],
          [
           "Poland"
          ],
          [
           "Portugal"
          ],
          [
           "Romania"
          ],
          [
           "Russia"
          ],
          [
           "Slovakia"
          ],
          [
           "Slovenia"
          ],
          [
           "South Africa"
          ],
          [
           "South Korea"
          ],
          [
           "Spain"
          ],
          [
           "Sweden"
          ],
          [
           "Switzerland"
          ],
          [
           "Thailand"
          ],
          [
           "Trinidad and Tobago"
          ],
          [
           "Turkey"
          ],
          [
           "Ukraine"
          ],
          [
           "United States"
          ],
          [
           "Uzbekistan"
          ],
          [
           "Venezuela"
          ]
         ],
         "hovertemplate": "Year=2012<br>Total Number of Competitors=%{x}<br>Total Number of Medals=%{y}<br>Country=%{customdata[0]}<extra></extra>",
         "legendgroup": "2012",
         "marker": {
          "color": "#00cc96",
          "symbol": "circle"
         },
         "mode": "markers",
         "name": "2012",
         "orientation": "v",
         "showlegend": true,
         "type": "scatter",
         "x": [
          137,
          410,
          53,
          24,
          165,
          115,
          258,
          63,
          277,
          396,
          44,
          104,
          108,
          110,
          133,
          113,
          35,
          113,
          33,
          35,
          55,
          330,
          35,
          392,
          541,
          104,
          157,
          83,
          22,
          53,
          285,
          50,
          293,
          114,
          47,
          62,
          102,
          29,
          67,
          175,
          184,
          51,
          64,
          218,
          77,
          103,
          436,
          47,
          65,
          125,
          248,
          282,
          134,
          102,
          37,
          30,
          114,
          237,
          530,
          54,
          70
         ],
         "xaxis": "x3",
         "y": [
          4,
          35,
          9,
          1,
          10,
          3,
          17,
          3,
          18,
          91,
          2,
          9,
          6,
          15,
          11,
          9,
          2,
          4,
          2,
          8,
          3,
          35,
          6,
          44,
          65,
          2,
          18,
          6,
          3,
          13,
          28,
          12,
          38,
          11,
          13,
          5,
          8,
          5,
          1,
          20,
          13,
          7,
          4,
          11,
          1,
          7,
          67,
          4,
          4,
          6,
          30,
          20,
          8,
          4,
          4,
          4,
          3,
          19,
          104,
          3,
          1
         ],
         "yaxis": "y3"
        },
        {
         "hovertemplate": "<b>OLS trendline</b><br>Total = 0.142201 * Athletes + -5.75175<br>R<sup>2</sup>=0.780191<br><br>Year=2012<br>Total Number of Competitors=%{x}<br>Total Number of Medals=%{y} <b>(trend)</b><extra></extra>",
         "legendgroup": "2012",
         "marker": {
          "color": "#00cc96",
          "symbol": "circle"
         },
         "mode": "lines",
         "name": "2012",
         "showlegend": false,
         "type": "scatter",
         "x": [
          22,
          24,
          29,
          30,
          33,
          35,
          35,
          35,
          37,
          44,
          47,
          47,
          50,
          51,
          53,
          53,
          54,
          55,
          62,
          63,
          64,
          65,
          67,
          70,
          77,
          83,
          102,
          102,
          103,
          104,
          104,
          108,
          110,
          113,
          113,
          114,
          114,
          115,
          125,
          133,
          134,
          137,
          157,
          165,
          175,
          184,
          218,
          237,
          248,
          258,
          277,
          282,
          285,
          293,
          330,
          392,
          396,
          410,
          436,
          530,
          541
         ],
         "xaxis": "x3",
         "y": [
          -2.6233262768719716,
          -2.3389238248716575,
          -1.6279176948708738,
          -1.4857164688707165,
          -1.0591127908702456,
          -0.7747103388699319,
          -0.7747103388699319,
          -0.7747103388699319,
          -0.49030788686961824,
          0.5051006951314791,
          0.9317043731319501,
          0.9317043731319501,
          1.358308051132421,
          1.5005092771325774,
          1.784911729132891,
          1.784911729132891,
          1.9271129551330484,
          2.0693141811332048,
          3.064722763134302,
          3.2069239891344594,
          3.3491252151346167,
          3.491326441134774,
          3.7757288931350868,
          4.202332571135559,
          5.197741153136656,
          6.050948509137598,
          8.752771803140577,
          8.752771803140577,
          8.894973029140735,
          9.037174255140892,
          9.037174255140892,
          9.60597915914152,
          9.890381611141832,
          10.316985289142304,
          10.316985289142304,
          10.459186515142461,
          10.459186515142461,
          10.601387741142618,
          12.023400001144184,
          13.161009809145439,
          13.303211035145596,
          13.729814713146068,
          16.573839233149208,
          17.71144904115046,
          19.133461301152025,
          20.413272335153437,
          25.24811401915877,
          27.949937313161755,
          29.514150799163474,
          30.936163059165047,
          33.637986353168024,
          34.34899248316881,
          34.77559616116928,
          35.913205969170534,
          41.17465133117634,
          49.991127343186065,
          50.559932247186694,
          52.55074941118889,
          56.247981287192964,
          69.61489653120772,
          71.17911001720944
         ],
         "yaxis": "y3"
        },
        {
         "customdata": [
          [
           "Argentina"
          ],
          [
           "Australia"
          ],
          [
           "Azerbaijan"
          ],
          [
           "Bahamas"
          ],
          [
           "Belarus"
          ],
          [
           "Belgium"
          ],
          [
           "Brazil"
          ],
          [
           "Bulgaria"
          ],
          [
           "Canada"
          ],
          [
           "China"
          ],
          [
           "Chinese Taipei"
          ],
          [
           "Colombia"
          ],
          [
           "Croatia"
          ],
          [
           "Cuba"
          ],
          [
           "Czech Republic"
          ],
          [
           "Denmark"
          ],
          [
           "Dominican Republic"
          ],
          [
           "Egypt"
          ],
          [
           "Estonia"
          ],
          [
           "Ethiopia"
          ],
          [
           "Finland"
          ],
          [
           "France"
          ],
          [
           "Georgia"
          ],
          [
           "Germany"
          ],
          [
           "Great Britain"
          ],
          [
           "Greece"
          ],
          [
           "Hungary"
          ],
          [
           "India"
          ],
          [
           "Indonesia"
          ],
          [
           "Iran"
          ],
          [
           "Italy"
          ],
          [
           "Jamaica"
          ],
          [
           "Japan"
          ],
          [
           "Kazakhstan"
          ],
          [
           "Kenya"
          ],
          [
           "Lithuania"
          ],
          [
           "Mexico"
          ],
          [
           "Mongolia"
          ],
          [
           "Morocco"
          ],
          [
           "Netherlands"
          ],
          [
           "New Zealand"
          ],
          [
           "North Korea"
          ],
          [
           "Norway"
          ],
          [
           "Poland"
          ],
          [
           "Portugal"
          ],
          [
           "Romania"
          ],
          [
           "Russia"
          ],
          [
           "Slovakia"
          ],
          [
           "Slovenia"
          ],
          [
           "South Africa"
          ],
          [
           "South Korea"
          ],
          [
           "Spain"
          ],
          [
           "Sweden"
          ],
          [
           "Switzerland"
          ],
          [
           "Thailand"
          ],
          [
           "Trinidad and Tobago"
          ],
          [
           "Turkey"
          ],
          [
           "Ukraine"
          ],
          [
           "United States"
          ],
          [
           "Uzbekistan"
          ],
          [
           "Venezuela"
          ]
         ],
         "hovertemplate": "Year=2016<br>Total Number of Competitors=%{x}<br>Total Number of Medals=%{y}<br>Country=%{customdata[0]}<extra></extra>",
         "legendgroup": "2016",
         "marker": {
          "color": "#ab63fa",
          "symbol": "circle"
         },
         "mode": "markers",
         "name": "2016",
         "orientation": "v",
         "showlegend": true,
         "type": "scatter",
         "x": [
          213,
          421,
          56,
          28,
          121,
          108,
          465,
          51,
          314,
          413,
          60,
          147,
          87,
          120,
          105,
          122,
          29,
          120,
          45,
          34,
          56,
          399,
          39,
          425,
          366,
          95,
          160,
          117,
          28,
          64,
          314,
          68,
          338,
          104,
          89,
          67,
          125,
          43,
          51,
          242,
          199,
          35,
          62,
          243,
          92,
          97,
          282,
          51,
          61,
          137,
          205,
          306,
          152,
          104,
          54,
          32,
          103,
          203,
          554,
          70,
          87
         ],
         "xaxis": "x4",
         "y": [
          4,
          29,
          18,
          2,
          9,
          6,
          19,
          3,
          22,
          70,
          3,
          8,
          10,
          11,
          10,
          15,
          1,
          3,
          1,
          8,
          1,
          42,
          7,
          42,
          67,
          6,
          15,
          2,
          3,
          8,
          28,
          11,
          41,
          17,
          13,
          4,
          5,
          2,
          1,
          19,
          18,
          7,
          4,
          11,
          1,
          4,
          56,
          4,
          4,
          10,
          21,
          17,
          11,
          7,
          6,
          1,
          8,
          11,
          121,
          13,
          3
         ],
         "yaxis": "y4"
        },
        {
         "hovertemplate": "<b>OLS trendline</b><br>Total = 0.127726 * Athletes + -4.48874<br>R<sup>2</sup>=0.651686<br><br>Year=2016<br>Total Number of Competitors=%{x}<br>Total Number of Medals=%{y} <b>(trend)</b><extra></extra>",
         "legendgroup": "2016",
         "marker": {
          "color": "#ab63fa",
          "symbol": "circle"
         },
         "mode": "lines",
         "name": "2016",
         "showlegend": false,
         "type": "scatter",
         "x": [
          28,
          28,
          29,
          32,
          34,
          35,
          39,
          43,
          45,
          51,
          51,
          51,
          54,
          56,
          56,
          60,
          61,
          62,
          64,
          67,
          68,
          70,
          87,
          87,
          89,
          92,
          95,
          97,
          103,
          104,
          104,
          105,
          108,
          117,
          120,
          120,
          121,
          122,
          125,
          137,
          147,
          152,
          160,
          199,
          203,
          205,
          213,
          242,
          243,
          282,
          306,
          314,
          314,
          338,
          366,
          399,
          413,
          421,
          425,
          465,
          554
         ],
         "xaxis": "x4",
         "y": [
          -0.9124177410011876,
          -0.9124177410011876,
          -0.7846918632696265,
          -0.4015142300749437,
          -0.14606247461182154,
          -0.01833659688026046,
          0.49256691404598296,
          1.0034704249722273,
          1.2589221804353485,
          2.025277446824715,
          2.025277446824715,
          2.025277446824715,
          2.4084550800193973,
          2.6639068354825195,
          2.6639068354825195,
          3.174810346408763,
          3.302536224140324,
          3.430262101871885,
          3.6857138573350072,
          4.06889149052969,
          4.1966173682612515,
          4.452069123724374,
          6.623409045160909,
          6.623409045160909,
          6.8788608006240315,
          7.262038433818714,
          7.645216067013398,
          7.900667822476518,
          8.667023088865886,
          8.794748966597446,
          8.794748966597446,
          8.922474844329006,
          9.30565247752369,
          10.455185377107739,
          10.83836301030242,
          10.83836301030242,
          10.966088888033983,
          11.093814765765543,
          11.476992398960228,
          13.009702931738957,
          14.286961709054566,
          14.92559109771237,
          15.947398119564859,
          20.92870735109574,
          21.43961086202198,
          21.695062617485103,
          22.71686963933759,
          26.42092009355286,
          26.54864597128442,
          31.529955202815298,
          34.59537626837276,
          35.61718329022525,
          35.61718329022525,
          38.682604355782715,
          42.25892893226642,
          46.47388289740793,
          48.26204518564979,
          49.28385220750228,
          49.79475571842852,
          54.903790827690955,
          66.27139394579989
         ],
         "yaxis": "y4"
        }
       ],
       "layout": {
        "annotations": [
         {
          "font": {},
          "showarrow": false,
          "text": "Year=2004",
          "x": 0.1175,
          "xanchor": "center",
          "xref": "paper",
          "y": 1,
          "yanchor": "bottom",
          "yref": "paper"
         },
         {
          "font": {},
          "showarrow": false,
          "text": "Year=2008",
          "x": 0.3725,
          "xanchor": "center",
          "xref": "paper",
          "y": 1,
          "yanchor": "bottom",
          "yref": "paper"
         },
         {
          "font": {},
          "showarrow": false,
          "text": "Year=2012",
          "x": 0.6275,
          "xanchor": "center",
          "xref": "paper",
          "y": 1,
          "yanchor": "bottom",
          "yref": "paper"
         },
         {
          "font": {},
          "showarrow": false,
          "text": "Year=2016",
          "x": 0.8824999999999998,
          "xanchor": "center",
          "xref": "paper",
          "y": 1,
          "yanchor": "bottom",
          "yref": "paper"
         }
        ],
        "autosize": true,
        "legend": {
         "title": {
          "text": "Year"
         },
         "tracegroupgap": 0
        },
        "template": {
         "data": {
          "bar": [
           {
            "error_x": {
             "color": "#2a3f5f"
            },
            "error_y": {
             "color": "#2a3f5f"
            },
            "marker": {
             "line": {
              "color": "#E5ECF6",
              "width": 0.5
             },
             "pattern": {
              "fillmode": "overlay",
              "size": 10,
              "solidity": 0.2
             }
            },
            "type": "bar"
           }
          ],
          "barpolar": [
           {
            "marker": {
             "line": {
              "color": "#E5ECF6",
              "width": 0.5
             },
             "pattern": {
              "fillmode": "overlay",
              "size": 10,
              "solidity": 0.2
             }
            },
            "type": "barpolar"
           }
          ],
          "carpet": [
           {
            "aaxis": {
             "endlinecolor": "#2a3f5f",
             "gridcolor": "white",
             "linecolor": "white",
             "minorgridcolor": "white",
             "startlinecolor": "#2a3f5f"
            },
            "baxis": {
             "endlinecolor": "#2a3f5f",
             "gridcolor": "white",
             "linecolor": "white",
             "minorgridcolor": "white",
             "startlinecolor": "#2a3f5f"
            },
            "type": "carpet"
           }
          ],
          "choropleth": [
           {
            "colorbar": {
             "outlinewidth": 0,
             "ticks": ""
            },
            "type": "choropleth"
           }
          ],
          "contour": [
           {
            "colorbar": {
             "outlinewidth": 0,
             "ticks": ""
            },
            "colorscale": [
             [
              0,
              "#0d0887"
             ],
             [
              0.1111111111111111,
              "#46039f"
             ],
             [
              0.2222222222222222,
              "#7201a8"
             ],
             [
              0.3333333333333333,
              "#9c179e"
             ],
             [
              0.4444444444444444,
              "#bd3786"
             ],
             [
              0.5555555555555556,
              "#d8576b"
             ],
             [
              0.6666666666666666,
              "#ed7953"
             ],
             [
              0.7777777777777778,
              "#fb9f3a"
             ],
             [
              0.8888888888888888,
              "#fdca26"
             ],
             [
              1,
              "#f0f921"
             ]
            ],
            "type": "contour"
           }
          ],
          "contourcarpet": [
           {
            "colorbar": {
             "outlinewidth": 0,
             "ticks": ""
            },
            "type": "contourcarpet"
           }
          ],
          "heatmap": [
           {
            "colorbar": {
             "outlinewidth": 0,
             "ticks": ""
            },
            "colorscale": [
             [
              0,
              "#0d0887"
             ],
             [
              0.1111111111111111,
              "#46039f"
             ],
             [
              0.2222222222222222,
              "#7201a8"
             ],
             [
              0.3333333333333333,
              "#9c179e"
             ],
             [
              0.4444444444444444,
              "#bd3786"
             ],
             [
              0.5555555555555556,
              "#d8576b"
             ],
             [
              0.6666666666666666,
              "#ed7953"
             ],
             [
              0.7777777777777778,
              "#fb9f3a"
             ],
             [
              0.8888888888888888,
              "#fdca26"
             ],
             [
              1,
              "#f0f921"
             ]
            ],
            "type": "heatmap"
           }
          ],
          "heatmapgl": [
           {
            "colorbar": {
             "outlinewidth": 0,
             "ticks": ""
            },
            "colorscale": [
             [
              0,
              "#0d0887"
             ],
             [
              0.1111111111111111,
              "#46039f"
             ],
             [
              0.2222222222222222,
              "#7201a8"
             ],
             [
              0.3333333333333333,
              "#9c179e"
             ],
             [
              0.4444444444444444,
              "#bd3786"
             ],
             [
              0.5555555555555556,
              "#d8576b"
             ],
             [
              0.6666666666666666,
              "#ed7953"
             ],
             [
              0.7777777777777778,
              "#fb9f3a"
             ],
             [
              0.8888888888888888,
              "#fdca26"
             ],
             [
              1,
              "#f0f921"
             ]
            ],
            "type": "heatmapgl"
           }
          ],
          "histogram": [
           {
            "marker": {
             "pattern": {
              "fillmode": "overlay",
              "size": 10,
              "solidity": 0.2
             }
            },
            "type": "histogram"
           }
          ],
          "histogram2d": [
           {
            "colorbar": {
             "outlinewidth": 0,
             "ticks": ""
            },
            "colorscale": [
             [
              0,
              "#0d0887"
             ],
             [
              0.1111111111111111,
              "#46039f"
             ],
             [
              0.2222222222222222,
              "#7201a8"
             ],
             [
              0.3333333333333333,
              "#9c179e"
             ],
             [
              0.4444444444444444,
              "#bd3786"
             ],
             [
              0.5555555555555556,
              "#d8576b"
             ],
             [
              0.6666666666666666,
              "#ed7953"
             ],
             [
              0.7777777777777778,
              "#fb9f3a"
             ],
             [
              0.8888888888888888,
              "#fdca26"
             ],
             [
              1,
              "#f0f921"
             ]
            ],
            "type": "histogram2d"
           }
          ],
          "histogram2dcontour": [
           {
            "colorbar": {
             "outlinewidth": 0,
             "ticks": ""
            },
            "colorscale": [
             [
              0,
              "#0d0887"
             ],
             [
              0.1111111111111111,
              "#46039f"
             ],
             [
              0.2222222222222222,
              "#7201a8"
             ],
             [
              0.3333333333333333,
              "#9c179e"
             ],
             [
              0.4444444444444444,
              "#bd3786"
             ],
             [
              0.5555555555555556,
              "#d8576b"
             ],
             [
              0.6666666666666666,
              "#ed7953"
             ],
             [
              0.7777777777777778,
              "#fb9f3a"
             ],
             [
              0.8888888888888888,
              "#fdca26"
             ],
             [
              1,
              "#f0f921"
             ]
            ],
            "type": "histogram2dcontour"
           }
          ],
          "mesh3d": [
           {
            "colorbar": {
             "outlinewidth": 0,
             "ticks": ""
            },
            "type": "mesh3d"
           }
          ],
          "parcoords": [
           {
            "line": {
             "colorbar": {
              "outlinewidth": 0,
              "ticks": ""
             }
            },
            "type": "parcoords"
           }
          ],
          "pie": [
           {
            "automargin": true,
            "type": "pie"
           }
          ],
          "scatter": [
           {
            "marker": {
             "colorbar": {
              "outlinewidth": 0,
              "ticks": ""
             }
            },
            "type": "scatter"
           }
          ],
          "scatter3d": [
           {
            "line": {
             "colorbar": {
              "outlinewidth": 0,
              "ticks": ""
             }
            },
            "marker": {
             "colorbar": {
              "outlinewidth": 0,
              "ticks": ""
             }
            },
            "type": "scatter3d"
           }
          ],
          "scattercarpet": [
           {
            "marker": {
             "colorbar": {
              "outlinewidth": 0,
              "ticks": ""
             }
            },
            "type": "scattercarpet"
           }
          ],
          "scattergeo": [
           {
            "marker": {
             "colorbar": {
              "outlinewidth": 0,
              "ticks": ""
             }
            },
            "type": "scattergeo"
           }
          ],
          "scattergl": [
           {
            "marker": {
             "colorbar": {
              "outlinewidth": 0,
              "ticks": ""
             }
            },
            "type": "scattergl"
           }
          ],
          "scattermapbox": [
           {
            "marker": {
             "colorbar": {
              "outlinewidth": 0,
              "ticks": ""
             }
            },
            "type": "scattermapbox"
           }
          ],
          "scatterpolar": [
           {
            "marker": {
             "colorbar": {
              "outlinewidth": 0,
              "ticks": ""
             }
            },
            "type": "scatterpolar"
           }
          ],
          "scatterpolargl": [
           {
            "marker": {
             "colorbar": {
              "outlinewidth": 0,
              "ticks": ""
             }
            },
            "type": "scatterpolargl"
           }
          ],
          "scatterternary": [
           {
            "marker": {
             "colorbar": {
              "outlinewidth": 0,
              "ticks": ""
             }
            },
            "type": "scatterternary"
           }
          ],
          "surface": [
           {
            "colorbar": {
             "outlinewidth": 0,
             "ticks": ""
            },
            "colorscale": [
             [
              0,
              "#0d0887"
             ],
             [
              0.1111111111111111,
              "#46039f"
             ],
             [
              0.2222222222222222,
              "#7201a8"
             ],
             [
              0.3333333333333333,
              "#9c179e"
             ],
             [
              0.4444444444444444,
              "#bd3786"
             ],
             [
              0.5555555555555556,
              "#d8576b"
             ],
             [
              0.6666666666666666,
              "#ed7953"
             ],
             [
              0.7777777777777778,
              "#fb9f3a"
             ],
             [
              0.8888888888888888,
              "#fdca26"
             ],
             [
              1,
              "#f0f921"
             ]
            ],
            "type": "surface"
           }
          ],
          "table": [
           {
            "cells": {
             "fill": {
              "color": "#EBF0F8"
             },
             "line": {
              "color": "white"
             }
            },
            "header": {
             "fill": {
              "color": "#C8D4E3"
             },
             "line": {
              "color": "white"
             }
            },
            "type": "table"
           }
          ]
         },
         "layout": {
          "annotationdefaults": {
           "arrowcolor": "#2a3f5f",
           "arrowhead": 0,
           "arrowwidth": 1
          },
          "autotypenumbers": "strict",
          "coloraxis": {
           "colorbar": {
            "outlinewidth": 0,
            "ticks": ""
           }
          },
          "colorscale": {
           "diverging": [
            [
             0,
             "#8e0152"
            ],
            [
             0.1,
             "#c51b7d"
            ],
            [
             0.2,
             "#de77ae"
            ],
            [
             0.3,
             "#f1b6da"
            ],
            [
             0.4,
             "#fde0ef"
            ],
            [
             0.5,
             "#f7f7f7"
            ],
            [
             0.6,
             "#e6f5d0"
            ],
            [
             0.7,
             "#b8e186"
            ],
            [
             0.8,
             "#7fbc41"
            ],
            [
             0.9,
             "#4d9221"
            ],
            [
             1,
             "#276419"
            ]
           ],
           "sequential": [
            [
             0,
             "#0d0887"
            ],
            [
             0.1111111111111111,
             "#46039f"
            ],
            [
             0.2222222222222222,
             "#7201a8"
            ],
            [
             0.3333333333333333,
             "#9c179e"
            ],
            [
             0.4444444444444444,
             "#bd3786"
            ],
            [
             0.5555555555555556,
             "#d8576b"
            ],
            [
             0.6666666666666666,
             "#ed7953"
            ],
            [
             0.7777777777777778,
             "#fb9f3a"
            ],
            [
             0.8888888888888888,
             "#fdca26"
            ],
            [
             1,
             "#f0f921"
            ]
           ],
           "sequentialminus": [
            [
             0,
             "#0d0887"
            ],
            [
             0.1111111111111111,
             "#46039f"
            ],
            [
             0.2222222222222222,
             "#7201a8"
            ],
            [
             0.3333333333333333,
             "#9c179e"
            ],
            [
             0.4444444444444444,
             "#bd3786"
            ],
            [
             0.5555555555555556,
             "#d8576b"
            ],
            [
             0.6666666666666666,
             "#ed7953"
            ],
            [
             0.7777777777777778,
             "#fb9f3a"
            ],
            [
             0.8888888888888888,
             "#fdca26"
            ],
            [
             1,
             "#f0f921"
            ]
           ]
          },
          "colorway": [
           "#636efa",
           "#EF553B",
           "#00cc96",
           "#ab63fa",
           "#FFA15A",
           "#19d3f3",
           "#FF6692",
           "#B6E880",
           "#FF97FF",
           "#FECB52"
          ],
          "font": {
           "color": "#2a3f5f"
          },
          "geo": {
           "bgcolor": "white",
           "lakecolor": "white",
           "landcolor": "#E5ECF6",
           "showlakes": true,
           "showland": true,
           "subunitcolor": "white"
          },
          "hoverlabel": {
           "align": "left"
          },
          "hovermode": "closest",
          "mapbox": {
           "style": "light"
          },
          "paper_bgcolor": "white",
          "plot_bgcolor": "#E5ECF6",
          "polar": {
           "angularaxis": {
            "gridcolor": "white",
            "linecolor": "white",
            "ticks": ""
           },
           "bgcolor": "#E5ECF6",
           "radialaxis": {
            "gridcolor": "white",
            "linecolor": "white",
            "ticks": ""
           }
          },
          "scene": {
           "xaxis": {
            "backgroundcolor": "#E5ECF6",
            "gridcolor": "white",
            "gridwidth": 2,
            "linecolor": "white",
            "showbackground": true,
            "ticks": "",
            "zerolinecolor": "white"
           },
           "yaxis": {
            "backgroundcolor": "#E5ECF6",
            "gridcolor": "white",
            "gridwidth": 2,
            "linecolor": "white",
            "showbackground": true,
            "ticks": "",
            "zerolinecolor": "white"
           },
           "zaxis": {
            "backgroundcolor": "#E5ECF6",
            "gridcolor": "white",
            "gridwidth": 2,
            "linecolor": "white",
            "showbackground": true,
            "ticks": "",
            "zerolinecolor": "white"
           }
          },
          "shapedefaults": {
           "line": {
            "color": "#2a3f5f"
           }
          },
          "ternary": {
           "aaxis": {
            "gridcolor": "white",
            "linecolor": "white",
            "ticks": ""
           },
           "baxis": {
            "gridcolor": "white",
            "linecolor": "white",
            "ticks": ""
           },
           "bgcolor": "#E5ECF6",
           "caxis": {
            "gridcolor": "white",
            "linecolor": "white",
            "ticks": ""
           }
          },
          "title": {
           "x": 0.05
          },
          "xaxis": {
           "automargin": true,
           "gridcolor": "white",
           "linecolor": "white",
           "ticks": "",
           "title": {
            "standoff": 15
           },
           "zerolinecolor": "white",
           "zerolinewidth": 2
          },
          "yaxis": {
           "automargin": true,
           "gridcolor": "white",
           "linecolor": "white",
           "ticks": "",
           "title": {
            "standoff": 15
           },
           "zerolinecolor": "white",
           "zerolinewidth": 2
          }
         }
        },
        "title": {
         "text": "Number of Competitors vs Number of Total Medals"
        },
        "xaxis": {
         "anchor": "y",
         "autorange": true,
         "domain": [
          0,
          0.235
         ],
         "range": [
          1.1449109170613163,
          2.939343542049912
         ],
         "title": {
          "text": "Total Number of Competitors"
         },
         "type": "log"
        },
        "xaxis2": {
         "anchor": "y2",
         "autorange": true,
         "domain": [
          0.255,
          0.49
         ],
         "matches": "x",
         "range": [
          1.1449109170613163,
          2.939343542049912
         ],
         "title": {
          "text": "Total Number of Competitors"
         },
         "type": "log"
        },
        "xaxis3": {
         "anchor": "y3",
         "autorange": true,
         "domain": [
          0.51,
          0.745
         ],
         "matches": "x",
         "range": [
          1.1449109170613163,
          2.939343542049912
         ],
         "title": {
          "text": "Total Number of Competitors"
         },
         "type": "log"
        },
        "xaxis4": {
         "anchor": "y4",
         "autorange": true,
         "domain": [
          0.7649999999999999,
          0.9999999999999999
         ],
         "matches": "x",
         "range": [
          1.1449109170613163,
          2.939343542049912
         ],
         "title": {
          "text": "Total Number of Competitors"
         },
         "type": "log"
        },
        "yaxis": {
         "anchor": "x",
         "autorange": true,
         "domain": [
          0,
          1
         ],
         "range": [
          -9.950941909726843,
          130.98280723078636
         ],
         "title": {
          "text": "Total Number of Medals"
         },
         "type": "linear"
        },
        "yaxis2": {
         "anchor": "x2",
         "autorange": true,
         "domain": [
          0,
          1
         ],
         "matches": "y",
         "range": [
          -9.950941909726843,
          130.98280723078636
         ],
         "showticklabels": false,
         "type": "linear"
        },
        "yaxis3": {
         "anchor": "x3",
         "autorange": true,
         "domain": [
          0,
          1
         ],
         "matches": "y",
         "range": [
          -9.950941909726843,
          130.98280723078636
         ],
         "showticklabels": false,
         "type": "linear"
        },
        "yaxis4": {
         "anchor": "x4",
         "autorange": true,
         "domain": [
          0,
          1
         ],
         "matches": "y",
         "range": [
          -9.950941909726843,
          130.98280723078636
         ],
         "showticklabels": false,
         "type": "linear"
        }
       }
      },
      "image/png": "[encoded data removed]",
      "text/html": [
       "<div>                            <div id=\"fb1207a0-e5c3-4aa9-83eb-ec6a58519da2\" class=\"plotly-graph-div\" style=\"height:525px; width:100%;\"></div>            <script type=\"text/javascript\">                require([\"plotly\"], function(Plotly) {                    window.PLOTLYENV=window.PLOTLYENV || {};                                    if (document.getElementById(\"fb1207a0-e5c3-4aa9-83eb-ec6a58519da2\")) {                    Plotly.newPlot(                        \"fb1207a0-e5c3-4aa9-83eb-ec6a58519da2\",                        [{\"customdata\":[[\"Argentina\"],[\"Australia\"],[\"Azerbaijan\"],[\"Bahamas\"],[\"Belarus\"],[\"Belgium\"],[\"Brazil\"],[\"Bulgaria\"],[\"Canada\"],[\"China\"],[\"Chinese Taipei\"],[\"Colombia\"],[\"Croatia\"],[\"Cuba\"],[\"Czech Republic\"],[\"Denmark\"],[\"Dominican Republic\"],[\"Egypt\"],[\"Estonia\"],[\"Ethiopia\"],[\"Finland\"],[\"France\"],[\"Georgia\"],[\"Germany\"],[\"Great Britain\"],[\"Greece\"],[\"Hungary\"],[\"India\"],[\"Indonesia\"],[\"Iran\"],[\"Italy\"],[\"Jamaica\"],[\"Japan\"],[\"Kazakhstan\"],[\"Kenya\"],[\"Lithuania\"],[\"Mexico\"],[\"Mongolia\"],[\"Morocco\"],[\"Netherlands\"],[\"New Zealand\"],[\"North Korea\"],[\"Norway\"],[\"Poland\"],[\"Portugal\"],[\"Romania\"],[\"Russia\"],[\"Slovakia\"],[\"Slovenia\"],[\"South Africa\"],[\"South Korea\"],[\"Spain\"],[\"Sweden\"],[\"Switzerland\"],[\"Thailand\"],[\"Trinidad and Tobago\"],[\"Turkey\"],[\"Ukraine\"],[\"United States\"],[\"Uzbekistan\"],[\"Venezuela\"]],\"hovertemplate\":\"Year=2004<br>Total Number of Competitors=%{x}<br>Total Number of Medals=%{y}<br>Country=%{customdata[0]}<extra></extra>\",\"legendgroup\":\"2004\",\"marker\":{\"color\":\"#636efa\",\"symbol\":\"circle\"},\"mode\":\"markers\",\"name\":\"2004\",\"orientation\":\"v\",\"showlegend\":true,\"x\":[152.0,470.0,36.0,22.0,151.0,50.0,243.0,95.0,263.0,384.0,88.0,53.0,81.0,151.0,142.0,92.0,33.0,97.0,42.0,26.0,53.0,308.0,32.0,441.0,264.0,426.0,209.0,73.0,38.0,37.0,364.0,47.0,306.0,114.0,46.0,59.0,109.0,20.0,55.0,210.0,148.0,36.0,52.0,194.0,81.0,108.0,446.0,64.0,79.0,106.0,264.0,317.0,115.0,98.0,42.0,19.0,64.0,239.0,533.0,69.0,48.0],\"xaxis\":\"x\",\"y\":[6.0,50.0,5.0,2.0,13.0,3.0,10.0,12.0,12.0,63.0,5.0,2.0,5.0,27.0,9.0,8.0,1.0,5.0,3.0,7.0,2.0,33.0,4.0,49.0,30.0,16.0,17.0,1.0,4.0,6.0,32.0,5.0,37.0,8.0,7.0,3.0,4.0,1.0,3.0,22.0,5.0,5.0,6.0,10.0,3.0,19.0,90.0,6.0,4.0,6.0,30.0,20.0,7.0,5.0,8.0,1.0,11.0,22.0,101.0,5.0,2.0],\"yaxis\":\"y\",\"type\":\"scatter\"},{\"hovertemplate\":\"<b>OLS trendline</b><br>Total = 0.128877 * Athletes + -4.30181<br>R<sup>2</sup>=0.734892<br><br>Year=2004<br>Total Number of Competitors=%{x}<br>Total Number of Medals=%{y} <b>(trend)</b><extra></extra>\",\"legendgroup\":\"2004\",\"marker\":{\"color\":\"#636efa\",\"symbol\":\"circle\"},\"mode\":\"lines\",\"name\":\"2004\",\"showlegend\":false,\"x\":[19.0,20.0,22.0,26.0,32.0,33.0,36.0,36.0,37.0,38.0,42.0,42.0,46.0,47.0,48.0,50.0,52.0,53.0,53.0,55.0,59.0,64.0,64.0,69.0,73.0,79.0,81.0,81.0,88.0,92.0,95.0,97.0,98.0,106.0,108.0,109.0,114.0,115.0,142.0,148.0,151.0,151.0,152.0,194.0,209.0,210.0,239.0,243.0,263.0,264.0,264.0,306.0,308.0,317.0,364.0,384.0,426.0,441.0,446.0,470.0,533.0],\"xaxis\":\"x\",\"y\":[-1.8531415482375757,-1.7242643481811712,-1.4665099480683628,-0.9510011478427449,-0.17773794750431904,-0.048860747447914576,0.3377708527212988,0.3377708527212988,0.4666480527777024,0.5955252528341068,1.1110340530597247,1.1110340530597247,1.6265428532853416,1.7554200533417461,1.8842972533981506,2.1420516535109595,2.3998060536237684,2.528683253680172,2.528683253680172,2.786437653792981,3.3019464540185988,3.94633245430062,3.94633245430062,4.5907184545826425,5.106227254808259,5.879490455146685,6.137244855259494,6.137244855259494,7.039385255654324,7.554894055879942,7.941525656049155,8.199280056161964,8.328157256218368,9.359174856669602,9.616929256782411,9.745806456838816,10.390192457120838,10.519069657177242,13.998754058700161,14.772017259038584,15.158648859207798,15.158648859207798,15.287526059264202,20.700368461633186,22.63352646247925,22.762403662535654,26.499842464171383,27.015351264396998,29.592895265525083,29.72177246558149,29.72177246558149,35.134614867950475,35.39236926806328,36.55226406857092,42.60949247122193,45.187036472350016,50.599878874718996,52.53303687556506,53.177422875847085,56.27047567720079,64.38973928075427],\"yaxis\":\"y\",\"type\":\"scatter\"},{\"customdata\":[[\"Argentina\"],[\"Australia\"],[\"Azerbaijan\"],[\"Bahamas\"],[\"Belarus\"],[\"Belgium\"],[\"Brazil\"],[\"Bulgaria\"],[\"Canada\"],[\"China\"],[\"Chinese Taipei\"],[\"Colombia\"],[\"Croatia\"],[\"Cuba\"],[\"Czech Republic\"],[\"Denmark\"],[\"Dominican Republic\"],[\"Egypt\"],[\"Estonia\"],[\"Ethiopia\"],[\"Finland\"],[\"France\"],[\"Georgia\"],[\"Germany\"],[\"Great Britain\"],[\"Greece\"],[\"Hungary\"],[\"India\"],[\"Indonesia\"],[\"Iran\"],[\"Italy\"],[\"Jamaica\"],[\"Japan\"],[\"Kazakhstan\"],[\"Kenya\"],[\"Lithuania\"],[\"Mexico\"],[\"Mongolia\"],[\"Morocco\"],[\"Netherlands\"],[\"New Zealand\"],[\"North Korea\"],[\"Norway\"],[\"Poland\"],[\"Portugal\"],[\"Romania\"],[\"Russia\"],[\"Slovakia\"],[\"Slovenia\"],[\"South Africa\"],[\"South Korea\"],[\"Spain\"],[\"Sweden\"],[\"Switzerland\"],[\"Thailand\"],[\"Trinidad and Tobago\"],[\"Turkey\"],[\"Ukraine\"],[\"United States\"],[\"Uzbekistan\"],[\"Venezuela\"]],\"hovertemplate\":\"Year=2008<br>Total Number of Competitors=%{x}<br>Total Number of Medals=%{y}<br>Country=%{customdata[0]}<extra></extra>\",\"legendgroup\":\"2008\",\"marker\":{\"color\":\"#EF553B\",\"symbol\":\"circle\"},\"mode\":\"markers\",\"name\":\"2008\",\"orientation\":\"v\",\"showlegend\":true,\"x\":[137.0,433.0,44.0,25.0,181.0,96.0,277.0,72.0,332.0,639.0,80.0,64.0,99.0,149.0,134.0,84.0,25.0,103.0,47.0,22.0,58.0,323.0,35.0,463.0,311.0,156.0,171.0,57.0,24.0,55.0,344.0,50.0,351.0,132.0,56.0,71.0,85.0,29.0,57.0,245.0,182.0,63.0,85.0,268.0,77.0,102.0,467.0,57.0,62.0,136.0,267.0,286.0,134.0,84.0,51.0,30.0,68.0,254.0,588.0,58.0,109.0],\"xaxis\":\"x2\",\"y\":[6.0,46.0,6.0,2.0,14.0,2.0,17.0,5.0,20.0,100.0,4.0,3.0,5.0,30.0,7.0,7.0,2.0,2.0,2.0,7.0,4.0,43.0,7.0,41.0,51.0,3.0,10.0,3.0,6.0,2.0,27.0,11.0,25.0,9.0,16.0,5.0,4.0,4.0,2.0,16.0,9.0,6.0,9.0,11.0,2.0,9.0,60.0,6.0,5.0,1.0,32.0,19.0,5.0,7.0,6.0,2.0,5.0,22.0,112.0,4.0,1.0],\"yaxis\":\"y2\",\"type\":\"scatter\"},{\"hovertemplate\":\"<b>OLS trendline</b><br>Total = 0.132426 * Athletes + -5.81763<br>R<sup>2</sup>=0.788082<br><br>Year=2008<br>Total Number of Competitors=%{x}<br>Total Number of Medals=%{y} <b>(trend)</b><extra></extra>\",\"legendgroup\":\"2008\",\"marker\":{\"color\":\"#EF553B\",\"symbol\":\"circle\"},\"mode\":\"lines\",\"name\":\"2008\",\"showlegend\":false,\"x\":[22.0,24.0,25.0,25.0,29.0,30.0,35.0,44.0,47.0,50.0,51.0,55.0,56.0,57.0,57.0,57.0,58.0,58.0,62.0,63.0,64.0,68.0,71.0,72.0,77.0,80.0,84.0,84.0,85.0,85.0,96.0,99.0,102.0,103.0,109.0,132.0,134.0,134.0,136.0,137.0,149.0,156.0,171.0,181.0,182.0,245.0,254.0,267.0,268.0,277.0,286.0,311.0,323.0,332.0,344.0,351.0,433.0,463.0,467.0,588.0,639.0],\"xaxis\":\"x2\",\"y\":[-2.904254452701184,-2.63940209434596,-2.506975915168348,-2.506975915168348,-1.9772711984579003,-1.8448450192802888,-1.1827141233922287,0.009121489206277644,0.4064000267391137,0.8036785642719497,0.9361047434495617,1.465809460160009,1.598235639337621,1.730661818515233,1.730661818515233,1.730661818515233,1.863087997692845,1.863087997692845,2.392792714403292,2.525218893580904,2.657645072758516,3.187349789468964,3.5846283270018002,3.7170545061794122,4.3791854020674705,4.776463939600307,5.306168656310755,5.306168656310755,5.438594835488367,5.438594835488367,6.895282806442097,7.292561343974933,7.689839881507769,7.822266060685381,8.616823135751051,11.662625256836126,11.92747761519135,11.92747761519135,12.192329973546574,12.324756152724184,13.913870302855528,14.84085355709881,16.82724624476299,18.15150803653911,18.28393421571672,26.62678350390627,27.81861911650478,29.54015944581373,29.672585624991346,30.86442123758985,32.05625685018836,35.36691132962865,36.95602547976,38.14786109235851,39.73697524248985,40.66395849673313,51.522905189297305,55.49569056462566,56.02539528133612,72.04896296182716,78.80269809988536],\"yaxis\":\"y2\",\"type\":\"scatter\"},{\"customdata\":[[\"Argentina\"],[\"Australia\"],[\"Azerbaijan\"],[\"Bahamas\"],[\"Belarus\"],[\"Belgium\"],[\"Brazil\"],[\"Bulgaria\"],[\"Canada\"],[\"China\"],[\"Chinese Taipei\"],[\"Colombia\"],[\"Croatia\"],[\"Cuba\"],[\"Czech Republic\"],[\"Denmark\"],[\"Dominican Republic\"],[\"Egypt\"],[\"Estonia\"],[\"Ethiopia\"],[\"Finland\"],[\"France\"],[\"Georgia\"],[\"Germany\"],[\"Great Britain\"],[\"Greece\"],[\"Hungary\"],[\"India\"],[\"Indonesia\"],[\"Iran\"],[\"Italy\"],[\"Jamaica\"],[\"Japan\"],[\"Kazakhstan\"],[\"Kenya\"],[\"Lithuania\"],[\"Mexico\"],[\"Mongolia\"],[\"Morocco\"],[\"Netherlands\"],[\"New Zealand\"],[\"North Korea\"],[\"Norway\"],[\"Poland\"],[\"Portugal\"],[\"Romania\"],[\"Russia\"],[\"Slovakia\"],[\"Slovenia\"],[\"South Africa\"],[\"South Korea\"],[\"Spain\"],[\"Sweden\"],[\"Switzerland\"],[\"Thailand\"],[\"Trinidad and Tobago\"],[\"Turkey\"],[\"Ukraine\"],[\"United States\"],[\"Uzbekistan\"],[\"Venezuela\"]],\"hovertemplate\":\"Year=2012<br>Total Number of Competitors=%{x}<br>Total Number of Medals=%{y}<br>Country=%{customdata[0]}<extra></extra>\",\"legendgroup\":\"2012\",\"marker\":{\"color\":\"#00cc96\",\"symbol\":\"circle\"},\"mode\":\"markers\",\"name\":\"2012\",\"orientation\":\"v\",\"showlegend\":true,\"x\":[137.0,410.0,53.0,24.0,165.0,115.0,258.0,63.0,277.0,396.0,44.0,104.0,108.0,110.0,133.0,113.0,35.0,113.0,33.0,35.0,55.0,330.0,35.0,392.0,541.0,104.0,157.0,83.0,22.0,53.0,285.0,50.0,293.0,114.0,47.0,62.0,102.0,29.0,67.0,175.0,184.0,51.0,64.0,218.0,77.0,103.0,436.0,47.0,65.0,125.0,248.0,282.0,134.0,102.0,37.0,30.0,114.0,237.0,530.0,54.0,70.0],\"xaxis\":\"x3\",\"y\":[4.0,35.0,9.0,1.0,10.0,3.0,17.0,3.0,18.0,91.0,2.0,9.0,6.0,15.0,11.0,9.0,2.0,4.0,2.0,8.0,3.0,35.0,6.0,44.0,65.0,2.0,18.0,6.0,3.0,13.0,28.0,12.0,38.0,11.0,13.0,5.0,8.0,5.0,1.0,20.0,13.0,7.0,4.0,11.0,1.0,7.0,67.0,4.0,4.0,6.0,30.0,20.0,8.0,4.0,4.0,4.0,3.0,19.0,104.0,3.0,1.0],\"yaxis\":\"y3\",\"type\":\"scatter\"},{\"hovertemplate\":\"<b>OLS trendline</b><br>Total = 0.142201 * Athletes + -5.75175<br>R<sup>2</sup>=0.780191<br><br>Year=2012<br>Total Number of Competitors=%{x}<br>Total Number of Medals=%{y} <b>(trend)</b><extra></extra>\",\"legendgroup\":\"2012\",\"marker\":{\"color\":\"#00cc96\",\"symbol\":\"circle\"},\"mode\":\"lines\",\"name\":\"2012\",\"showlegend\":false,\"x\":[22.0,24.0,29.0,30.0,33.0,35.0,35.0,35.0,37.0,44.0,47.0,47.0,50.0,51.0,53.0,53.0,54.0,55.0,62.0,63.0,64.0,65.0,67.0,70.0,77.0,83.0,102.0,102.0,103.0,104.0,104.0,108.0,110.0,113.0,113.0,114.0,114.0,115.0,125.0,133.0,134.0,137.0,157.0,165.0,175.0,184.0,218.0,237.0,248.0,258.0,277.0,282.0,285.0,293.0,330.0,392.0,396.0,410.0,436.0,530.0,541.0],\"xaxis\":\"x3\",\"y\":[-2.6233262768719716,-2.3389238248716575,-1.6279176948708738,-1.4857164688707165,-1.0591127908702456,-0.7747103388699319,-0.7747103388699319,-0.7747103388699319,-0.49030788686961824,0.5051006951314791,0.9317043731319501,0.9317043731319501,1.358308051132421,1.5005092771325774,1.784911729132891,1.784911729132891,1.9271129551330484,2.0693141811332048,3.064722763134302,3.2069239891344594,3.3491252151346167,3.491326441134774,3.7757288931350868,4.202332571135559,5.197741153136656,6.050948509137598,8.752771803140577,8.752771803140577,8.894973029140735,9.037174255140892,9.037174255140892,9.60597915914152,9.890381611141832,10.316985289142304,10.316985289142304,10.459186515142461,10.459186515142461,10.601387741142618,12.023400001144184,13.161009809145439,13.303211035145596,13.729814713146068,16.573839233149208,17.71144904115046,19.133461301152025,20.413272335153437,25.24811401915877,27.949937313161755,29.514150799163474,30.936163059165047,33.637986353168024,34.34899248316881,34.77559616116928,35.913205969170534,41.17465133117634,49.991127343186065,50.559932247186694,52.55074941118889,56.247981287192964,69.61489653120772,71.17911001720944],\"yaxis\":\"y3\",\"type\":\"scatter\"},{\"customdata\":[[\"Argentina\"],[\"Australia\"],[\"Azerbaijan\"],[\"Bahamas\"],[\"Belarus\"],[\"Belgium\"],[\"Brazil\"],[\"Bulgaria\"],[\"Canada\"],[\"China\"],[\"Chinese Taipei\"],[\"Colombia\"],[\"Croatia\"],[\"Cuba\"],[\"Czech Republic\"],[\"Denmark\"],[\"Dominican Republic\"],[\"Egypt\"],[\"Estonia\"],[\"Ethiopia\"],[\"Finland\"],[\"France\"],[\"Georgia\"],[\"Germany\"],[\"Great Britain\"],[\"Greece\"],[\"Hungary\"],[\"India\"],[\"Indonesia\"],[\"Iran\"],[\"Italy\"],[\"Jamaica\"],[\"Japan\"],[\"Kazakhstan\"],[\"Kenya\"],[\"Lithuania\"],[\"Mexico\"],[\"Mongolia\"],[\"Morocco\"],[\"Netherlands\"],[\"New Zealand\"],[\"North Korea\"],[\"Norway\"],[\"Poland\"],[\"Portugal\"],[\"Romania\"],[\"Russia\"],[\"Slovakia\"],[\"Slovenia\"],[\"South Africa\"],[\"South Korea\"],[\"Spain\"],[\"Sweden\"],[\"Switzerland\"],[\"Thailand\"],[\"Trinidad and Tobago\"],[\"Turkey\"],[\"Ukraine\"],[\"United States\"],[\"Uzbekistan\"],[\"Venezuela\"]],\"hovertemplate\":\"Year=2016<br>Total Number of Competitors=%{x}<br>Total Number of Medals=%{y}<br>Country=%{customdata[0]}<extra></extra>\",\"legendgroup\":\"2016\",\"marker\":{\"color\":\"#ab63fa\",\"symbol\":\"circle\"},\"mode\":\"markers\",\"name\":\"2016\",\"orientation\":\"v\",\"showlegend\":true,\"x\":[213.0,421.0,56.0,28.0,121.0,108.0,465.0,51.0,314.0,413.0,60.0,147.0,87.0,120.0,105.0,122.0,29.0,120.0,45.0,34.0,56.0,399.0,39.0,425.0,366.0,95.0,160.0,117.0,28.0,64.0,314.0,68.0,338.0,104.0,89.0,67.0,125.0,43.0,51.0,242.0,199.0,35.0,62.0,243.0,92.0,97.0,282.0,51.0,61.0,137.0,205.0,306.0,152.0,104.0,54.0,32.0,103.0,203.0,554.0,70.0,87.0],\"xaxis\":\"x4\",\"y\":[4.0,29.0,18.0,2.0,9.0,6.0,19.0,3.0,22.0,70.0,3.0,8.0,10.0,11.0,10.0,15.0,1.0,3.0,1.0,8.0,1.0,42.0,7.0,42.0,67.0,6.0,15.0,2.0,3.0,8.0,28.0,11.0,41.0,17.0,13.0,4.0,5.0,2.0,1.0,19.0,18.0,7.0,4.0,11.0,1.0,4.0,56.0,4.0,4.0,10.0,21.0,17.0,11.0,7.0,6.0,1.0,8.0,11.0,121.0,13.0,3.0],\"yaxis\":\"y4\",\"type\":\"scatter\"},{\"hovertemplate\":\"<b>OLS trendline</b><br>Total = 0.127726 * Athletes + -4.48874<br>R<sup>2</sup>=0.651686<br><br>Year=2016<br>Total Number of Competitors=%{x}<br>Total Number of Medals=%{y} <b>(trend)</b><extra></extra>\",\"legendgroup\":\"2016\",\"marker\":{\"color\":\"#ab63fa\",\"symbol\":\"circle\"},\"mode\":\"lines\",\"name\":\"2016\",\"showlegend\":false,\"x\":[28.0,28.0,29.0,32.0,34.0,35.0,39.0,43.0,45.0,51.0,51.0,51.0,54.0,56.0,56.0,60.0,61.0,62.0,64.0,67.0,68.0,70.0,87.0,87.0,89.0,92.0,95.0,97.0,103.0,104.0,104.0,105.0,108.0,117.0,120.0,120.0,121.0,122.0,125.0,137.0,147.0,152.0,160.0,199.0,203.0,205.0,213.0,242.0,243.0,282.0,306.0,314.0,314.0,338.0,366.0,399.0,413.0,421.0,425.0,465.0,554.0],\"xaxis\":\"x4\",\"y\":[-0.9124177410011876,-0.9124177410011876,-0.7846918632696265,-0.4015142300749437,-0.14606247461182154,-0.01833659688026046,0.49256691404598296,1.0034704249722273,1.2589221804353485,2.025277446824715,2.025277446824715,2.025277446824715,2.4084550800193973,2.6639068354825195,2.6639068354825195,3.174810346408763,3.302536224140324,3.430262101871885,3.6857138573350072,4.06889149052969,4.1966173682612515,4.452069123724374,6.623409045160909,6.623409045160909,6.8788608006240315,7.262038433818714,7.645216067013398,7.900667822476518,8.667023088865886,8.794748966597446,8.794748966597446,8.922474844329006,9.30565247752369,10.455185377107739,10.83836301030242,10.83836301030242,10.966088888033983,11.093814765765543,11.476992398960228,13.009702931738957,14.286961709054566,14.92559109771237,15.947398119564859,20.92870735109574,21.43961086202198,21.695062617485103,22.71686963933759,26.42092009355286,26.54864597128442,31.529955202815298,34.59537626837276,35.61718329022525,35.61718329022525,38.682604355782715,42.25892893226642,46.47388289740793,48.26204518564979,49.28385220750228,49.79475571842852,54.903790827690955,66.27139394579989],\"yaxis\":\"y4\",\"type\":\"scatter\"}],                        {\"template\":{\"data\":{\"bar\":[{\"error_x\":{\"color\":\"#2a3f5f\"},\"error_y\":{\"color\":\"#2a3f5f\"},\"marker\":{\"line\":{\"color\":\"#E5ECF6\",\"width\":0.5},\"pattern\":{\"fillmode\":\"overlay\",\"size\":10,\"solidity\":0.2}},\"type\":\"bar\"}],\"barpolar\":[{\"marker\":{\"line\":{\"color\":\"#E5ECF6\",\"width\":0.5},\"pattern\":{\"fillmode\":\"overlay\",\"size\":10,\"solidity\":0.2}},\"type\":\"barpolar\"}],\"carpet\":[{\"aaxis\":{\"endlinecolor\":\"#2a3f5f\",\"gridcolor\":\"white\",\"linecolor\":\"white\",\"minorgridcolor\":\"white\",\"startlinecolor\":\"#2a3f5f\"},\"baxis\":{\"endlinecolor\":\"#2a3f5f\",\"gridcolor\":\"white\",\"linecolor\":\"white\",\"minorgridcolor\":\"white\",\"startlinecolor\":\"#2a3f5f\"},\"type\":\"carpet\"}],\"choropleth\":[{\"colorbar\":{\"outlinewidth\":0,\"ticks\":\"\"},\"type\":\"choropleth\"}],\"contour\":[{\"colorbar\":{\"outlinewidth\":0,\"ticks\":\"\"},\"colorscale\":[[0.0,\"#0d0887\"],[0.1111111111111111,\"#46039f\"],[0.2222222222222222,\"#7201a8\"],[0.3333333333333333,\"#9c179e\"],[0.4444444444444444,\"#bd3786\"],[0.5555555555555556,\"#d8576b\"],[0.6666666666666666,\"#ed7953\"],[0.7777777777777778,\"#fb9f3a\"],[0.8888888888888888,\"#fdca26\"],[1.0,\"#f0f921\"]],\"type\":\"contour\"}],\"contourcarpet\":[{\"colorbar\":{\"outlinewidth\":0,\"ticks\":\"\"},\"type\":\"contourcarpet\"}],\"heatmap\":[{\"colorbar\":{\"outlinewidth\":0,\"ticks\":\"\"},\"colorscale\":[[0.0,\"#0d0887\"],[0.1111111111111111,\"#46039f\"],[0.2222222222222222,\"#7201a8\"],[0.3333333333333333,\"#9c179e\"],[0.4444444444444444,\"#bd3786\"],[0.5555555555555556,\"#d8576b\"],[0.6666666666666666,\"#ed7953\"],[0.7777777777777778,\"#fb9f3a\"],[0.8888888888888888,\"#fdca26\"],[1.0,\"#f0f921\"]],\"type\":\"heatmap\"}],\"heatmapgl\":[{\"colorbar\":{\"outlinewidth\":0,\"ticks\":\"\"},\"colorscale\":[[0.0,\"#0d0887\"],[0.1111111111111111,\"#46039f\"],[0.2222222222222222,\"#7201a8\"],[0.3333333333333333,\"#9c179e\"],[0.4444444444444444,\"#bd3786\"],[0.5555555555555556,\"#d8576b\"],[0.6666666666666666,\"#ed7953\"],[0.7777777777777778,\"#fb9f3a\"],[0.8888888888888888,\"#fdca26\"],[1.0,\"#f0f921\"]],\"type\":\"heatmapgl\"}],\"histogram\":[{\"marker\":{\"pattern\":{\"fillmode\":\"overlay\",\"size\":10,\"solidity\":0.2}},\"type\":\"histogram\"}],\"histogram2d\":[{\"colorbar\":{\"outlinewidth\":0,\"ticks\":\"\"},\"colorscale\":[[0.0,\"#0d0887\"],[0.1111111111111111,\"#46039f\"],[0.2222222222222222,\"#7201a8\"],[0.3333333333333333,\"#9c179e\"],[0.4444444444444444,\"#bd3786\"],[0.5555555555555556,\"#d8576b\"],[0.6666666666666666,\"#ed7953\"],[0.7777777777777778,\"#fb9f3a\"],[0.8888888888888888,\"#fdca26\"],[1.0,\"#f0f921\"]],\"type\":\"histogram2d\"}],\"histogram2dcontour\":[{\"colorbar\":{\"outlinewidth\":0,\"ticks\":\"\"},\"colorscale\":[[0.0,\"#0d0887\"],[0.1111111111111111,\"#46039f\"],[0.2222222222222222,\"#7201a8\"],[0.3333333333333333,\"#9c179e\"],[0.4444444444444444,\"#bd3786\"],[0.5555555555555556,\"#d8576b\"],[0.6666666666666666,\"#ed7953\"],[0.7777777777777778,\"#fb9f3a\"],[0.8888888888888888,\"#fdca26\"],[1.0,\"#f0f921\"]],\"type\":\"histogram2dcontour\"}],\"mesh3d\":[{\"colorbar\":{\"outlinewidth\":0,\"ticks\":\"\"},\"type\":\"mesh3d\"}],\"parcoords\":[{\"line\":{\"colorbar\":{\"outlinewidth\":0,\"ticks\":\"\"}},\"type\":\"parcoords\"}],\"pie\":[{\"automargin\":true,\"type\":\"pie\"}],\"scatter\":[{\"marker\":{\"colorbar\":{\"outlinewidth\":0,\"ticks\":\"\"}},\"type\":\"scatter\"}],\"scatter3d\":[{\"line\":{\"colorbar\":{\"outlinewidth\":0,\"ticks\":\"\"}},\"marker\":{\"colorbar\":{\"outlinewidth\":0,\"ticks\":\"\"}},\"type\":\"scatter3d\"}],\"scattercarpet\":[{\"marker\":{\"colorbar\":{\"outlinewidth\":0,\"ticks\":\"\"}},\"type\":\"scattercarpet\"}],\"scattergeo\":[{\"marker\":{\"colorbar\":{\"outlinewidth\":0,\"ticks\":\"\"}},\"type\":\"scattergeo\"}],\"scattergl\":[{\"marker\":{\"colorbar\":{\"outlinewidth\":0,\"ticks\":\"\"}},\"type\":\"scattergl\"}],\"scattermapbox\":[{\"marker\":{\"colorbar\":{\"outlinewidth\":0,\"ticks\":\"\"}},\"type\":\"scattermapbox\"}],\"scatterpolar\":[{\"marker\":{\"colorbar\":{\"outlinewidth\":0,\"ticks\":\"\"}},\"type\":\"scatterpolar\"}],\"scatterpolargl\":[{\"marker\":{\"colorbar\":{\"outlinewidth\":0,\"ticks\":\"\"}},\"type\":\"scatterpolargl\"}],\"scatterternary\":[{\"marker\":{\"colorbar\":{\"outlinewidth\":0,\"ticks\":\"\"}},\"type\":\"scatterternary\"}],\"surface\":[{\"colorbar\":{\"outlinewidth\":0,\"ticks\":\"\"},\"colorscale\":[[0.0,\"#0d0887\"],[0.1111111111111111,\"#46039f\"],[0.2222222222222222,\"#7201a8\"],[0.3333333333333333,\"#9c179e\"],[0.4444444444444444,\"#bd3786\"],[0.5555555555555556,\"#d8576b\"],[0.6666666666666666,\"#ed7953\"],[0.7777777777777778,\"#fb9f3a\"],[0.8888888888888888,\"#fdca26\"],[1.0,\"#f0f921\"]],\"type\":\"surface\"}],\"table\":[{\"cells\":{\"fill\":{\"color\":\"#EBF0F8\"},\"line\":{\"color\":\"white\"}},\"header\":{\"fill\":{\"color\":\"#C8D4E3\"},\"line\":{\"color\":\"white\"}},\"type\":\"table\"}]},\"layout\":{\"annotationdefaults\":{\"arrowcolor\":\"#2a3f5f\",\"arrowhead\":0,\"arrowwidth\":1},\"autotypenumbers\":\"strict\",\"coloraxis\":{\"colorbar\":{\"outlinewidth\":0,\"ticks\":\"\"}},\"colorscale\":{\"diverging\":[[0,\"#8e0152\"],[0.1,\"#c51b7d\"],[0.2,\"#de77ae\"],[0.3,\"#f1b6da\"],[0.4,\"#fde0ef\"],[0.5,\"#f7f7f7\"],[0.6,\"#e6f5d0\"],[0.7,\"#b8e186\"],[0.8,\"#7fbc41\"],[0.9,\"#4d9221\"],[1,\"#276419\"]],\"sequential\":[[0.0,\"#0d0887\"],[0.1111111111111111,\"#46039f\"],[0.2222222222222222,\"#7201a8\"],[0.3333333333333333,\"#9c179e\"],[0.4444444444444444,\"#bd3786\"],[0.5555555555555556,\"#d8576b\"],[0.6666666666666666,\"#ed7953\"],[0.7777777777777778,\"#fb9f3a\"],[0.8888888888888888,\"#fdca26\"],[1.0,\"#f0f921\"]],\"sequentialminus\":[[0.0,\"#0d0887\"],[0.1111111111111111,\"#46039f\"],[0.2222222222222222,\"#7201a8\"],[0.3333333333333333,\"#9c179e\"],[0.4444444444444444,\"#bd3786\"],[0.5555555555555556,\"#d8576b\"],[0.6666666666666666,\"#ed7953\"],[0.7777777777777778,\"#fb9f3a\"],[0.8888888888888888,\"#fdca26\"],[1.0,\"#f0f921\"]]},\"colorway\":[\"#636efa\",\"#EF553B\",\"#00cc96\",\"#ab63fa\",\"#FFA15A\",\"#19d3f3\",\"#FF6692\",\"#B6E880\",\"#FF97FF\",\"#FECB52\"],\"font\":{\"color\":\"#2a3f5f\"},\"geo\":{\"bgcolor\":\"white\",\"lakecolor\":\"white\",\"landcolor\":\"#E5ECF6\",\"showlakes\":true,\"showland\":true,\"subunitcolor\":\"white\"},\"hoverlabel\":{\"align\":\"left\"},\"hovermode\":\"closest\",\"mapbox\":{\"style\":\"light\"},\"paper_bgcolor\":\"white\",\"plot_bgcolor\":\"#E5ECF6\",\"polar\":{\"angularaxis\":{\"gridcolor\":\"white\",\"linecolor\":\"white\",\"ticks\":\"\"},\"bgcolor\":\"#E5ECF6\",\"radialaxis\":{\"gridcolor\":\"white\",\"linecolor\":\"white\",\"ticks\":\"\"}},\"scene\":{\"xaxis\":{\"backgroundcolor\":\"#E5ECF6\",\"gridcolor\":\"white\",\"gridwidth\":2,\"linecolor\":\"white\",\"showbackground\":true,\"ticks\":\"\",\"zerolinecolor\":\"white\"},\"yaxis\":{\"backgroundcolor\":\"#E5ECF6\",\"gridcolor\":\"white\",\"gridwidth\":2,\"linecolor\":\"white\",\"showbackground\":true,\"ticks\":\"\",\"zerolinecolor\":\"white\"},\"zaxis\":{\"backgroundcolor\":\"#E5ECF6\",\"gridcolor\":\"white\",\"gridwidth\":2,\"linecolor\":\"white\",\"showbackground\":true,\"ticks\":\"\",\"zerolinecolor\":\"white\"}},\"shapedefaults\":{\"line\":{\"color\":\"#2a3f5f\"}},\"ternary\":{\"aaxis\":{\"gridcolor\":\"white\",\"linecolor\":\"white\",\"ticks\":\"\"},\"baxis\":{\"gridcolor\":\"white\",\"linecolor\":\"white\",\"ticks\":\"\"},\"bgcolor\":\"#E5ECF6\",\"caxis\":{\"gridcolor\":\"white\",\"linecolor\":\"white\",\"ticks\":\"\"}},\"title\":{\"x\":0.05},\"xaxis\":{\"automargin\":true,\"gridcolor\":\"white\",\"linecolor\":\"white\",\"ticks\":\"\",\"title\":{\"standoff\":15},\"zerolinecolor\":\"white\",\"zerolinewidth\":2},\"yaxis\":{\"automargin\":true,\"gridcolor\":\"white\",\"linecolor\":\"white\",\"ticks\":\"\",\"title\":{\"standoff\":15},\"zerolinecolor\":\"white\",\"zerolinewidth\":2}}},\"xaxis\":{\"anchor\":\"y\",\"domain\":[0.0,0.235],\"title\":{\"text\":\"Total Number of Competitors\"},\"type\":\"log\"},\"yaxis\":{\"anchor\":\"x\",\"domain\":[0.0,1.0],\"title\":{\"text\":\"Total Number of Medals\"}},\"xaxis2\":{\"anchor\":\"y2\",\"domain\":[0.255,0.49],\"matches\":\"x\",\"title\":{\"text\":\"Total Number of Competitors\"},\"type\":\"log\"},\"yaxis2\":{\"anchor\":\"x2\",\"domain\":[0.0,1.0],\"matches\":\"y\",\"showticklabels\":false},\"xaxis3\":{\"anchor\":\"y3\",\"domain\":[0.51,0.745],\"matches\":\"x\",\"title\":{\"text\":\"Total Number of Competitors\"},\"type\":\"log\"},\"yaxis3\":{\"anchor\":\"x3\",\"domain\":[0.0,1.0],\"matches\":\"y\",\"showticklabels\":false},\"xaxis4\":{\"anchor\":\"y4\",\"domain\":[0.7649999999999999,0.9999999999999999],\"matches\":\"x\",\"title\":{\"text\":\"Total Number of Competitors\"},\"type\":\"log\"},\"yaxis4\":{\"anchor\":\"x4\",\"domain\":[0.0,1.0],\"matches\":\"y\",\"showticklabels\":false},\"annotations\":[{\"font\":{},\"showarrow\":false,\"text\":\"Year=2004\",\"x\":0.1175,\"xanchor\":\"center\",\"xref\":\"paper\",\"y\":1.0,\"yanchor\":\"bottom\",\"yref\":\"paper\"},{\"font\":{},\"showarrow\":false,\"text\":\"Year=2008\",\"x\":0.3725,\"xanchor\":\"center\",\"xref\":\"paper\",\"y\":1.0,\"yanchor\":\"bottom\",\"yref\":\"paper\"},{\"font\":{},\"showarrow\":false,\"text\":\"Year=2012\",\"x\":0.6275,\"xanchor\":\"center\",\"xref\":\"paper\",\"y\":1.0,\"yanchor\":\"bottom\",\"yref\":\"paper\"},{\"font\":{},\"showarrow\":false,\"text\":\"Year=2016\",\"x\":0.8824999999999998,\"xanchor\":\"center\",\"xref\":\"paper\",\"y\":1.0,\"yanchor\":\"bottom\",\"yref\":\"paper\"}],\"legend\":{\"title\":{\"text\":\"Year\"},\"tracegroupgap\":0},\"title\":{\"text\":\"Number of Competitors vs Number of Total Medals\"}},                        {\"responsive\": true}                    ).then(function(){\n",
       "                            \n",
       "var gd = document.getElementById('fb1207a0-e5c3-4aa9-83eb-ec6a58519da2');\n",
       "var x = new MutationObserver(function (mutations, observer) {{\n",
       "        var display = window.getComputedStyle(gd).display;\n",
       "        if (!display || display === 'none') {{\n",
       "            console.log([gd, 'removed!']);\n",
       "            Plotly.purge(gd);\n",
       "            observer.disconnect();\n",
       "        }}\n",
       "}});\n",
       "\n",
       "// Listen for the removal of the full notebook cells\n",
       "var notebookContainer = gd.closest('#notebook-container');\n",
       "if (notebookContainer) {{\n",
       "    x.observe(notebookContainer, {childList: true});\n",
       "}}\n",
       "\n",
       "// Listen for the clearing of the current output cell\n",
       "var outputEl = gd.closest('.output');\n",
       "if (outputEl) {{\n",
       "    x.observe(outputEl, {childList: true});\n",
       "}}\n",
       "\n",
       "                        })                };                });            </script>        </div>"
      ]
     },
     "metadata": {},
     "output_type": "display_data"
    }
   ],
   "source": [
    "medals_plot(od, \"Athletes\", \"Total\")"
   ]
  },
  {
   "cell_type": "markdown",
   "id": "9d59195f-be0c-4375-aed0-24af23b1e41c",
   "metadata": {},
   "source": [
    "# 4. Interpretation"
   ]
  },
  {
   "cell_type": "code",
   "execution_count": null,
   "id": "f00ed7fa-3f0a-4842-8165-73ca5c2e9219",
   "metadata": {},
   "outputs": [],
   "source": []
  },
  {
   "cell_type": "markdown",
   "id": "daf21ff9-ce49-4fbf-881f-428c992c82a4",
   "metadata": {},
   "source": [
    "# 5. Sources\n",
    "\n",
    "[1] https://en.wikipedia.org/wiki/Summer_Olympic_Games"
   ]
  },
  {
   "cell_type": "code",
   "execution_count": null,
   "id": "f1afacb1-bbac-406d-bd11-d7fca229bfdd",
   "metadata": {},
   "outputs": [],
   "source": []
  }
 ],
 "metadata": {
  "kernelspec": {
   "display_name": "Python 3 (ipykernel)",
   "language": "python",
   "name": "python3"
  },
  "language_info": {
   "codemirror_mode": {
    "name": "ipython",
    "version": 3
   },
   "file_extension": ".py",
   "mimetype": "text/x-python",
   "name": "python",
   "nbconvert_exporter": "python",
   "pygments_lexer": "ipython3",
   "version": "3.9.7"
  }
 },
 "nbformat": 4,
 "nbformat_minor": 5
}
