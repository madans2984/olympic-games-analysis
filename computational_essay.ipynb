{
 "cells": [
  {
   "cell_type": "markdown",
   "id": "12a064df-98eb-40c0-92d4-67b40dbddefa",
   "metadata": {},
   "source": [
    "# Is Success in the Summer Olympic Games More Dependent on a Country's Population or Wealth?\n",
    "\n",
    "**Authors**: Jules Brettle, Shree Madan, Anusha Karandikar"
   ]
  },
  {
   "cell_type": "markdown",
   "id": "b2bd00b6-385f-4848-a773-b436448bf09b",
   "metadata": {},
   "source": [
    "Run the code below each time the notebook is started or restarted to ensure that if you change any code in the library, this notebook will use the latest version of the library code."
   ]
  },
  {
   "cell_type": "code",
   "execution_count": 2,
   "id": "5c8f5ee3-5c07-4a68-bed0-65dd2d2a1d17",
   "metadata": {},
   "outputs": [
    {
     "name": "stdout",
     "output_type": "stream",
     "text": [
      "The autoreload extension is already loaded. To reload it, use:\n",
      "  %reload_ext autoreload\n"
     ]
    }
   ],
   "source": [
    "%load_ext autoreload\n",
    "%autoreload 2\n",
    "import pandas as pd # library for data analysis\n",
    "import requests # library to handle requests\n",
    "from bs4 import BeautifulSoup # library to parse HTML documents\n",
    "import matplotlib.pyplot as plt\n",
    "import plotly.express as px\n",
    "from helpers import *\n",
    "from vis_helpers import *"
   ]
  },
  {
   "cell_type": "markdown",
   "id": "ddddb91e-8aeb-4347-b780-0fbad36252f3",
   "metadata": {},
   "source": [
    "# 1. Introduction\n",
    "\n",
    "## 1.1 Background Information\n",
    "\n",
    "The Summer Olympic Games are an international multi-sport event typically held every four years [1]. Each sporting event awards gold, silver, and bronze medals for first, second, and third place respectively.\n",
    "\n",
    "## 1.2 Primary Question\n",
    "\n",
    "The goal of this project is to answer the following question: Can success in the Summer Olympic games be predicted more accurately based on a country’s population or GDP per capita?"
   ]
  },
  {
   "cell_type": "markdown",
   "id": "8c31ef1b-1cdd-436b-bf19-b743afbc38a8",
   "metadata": {},
   "source": [
    "# 2. Methodology\n",
    "\n",
    "## 2.1 Data\n",
    "\n",
    "We chose to use Wikipedia to get data for ease of scraping and because we found it had the most thorough data. We used Wikipedia to obtain our data for Olympic medals from every Summer Olympics from 2004 to 2016 for each country participating. We also used corresponding population and GDP per capita data from Wikipedia. Wikipedia has population data from the United Status Census Bureau for every 5 years, so since the Summer Olympics occur every 4 years, we used the closest year's population data. Our GDP per capita data comes from the International Monetary Fund's (IMF) yearly estimates based on Purchasing Power Parity (PPP) from Wikipedia as well.\n",
    "\n",
    "### 2.1.1 Web Scraping\n",
    "\n",
    "To obtain our data, we used the python libraries **Beautiful_Soup** to parse HTML documents, **Requests** to handle requests, and **Pandas** for data analysis. In `helpers.py`, we use the function `table_scrape`, which takes in the url of a Wikipedia page and returns, by default, the first table of the page. We can also change the input to obtain another table on the page."
   ]
  },
  {
   "cell_type": "code",
   "execution_count": 1,
   "id": "f9454c04-a466-4b23-a87a-13726b348b67",
   "metadata": {},
   "outputs": [],
   "source": [
    "def table_scrape(url, index=0):\n",
    "    \"\"\"\n",
    "    This functions takes a string representing the url of a wikipedia article\n",
    "    and by default returns the first table on the page. If there are multiple\n",
    "    tables and the return needs to be modified the index is an integer which\n",
    "    represents the index of the table which needs to be scraped.\n",
    "    \n",
    "    Args:\n",
    "        url: string representing the url of a wikipedia article\n",
    "        index: index of the table on the wikipedia page\n",
    "\n",
    "    Returns:\n",
    "        pandas dataframe consisting of data in the wikitable\n",
    "    \"\"\"\n",
    "    wikiurl=url\n",
    "    table_class=\"wikitable sortable jquery-tablesorter\"\n",
    "    response=requests.get(wikiurl)\n",
    "    # status code must be 200 to legally scrape\n",
    "    if response.status_code == 200:\n",
    "        # parse data from the html into a beautifulsoup object\n",
    "        soup = BeautifulSoup(response.text, 'html.parser')\n",
    "        tables=soup.findAll('table',{'class':\"wikitable\"})\n",
    "        df=pd.read_html(str(tables[index]))\n",
    "        # convert list to dataframe\n",
    "        df=pd.DataFrame(df[0])\n",
    "        return df\n",
    "    else:\n",
    "        print(\"Error: This table should not be scraped due to its status code.\")"
   ]
  },
  {
   "cell_type": "markdown",
   "id": "3ddcccf4-5668-4c35-99ba-f11d78135233",
   "metadata": {},
   "source": [
    "### 2.1.2 Cleaning\n",
    "\n",
    "Also in `helpers.py`, we use the function `medal_clean`, which takes in a data frame and cleans it by renaming and removing certain columns."
   ]
  },
  {
   "cell_type": "code",
   "execution_count": 2,
   "id": "a6168843-2047-455e-a77b-6d5e763f57cf",
   "metadata": {},
   "outputs": [],
   "source": [
    "def medal_clean(df, year):\n",
    "    \"\"\"\n",
    "    This functions takes in a data frame of the medals tables from wikipedia\n",
    "    and cleans it to be easier to read.\n",
    "\n",
    "    Args:\n",
    "        df: data frame containing medals table from wikipedia\n",
    "        year: integer representing the year of the olympic games\n",
    "\n",
    "    Returns:\n",
    "        cleaned dataframe\n",
    "    \"\"\"\n",
    "    # renaming columns to have the year in the title\n",
    "    df.rename(columns = {\"Gold\" : f\"Gold-{year}\", \"Silver\" : f\"Silver-{year}\",\n",
    "                         \"Bronze\" : f\"Bronze-{year}\",\n",
    "                         \"Total\" : f\"Total-{year}\"}, inplace = True)\n",
    "    # dropping rank column because it's not relevant for our question\n",
    "    df.drop([\"Rank\"], axis = 1, inplace = True)\n",
    "    # removing final row containing total number of countries\n",
    "    df = df[:-1]\n",
    "    return df"
   ]
  },
  {
   "cell_type": "markdown",
   "id": "e88fb5ca-f8fa-4065-9763-056b8f5b1370",
   "metadata": {},
   "source": [
    "We decided to merge our dataframes for medals, population, and GDP per capita to make creating visualizations easier. This required making some changes to our data; for example, we removed Independent Olympic Athletes (IOC) from our medals dataframe since the IOC does not ave any population and GDP data. Some countries also compete under different names; for example, the United Kingdom completes under the name Great Britain and Taiwan competes under Chinsest Taipei. In the original Wikipedia page, host countries also had an asterisk beside the name, which we removed."
   ]
  },
  {
   "cell_type": "markdown",
   "id": "efbe889b-126a-4870-8025-d78f24671ec9",
   "metadata": {},
   "source": [
    "## 2.2 Visualizations"
   ]
  },
  {
   "cell_type": "markdown",
   "id": "23f27f7f-18ba-4fa9-a70c-876f5d734823",
   "metadata": {},
   "source": [
    "# 3. Results"
   ]
  },
  {
   "cell_type": "markdown",
   "id": "9d59195f-be0c-4375-aed0-24af23b1e41c",
   "metadata": {},
   "source": [
    "# 4. Interpretation"
   ]
  },
  {
   "cell_type": "markdown",
   "id": "daf21ff9-ce49-4fbf-881f-428c992c82a4",
   "metadata": {},
   "source": [
    "# 5. Sources\n",
    "\n",
    "[1] https://en.wikipedia.org/wiki/Summer_Olympic_Games"
   ]
  },
  {
   "cell_type": "code",
   "execution_count": null,
   "id": "f1afacb1-bbac-406d-bd11-d7fca229bfdd",
   "metadata": {},
   "outputs": [],
   "source": []
  }
 ],
 "metadata": {
  "kernelspec": {
   "display_name": "Python 3 (ipykernel)",
   "language": "python",
   "name": "python3"
  },
  "language_info": {
   "codemirror_mode": {
    "name": "ipython",
    "version": 3
   },
   "file_extension": ".py",
   "mimetype": "text/x-python",
   "name": "python",
   "nbconvert_exporter": "python",
   "pygments_lexer": "ipython3",
   "version": "3.9.7"
  }
 },
 "nbformat": 4,
 "nbformat_minor": 5
}
